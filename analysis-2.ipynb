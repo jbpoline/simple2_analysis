{
 "cells": [
  {
   "cell_type": "markdown",
   "metadata": {},
   "source": [
    "# wrangling with the csv"
   ]
  },
  {
   "cell_type": "code",
   "execution_count": 1,
   "metadata": {},
   "outputs": [],
   "source": [
    "import pandas as pd\n",
    "import numpy as np\n",
    "# import statsmodels.discrete.discrete_model as sm\n",
    "import statsmodels as stt\n",
    "import scipy.stats as sst\n",
    "import os.path as osp"
   ]
  },
  {
   "cell_type": "code",
   "execution_count": 2,
   "metadata": {},
   "outputs": [],
   "source": [
    "from statsmodels import api as sm\n",
    "import statsmodels.formula.api as smf\n",
    "import matplotlib.pyplot as plt\n",
    "import json\n",
    "%matplotlib inline"
   ]
  },
  {
   "cell_type": "markdown",
   "metadata": {},
   "source": [
    "### read the mapping file to find the correspondance between uberon numbers and labels"
   ]
  },
  {
   "cell_type": "code",
   "execution_count": 3,
   "metadata": {},
   "outputs": [],
   "source": [
    "# find mapping file\n",
    "# mapping_file = '../segstats_jsonld/segstats_jsonld/mapping_data/freesurfermap.json'\n",
    "mapping_file = '../segstats_jsonld/segstats_jsonld/mapping_data/freesurfer-cdes.json'\n",
    "assert osp.exists(mapping_file)\n",
    "with open(mapping_file, \"r\") as read_file:\n",
    "    roi_map = json.load(read_file)"
   ]
  },
  {
   "cell_type": "code",
   "execution_count": 4,
   "metadata": {},
   "outputs": [
    {
     "name": "stdout",
     "output_type": "stream",
     "text": [
      "3580\n",
      "['count', \"FS(structure='Cortex', hemi=None, measure='NumVert', unit='unitless')\", \"FS(structure='Cortex', hemi=None, measure='WhiteSurfArea', unit='mm^2')\", \"FS(structure='BrainSeg', hemi=None, measure='BrainSegVol', unit='mm^3')\", \"FS(structure='BrainSegNotVent', hemi=None, measure='BrainSegVolNotVent', unit='mm^3')\", \"FS(structure='BrainSegNotVentSurf', hemi=None, measure='BrainSegVolNotVentSurf', unit='mm^3')\", \"FS(structure='Cortex', hemi=None, measure='CortexVol', unit='mm^3')\", \"FS(structure='SupraTentorial', hemi=None, measure='SupraTentorialVol', unit='mm^3')\", \"FS(structure='SupraTentorialNotVent', hemi=None, measure='SupraTentorialVolNotVent', unit='mm^3')\", \"FS(structure='EstimatedTotalIntraCranialVol', hemi=None, measure='eTIV', unit='mm^3')\"]\n",
      "{'id': '000010', 'structure_id': 410, 'label': 'Right BA1_exvivo NumVert', 'description': 'Right BA1_exvivo Number of Vertices (unitless)', 'key_source': 'Table', 'measureOf': 'http://uri.interlex.org/base/ilx_0112559', 'datumType': 'http://uri.interlex.org/base/ilx_0102597', 'hasUnit': 'vertex', 'fsunit': 'unitless'}\n"
     ]
    }
   ],
   "source": [
    "print(len(list(roi_map.keys())))\n",
    "print(list(roi_map.keys())[:10])\n",
    "#print(list(roi_map['Anatomy'].keys())[:10])\n",
    "#print(len(roi_map['Anatomy'].keys()))\n",
    "print(roi_map[list(roi_map.keys())[10]])"
   ]
  },
  {
   "cell_type": "code",
   "execution_count": 5,
   "metadata": {},
   "outputs": [
    {
     "name": "stdout",
     "output_type": "stream",
     "text": [
      "<class 'dict'>\n"
     ]
    }
   ],
   "source": [
    "for k,v in roi_map.items():\n",
    "    # print(k,\"->\",v)\n",
    "    pass\n",
    "v = {1:2}\n",
    "print(type(v))\n"
   ]
  },
  {
   "cell_type": "code",
   "execution_count": 6,
   "metadata": {},
   "outputs": [
    {
     "name": "stdout",
     "output_type": "stream",
     "text": [
      "[]\n",
      "262 262\n"
     ]
    }
   ],
   "source": [
    "# ube is a dictionary that maps uberon to label of structure\n",
    "ube = {}\n",
    "ebu = {}\n",
    "countok=0\n",
    "has_no_isAbout = []\n",
    "has_no_label = []\n",
    "\n",
    "for (k,v) in roi_map.items():\n",
    "    if k == 'count': pass\n",
    "\n",
    "    # v is a dict that contains the CDE - check that we have a isAbout\n",
    "    #if ('isAbout' not in v) or (v['isAbout'] == '') or (v['isAbout'] in ('None','none')):\n",
    "    #    has_no_isAbout.append(k)\n",
    "    #    break\n",
    "        \n",
    "    elif 'isAbout' in v:\n",
    "        countok += 1\n",
    "        if 'label' in v:\n",
    "            if v['label'] != '' and v['label'] not in ('None','none'):\n",
    "                #ube['<' + v['isAbout'] + '>'] = v['label']\n",
    "                #ebu[v['label']] = '<' + v['isAbout'] + '>'\n",
    "                ebu[v['label']] = v['isAbout']\n",
    "                if v['isAbout'] not in ube.keys():\n",
    "                    no_right_or_left = v['label']\n",
    "                    no_right_or_left = no_right_or_left.replace('Right-','')\n",
    "                    no_right_or_left = no_right_or_left.replace('Right ','')\n",
    "                    no_right_or_left = no_right_or_left.replace('Left-','')\n",
    "                    no_right_or_left = no_right_or_left.replace('Left ','')\n",
    "                    no_right_or_left = no_right_or_left.replace(' NVoxels','')\n",
    "                    no_right_or_left = no_right_or_left.replace(' (mm^3)','')\n",
    "                    ube[v['isAbout']] = no_right_or_left\n",
    "            else:\n",
    "                has_no_label.append(k)\n",
    "\n",
    "print(has_no_isAbout)\n",
    "#print(ube)\n",
    "#print(ebu)\n",
    "print(countok , len(ebu))"
   ]
  },
  {
   "cell_type": "code",
   "execution_count": 12,
   "metadata": {},
   "outputs": [
    {
     "data": {
      "text/plain": [
       "{'http://purl.obolibrary.org/obo/UBERON_0000956': 'Number of Vertices',\n",
       " 'http://purl.obolibrary.org/obo/UBERON_0000955': 'Brain Segmentation Volume',\n",
       " 'http://purl.obolibrary.org/obo/UBERON_0001869': 'Supratentorial volume',\n",
       " 'http://purl.obolibrary.org/obo/UBERON_0013411': 'Estimated Total Intracranial Volume',\n",
       " 'http://purl.obolibrary.org/obo/UBERON_0002437': 'hemisphere cerebral white matter volume',\n",
       " 'http://purl.obolibrary.org/obo/UBERON_0005401': 'Total gray matter volume',\n",
       " 'http://purl.obolibrary.org/obo/UBERON_0002285': 'Lateral-Ventricle',\n",
       " 'http://purl.obolibrary.org/obo/UBERON_0006091': 'Inf-Lat-Vent',\n",
       " 'http://purl.obolibrary.org/obo/UBERON_0002317': 'Cerebellum-White-Matter',\n",
       " 'http://purl.obolibrary.org/obo/UBERON_0002129': 'Cerebellum-Cortex',\n",
       " 'http://purl.obolibrary.org/obo/UBERON_0001897': 'Thalamus-Proper',\n",
       " 'http://purl.obolibrary.org/obo/UBERON_0001873': 'Caudate',\n",
       " 'http://purl.obolibrary.org/obo/UBERON_0001874': 'Putamen',\n",
       " 'http://purl.obolibrary.org/obo/UBERON_0006514': 'Pallidum',\n",
       " 'http://purl.obolibrary.org/obo/UBERON_0002286': '3rd-Ventricle',\n",
       " 'http://purl.obolibrary.org/obo/UBERON_0002422': '4th-Ventricle',\n",
       " 'http://purl.obolibrary.org/obo/UBERON_0002298': 'Brain-Stem',\n",
       " 'http://purl.obolibrary.org/obo/UBERON_0001954': 'Hippocampus',\n",
       " 'http://purl.obolibrary.org/obo/UBERON_0001876': 'Amygdala',\n",
       " 'http://purl.obolibrary.org/obo/UBERON_0001359': 'CSF',\n",
       " 'http://purl.obolibrary.org/obo/UBERON_0001882': 'Accumbens-area',\n",
       " 'http://purl.obolibrary.org/obo/UBERON_0001981': 'vessel',\n",
       " 'http://purl.obolibrary.org/obo/UBERON_0001886': 'choroid-plexus',\n",
       " 'http://purl.obolibrary.org/obo/UBERON_0009857': '5th-Ventricle',\n",
       " 'http://purl.obolibrary.org/obo/UBERON_0000959': 'Optic-Chiasm',\n",
       " 'http://purl.obolibrary.org/obo/UBERON_0015708': 'CC_Posterior',\n",
       " 'http://purl.obolibrary.org/obo/UBERON_0002336': 'CC_Central',\n",
       " 'http://purl.obolibrary.org/obo/UBERON_0015599': 'CC_Anterior'}"
      ]
     },
     "execution_count": 12,
     "metadata": {},
     "output_type": "execute_result"
    }
   ],
   "source": [
    "ube"
   ]
  },
  {
   "cell_type": "code",
   "execution_count": 13,
   "metadata": {},
   "outputs": [],
   "source": [
    "#\n",
    "\"\"\"\n",
    "ube = {}\n",
    "has_no_isAbout = []\n",
    "for (k,v) in roi_map['Anatomy'].items():\n",
    "    if v['isAbout'] != '' or v['isAbout'] in ('None','none'):\n",
    "        if v['label'] != '' and v['label'] not in ('None','none'):\n",
    "            ube['<' + v['isAbout'] + '>'] = v['label']\n",
    "        else:\n",
    "            if '<' + v['isAbout'] + '>' not in ube.keys():\n",
    "                if v['hasLaterality'] in ('Right','Left'):\n",
    "                    ube['<' + v['isAbout'] + '>'] = 'strip-Right-Left-of-'+k\n",
    "                else:\n",
    "                    ube['<' + v['isAbout'] + '>'] = k\n",
    "    else:\n",
    "        #print(k, 'has no isAbout')\n",
    "        has_no_isAbout.append(k)\n",
    "print(has_no_isAbout)\n",
    "\"\"\";"
   ]
  },
  {
   "cell_type": "code",
   "execution_count": 14,
   "metadata": {},
   "outputs": [
    {
     "data": {
      "text/plain": [
       "[('http://purl.obolibrary.org/obo/UBERON_0000956', 'Number of Vertices'),\n",
       " ('http://purl.obolibrary.org/obo/UBERON_0000955',\n",
       "  'Brain Segmentation Volume'),\n",
       " ('http://purl.obolibrary.org/obo/UBERON_0001869', 'Supratentorial volume'),\n",
       " ('http://purl.obolibrary.org/obo/UBERON_0013411',\n",
       "  'Estimated Total Intracranial Volume'),\n",
       " ('http://purl.obolibrary.org/obo/UBERON_0002437',\n",
       "  'hemisphere cerebral white matter volume')]"
      ]
     },
     "execution_count": 14,
     "metadata": {},
     "output_type": "execute_result"
    }
   ],
   "source": [
    "list(zip(list(ube)[:5],list(ube.values())[:5]))"
   ]
  },
  {
   "cell_type": "markdown",
   "metadata": {},
   "source": [
    "### Read CSV file "
   ]
  },
  {
   "cell_type": "code",
   "execution_count": 15,
   "metadata": {},
   "outputs": [
    {
     "name": "stdout",
     "output_type": "stream",
     "text": [
      "/home/jb/code/repronim/simple2/simple2_analysis\n"
     ]
    }
   ],
   "source": [
    "print(osp.realpath(osp.curdir))\n",
    "relative_path_filename = './data/data.csv'\n",
    "assert osp.exists(relative_path_filename)"
   ]
  },
  {
   "cell_type": "code",
   "execution_count": 16,
   "metadata": {},
   "outputs": [
    {
     "name": "stdout",
     "output_type": "stream",
     "text": [
      "['rowid', 'study', 'ID', 'Age', 'dx', 'Gender', 'FIQ', 'PIQ', 'VIQ', 'tool', 'softwareLabel', 'federatedLabel', 'laterality', 'volume']\n"
     ]
    }
   ],
   "source": [
    "hie = pd.read_csv(relative_path_filename, na_values='nd') #, low_memory=False)\n",
    "original_col_names = list(hie)\n",
    "print(original_col_names)\n",
    "assert len(original_col_names) == len(set(original_col_names))\n"
   ]
  },
  {
   "cell_type": "code",
   "execution_count": 17,
   "metadata": {},
   "outputs": [],
   "source": [
    "# col_rename = {'softwareLabel':'software', 'federatedLabel':'structure'}\n",
    "col_rename = {'federatedLabel':'structure'}\n",
    "hie.rename(columns=col_rename, inplace=True)"
   ]
  },
  {
   "cell_type": "code",
   "execution_count": 22,
   "metadata": {},
   "outputs": [
    {
     "name": "stdout",
     "output_type": "stream",
     "text": [
      "{nan, 'http://purl.obolibrary.org/obo/UBERON_0002336', 'http://purl.obolibrary.org/obo/UBERON_0002286', 'http://purl.obolibrary.org/obo/UBERON_0001981', 'http://purl.obolibrary.org/obo/UBERON_0000959', 'http://purl.obolibrary.org/obo/UBERON_0015708', 'http://purl.obolibrary.org/obo/UBERON_0001886', 'http://purl.obolibrary.org/obo/UBERON_0001897', 'http://purl.obolibrary.org/obo/UBERON_0001954', 'http://purl.obolibrary.org/obo/UBERON_0015599', 'http://purl.obolibrary.org/obo/UBERON_0002285', 'http://purl.obolibrary.org/obo/UBERON_0001869', 'http://purl.obolibrary.org/obo/UBERON_0000956', 'http://purl.obolibrary.org/obo/UBERON_0000955', 'http://purl.obolibrary.org/obo/UBERON_0006091', 'http://purl.obolibrary.org/obo/UBERON_0005401', 'http://purl.obolibrary.org/obo/UBERON_0002298', 'http://purl.obolibrary.org/obo/UBERON_0002129', 'http://purl.obolibrary.org/obo/UBERON_0013411', 'http://purl.obolibrary.org/obo/UBERON_0001359', 'http://purl.obolibrary.org/obo/UBERON_0009857', 'http://purl.obolibrary.org/obo/UBERON_0001874', 'http://purl.obolibrary.org/obo/UBERON_0006514', 'http://purl.obolibrary.org/obo/UBERON_0002422', 'http://purl.obolibrary.org/obo/UBERON_0001873', 'http://purl.obolibrary.org/obo/UBERON_0001882', 'http://purl.obolibrary.org/obo/UBERON_0002437', 'http://purl.obolibrary.org/obo/UBERON_0002317', 'http://purl.obolibrary.org/obo/UBERON_0001876'}\n"
     ]
    }
   ],
   "source": [
    "# Structure in the csv should contain the uberon identifier for the structure\n",
    "structures = set(hie.structure)\n",
    "print(structures)"
   ]
  },
  {
   "cell_type": "code",
   "execution_count": 19,
   "metadata": {},
   "outputs": [
    {
     "name": "stdout",
     "output_type": "stream",
     "text": [
      "1 http://purl.obolibrary.org/obo/UBERON_0002336 CC_Central\n",
      "2 http://purl.obolibrary.org/obo/UBERON_0002286 3rd-Ventricle\n",
      "3 http://purl.obolibrary.org/obo/UBERON_0001981 vessel\n",
      "4 http://purl.obolibrary.org/obo/UBERON_0000959 Optic-Chiasm\n",
      "5 http://purl.obolibrary.org/obo/UBERON_0015708 CC_Posterior\n",
      "6 http://purl.obolibrary.org/obo/UBERON_0001886 choroid-plexus\n",
      "7 http://purl.obolibrary.org/obo/UBERON_0001897 Thalamus-Proper\n",
      "8 http://purl.obolibrary.org/obo/UBERON_0001954 Hippocampus\n",
      "9 http://purl.obolibrary.org/obo/UBERON_0015599 CC_Anterior\n",
      "10 http://purl.obolibrary.org/obo/UBERON_0002285 Lateral-Ventricle\n",
      "11 http://purl.obolibrary.org/obo/UBERON_0001869 Supratentorial volume\n",
      "12 http://purl.obolibrary.org/obo/UBERON_0000956 Number of Vertices\n",
      "13 http://purl.obolibrary.org/obo/UBERON_0000955 Brain Segmentation Volume\n",
      "14 http://purl.obolibrary.org/obo/UBERON_0006091 Inf-Lat-Vent\n",
      "15 http://purl.obolibrary.org/obo/UBERON_0005401 Total gray matter volume\n",
      "16 http://purl.obolibrary.org/obo/UBERON_0002298 Brain-Stem\n",
      "17 http://purl.obolibrary.org/obo/UBERON_0002129 Cerebellum-Cortex\n",
      "18 http://purl.obolibrary.org/obo/UBERON_0013411 Estimated Total Intracranial Volume\n",
      "19 http://purl.obolibrary.org/obo/UBERON_0001359 CSF\n",
      "20 http://purl.obolibrary.org/obo/UBERON_0009857 5th-Ventricle\n",
      "21 http://purl.obolibrary.org/obo/UBERON_0001874 Putamen\n",
      "22 http://purl.obolibrary.org/obo/UBERON_0006514 Pallidum\n",
      "23 http://purl.obolibrary.org/obo/UBERON_0002422 4th-Ventricle\n",
      "24 http://purl.obolibrary.org/obo/UBERON_0001873 Caudate\n",
      "25 http://purl.obolibrary.org/obo/UBERON_0001882 Accumbens-area\n",
      "26 http://purl.obolibrary.org/obo/UBERON_0002437 hemisphere cerebral white matter volume\n",
      "27 http://purl.obolibrary.org/obo/UBERON_0002317 Cerebellum-White-Matter\n",
      "28 http://purl.obolibrary.org/obo/UBERON_0001876 Amygdala\n"
     ]
    },
    {
     "data": {
      "text/plain": [
       "(28, 28)"
      ]
     },
     "execution_count": 19,
     "metadata": {},
     "output_type": "execute_result"
    }
   ],
   "source": [
    "# for each structure found in the csv, give it the name of the structure found\n",
    "# in the CDE mapping file \n",
    "\n",
    "ube2h = {}\n",
    "\n",
    "for idx, s in enumerate(structures):\n",
    "    if s is not np.nan:\n",
    "        ube2h[s] = ube[s]\n",
    "        print(idx, s, ube2h[s])\n",
    "\n",
    "len(ube), len(ube2h)"
   ]
  },
  {
   "cell_type": "code",
   "execution_count": 23,
   "metadata": {},
   "outputs": [],
   "source": [
    "\"\"\"\n",
    "looking at the class name from the purl urls I got :\n",
    "\n",
    "u2human[list(u2human.keys())[0]] = 'cavum septum pellucidum'\n",
    "u2human[list(u2human.keys())[1]] = 'cerebellum'\n",
    "u2human[list(u2human.keys())[2]] = 'cerebellar cortex'\n",
    "u2human[list(u2human.keys())[3]] = 'perivascular space'\n",
    "u2human[list(u2human.keys())[4]] = \"Ammon's horn\"\n",
    "u2human[list(u2human.keys())[5]] = \"inferior horn of the lateral ventricle\"\n",
    "u2human[list(u2human.keys())[6]] = \"brainstem\"\n",
    "u2human[list(u2human.keys())[7]] = \"amygdala\"\n",
    "u2human[list(u2human.keys())[8]] = \"optic chiasma\"\n",
    "u2human[list(u2human.keys())[9]] = \"dorsal plus ventral thalamus\"\n",
    "u2human[list(u2human.keys())[10]] = \"cerebral hemisphere\"\n",
    "u2human[list(u2human.keys())[11]] = \"caudate nucleus\"\n",
    "u2human[list(u2human.keys())[12]] = \"telencephalic ventricle\"\n",
    "u2human[list(u2human.keys())[13]] = \"putamen\"\n",
    "u2human[list(u2human.keys())[14]] = \"third ventricle\"\n",
    "u2human[list(u2human.keys())[15]] = \"choroid plexus\"\n",
    "u2human[list(u2human.keys())[16]] = \"fourth ventricle\"\n",
    "u2human[list(u2human.keys())[17]] = \"pallidum\"\n",
    "u2human[list(u2human.keys())[18]] = \"nucleus accumbens\"\n",
    "\"\"\";"
   ]
  },
  {
   "cell_type": "code",
   "execution_count": 33,
   "metadata": {},
   "outputs": [
    {
     "data": {
      "text/plain": [
       "set()"
      ]
     },
     "execution_count": 33,
     "metadata": {},
     "output_type": "execute_result"
    }
   ],
   "source": [
    "set1 = {'<http://purl.obolibrary.org/obo/UBERON_0000959>', \n",
    "'<http://purl.obolibrary.org/obo/UBERON_0002422>', \n",
    "'<http://purl.obolibrary.org/obo/UBERON_0009857>', \n",
    "'<http://purl.obolibrary.org/obo/UBERON_0001869>', \n",
    "'<http://purl.obolibrary.org/obo/UBERON_0002129>', \n",
    "'<http://purl.obolibrary.org/obo/UBERON_0001882>', \n",
    "'<http://purl.obolibrary.org/obo/UBERON_0001886>', \n",
    "'<http://purl.obolibrary.org/obo/UBERON_0006091>', \n",
    "'<http://purl.obolibrary.org/obo/UBERON_0002286>', \n",
    "'<http://purl.obolibrary.org/obo/UBERON_0002298>', \n",
    "'<http://purl.obolibrary.org/obo/UBERON_0001897>', \n",
    "'<http://purl.obolibrary.org/obo/UBERON_0001954>', \n",
    "'<http://purl.obolibrary.org/obo/UBERON_0001873>', \n",
    "'<http://purl.obolibrary.org/obo/UBERON_0014930>', \n",
    "'<http://purl.obolibrary.org/obo/UBERON_0001874>', \n",
    "'<http://purl.obolibrary.org/obo/UBERON_0001876>', \n",
    "'<http://purl.obolibrary.org/obo/UBERON_0006514>', \n",
    "'<http://purl.obolibrary.org/obo/UBERON_0002037>', \n",
    "'<http://purl.obolibrary.org/obo/UBERON_0002285>'};\n",
    "set2 = set(ube2h.keys())\n",
    "set3 = set(ube.keys())\n",
    "#set1 ^ set2\n",
    "#set2 ^ set3\n",
    "set(ube.values()) ^ set(ube2h.values())"
   ]
  },
  {
   "cell_type": "code",
   "execution_count": 34,
   "metadata": {},
   "outputs": [],
   "source": [
    "h2ube = {v: k for k, v in ube2h.items()}\n",
    "#print(h2uberon)"
   ]
  },
  {
   "cell_type": "code",
   "execution_count": 35,
   "metadata": {},
   "outputs": [
    {
     "name": "stdout",
     "output_type": "stream",
     "text": [
      "{'http://stnava.github.io/ANTs/', 'https://surfer.nmr.mgh.harvard.edu/', 'http://purl.org/nidash/fsl#'}\n",
      "{'surfer': 'https://surfer.nmr.mgh.harvard.edu/', 'fsl': 'http://purl.org/nidash/fsl#', 'ants': 'http://stnava.github.io/ANTs/'}\n",
      "{'https://surfer.nmr.mgh.harvard.edu/': 'surfer', 'http://purl.org/nidash/fsl#': 'fsl', 'http://stnava.github.io/ANTs/': 'ants'}\n"
     ]
    }
   ],
   "source": []
  },
  {
   "cell_type": "code",
   "execution_count": 36,
   "metadata": {
    "scrolled": false
   },
   "outputs": [
    {
     "data": {
      "text/html": [
       "<div>\n",
       "<style scoped>\n",
       "    .dataframe tbody tr th:only-of-type {\n",
       "        vertical-align: middle;\n",
       "    }\n",
       "\n",
       "    .dataframe tbody tr th {\n",
       "        vertical-align: top;\n",
       "    }\n",
       "\n",
       "    .dataframe thead th {\n",
       "        text-align: right;\n",
       "    }\n",
       "</style>\n",
       "<table border=\"1\" class=\"dataframe\">\n",
       "  <thead>\n",
       "    <tr style=\"text-align: right;\">\n",
       "      <th></th>\n",
       "      <th>rowid</th>\n",
       "      <th>study</th>\n",
       "      <th>ID</th>\n",
       "      <th>Age</th>\n",
       "      <th>dx</th>\n",
       "      <th>Gender</th>\n",
       "      <th>FIQ</th>\n",
       "      <th>PIQ</th>\n",
       "      <th>VIQ</th>\n",
       "      <th>tool</th>\n",
       "      <th>softwareLabel</th>\n",
       "      <th>structure</th>\n",
       "      <th>laterality</th>\n",
       "      <th>volume</th>\n",
       "    </tr>\n",
       "  </thead>\n",
       "  <tbody>\n",
       "    <tr>\n",
       "      <th>0</th>\n",
       "      <td>0</td>\n",
       "      <td>ABIDE SDSU Site</td>\n",
       "      <td>50215</td>\n",
       "      <td>16.88</td>\n",
       "      <td>2</td>\n",
       "      <td>Female</td>\n",
       "      <td>117.0</td>\n",
       "      <td>120.0</td>\n",
       "      <td>110.0</td>\n",
       "      <td>https://surfer.nmr.mgh.harvard.edu/</td>\n",
       "      <td>Right-Thalamus-Proper Volume_mm3 (mm^3)</td>\n",
       "      <td>http://purl.obolibrary.org/obo/UBERON_0001897</td>\n",
       "      <td>Right</td>\n",
       "      <td>7041.7</td>\n",
       "    </tr>\n",
       "    <tr>\n",
       "      <th>1</th>\n",
       "      <td>1</td>\n",
       "      <td>ABIDE SDSU Site</td>\n",
       "      <td>50215</td>\n",
       "      <td>16.88</td>\n",
       "      <td>2</td>\n",
       "      <td>Female</td>\n",
       "      <td>117.0</td>\n",
       "      <td>120.0</td>\n",
       "      <td>110.0</td>\n",
       "      <td>https://surfer.nmr.mgh.harvard.edu/</td>\n",
       "      <td>5th-Ventricle Volume_mm3 (mm^3)</td>\n",
       "      <td>http://purl.obolibrary.org/obo/UBERON_0009857</td>\n",
       "      <td>NaN</td>\n",
       "      <td>0.0</td>\n",
       "    </tr>\n",
       "    <tr>\n",
       "      <th>2</th>\n",
       "      <td>2</td>\n",
       "      <td>ABIDE SDSU Site</td>\n",
       "      <td>50215</td>\n",
       "      <td>16.88</td>\n",
       "      <td>2</td>\n",
       "      <td>Female</td>\n",
       "      <td>117.0</td>\n",
       "      <td>120.0</td>\n",
       "      <td>110.0</td>\n",
       "      <td>https://surfer.nmr.mgh.harvard.edu/</td>\n",
       "      <td>Left-non-WM-hypointensities Volume_mm3 (mm^3)</td>\n",
       "      <td>NaN</td>\n",
       "      <td>Left</td>\n",
       "      <td>0.0</td>\n",
       "    </tr>\n",
       "  </tbody>\n",
       "</table>\n",
       "</div>"
      ],
      "text/plain": [
       "   rowid            study     ID    Age dx  Gender    FIQ    PIQ    VIQ  \\\n",
       "0      0  ABIDE SDSU Site  50215  16.88  2  Female  117.0  120.0  110.0   \n",
       "1      1  ABIDE SDSU Site  50215  16.88  2  Female  117.0  120.0  110.0   \n",
       "2      2  ABIDE SDSU Site  50215  16.88  2  Female  117.0  120.0  110.0   \n",
       "\n",
       "                                  tool  \\\n",
       "0  https://surfer.nmr.mgh.harvard.edu/   \n",
       "1  https://surfer.nmr.mgh.harvard.edu/   \n",
       "2  https://surfer.nmr.mgh.harvard.edu/   \n",
       "\n",
       "                                   softwareLabel  \\\n",
       "0        Right-Thalamus-Proper Volume_mm3 (mm^3)   \n",
       "1                5th-Ventricle Volume_mm3 (mm^3)   \n",
       "2  Left-non-WM-hypointensities Volume_mm3 (mm^3)   \n",
       "\n",
       "                                       structure laterality  volume  \n",
       "0  http://purl.obolibrary.org/obo/UBERON_0001897      Right  7041.7  \n",
       "1  http://purl.obolibrary.org/obo/UBERON_0009857        NaN     0.0  \n",
       "2                                            NaN       Left     0.0  "
      ]
     },
     "execution_count": 36,
     "metadata": {},
     "output_type": "execute_result"
    }
   ],
   "source": [
    "hie.head(3)"
   ]
  },
  {
   "cell_type": "code",
   "execution_count": null,
   "metadata": {},
   "outputs": [],
   "source": []
  },
  {
   "cell_type": "markdown",
   "metadata": {},
   "source": [
    "## hypotheses"
   ]
  },
  {
   "cell_type": "markdown",
   "metadata": {},
   "source": [
    "Hypotheses\n",
    "\n",
    "PIET-1: Total Brain Volume will positively correlate with IQ (in both sexes across the complete age range).\n",
    "\n",
    "MAC-1: Left striatum volume (caudate + putamen) will positively correlate with IQ in the total (male + female) child (age < 20) group.\n",
    "\n",
    "MAC-2: Left striatum volume (caudate + putamen) will positively correlate with IQ in the male children group.\n",
    "\n",
    "MAC-3: Left striatum volume (caudate + putamen) will not correlate with IQ in the female children group.\n",
    "\n",
    "MAC-3: Left striatum volume (caudate + putamen) will not correlate with IQ in the female children group.\n",
    "\n",
    "GANJ-1: Total Corpus Callosum midsagittal area, after correcting for total brain volume, will negatively correlate with IQ.\n",
    "\n",
    "GANJ-2: Total Corpus Callosum midsagittal area, after correcting for total brain volume, will negatively correlate with IQ in the young (age < 12) group.\n",
    "\n",
    "GANJ-3: Total Corpus Callosum midsagittal area, after correcting for total brain volume, will not significantly correlate with IQ in the adolescent (age > 12) group.\n",
    "\n",
    "GANJ-4:. Total Corpus Callosum midsagittal area, after correcting for total brain volume, will negatively correlate with IQ in the male (age < 12) group.\n",
    "\n",
    "GANJ-5: Total Corpus Callosum midsagittal area, after correcting for total brain volume, will not significantly correlate with IQ in the female (age < 12) group.\n"
   ]
  },
  {
   "cell_type": "code",
   "execution_count": null,
   "metadata": {},
   "outputs": [],
   "source": []
  },
  {
   "cell_type": "markdown",
   "metadata": {},
   "source": [
    "## Analyses"
   ]
  },
  {
   "cell_type": "markdown",
   "metadata": {},
   "source": [
    "### sandbox"
   ]
  },
  {
   "cell_type": "code",
   "execution_count": 40,
   "metadata": {},
   "outputs": [
    {
     "name": "stdout",
     "output_type": "stream",
     "text": [
      "http://purl.obolibrary.org/obo/UBERON_0001873\n"
     ]
    }
   ],
   "source": [
    "u_caudate = h2ube['Caudate']\n",
    "print(u_caudate)"
   ]
  },
  {
   "cell_type": "code",
   "execution_count": 41,
   "metadata": {},
   "outputs": [
    {
     "data": {
      "text/plain": [
       "{'Female', 'Male'}"
      ]
     },
     "execution_count": 41,
     "metadata": {},
     "output_type": "execute_result"
    }
   ],
   "source": [
    "set(hie['Gender'])"
   ]
  },
  {
   "cell_type": "code",
   "execution_count": 42,
   "metadata": {},
   "outputs": [],
   "source": [
    "# df.loc[(df['column_name'] >= A) & (df['column_name'] <= B)]\n",
    "\n",
    "# tmp = hie[hie.structure==u_caudate][hie.Gender=='1']\n",
    "# tmp = hie.loc[(hie['Gender']=='1')] # & (hie['Gender']=='Male')]\n",
    "\n",
    "# Male or '1' for caudate\n",
    "#tmp = hie.loc[((hie['Gender']=='1') | (hie['Gender']=='Male')) \n",
    "tmp = hie.loc[( hie['Gender']=='Male' ) \n",
    "                    & (hie['structure'] == u_caudate ) \n",
    "                    & (hie['tool']==tooldic['surfer'])]\n"
   ]
  },
  {
   "cell_type": "code",
   "execution_count": 49,
   "metadata": {},
   "outputs": [
    {
     "name": "stdout",
     "output_type": "stream",
     "text": [
      "['rowid', 'study', 'ID', 'Age', 'dx', 'Gender', 'FIQ', 'PIQ', 'VIQ', 'tool', 'softwareLabel', 'structure', 'laterality', 'volume']\n",
      "\n",
      "\n",
      "{'http://stnava.github.io/ANTs/', 'https://surfer.nmr.mgh.harvard.edu/', 'http://purl.org/nidash/fsl#'}\n",
      "{nan, 1, 2, 'ADHD-Combined', 'LD, CD, Tics', 'ODD   ', 'SAD (previous)', 'enuresis', 'LD', '2', 'LD, ODD', 'ODD', 'Typically Developing Children', 'cyst of left temporal pole                              ', 'LD, CD', 'LD, Tics', 'ADHD-Hyperactive/Impulsive', 'ODD, social phobia ', 'ODD, Tics, Mood disorder', 'ODD, LD', 'TS', 'ADHD-Inattentive', 'LD, SP1', 'Tics', '1', 'LD, DBD-NOS'}\n",
      "{'Female', 'Male'}\n",
      "{nan, 'Left', 'Right'}\n"
     ]
    }
   ],
   "source": [
    "print(list(hie))\n",
    "print('\\n')\n",
    "\n",
    "print(set(hie['tool']))\n",
    "print(set(hie['dx']))\n",
    "# print(set(hie['softwareLabel']))\n",
    "#print(tooldic['fsl'])\n",
    "#print(len(hie),len(tmp))\n",
    "print(set(hie['Gender']))\n",
    "#print(set(hie['dx']))\n",
    "print(set(hie['laterality']))\n"
   ]
  },
  {
   "cell_type": "code",
   "execution_count": 54,
   "metadata": {},
   "outputs": [
    {
     "name": "stdout",
     "output_type": "stream",
     "text": [
      "diag:  nan    :  0\n",
      "diag:  1    :  61944\n",
      "diag:  2    :  69128\n",
      "diag:  ADHD-Combined    :  8692\n",
      "diag:  LD, CD, Tics    :  180\n",
      "diag:  ODD       :  118\n",
      "diag:  SAD (previous)    :  118\n",
      "diag:  enuresis    :  181\n",
      "diag:  LD    :  681\n",
      "diag:  2    :  9388\n",
      "diag:  LD, ODD    :  80\n",
      "diag:  ODD    :  2363\n",
      "diag:  Typically Developing Children    :  14757\n",
      "diag:  cyst of left temporal pole                                  :  119\n",
      "diag:  LD, CD    :  80\n",
      "diag:  LD, Tics    :  260\n",
      "diag:  ADHD-Hyperactive/Impulsive    :  180\n",
      "diag:  ODD, social phobia     :  181\n",
      "diag:  ODD, Tics, Mood disorder    :  118\n",
      "diag:  ODD, LD    :  621\n",
      "diag:  TS    :  543\n",
      "diag:  ADHD-Inattentive    :  8813\n",
      "diag:  LD, SP1    :  180\n",
      "diag:  Tics    :  181\n",
      "diag:  1    :  10714\n",
      "diag:  LD, DBD-NOS    :  80\n"
     ]
    }
   ],
   "source": [
    "dxset = set(hie['dx'])\n",
    "tmp = hie[['dx']]\n",
    "\n",
    "for diag in dxset:\n",
    "    dx_cond = (tmp['dx'] == diag)\n",
    "    print('diag: ', diag, '   : ', len(tmp.loc[dx_cond]))"
   ]
  },
  {
   "cell_type": "code",
   "execution_count": 55,
   "metadata": {},
   "outputs": [
    {
     "data": {
      "text/plain": [
       "{'CC_Central': 'http://purl.obolibrary.org/obo/UBERON_0002336',\n",
       " '3rd-Ventricle': 'http://purl.obolibrary.org/obo/UBERON_0002286',\n",
       " 'vessel': 'http://purl.obolibrary.org/obo/UBERON_0001981',\n",
       " 'Optic-Chiasm': 'http://purl.obolibrary.org/obo/UBERON_0000959',\n",
       " 'CC_Posterior': 'http://purl.obolibrary.org/obo/UBERON_0015708',\n",
       " 'choroid-plexus': 'http://purl.obolibrary.org/obo/UBERON_0001886',\n",
       " 'Thalamus-Proper': 'http://purl.obolibrary.org/obo/UBERON_0001897',\n",
       " 'Hippocampus': 'http://purl.obolibrary.org/obo/UBERON_0001954',\n",
       " 'CC_Anterior': 'http://purl.obolibrary.org/obo/UBERON_0015599',\n",
       " 'Lateral-Ventricle': 'http://purl.obolibrary.org/obo/UBERON_0002285',\n",
       " 'Supratentorial volume': 'http://purl.obolibrary.org/obo/UBERON_0001869',\n",
       " 'Number of Vertices': 'http://purl.obolibrary.org/obo/UBERON_0000956',\n",
       " 'Brain Segmentation Volume': 'http://purl.obolibrary.org/obo/UBERON_0000955',\n",
       " 'Inf-Lat-Vent': 'http://purl.obolibrary.org/obo/UBERON_0006091',\n",
       " 'Total gray matter volume': 'http://purl.obolibrary.org/obo/UBERON_0005401',\n",
       " 'Brain-Stem': 'http://purl.obolibrary.org/obo/UBERON_0002298',\n",
       " 'Cerebellum-Cortex': 'http://purl.obolibrary.org/obo/UBERON_0002129',\n",
       " 'Estimated Total Intracranial Volume': 'http://purl.obolibrary.org/obo/UBERON_0013411',\n",
       " 'CSF': 'http://purl.obolibrary.org/obo/UBERON_0001359',\n",
       " '5th-Ventricle': 'http://purl.obolibrary.org/obo/UBERON_0009857',\n",
       " 'Putamen': 'http://purl.obolibrary.org/obo/UBERON_0001874',\n",
       " 'Pallidum': 'http://purl.obolibrary.org/obo/UBERON_0006514',\n",
       " '4th-Ventricle': 'http://purl.obolibrary.org/obo/UBERON_0002422',\n",
       " 'Caudate': 'http://purl.obolibrary.org/obo/UBERON_0001873',\n",
       " 'Accumbens-area': 'http://purl.obolibrary.org/obo/UBERON_0001882',\n",
       " 'hemisphere cerebral white matter volume': 'http://purl.obolibrary.org/obo/UBERON_0002437',\n",
       " 'Cerebellum-White-Matter': 'http://purl.obolibrary.org/obo/UBERON_0002317',\n",
       " 'Amygdala': 'http://purl.obolibrary.org/obo/UBERON_0001876'}"
      ]
     },
     "execution_count": 55,
     "metadata": {},
     "output_type": "execute_result"
    }
   ],
   "source": [
    "h2ube"
   ]
  },
  {
   "cell_type": "markdown",
   "metadata": {},
   "source": [
    "### Some mapping for the values in the df:\n"
   ]
  },
  {
   "cell_type": "markdown",
   "metadata": {},
   "source": [
    "####  tools"
   ]
  },
  {
   "cell_type": "code",
   "execution_count": 57,
   "metadata": {},
   "outputs": [
    {
     "name": "stdout",
     "output_type": "stream",
     "text": [
      "{'http://stnava.github.io/ANTs/', 'https://surfer.nmr.mgh.harvard.edu/', 'http://purl.org/nidash/fsl#'}\n",
      "{'surfer': 'https://surfer.nmr.mgh.harvard.edu/', 'fsl': 'http://purl.org/nidash/fsl#', 'ants': 'http://stnava.github.io/ANTs/'}\n",
      "{'https://surfer.nmr.mgh.harvard.edu/': 'surfer', 'http://purl.org/nidash/fsl#': 'fsl', 'http://stnava.github.io/ANTs/': 'ants'}\n"
     ]
    }
   ],
   "source": [
    "print(set(hie['tool']))\n",
    "tooldic = {'surfer':'https://surfer.nmr.mgh.harvard.edu/', \n",
    "           'fsl':'http://purl.org/nidash/fsl#',\n",
    "           'ants':'http://stnava.github.io/ANTs/'}\n",
    "print(tooldic)\n",
    "dictool = {v:k for (k,v) in tooldic.items()}\n",
    "print(dictool)"
   ]
  },
  {
   "cell_type": "markdown",
   "metadata": {},
   "source": [
    "#### normally developing children"
   ]
  },
  {
   "cell_type": "code",
   "execution_count": 113,
   "metadata": {},
   "outputs": [
    {
     "name": "stdout",
     "output_type": "stream",
     "text": [
      "{nan, 1, 2, 'ADHD-Combined', 'LD, CD, Tics', 'ODD   ', 'SAD (previous)', 'enuresis', 'LD', '2', 'LD, ODD', 'ODD', 'Typically Developing Children', 'cyst of left temporal pole                              ', 'LD, CD', 'LD, Tics', 'ADHD-Hyperactive/Impulsive', 'ODD, social phobia ', 'ODD, Tics, Mood disorder', 'ODD, LD', 'TS', 'ADHD-Inattentive', 'LD, SP1', 'Tics', '1', 'LD, DBD-NOS'}\n"
     ]
    }
   ],
   "source": [
    "dxset = set(hie['dx'])\n",
    "print(dxset)\n",
    "normalDev = (1, '1', 'Typically Developing Children')\n",
    "adhd = (2, '2', 'ADHD-Combined', 'ADHD-Hyperactive/Impulsive', 'ADHD-Inattentive')"
   ]
  },
  {
   "cell_type": "markdown",
   "metadata": {},
   "source": [
    "### PIET-1: Total Brain Volume will positively correlate with IQ (in both sexes across the complete age range).\n"
   ]
  },
  {
   "cell_type": "code",
   "execution_count": 126,
   "metadata": {},
   "outputs": [
    {
     "name": "stdout",
     "output_type": "stream",
     "text": [
      "201532 424\n"
     ]
    }
   ],
   "source": [
    "# roi = 'Brain Segmentation Volume'\n",
    "roi = 'Estimated Total Intracranial Volume'\n",
    "# roi = 'Total gray matter volume'\n",
    "# roi = 'cerebellar cortex'\n",
    "tool = 'surfer'\n",
    "# tool = 'ants'\n",
    "\n",
    "\n",
    "tmp = hie[['study','ID','Gender','structure','tool','volume','PIQ','FIQ']]\n",
    "# tmp = tmp.loc[((hie['Gender']=='1') | (hie['Gender']=='Male')) \n",
    "\n",
    "\n",
    "# hand_cond = ((hie['hand'] == 'L')|(hie['hand'] == 'Left')|(hie['latera'] == 'Left'))\n",
    "age_cond = (hie['Age'] <= 20)\n",
    "roi_cond = (hie['structure'] == h2ube[roi])\n",
    "tool_cond = (hie['tool'] == tooldic[tool])\n",
    "\n",
    "pop_cond = False\n",
    "for pop in normalDev:\n",
    "    pop_cond = pop_cond | (hie['dx'] == pop)\n",
    "#pop_cond = (hie['dx'] == normalDev[0]) | (hie['dx'] == normalDev[1]) | (hie['dx'] == normalDev[2])\n",
    "\n",
    "\n",
    "\n",
    "condition = roi_cond & tool_cond & pop_cond #& age_cond \n",
    "\n",
    "tmp = tmp.loc[condition].drop_duplicates().dropna()\n",
    "\n",
    "print(len(hie),len(tmp))"
   ]
  },
  {
   "cell_type": "code",
   "execution_count": 123,
   "metadata": {},
   "outputs": [
    {
     "data": {
      "text/plain": [
       "['study', 'ID', 'Gender', 'structure', 'tool', 'volume', 'PIQ', 'FIQ']"
      ]
     },
     "execution_count": 123,
     "metadata": {},
     "output_type": "execute_result"
    }
   ],
   "source": [
    "list(tmp)"
   ]
  },
  {
   "cell_type": "code",
   "execution_count": 124,
   "metadata": {},
   "outputs": [],
   "source": [
    "# tmp.head()"
   ]
  },
  {
   "cell_type": "code",
   "execution_count": 125,
   "metadata": {},
   "outputs": [
    {
     "name": "stdout",
     "output_type": "stream",
     "text": [
      " Structure =  Estimated Total Intracranial Volume\n",
      "                            OLS Regression Results                            \n",
      "==============================================================================\n",
      "Dep. Variable:                    FIQ   R-squared:                       0.019\n",
      "Model:                            OLS   Adj. R-squared:                 -0.030\n",
      "Method:                 Least Squares   F-statistic:                    0.3899\n",
      "Date:                Sun, 24 Nov 2019   Prob (F-statistic):              0.984\n",
      "Time:                        00:06:31   Log-Likelihood:                -2615.8\n",
      "No. Observations:                 339   AIC:                             5266.\n",
      "Df Residuals:                     322   BIC:                             5331.\n",
      "Df Model:                          16                                         \n",
      "Covariance Type:            nonrobust                                         \n",
      "================================================================================================\n",
      "                                   coef    std err          t      P>|t|      [0.025      0.975]\n",
      "------------------------------------------------------------------------------------------------\n",
      "Intercept                      305.6040    496.474      0.616      0.539    -671.139    1282.347\n",
      "Gender[T.Male]                 -20.7963     85.656     -0.243      0.808    -189.313     147.720\n",
      "study[T.ABIDE Caltech Site]     81.5806    690.293      0.118      0.906   -1276.473    1439.635\n",
      "study[T.ABIDE Leuven_1 Site]    -0.2475    448.966     -0.001      1.000    -883.526     883.031\n",
      "study[T.ABIDE MaxMun_d Site]    12.6842    684.291      0.019      0.985   -1333.562    1358.930\n",
      "study[T.ABIDE NYU Site]        -12.7394    404.875     -0.031      0.975    -809.274     783.795\n",
      "study[T.ABIDE Pitt Site]         6.2730    414.999      0.015      0.988    -810.179     822.725\n",
      "study[T.ABIDE SDSU Site]         9.3356    422.725      0.022      0.982    -822.316     840.987\n",
      "study[T.ABIDE Stanford Site]   -20.2920    417.780     -0.049      0.961    -842.214     801.630\n",
      "study[T.ABIDE Trinity Site]     22.6409    423.624      0.053      0.957    -810.778     856.060\n",
      "study[T.ABIDE UCLA_1 Site]     -17.7419    405.675     -0.044      0.965    -815.849     780.366\n",
      "study[T.ABIDE UCLA_2 Site]     -15.9017    425.648     -0.037      0.970    -853.303     821.500\n",
      "study[T.ABIDE UM_1 Site]      -209.9854    403.248     -0.521      0.603   -1003.318     583.347\n",
      "study[T.ABIDE UM_2 Site]         4.9674    424.934      0.012      0.991    -831.030     840.964\n",
      "study[T.ABIDE Yale Site]       -32.9356    409.626     -0.080      0.936    -838.817     772.946\n",
      "study[T.ADHD200]                -1.6582    400.251     -0.004      0.997    -789.095     785.779\n",
      "Q('volume')                     -0.0001      0.000     -0.578      0.564      -0.001       0.000\n",
      "==============================================================================\n",
      "Omnibus:                      783.336   Durbin-Watson:                   2.030\n",
      "Prob(Omnibus):                  0.000   Jarque-Bera (JB):          1475312.304\n",
      "Skew:                         -17.799   Prob(JB):                         0.00\n",
      "Kurtosis:                     324.216   Cond. No.                     7.86e+07\n",
      "==============================================================================\n",
      "\n",
      "Warnings:\n",
      "[1] Standard Errors assume that the covariance matrix of the errors is correctly specified.\n",
      "[2] The condition number is large, 7.86e+07. This might indicate that there are\n",
      "strong multicollinearity or other numerical problems.\n"
     ]
    }
   ],
   "source": [
    "print(\" Structure = \", roi)\n",
    "assert ube2h[tmp.iloc[0]['structure']] == roi\n",
    "\n",
    "iq = 'FIQ'\n",
    "\n",
    "md = smf.ols(iq + \" ~ Q('volume') + Gender + study \", data=tmp) #  \n",
    "# md = smf.ols(iq + \" ~ Q('volume') + study \", data=tmp) #  \n",
    "mdf = md.fit()\n",
    "print(mdf.summary())\n"
   ]
  },
  {
   "cell_type": "code",
   "execution_count": 129,
   "metadata": {},
   "outputs": [
    {
     "name": "stdout",
     "output_type": "stream",
     "text": [
      " Structure =  Estimated Total Intracranial Volume\n",
      "                            OLS Regression Results                            \n",
      "==============================================================================\n",
      "Dep. Variable:                 volume   R-squared:                       0.360\n",
      "Model:                            OLS   Adj. R-squared:                  0.328\n",
      "Method:                 Least Squares   F-statistic:                     11.35\n",
      "Date:                Sun, 24 Nov 2019   Prob (F-statistic):           1.71e-28\n",
      "Time:                        10:25:28   Log-Likelihood:                -5670.8\n",
      "No. Observations:                 424   AIC:                         1.138e+04\n",
      "Df Residuals:                     403   BIC:                         1.147e+04\n",
      "Df Model:                          20                                         \n",
      "Covariance Type:            nonrobust                                         \n",
      "================================================================================================\n",
      "                                   coef    std err          t      P>|t|      [0.025      0.975]\n",
      "------------------------------------------------------------------------------------------------\n",
      "Intercept                     1.519e+06   6.88e+04     22.080      0.000    1.38e+06    1.65e+06\n",
      "Gender[T.Male]                 1.47e+05   2.19e+04      6.705      0.000    1.04e+05     1.9e+05\n",
      "study[T.ABIDE CMU_b Site]      -2.4e+04   8.66e+04     -0.277      0.782   -1.94e+05    1.46e+05\n",
      "study[T.ABIDE Caltech Site]   2.146e+05    7.5e+04      2.860      0.004    6.71e+04    3.62e+05\n",
      "study[T.ABIDE Leuven_1 Site] -8.918e+04   7.88e+04     -1.131      0.259   -2.44e+05    6.58e+04\n",
      "study[T.ABIDE MaxMun_c Site]  1.585e+05   1.73e+05      0.919      0.359   -1.81e+05    4.98e+05\n",
      "study[T.ABIDE MaxMun_d Site]  1.002e+05   1.22e+05      0.823      0.411   -1.39e+05     3.4e+05\n",
      "study[T.ABIDE NYU Site]      -1.573e+05   6.85e+04     -2.298      0.022   -2.92e+05   -2.27e+04\n",
      "study[T.ABIDE Pitt Site]      1295.2941   7.15e+04      0.018      0.986   -1.39e+05    1.42e+05\n",
      "study[T.ABIDE SBL Site]       2553.2402    9.2e+04      0.028      0.978   -1.78e+05    1.83e+05\n",
      "study[T.ABIDE SDSU Site]     -3.342e+04   7.79e+04     -0.429      0.668   -1.87e+05     1.2e+05\n",
      "study[T.ABIDE Stanford Site] -2.656e+05   7.49e+04     -3.545      0.000   -4.13e+05   -1.18e+05\n",
      "study[T.ABIDE Trinity Site]   6.197e+04   7.48e+04      0.829      0.408   -8.51e+04    2.09e+05\n",
      "study[T.ABIDE UCLA_1 Site]   -1.713e+05   6.99e+04     -2.452      0.015   -3.09e+05    -3.4e+04\n",
      "study[T.ABIDE UCLA_2 Site]   -1.162e+05   7.88e+04     -1.474      0.141   -2.71e+05    3.88e+04\n",
      "study[T.ABIDE UM_1 Site]     -1.279e+05    6.9e+04     -1.852      0.065   -2.64e+05    7834.520\n",
      "study[T.ABIDE UM_2 Site]     -9.436e+04   7.88e+04     -1.197      0.232   -2.49e+05    6.06e+04\n",
      "study[T.ABIDE USM Site]      -8.153e+04   1.73e+05     -0.473      0.637   -4.21e+05    2.58e+05\n",
      "study[T.ABIDE Yale Site]      -1.87e+05   7.21e+04     -2.593      0.010   -3.29e+05   -4.52e+04\n",
      "study[T.ADHD200]               -9.5e+04   6.82e+04     -1.393      0.164   -2.29e+05     3.9e+04\n",
      "Q(iq)                            2.6726      6.770      0.395      0.693     -10.636      15.981\n",
      "==============================================================================\n",
      "Omnibus:                        5.699   Durbin-Watson:                   2.148\n",
      "Prob(Omnibus):                  0.058   Jarque-Bera (JB):                7.847\n",
      "Skew:                          -0.044   Prob(JB):                       0.0198\n",
      "Kurtosis:                       3.661   Cond. No.                     6.91e+04\n",
      "==============================================================================\n",
      "\n",
      "Warnings:\n",
      "[1] Standard Errors assume that the covariance matrix of the errors is correctly specified.\n",
      "[2] The condition number is large, 6.91e+04. This might indicate that there are\n",
      "strong multicollinearity or other numerical problems.\n"
     ]
    }
   ],
   "source": [
    "print(\" Structure = \", roi)\n",
    "assert ube2h[tmp.iloc[0]['structure']] == roi\n",
    "\n",
    "iq = 'FIQ'\n",
    "\n",
    "md = smf.ols('volume' + \" ~ Q(iq) + Gender + study \", data=tmp) #  \n",
    "# md = smf.ols(iq + \" ~ Q('volume') + study \", data=tmp) #  \n",
    "mdf = md.fit()\n",
    "print(mdf.summary())\n"
   ]
  },
  {
   "cell_type": "markdown",
   "metadata": {},
   "source": [
    "### conclusion : based on the wrong structure ...\n",
    "1. no significance for piq for what seems to be the closest region:\n",
    "Q('value')                      -0.0410      0.032     -1.286      0.199    \n",
    "1. negatively correlated for fiq for what seems to be the closest region:\n",
    "Q('value')                      -0.1232      0.032     -3.881      0.000      "
   ]
  },
  {
   "cell_type": "code",
   "execution_count": 188,
   "metadata": {},
   "outputs": [
    {
     "data": {
      "text/plain": [
       "{'Left', 'Right', nan}"
      ]
     },
     "execution_count": 188,
     "metadata": {},
     "output_type": "execute_result"
    }
   ],
   "source": [
    "set(hie['laterality'])"
   ]
  },
  {
   "cell_type": "code",
   "execution_count": 196,
   "metadata": {},
   "outputs": [],
   "source": [
    "roi1 = 'hemisphere cerebral white matter volume'\n",
    "roi2 = 'Total gray matter volume'\n",
    "roi3 = 'CSF'"
   ]
  },
  {
   "cell_type": "code",
   "execution_count": 265,
   "metadata": {},
   "outputs": [],
   "source": [
    "tmp = hie[['study','ID','Gender', 'Age', 'structure','tool','volume', 'laterality']] # , 'FIQ', 'PIQ', 'laterality']]\n",
    "\n",
    "# conditions \n",
    "age_cond = (tmp['Age'] <= 20)\n",
    "roi1_cond = (tmp['structure'] == h2ube[roi1]) & (tmp['laterality'] != 'Left') & (tmp['laterality'] != 'Right')\n",
    "roi2_cond = (tmp['structure'] == h2ube[roi2])\n",
    "roi3_cond = (tmp['structure'] == h2ube[roi3])\n",
    "tool_cond = (tmp['tool']==tooldic[tool])\n",
    "\n",
    "condition1 = roi1_cond & tool_cond & age_cond   \n",
    "condition2 = roi2_cond & tool_cond & age_cond \n",
    "condition3 = roi3_cond & tool_cond & age_cond \n",
    "\n",
    "tmp1 = tmp.loc[condition1].drop_duplicates()\n",
    "tmp2 = tmp.loc[condition2].drop_duplicates()\n",
    "tmp3 = tmp.loc[condition3].drop_duplicates()\n",
    "\n"
   ]
  },
  {
   "cell_type": "code",
   "execution_count": 266,
   "metadata": {},
   "outputs": [
    {
     "name": "stdout",
     "output_type": "stream",
     "text": [
      "889 889\n",
      "889 889\n",
      "889 889\n"
     ]
    }
   ],
   "source": [
    "# CHECK THAT INDEX is unique !\n",
    "print(len(tmp1), len(set(tmp1['ID'])))\n",
    "print(len(tmp2), len(set(tmp2['ID'])))\n",
    "print(len(tmp3), len(set(tmp3['ID'])))"
   ]
  },
  {
   "cell_type": "code",
   "execution_count": 267,
   "metadata": {},
   "outputs": [
    {
     "data": {
      "text/html": [
       "<div>\n",
       "<style scoped>\n",
       "    .dataframe tbody tr th:only-of-type {\n",
       "        vertical-align: middle;\n",
       "    }\n",
       "\n",
       "    .dataframe tbody tr th {\n",
       "        vertical-align: top;\n",
       "    }\n",
       "\n",
       "    .dataframe thead th {\n",
       "        text-align: right;\n",
       "    }\n",
       "</style>\n",
       "<table border=\"1\" class=\"dataframe\">\n",
       "  <thead>\n",
       "    <tr style=\"text-align: right;\">\n",
       "      <th></th>\n",
       "      <th>study</th>\n",
       "      <th>ID</th>\n",
       "      <th>Gender</th>\n",
       "      <th>Age</th>\n",
       "      <th>structure</th>\n",
       "      <th>tool</th>\n",
       "      <th>volume_1</th>\n",
       "      <th>laterality</th>\n",
       "      <th>volume_2</th>\n",
       "    </tr>\n",
       "  </thead>\n",
       "  <tbody>\n",
       "    <tr>\n",
       "      <th>0</th>\n",
       "      <td>ABIDE SDSU Site</td>\n",
       "      <td>50215</td>\n",
       "      <td>Female</td>\n",
       "      <td>16.88</td>\n",
       "      <td>http://purl.obolibrary.org/obo/UBERON_0002437</td>\n",
       "      <td>https://surfer.nmr.mgh.harvard.edu/</td>\n",
       "      <td>429459.093633</td>\n",
       "      <td>NaN</td>\n",
       "      <td>694432.515078</td>\n",
       "    </tr>\n",
       "    <tr>\n",
       "      <th>1</th>\n",
       "      <td>ABIDE SDSU Site</td>\n",
       "      <td>50208</td>\n",
       "      <td>Female</td>\n",
       "      <td>13.78</td>\n",
       "      <td>http://purl.obolibrary.org/obo/UBERON_0002437</td>\n",
       "      <td>https://surfer.nmr.mgh.harvard.edu/</td>\n",
       "      <td>431050.722481</td>\n",
       "      <td>NaN</td>\n",
       "      <td>717541.727335</td>\n",
       "    </tr>\n",
       "    <tr>\n",
       "      <th>2</th>\n",
       "      <td>ABIDE SDSU Site</td>\n",
       "      <td>50190</td>\n",
       "      <td>Male</td>\n",
       "      <td>13.99</td>\n",
       "      <td>http://purl.obolibrary.org/obo/UBERON_0002437</td>\n",
       "      <td>https://surfer.nmr.mgh.harvard.edu/</td>\n",
       "      <td>393898.256304</td>\n",
       "      <td>NaN</td>\n",
       "      <td>738436.604312</td>\n",
       "    </tr>\n",
       "  </tbody>\n",
       "</table>\n",
       "</div>"
      ],
      "text/plain": [
       "             study     ID  Gender    Age  \\\n",
       "0  ABIDE SDSU Site  50215  Female  16.88   \n",
       "1  ABIDE SDSU Site  50208  Female  13.78   \n",
       "2  ABIDE SDSU Site  50190    Male  13.99   \n",
       "\n",
       "                                       structure  \\\n",
       "0  http://purl.obolibrary.org/obo/UBERON_0002437   \n",
       "1  http://purl.obolibrary.org/obo/UBERON_0002437   \n",
       "2  http://purl.obolibrary.org/obo/UBERON_0002437   \n",
       "\n",
       "                                  tool       volume_1 laterality  \\\n",
       "0  https://surfer.nmr.mgh.harvard.edu/  429459.093633        NaN   \n",
       "1  https://surfer.nmr.mgh.harvard.edu/  431050.722481        NaN   \n",
       "2  https://surfer.nmr.mgh.harvard.edu/  393898.256304        NaN   \n",
       "\n",
       "        volume_2  \n",
       "0  694432.515078  \n",
       "1  717541.727335  \n",
       "2  738436.604312  "
      ]
     },
     "execution_count": 267,
     "metadata": {},
     "output_type": "execute_result"
    }
   ],
   "source": [
    "#cols_to_use = tmp2.columns - tmp1.columns\n",
    "#print(cols_to_use)\n",
    "merged_inner = pd.merge(left=tmp1, right=tmp2[['ID','volume']], left_on='ID', right_on='ID', suffixes=('_1', '_2'))\n",
    "merged_inner.head(3)\n"
   ]
  },
  {
   "cell_type": "code",
   "execution_count": 270,
   "metadata": {},
   "outputs": [
    {
     "name": "stdout",
     "output_type": "stream",
     "text": [
      "['study', 'ID', 'Gender', 'Age', 'structure', 'tool', 'volume_1', 'laterality', 'volume_2', 'volume_3', 'total_volume']\n",
      "889\n"
     ]
    }
   ],
   "source": [
    "mergeddf = pd.merge(left=merged_inner, right=tmp3[['ID','volume']], \n",
    "                        left_on='ID', right_on='ID') #,suffixes=('_m', '_3'))\n",
    "mergeddf.rename(columns={'volume':'volume_3'}, inplace=True)\n",
    "mergeddf['total_volume'] = mergeddf['volume_1'] + mergeddf['volume_2'] + mergeddf['volume_3'] \n",
    "print(list(mergeddf))\n",
    "print(len(mergeddf))\n"
   ]
  },
  {
   "cell_type": "code",
   "execution_count": 271,
   "metadata": {},
   "outputs": [
    {
     "data": {
      "text/html": [
       "<div>\n",
       "<style scoped>\n",
       "    .dataframe tbody tr th:only-of-type {\n",
       "        vertical-align: middle;\n",
       "    }\n",
       "\n",
       "    .dataframe tbody tr th {\n",
       "        vertical-align: top;\n",
       "    }\n",
       "\n",
       "    .dataframe thead th {\n",
       "        text-align: right;\n",
       "    }\n",
       "</style>\n",
       "<table border=\"1\" class=\"dataframe\">\n",
       "  <thead>\n",
       "    <tr style=\"text-align: right;\">\n",
       "      <th></th>\n",
       "      <th>study</th>\n",
       "      <th>ID</th>\n",
       "      <th>Gender</th>\n",
       "      <th>Age</th>\n",
       "      <th>structure</th>\n",
       "      <th>tool</th>\n",
       "      <th>volume_1</th>\n",
       "      <th>laterality</th>\n",
       "      <th>volume_2</th>\n",
       "      <th>volume_3</th>\n",
       "      <th>total_volume</th>\n",
       "    </tr>\n",
       "  </thead>\n",
       "  <tbody>\n",
       "    <tr>\n",
       "      <th>0</th>\n",
       "      <td>ABIDE SDSU Site</td>\n",
       "      <td>50215</td>\n",
       "      <td>Female</td>\n",
       "      <td>16.88</td>\n",
       "      <td>http://purl.obolibrary.org/obo/UBERON_0002437</td>\n",
       "      <td>https://surfer.nmr.mgh.harvard.edu/</td>\n",
       "      <td>429459.093633</td>\n",
       "      <td>NaN</td>\n",
       "      <td>694432.515078</td>\n",
       "      <td>770.4</td>\n",
       "      <td>1.124662e+06</td>\n",
       "    </tr>\n",
       "    <tr>\n",
       "      <th>1</th>\n",
       "      <td>ABIDE SDSU Site</td>\n",
       "      <td>50208</td>\n",
       "      <td>Female</td>\n",
       "      <td>13.78</td>\n",
       "      <td>http://purl.obolibrary.org/obo/UBERON_0002437</td>\n",
       "      <td>https://surfer.nmr.mgh.harvard.edu/</td>\n",
       "      <td>431050.722481</td>\n",
       "      <td>NaN</td>\n",
       "      <td>717541.727335</td>\n",
       "      <td>895.4</td>\n",
       "      <td>1.149488e+06</td>\n",
       "    </tr>\n",
       "    <tr>\n",
       "      <th>2</th>\n",
       "      <td>ABIDE SDSU Site</td>\n",
       "      <td>50190</td>\n",
       "      <td>Male</td>\n",
       "      <td>13.99</td>\n",
       "      <td>http://purl.obolibrary.org/obo/UBERON_0002437</td>\n",
       "      <td>https://surfer.nmr.mgh.harvard.edu/</td>\n",
       "      <td>393898.256304</td>\n",
       "      <td>NaN</td>\n",
       "      <td>738436.604312</td>\n",
       "      <td>716.2</td>\n",
       "      <td>1.133051e+06</td>\n",
       "    </tr>\n",
       "  </tbody>\n",
       "</table>\n",
       "</div>"
      ],
      "text/plain": [
       "             study     ID  Gender    Age  \\\n",
       "0  ABIDE SDSU Site  50215  Female  16.88   \n",
       "1  ABIDE SDSU Site  50208  Female  13.78   \n",
       "2  ABIDE SDSU Site  50190    Male  13.99   \n",
       "\n",
       "                                       structure  \\\n",
       "0  http://purl.obolibrary.org/obo/UBERON_0002437   \n",
       "1  http://purl.obolibrary.org/obo/UBERON_0002437   \n",
       "2  http://purl.obolibrary.org/obo/UBERON_0002437   \n",
       "\n",
       "                                  tool       volume_1 laterality  \\\n",
       "0  https://surfer.nmr.mgh.harvard.edu/  429459.093633        NaN   \n",
       "1  https://surfer.nmr.mgh.harvard.edu/  431050.722481        NaN   \n",
       "2  https://surfer.nmr.mgh.harvard.edu/  393898.256304        NaN   \n",
       "\n",
       "        volume_2  volume_3  total_volume  \n",
       "0  694432.515078     770.4  1.124662e+06  \n",
       "1  717541.727335     895.4  1.149488e+06  \n",
       "2  738436.604312     716.2  1.133051e+06  "
      ]
     },
     "execution_count": 271,
     "metadata": {},
     "output_type": "execute_result"
    }
   ],
   "source": [
    "mergeddf.head(3)\n"
   ]
  },
  {
   "cell_type": "code",
   "execution_count": 206,
   "metadata": {},
   "outputs": [],
   "source": [
    "tmp1['volume_gm'] = tmp2['volume']"
   ]
  },
  {
   "cell_type": "code",
   "execution_count": 208,
   "metadata": {},
   "outputs": [
    {
     "data": {
      "text/plain": [
       "pandas.core.series.Series"
      ]
     },
     "execution_count": 208,
     "metadata": {},
     "output_type": "execute_result"
    }
   ],
   "source": [
    "type(tmp1['volume_gm'])"
   ]
  },
  {
   "cell_type": "code",
   "execution_count": 171,
   "metadata": {},
   "outputs": [
    {
     "data": {
      "text/html": [
       "<div>\n",
       "<style scoped>\n",
       "    .dataframe tbody tr th:only-of-type {\n",
       "        vertical-align: middle;\n",
       "    }\n",
       "\n",
       "    .dataframe tbody tr th {\n",
       "        vertical-align: top;\n",
       "    }\n",
       "\n",
       "    .dataframe thead th {\n",
       "        text-align: right;\n",
       "    }\n",
       "</style>\n",
       "<table border=\"1\" class=\"dataframe\">\n",
       "  <thead>\n",
       "    <tr style=\"text-align: right;\">\n",
       "      <th></th>\n",
       "      <th>study</th>\n",
       "      <th>ID</th>\n",
       "      <th>Gender</th>\n",
       "      <th>Age</th>\n",
       "      <th>structure</th>\n",
       "      <th>tool</th>\n",
       "      <th>volume</th>\n",
       "    </tr>\n",
       "  </thead>\n",
       "  <tbody>\n",
       "    <tr>\n",
       "      <th>49</th>\n",
       "      <td>ABIDE SDSU Site</td>\n",
       "      <td>50215</td>\n",
       "      <td>Female</td>\n",
       "      <td>16.88</td>\n",
       "      <td>http://purl.obolibrary.org/obo/UBERON_0005401</td>\n",
       "      <td>https://surfer.nmr.mgh.harvard.edu/</td>\n",
       "      <td>694432.515078</td>\n",
       "    </tr>\n",
       "    <tr>\n",
       "      <th>176</th>\n",
       "      <td>ABIDE SDSU Site</td>\n",
       "      <td>50208</td>\n",
       "      <td>Female</td>\n",
       "      <td>13.78</td>\n",
       "      <td>http://purl.obolibrary.org/obo/UBERON_0005401</td>\n",
       "      <td>https://surfer.nmr.mgh.harvard.edu/</td>\n",
       "      <td>717541.727335</td>\n",
       "    </tr>\n",
       "    <tr>\n",
       "      <th>355</th>\n",
       "      <td>ABIDE SDSU Site</td>\n",
       "      <td>50190</td>\n",
       "      <td>Male</td>\n",
       "      <td>13.99</td>\n",
       "      <td>http://purl.obolibrary.org/obo/UBERON_0005401</td>\n",
       "      <td>https://surfer.nmr.mgh.harvard.edu/</td>\n",
       "      <td>738436.604312</td>\n",
       "    </tr>\n",
       "  </tbody>\n",
       "</table>\n",
       "</div>"
      ],
      "text/plain": [
       "               study     ID  Gender    Age  \\\n",
       "49   ABIDE SDSU Site  50215  Female  16.88   \n",
       "176  ABIDE SDSU Site  50208  Female  13.78   \n",
       "355  ABIDE SDSU Site  50190    Male  13.99   \n",
       "\n",
       "                                         structure  \\\n",
       "49   http://purl.obolibrary.org/obo/UBERON_0005401   \n",
       "176  http://purl.obolibrary.org/obo/UBERON_0005401   \n",
       "355  http://purl.obolibrary.org/obo/UBERON_0005401   \n",
       "\n",
       "                                    tool         volume  \n",
       "49   https://surfer.nmr.mgh.harvard.edu/  694432.515078  \n",
       "176  https://surfer.nmr.mgh.harvard.edu/  717541.727335  \n",
       "355  https://surfer.nmr.mgh.harvard.edu/  738436.604312  "
      ]
     },
     "execution_count": 171,
     "metadata": {},
     "output_type": "execute_result"
    }
   ],
   "source": [
    "tmp2.head(3)"
   ]
  },
  {
   "cell_type": "code",
   "execution_count": 147,
   "metadata": {},
   "outputs": [
    {
     "data": {
      "text/html": [
       "<div>\n",
       "<style scoped>\n",
       "    .dataframe tbody tr th:only-of-type {\n",
       "        vertical-align: middle;\n",
       "    }\n",
       "\n",
       "    .dataframe tbody tr th {\n",
       "        vertical-align: top;\n",
       "    }\n",
       "\n",
       "    .dataframe thead th {\n",
       "        text-align: right;\n",
       "    }\n",
       "</style>\n",
       "<table border=\"1\" class=\"dataframe\">\n",
       "  <thead>\n",
       "    <tr style=\"text-align: right;\">\n",
       "      <th></th>\n",
       "      <th>study_x</th>\n",
       "      <th>ID</th>\n",
       "      <th>Gender_x</th>\n",
       "      <th>Age_x</th>\n",
       "      <th>structure_x</th>\n",
       "      <th>tool_x</th>\n",
       "      <th>volume_x</th>\n",
       "      <th>study_y</th>\n",
       "      <th>Gender_y</th>\n",
       "      <th>Age_y</th>\n",
       "      <th>structure_y</th>\n",
       "      <th>tool_y</th>\n",
       "      <th>volume_y</th>\n",
       "    </tr>\n",
       "  </thead>\n",
       "  <tbody>\n",
       "    <tr>\n",
       "      <th>0</th>\n",
       "      <td>ABIDE SDSU Site</td>\n",
       "      <td>50215</td>\n",
       "      <td>Female</td>\n",
       "      <td>16.88</td>\n",
       "      <td>http://purl.obolibrary.org/obo/UBERON_0002437</td>\n",
       "      <td>https://surfer.nmr.mgh.harvard.edu/</td>\n",
       "      <td>212286.197681</td>\n",
       "      <td>ABIDE SDSU Site</td>\n",
       "      <td>Female</td>\n",
       "      <td>16.88</td>\n",
       "      <td>http://purl.obolibrary.org/obo/UBERON_0005401</td>\n",
       "      <td>https://surfer.nmr.mgh.harvard.edu/</td>\n",
       "      <td>694432.515078</td>\n",
       "    </tr>\n",
       "    <tr>\n",
       "      <th>1</th>\n",
       "      <td>ABIDE SDSU Site</td>\n",
       "      <td>50215</td>\n",
       "      <td>Female</td>\n",
       "      <td>16.88</td>\n",
       "      <td>http://purl.obolibrary.org/obo/UBERON_0002437</td>\n",
       "      <td>https://surfer.nmr.mgh.harvard.edu/</td>\n",
       "      <td>217172.895952</td>\n",
       "      <td>ABIDE SDSU Site</td>\n",
       "      <td>Female</td>\n",
       "      <td>16.88</td>\n",
       "      <td>http://purl.obolibrary.org/obo/UBERON_0005401</td>\n",
       "      <td>https://surfer.nmr.mgh.harvard.edu/</td>\n",
       "      <td>694432.515078</td>\n",
       "    </tr>\n",
       "    <tr>\n",
       "      <th>2</th>\n",
       "      <td>ABIDE SDSU Site</td>\n",
       "      <td>50215</td>\n",
       "      <td>Female</td>\n",
       "      <td>16.88</td>\n",
       "      <td>http://purl.obolibrary.org/obo/UBERON_0002437</td>\n",
       "      <td>https://surfer.nmr.mgh.harvard.edu/</td>\n",
       "      <td>429459.093633</td>\n",
       "      <td>ABIDE SDSU Site</td>\n",
       "      <td>Female</td>\n",
       "      <td>16.88</td>\n",
       "      <td>http://purl.obolibrary.org/obo/UBERON_0005401</td>\n",
       "      <td>https://surfer.nmr.mgh.harvard.edu/</td>\n",
       "      <td>694432.515078</td>\n",
       "    </tr>\n",
       "  </tbody>\n",
       "</table>\n",
       "</div>"
      ],
      "text/plain": [
       "           study_x     ID Gender_x  Age_x  \\\n",
       "0  ABIDE SDSU Site  50215   Female  16.88   \n",
       "1  ABIDE SDSU Site  50215   Female  16.88   \n",
       "2  ABIDE SDSU Site  50215   Female  16.88   \n",
       "\n",
       "                                     structure_x  \\\n",
       "0  http://purl.obolibrary.org/obo/UBERON_0002437   \n",
       "1  http://purl.obolibrary.org/obo/UBERON_0002437   \n",
       "2  http://purl.obolibrary.org/obo/UBERON_0002437   \n",
       "\n",
       "                                tool_x       volume_x          study_y  \\\n",
       "0  https://surfer.nmr.mgh.harvard.edu/  212286.197681  ABIDE SDSU Site   \n",
       "1  https://surfer.nmr.mgh.harvard.edu/  217172.895952  ABIDE SDSU Site   \n",
       "2  https://surfer.nmr.mgh.harvard.edu/  429459.093633  ABIDE SDSU Site   \n",
       "\n",
       "  Gender_y  Age_y                                    structure_y  \\\n",
       "0   Female  16.88  http://purl.obolibrary.org/obo/UBERON_0005401   \n",
       "1   Female  16.88  http://purl.obolibrary.org/obo/UBERON_0005401   \n",
       "2   Female  16.88  http://purl.obolibrary.org/obo/UBERON_0005401   \n",
       "\n",
       "                                tool_y       volume_y  \n",
       "0  https://surfer.nmr.mgh.harvard.edu/  694432.515078  \n",
       "1  https://surfer.nmr.mgh.harvard.edu/  694432.515078  \n",
       "2  https://surfer.nmr.mgh.harvard.edu/  694432.515078  "
      ]
     },
     "execution_count": 147,
     "metadata": {},
     "output_type": "execute_result"
    }
   ],
   "source": [
    "merged_inner = pd.merge(left=tmp1, right=tmp2, left_on='ID', right_on='ID')\n",
    "merged_inner.head(3)"
   ]
  },
  {
   "cell_type": "code",
   "execution_count": null,
   "metadata": {},
   "outputs": [],
   "source": [
    " def split_df_col_values(dataframe, col_target, list_values, col_names, ):\n",
    "    \"\"\"\n",
    "    returns len(list_values) dataframes with col_names\n",
    "    \"\"\"\n",
    "    \n",
    "    roi1_cond = (dataframe[col_target] == list_value)\n",
    "    roi2_cond = (dataframe['structure'] == h2ube[roi2])\n",
    "\n",
    "    "
   ]
  },
  {
   "cell_type": "markdown",
   "metadata": {},
   "source": [
    "### MAC-1: Left striatum volume (caudate + putamen) will positively correlate with IQ in the total (male + female) child (age < 20) group.\n"
   ]
  },
  {
   "cell_type": "code",
   "execution_count": null,
   "metadata": {},
   "outputs": [],
   "source": [
    "roi1 = 'caudate nucleus'\n",
    "roi2 = 'putamen'\n",
    "# roi = 'cerebellar cortex'\n",
    "tool = 'surfer'\n",
    "# tool = 'fsl'\n",
    "\n",
    "# pick the interesting variables\n",
    "#--------------------------------#\n",
    "tmp = hie[['study','ID','Gender','structure','tool','value', 'fiq', 'piq', 'latera']]\n",
    "# condition1 = ((hie['Gender']=='1') | (hie['Gender']=='Male')) & \n",
    "\n",
    "# list of conditions\n",
    "#---------------------#\n",
    "hand_cond = ((hie['hand'] == 'L') | (hie['hand'] == 'Left')) # | (hie['latera'] == 'Left'))\n",
    "age_cond = (hie['Age'] <= 20)\n",
    "roi1_cond = (hie['structure'] == h2ube[roi1])\n",
    "roi2_cond = (hie['structure'] == h2ube[roi2])\n",
    "tool_cond = (hie['tool']==tooldic[tool])\n",
    "\n",
    "condition1 = roi1_cond & tool_cond & age_cond & hand_cond  \n",
    "condition2 = roi2_cond & tool_cond & age_cond & hand_cond\n",
    "\n",
    "tmp1 = tmp.loc[condition1].drop_duplicates()\n",
    "tmp2 = tmp.loc[condition2].drop_duplicates()\n",
    "\n",
    "#tmp1 = tmp1.set_index('ID')\n",
    "#tmp2 = tmp2.set_index('ID')\n",
    "\n",
    "print(len(hie))\n",
    "print(roi1, ': tmp1', len(tmp1), len(tmp1.drop_duplicates()))\n",
    "print(roi2, ': tmp2', len(tmp2), len(tmp2.drop_duplicates()))"
   ]
  },
  {
   "cell_type": "code",
   "execution_count": null,
   "metadata": {},
   "outputs": [],
   "source": [
    "tmp2"
   ]
  },
  {
   "cell_type": "code",
   "execution_count": null,
   "metadata": {},
   "outputs": [],
   "source": [
    "def split_merge_df(df, indx='ID', spliton='latera', cols='value', droplist=[]):\n",
    "    \"\"\"\n",
    "    split the df, create a new one merged\n",
    "    think of lev1 = Right, lev2 = Left\n",
    "    \"\"\"\n",
    "    levels_ = list(set(df[spliton]))\n",
    "    # print(levels_)\n",
    "    levels = [v for v in levels_ if v != 'None']\n",
    "    assert len(levels)==2\n",
    "    lev1, lev2 = levels[0], levels[1]\n",
    "    dflev1 = df[df[spliton]==lev1]\n",
    "    dflev2 = df[df[spliton]==lev2]\n",
    "    \n",
    "    # no duplicates in the indx\n",
    "    assert len(set(dflev1[indx])) == len(dflev1[indx])\n",
    "    assert len(set(dflev2[indx])) == len(dflev2[indx])\n",
    "    # same indx on all levels\n",
    "    assert len(dflev1[indx]) == len(dflev2[indx])\n",
    "    \n",
    "    merged_inner = pd.merge(left=dflev1, right=dflev2, left_on=indx, right_on=indx)\n",
    "    merged_inner.rename(columns={cols+'_x': cols+'_'+lev1, cols+'_y': cols+'_'+lev2}, inplace=True)\n",
    "    \n",
    "    if droplist != []:\n",
    "        for colname in droplist:\n",
    "            colname_y = colname + '_y'\n",
    "            colname_x = colname + '_x'\n",
    "            merged_inner.drop(colname_y, axis=1, inplace=True)\n",
    "            merged_inner.rename(columns={colname_x: colname}, inplace=True)\n",
    "    \n",
    "    return merged_inner"
   ]
  },
  {
   "cell_type": "code",
   "execution_count": null,
   "metadata": {},
   "outputs": [],
   "source": [
    "droplist = list(tmp)\n",
    "for colname in ['ID', 'value', 'latera']:\n",
    "    droplist.remove(colname)\n",
    "print(droplist)\n",
    "tmp_1 = split_merge_df(tmp1, indx='ID', spliton='latera', cols='value',droplist=droplist)\n",
    "tmp_2 = split_merge_df(tmp2, indx='ID', spliton='latera', cols='value',droplist=droplist)"
   ]
  },
  {
   "cell_type": "code",
   "execution_count": null,
   "metadata": {},
   "outputs": [],
   "source": [
    "len(tmp_1)"
   ]
  },
  {
   "cell_type": "code",
   "execution_count": null,
   "metadata": {},
   "outputs": [],
   "source": [
    "# a function that takes the laterality right and create a new column\n",
    "df = tmp1.copy()\n",
    "\n",
    "list(df)\n",
    "dfleft = df[df['latera']=='Left'].copy()\n",
    "dfright = df[df['latera']=='Right']\n",
    "\n",
    "# check IDs are unique and the same for left and right\n",
    "assert len(set(dfleft['ID'])) == len(dfleft['ID'])\n",
    "assert len(set(dfright['ID'])) == len(dfright['ID'])\n",
    "assert set(dfright['ID']) == set(dfleft['ID'])\n",
    "\n",
    "# create a new column on dfleft\n",
    "#dfleft.set_index('ID');\n",
    "#dfright.set_index('ID');\n",
    "merged_inner = pd.merge(left=dfleft, right=dfright, left_on='ID', right_on='ID')\n",
    "\n",
    "# -- try to drop duplicates \n",
    "# to do: https://thispointer.com/how-to-find-drop-duplicate-columns-in-a-dataframe-python-pandas/\n",
    "# merged_inner = merged_inner.loc[:,~merged_inner.columns.duplicated()]"
   ]
  },
  {
   "cell_type": "code",
   "execution_count": null,
   "metadata": {},
   "outputs": [],
   "source": [
    "set(df['latera'])"
   ]
  },
  {
   "cell_type": "code",
   "execution_count": null,
   "metadata": {},
   "outputs": [],
   "source": [
    "merged_inner.head()"
   ]
  },
  {
   "cell_type": "code",
   "execution_count": null,
   "metadata": {},
   "outputs": [],
   "source": [
    "import numbers\n",
    "import decimal\n",
    "hand_nb = [v for v in hie['hand'] if isinstance(v, numbers.Number)]\n",
    "len(hand_nb)"
   ]
  },
  {
   "cell_type": "code",
   "execution_count": null,
   "metadata": {},
   "outputs": [],
   "source": [
    "ax = plt.hist(tmp1['value'])"
   ]
  },
  {
   "cell_type": "code",
   "execution_count": null,
   "metadata": {},
   "outputs": [],
   "source": [
    "ax = plt.hist(tmp2['value'])"
   ]
  },
  {
   "cell_type": "code",
   "execution_count": null,
   "metadata": {},
   "outputs": [],
   "source": [
    "# tmp2.head(2)"
   ]
  },
  {
   "cell_type": "code",
   "execution_count": null,
   "metadata": {},
   "outputs": [],
   "source": [
    "tmp1.head(5)"
   ]
  },
  {
   "cell_type": "code",
   "execution_count": null,
   "metadata": {},
   "outputs": [],
   "source": [
    "# hie.loc[(hie['ID']==21002) & (hie['structure']==h2uberon[roi1]) & (hie['tool']==tooldic['surfer'])]"
   ]
  },
  {
   "cell_type": "markdown",
   "metadata": {},
   "source": [
    "#### try to add values of the same index"
   ]
  },
  {
   "cell_type": "code",
   "execution_count": null,
   "metadata": {},
   "outputs": [],
   "source": [
    "datadf = tmp1[tmp1['latera'] == 'Left' ]\n",
    "datadf.set_index('ID', inplace=True)\n",
    "len(datadf)\n",
    "datadf.head(3)\n",
    "datadf_right = tmp1[tmp1['latera'] == 'Right' ]\n",
    "datadf['value_right'] = datadf_right['value']"
   ]
  },
  {
   "cell_type": "code",
   "execution_count": null,
   "metadata": {},
   "outputs": [],
   "source": [
    "tmp_1 = tmp1.groupby(['ID']).mean().dropna()\n",
    "tmp_2 = tmp2.groupby(['ID']).mean().dropna()\n",
    "print(len(tmp_2), len(tmp_1))\n",
    "assert np.all(tmp_1.index == tmp_2.index)"
   ]
  },
  {
   "cell_type": "code",
   "execution_count": null,
   "metadata": {},
   "outputs": [],
   "source": [
    "tmp_2.head()"
   ]
  },
  {
   "cell_type": "code",
   "execution_count": null,
   "metadata": {},
   "outputs": [],
   "source": [
    "\"\"\" print(type(tmp_2))\n",
    "print(list(tmp_2))\n",
    "print(tmp_2['value'][:5])\n",
    "print(tmp_1['value'][:5]) \n",
    "\n",
    "list(tmp_2)\n",
    "len(set(tmp_2.index))\n",
    "\n",
    "\n",
    "lists_index = [set(tmp1['ID']),  set(tmp2['ID'])]\n",
    "len( set.intersection(*lists_index))\n",
    "\"\"\";"
   ]
  },
  {
   "cell_type": "code",
   "execution_count": null,
   "metadata": {},
   "outputs": [],
   "source": [
    "datadf1 = tmp1.set_index('ID')\n",
    "datadf2 = tmp2.set_index('ID')\n",
    "len(datadf1), len(datadf2)"
   ]
  },
  {
   "cell_type": "code",
   "execution_count": null,
   "metadata": {},
   "outputs": [],
   "source": [
    "datadf = pd.merge(left=tmp1,right=tmp2, left_on='ID', right_on='ID')"
   ]
  },
  {
   "cell_type": "code",
   "execution_count": null,
   "metadata": {},
   "outputs": [],
   "source": [
    "datadf.head()"
   ]
  },
  {
   "cell_type": "code",
   "execution_count": null,
   "metadata": {},
   "outputs": [],
   "source": [
    "\n",
    "datadf['cau_put'] = tmp_2.loc[:,'value'].add(tmp_1.loc[:,'value'])\n",
    "datadf[iq] = tmp_2[iq]\n",
    "datadf['study'] = tmp_2['study']\n",
    "datadf['Gender'] = tmp_2['Gender']\n",
    "\n",
    "print(list(datadf))"
   ]
  },
  {
   "cell_type": "code",
   "execution_count": null,
   "metadata": {},
   "outputs": [],
   "source": [
    "#datadf = datadf[datadf['cau_put'] < 15000]\n",
    "len(datadf)\n",
    "ax = plt.hist(datadf['cau_put'])"
   ]
  },
  {
   "cell_type": "code",
   "execution_count": null,
   "metadata": {},
   "outputs": [],
   "source": []
  },
  {
   "cell_type": "code",
   "execution_count": null,
   "metadata": {},
   "outputs": [],
   "source": [
    "iq = 'piq'\n",
    "\n",
    "md = smf.ols(iq + \" ~ Q('cau_put') + study + Gender\", data=datadf)\n",
    "mdf = md.fit()\n",
    "print(mdf.summary())\n"
   ]
  },
  {
   "cell_type": "markdown",
   "metadata": {},
   "source": [
    "### Conclusion\n",
    "\n",
    "1. does not seem to replicate with fiq (only 58 values ?)\n",
    "2. does not seem to replicate with piq\n"
   ]
  },
  {
   "cell_type": "markdown",
   "metadata": {},
   "source": [
    "### MAC-2: Left striatum volume (caudate + putamen) will positively correlate with IQ in the male children group.\n"
   ]
  },
  {
   "cell_type": "code",
   "execution_count": null,
   "metadata": {},
   "outputs": [],
   "source": [
    "#merged_inner = pd.merge(left=tmp_1, right=tmp_2) #, left_on='ID', right_on='ID') #how='join', "
   ]
  },
  {
   "cell_type": "code",
   "execution_count": null,
   "metadata": {},
   "outputs": [],
   "source": [
    "roi1 = 'caudate nucleus'\n",
    "roi2 = 'putamen'\n",
    "# roi = 'cerebellar cortex'\n",
    "tool = 'surfer'\n",
    "# tool = 'fsl'\n",
    "\n",
    "# tmp = hie[['ID','Gender','structure','tool','value','fiq']]\n",
    "# condition1 = ((hie['Gender']=='1') | (hie['Gender']=='Male')) & \n",
    "\n",
    "condition1 = (hie['structure'] == h2uberon[roi1]) & (hie['tool']==tooldic[tool]) \\\n",
    "             & (hie['Age'] < 20) \\\n",
    "             & ((hie['Gender']=='1') | (hie['Gender']=='Male'))\n",
    "condition2 = (hie['structure'] == h2uberon[roi2]) & (hie['tool']==tooldic[tool]) \\\n",
    "             & (hie['Age'] < 20) \\\n",
    "             & ((hie['Gender']=='1') | (hie['Gender']=='Male'))\n",
    "\n",
    "    \n",
    "tmp1 = tmp.loc[condition1].drop_duplicates()\n",
    "tmp2 = tmp.loc[condition2].drop_duplicates()\n",
    "#tmp1 = tmp1.set_index('ID')\n",
    "#tmp2 = tmp2.set_index('ID')\n"
   ]
  },
  {
   "cell_type": "code",
   "execution_count": null,
   "metadata": {},
   "outputs": [],
   "source": [
    "print(len(hie),len(tmp1),len(tmp2))\n",
    "print(len(tmp1.drop_duplicates()),len(tmp2.drop_duplicates()))"
   ]
  },
  {
   "cell_type": "code",
   "execution_count": null,
   "metadata": {},
   "outputs": [],
   "source": [
    "tmp_1 = tmp1.groupby(['ID']).mean().dropna()\n",
    "tmp_2 = tmp2.groupby(['ID']).mean().dropna()\n",
    "print(len(tmp_2), len(tmp_1))\n",
    "assert np.all(tmp_1.index == tmp_2.index)"
   ]
  },
  {
   "cell_type": "code",
   "execution_count": null,
   "metadata": {},
   "outputs": [],
   "source": [
    "datadf = tmp_2\n",
    "datadf['cau_put'] = tmp_2.loc[:,'value'].add(tmp_1.loc[:,'value'])\n",
    "datadf['fiq'] = tmp_2['fiq']\n",
    "print(list(datadf))"
   ]
  },
  {
   "cell_type": "code",
   "execution_count": null,
   "metadata": {},
   "outputs": [],
   "source": [
    "print(len(datadf))\n",
    "# ax = plt.hist(datadf['cau_put'])"
   ]
  },
  {
   "cell_type": "code",
   "execution_count": null,
   "metadata": {},
   "outputs": [],
   "source": [
    "\n",
    "md = smf.ols(\"fiq ~ Q('cau_put')\", data=datadf)\n",
    "mdf = md.fit()\n",
    "print(mdf.summary())\n"
   ]
  },
  {
   "cell_type": "markdown",
   "metadata": {},
   "source": [
    "### "
   ]
  },
  {
   "cell_type": "code",
   "execution_count": null,
   "metadata": {},
   "outputs": [],
   "source": [
    "#tmp = hie.loc[ (hie['structure']==h2uberon[roi]) & (hie['tool']==tooldic['surfer'])]\n",
    "#tmp.head(3)"
   ]
  },
  {
   "cell_type": "code",
   "execution_count": null,
   "metadata": {},
   "outputs": [],
   "source": [
    "#tmp_ = tmp1.groupby(['ID']).min()\n",
    "#tmp_.head(3)"
   ]
  },
  {
   "cell_type": "code",
   "execution_count": null,
   "metadata": {},
   "outputs": [],
   "source": []
  },
  {
   "cell_type": "code",
   "execution_count": null,
   "metadata": {},
   "outputs": [],
   "source": []
  },
  {
   "cell_type": "code",
   "execution_count": null,
   "metadata": {},
   "outputs": [],
   "source": [
    "# horizontal_stack = pd.concat([tmp1, tmp2], axis=1)\n",
    "merged_inner = pd.merge(left=tmp1, right=tmp2, left_on='ID', right_on='ID') #how='join', "
   ]
  },
  {
   "cell_type": "code",
   "execution_count": null,
   "metadata": {},
   "outputs": [],
   "source": [
    "len(merged_inner.drop_duplicates())"
   ]
  },
  {
   "cell_type": "code",
   "execution_count": null,
   "metadata": {},
   "outputs": [],
   "source": [
    "merged_inner.head(4)"
   ]
  },
  {
   "cell_type": "code",
   "execution_count": null,
   "metadata": {},
   "outputs": [],
   "source": []
  },
  {
   "cell_type": "code",
   "execution_count": null,
   "metadata": {},
   "outputs": [],
   "source": []
  },
  {
   "cell_type": "code",
   "execution_count": null,
   "metadata": {},
   "outputs": [],
   "source": [
    "md = smf.ols(\"FIQ ~ Q('striatal volume')\", data=data2)\n",
    "mdf = md.fit()\n",
    "print(mdf.summary())\n",
    "print(pearsonr(data2['FIQ'], data2['striatal volume']))"
   ]
  },
  {
   "cell_type": "code",
   "execution_count": null,
   "metadata": {},
   "outputs": [],
   "source": [
    "print(tmp.loc[(tmp['ID']==3559087)])"
   ]
  },
  {
   "cell_type": "code",
   "execution_count": null,
   "metadata": {},
   "outputs": [],
   "source": [
    "hie.iloc[1578]"
   ]
  },
  {
   "cell_type": "code",
   "execution_count": null,
   "metadata": {},
   "outputs": [],
   "source": [
    "hie.iloc[1577]"
   ]
  },
  {
   "cell_type": "code",
   "execution_count": null,
   "metadata": {},
   "outputs": [],
   "source": []
  },
  {
   "cell_type": "code",
   "execution_count": null,
   "metadata": {},
   "outputs": [],
   "source": []
  },
  {
   "cell_type": "code",
   "execution_count": null,
   "metadata": {},
   "outputs": [],
   "source": []
  },
  {
   "cell_type": "code",
   "execution_count": null,
   "metadata": {},
   "outputs": [],
   "source": []
  },
  {
   "cell_type": "code",
   "execution_count": null,
   "metadata": {},
   "outputs": [],
   "source": []
  },
  {
   "cell_type": "code",
   "execution_count": null,
   "metadata": {},
   "outputs": [],
   "source": [
    "uberon = \"http://purl.obolibrary.org/obo/UBERON_0001897\"\n",
    "\n",
    "cmd = 'wget -O - ' + uberon\\\n",
    "                   + '  | grep -A 1 ' +  \"'\" + 'Class rdf:about='\\\n",
    "                   + '\"' + uberon + '\"' +  \"'\""
   ]
  },
  {
   "cell_type": "code",
   "execution_count": null,
   "metadata": {},
   "outputs": [],
   "source": []
  },
  {
   "cell_type": "code",
   "execution_count": null,
   "metadata": {},
   "outputs": [],
   "source": [
    "print(cmd.split())"
   ]
  },
  {
   "cell_type": "code",
   "execution_count": null,
   "metadata": {},
   "outputs": [],
   "source": [
    "import subprocess\n",
    "MyOut = subprocess.Popen(cmd.split(), \n",
    "            stdout=subprocess.PIPE, \n",
    "           stderr=subprocess.STDOUT, shell=True)\n",
    "stdout,stderr = MyOut.communicate()\n",
    "print(stdout)\n",
    "#print(stderr)"
   ]
  },
  {
   "cell_type": "code",
   "execution_count": null,
   "metadata": {},
   "outputs": [],
   "source": [
    "process = subprocess.run(cmd.split())"
   ]
  },
  {
   "cell_type": "code",
   "execution_count": null,
   "metadata": {},
   "outputs": [],
   "source": []
  },
  {
   "cell_type": "code",
   "execution_count": null,
   "metadata": {},
   "outputs": [],
   "source": []
  },
  {
   "cell_type": "code",
   "execution_count": null,
   "metadata": {},
   "outputs": [],
   "source": [
    "list(hie)"
   ]
  },
  {
   "cell_type": "code",
   "execution_count": null,
   "metadata": {},
   "outputs": [],
   "source": [
    "uberon= '<http://purl.obolibrary.org/obo/UBERON_0001897>'\n"
   ]
  },
  {
   "cell_type": "code",
   "execution_count": null,
   "metadata": {},
   "outputs": [],
   "source": [
    "len(tmp)"
   ]
  },
  {
   "cell_type": "code",
   "execution_count": null,
   "metadata": {},
   "outputs": [],
   "source": []
  },
  {
   "cell_type": "code",
   "execution_count": null,
   "metadata": {},
   "outputs": [],
   "source": []
  },
  {
   "cell_type": "code",
   "execution_count": null,
   "metadata": {},
   "outputs": [],
   "source": []
  },
  {
   "cell_type": "code",
   "execution_count": null,
   "metadata": {},
   "outputs": [],
   "source": []
  },
  {
   "cell_type": "code",
   "execution_count": null,
   "metadata": {},
   "outputs": [],
   "source": [
    "# Load in the dataset, appending 'nd' to the list of possible na_values\n",
    "hie = pd.read_csv(relative_path_filename, na_values='nd')\n",
    "original_col_names = list(hie)\n",
    "print(original_col_names[:10])\n",
    "\n",
    "# column names are unique\n",
    "assert len(original_col_names) == len(set(original_col_names))"
   ]
  },
  {
   "cell_type": "code",
   "execution_count": null,
   "metadata": {},
   "outputs": [],
   "source": []
  }
 ],
 "metadata": {
  "kernelspec": {
   "display_name": "Python 3",
   "language": "python",
   "name": "python3"
  },
  "language_info": {
   "codemirror_mode": {
    "name": "ipython",
    "version": 3
   },
   "file_extension": ".py",
   "mimetype": "text/x-python",
   "name": "python",
   "nbconvert_exporter": "python",
   "pygments_lexer": "ipython3",
   "version": "3.6.8"
  },
  "toc": {
   "nav_menu": {},
   "number_sections": true,
   "sideBar": true,
   "skip_h1_title": false,
   "toc_cell": false,
   "toc_position": {},
   "toc_section_display": "block",
   "toc_window_display": false
  }
 },
 "nbformat": 4,
 "nbformat_minor": 2
}
