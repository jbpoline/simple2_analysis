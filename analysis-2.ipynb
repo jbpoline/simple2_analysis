{
 "cells": [
  {
   "cell_type": "markdown",
   "metadata": {},
   "source": [
    "# wrangling with the csv"
   ]
  },
  {
   "cell_type": "code",
   "execution_count": 1,
   "metadata": {},
   "outputs": [],
   "source": [
    "import pandas as pd\n",
    "import numpy as np\n",
    "# import statsmodels.discrete.discrete_model as sm\n",
    "import statsmodels as stt\n",
    "import scipy.stats as sst\n",
    "import os.path as osp"
   ]
  },
  {
   "cell_type": "code",
   "execution_count": 2,
   "metadata": {},
   "outputs": [],
   "source": [
    "from statsmodels import api as sm\n",
    "import statsmodels.formula.api as smf\n",
    "import matplotlib.pyplot as plt\n",
    "import json\n",
    "%matplotlib inline"
   ]
  },
  {
   "cell_type": "markdown",
   "metadata": {},
   "source": [
    "### read the mapping file to find the correspondance between uberon numbers and labels"
   ]
  },
  {
   "cell_type": "code",
   "execution_count": 3,
   "metadata": {},
   "outputs": [],
   "source": [
    "# find mapping file\n",
    "# mapping_file = '../segstats_jsonld/segstats_jsonld/mapping_data/freesurfermap.json'\n",
    "mapping_file = '../segstats_jsonld/segstats_jsonld/mapping_data/freesurfer-cdes.json'\n",
    "assert osp.exists(mapping_file)\n",
    "with open(mapping_file, \"r\") as read_file:\n",
    "    roi_map = json.load(read_file)"
   ]
  },
  {
   "cell_type": "code",
   "execution_count": 4,
   "metadata": {},
   "outputs": [
    {
     "name": "stdout",
     "output_type": "stream",
     "text": [
      "3580\n",
      "['count', \"FS(structure='Cortex', hemi=None, measure='NumVert', unit='unitless')\", \"FS(structure='Cortex', hemi=None, measure='WhiteSurfArea', unit='mm^2')\", \"FS(structure='BrainSeg', hemi=None, measure='BrainSegVol', unit='mm^3')\", \"FS(structure='BrainSegNotVent', hemi=None, measure='BrainSegVolNotVent', unit='mm^3')\", \"FS(structure='BrainSegNotVentSurf', hemi=None, measure='BrainSegVolNotVentSurf', unit='mm^3')\", \"FS(structure='Cortex', hemi=None, measure='CortexVol', unit='mm^3')\", \"FS(structure='SupraTentorial', hemi=None, measure='SupraTentorialVol', unit='mm^3')\", \"FS(structure='SupraTentorialNotVent', hemi=None, measure='SupraTentorialVolNotVent', unit='mm^3')\", \"FS(structure='EstimatedTotalIntraCranialVol', hemi=None, measure='eTIV', unit='mm^3')\"]\n",
      "{'id': '000010', 'structure_id': 410, 'label': 'Right BA1_exvivo NumVert', 'description': 'Right BA1_exvivo Number of Vertices (unitless)', 'key_source': 'Table', 'measureOf': 'http://uri.interlex.org/base/ilx_0112559', 'datumType': 'http://uri.interlex.org/base/ilx_0102597', 'hasUnit': 'vertex', 'fsunit': 'unitless'}\n"
     ]
    }
   ],
   "source": [
    "print(len(list(roi_map.keys())))\n",
    "print(list(roi_map.keys())[:10])\n",
    "#print(list(roi_map['Anatomy'].keys())[:10])\n",
    "#print(len(roi_map['Anatomy'].keys()))\n",
    "print(roi_map[list(roi_map.keys())[10]])"
   ]
  },
  {
   "cell_type": "code",
   "execution_count": 5,
   "metadata": {},
   "outputs": [
    {
     "name": "stdout",
     "output_type": "stream",
     "text": [
      "<class 'dict'>\n"
     ]
    }
   ],
   "source": [
    "for k,v in roi_map.items():\n",
    "    # print(k,\"->\",v)\n",
    "    pass\n",
    "v = {1:2}\n",
    "print(type(v))\n"
   ]
  },
  {
   "cell_type": "code",
   "execution_count": 6,
   "metadata": {},
   "outputs": [
    {
     "name": "stdout",
     "output_type": "stream",
     "text": [
      "[]\n",
      "262 262\n"
     ]
    }
   ],
   "source": [
    "# ube is a dictionary that maps uberon to label of structure\n",
    "ube = {}\n",
    "ebu = {}\n",
    "countok=0\n",
    "has_no_isAbout = []\n",
    "has_no_label = []\n",
    "\n",
    "for (k,v) in roi_map.items():\n",
    "    if k == 'count': pass\n",
    "\n",
    "    # v is a dict that contains the CDE - check that we have a isAbout\n",
    "    #if ('isAbout' not in v) or (v['isAbout'] == '') or (v['isAbout'] in ('None','none')):\n",
    "    #    has_no_isAbout.append(k)\n",
    "    #    break\n",
    "        \n",
    "    elif 'isAbout' in v:\n",
    "        countok += 1\n",
    "        if 'label' in v:\n",
    "            if v['label'] != '' and v['label'] not in ('None','none'):\n",
    "                #ube['<' + v['isAbout'] + '>'] = v['label']\n",
    "                #ebu[v['label']] = '<' + v['isAbout'] + '>'\n",
    "                ebu[v['label']] = v['isAbout']\n",
    "                if v['isAbout'] not in ube.keys():\n",
    "                    no_right_or_left = v['label']\n",
    "                    no_right_or_left = no_right_or_left.replace('Right-','')\n",
    "                    no_right_or_left = no_right_or_left.replace('Right ','')\n",
    "                    no_right_or_left = no_right_or_left.replace('Left-','')\n",
    "                    no_right_or_left = no_right_or_left.replace('Left ','')\n",
    "                    no_right_or_left = no_right_or_left.replace(' NVoxels','')\n",
    "                    no_right_or_left = no_right_or_left.replace(' (mm^3)','')\n",
    "                    ube[v['isAbout']] = no_right_or_left\n",
    "            else:\n",
    "                has_no_label.append(k)\n",
    "\n",
    "print(has_no_isAbout)\n",
    "#print(ube)\n",
    "#print(ebu)\n",
    "print(countok , len(ebu))"
   ]
  },
  {
   "cell_type": "code",
   "execution_count": 7,
   "metadata": {},
   "outputs": [
    {
     "data": {
      "text/plain": [
       "{'http://purl.obolibrary.org/obo/UBERON_0000956': 'Number of Vertices',\n",
       " 'http://purl.obolibrary.org/obo/UBERON_0000955': 'Brain Segmentation Volume',\n",
       " 'http://purl.obolibrary.org/obo/UBERON_0001869': 'Supratentorial volume',\n",
       " 'http://purl.obolibrary.org/obo/UBERON_0013411': 'Estimated Total Intracranial Volume',\n",
       " 'http://purl.obolibrary.org/obo/UBERON_0002437': 'hemisphere cerebral white matter volume',\n",
       " 'http://purl.obolibrary.org/obo/UBERON_0005401': 'Total gray matter volume',\n",
       " 'http://purl.obolibrary.org/obo/UBERON_0002285': 'Lateral-Ventricle',\n",
       " 'http://purl.obolibrary.org/obo/UBERON_0006091': 'Inf-Lat-Vent',\n",
       " 'http://purl.obolibrary.org/obo/UBERON_0002317': 'Cerebellum-White-Matter',\n",
       " 'http://purl.obolibrary.org/obo/UBERON_0002129': 'Cerebellum-Cortex',\n",
       " 'http://purl.obolibrary.org/obo/UBERON_0001897': 'Thalamus-Proper',\n",
       " 'http://purl.obolibrary.org/obo/UBERON_0001873': 'Caudate',\n",
       " 'http://purl.obolibrary.org/obo/UBERON_0001874': 'Putamen',\n",
       " 'http://purl.obolibrary.org/obo/UBERON_0006514': 'Pallidum',\n",
       " 'http://purl.obolibrary.org/obo/UBERON_0002286': '3rd-Ventricle',\n",
       " 'http://purl.obolibrary.org/obo/UBERON_0002422': '4th-Ventricle',\n",
       " 'http://purl.obolibrary.org/obo/UBERON_0002298': 'Brain-Stem',\n",
       " 'http://purl.obolibrary.org/obo/UBERON_0001954': 'Hippocampus',\n",
       " 'http://purl.obolibrary.org/obo/UBERON_0001876': 'Amygdala',\n",
       " 'http://purl.obolibrary.org/obo/UBERON_0001359': 'CSF',\n",
       " 'http://purl.obolibrary.org/obo/UBERON_0001882': 'Accumbens-area',\n",
       " 'http://purl.obolibrary.org/obo/UBERON_0001981': 'vessel',\n",
       " 'http://purl.obolibrary.org/obo/UBERON_0001886': 'choroid-plexus',\n",
       " 'http://purl.obolibrary.org/obo/UBERON_0009857': '5th-Ventricle',\n",
       " 'http://purl.obolibrary.org/obo/UBERON_0000959': 'Optic-Chiasm',\n",
       " 'http://purl.obolibrary.org/obo/UBERON_0015708': 'CC_Posterior',\n",
       " 'http://purl.obolibrary.org/obo/UBERON_0002336': 'CC_Central',\n",
       " 'http://purl.obolibrary.org/obo/UBERON_0015599': 'CC_Anterior'}"
      ]
     },
     "execution_count": 7,
     "metadata": {},
     "output_type": "execute_result"
    }
   ],
   "source": [
    "ube"
   ]
  },
  {
   "cell_type": "code",
   "execution_count": 8,
   "metadata": {},
   "outputs": [],
   "source": [
    "#\n",
    "\"\"\"\n",
    "ube = {}\n",
    "has_no_isAbout = []\n",
    "for (k,v) in roi_map['Anatomy'].items():\n",
    "    if v['isAbout'] != '' or v['isAbout'] in ('None','none'):\n",
    "        if v['label'] != '' and v['label'] not in ('None','none'):\n",
    "            ube['<' + v['isAbout'] + '>'] = v['label']\n",
    "        else:\n",
    "            if '<' + v['isAbout'] + '>' not in ube.keys():\n",
    "                if v['hasLaterality'] in ('Right','Left'):\n",
    "                    ube['<' + v['isAbout'] + '>'] = 'strip-Right-Left-of-'+k\n",
    "                else:\n",
    "                    ube['<' + v['isAbout'] + '>'] = k\n",
    "    else:\n",
    "        #print(k, 'has no isAbout')\n",
    "        has_no_isAbout.append(k)\n",
    "print(has_no_isAbout)\n",
    "\"\"\";"
   ]
  },
  {
   "cell_type": "code",
   "execution_count": 9,
   "metadata": {},
   "outputs": [
    {
     "data": {
      "text/plain": [
       "[('http://purl.obolibrary.org/obo/UBERON_0000956', 'Number of Vertices'),\n",
       " ('http://purl.obolibrary.org/obo/UBERON_0000955',\n",
       "  'Brain Segmentation Volume'),\n",
       " ('http://purl.obolibrary.org/obo/UBERON_0001869', 'Supratentorial volume'),\n",
       " ('http://purl.obolibrary.org/obo/UBERON_0013411',\n",
       "  'Estimated Total Intracranial Volume'),\n",
       " ('http://purl.obolibrary.org/obo/UBERON_0002437',\n",
       "  'hemisphere cerebral white matter volume')]"
      ]
     },
     "execution_count": 9,
     "metadata": {},
     "output_type": "execute_result"
    }
   ],
   "source": [
    "list(zip(list(ube)[:5],list(ube.values())[:5]))"
   ]
  },
  {
   "cell_type": "markdown",
   "metadata": {},
   "source": [
    "### Read CSV file "
   ]
  },
  {
   "cell_type": "code",
   "execution_count": 10,
   "metadata": {},
   "outputs": [
    {
     "name": "stdout",
     "output_type": "stream",
     "text": [
      "/home/jb/code/repronim/simple2/simple2_analysis\n"
     ]
    }
   ],
   "source": [
    "print(osp.realpath(osp.curdir))\n",
    "relative_path_filename = './data/data.csv'\n",
    "assert osp.exists(relative_path_filename)"
   ]
  },
  {
   "cell_type": "code",
   "execution_count": 11,
   "metadata": {},
   "outputs": [
    {
     "name": "stdout",
     "output_type": "stream",
     "text": [
      "['rowid', 'study', 'ID', 'Age', 'dx', 'Gender', 'FIQ', 'PIQ', 'VIQ', 'tool', 'softwareLabel', 'federatedLabel', 'laterality', 'volume']\n",
      "['rowid', 'study', 'ID', 'Age', 'dx', 'Gender', 'FIQ', 'PIQ', 'VIQ', 'tool', 'softwareLabel', 'federatedLabel', 'laterality', 'volume']\n"
     ]
    },
    {
     "name": "stderr",
     "output_type": "stream",
     "text": [
      "/home/jb/virtualenvs/simple2/lib/python3.6/site-packages/IPython/core/interactiveshell.py:3049: DtypeWarning: Columns (4) have mixed types. Specify dtype option on import or set low_memory=False.\n",
      "  interactivity=interactivity, compiler=compiler, result=result)\n"
     ]
    }
   ],
   "source": [
    "hie = pd.read_csv(relative_path_filename, na_values='nd') #, low_memory=False)\n",
    "original_col_names = list(hie)\n",
    "print(original_col_names)\n",
    "assert len(original_col_names) == len(set(original_col_names))\n",
    "hie = hie[(hie['FIQ'] > 0)]\n",
    "print(list(hie))"
   ]
  },
  {
   "cell_type": "code",
   "execution_count": 12,
   "metadata": {},
   "outputs": [],
   "source": [
    "# col_rename = {'softwareLabel':'software', 'federatedLabel':'structure'}\n",
    "col_rename = {'federatedLabel':'structure'}\n",
    "hie.rename(columns=col_rename, inplace=True)"
   ]
  },
  {
   "cell_type": "code",
   "execution_count": 13,
   "metadata": {},
   "outputs": [
    {
     "name": "stdout",
     "output_type": "stream",
     "text": [
      "918\n",
      "231\n"
     ]
    }
   ],
   "source": [
    "# how many abide / adhd ?\n",
    "cond = (hie['study'].str.contains(\"ABIDE\"))\n",
    "print(len(set(hie[cond]['ID'])))\n",
    "# print(set(hie['study']))\n",
    "cond = (hie['study'] == 'ADHD200')\n",
    "print(len(set(hie[cond]['ID'])))\n"
   ]
  },
  {
   "cell_type": "code",
   "execution_count": 14,
   "metadata": {},
   "outputs": [
    {
     "name": "stdout",
     "output_type": "stream",
     "text": [
      "{nan, 'http://purl.obolibrary.org/obo/UBERON_0002336', 'http://purl.obolibrary.org/obo/UBERON_0015708', 'http://purl.obolibrary.org/obo/UBERON_0002129', 'http://purl.obolibrary.org/obo/UBERON_0015599', 'http://purl.obolibrary.org/obo/UBERON_0002437', 'http://purl.obolibrary.org/obo/UBERON_0001873', 'http://purl.obolibrary.org/obo/UBERON_0000959', 'http://purl.obolibrary.org/obo/UBERON_0001869', 'http://purl.obolibrary.org/obo/UBERON_0001897', 'http://purl.obolibrary.org/obo/UBERON_0013411', 'http://purl.obolibrary.org/obo/UBERON_0009857', 'http://purl.obolibrary.org/obo/UBERON_0002286', 'http://purl.obolibrary.org/obo/UBERON_0001882', 'http://purl.obolibrary.org/obo/UBERON_0002422', 'http://purl.obolibrary.org/obo/UBERON_0001954', 'http://purl.obolibrary.org/obo/UBERON_0000955', 'http://purl.obolibrary.org/obo/UBERON_0001981', 'http://purl.obolibrary.org/obo/UBERON_0005401', 'http://purl.obolibrary.org/obo/UBERON_0006514', 'http://purl.obolibrary.org/obo/UBERON_0001874', 'http://purl.obolibrary.org/obo/UBERON_0000956', 'http://purl.obolibrary.org/obo/UBERON_0002298', 'http://purl.obolibrary.org/obo/UBERON_0001876', 'http://purl.obolibrary.org/obo/UBERON_0002317', 'http://purl.obolibrary.org/obo/UBERON_0001359', 'http://purl.obolibrary.org/obo/UBERON_0002285', 'http://purl.obolibrary.org/obo/UBERON_0001886', 'http://purl.obolibrary.org/obo/UBERON_0006091'}\n"
     ]
    }
   ],
   "source": [
    "# Structure in the csv should contain the uberon identifier for the structure\n",
    "structures = set(hie.structure)\n",
    "print(structures)"
   ]
  },
  {
   "cell_type": "code",
   "execution_count": 15,
   "metadata": {},
   "outputs": [
    {
     "name": "stdout",
     "output_type": "stream",
     "text": [
      "1 http://purl.obolibrary.org/obo/UBERON_0002336 CC_Central\n",
      "2 http://purl.obolibrary.org/obo/UBERON_0015708 CC_Posterior\n",
      "3 http://purl.obolibrary.org/obo/UBERON_0002129 Cerebellum-Cortex\n",
      "4 http://purl.obolibrary.org/obo/UBERON_0015599 CC_Anterior\n",
      "5 http://purl.obolibrary.org/obo/UBERON_0002437 hemisphere cerebral white matter volume\n",
      "6 http://purl.obolibrary.org/obo/UBERON_0001873 Caudate\n",
      "7 http://purl.obolibrary.org/obo/UBERON_0000959 Optic-Chiasm\n",
      "8 http://purl.obolibrary.org/obo/UBERON_0001869 Supratentorial volume\n",
      "9 http://purl.obolibrary.org/obo/UBERON_0001897 Thalamus-Proper\n",
      "10 http://purl.obolibrary.org/obo/UBERON_0013411 Estimated Total Intracranial Volume\n",
      "11 http://purl.obolibrary.org/obo/UBERON_0009857 5th-Ventricle\n",
      "12 http://purl.obolibrary.org/obo/UBERON_0002286 3rd-Ventricle\n",
      "13 http://purl.obolibrary.org/obo/UBERON_0001882 Accumbens-area\n",
      "14 http://purl.obolibrary.org/obo/UBERON_0002422 4th-Ventricle\n",
      "15 http://purl.obolibrary.org/obo/UBERON_0001954 Hippocampus\n",
      "16 http://purl.obolibrary.org/obo/UBERON_0000955 Brain Segmentation Volume\n",
      "17 http://purl.obolibrary.org/obo/UBERON_0001981 vessel\n",
      "18 http://purl.obolibrary.org/obo/UBERON_0005401 Total gray matter volume\n",
      "19 http://purl.obolibrary.org/obo/UBERON_0006514 Pallidum\n",
      "20 http://purl.obolibrary.org/obo/UBERON_0001874 Putamen\n",
      "21 http://purl.obolibrary.org/obo/UBERON_0000956 Number of Vertices\n",
      "22 http://purl.obolibrary.org/obo/UBERON_0002298 Brain-Stem\n",
      "23 http://purl.obolibrary.org/obo/UBERON_0001876 Amygdala\n",
      "24 http://purl.obolibrary.org/obo/UBERON_0002317 Cerebellum-White-Matter\n",
      "25 http://purl.obolibrary.org/obo/UBERON_0001359 CSF\n",
      "26 http://purl.obolibrary.org/obo/UBERON_0002285 Lateral-Ventricle\n",
      "27 http://purl.obolibrary.org/obo/UBERON_0001886 choroid-plexus\n",
      "28 http://purl.obolibrary.org/obo/UBERON_0006091 Inf-Lat-Vent\n"
     ]
    },
    {
     "data": {
      "text/plain": [
       "(28, 28)"
      ]
     },
     "execution_count": 15,
     "metadata": {},
     "output_type": "execute_result"
    }
   ],
   "source": [
    "# for each structure found in the csv, give it the name of the structure found\n",
    "# in the CDE mapping file \n",
    "\n",
    "ube2h = {}\n",
    "\n",
    "for idx, s in enumerate(structures):\n",
    "    if s is not np.nan:\n",
    "        ube2h[s] = ube[s]\n",
    "        print(idx, s, ube2h[s])\n",
    "\n",
    "len(ube), len(ube2h)"
   ]
  },
  {
   "cell_type": "code",
   "execution_count": 16,
   "metadata": {},
   "outputs": [],
   "source": [
    "\"\"\"\n",
    "looking at the class name from the purl urls I got :\n",
    "\n",
    "u2human[list(u2human.keys())[0]] = 'cavum septum pellucidum'\n",
    "u2human[list(u2human.keys())[1]] = 'cerebellum'\n",
    "u2human[list(u2human.keys())[2]] = 'cerebellar cortex'\n",
    "u2human[list(u2human.keys())[3]] = 'perivascular space'\n",
    "u2human[list(u2human.keys())[4]] = \"Ammon's horn\"\n",
    "u2human[list(u2human.keys())[5]] = \"inferior horn of the lateral ventricle\"\n",
    "u2human[list(u2human.keys())[6]] = \"brainstem\"\n",
    "u2human[list(u2human.keys())[7]] = \"amygdala\"\n",
    "u2human[list(u2human.keys())[8]] = \"optic chiasma\"\n",
    "u2human[list(u2human.keys())[9]] = \"dorsal plus ventral thalamus\"\n",
    "u2human[list(u2human.keys())[10]] = \"cerebral hemisphere\"\n",
    "u2human[list(u2human.keys())[11]] = \"caudate nucleus\"\n",
    "u2human[list(u2human.keys())[12]] = \"telencephalic ventricle\"\n",
    "u2human[list(u2human.keys())[13]] = \"putamen\"\n",
    "u2human[list(u2human.keys())[14]] = \"third ventricle\"\n",
    "u2human[list(u2human.keys())[15]] = \"choroid plexus\"\n",
    "u2human[list(u2human.keys())[16]] = \"fourth ventricle\"\n",
    "u2human[list(u2human.keys())[17]] = \"pallidum\"\n",
    "u2human[list(u2human.keys())[18]] = \"nucleus accumbens\"\n",
    "\"\"\";"
   ]
  },
  {
   "cell_type": "code",
   "execution_count": 17,
   "metadata": {},
   "outputs": [
    {
     "data": {
      "text/plain": [
       "set()"
      ]
     },
     "execution_count": 17,
     "metadata": {},
     "output_type": "execute_result"
    }
   ],
   "source": [
    "set1 = {'<http://purl.obolibrary.org/obo/UBERON_0000959>', \n",
    "'<http://purl.obolibrary.org/obo/UBERON_0002422>', \n",
    "'<http://purl.obolibrary.org/obo/UBERON_0009857>', \n",
    "'<http://purl.obolibrary.org/obo/UBERON_0001869>', \n",
    "'<http://purl.obolibrary.org/obo/UBERON_0002129>', \n",
    "'<http://purl.obolibrary.org/obo/UBERON_0001882>', \n",
    "'<http://purl.obolibrary.org/obo/UBERON_0001886>', \n",
    "'<http://purl.obolibrary.org/obo/UBERON_0006091>', \n",
    "'<http://purl.obolibrary.org/obo/UBERON_0002286>', \n",
    "'<http://purl.obolibrary.org/obo/UBERON_0002298>', \n",
    "'<http://purl.obolibrary.org/obo/UBERON_0001897>', \n",
    "'<http://purl.obolibrary.org/obo/UBERON_0001954>', \n",
    "'<http://purl.obolibrary.org/obo/UBERON_0001873>', \n",
    "'<http://purl.obolibrary.org/obo/UBERON_0014930>', \n",
    "'<http://purl.obolibrary.org/obo/UBERON_0001874>', \n",
    "'<http://purl.obolibrary.org/obo/UBERON_0001876>', \n",
    "'<http://purl.obolibrary.org/obo/UBERON_0006514>', \n",
    "'<http://purl.obolibrary.org/obo/UBERON_0002037>', \n",
    "'<http://purl.obolibrary.org/obo/UBERON_0002285>'};\n",
    "set2 = set(ube2h.keys())\n",
    "set3 = set(ube.keys())\n",
    "#set1 ^ set2\n",
    "#set2 ^ set3\n",
    "set(ube.values()) ^ set(ube2h.values())"
   ]
  },
  {
   "cell_type": "code",
   "execution_count": 18,
   "metadata": {},
   "outputs": [],
   "source": [
    "h2ube = {v: k for k, v in ube2h.items()}\n",
    "#print(h2uberon)"
   ]
  },
  {
   "cell_type": "code",
   "execution_count": null,
   "metadata": {},
   "outputs": [],
   "source": []
  },
  {
   "cell_type": "code",
   "execution_count": 19,
   "metadata": {
    "scrolled": true
   },
   "outputs": [
    {
     "data": {
      "text/html": [
       "<div>\n",
       "<style scoped>\n",
       "    .dataframe tbody tr th:only-of-type {\n",
       "        vertical-align: middle;\n",
       "    }\n",
       "\n",
       "    .dataframe tbody tr th {\n",
       "        vertical-align: top;\n",
       "    }\n",
       "\n",
       "    .dataframe thead th {\n",
       "        text-align: right;\n",
       "    }\n",
       "</style>\n",
       "<table border=\"1\" class=\"dataframe\">\n",
       "  <thead>\n",
       "    <tr style=\"text-align: right;\">\n",
       "      <th></th>\n",
       "      <th>rowid</th>\n",
       "      <th>study</th>\n",
       "      <th>ID</th>\n",
       "      <th>Age</th>\n",
       "      <th>dx</th>\n",
       "      <th>Gender</th>\n",
       "      <th>FIQ</th>\n",
       "      <th>PIQ</th>\n",
       "      <th>VIQ</th>\n",
       "      <th>tool</th>\n",
       "      <th>softwareLabel</th>\n",
       "      <th>structure</th>\n",
       "      <th>laterality</th>\n",
       "      <th>volume</th>\n",
       "    </tr>\n",
       "  </thead>\n",
       "  <tbody>\n",
       "    <tr>\n",
       "      <th>0</th>\n",
       "      <td>0</td>\n",
       "      <td>ABIDE SDSU Site</td>\n",
       "      <td>50215</td>\n",
       "      <td>16.88</td>\n",
       "      <td>2</td>\n",
       "      <td>Female</td>\n",
       "      <td>117.0</td>\n",
       "      <td>120.0</td>\n",
       "      <td>110.0</td>\n",
       "      <td>https://surfer.nmr.mgh.harvard.edu/</td>\n",
       "      <td>Right-Thalamus-Proper Volume_mm3 (mm^3)</td>\n",
       "      <td>http://purl.obolibrary.org/obo/UBERON_0001897</td>\n",
       "      <td>Right</td>\n",
       "      <td>7041.7</td>\n",
       "    </tr>\n",
       "    <tr>\n",
       "      <th>1</th>\n",
       "      <td>1</td>\n",
       "      <td>ABIDE SDSU Site</td>\n",
       "      <td>50215</td>\n",
       "      <td>16.88</td>\n",
       "      <td>2</td>\n",
       "      <td>Female</td>\n",
       "      <td>117.0</td>\n",
       "      <td>120.0</td>\n",
       "      <td>110.0</td>\n",
       "      <td>https://surfer.nmr.mgh.harvard.edu/</td>\n",
       "      <td>5th-Ventricle Volume_mm3 (mm^3)</td>\n",
       "      <td>http://purl.obolibrary.org/obo/UBERON_0009857</td>\n",
       "      <td>NaN</td>\n",
       "      <td>0.0</td>\n",
       "    </tr>\n",
       "    <tr>\n",
       "      <th>2</th>\n",
       "      <td>2</td>\n",
       "      <td>ABIDE SDSU Site</td>\n",
       "      <td>50215</td>\n",
       "      <td>16.88</td>\n",
       "      <td>2</td>\n",
       "      <td>Female</td>\n",
       "      <td>117.0</td>\n",
       "      <td>120.0</td>\n",
       "      <td>110.0</td>\n",
       "      <td>https://surfer.nmr.mgh.harvard.edu/</td>\n",
       "      <td>Left-non-WM-hypointensities Volume_mm3 (mm^3)</td>\n",
       "      <td>NaN</td>\n",
       "      <td>Left</td>\n",
       "      <td>0.0</td>\n",
       "    </tr>\n",
       "  </tbody>\n",
       "</table>\n",
       "</div>"
      ],
      "text/plain": [
       "   rowid            study     ID    Age dx  Gender    FIQ    PIQ    VIQ  \\\n",
       "0      0  ABIDE SDSU Site  50215  16.88  2  Female  117.0  120.0  110.0   \n",
       "1      1  ABIDE SDSU Site  50215  16.88  2  Female  117.0  120.0  110.0   \n",
       "2      2  ABIDE SDSU Site  50215  16.88  2  Female  117.0  120.0  110.0   \n",
       "\n",
       "                                  tool  \\\n",
       "0  https://surfer.nmr.mgh.harvard.edu/   \n",
       "1  https://surfer.nmr.mgh.harvard.edu/   \n",
       "2  https://surfer.nmr.mgh.harvard.edu/   \n",
       "\n",
       "                                   softwareLabel  \\\n",
       "0        Right-Thalamus-Proper Volume_mm3 (mm^3)   \n",
       "1                5th-Ventricle Volume_mm3 (mm^3)   \n",
       "2  Left-non-WM-hypointensities Volume_mm3 (mm^3)   \n",
       "\n",
       "                                       structure laterality  volume  \n",
       "0  http://purl.obolibrary.org/obo/UBERON_0001897      Right  7041.7  \n",
       "1  http://purl.obolibrary.org/obo/UBERON_0009857        NaN     0.0  \n",
       "2                                            NaN       Left     0.0  "
      ]
     },
     "execution_count": 19,
     "metadata": {},
     "output_type": "execute_result"
    }
   ],
   "source": [
    "hie.head(3)"
   ]
  },
  {
   "cell_type": "markdown",
   "metadata": {},
   "source": [
    "## hypotheses"
   ]
  },
  {
   "cell_type": "markdown",
   "metadata": {},
   "source": [
    "Hypotheses\n",
    "\n",
    "PIET-1: Total Brain Volume will positively correlate with IQ (in both sexes across the complete age range).\n",
    "\n",
    "MAC-1: Left striatum volume (caudate + putamen) will positively correlate with IQ in the total (male + female) child (age < 20) group.\n",
    "\n",
    "MAC-2: Left striatum volume (caudate + putamen) will positively correlate with IQ in the male children group.\n",
    "\n",
    "MAC-3: Left striatum volume (caudate + putamen) will not correlate with IQ in the female children group.\n",
    "\n",
    "GANJ-1: Total Corpus Callosum midsagittal area, after correcting for total brain volume, will negatively correlate with IQ.\n",
    "\n",
    "GANJ-2: Total Corpus Callosum midsagittal area, after correcting for total brain volume, will negatively correlate with IQ in the young (age < 12) group.\n",
    "\n",
    "GANJ-3: Total Corpus Callosum midsagittal area, after correcting for total brain volume, will not significantly correlate with IQ in the adolescent (age > 12) group.\n",
    "\n",
    "GANJ-4:. Total Corpus Callosum midsagittal area, after correcting for total brain volume, will negatively correlate with IQ in the male (age < 12) group.\n",
    "\n",
    "GANJ-5: Total Corpus Callosum midsagittal area, after correcting for total brain volume, will not significantly correlate with IQ in the female (age < 12) group.\n"
   ]
  },
  {
   "cell_type": "code",
   "execution_count": null,
   "metadata": {},
   "outputs": [],
   "source": []
  },
  {
   "cell_type": "markdown",
   "metadata": {},
   "source": [
    "## Analyses"
   ]
  },
  {
   "cell_type": "markdown",
   "metadata": {},
   "source": [
    "### sandbox"
   ]
  },
  {
   "cell_type": "code",
   "execution_count": 20,
   "metadata": {},
   "outputs": [
    {
     "name": "stdout",
     "output_type": "stream",
     "text": [
      "http://purl.obolibrary.org/obo/UBERON_0001873\n"
     ]
    }
   ],
   "source": [
    "u_caudate = h2ube['Caudate']\n",
    "print(u_caudate)"
   ]
  },
  {
   "cell_type": "code",
   "execution_count": 21,
   "metadata": {},
   "outputs": [
    {
     "data": {
      "text/plain": [
       "{'Female', 'Male'}"
      ]
     },
     "execution_count": 21,
     "metadata": {},
     "output_type": "execute_result"
    }
   ],
   "source": [
    "set(hie['Gender'])"
   ]
  },
  {
   "cell_type": "code",
   "execution_count": 22,
   "metadata": {},
   "outputs": [],
   "source": [
    "# df.loc[(df['column_name'] >= A) & (df['column_name'] <= B)]\n",
    "\n",
    "# tmp = hie[hie.structure==u_caudate][hie.Gender=='1']\n",
    "# tmp = hie.loc[(hie['Gender']=='1')] # & (hie['Gender']=='Male')]\n",
    "\n",
    "# Male or '1' for caudate\n",
    "#tmp = hie.loc[((hie['Gender']=='1') | (hie['Gender']=='Male')) \n",
    "#tmp = hie.loc[( hie['Gender']=='Male' ) \n",
    "#                    & (hie['structure'] == u_caudate ) \n",
    "#                    & (hie['tool']==tooldic['surfer'])]\n"
   ]
  },
  {
   "cell_type": "code",
   "execution_count": 23,
   "metadata": {},
   "outputs": [
    {
     "name": "stdout",
     "output_type": "stream",
     "text": [
      "['rowid', 'study', 'ID', 'Age', 'dx', 'Gender', 'FIQ', 'PIQ', 'VIQ', 'tool', 'softwareLabel', 'structure', 'laterality', 'volume']\n",
      "\n",
      "\n",
      "{'https://surfer.nmr.mgh.harvard.edu/', 'http://stnava.github.io/ANTs/', 'http://purl.org/nidash/fsl#'}\n",
      "{nan, 1, 2, 'cyst of left temporal pole                              ', 'ODD, social phobia ', 'TS', 'Typically Developing Children', '1', 'ODD, Tics, Mood disorder', 'ADHD-Inattentive', 'ADHD-Combined', 'LD', 'LD, Tics', 'SAD (previous)', 'ODD   ', 'LD, SP1', 'ODD', 'ADHD-Hyperactive/Impulsive', 'Tics', 'LD, DBD-NOS', 'LD, CD', '2', 'LD, ODD', 'enuresis', 'ODD, LD', 'LD, CD, Tics'}\n",
      "{'Female', 'Male'}\n",
      "{nan, 'Left', 'Right'}\n"
     ]
    }
   ],
   "source": [
    "print(list(hie))\n",
    "print('\\n')\n",
    "\n",
    "print(set(hie['tool']))\n",
    "print(set(hie['dx']))\n",
    "# print(set(hie['softwareLabel']))\n",
    "#print(tooldic['fsl'])\n",
    "#print(len(hie),len(tmp))\n",
    "print(set(hie['Gender']))\n",
    "#print(set(hie['dx']))\n",
    "print(set(hie['laterality']))\n"
   ]
  },
  {
   "cell_type": "code",
   "execution_count": 24,
   "metadata": {},
   "outputs": [
    {
     "name": "stdout",
     "output_type": "stream",
     "text": [
      "diag:  nan    :  0\n",
      "diag:  1    :  58997\n",
      "diag:  2    :  65879\n",
      "diag:  cyst of left temporal pole                                  :  119\n",
      "diag:  ODD, social phobia     :  181\n",
      "diag:  TS    :  543\n",
      "diag:  Typically Developing Children    :  14639\n",
      "diag:  1    :  9514\n",
      "diag:  ODD, Tics, Mood disorder    :  118\n",
      "diag:  ADHD-Inattentive    :  8813\n",
      "diag:  ADHD-Combined    :  8332\n",
      "diag:  LD    :  681\n",
      "diag:  LD, Tics    :  260\n",
      "diag:  SAD (previous)    :  118\n",
      "diag:  ODD       :  118\n",
      "diag:  LD, SP1    :  180\n",
      "diag:  ODD    :  2363\n",
      "diag:  ADHD-Hyperactive/Impulsive    :  180\n",
      "diag:  Tics    :  181\n",
      "diag:  LD, DBD-NOS    :  80\n",
      "diag:  LD, CD    :  80\n",
      "diag:  2    :  7728\n",
      "diag:  LD, ODD    :  80\n",
      "diag:  enuresis    :  181\n",
      "diag:  ODD, LD    :  621\n",
      "diag:  LD, CD, Tics    :  180\n"
     ]
    }
   ],
   "source": [
    "dxset = set(hie['dx'])\n",
    "tmp = hie[['dx']]\n",
    "\n",
    "for diag in dxset:\n",
    "    dx_cond = (tmp['dx'] == diag)\n",
    "    print('diag: ', diag, '   : ', len(tmp.loc[dx_cond]))"
   ]
  },
  {
   "cell_type": "code",
   "execution_count": 25,
   "metadata": {},
   "outputs": [
    {
     "data": {
      "text/plain": [
       "{'CC_Central': 'http://purl.obolibrary.org/obo/UBERON_0002336',\n",
       " 'CC_Posterior': 'http://purl.obolibrary.org/obo/UBERON_0015708',\n",
       " 'Cerebellum-Cortex': 'http://purl.obolibrary.org/obo/UBERON_0002129',\n",
       " 'CC_Anterior': 'http://purl.obolibrary.org/obo/UBERON_0015599',\n",
       " 'hemisphere cerebral white matter volume': 'http://purl.obolibrary.org/obo/UBERON_0002437',\n",
       " 'Caudate': 'http://purl.obolibrary.org/obo/UBERON_0001873',\n",
       " 'Optic-Chiasm': 'http://purl.obolibrary.org/obo/UBERON_0000959',\n",
       " 'Supratentorial volume': 'http://purl.obolibrary.org/obo/UBERON_0001869',\n",
       " 'Thalamus-Proper': 'http://purl.obolibrary.org/obo/UBERON_0001897',\n",
       " 'Estimated Total Intracranial Volume': 'http://purl.obolibrary.org/obo/UBERON_0013411',\n",
       " '5th-Ventricle': 'http://purl.obolibrary.org/obo/UBERON_0009857',\n",
       " '3rd-Ventricle': 'http://purl.obolibrary.org/obo/UBERON_0002286',\n",
       " 'Accumbens-area': 'http://purl.obolibrary.org/obo/UBERON_0001882',\n",
       " '4th-Ventricle': 'http://purl.obolibrary.org/obo/UBERON_0002422',\n",
       " 'Hippocampus': 'http://purl.obolibrary.org/obo/UBERON_0001954',\n",
       " 'Brain Segmentation Volume': 'http://purl.obolibrary.org/obo/UBERON_0000955',\n",
       " 'vessel': 'http://purl.obolibrary.org/obo/UBERON_0001981',\n",
       " 'Total gray matter volume': 'http://purl.obolibrary.org/obo/UBERON_0005401',\n",
       " 'Pallidum': 'http://purl.obolibrary.org/obo/UBERON_0006514',\n",
       " 'Putamen': 'http://purl.obolibrary.org/obo/UBERON_0001874',\n",
       " 'Number of Vertices': 'http://purl.obolibrary.org/obo/UBERON_0000956',\n",
       " 'Brain-Stem': 'http://purl.obolibrary.org/obo/UBERON_0002298',\n",
       " 'Amygdala': 'http://purl.obolibrary.org/obo/UBERON_0001876',\n",
       " 'Cerebellum-White-Matter': 'http://purl.obolibrary.org/obo/UBERON_0002317',\n",
       " 'CSF': 'http://purl.obolibrary.org/obo/UBERON_0001359',\n",
       " 'Lateral-Ventricle': 'http://purl.obolibrary.org/obo/UBERON_0002285',\n",
       " 'choroid-plexus': 'http://purl.obolibrary.org/obo/UBERON_0001886',\n",
       " 'Inf-Lat-Vent': 'http://purl.obolibrary.org/obo/UBERON_0006091'}"
      ]
     },
     "execution_count": 25,
     "metadata": {},
     "output_type": "execute_result"
    }
   ],
   "source": [
    "h2ube"
   ]
  },
  {
   "cell_type": "markdown",
   "metadata": {},
   "source": [
    "### Some mapping for the values in the df:\n"
   ]
  },
  {
   "cell_type": "markdown",
   "metadata": {},
   "source": [
    "####  tools"
   ]
  },
  {
   "cell_type": "code",
   "execution_count": 26,
   "metadata": {},
   "outputs": [
    {
     "name": "stdout",
     "output_type": "stream",
     "text": [
      "{'https://surfer.nmr.mgh.harvard.edu/', 'http://stnava.github.io/ANTs/', 'http://purl.org/nidash/fsl#'}\n",
      "{'surfer': 'https://surfer.nmr.mgh.harvard.edu/', 'fsl': 'http://purl.org/nidash/fsl#', 'ants': 'http://stnava.github.io/ANTs/'}\n",
      "{'https://surfer.nmr.mgh.harvard.edu/': 'surfer', 'http://purl.org/nidash/fsl#': 'fsl', 'http://stnava.github.io/ANTs/': 'ants'}\n"
     ]
    }
   ],
   "source": [
    "print(set(hie['tool']))\n",
    "tooldic = {'surfer':'https://surfer.nmr.mgh.harvard.edu/', \n",
    "           'fsl':'http://purl.org/nidash/fsl#',\n",
    "           'ants':'http://stnava.github.io/ANTs/'}\n",
    "print(tooldic)\n",
    "dictool = {v:k for (k,v) in tooldic.items()}\n",
    "print(dictool)"
   ]
  },
  {
   "cell_type": "markdown",
   "metadata": {},
   "source": [
    "#### normally developing children"
   ]
  },
  {
   "cell_type": "code",
   "execution_count": 27,
   "metadata": {},
   "outputs": [
    {
     "name": "stdout",
     "output_type": "stream",
     "text": [
      "{nan, 1, 2, 'cyst of left temporal pole                              ', 'ODD, social phobia ', 'TS', 'Typically Developing Children', '1', 'ODD, Tics, Mood disorder', 'ADHD-Inattentive', 'ADHD-Combined', 'LD', 'LD, Tics', 'SAD (previous)', 'ODD   ', 'LD, SP1', 'ODD', 'ADHD-Hyperactive/Impulsive', 'Tics', 'LD, DBD-NOS', 'LD, CD', '2', 'LD, ODD', 'enuresis', 'ODD, LD', 'LD, CD, Tics'}\n"
     ]
    }
   ],
   "source": [
    "dxset = set(hie['dx'])\n",
    "print(dxset)\n",
    "normalDev = (2, '2', 'Typically Developing Children')\n",
    "adhd = (1, '1', 'ADHD-Combined', 'ADHD-Hyperactive/Impulsive', 'ADHD-Inattentive')"
   ]
  },
  {
   "cell_type": "markdown",
   "metadata": {},
   "source": [
    "### PIET-1: Total Brain Volume will positively correlate with IQ (in both sexes across the complete age range).\n"
   ]
  },
  {
   "cell_type": "code",
   "execution_count": 28,
   "metadata": {},
   "outputs": [
    {
     "name": "stdout",
     "output_type": "stream",
     "text": [
      "['rowid', 'study', 'ID', 'Age', 'dx', 'Gender', 'FIQ', 'PIQ', 'VIQ', 'tool', 'softwareLabel', 'structure', 'laterality', 'volume']\n"
     ]
    }
   ],
   "source": [
    "print(list(hie))"
   ]
  },
  {
   "cell_type": "code",
   "execution_count": 29,
   "metadata": {},
   "outputs": [
    {
     "data": {
      "image/png": "[encoded data removed]",
      "text/plain": [
       "<Figure size 432x288 with 1 Axes>"
      ]
     },
     "metadata": {
      "needs_background": "light"
     },
     "output_type": "display_data"
    }
   ],
   "source": [
    "plt.hist(hie['FIQ']);"
   ]
  },
  {
   "cell_type": "code",
   "execution_count": 30,
   "metadata": {},
   "outputs": [
    {
     "name": "stdout",
     "output_type": "stream",
     "text": [
      "191998 458\n"
     ]
    }
   ],
   "source": [
    "# roi = 'Brain Segmentation Volume'\n",
    "#roi = 'Estimated Total Intracranial Volume'\n",
    "roi = 'Brain Segmentation Volume (mm^3)'\n",
    "roi = 'BVOL (mm^3)'\n",
    "roiLabel = roi\n",
    "# roi = 'Total gray matter volume'\n",
    "# roi = 'cerebellar cortex'\n",
    "# tool = 'surfer'\n",
    "tool = 'ants'\n",
    "\n",
    "\n",
    "tmp = hie[['study','ID','Gender','Age','structure','tool','volume','PIQ','FIQ','dx','softwareLabel']]\n",
    "#tmp = hie[['study','ID','Gender', 'Age', 'structure','tool','volume', 'laterality', 'FIQ', 'PIQ']]\n",
    "# tmp = tmp.loc[((hie['Gender']=='1') | (hie['Gender']=='Male')) \n",
    "\n",
    "\n",
    "lat_cond = ((hie['laterality'] == 'L')|(hie['laterality'] == 'Left')|(hie['laterality'] == 'Left'))\n",
    "age_cond = (hie['Age'] <= 20)\n",
    "roi_cond = (hie['softwareLabel'] == roiLabel)\n",
    "tool_cond = (hie['tool'] == tooldic[tool])\n",
    "fiq_cond = (hie['FIQ'] > 0 )\n",
    "\n",
    "pop_cond = False\n",
    "for pop in normalDev:\n",
    "    # print(np.sum(pop_cond))\n",
    "    pop_cond = pop_cond | (hie['dx'] == pop)\n",
    "    # print(pop, np.sum(pop_cond))\n",
    "#print(np.sum(pop_cond))\n",
    "    \n",
    "#pop_cond = (hie['dx'] == normalDev[0]) | (hie['dx'] == normalDev[1]) | (hie['dx'] == normalDev[2])\n",
    "\n",
    "# site_cond = (hie['study'].str.contains(\"ABIDE\"))\n",
    "# site_cond = (hie['study']==\"ADHD200\")\n",
    "\n",
    "\n",
    "condition = roi_cond &  pop_cond & fiq_cond & tool_cond  # & site_cond # & site_cond #& age_cond \n",
    "\n",
    "tmp = tmp.loc[condition].dropna(subset=['FIQ', 'volume', 'Gender']) # .drop_duplicates()\n",
    "print(len(hie),len(tmp))"
   ]
  },
  {
   "cell_type": "code",
   "execution_count": 31,
   "metadata": {},
   "outputs": [],
   "source": [
    "#tmp.head(2)"
   ]
  },
  {
   "cell_type": "code",
   "execution_count": 32,
   "metadata": {},
   "outputs": [
    {
     "data": {
      "image/png": "[encoded data removed]",
      "text/plain": [
       "<Figure size 432x288 with 1 Axes>"
      ]
     },
     "metadata": {
      "needs_background": "light"
     },
     "output_type": "display_data"
    }
   ],
   "source": [
    "plt.hist(tmp['FIQ'], bins=50);"
   ]
  },
  {
   "cell_type": "code",
   "execution_count": 33,
   "metadata": {},
   "outputs": [],
   "source": [
    "\"\"\"\n",
    "# roi = 'Brain Segmentation Volume'\n",
    "roi = 'Estimated Total Intracranial Volume'\n",
    "softwareLabel = 'Brain Segmentation Volume (mm^3)'\n",
    "# roi = 'Total gray matter volume'\n",
    "# roi = 'cerebellar cortex'\n",
    "tool = 'surfer'\n",
    "# tool = 'ants'\n",
    "\n",
    "\n",
    "tmp = hie[['study','ID','Gender','structure','tool','volume','PIQ','FIQ','dx','sofwareLabel']]\n",
    "#tmp = hie[['study','ID','Gender', 'Age', 'structure','tool','volume', 'laterality', 'FIQ', 'PIQ']]\n",
    "# tmp = tmp.loc[((hie['Gender']=='1') | (hie['Gender']=='Male')) \n",
    "\n",
    "\n",
    "# hand_cond = ((hie['hand'] == 'L')|(hie['hand'] == 'Left')|(hie['latera'] == 'Left'))\n",
    "#age_cond = (hie['Age'] <= 20)\n",
    "roi_cond = (hie['structure'] == h2ube[roi])\n",
    "tool_cond = (hie['tool'] == tooldic[tool])\n",
    "\n",
    "pop_cond = False\n",
    "for pop in normalDev:\n",
    "    pop_cond = pop_cond | (hie['dx'] == pop)\n",
    "#pop_cond = (hie['dx'] == normalDev[0]) | (hie['dx'] == normalDev[1]) | (hie['dx'] == normalDev[2])\n",
    "\n",
    "\n",
    "\n",
    "condition = roi_cond & tool_cond & pop_cond #& age_cond \n",
    "\n",
    "tmp = tmp.loc[condition].drop_duplicates().dropna()\n",
    "\n",
    "print(len(hie),len(tmp))\n",
    "\"\"\";"
   ]
  },
  {
   "cell_type": "code",
   "execution_count": 34,
   "metadata": {},
   "outputs": [
    {
     "name": "stdout",
     "output_type": "stream",
     "text": [
      "['study', 'ID', 'Gender', 'Age', 'structure', 'tool', 'volume', 'PIQ', 'FIQ', 'dx', 'softwareLabel']\n"
     ]
    }
   ],
   "source": [
    "print(list(tmp))"
   ]
  },
  {
   "cell_type": "code",
   "execution_count": 35,
   "metadata": {},
   "outputs": [],
   "source": [
    "#tmp.head(7)"
   ]
  },
  {
   "cell_type": "code",
   "execution_count": 36,
   "metadata": {},
   "outputs": [
    {
     "name": "stdout",
     "output_type": "stream",
     "text": [
      " Structure =  BVOL (mm^3)\n",
      "                            OLS Regression Results                            \n",
      "==============================================================================\n",
      "Dep. Variable:                    FIQ   R-squared:                       0.128\n",
      "Model:                            OLS   Adj. R-squared:                  0.092\n",
      "Method:                 Least Squares   F-statistic:                     3.583\n",
      "Date:                Tue, 26 Nov 2019   Prob (F-statistic):           1.28e-06\n",
      "Time:                        09:51:49   Log-Likelihood:                -1791.6\n",
      "No. Observations:                 458   AIC:                             3621.\n",
      "Df Residuals:                     439   BIC:                             3700.\n",
      "Df Model:                          18                                         \n",
      "Covariance Type:            nonrobust                                         \n",
      "================================================================================================\n",
      "                                   coef    std err          t      P>|t|      [0.025      0.975]\n",
      "------------------------------------------------------------------------------------------------\n",
      "Intercept                       85.8283     11.075      7.750      0.000      64.063     107.594\n",
      "study[T.ABIDE CMU_b Site]       15.6274     15.136      1.032      0.302     -14.120      45.375\n",
      "study[T.ABIDE KKI Site]         14.7094     15.132      0.972      0.332     -15.031      44.450\n",
      "study[T.ABIDE Leuven_1 Site]     0.2334     15.134      0.015      0.988     -29.510      29.977\n",
      "study[T.ABIDE MaxMun_c Site]     8.3841     15.270      0.549      0.583     -21.627      38.395\n",
      "study[T.ABIDE NYU Site]          2.7016      8.826      0.306      0.760     -14.645      20.048\n",
      "study[T.ABIDE OHSU Site]         5.7130      9.302      0.614      0.539     -12.569      23.995\n",
      "study[T.ABIDE Olin Site]         5.0148      9.267      0.541      0.589     -13.199      23.229\n",
      "study[T.ABIDE Pitt Site]        -1.3262      9.092     -0.146      0.884     -19.195      16.543\n",
      "study[T.ABIDE SDSU Site]        -1.8008      9.164     -0.197      0.844     -19.812      16.210\n",
      "study[T.ABIDE Stanford Site]     6.5050      9.206      0.707      0.480     -11.588      24.598\n",
      "study[T.ABIDE Trinity Site]     -2.1499      9.136     -0.235      0.814     -20.105      15.806\n",
      "study[T.ABIDE UCLA_1 Site]      -4.0930      9.007     -0.454      0.650     -21.796      13.610\n",
      "study[T.ABIDE UCLA_2 Site]       1.6144      9.385      0.172      0.863     -16.830      20.059\n",
      "study[T.ABIDE UM_1 Site]        -2.8860      8.903     -0.324      0.746     -20.384      14.612\n",
      "study[T.ABIDE UM_2 Site]         0.2529      9.152      0.028      0.978     -17.733      18.239\n",
      "study[T.ABIDE Yale Site]        -4.1128      9.044     -0.455      0.650     -21.888      13.662\n",
      "study[T.ADHD200]                 6.8153      8.842      0.771      0.441     -10.563      24.193\n",
      "Q('volume')                   1.655e-05   4.76e-06      3.478      0.001     7.2e-06    2.59e-05\n",
      "==============================================================================\n",
      "Omnibus:                        7.111   Durbin-Watson:                   2.047\n",
      "Prob(Omnibus):                  0.029   Jarque-Bera (JB):                7.772\n",
      "Skew:                          -0.211   Prob(JB):                       0.0205\n",
      "Kurtosis:                       3.478   Cond. No.                     9.61e+07\n",
      "==============================================================================\n",
      "\n",
      "Warnings:\n",
      "[1] Standard Errors assume that the covariance matrix of the errors is correctly specified.\n",
      "[2] The condition number is large, 9.61e+07. This might indicate that there are\n",
      "strong multicollinearity or other numerical problems.\n"
     ]
    }
   ],
   "source": [
    "print(\" Structure = \", roi)\n",
    "#assert ube2h[tmp.iloc[0]['structure']] == roi\n",
    "\n",
    "iq = 'FIQ'\n",
    "\n",
    "# md = smf.ols(iq + \" ~ Q('volume') + Gender + Age + study \", data=tmp) #  \n",
    "md = smf.ols(iq + \" ~ Q('volume') + study \", data=tmp) #  \n",
    "mdf = md.fit()\n",
    "print(mdf.summary())\n"
   ]
  },
  {
   "cell_type": "code",
   "execution_count": 37,
   "metadata": {},
   "outputs": [
    {
     "name": "stdout",
     "output_type": "stream",
     "text": [
      " Structure =  BVOL (mm^3)\n",
      "                            OLS Regression Results                            \n",
      "==============================================================================\n",
      "Dep. Variable:                 volume   R-squared:                       0.351\n",
      "Model:                            OLS   Adj. R-squared:                  0.326\n",
      "Method:                 Least Squares   F-statistic:                     13.85\n",
      "Date:                Tue, 26 Nov 2019   Prob (F-statistic):           8.46e-30\n",
      "Time:                        09:51:50   Log-Likelihood:                -5564.2\n",
      "No. Observations:                 426   AIC:                         1.116e+04\n",
      "Df Residuals:                     409   BIC:                         1.123e+04\n",
      "Df Model:                          16                                         \n",
      "Covariance Type:            nonrobust                                         \n",
      "================================================================================================\n",
      "                                   coef    std err          t      P>|t|      [0.025      0.975]\n",
      "------------------------------------------------------------------------------------------------\n",
      "Intercept                     1.284e+06   9.51e+04     13.502      0.000     1.1e+06    1.47e+06\n",
      "Gender[T.Male]                1.112e+05   1.44e+04      7.727      0.000    8.29e+04    1.39e+05\n",
      "study[T.ABIDE CMU_b Site]     4.047e+04   1.43e+05      0.283      0.777   -2.41e+05    3.22e+05\n",
      "study[T.ABIDE KKI Site]      -1.694e-10   1.32e-10     -1.283      0.200   -4.29e-10    9.01e-11\n",
      "study[T.ABIDE Leuven_1 Site] -3.712e+04   1.43e+05     -0.260      0.795   -3.17e+05    2.43e+05\n",
      "study[T.ABIDE MaxMun_c Site]  4.233e+05   1.43e+05      2.970      0.003    1.43e+05    7.04e+05\n",
      "study[T.ABIDE NYU Site]        6.71e+04   8.31e+04      0.808      0.420   -9.62e+04     2.3e+05\n",
      "study[T.ABIDE OHSU Site]     -1.642e-10   3.08e-10     -0.533      0.594    -7.7e-10    4.42e-10\n",
      "study[T.ABIDE Olin Site]     -4.504e-11   2.54e-10     -0.177      0.859   -5.44e-10    4.54e-10\n",
      "study[T.ABIDE Pitt Site]      1.544e+05   8.53e+04      1.811      0.071   -1.32e+04    3.22e+05\n",
      "study[T.ABIDE SDSU Site]      6.279e+04   8.63e+04      0.728      0.467   -1.07e+05    2.32e+05\n",
      "study[T.ABIDE Stanford Site] -1.089e+05   8.65e+04     -1.260      0.208   -2.79e+05     6.1e+04\n",
      "study[T.ABIDE Trinity Site]   2.118e+05   8.54e+04      2.481      0.014     4.4e+04     3.8e+05\n",
      "study[T.ABIDE UCLA_1 Site]   -2.274e+04   8.47e+04     -0.268      0.788   -1.89e+05    1.44e+05\n",
      "study[T.ABIDE UCLA_2 Site]     2.31e+04   8.83e+04      0.262      0.794    -1.5e+05    1.97e+05\n",
      "study[T.ABIDE UM_1 Site]      4.988e+04   8.39e+04      0.595      0.552   -1.15e+05    2.15e+05\n",
      "study[T.ABIDE UM_2 Site]      8.729e+04    8.6e+04      1.015      0.311   -8.17e+04    2.56e+05\n",
      "study[T.ABIDE Yale Site]      7771.6575   8.51e+04      0.091      0.927    -1.6e+05    1.75e+05\n",
      "study[T.ADHD200]              7.414e+04   8.32e+04      0.891      0.373   -8.94e+04    2.38e+05\n",
      "Q(iq)                          326.4986    439.330      0.743      0.458    -537.128    1190.125\n",
      "==============================================================================\n",
      "Omnibus:                        0.460   Durbin-Watson:                   1.960\n",
      "Prob(Omnibus):                  0.794   Jarque-Bera (JB):                0.578\n",
      "Skew:                           0.050   Prob(JB):                        0.749\n",
      "Kurtosis:                       2.849   Cond. No.                     1.29e+19\n",
      "==============================================================================\n",
      "\n",
      "Warnings:\n",
      "[1] Standard Errors assume that the covariance matrix of the errors is correctly specified.\n",
      "[2] The smallest eigenvalue is 3.03e-32. This might indicate that there are\n",
      "strong multicollinearity problems or that the design matrix is singular.\n"
     ]
    }
   ],
   "source": [
    "print(\" Structure = \", roi)\n",
    "# assert ube2h[tmp.iloc[0]['structure']] == roi\n",
    "\n",
    "iq = 'PIQ'\n",
    "\n",
    "md = smf.ols('volume' + \" ~ Q(iq) + Gender + study \", data=tmp) #  \n",
    "# md = smf.ols(iq + \" ~ Q('volume') + study \", data=tmp) #  \n",
    "mdf = md.fit()\n",
    "print(mdf.summary())\n"
   ]
  },
  {
   "cell_type": "code",
   "execution_count": 38,
   "metadata": {},
   "outputs": [
    {
     "data": {
      "text/html": [
       "<div>\n",
       "<style scoped>\n",
       "    .dataframe tbody tr th:only-of-type {\n",
       "        vertical-align: middle;\n",
       "    }\n",
       "\n",
       "    .dataframe tbody tr th {\n",
       "        vertical-align: top;\n",
       "    }\n",
       "\n",
       "    .dataframe thead th {\n",
       "        text-align: right;\n",
       "    }\n",
       "</style>\n",
       "<table border=\"1\" class=\"dataframe\">\n",
       "  <thead>\n",
       "    <tr style=\"text-align: right;\">\n",
       "      <th></th>\n",
       "      <th>study</th>\n",
       "      <th>ID</th>\n",
       "      <th>Gender</th>\n",
       "      <th>Age</th>\n",
       "      <th>structure</th>\n",
       "      <th>tool</th>\n",
       "      <th>volume</th>\n",
       "      <th>PIQ</th>\n",
       "      <th>FIQ</th>\n",
       "      <th>dx</th>\n",
       "      <th>softwareLabel</th>\n",
       "    </tr>\n",
       "  </thead>\n",
       "  <tbody>\n",
       "    <tr>\n",
       "      <th>465</th>\n",
       "      <td>ABIDE SDSU Site</td>\n",
       "      <td>50195</td>\n",
       "      <td>Male</td>\n",
       "      <td>12.58</td>\n",
       "      <td>http://purl.obolibrary.org/obo/UBERON_0000955</td>\n",
       "      <td>http://stnava.github.io/ANTs/</td>\n",
       "      <td>1312940.0</td>\n",
       "      <td>129.0</td>\n",
       "      <td>123.0</td>\n",
       "      <td>2</td>\n",
       "      <td>BVOL (mm^3)</td>\n",
       "    </tr>\n",
       "    <tr>\n",
       "      <th>588</th>\n",
       "      <td>ABIDE SDSU Site</td>\n",
       "      <td>50193</td>\n",
       "      <td>Male</td>\n",
       "      <td>14.75</td>\n",
       "      <td>http://purl.obolibrary.org/obo/UBERON_0000955</td>\n",
       "      <td>http://stnava.github.io/ANTs/</td>\n",
       "      <td>1475770.0</td>\n",
       "      <td>114.0</td>\n",
       "      <td>112.0</td>\n",
       "      <td>2</td>\n",
       "      <td>BVOL (mm^3)</td>\n",
       "    </tr>\n",
       "    <tr>\n",
       "      <th>745</th>\n",
       "      <td>ABIDE SDSU Site</td>\n",
       "      <td>50206</td>\n",
       "      <td>Female</td>\n",
       "      <td>8.67</td>\n",
       "      <td>http://purl.obolibrary.org/obo/UBERON_0000955</td>\n",
       "      <td>http://stnava.github.io/ANTs/</td>\n",
       "      <td>1392320.0</td>\n",
       "      <td>103.0</td>\n",
       "      <td>112.0</td>\n",
       "      <td>2</td>\n",
       "      <td>BVOL (mm^3)</td>\n",
       "    </tr>\n",
       "  </tbody>\n",
       "</table>\n",
       "</div>"
      ],
      "text/plain": [
       "               study     ID  Gender    Age  \\\n",
       "465  ABIDE SDSU Site  50195    Male  12.58   \n",
       "588  ABIDE SDSU Site  50193    Male  14.75   \n",
       "745  ABIDE SDSU Site  50206  Female   8.67   \n",
       "\n",
       "                                         structure  \\\n",
       "465  http://purl.obolibrary.org/obo/UBERON_0000955   \n",
       "588  http://purl.obolibrary.org/obo/UBERON_0000955   \n",
       "745  http://purl.obolibrary.org/obo/UBERON_0000955   \n",
       "\n",
       "                              tool     volume    PIQ    FIQ dx softwareLabel  \n",
       "465  http://stnava.github.io/ANTs/  1312940.0  129.0  123.0  2   BVOL (mm^3)  \n",
       "588  http://stnava.github.io/ANTs/  1475770.0  114.0  112.0  2   BVOL (mm^3)  \n",
       "745  http://stnava.github.io/ANTs/  1392320.0  103.0  112.0  2   BVOL (mm^3)  "
      ]
     },
     "execution_count": 38,
     "metadata": {},
     "output_type": "execute_result"
    },
    {
     "data": {
      "image/png": "[encoded data removed]",
      "text/plain": [
       "<Figure size 432x288 with 1 Axes>"
      ]
     },
     "metadata": {
      "needs_background": "light"
     },
     "output_type": "display_data"
    }
   ],
   "source": [
    "mergeddf = tmp\n",
    "cond1 = (mergeddf['Gender']=='Male')\n",
    "cond2 = (mergeddf['Gender']=='Female')\n",
    "fig = plt.figure()\n",
    "ax1 = fig.add_subplot(111)\n",
    "ax1.plot(mergeddf.loc[cond1]['Age'], mergeddf.loc[cond1]['volume'], '.b')\n",
    "ax1.plot(mergeddf.loc[cond2]['Age'], mergeddf.loc[cond2]['volume'], '.r')\n",
    "mergeddf.head(3)\n"
   ]
  },
  {
   "cell_type": "markdown",
   "metadata": {},
   "source": [
    "### conclusion : \n",
    "1. no significance for piq for what seems to be the closest region: Estimated Total Intracranial Volume\n",
    "2. FIQ\n",
    "Q('volume')                      0.0001      0.000      0.395      0.693      -0.001       0.001\n",
    "Q(iq)                            2.6726      6.770      0.395      0.693     -10.636      15.981\n",
    "3. PIQ:\n",
    "Q('volume')                  -1.385e-05      0.000     -0.046      0.963      -0.001       0.001\n",
    "Q(iq)                           -0.3830      8.283     -0.046      0.963     -16.666      15.900"
   ]
  },
  {
   "cell_type": "code",
   "execution_count": 39,
   "metadata": {},
   "outputs": [
    {
     "data": {
      "text/plain": [
       "{'Left', 'Right', nan}"
      ]
     },
     "execution_count": 39,
     "metadata": {},
     "output_type": "execute_result"
    }
   ],
   "source": [
    "set(hie['laterality'])"
   ]
  },
  {
   "cell_type": "code",
   "execution_count": 40,
   "metadata": {},
   "outputs": [],
   "source": [
    "roi1 = 'hemisphere cerebral white matter volume'\n",
    "roi2 = 'Total gray matter volume'\n",
    "roi3 = 'CSF'"
   ]
  },
  {
   "cell_type": "code",
   "execution_count": 41,
   "metadata": {},
   "outputs": [],
   "source": [
    "tmp = hie[['study','ID','Gender', 'Age', 'structure','tool','volume', 'laterality', 'FIQ', 'PIQ', 'dx']]\n",
    "\n",
    "# conditions \n",
    "age_cond = (tmp['Age'] <= 20)\n",
    "roi1_cond = (tmp['structure'] == h2ube[roi1]) & (tmp['laterality'] != 'Left') & (tmp['laterality'] != 'Right')\n",
    "roi2_cond = (tmp['structure'] == h2ube[roi2])\n",
    "roi3_cond = (tmp['structure'] == h2ube[roi3])\n",
    "tool_cond = (tmp['tool']==tooldic[tool])\n",
    "\n",
    "pop_cond = False\n",
    "for pop in normalDev:\n",
    "    pop_cond = pop_cond | (hie['dx'] == pop)\n",
    "\n",
    "condition1 = roi1_cond & tool_cond & pop_cond # & age_cond   \n",
    "condition2 = roi2_cond & tool_cond & pop_cond # & age_cond\n",
    "condition3 = roi3_cond & tool_cond & pop_cond # & age_cond  \n",
    "\n",
    "tmp1 = tmp.loc[condition1].drop_duplicates()\n",
    "tmp2 = tmp.loc[condition2].drop_duplicates()\n",
    "tmp3 = tmp.loc[condition3].drop_duplicates()"
   ]
  },
  {
   "cell_type": "code",
   "execution_count": 42,
   "metadata": {},
   "outputs": [
    {
     "name": "stdout",
     "output_type": "stream",
     "text": [
      "458 458\n",
      "0 0\n",
      "458 458\n"
     ]
    }
   ],
   "source": [
    "# CHECK THAT INDEX is unique !\n",
    "print(len(tmp1), len(set(tmp1['ID'])))\n",
    "print(len(tmp2), len(set(tmp2['ID'])))\n",
    "print(len(tmp3), len(set(tmp3['ID'])))"
   ]
  },
  {
   "cell_type": "code",
   "execution_count": 43,
   "metadata": {},
   "outputs": [
    {
     "data": {
      "text/html": [
       "<div>\n",
       "<style scoped>\n",
       "    .dataframe tbody tr th:only-of-type {\n",
       "        vertical-align: middle;\n",
       "    }\n",
       "\n",
       "    .dataframe tbody tr th {\n",
       "        vertical-align: top;\n",
       "    }\n",
       "\n",
       "    .dataframe thead th {\n",
       "        text-align: right;\n",
       "    }\n",
       "</style>\n",
       "<table border=\"1\" class=\"dataframe\">\n",
       "  <thead>\n",
       "    <tr style=\"text-align: right;\">\n",
       "      <th></th>\n",
       "      <th>study</th>\n",
       "      <th>ID</th>\n",
       "      <th>Gender</th>\n",
       "      <th>Age</th>\n",
       "      <th>structure</th>\n",
       "      <th>tool</th>\n",
       "      <th>volume_1</th>\n",
       "      <th>laterality</th>\n",
       "      <th>FIQ</th>\n",
       "      <th>PIQ</th>\n",
       "      <th>dx</th>\n",
       "      <th>volume_2</th>\n",
       "    </tr>\n",
       "  </thead>\n",
       "  <tbody>\n",
       "  </tbody>\n",
       "</table>\n",
       "</div>"
      ],
      "text/plain": [
       "Empty DataFrame\n",
       "Columns: [study, ID, Gender, Age, structure, tool, volume_1, laterality, FIQ, PIQ, dx, volume_2]\n",
       "Index: []"
      ]
     },
     "execution_count": 43,
     "metadata": {},
     "output_type": "execute_result"
    }
   ],
   "source": [
    "#cols_to_use = tmp2.columns - tmp1.columns\n",
    "#print(cols_to_use)\n",
    "merged_inner = pd.merge(left=tmp1, right=tmp2[['ID','volume']], left_on='ID', right_on='ID', suffixes=('_1', '_2'))\n",
    "merged_inner.head(3)\n"
   ]
  },
  {
   "cell_type": "code",
   "execution_count": 44,
   "metadata": {},
   "outputs": [
    {
     "name": "stdout",
     "output_type": "stream",
     "text": [
      "['study', 'Gender', 'Age', 'structure', 'tool', 'volume_1', 'laterality', 'FIQ', 'PIQ', 'dx', 'volume_2', 'ID', 'volume_3', 'total_volume']\n",
      "0\n"
     ]
    }
   ],
   "source": [
    "mergeddf = pd.merge(left=merged_inner, right=tmp3[['ID','volume']], \n",
    "                        left_on='ID', right_on='ID') #,suffixes=('_m', '_3'))\n",
    "mergeddf.rename(columns={'volume':'volume_3'}, inplace=True)\n",
    "mergeddf['total_volume'] = mergeddf['volume_1'] + mergeddf['volume_2'] + mergeddf['volume_3'] \n",
    "print(list(mergeddf))\n",
    "print(len(mergeddf))\n"
   ]
  },
  {
   "cell_type": "code",
   "execution_count": 45,
   "metadata": {},
   "outputs": [
    {
     "ename": "ValueError",
     "evalue": "negative dimensions are not allowed",
     "output_type": "error",
     "traceback": [
      "\u001b[0;31m---------------------------------------------------------------------------\u001b[0m",
      "\u001b[0;31mValueError\u001b[0m                                Traceback (most recent call last)",
      "\u001b[0;32m<ipython-input-45-a655fb7e3123>\u001b[0m in \u001b[0;36m<module>\u001b[0;34m\u001b[0m\n\u001b[1;32m      1\u001b[0m \u001b[0miq\u001b[0m \u001b[0;34m=\u001b[0m \u001b[0;34m'FIQ'\u001b[0m\u001b[0;34m\u001b[0m\u001b[0;34m\u001b[0m\u001b[0m\n\u001b[0;32m----> 2\u001b[0;31m \u001b[0mmd\u001b[0m \u001b[0;34m=\u001b[0m \u001b[0msmf\u001b[0m\u001b[0;34m.\u001b[0m\u001b[0mols\u001b[0m\u001b[0;34m(\u001b[0m\u001b[0miq\u001b[0m \u001b[0;34m+\u001b[0m \u001b[0;34m\" ~ Q('total_volume') + Gender + study + Age \"\u001b[0m\u001b[0;34m,\u001b[0m \u001b[0mdata\u001b[0m\u001b[0;34m=\u001b[0m\u001b[0mmergeddf\u001b[0m\u001b[0;34m)\u001b[0m \u001b[0;31m#\u001b[0m\u001b[0;34m\u001b[0m\u001b[0;34m\u001b[0m\u001b[0m\n\u001b[0m\u001b[1;32m      3\u001b[0m \u001b[0mmdf\u001b[0m \u001b[0;34m=\u001b[0m \u001b[0mmd\u001b[0m\u001b[0;34m.\u001b[0m\u001b[0mfit\u001b[0m\u001b[0;34m(\u001b[0m\u001b[0;34m)\u001b[0m\u001b[0;34m\u001b[0m\u001b[0;34m\u001b[0m\u001b[0m\n\u001b[1;32m      4\u001b[0m \u001b[0mprint\u001b[0m\u001b[0;34m(\u001b[0m\u001b[0mmdf\u001b[0m\u001b[0;34m.\u001b[0m\u001b[0msummary\u001b[0m\u001b[0;34m(\u001b[0m\u001b[0;34m)\u001b[0m\u001b[0;34m)\u001b[0m\u001b[0;34m\u001b[0m\u001b[0;34m\u001b[0m\u001b[0m\n",
      "\u001b[0;32m~/virtualenvs/simple2/lib/python3.6/site-packages/statsmodels/base/model.py\u001b[0m in \u001b[0;36mfrom_formula\u001b[0;34m(cls, formula, data, subset, drop_cols, *args, **kwargs)\u001b[0m\n\u001b[1;32m    153\u001b[0m \u001b[0;34m\u001b[0m\u001b[0m\n\u001b[1;32m    154\u001b[0m         tmp = handle_formula_data(data, None, formula, depth=eval_env,\n\u001b[0;32m--> 155\u001b[0;31m                                   missing=missing)\n\u001b[0m\u001b[1;32m    156\u001b[0m         \u001b[0;34m(\u001b[0m\u001b[0;34m(\u001b[0m\u001b[0mendog\u001b[0m\u001b[0;34m,\u001b[0m \u001b[0mexog\u001b[0m\u001b[0;34m)\u001b[0m\u001b[0;34m,\u001b[0m \u001b[0mmissing_idx\u001b[0m\u001b[0;34m,\u001b[0m \u001b[0mdesign_info\u001b[0m\u001b[0;34m)\u001b[0m \u001b[0;34m=\u001b[0m \u001b[0mtmp\u001b[0m\u001b[0;34m\u001b[0m\u001b[0;34m\u001b[0m\u001b[0m\n\u001b[1;32m    157\u001b[0m \u001b[0;34m\u001b[0m\u001b[0m\n",
      "\u001b[0;32m~/virtualenvs/simple2/lib/python3.6/site-packages/statsmodels/formula/formulatools.py\u001b[0m in \u001b[0;36mhandle_formula_data\u001b[0;34m(Y, X, formula, depth, missing)\u001b[0m\n\u001b[1;32m     63\u001b[0m         \u001b[0;32mif\u001b[0m \u001b[0mdata_util\u001b[0m\u001b[0;34m.\u001b[0m\u001b[0m_is_using_pandas\u001b[0m\u001b[0;34m(\u001b[0m\u001b[0mY\u001b[0m\u001b[0;34m,\u001b[0m \u001b[0;32mNone\u001b[0m\u001b[0;34m)\u001b[0m\u001b[0;34m:\u001b[0m\u001b[0;34m\u001b[0m\u001b[0;34m\u001b[0m\u001b[0m\n\u001b[1;32m     64\u001b[0m             result = dmatrices(formula, Y, depth, return_type='dataframe',\n\u001b[0;32m---> 65\u001b[0;31m                                NA_action=na_action)\n\u001b[0m\u001b[1;32m     66\u001b[0m         \u001b[0;32melse\u001b[0m\u001b[0;34m:\u001b[0m\u001b[0;34m\u001b[0m\u001b[0;34m\u001b[0m\u001b[0m\n\u001b[1;32m     67\u001b[0m             result = dmatrices(formula, Y, depth, return_type='dataframe',\n",
      "\u001b[0;32m~/virtualenvs/simple2/lib/python3.6/site-packages/patsy/highlevel.py\u001b[0m in \u001b[0;36mdmatrices\u001b[0;34m(formula_like, data, eval_env, NA_action, return_type)\u001b[0m\n\u001b[1;32m    308\u001b[0m     \u001b[0meval_env\u001b[0m \u001b[0;34m=\u001b[0m \u001b[0mEvalEnvironment\u001b[0m\u001b[0;34m.\u001b[0m\u001b[0mcapture\u001b[0m\u001b[0;34m(\u001b[0m\u001b[0meval_env\u001b[0m\u001b[0;34m,\u001b[0m \u001b[0mreference\u001b[0m\u001b[0;34m=\u001b[0m\u001b[0;36m1\u001b[0m\u001b[0;34m)\u001b[0m\u001b[0;34m\u001b[0m\u001b[0;34m\u001b[0m\u001b[0m\n\u001b[1;32m    309\u001b[0m     (lhs, rhs) = _do_highlevel_design(formula_like, data, eval_env,\n\u001b[0;32m--> 310\u001b[0;31m                                       NA_action, return_type)\n\u001b[0m\u001b[1;32m    311\u001b[0m     \u001b[0;32mif\u001b[0m \u001b[0mlhs\u001b[0m\u001b[0;34m.\u001b[0m\u001b[0mshape\u001b[0m\u001b[0;34m[\u001b[0m\u001b[0;36m1\u001b[0m\u001b[0;34m]\u001b[0m \u001b[0;34m==\u001b[0m \u001b[0;36m0\u001b[0m\u001b[0;34m:\u001b[0m\u001b[0;34m\u001b[0m\u001b[0;34m\u001b[0m\u001b[0m\n\u001b[1;32m    312\u001b[0m         \u001b[0;32mraise\u001b[0m \u001b[0mPatsyError\u001b[0m\u001b[0;34m(\u001b[0m\u001b[0;34m\"model is missing required outcome variables\"\u001b[0m\u001b[0;34m)\u001b[0m\u001b[0;34m\u001b[0m\u001b[0;34m\u001b[0m\u001b[0m\n",
      "\u001b[0;32m~/virtualenvs/simple2/lib/python3.6/site-packages/patsy/highlevel.py\u001b[0m in \u001b[0;36m_do_highlevel_design\u001b[0;34m(formula_like, data, eval_env, NA_action, return_type)\u001b[0m\n\u001b[1;32m    163\u001b[0m         \u001b[0;32mreturn\u001b[0m \u001b[0miter\u001b[0m\u001b[0;34m(\u001b[0m\u001b[0;34m[\u001b[0m\u001b[0mdata\u001b[0m\u001b[0;34m]\u001b[0m\u001b[0;34m)\u001b[0m\u001b[0;34m\u001b[0m\u001b[0;34m\u001b[0m\u001b[0m\n\u001b[1;32m    164\u001b[0m     design_infos = _try_incr_builders(formula_like, data_iter_maker, eval_env,\n\u001b[0;32m--> 165\u001b[0;31m                                       NA_action)\n\u001b[0m\u001b[1;32m    166\u001b[0m     \u001b[0;32mif\u001b[0m \u001b[0mdesign_infos\u001b[0m \u001b[0;32mis\u001b[0m \u001b[0;32mnot\u001b[0m \u001b[0;32mNone\u001b[0m\u001b[0;34m:\u001b[0m\u001b[0;34m\u001b[0m\u001b[0;34m\u001b[0m\u001b[0m\n\u001b[1;32m    167\u001b[0m         return build_design_matrices(design_infos, data,\n",
      "\u001b[0;32m~/virtualenvs/simple2/lib/python3.6/site-packages/patsy/highlevel.py\u001b[0m in \u001b[0;36m_try_incr_builders\u001b[0;34m(formula_like, data_iter_maker, eval_env, NA_action)\u001b[0m\n\u001b[1;32m     68\u001b[0m                                       \u001b[0mdata_iter_maker\u001b[0m\u001b[0;34m,\u001b[0m\u001b[0;34m\u001b[0m\u001b[0;34m\u001b[0m\u001b[0m\n\u001b[1;32m     69\u001b[0m                                       \u001b[0meval_env\u001b[0m\u001b[0;34m,\u001b[0m\u001b[0;34m\u001b[0m\u001b[0;34m\u001b[0m\u001b[0m\n\u001b[0;32m---> 70\u001b[0;31m                                       NA_action)\n\u001b[0m\u001b[1;32m     71\u001b[0m     \u001b[0;32melse\u001b[0m\u001b[0;34m:\u001b[0m\u001b[0;34m\u001b[0m\u001b[0;34m\u001b[0m\u001b[0m\n\u001b[1;32m     72\u001b[0m         \u001b[0;32mreturn\u001b[0m \u001b[0;32mNone\u001b[0m\u001b[0;34m\u001b[0m\u001b[0;34m\u001b[0m\u001b[0m\n",
      "\u001b[0;32m~/virtualenvs/simple2/lib/python3.6/site-packages/patsy/build.py\u001b[0m in \u001b[0;36mdesign_matrix_builders\u001b[0;34m(termlists, data_iter_maker, eval_env, NA_action)\u001b[0m\n\u001b[1;32m    719\u001b[0m         term_to_subterm_infos = _make_subterm_infos(termlist,\n\u001b[1;32m    720\u001b[0m                                                     \u001b[0mnum_column_counts\u001b[0m\u001b[0;34m,\u001b[0m\u001b[0;34m\u001b[0m\u001b[0;34m\u001b[0m\u001b[0m\n\u001b[0;32m--> 721\u001b[0;31m                                                     cat_levels_contrasts)\n\u001b[0m\u001b[1;32m    722\u001b[0m         \u001b[0;32massert\u001b[0m \u001b[0misinstance\u001b[0m\u001b[0;34m(\u001b[0m\u001b[0mterm_to_subterm_infos\u001b[0m\u001b[0;34m,\u001b[0m \u001b[0mOrderedDict\u001b[0m\u001b[0;34m)\u001b[0m\u001b[0;34m\u001b[0m\u001b[0;34m\u001b[0m\u001b[0m\n\u001b[1;32m    723\u001b[0m         \u001b[0;32massert\u001b[0m \u001b[0mfrozenset\u001b[0m\u001b[0;34m(\u001b[0m\u001b[0mterm_to_subterm_infos\u001b[0m\u001b[0;34m)\u001b[0m \u001b[0;34m==\u001b[0m \u001b[0mfrozenset\u001b[0m\u001b[0;34m(\u001b[0m\u001b[0mtermlist\u001b[0m\u001b[0;34m)\u001b[0m\u001b[0;34m\u001b[0m\u001b[0;34m\u001b[0m\u001b[0m\n",
      "\u001b[0;32m~/virtualenvs/simple2/lib/python3.6/site-packages/patsy/build.py\u001b[0m in \u001b[0;36m_make_subterm_infos\u001b[0;34m(terms, num_column_counts, cat_levels_contrasts)\u001b[0m\n\u001b[1;32m    626\u001b[0m                         coded = code_contrast_matrix(factor_coding[factor],\n\u001b[1;32m    627\u001b[0m                                                      \u001b[0mlevels\u001b[0m\u001b[0;34m,\u001b[0m \u001b[0mcontrast\u001b[0m\u001b[0;34m,\u001b[0m\u001b[0;34m\u001b[0m\u001b[0;34m\u001b[0m\u001b[0m\n\u001b[0;32m--> 628\u001b[0;31m                                                      default=Treatment)\n\u001b[0m\u001b[1;32m    629\u001b[0m                         \u001b[0mcontrast_matrices\u001b[0m\u001b[0;34m[\u001b[0m\u001b[0mfactor\u001b[0m\u001b[0;34m]\u001b[0m \u001b[0;34m=\u001b[0m \u001b[0mcoded\u001b[0m\u001b[0;34m\u001b[0m\u001b[0;34m\u001b[0m\u001b[0m\n\u001b[1;32m    630\u001b[0m                         \u001b[0msubterm_columns\u001b[0m \u001b[0;34m*=\u001b[0m \u001b[0mcoded\u001b[0m\u001b[0;34m.\u001b[0m\u001b[0mmatrix\u001b[0m\u001b[0;34m.\u001b[0m\u001b[0mshape\u001b[0m\u001b[0;34m[\u001b[0m\u001b[0;36m1\u001b[0m\u001b[0;34m]\u001b[0m\u001b[0;34m\u001b[0m\u001b[0;34m\u001b[0m\u001b[0m\n",
      "\u001b[0;32m~/virtualenvs/simple2/lib/python3.6/site-packages/patsy/contrasts.py\u001b[0m in \u001b[0;36mcode_contrast_matrix\u001b[0;34m(intercept, levels, contrast, default)\u001b[0m\n\u001b[1;32m    600\u001b[0m         \u001b[0;32mreturn\u001b[0m \u001b[0mcontrast\u001b[0m\u001b[0;34m.\u001b[0m\u001b[0mcode_with_intercept\u001b[0m\u001b[0;34m(\u001b[0m\u001b[0mlevels\u001b[0m\u001b[0;34m)\u001b[0m\u001b[0;34m\u001b[0m\u001b[0;34m\u001b[0m\u001b[0m\n\u001b[1;32m    601\u001b[0m     \u001b[0;32melse\u001b[0m\u001b[0;34m:\u001b[0m\u001b[0;34m\u001b[0m\u001b[0;34m\u001b[0m\u001b[0m\n\u001b[0;32m--> 602\u001b[0;31m         \u001b[0;32mreturn\u001b[0m \u001b[0mcontrast\u001b[0m\u001b[0;34m.\u001b[0m\u001b[0mcode_without_intercept\u001b[0m\u001b[0;34m(\u001b[0m\u001b[0mlevels\u001b[0m\u001b[0;34m)\u001b[0m\u001b[0;34m\u001b[0m\u001b[0;34m\u001b[0m\u001b[0m\n\u001b[0m\u001b[1;32m    603\u001b[0m \u001b[0;34m\u001b[0m\u001b[0m\n",
      "\u001b[0;32m~/virtualenvs/simple2/lib/python3.6/site-packages/patsy/contrasts.py\u001b[0m in \u001b[0;36mcode_without_intercept\u001b[0;34m(self, levels)\u001b[0m\n\u001b[1;32m    181\u001b[0m         \u001b[0;32melse\u001b[0m\u001b[0;34m:\u001b[0m\u001b[0;34m\u001b[0m\u001b[0;34m\u001b[0m\u001b[0m\n\u001b[1;32m    182\u001b[0m             \u001b[0mreference\u001b[0m \u001b[0;34m=\u001b[0m \u001b[0m_get_level\u001b[0m\u001b[0;34m(\u001b[0m\u001b[0mlevels\u001b[0m\u001b[0;34m,\u001b[0m \u001b[0mself\u001b[0m\u001b[0;34m.\u001b[0m\u001b[0mreference\u001b[0m\u001b[0;34m)\u001b[0m\u001b[0;34m\u001b[0m\u001b[0;34m\u001b[0m\u001b[0m\n\u001b[0;32m--> 183\u001b[0;31m         \u001b[0meye\u001b[0m \u001b[0;34m=\u001b[0m \u001b[0mnp\u001b[0m\u001b[0;34m.\u001b[0m\u001b[0meye\u001b[0m\u001b[0;34m(\u001b[0m\u001b[0mlen\u001b[0m\u001b[0;34m(\u001b[0m\u001b[0mlevels\u001b[0m\u001b[0;34m)\u001b[0m \u001b[0;34m-\u001b[0m \u001b[0;36m1\u001b[0m\u001b[0;34m)\u001b[0m\u001b[0;34m\u001b[0m\u001b[0;34m\u001b[0m\u001b[0m\n\u001b[0m\u001b[1;32m    184\u001b[0m         contrasts = np.vstack((eye[:reference, :],\n\u001b[1;32m    185\u001b[0m                                 \u001b[0mnp\u001b[0m\u001b[0;34m.\u001b[0m\u001b[0mzeros\u001b[0m\u001b[0;34m(\u001b[0m\u001b[0;34m(\u001b[0m\u001b[0;36m1\u001b[0m\u001b[0;34m,\u001b[0m \u001b[0mlen\u001b[0m\u001b[0;34m(\u001b[0m\u001b[0mlevels\u001b[0m\u001b[0;34m)\u001b[0m \u001b[0;34m-\u001b[0m \u001b[0;36m1\u001b[0m\u001b[0;34m)\u001b[0m\u001b[0;34m)\u001b[0m\u001b[0;34m,\u001b[0m\u001b[0;34m\u001b[0m\u001b[0;34m\u001b[0m\u001b[0m\n",
      "\u001b[0;32m~/virtualenvs/simple2/lib/python3.6/site-packages/numpy/lib/twodim_base.py\u001b[0m in \u001b[0;36meye\u001b[0;34m(N, M, k, dtype, order)\u001b[0m\n\u001b[1;32m    199\u001b[0m     \u001b[0;32mif\u001b[0m \u001b[0mM\u001b[0m \u001b[0;32mis\u001b[0m \u001b[0;32mNone\u001b[0m\u001b[0;34m:\u001b[0m\u001b[0;34m\u001b[0m\u001b[0;34m\u001b[0m\u001b[0m\n\u001b[1;32m    200\u001b[0m         \u001b[0mM\u001b[0m \u001b[0;34m=\u001b[0m \u001b[0mN\u001b[0m\u001b[0;34m\u001b[0m\u001b[0;34m\u001b[0m\u001b[0m\n\u001b[0;32m--> 201\u001b[0;31m     \u001b[0mm\u001b[0m \u001b[0;34m=\u001b[0m \u001b[0mzeros\u001b[0m\u001b[0;34m(\u001b[0m\u001b[0;34m(\u001b[0m\u001b[0mN\u001b[0m\u001b[0;34m,\u001b[0m \u001b[0mM\u001b[0m\u001b[0;34m)\u001b[0m\u001b[0;34m,\u001b[0m \u001b[0mdtype\u001b[0m\u001b[0;34m=\u001b[0m\u001b[0mdtype\u001b[0m\u001b[0;34m,\u001b[0m \u001b[0morder\u001b[0m\u001b[0;34m=\u001b[0m\u001b[0morder\u001b[0m\u001b[0;34m)\u001b[0m\u001b[0;34m\u001b[0m\u001b[0;34m\u001b[0m\u001b[0m\n\u001b[0m\u001b[1;32m    202\u001b[0m     \u001b[0;32mif\u001b[0m \u001b[0mk\u001b[0m \u001b[0;34m>=\u001b[0m \u001b[0mM\u001b[0m\u001b[0;34m:\u001b[0m\u001b[0;34m\u001b[0m\u001b[0;34m\u001b[0m\u001b[0m\n\u001b[1;32m    203\u001b[0m         \u001b[0;32mreturn\u001b[0m \u001b[0mm\u001b[0m\u001b[0;34m\u001b[0m\u001b[0;34m\u001b[0m\u001b[0m\n",
      "\u001b[0;31mValueError\u001b[0m: negative dimensions are not allowed"
     ]
    }
   ],
   "source": [
    "iq = 'FIQ'\n",
    "md = smf.ols(iq + \" ~ Q('total_volume') + Gender + study + Age \", data=mergeddf) #  \n",
    "mdf = md.fit()\n",
    "print(mdf.summary())\n"
   ]
  },
  {
   "cell_type": "code",
   "execution_count": 46,
   "metadata": {},
   "outputs": [
    {
     "data": {
      "image/png": "[encoded data removed]",
      "text/plain": [
       "<Figure size 432x288 with 1 Axes>"
      ]
     },
     "metadata": {
      "needs_background": "light"
     },
     "output_type": "display_data"
    }
   ],
   "source": [
    "plt.hist(list(mergeddf['total_volume']), bins=50);"
   ]
  },
  {
   "cell_type": "code",
   "execution_count": 47,
   "metadata": {},
   "outputs": [
    {
     "data": {
      "text/plain": [
       "[<matplotlib.lines.Line2D at 0x7f27c0026518>]"
      ]
     },
     "execution_count": 47,
     "metadata": {},
     "output_type": "execute_result"
    },
    {
     "data": {
      "image/png": "[encoded data removed]",
      "text/plain": [
       "<Figure size 432x288 with 1 Axes>"
      ]
     },
     "metadata": {
      "needs_background": "light"
     },
     "output_type": "display_data"
    }
   ],
   "source": [
    "plt.plot(mergeddf['total_volume'],mergeddf['Age'],'.')"
   ]
  },
  {
   "cell_type": "code",
   "execution_count": null,
   "metadata": {},
   "outputs": [],
   "source": [
    "cond1 = (mergeddf['Gender']=='Male')\n",
    "cond2 = (mergeddf['Gender']=='Female')\n",
    "fig = plt.figure()\n",
    "ax1 = fig.add_subplot(111)\n",
    "ax1.plot(mergeddf.loc[cond1]['Age'], mergeddf.loc[cond1]['total_volume'], '.b')\n",
    "ax1.plot(mergeddf.loc[cond2]['Age'], mergeddf.loc[cond2]['total_volume'], '.r')"
   ]
  },
  {
   "cell_type": "markdown",
   "metadata": {},
   "source": [
    "### MAC-1: Left striatum volume (caudate + putamen) will positively correlate with IQ in the total (male + female) child (age < 20) group.\n"
   ]
  },
  {
   "cell_type": "code",
   "execution_count": null,
   "metadata": {},
   "outputs": [],
   "source": []
  },
  {
   "cell_type": "code",
   "execution_count": 48,
   "metadata": {},
   "outputs": [
    {
     "name": "stdout",
     "output_type": "stream",
     "text": [
      "Caudate : tmp1 409 409\n",
      "Putamen : tmp2 409 409\n"
     ]
    }
   ],
   "source": [
    "roi1 = 'Caudate'\n",
    "roi2 = 'Putamen'\n",
    "roi3 = 'Estimated Total Intracranial Volume'\n",
    "# roi = 'cerebellar cortex'\n",
    "tool = 'surfer'\n",
    "# tool = 'fsl'\n",
    "# tool = 'ants'\n",
    "# pick the interesting variables\n",
    "#--------------------------------#\n",
    "tmp = hie[['study','ID','Gender', 'Age','structure','tool','volume','laterality','FIQ','PIQ','dx','softwareLabel']]\n",
    "\n",
    "\n",
    "# list of conditions\n",
    "#---------------------#\n",
    "#hand_cond = ((hie['laterality'] == 'L') | (hie['laterality'] == 'Left')) # | (hie['latera'] == 'Left'))\n",
    "age_cond = (hie['Age'] <= 20)\n",
    "roi1_cond = (hie['structure'] == h2ube[roi1])\n",
    "roi2_cond = (hie['structure'] == h2ube[roi2])\n",
    "# roi3_cond = (hie['structure'] == h2ube[roi3])\n",
    "\n",
    "gender_cond =  (hie['Gender']=='Male')\n",
    "site_cond = (hie['study'].str.contains(\"ABIDE\"))\n",
    "tool_cond = (hie['tool']==tooldic[tool])\n",
    "laterality_cond = (hie['laterality']=='Left')\n",
    "pop_cond = False\n",
    "for pop in normalDev:\n",
    "    # print(np.sum(pop_cond))\n",
    "    pop_cond = pop_cond | (hie['dx'] == pop)\n",
    "    #print(pop, np.sum(pop_cond))\n",
    "#print(np.sum(pop_cond))\n",
    "\n",
    "condition1 = roi1_cond & tool_cond & age_cond & laterality_cond & pop_cond # & gender_cond # & site_cond # \n",
    "condition2 = roi2_cond & tool_cond & age_cond & laterality_cond & pop_cond # & gender_cond # & site_cond #  \n",
    "\n",
    "# condition3 = roi3_cond & tool_cond & age_cond\n",
    "\n",
    "tmp1 = tmp.loc[condition1] #.drop_duplicates()\n",
    "tmp2 = tmp.loc[condition2] #.drop_duplicates()\n",
    "# tmp3 = tmp.loc[condition3].drop_duplicates()\n",
    "\n",
    "#tmp1 = tmp1.set_index('ID')\n",
    "#tmp2 = tmp2.set_index('ID')\n",
    "\n",
    "# print(len(hie))\n",
    "print(roi1, ': tmp1', len(tmp1), len(tmp1.drop_duplicates()))\n",
    "print(roi2, ': tmp2', len(tmp2), len(tmp2.drop_duplicates()))\n",
    "#print(roi3, ': tmp3', len(tmp3), len(tmp3.drop_duplicates()))\n",
    "#h2ube[roi3]"
   ]
  },
  {
   "cell_type": "code",
   "execution_count": 49,
   "metadata": {},
   "outputs": [],
   "source": [
    "# Add these two and sum columns\n",
    "suffixes=('_caud','_puta')\n",
    "indx = 'ID'\n",
    "roi1_roi2 = pd.merge(left=tmp1, right=tmp2[['ID','volume']], \n",
    "                            left_on=indx, right_on=indx, suffixes=suffixes)\n",
    "roi1_roi2.dropna(subset=['FIQ'])\n",
    "roi1_roi2['striatum'] = roi1_roi2['volume_caud'] + roi1_roi2['volume_puta']\n",
    "roi1_roi2.drop(columns=['volume_caud','volume_puta'],inplace=True)"
   ]
  },
  {
   "cell_type": "code",
   "execution_count": 50,
   "metadata": {},
   "outputs": [],
   "source": [
    "#roi1_roi2.head(2)"
   ]
  },
  {
   "cell_type": "code",
   "execution_count": 51,
   "metadata": {},
   "outputs": [
    {
     "data": {
      "text/plain": [
       "[<matplotlib.lines.Line2D at 0x7f27bff980b8>]"
      ]
     },
     "execution_count": 51,
     "metadata": {},
     "output_type": "execute_result"
    },
    {
     "data": {
      "image/png": "[encoded data removed]",
      "text/plain": [
       "<Figure size 432x288 with 1 Axes>"
      ]
     },
     "metadata": {
      "needs_background": "light"
     },
     "output_type": "display_data"
    }
   ],
   "source": [
    "plt.plot(roi1_roi2['FIQ'],roi1_roi2['striatum'],'.b')"
   ]
  },
  {
   "cell_type": "code",
   "execution_count": 52,
   "metadata": {},
   "outputs": [
    {
     "name": "stdout",
     "output_type": "stream",
     "text": [
      "                            OLS Regression Results                            \n",
      "==============================================================================\n",
      "Dep. Variable:                    FIQ   R-squared:                       0.109\n",
      "Model:                            OLS   Adj. R-squared:                  0.070\n",
      "Method:                 Least Squares   F-statistic:                     2.807\n",
      "Date:                Tue, 26 Nov 2019   Prob (F-statistic):           0.000180\n",
      "Time:                        09:53:37   Log-Likelihood:                -1587.0\n",
      "No. Observations:                 409   AIC:                             3210.\n",
      "Df Residuals:                     391   BIC:                             3282.\n",
      "Df Model:                          17                                         \n",
      "Covariance Type:            nonrobust                                         \n",
      "================================================================================================\n",
      "                                   coef    std err          t      P>|t|      [0.025      0.975]\n",
      "------------------------------------------------------------------------------------------------\n",
      "Intercept                      108.3095     13.140      8.243      0.000      82.476     134.143\n",
      "study[T.ABIDE Caltech Site]    -11.9207     13.421     -0.888      0.375     -38.307      14.466\n",
      "study[T.ABIDE KKI Site]        -13.9455     12.219     -1.141      0.254     -37.968      10.077\n",
      "study[T.ABIDE MaxMun_d Site]   -15.8100     12.978     -1.218      0.224     -41.325       9.705\n",
      "study[T.ABIDE NYU Site]        -15.4099     12.140     -1.269      0.205     -39.277       8.457\n",
      "study[T.ABIDE OHSU Site]       -10.5341     12.403     -0.849      0.396     -34.918      13.850\n",
      "study[T.ABIDE Olin Site]       -18.4923     12.527     -1.476      0.141     -43.121       6.137\n",
      "study[T.ABIDE Pitt Site]       -18.7517     12.407     -1.511      0.131     -43.144       5.641\n",
      "study[T.ABIDE SDSU Site]       -18.5006     12.317     -1.502      0.134     -42.715       5.714\n",
      "study[T.ABIDE Stanford Site]   -11.8683     12.311     -0.964      0.336     -36.072      12.336\n",
      "study[T.ABIDE Trinity Site]    -18.6462     12.379     -1.506      0.133     -42.985       5.692\n",
      "study[T.ABIDE UCLA_1 Site]     -21.9214     12.207     -1.796      0.073     -45.920       2.078\n",
      "study[T.ABIDE UCLA_2 Site]     -15.6921     12.478     -1.258      0.209     -40.225       8.841\n",
      "study[T.ABIDE UM_1 Site]       -18.8275     12.114     -1.554      0.121     -42.644       4.989\n",
      "study[T.ABIDE UM_2 Site]       -16.1564     12.338     -1.310      0.191     -40.413       8.100\n",
      "study[T.ABIDE Yale Site]       -20.2856     12.205     -1.662      0.097     -44.282       3.711\n",
      "study[T.ADHD200]               -11.7812     12.114     -0.973      0.331     -35.598      12.036\n",
      "Q('striatum')                    0.0019      0.001      2.913      0.004       0.001       0.003\n",
      "==============================================================================\n",
      "Omnibus:                        3.018   Durbin-Watson:                   2.040\n",
      "Prob(Omnibus):                  0.221   Jarque-Bera (JB):                2.764\n",
      "Skew:                          -0.170   Prob(JB):                        0.251\n",
      "Kurtosis:                       3.217   Cond. No.                     7.93e+05\n",
      "==============================================================================\n",
      "\n",
      "Warnings:\n",
      "[1] Standard Errors assume that the covariance matrix of the errors is correctly specified.\n",
      "[2] The condition number is large, 7.93e+05. This might indicate that there are\n",
      "strong multicollinearity or other numerical problems.\n"
     ]
    }
   ],
   "source": [
    "iq = 'FIQ'\n",
    "md = smf.ols(iq + \" ~ Q('striatum') + study \", data=roi1_roi2) #  \n",
    "mdf = md.fit()\n",
    "print(mdf.summary())\n"
   ]
  },
  {
   "cell_type": "code",
   "execution_count": 53,
   "metadata": {},
   "outputs": [],
   "source": [
    "def split_merge_df(df, indx='ID', spliton='laterality', levels=['Left','Right'], keep_col='volume', droplist=[]):\n",
    "    \"\"\"\n",
    "    split the df according to 2 levels of \"spliton\", \n",
    "    take the column \"keep_col\" now split in two, and create a new one with the sum of the values\n",
    "    such that keep_col splitted values are added in a new column\n",
    "    \n",
    "    used for adding volumes in right and left structures\n",
    "    \"\"\"\n",
    "    \n",
    "    dflev1 = df[df[spliton]==levels[0]]\n",
    "    dflev2 = df[df[spliton]==levels[1]]\n",
    "    # same indx \n",
    "    assert set(dflev1[indx]) == set(dflev2[indx])\n",
    "    # no duplicates in the indx\n",
    "    assert len(set(dflev1[indx])) == len(dflev1[indx])\n",
    "    # assert len(set(dflev2[indx])) == len(dflev2[indx])\n",
    "    suffixes=('_l','_r')\n",
    "    merged_inner = pd.merge(left=dflev1, right=dflev2[[indx,keep_col]], \n",
    "                            left_on=indx, right_on=indx, suffixes=suffixes)\n",
    "#    merged_inner.rename(columns={cols+'_x': cols+'_'+lev1, cols+'_y': cols+'_'+lev2}, inplace=True)\n",
    "\n",
    "\n",
    "    # sum keep_col values in a new column\n",
    "    add_col_name = keep_col+suffixes[0]+'+'+suffixes[1]\n",
    "    merged_inner[add_col_name] = \\\n",
    "                        merged_inner[keep_col+suffixes[0]] + merged_inner[keep_col+suffixes[1]]  \n",
    "\n",
    "    if droplist != []:\n",
    "        for colname in droplist:\n",
    "            colname_y = colname + '_y'\n",
    "            colname_x = colname + '_x'\n",
    "            merged_inner.drop(colname_y, axis=1, inplace=True)\n",
    "            merged_inner.rename(columns={colname_x: colname}, inplace=True)\n",
    "    \n",
    "    return merged_inner"
   ]
  },
  {
   "cell_type": "code",
   "execution_count": 54,
   "metadata": {},
   "outputs": [
    {
     "ename": "AssertionError",
     "evalue": "",
     "output_type": "error",
     "traceback": [
      "\u001b[0;31m---------------------------------------------------------------------------\u001b[0m",
      "\u001b[0;31mAssertionError\u001b[0m                            Traceback (most recent call last)",
      "\u001b[0;32m<ipython-input-54-4c9e9827da9f>\u001b[0m in \u001b[0;36m<module>\u001b[0;34m\u001b[0m\n\u001b[0;32m----> 1\u001b[0;31m \u001b[0mtmp1_merged\u001b[0m \u001b[0;34m=\u001b[0m \u001b[0msplit_merge_df\u001b[0m\u001b[0;34m(\u001b[0m\u001b[0mtmp1\u001b[0m\u001b[0;34m,\u001b[0m \u001b[0mindx\u001b[0m\u001b[0;34m=\u001b[0m\u001b[0;34m'ID'\u001b[0m\u001b[0;34m,\u001b[0m \u001b[0mspliton\u001b[0m\u001b[0;34m=\u001b[0m\u001b[0;34m'laterality'\u001b[0m\u001b[0;34m,\u001b[0m \u001b[0mlevels\u001b[0m\u001b[0;34m=\u001b[0m\u001b[0;34m[\u001b[0m\u001b[0;34m'Left'\u001b[0m\u001b[0;34m,\u001b[0m\u001b[0;34m'Right'\u001b[0m\u001b[0;34m]\u001b[0m\u001b[0;34m)\u001b[0m\u001b[0;34m\u001b[0m\u001b[0;34m\u001b[0m\u001b[0m\n\u001b[0m\u001b[1;32m      2\u001b[0m \u001b[0mtmp2_merged\u001b[0m \u001b[0;34m=\u001b[0m \u001b[0msplit_merge_df\u001b[0m\u001b[0;34m(\u001b[0m\u001b[0mtmp1\u001b[0m\u001b[0;34m,\u001b[0m \u001b[0mindx\u001b[0m\u001b[0;34m=\u001b[0m\u001b[0;34m'ID'\u001b[0m\u001b[0;34m,\u001b[0m \u001b[0mspliton\u001b[0m\u001b[0;34m=\u001b[0m\u001b[0;34m'laterality'\u001b[0m\u001b[0;34m,\u001b[0m \u001b[0mlevels\u001b[0m\u001b[0;34m=\u001b[0m\u001b[0;34m[\u001b[0m\u001b[0;34m'Left'\u001b[0m\u001b[0;34m,\u001b[0m\u001b[0;34m'Right'\u001b[0m\u001b[0;34m]\u001b[0m\u001b[0;34m)\u001b[0m\u001b[0;34m\u001b[0m\u001b[0;34m\u001b[0m\u001b[0m\n",
      "\u001b[0;32m<ipython-input-53-e24ef724bb20>\u001b[0m in \u001b[0;36msplit_merge_df\u001b[0;34m(df, indx, spliton, levels, keep_col, droplist)\u001b[0m\n\u001b[1;32m     11\u001b[0m     \u001b[0mdflev2\u001b[0m \u001b[0;34m=\u001b[0m \u001b[0mdf\u001b[0m\u001b[0;34m[\u001b[0m\u001b[0mdf\u001b[0m\u001b[0;34m[\u001b[0m\u001b[0mspliton\u001b[0m\u001b[0;34m]\u001b[0m\u001b[0;34m==\u001b[0m\u001b[0mlevels\u001b[0m\u001b[0;34m[\u001b[0m\u001b[0;36m1\u001b[0m\u001b[0;34m]\u001b[0m\u001b[0;34m]\u001b[0m\u001b[0;34m\u001b[0m\u001b[0;34m\u001b[0m\u001b[0m\n\u001b[1;32m     12\u001b[0m     \u001b[0;31m# same indx\u001b[0m\u001b[0;34m\u001b[0m\u001b[0;34m\u001b[0m\u001b[0;34m\u001b[0m\u001b[0m\n\u001b[0;32m---> 13\u001b[0;31m     \u001b[0;32massert\u001b[0m \u001b[0mset\u001b[0m\u001b[0;34m(\u001b[0m\u001b[0mdflev1\u001b[0m\u001b[0;34m[\u001b[0m\u001b[0mindx\u001b[0m\u001b[0;34m]\u001b[0m\u001b[0;34m)\u001b[0m \u001b[0;34m==\u001b[0m \u001b[0mset\u001b[0m\u001b[0;34m(\u001b[0m\u001b[0mdflev2\u001b[0m\u001b[0;34m[\u001b[0m\u001b[0mindx\u001b[0m\u001b[0;34m]\u001b[0m\u001b[0;34m)\u001b[0m\u001b[0;34m\u001b[0m\u001b[0;34m\u001b[0m\u001b[0m\n\u001b[0m\u001b[1;32m     14\u001b[0m     \u001b[0;31m# no duplicates in the indx\u001b[0m\u001b[0;34m\u001b[0m\u001b[0;34m\u001b[0m\u001b[0;34m\u001b[0m\u001b[0m\n\u001b[1;32m     15\u001b[0m     \u001b[0;32massert\u001b[0m \u001b[0mlen\u001b[0m\u001b[0;34m(\u001b[0m\u001b[0mset\u001b[0m\u001b[0;34m(\u001b[0m\u001b[0mdflev1\u001b[0m\u001b[0;34m[\u001b[0m\u001b[0mindx\u001b[0m\u001b[0;34m]\u001b[0m\u001b[0;34m)\u001b[0m\u001b[0;34m)\u001b[0m \u001b[0;34m==\u001b[0m \u001b[0mlen\u001b[0m\u001b[0;34m(\u001b[0m\u001b[0mdflev1\u001b[0m\u001b[0;34m[\u001b[0m\u001b[0mindx\u001b[0m\u001b[0;34m]\u001b[0m\u001b[0;34m)\u001b[0m\u001b[0;34m\u001b[0m\u001b[0;34m\u001b[0m\u001b[0m\n",
      "\u001b[0;31mAssertionError\u001b[0m: "
     ]
    }
   ],
   "source": [
    "tmp1_merged = split_merge_df(tmp1, indx='ID', spliton='laterality', levels=['Left','Right'])\n",
    "tmp2_merged = split_merge_df(tmp1, indx='ID', spliton='laterality', levels=['Left','Right'])\n"
   ]
  },
  {
   "cell_type": "code",
   "execution_count": null,
   "metadata": {},
   "outputs": [],
   "source": [
    "tmp2_merged.head(2)"
   ]
  },
  {
   "cell_type": "code",
   "execution_count": null,
   "metadata": {},
   "outputs": [],
   "source": [
    "# Add these two and sum columns\n",
    "suffixes=('_1','_2')\n",
    "indx = 'ID'\n",
    "roi1_roi2 = pd.merge(left=tmp1_merged, right=tmp2_merged[['ID','volume_l+_r']], \n",
    "                            left_on=indx, right_on=indx, suffixes=suffixes)\n"
   ]
  },
  {
   "cell_type": "code",
   "execution_count": null,
   "metadata": {},
   "outputs": [],
   "source": [
    "print(list(roi1_roi2))\n"
   ]
  },
  {
   "cell_type": "code",
   "execution_count": null,
   "metadata": {},
   "outputs": [],
   "source": [
    "roi1_roi2['caud+put'] = roi1_roi2['volume_l+_r_1'] + roi1_roi2['volume_l+_r_2']  "
   ]
  },
  {
   "cell_type": "code",
   "execution_count": null,
   "metadata": {},
   "outputs": [],
   "source": [
    "print(list(roi1_roi2))\n"
   ]
  },
  {
   "cell_type": "code",
   "execution_count": null,
   "metadata": {},
   "outputs": [],
   "source": [
    "# add intracranial brain volume\n",
    "tmp3.rename(columns={'volume':'TBV'}, inplace=True)\n",
    "roi1_roi2_roi3 = pd.merge(left=roi1_roi2, right=tmp3[['ID','TBV']], \n",
    "                            left_on=indx, right_on=indx, suffixes=['_1','_2'])\n",
    "print(list(roi1_roi2_roi3))"
   ]
  },
  {
   "cell_type": "code",
   "execution_count": null,
   "metadata": {},
   "outputs": [],
   "source": [
    "iq = 'PIQ'\n",
    "#md = smf.ols(iq + \" ~ Q('caud+put') + Gender + study + TBV \", data=roi1_roi2_roi3) #  \n",
    "md = smf.ols(iq + \" ~ Q('caud+put') \", data=roi1_roi2_roi3) #  \n",
    "mdf = md.fit()\n",
    "print(mdf.summary())\n"
   ]
  },
  {
   "cell_type": "code",
   "execution_count": null,
   "metadata": {},
   "outputs": [],
   "source": [
    "plt.hist(list(roi1_roi2['caud+put']), bins=50);"
   ]
  },
  {
   "cell_type": "code",
   "execution_count": null,
   "metadata": {},
   "outputs": [],
   "source": [
    "iq = 'FIQ'\n",
    "#md = smf.ols(iq + \" ~ Q('caud+put') + Gender + study + TBV \", data=roi1_roi2_roi3) #  \n",
    "md = smf.ols(iq + \" ~ Q('caud+put') \", data=roi1_roi2_roi3) #  \n",
    "mdf = md.fit()\n",
    "print(mdf.summary())\n",
    "\n"
   ]
  },
  {
   "cell_type": "markdown",
   "metadata": {},
   "source": [
    "### Conclusion\n",
    "\n",
    "nothing?\n"
   ]
  },
  {
   "cell_type": "markdown",
   "metadata": {},
   "source": [
    "### MAC-2: Left striatum volume (caudate + putamen) will positively correlate with IQ in the male children group.\n"
   ]
  },
  {
   "cell_type": "code",
   "execution_count": 55,
   "metadata": {},
   "outputs": [
    {
     "data": {
      "text/plain": [
       "{'Female', 'Male'}"
      ]
     },
     "execution_count": 55,
     "metadata": {},
     "output_type": "execute_result"
    }
   ],
   "source": [
    "set(hie['Gender'])"
   ]
  },
  {
   "cell_type": "code",
   "execution_count": 56,
   "metadata": {},
   "outputs": [
    {
     "name": "stdout",
     "output_type": "stream",
     "text": [
      "191998\n",
      "Caudate : tmp1 735 735\n",
      "Putamen : tmp2 735 735\n",
      "Estimated Total Intracranial Volume : tmp3 735 735\n"
     ]
    },
    {
     "data": {
      "text/plain": [
       "'http://purl.obolibrary.org/obo/UBERON_0013411'"
      ]
     },
     "execution_count": 56,
     "metadata": {},
     "output_type": "execute_result"
    }
   ],
   "source": [
    "roi1 = 'Caudate'\n",
    "roi2 = 'Putamen'\n",
    "roi3 = 'Estimated Total Intracranial Volume'\n",
    "# roi = 'cerebellar cortex'\n",
    "tool = 'surfer'\n",
    "\n",
    "# list of conditions\n",
    "#---------------------#\n",
    "hand_cond = (hie['laterality'] == 'Left')\n",
    "age_cond = (hie['Age'] <= 20)\n",
    "roi1_cond = (hie['structure'] == h2ube[roi1])\n",
    "roi2_cond = (hie['structure'] == h2ube[roi2])\n",
    "roi3_cond = (hie['structure'] == h2ube[roi3])\n",
    "\n",
    "tool_cond = (hie['tool'] == tooldic[tool])\n",
    "\n",
    "gender_cond = (hie['Gender'] == 'Male')\n",
    "\n",
    "condition1 = roi1_cond & tool_cond & age_cond & hand_cond & gender_cond\n",
    "condition2 = roi2_cond & tool_cond & age_cond & hand_cond & gender_cond\n",
    "condition3 = roi3_cond & tool_cond & age_cond & gender_cond\n",
    "\n",
    "tmp1 = tmp.loc[condition1].drop_duplicates()\n",
    "tmp2 = tmp.loc[condition2].drop_duplicates()\n",
    "tmp3 = tmp.loc[condition3].drop_duplicates()\n",
    "\n",
    "#tmp1 = tmp1.set_index('ID')\n",
    "#tmp2 = tmp2.set_index('ID')\n",
    "\n",
    "print(len(hie))\n",
    "print(roi1, ': tmp1', len(tmp1), len(tmp1.drop_duplicates()))\n",
    "print(roi2, ': tmp2', len(tmp2), len(tmp2.drop_duplicates()))\n",
    "print(roi3, ': tmp3', len(tmp3), len(tmp3.drop_duplicates()))\n",
    "h2ube[roi3]"
   ]
  },
  {
   "cell_type": "code",
   "execution_count": 57,
   "metadata": {},
   "outputs": [
    {
     "name": "stdout",
     "output_type": "stream",
     "text": [
      "['study', 'ID', 'Gender', 'Age', 'structure', 'tool', 'volume', 'laterality', 'FIQ', 'PIQ', 'dx', 'softwareLabel']\n"
     ]
    }
   ],
   "source": [
    "print(list(tmp1))"
   ]
  },
  {
   "cell_type": "code",
   "execution_count": 58,
   "metadata": {},
   "outputs": [
    {
     "name": "stdout",
     "output_type": "stream",
     "text": [
      "['study', 'ID', 'Gender', 'Age', 'structure', 'tool', 'volume_caud', 'laterality', 'FIQ', 'PIQ', 'dx', 'softwareLabel', 'volume_put']\n"
     ]
    },
    {
     "data": {
      "text/plain": [
       "{'Left'}"
      ]
     },
     "execution_count": 58,
     "metadata": {},
     "output_type": "execute_result"
    }
   ],
   "source": [
    "caud_put = pd.merge(left=tmp1, right=tmp2[['ID','volume']], \n",
    "                            left_on=indx, right_on=indx, suffixes=('_caud','_put'))\n",
    "print(list(caud_put))\n",
    "set(caud_put['laterality'])"
   ]
  },
  {
   "cell_type": "code",
   "execution_count": 59,
   "metadata": {},
   "outputs": [
    {
     "name": "stdout",
     "output_type": "stream",
     "text": [
      "['study', 'ID', 'Gender', 'Age', 'structure', 'tool', 'volume_caud', 'laterality', 'FIQ', 'PIQ', 'dx', 'softwareLabel', 'volume_put', 'TIV', 'caud+put']\n"
     ]
    }
   ],
   "source": [
    "caud_put_tiv = pd.merge(left=caud_put, right=tmp3[['ID','volume']],\n",
    "                     left_on=indx, right_on=indx, suffixes=('','_tiv'))\n",
    "caud_put_tiv.rename(columns={'volume':'TIV'}, inplace=True)\n",
    "caud_put_tiv['caud+put'] = caud_put_tiv['volume_caud'] + caud_put_tiv['volume_put']  \n",
    "print(list(caud_put_tiv))\n"
   ]
  },
  {
   "cell_type": "code",
   "execution_count": 60,
   "metadata": {},
   "outputs": [
    {
     "name": "stdout",
     "output_type": "stream",
     "text": [
      "                            OLS Regression Results                            \n",
      "==============================================================================\n",
      "Dep. Variable:                    PIQ   R-squared:                       0.073\n",
      "Model:                            OLS   Adj. R-squared:                  0.059\n",
      "Method:                 Least Squares   F-statistic:                     4.955\n",
      "Date:                Tue, 26 Nov 2019   Prob (F-statistic):           1.95e-09\n",
      "Time:                        09:54:08   Log-Likelihood:                -3909.3\n",
      "No. Observations:                 953   AIC:                             7851.\n",
      "Df Residuals:                     937   BIC:                             7928.\n",
      "Df Model:                          15                                         \n",
      "Covariance Type:            nonrobust                                         \n",
      "================================================================================================\n",
      "                                   coef    std err          t      P>|t|      [0.025      0.975]\n",
      "------------------------------------------------------------------------------------------------\n",
      "Intercept                      107.3713     15.508      6.924      0.000      76.937     137.806\n",
      "study[T.ABIDE Caltech Site]      0.3674     16.502      0.022      0.982     -32.018      32.753\n",
      "study[T.ABIDE KKI Site]      -6.614e-14    5.1e-14     -1.297      0.195   -1.66e-13    3.39e-14\n",
      "study[T.ABIDE Leuven_1 Site]   -11.7158     15.777     -0.743      0.458     -42.678      19.246\n",
      "study[T.ABIDE MaxMun_a Site] -1.186e-14   7.46e-15     -1.591      0.112   -2.65e-14    2.77e-15\n",
      "study[T.ABIDE MaxMun_c Site] -1.157e-14   1.29e-14     -0.894      0.371    -3.7e-14    1.38e-14\n",
      "study[T.ABIDE MaxMun_d Site]    -9.7902     20.874     -0.469      0.639     -50.755      31.174\n",
      "study[T.ABIDE NYU Site]         -5.9243     14.855     -0.399      0.690     -35.076      23.228\n",
      "study[T.ABIDE OHSU Site]     -6.597e-14   6.21e-14     -1.062      0.288   -1.88e-13    5.59e-14\n",
      "study[T.ABIDE Olin Site]        5.4e-14   5.52e-14      0.978      0.328   -5.44e-14    1.62e-13\n",
      "study[T.ABIDE Pitt Site]        -8.0107     15.012     -0.534      0.594     -37.472      21.450\n",
      "study[T.ABIDE SDSU Site]        -4.0589     15.028     -0.270      0.787     -33.552      25.434\n",
      "study[T.ABIDE Stanford Site]    -2.9853     15.000     -0.199      0.842     -32.424      26.453\n",
      "study[T.ABIDE Trinity Site]     -6.5029     14.995     -0.434      0.665     -35.931      22.925\n",
      "study[T.ABIDE UCLA_1 Site]     -14.2123     14.875     -0.955      0.340     -43.404      14.979\n",
      "study[T.ABIDE UCLA_2 Site]     -12.6606     15.062     -0.841      0.401     -42.219      16.898\n",
      "study[T.ABIDE UM_1 Site]       -14.6337     14.850     -0.985      0.325     -43.777      14.510\n",
      "study[T.ABIDE UM_2 Site]        -5.3624     15.003     -0.357      0.721     -34.805      24.081\n",
      "study[T.ABIDE Yale Site]       -19.8242     14.939     -1.327      0.185     -49.142       9.494\n",
      "study[T.ADHD200]               -13.5419     14.772     -0.917      0.360     -42.532      15.448\n",
      "Q('caud+put')                    0.0008      0.001      1.599      0.110      -0.000       0.002\n",
      "==============================================================================\n",
      "Omnibus:                        4.676   Durbin-Watson:                   1.261\n",
      "Prob(Omnibus):                  0.097   Jarque-Bera (JB):                4.547\n",
      "Skew:                          -0.164   Prob(JB):                        0.103\n",
      "Kurtosis:                       3.085   Cond. No.                     1.45e+22\n",
      "==============================================================================\n",
      "\n",
      "Warnings:\n",
      "[1] Standard Errors assume that the covariance matrix of the errors is correctly specified.\n",
      "[2] The smallest eigenvalue is 4.12e-34. This might indicate that there are\n",
      "strong multicollinearity problems or that the design matrix is singular.\n"
     ]
    }
   ],
   "source": [
    "iq = 'PIQ'\n",
    "# md = smf.ols(iq + \" ~ Q('caud+put') + TIV + study\", data=caud_put_tiv) #  \n",
    "md = smf.ols(iq + \" ~ Q('caud+put') + study\", data=caud_put_tiv) #  \n",
    "mdf = md.fit()\n",
    "print(mdf.summary())"
   ]
  },
  {
   "cell_type": "code",
   "execution_count": 61,
   "metadata": {},
   "outputs": [
    {
     "data": {
      "image/png": "[encoded data removed]",
      "text/plain": [
       "<Figure size 432x288 with 1 Axes>"
      ]
     },
     "metadata": {
      "needs_background": "light"
     },
     "output_type": "display_data"
    }
   ],
   "source": [
    "plt.hist(list(caud_put_tiv['caud+put']), bins=50);"
   ]
  },
  {
   "cell_type": "markdown",
   "metadata": {},
   "source": [
    "### MAC-3: Left striatum volume (caudate + putamen) will not correlate with IQ in the female children group.\n"
   ]
  },
  {
   "cell_type": "code",
   "execution_count": 62,
   "metadata": {},
   "outputs": [
    {
     "name": "stdout",
     "output_type": "stream",
     "text": [
      "191998\n",
      "Caudate : tmp1 184 184\n",
      "Putamen : tmp2 184 184\n",
      "Estimated Total Intracranial Volume : tmp3 184 184\n"
     ]
    },
    {
     "data": {
      "text/plain": [
       "'http://purl.obolibrary.org/obo/UBERON_0013411'"
      ]
     },
     "execution_count": 62,
     "metadata": {},
     "output_type": "execute_result"
    }
   ],
   "source": [
    "roi1 = 'Caudate'\n",
    "roi2 = 'Putamen'\n",
    "roi3 = 'Estimated Total Intracranial Volume'\n",
    "# roi = 'cerebellar cortex'\n",
    "tool = 'surfer'\n",
    "\n",
    "# list of conditions\n",
    "#---------------------#\n",
    "hand_cond = (hie['laterality'] == 'Left')\n",
    "age_cond = (hie['Age'] <= 20)\n",
    "roi1_cond = (hie['structure'] == h2ube[roi1])\n",
    "roi2_cond = (hie['structure'] == h2ube[roi2])\n",
    "roi3_cond = (hie['structure'] == h2ube[roi3])\n",
    "\n",
    "tool_cond = (hie['tool'] == tooldic[tool])\n",
    "\n",
    "gender_cond = (hie['Gender'] == 'Female')\n",
    "\n",
    "condition1 = roi1_cond & tool_cond & age_cond & hand_cond & gender_cond\n",
    "condition2 = roi2_cond & tool_cond & age_cond & hand_cond & gender_cond\n",
    "condition3 = roi3_cond & tool_cond & age_cond & gender_cond\n",
    "\n",
    "tmp1 = tmp.loc[condition1].drop_duplicates()\n",
    "tmp2 = tmp.loc[condition2].drop_duplicates()\n",
    "tmp3 = tmp.loc[condition3].drop_duplicates()\n",
    "\n",
    "#tmp1 = tmp1.set_index('ID')\n",
    "#tmp2 = tmp2.set_index('ID')\n",
    "\n",
    "print(len(hie))\n",
    "print(roi1, ': tmp1', len(tmp1), len(tmp1.drop_duplicates()))\n",
    "print(roi2, ': tmp2', len(tmp2), len(tmp2.drop_duplicates()))\n",
    "print(roi3, ': tmp3', len(tmp3), len(tmp3.drop_duplicates()))\n",
    "h2ube[roi3]"
   ]
  },
  {
   "cell_type": "code",
   "execution_count": 63,
   "metadata": {},
   "outputs": [
    {
     "name": "stdout",
     "output_type": "stream",
     "text": [
      "['study', 'ID', 'Gender', 'Age', 'structure', 'tool', 'volume_caud', 'laterality', 'FIQ', 'PIQ', 'dx', 'softwareLabel', 'volume_put']\n",
      "['study', 'ID', 'Gender', 'Age', 'structure', 'tool', 'volume_caud', 'laterality', 'FIQ', 'PIQ', 'dx', 'softwareLabel', 'volume_put', 'TIV', 'caud+put']\n"
     ]
    }
   ],
   "source": [
    "caud_put = pd.merge(left=tmp1, right=tmp2[['ID','volume']], \n",
    "                            left_on=indx, right_on=indx, suffixes=('_caud','_put'))\n",
    "print(list(caud_put))\n",
    "set(caud_put['laterality'])\n",
    "\n",
    "caud_put_tiv = pd.merge(left=caud_put, right=tmp3[['ID','volume']],\n",
    "                     left_on=indx, right_on=indx, suffixes=('','_tiv'))\n",
    "caud_put_tiv.rename(columns={'volume':'TIV'}, inplace=True)\n",
    "caud_put_tiv['caud+put'] = caud_put_tiv['volume_caud'] + caud_put_tiv['volume_put']  \n",
    "print(list(caud_put_tiv))\n"
   ]
  },
  {
   "cell_type": "code",
   "execution_count": 64,
   "metadata": {},
   "outputs": [
    {
     "name": "stdout",
     "output_type": "stream",
     "text": [
      "                            OLS Regression Results                            \n",
      "==============================================================================\n",
      "Dep. Variable:                    PIQ   R-squared:                       0.061\n",
      "Model:                            OLS   Adj. R-squared:                  0.015\n",
      "Method:                 Least Squares   F-statistic:                     1.332\n",
      "Date:                Tue, 26 Nov 2019   Prob (F-statistic):              0.194\n",
      "Time:                        09:54:12   Log-Likelihood:                -1135.5\n",
      "No. Observations:                 281   AIC:                             2299.\n",
      "Df Residuals:                     267   BIC:                             2350.\n",
      "Df Model:                          13                                         \n",
      "Covariance Type:            nonrobust                                         \n",
      "================================================================================================\n",
      "                                   coef    std err          t      P>|t|      [0.025      0.975]\n",
      "------------------------------------------------------------------------------------------------\n",
      "Intercept                      134.0191     14.228      9.419      0.000     106.005     162.033\n",
      "study[T.ABIDE Caltech Site]      2.0409     17.350      0.118      0.906     -32.119      36.201\n",
      "study[T.ABIDE KKI Site]       1.591e-11   4.93e-12      3.229      0.001    6.21e-12    2.56e-11\n",
      "study[T.ABIDE NYU Site]         -5.5735     10.679     -0.522      0.602     -26.599      15.452\n",
      "study[T.ABIDE Olin Site]      -9.47e-15   1.05e-14     -0.899      0.369   -3.02e-14    1.13e-14\n",
      "study[T.ABIDE Pitt Site]         8.7205     11.620      0.750      0.454     -14.159      31.600\n",
      "study[T.ABIDE SDSU Site]        -7.8405     11.520     -0.681      0.497     -30.522      14.841\n",
      "study[T.ABIDE Stanford Site]     1.7480     11.357      0.154      0.878     -20.612      24.109\n",
      "study[T.ABIDE UCLA_1 Site]      -4.5381     11.125     -0.408      0.684     -26.441      17.365\n",
      "study[T.ABIDE UCLA_2 Site]      -6.9528     14.137     -0.492      0.623     -34.786      20.881\n",
      "study[T.ABIDE UM_1 Site]        -6.4696     10.465     -0.618      0.537     -27.074      14.134\n",
      "study[T.ABIDE UM_2 Site]       -15.6310     14.323     -1.091      0.276     -43.832      12.570\n",
      "study[T.ABIDE Yale Site]        -9.3159     10.696     -0.871      0.385     -30.375      11.743\n",
      "study[T.ADHD200]                -6.4608     10.264     -0.629      0.530     -26.669      13.747\n",
      "Q('caud+put')                   -0.0003      0.001     -0.264      0.792      -0.002       0.002\n",
      "TIV                          -1.578e-05   8.01e-06     -1.970      0.050   -3.15e-05   -1.01e-08\n",
      "==============================================================================\n",
      "Omnibus:                        0.082   Durbin-Watson:                   1.068\n",
      "Prob(Omnibus):                  0.960   Jarque-Bera (JB):                0.197\n",
      "Skew:                           0.015   Prob(JB):                        0.906\n",
      "Kurtosis:                       2.874   Cond. No.                     3.55e+23\n",
      "==============================================================================\n",
      "\n",
      "Warnings:\n",
      "[1] Standard Errors assume that the covariance matrix of the errors is correctly specified.\n",
      "[2] The smallest eigenvalue is 4.43e-33. This might indicate that there are\n",
      "strong multicollinearity problems or that the design matrix is singular.\n"
     ]
    }
   ],
   "source": [
    "iq = 'PIQ'\n",
    "# md = smf.ols(iq + \" ~ Q('caud+put') + TIV + study\", data=caud_put_tiv) #  \n",
    "md = smf.ols(iq + \" ~ Q('caud+put') + TIV + study\", data=caud_put_tiv) #  \n",
    "mdf = md.fit()\n",
    "print(mdf.summary())"
   ]
  },
  {
   "cell_type": "code",
   "execution_count": 65,
   "metadata": {},
   "outputs": [
    {
     "data": {
      "image/png": "[encoded data removed]",
      "text/plain": [
       "<Figure size 432x288 with 1 Axes>"
      ]
     },
     "metadata": {
      "needs_background": "light"
     },
     "output_type": "display_data"
    }
   ],
   "source": [
    "plt.hist(list(caud_put_tiv['caud+put']), bins=50);"
   ]
  },
  {
   "cell_type": "markdown",
   "metadata": {},
   "source": [
    "### GANJ-1: Total Corpus Callosum midsagittal area, after correcting for total brain volume, will negatively correlate with IQ.\n"
   ]
  },
  {
   "cell_type": "code",
   "execution_count": 73,
   "metadata": {},
   "outputs": [
    {
     "name": "stdout",
     "output_type": "stream",
     "text": [
      "191998\n",
      "CC_Anterior : tmp1 515 515\n",
      "CC_Central : tmp2 515 515\n",
      "CC_Posterior : tmp3 515 515\n",
      "hemisphere cerebral white matter volume : wm_df 515 515\n",
      "Total gray matter volume : gm_df 515 515\n",
      "CSF : csf_df 515 515\n",
      "Estimated Total Intracranial Volume : tiv_df 515 515\n"
     ]
    }
   ],
   "source": [
    "tmp = hie[['study','ID','Gender', 'Age', 'structure','tool','volume', 'laterality', 'FIQ', 'PIQ']]\n",
    "\n",
    "roi1 = 'CC_Anterior'\n",
    "roi2 = 'CC_Central'\n",
    "roi3 = 'CC_Posterior'\n",
    "tiv = 'Estimated Total Intracranial Volume'\n",
    "wm = 'hemisphere cerebral white matter volume'\n",
    "gm = 'Total gray matter volume'\n",
    "csf = 'CSF'\n",
    "# roi = 'cerebellar cortex'\n",
    "tool = 'surfer'\n",
    "\n",
    "# list of conditions\n",
    "#---------------------#\n",
    "# hand_cond = (hie['laterality'] == 'Left')\n",
    "# age_cond = (hie['Age'] <= 20)\n",
    "roi1_cond = (tmp['structure'] == h2ube[roi1])\n",
    "roi2_cond = (tmp['structure'] == h2ube[roi2])\n",
    "roi3_cond = (tmp['structure'] == h2ube[roi3])\n",
    "tool_cond = (tmp['tool'] == tooldic[tool])\n",
    "# gender_cond = (hie['Gender'] == 'Female')\n",
    "\n",
    "wm_cond = (tmp['structure'] == h2ube[wm]) & (tmp['laterality'] != 'Left') & (tmp['laterality'] != 'Right')\n",
    "gm_cond = (tmp['structure'] == h2ube[gm])\n",
    "csf_cond = (tmp['structure'] == h2ube[csf])\n",
    "tiv_cond = (tmp['structure'] == h2ube[tiv])\n",
    "\n",
    "\n",
    "# gender_cond =  (hie['Gender']=='Male')\n",
    "# site_cond = (hie['study'].str.contains(\"ABIDE\"))\n",
    "tool_cond = (hie['tool']==tooldic[tool])\n",
    "# laterality_cond = (hie['laterality']=='Left')\n",
    "pop_cond = False\n",
    "for pop in normalDev:\n",
    "    # print(np.sum(pop_cond))\n",
    "    pop_cond = pop_cond | (hie['dx'] == pop)\n",
    "    #print(pop, np.sum(pop_cond))\n",
    "#print(np.sum(pop_cond))\n",
    "\n",
    "#condition1 = roi1_cond & tool_cond & age_cond & laterality_cond & pop_cond # & gender_cond # & site_cond # \n",
    "#condition2 = roi2_cond & tool_cond & age_cond & laterality_cond & pop_cond # & gender_cond # & site_cond #  \n",
    "\n",
    "\n",
    "\n",
    "condition1 = roi1_cond & tool_cond & pop_cond\n",
    "condition2 = roi2_cond & tool_cond & pop_cond\n",
    "condition3 = roi3_cond & tool_cond & pop_cond\n",
    "\n",
    "condition_wm = wm_cond & tool_cond & pop_cond\n",
    "condition_gm = gm_cond & tool_cond & pop_cond\n",
    "condition_csf = csf_cond & tool_cond & pop_cond\n",
    "condition_tiv = tiv_cond & tool_cond & pop_cond\n",
    "\n",
    "tmp1 = tmp.loc[condition1].drop_duplicates()\n",
    "tmp2 = tmp.loc[condition2].drop_duplicates()\n",
    "tmp3 = tmp.loc[condition3].drop_duplicates()\n",
    "\n",
    "wm_df = tmp.loc[condition_wm].drop_duplicates()\n",
    "gm_df = tmp.loc[condition_gm].drop_duplicates()\n",
    "csf_df = tmp.loc[condition_csf].drop_duplicates()\n",
    "tiv_df = tmp.loc[condition_tiv].drop_duplicates()\n",
    "\n",
    "#tmp1 = tmp1.set_index('ID')\n",
    "#tmp2 = tmp2.set_index('ID')\n",
    "\n",
    "print(len(hie))\n",
    "print(roi1, ': tmp1', len(tmp1), len(tmp1.drop_duplicates()))\n",
    "print(roi2, ': tmp2', len(tmp2), len(tmp2.drop_duplicates()))\n",
    "print(roi3, ': tmp3', len(tmp3), len(tmp3.drop_duplicates()))\n",
    "print(wm, ': wm_df', len(wm_df), len(wm_df.drop_duplicates()))\n",
    "print(gm, ': gm_df', len(gm_df), len(gm_df.drop_duplicates()))\n",
    "print(csf, ': csf_df', len(csf_df), len(csf_df.drop_duplicates()))\n",
    "print(tiv, ': tiv_df', len(tiv_df), len(tiv_df.drop_duplicates()))\n"
   ]
  },
  {
   "cell_type": "code",
   "execution_count": 74,
   "metadata": {},
   "outputs": [
    {
     "name": "stdout",
     "output_type": "stream",
     "text": [
      "['study', 'ID', 'Gender', 'Age', 'structure', 'tool', 'laterality', 'FIQ', 'PIQ', 'total_brain_vol']\n"
     ]
    }
   ],
   "source": [
    "brain_tmp = pd.merge(left=gm_df, right=wm_df[['ID','volume']], left_on='ID', right_on='ID', suffixes=('_gm','_wm'))\n",
    "brain_df = pd.merge(left=brain_tmp, right=csf_df[['ID','volume']], left_on='ID', right_on='ID')\n",
    "brain_df.rename(columns={'volume':'volume_csf'}, inplace=True)\n",
    "brain_df['total_brain_vol'] = brain_df['volume_gm'] + brain_df['volume_wm'] + brain_df['volume_csf']\n",
    "brain_df.drop(['volume_gm', 'volume_wm', 'volume_csf'], axis=1, inplace=True)\n",
    "print(list(brain_df))"
   ]
  },
  {
   "cell_type": "code",
   "execution_count": 75,
   "metadata": {},
   "outputs": [
    {
     "name": "stdout",
     "output_type": "stream",
     "text": [
      "['study', 'ID', 'Gender', 'Age', 'structure', 'tool', 'laterality', 'FIQ', 'PIQ', 'cc_vol']\n"
     ]
    }
   ],
   "source": [
    "CC_tmp = pd.merge(left=tmp1, right=tmp2[['ID','volume']], left_on='ID', right_on='ID', suffixes=('_ant','_cent'))\n",
    "CC_df = pd.merge(left=CC_tmp, right=tmp3[['ID','volume']], left_on='ID', right_on='ID')\n",
    "CC_df.rename(columns={'volume':'volume_post'}, inplace=True)\n",
    "CC_df['cc_vol'] = CC_df['volume_ant'] +CC_df['volume_cent'] + CC_df['volume_post']\n",
    "CC_df.drop(['volume_ant', 'volume_cent', 'volume_post'], axis=1, inplace=True)\n",
    "print(list(CC_df))\n"
   ]
  },
  {
   "cell_type": "code",
   "execution_count": 76,
   "metadata": {},
   "outputs": [
    {
     "name": "stdout",
     "output_type": "stream",
     "text": [
      "['study', 'ID', 'Gender', 'Age', 'structure', 'tool', 'laterality', 'FIQ', 'PIQ', 'cc_vol', 'total_brain_vol']\n",
      "['study', 'ID', 'Gender', 'Age', 'structure', 'tool', 'laterality', 'FIQ', 'PIQ', 'cc_vol', 'total_brain_vol', 'TIV']\n"
     ]
    }
   ],
   "source": [
    "CC_brain_df = pd.merge(left=CC_df, right=brain_df[['ID','total_brain_vol']], left_on='ID', right_on='ID')\n",
    "print(list(CC_brain_df))\n",
    "\n",
    "CC_brain_tiv = pd.merge(left=CC_brain_df, right=tiv_df[['ID','volume']], left_on='ID', right_on='ID')\n",
    "CC_brain_tiv.rename(columns={'volume':'TIV'}, inplace=True)\n",
    "print(list(CC_brain_tiv))"
   ]
  },
  {
   "cell_type": "code",
   "execution_count": 77,
   "metadata": {},
   "outputs": [
    {
     "data": {
      "image/png": "[encoded data removed]",
      "text/plain": [
       "<Figure size 432x288 with 1 Axes>"
      ]
     },
     "metadata": {
      "needs_background": "light"
     },
     "output_type": "display_data"
    }
   ],
   "source": [
    "plt.hist(CC_brain_df['cc_vol'],bins=50);"
   ]
  },
  {
   "cell_type": "code",
   "execution_count": 78,
   "metadata": {},
   "outputs": [
    {
     "data": {
      "image/png": "[encoded data removed]",
      "text/plain": [
       "<Figure size 432x288 with 1 Axes>"
      ]
     },
     "metadata": {
      "needs_background": "light"
     },
     "output_type": "display_data"
    }
   ],
   "source": [
    "plt.hist(CC_brain_df['FIQ'],bins=50);"
   ]
  },
  {
   "cell_type": "code",
   "execution_count": 80,
   "metadata": {},
   "outputs": [
    {
     "name": "stdout",
     "output_type": "stream",
     "text": [
      "                            OLS Regression Results                            \n",
      "==============================================================================\n",
      "Dep. Variable:                    FIQ   R-squared:                       0.115\n",
      "Model:                            OLS   Adj. R-squared:                  0.076\n",
      "Method:                 Least Squares   F-statistic:                     2.915\n",
      "Date:                Tue, 26 Nov 2019   Prob (F-statistic):           1.34e-05\n",
      "Time:                        10:01:43   Log-Likelihood:                -1983.8\n",
      "No. Observations:                 515   AIC:                             4014.\n",
      "Df Residuals:                     492   BIC:                             4111.\n",
      "Df Model:                          22                                         \n",
      "Covariance Type:            nonrobust                                         \n",
      "================================================================================================\n",
      "                                   coef    std err          t      P>|t|      [0.025      0.975]\n",
      "------------------------------------------------------------------------------------------------\n",
      "Intercept                       90.4547      7.457     12.131      0.000      75.804     105.105\n",
      "study[T.ABIDE CMU_b Site]       10.5167      6.700      1.570      0.117      -2.648      23.681\n",
      "study[T.ABIDE Caltech Site]      4.1103      4.926      0.834      0.404      -5.568      13.788\n",
      "study[T.ABIDE KKI Site]          2.0019      4.637      0.432      0.666      -7.110      11.113\n",
      "study[T.ABIDE Leuven_1 Site]     4.3570      5.167      0.843      0.400      -5.796      14.510\n",
      "study[T.ABIDE MaxMun_a Site]    -0.1597      5.337     -0.030      0.976     -10.647      10.327\n",
      "study[T.ABIDE MaxMun_c Site]     3.6544      5.170      0.707      0.480      -6.504      13.813\n",
      "study[T.ABIDE MaxMun_d Site]    -0.6539      6.297     -0.104      0.917     -13.026      11.718\n",
      "study[T.ABIDE NYU Site]          1.9338      4.364      0.443      0.658      -6.641      10.509\n",
      "study[T.ABIDE OHSU Site]         4.8171      5.116      0.941      0.347      -5.236      14.870\n",
      "study[T.ABIDE Olin Site]         5.3401      5.067      1.054      0.292      -4.616      15.296\n",
      "study[T.ABIDE Pitt Site]        -0.1540      4.722     -0.033      0.974      -9.432       9.124\n",
      "study[T.ABIDE SDSU Site]        -2.0648      4.892     -0.422      0.673     -11.676       7.547\n",
      "study[T.ABIDE Stanford Site]     6.5046      5.020      1.296      0.196      -3.359      16.369\n",
      "study[T.ABIDE Trinity Site]     -0.5853      4.829     -0.121      0.904     -10.074       8.903\n",
      "study[T.ABIDE UCLA_1 Site]      -5.3699      4.637     -1.158      0.247     -14.481       3.741\n",
      "study[T.ABIDE UCLA_2 Site]       1.2882      5.251      0.245      0.806      -9.029      11.606\n",
      "study[T.ABIDE UM_1 Site]        -3.0161      4.441     -0.679      0.497     -11.742       5.709\n",
      "study[T.ABIDE UM_2 Site]         1.3259      4.856      0.273      0.785      -8.215      10.866\n",
      "study[T.ABIDE Yale Site]        -4.5958      4.707     -0.976      0.329     -13.844       4.652\n",
      "study[T.ADHD200]                 4.5278      4.359      1.039      0.299      -4.036      13.092\n",
      "Q('cc_vol')                     -0.0028      0.002     -1.614      0.107      -0.006       0.001\n",
      "total_brain_vol               2.243e-05   5.65e-06      3.971      0.000    1.13e-05    3.35e-05\n",
      "==============================================================================\n",
      "Omnibus:                        4.236   Durbin-Watson:                   2.046\n",
      "Prob(Omnibus):                  0.120   Jarque-Bera (JB):                4.293\n",
      "Skew:                          -0.147   Prob(JB):                        0.117\n",
      "Kurtosis:                       3.336   Cond. No.                     4.47e+07\n",
      "==============================================================================\n",
      "\n",
      "Warnings:\n",
      "[1] Standard Errors assume that the covariance matrix of the errors is correctly specified.\n",
      "[2] The condition number is large, 4.47e+07. This might indicate that there are\n",
      "strong multicollinearity or other numerical problems.\n"
     ]
    }
   ],
   "source": [
    "iq = 'FIQ'\n",
    "# md = smf.ols(iq + \" ~ Q('caud+put') + TIV + study\", data=caud_put_tiv) #  \n",
    "#md = smf.ols(iq + \" ~ Q('cc_vol') + total_brain_vol + TIV + study\", data=CC_brain_tiv) #  \n",
    "md = smf.ols(iq + \" ~ Q('cc_vol')  + study + total_brain_vol\", data=CC_brain_tiv) #  \n",
    "mdf = md.fit()\n",
    "print(mdf.summary())"
   ]
  },
  {
   "cell_type": "code",
   "execution_count": null,
   "metadata": {},
   "outputs": [],
   "source": []
  },
  {
   "cell_type": "markdown",
   "metadata": {},
   "source": [
    "### GANJ-2: Total Corpus Callosum midsagittal area, after correcting for total brain volume, will negatively correlate with IQ in the young (age < 12) group.\n"
   ]
  },
  {
   "cell_type": "code",
   "execution_count": null,
   "metadata": {},
   "outputs": [],
   "source": [
    "print(list(CC_brain_tiv))"
   ]
  },
  {
   "cell_type": "code",
   "execution_count": null,
   "metadata": {},
   "outputs": [],
   "source": [
    "age_cond = (CC_brain_tiv['Age'] <= 12)\n",
    "tmp = CC_brain_tiv.loc[age_cond]\n",
    "\n",
    "md = smf.ols(iq + \" ~ Q('cc_vol') + total_brain_vol + study \", data=tmp)\n",
    "mdf = md.fit()\n",
    "print(mdf.summary())"
   ]
  },
  {
   "cell_type": "code",
   "execution_count": null,
   "metadata": {},
   "outputs": [],
   "source": []
  }
 ],
 "metadata": {
  "kernelspec": {
   "display_name": "Python 3",
   "language": "python",
   "name": "python3"
  },
  "language_info": {
   "codemirror_mode": {
    "name": "ipython",
    "version": 3
   },
   "file_extension": ".py",
   "mimetype": "text/x-python",
   "name": "python",
   "nbconvert_exporter": "python",
   "pygments_lexer": "ipython3",
   "version": "3.6.8"
  },
  "toc": {
   "nav_menu": {},
   "number_sections": true,
   "sideBar": true,
   "skip_h1_title": false,
   "toc_cell": false,
   "toc_position": {},
   "toc_section_display": "block",
   "toc_window_display": false
  }
 },
 "nbformat": 4,
 "nbformat_minor": 2
}
