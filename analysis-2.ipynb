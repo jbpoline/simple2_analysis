{
 "cells": [
  {
   "cell_type": "markdown",
   "metadata": {},
   "source": [
    "# wrangling with the csv"
   ]
  },
  {
   "cell_type": "code",
   "execution_count": 1,
   "metadata": {},
   "outputs": [],
   "source": [
    "import pandas as pd\n",
    "import numpy as np\n",
    "# import statsmodels.discrete.discrete_model as sm\n",
    "import statsmodels as stt\n",
    "import scipy.stats as sst\n",
    "import os.path as osp"
   ]
  },
  {
   "cell_type": "code",
   "execution_count": 2,
   "metadata": {},
   "outputs": [],
   "source": [
    "from statsmodels import api as sm\n",
    "import matplotlib.pyplot as plt\n",
    "%matplotlib inline"
   ]
  },
  {
   "cell_type": "code",
   "execution_count": 3,
   "metadata": {},
   "outputs": [
    {
     "data": {
      "text/plain": [
       "'/home/jb/code/repronim/simple2/simple2_analysis'"
      ]
     },
     "execution_count": 3,
     "metadata": {},
     "output_type": "execute_result"
    }
   ],
   "source": [
    "pwd"
   ]
  },
  {
   "cell_type": "code",
   "execution_count": 4,
   "metadata": {},
   "outputs": [],
   "source": [
    "relative_path_filename = './data/blazegraph-query-all.csv'\n",
    "assert osp.exists(relative_path_filename)"
   ]
  },
  {
   "cell_type": "code",
   "execution_count": null,
   "metadata": {},
   "outputs": [],
   "source": []
  },
  {
   "cell_type": "code",
   "execution_count": 5,
   "metadata": {},
   "outputs": [
    {
     "name": "stdout",
     "output_type": "stream",
     "text": [
      "['study', 'ID', 'Age', 'Gender', 'diagnostic', 'value', 'tool', 'structure']\n"
     ]
    }
   ],
   "source": [
    "hie = pd.read_csv(relative_path_filename, na_values='nd')\n",
    "original_col_names = list(hie)\n",
    "print(original_col_names)\n",
    "assert len(original_col_names) == len(set(original_col_names))"
   ]
  },
  {
   "cell_type": "code",
   "execution_count": 8,
   "metadata": {},
   "outputs": [],
   "source": [
    "uberon = \"http://purl.obolibrary.org/obo/UBERON_0001897\"\n",
    "\n",
    "cmd = 'wget -O - ' + uberon\\\n",
    "                   + '  | grep -A 1 ' +  \"'\" + 'Class rdf:about='\\\n",
    "                   + '\"' + uberon + '\"' +  \"'\""
   ]
  },
  {
   "cell_type": "code",
   "execution_count": 9,
   "metadata": {},
   "outputs": [
    {
     "name": "stdout",
     "output_type": "stream",
     "text": [
      "['wget', '-O', '-', 'http://purl.obolibrary.org/obo/UBERON_0001897', '|', 'grep', '-A', '1', \"'Class\", 'rdf:about=\"http://purl.obolibrary.org/obo/UBERON_0001897\"\\'']\n"
     ]
    }
   ],
   "source": [
    "print(cmd.split())"
   ]
  },
  {
   "cell_type": "code",
   "execution_count": 10,
   "metadata": {},
   "outputs": [
    {
     "name": "stdout",
     "output_type": "stream",
     "text": [
      "b\"wget: missing URL\\nUsage: wget [OPTION]... [URL]...\\n\\nTry `wget --help' for more options.\\n\"\n"
     ]
    }
   ],
   "source": [
    "import subprocess\n",
    "MyOut = subprocess.Popen(cmd.split(), \n",
    "            stdout=subprocess.PIPE, \n",
    "           stderr=subprocess.STDOUT, shell=True)\n",
    "stdout,stderr = MyOut.communicate()\n",
    "print(stdout)\n",
    "#print(stderr)"
   ]
  },
  {
   "cell_type": "code",
   "execution_count": 11,
   "metadata": {},
   "outputs": [],
   "source": [
    "process = subprocess.run(cmd.split())"
   ]
  },
  {
   "cell_type": "code",
   "execution_count": null,
   "metadata": {},
   "outputs": [],
   "source": []
  },
  {
   "cell_type": "code",
   "execution_count": 12,
   "metadata": {},
   "outputs": [
    {
     "data": {
      "text/plain": [
       "'http://purl.obolibrary.org/obo/UBERON_0001897'"
      ]
     },
     "execution_count": 12,
     "metadata": {},
     "output_type": "execute_result"
    }
   ],
   "source": [
    "uberon"
   ]
  },
  {
   "cell_type": "code",
   "execution_count": 24,
   "metadata": {},
   "outputs": [
    {
     "data": {
      "text/plain": [
       "{'<http://purl.obolibrary.org/obo/UBERON_0000959>',\n",
       " '<http://purl.obolibrary.org/obo/UBERON_0001869>',\n",
       " '<http://purl.obolibrary.org/obo/UBERON_0001873>',\n",
       " '<http://purl.obolibrary.org/obo/UBERON_0001874>',\n",
       " '<http://purl.obolibrary.org/obo/UBERON_0001876>',\n",
       " '<http://purl.obolibrary.org/obo/UBERON_0001882>',\n",
       " '<http://purl.obolibrary.org/obo/UBERON_0001886>',\n",
       " '<http://purl.obolibrary.org/obo/UBERON_0001897>',\n",
       " '<http://purl.obolibrary.org/obo/UBERON_0001954>',\n",
       " '<http://purl.obolibrary.org/obo/UBERON_0002037>',\n",
       " '<http://purl.obolibrary.org/obo/UBERON_0002129>',\n",
       " '<http://purl.obolibrary.org/obo/UBERON_0002285>',\n",
       " '<http://purl.obolibrary.org/obo/UBERON_0002286>',\n",
       " '<http://purl.obolibrary.org/obo/UBERON_0002298>',\n",
       " '<http://purl.obolibrary.org/obo/UBERON_0002422>',\n",
       " '<http://purl.obolibrary.org/obo/UBERON_0006091>',\n",
       " '<http://purl.obolibrary.org/obo/UBERON_0006514>',\n",
       " '<http://purl.obolibrary.org/obo/UBERON_0009857>',\n",
       " '<http://purl.obolibrary.org/obo/UBERON_0014930>'}"
      ]
     },
     "execution_count": 24,
     "metadata": {},
     "output_type": "execute_result"
    }
   ],
   "source": [
    "set(hie.structure)"
   ]
  },
  {
   "cell_type": "code",
   "execution_count": 13,
   "metadata": {},
   "outputs": [
    {
     "data": {
      "text/plain": [
       "['study', 'ID', 'Age', 'Gender', 'diagnostic', 'value', 'tool', 'structure']"
      ]
     },
     "execution_count": 13,
     "metadata": {},
     "output_type": "execute_result"
    }
   ],
   "source": [
    "list(hie)"
   ]
  },
  {
   "cell_type": "code",
   "execution_count": 25,
   "metadata": {},
   "outputs": [],
   "source": [
    "uberon= '<http://purl.obolibrary.org/obo/UBERON_0001897>'\n",
    "tmp = hie[hie.structure==uberon]"
   ]
  },
  {
   "cell_type": "code",
   "execution_count": 27,
   "metadata": {},
   "outputs": [
    {
     "data": {
      "text/plain": [
       "5375"
      ]
     },
     "execution_count": 27,
     "metadata": {},
     "output_type": "execute_result"
    }
   ],
   "source": [
    "len(tmp)"
   ]
  },
  {
   "cell_type": "code",
   "execution_count": null,
   "metadata": {},
   "outputs": [],
   "source": []
  },
  {
   "cell_type": "code",
   "execution_count": null,
   "metadata": {},
   "outputs": [],
   "source": []
  },
  {
   "cell_type": "code",
   "execution_count": null,
   "metadata": {},
   "outputs": [],
   "source": []
  },
  {
   "cell_type": "code",
   "execution_count": null,
   "metadata": {},
   "outputs": [],
   "source": []
  },
  {
   "cell_type": "code",
   "execution_count": null,
   "metadata": {},
   "outputs": [],
   "source": [
    "# Load in the dataset, appending 'nd' to the list of possible na_values\n",
    "hie = pd.read_csv(relative_path_filename, na_values='nd')\n",
    "original_col_names = list(hie)\n",
    "print(original_col_names[:10])\n",
    "\n",
    "# column names are unique\n",
    "assert len(original_col_names) == len(set(original_col_names))"
   ]
  },
  {
   "cell_type": "code",
   "execution_count": null,
   "metadata": {},
   "outputs": [],
   "source": [
    "def get_structure_idx(ilx, dataframe):\n",
    "    \"\"\"\n",
    "    get indexes of the column names that contain ilx\n",
    "    \"\"\"\n",
    "    col_names = list(dataframe)\n",
    "    idxs = [idx for (idx, value) in enumerate(col_names) if ilx in value]\n",
    "    return(idxs)"
   ]
  },
  {
   "cell_type": "code",
   "execution_count": null,
   "metadata": {},
   "outputs": [],
   "source": [
    "def get_structure_col_names(ilx, dataframe):\n",
    "    \"\"\"\n",
    "    get column names that contain ilx\n",
    "    \"\"\"\n",
    "    col_names = list(dataframe)\n",
    "    cnames = [cname for cname in col_names if ilx in cname]\n",
    "    return(cnames)"
   ]
  },
  {
   "cell_type": "code",
   "execution_count": null,
   "metadata": {},
   "outputs": [],
   "source": [
    "get_structure_col_names('ILX:0381415', hie)"
   ]
  },
  {
   "cell_type": "code",
   "execution_count": null,
   "metadata": {},
   "outputs": [],
   "source": [
    "ilx_bases = [ilx for ilx in original_col_names if  '.' not in ilx \n",
    "                                              and ilx[:4] == 'ILX:']\n",
    "print(len(ilx_bases))"
   ]
  },
  {
   "cell_type": "code",
   "execution_count": null,
   "metadata": {},
   "outputs": [],
   "source": [
    "structures_names = [get_structure_col_names(ilx, hie) for ilx in ilx_bases]"
   ]
  },
  {
   "cell_type": "code",
   "execution_count": null,
   "metadata": {},
   "outputs": [],
   "source": [
    "print(structures_names)"
   ]
  },
  {
   "cell_type": "code",
   "execution_count": null,
   "metadata": {},
   "outputs": [],
   "source": [
    "[hie[roi][1] for roi in structures_names[0]]"
   ]
  },
  {
   "cell_type": "code",
   "execution_count": null,
   "metadata": {},
   "outputs": [],
   "source": [
    "def get_data_for_regions(regions, dataframe):\n",
    "    \"\"\"\n",
    "    \n",
    "    \"\"\"\n",
    "    col_names = list(dataframe)\n",
    "    return np.asarray( [ [float(x) for x in dataframe[roi][4:]] for roi in regions])"
   ]
  },
  {
   "cell_type": "code",
   "execution_count": null,
   "metadata": {},
   "outputs": [],
   "source": [
    "rois = structures_names[1]\n",
    "print(rois)\n",
    "data = get_data_for_regions(rois, hie)\n",
    "data.shape"
   ]
  },
  {
   "cell_type": "code",
   "execution_count": null,
   "metadata": {},
   "outputs": [],
   "source": [
    "# remove nan lines\n",
    "data_not_nan = ~np.isnan(data)\n",
    "to_keep = np.all(data_not_nan, axis=0)\n",
    "data_ok = data[:,to_keep]"
   ]
  },
  {
   "cell_type": "code",
   "execution_count": null,
   "metadata": {},
   "outputs": [],
   "source": [
    "data.shape\n",
    "data_ok.shape"
   ]
  },
  {
   "cell_type": "code",
   "execution_count": null,
   "metadata": {},
   "outputs": [],
   "source": [
    "a = plt.plot(data_ok.T)"
   ]
  },
  {
   "cell_type": "code",
   "execution_count": null,
   "metadata": {},
   "outputs": [],
   "source": [
    "roi = l3rois[0]\n",
    "hie[roi[0]][0]"
   ]
  },
  {
   "cell_type": "code",
   "execution_count": null,
   "metadata": {},
   "outputs": [],
   "source": [
    "cc = np.corrcoef(data_ok)\n",
    "cc.shape"
   ]
  },
  {
   "cell_type": "code",
   "execution_count": null,
   "metadata": {},
   "outputs": [],
   "source": [
    "l3rois = [rois for rois in structures_names if len(rois) == 3]\n",
    "correlations = []\n",
    "sample_size = []\n",
    "roi_name = []\n",
    "\n",
    "for rois in l3rois:\n",
    "    roi_name.append(hie[rois[0]][0])\n",
    "    data = get_data_for_regions(rois, hie)\n",
    "    data_not_nan = ~np.isnan(data)\n",
    "    data_ok = data[:,np.all(data_not_nan, axis=0)]\n",
    "    sample_size.append(data_ok.shape[1])\n",
    "    cc = np.corrcoef(data_ok)\n",
    "    correlations.append([cc[0,1], cc[1,2], cc[0,2]])\n",
    "    "
   ]
  },
  {
   "cell_type": "code",
   "execution_count": null,
   "metadata": {},
   "outputs": [],
   "source": [
    "for roi, ccoeff in zip(roi_name, correlations):\n",
    "    print(\"{0:<35}:\".format(roi) + \" {:.3} {:.3} {:.3}\".format(ccoeff[0], ccoeff[1], ccoeff[2]))\n",
    "\n",
    "    "
   ]
  },
  {
   "cell_type": "code",
   "execution_count": null,
   "metadata": {},
   "outputs": [],
   "source": []
  }
 ],
 "metadata": {
  "kernelspec": {
   "display_name": "Python 3",
   "language": "python",
   "name": "python3"
  },
  "language_info": {
   "codemirror_mode": {
    "name": "ipython",
    "version": 3
   },
   "file_extension": ".py",
   "mimetype": "text/x-python",
   "name": "python",
   "nbconvert_exporter": "python",
   "pygments_lexer": "ipython3",
   "version": "3.6.7"
  },
  "toc": {
   "nav_menu": {},
   "number_sections": true,
   "sideBar": true,
   "skip_h1_title": false,
   "toc_cell": false,
   "toc_position": {},
   "toc_section_display": "block",
   "toc_window_display": false
  }
 },
 "nbformat": 4,
 "nbformat_minor": 2
}
