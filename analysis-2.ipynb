{
 "cells": [
  {
   "cell_type": "markdown",
   "metadata": {},
   "source": [
    "# wrangling with the csv"
   ]
  },
  {
   "cell_type": "code",
   "execution_count": 2,
   "metadata": {},
   "outputs": [],
   "source": [
    "import pandas as pd\n",
    "import numpy as np\n",
    "# import statsmodels.discrete.discrete_model as sm\n",
    "import statsmodels as stt\n",
    "import scipy.stats as sst\n",
    "import os.path as osp"
   ]
  },
  {
   "cell_type": "code",
   "execution_count": 3,
   "metadata": {},
   "outputs": [],
   "source": [
    "from statsmodels import api as sm\n",
    "import statsmodels.formula.api as smf\n",
    "import matplotlib.pyplot as plt\n",
    "import json\n",
    "%matplotlib inline"
   ]
  },
  {
   "cell_type": "markdown",
   "metadata": {},
   "source": [
    "### read the mapping file to find the correspondance between uberon numbers and labels"
   ]
  },
  {
   "cell_type": "code",
   "execution_count": 4,
   "metadata": {},
   "outputs": [],
   "source": [
    "# find mapping file\n",
    "# mapping_file = '../segstats_jsonld/segstats_jsonld/mapping_data/freesurfermap.json'\n",
    "mapping_file = '../segstats_jsonld/segstats_jsonld/mapping_data/freesurfer-cdes.json'\n",
    "assert osp.exists(mapping_file)\n",
    "with open(mapping_file, \"r\") as read_file:\n",
    "    roi_map = json.load(read_file)"
   ]
  },
  {
   "cell_type": "code",
   "execution_count": 9,
   "metadata": {},
   "outputs": [
    {
     "name": "stdout",
     "output_type": "stream",
     "text": [
      "3580\n",
      "['count', \"FS(structure='Cortex', hemi=None, measure='NumVert', unit='unitless')\", \"FS(structure='Cortex', hemi=None, measure='WhiteSurfArea', unit='mm^2')\", \"FS(structure='BrainSeg', hemi=None, measure='BrainSegVol', unit='mm^3')\", \"FS(structure='BrainSegNotVent', hemi=None, measure='BrainSegVolNotVent', unit='mm^3')\", \"FS(structure='BrainSegNotVentSurf', hemi=None, measure='BrainSegVolNotVentSurf', unit='mm^3')\", \"FS(structure='Cortex', hemi=None, measure='CortexVol', unit='mm^3')\", \"FS(structure='SupraTentorial', hemi=None, measure='SupraTentorialVol', unit='mm^3')\", \"FS(structure='SupraTentorialNotVent', hemi=None, measure='SupraTentorialVolNotVent', unit='mm^3')\", \"FS(structure='EstimatedTotalIntraCranialVol', hemi=None, measure='eTIV', unit='mm^3')\"]\n",
      "{'id': '000010', 'structure_id': 410, 'label': 'Right BA1_exvivo NumVert', 'description': 'Right BA1_exvivo Number of Vertices (unitless)', 'key_source': 'Table', 'measureOf': 'http://uri.interlex.org/base/ilx_0112559', 'datumType': 'http://uri.interlex.org/base/ilx_0102597', 'hasUnit': 'vertex', 'fsunit': 'unitless'}\n"
     ]
    }
   ],
   "source": [
    "print(len(list(roi_map.keys())))\n",
    "print(list(roi_map.keys())[:10])\n",
    "#print(list(roi_map['Anatomy'].keys())[:10])\n",
    "#print(len(roi_map['Anatomy'].keys()))\n",
    "print(roi_map[list(roi_map.keys())[10]])"
   ]
  },
  {
   "cell_type": "code",
   "execution_count": 62,
   "metadata": {},
   "outputs": [
    {
     "name": "stdout",
     "output_type": "stream",
     "text": [
      "<class 'dict'>\n"
     ]
    },
    {
     "data": {
      "text/plain": [
       "{1: 2}"
      ]
     },
     "execution_count": 62,
     "metadata": {},
     "output_type": "execute_result"
    }
   ],
   "source": [
    "for k,v in roi_map.items():\n",
    "    # print(k,\"->\",v)\n",
    "    pass\n",
    "v = {1:2}\n",
    "print(type(v))\n",
    "dict(v)"
   ]
  },
  {
   "cell_type": "code",
   "execution_count": 137,
   "metadata": {},
   "outputs": [
    {
     "name": "stdout",
     "output_type": "stream",
     "text": [
      "[]\n",
      "262 262\n"
     ]
    }
   ],
   "source": [
    "# ube is a dictionary that maps uberon to label of structure\n",
    "ube = {}\n",
    "ebu = {}\n",
    "countok=0\n",
    "has_no_isAbout = []\n",
    "has_no_label = []\n",
    "\n",
    "for (k,v) in roi_map.items():\n",
    "    if k == 'count': pass\n",
    "\n",
    "    # v is a dict that contains the CDE - check that we have a isAbout\n",
    "    #if ('isAbout' not in v) or (v['isAbout'] == '') or (v['isAbout'] in ('None','none')):\n",
    "    #    has_no_isAbout.append(k)\n",
    "    #    break\n",
    "        \n",
    "    elif 'isAbout' in v:\n",
    "        countok += 1\n",
    "        if 'label' in v:\n",
    "            if v['label'] != '' and v['label'] not in ('None','none'):\n",
    "                #ube['<' + v['isAbout'] + '>'] = v['label']\n",
    "                #ebu[v['label']] = '<' + v['isAbout'] + '>'\n",
    "                ebu[v['label']] = v['isAbout']\n",
    "                if v['isAbout'] not in ube.keys():\n",
    "                    no_right_or_left = v['label']\n",
    "                    no_right_or_left = no_right_or_left.replace('Right-','')\n",
    "                    no_right_or_left = no_right_or_left.replace('Right ','')\n",
    "                    no_right_or_left = no_right_or_left.replace('Left-','')\n",
    "                    no_right_or_left = no_right_or_left.replace('Left ','')\n",
    "                    no_right_or_left = no_right_or_left.replace(' NVoxels','')\n",
    "                    no_right_or_left = no_right_or_left.replace(' (mm^3)','')\n",
    "                    ube[v['isAbout']] = no_right_or_left\n",
    "            else:\n",
    "                has_no_label.append(k)\n",
    "\n",
    "print(has_no_isAbout)\n",
    "#print(ube)\n",
    "#print(ebu)\n",
    "print(countok , len(ebu))"
   ]
  },
  {
   "cell_type": "code",
   "execution_count": 138,
   "metadata": {},
   "outputs": [
    {
     "data": {
      "text/plain": [
       "{'http://purl.obolibrary.org/obo/UBERON_0000956': 'Number of Vertices',\n",
       " 'http://purl.obolibrary.org/obo/UBERON_0000955': 'Brain Segmentation Volume',\n",
       " 'http://purl.obolibrary.org/obo/UBERON_0001869': 'Supratentorial volume',\n",
       " 'http://purl.obolibrary.org/obo/UBERON_0013411': 'Estimated Total Intracranial Volume',\n",
       " 'http://purl.obolibrary.org/obo/UBERON_0002437': 'hemisphere cerebral white matter volume',\n",
       " 'http://purl.obolibrary.org/obo/UBERON_0005401': 'Total gray matter volume',\n",
       " 'http://purl.obolibrary.org/obo/UBERON_0002285': 'Lateral-Ventricle',\n",
       " 'http://purl.obolibrary.org/obo/UBERON_0006091': 'Inf-Lat-Vent',\n",
       " 'http://purl.obolibrary.org/obo/UBERON_0002317': 'Cerebellum-White-Matter',\n",
       " 'http://purl.obolibrary.org/obo/UBERON_0002129': 'Cerebellum-Cortex',\n",
       " 'http://purl.obolibrary.org/obo/UBERON_0001897': 'Thalamus-Proper',\n",
       " 'http://purl.obolibrary.org/obo/UBERON_0001873': 'Caudate',\n",
       " 'http://purl.obolibrary.org/obo/UBERON_0001874': 'Putamen',\n",
       " 'http://purl.obolibrary.org/obo/UBERON_0006514': 'Pallidum',\n",
       " 'http://purl.obolibrary.org/obo/UBERON_0002286': '3rd-Ventricle',\n",
       " 'http://purl.obolibrary.org/obo/UBERON_0002422': '4th-Ventricle',\n",
       " 'http://purl.obolibrary.org/obo/UBERON_0002298': 'Brain-Stem',\n",
       " 'http://purl.obolibrary.org/obo/UBERON_0001954': 'Hippocampus',\n",
       " 'http://purl.obolibrary.org/obo/UBERON_0001876': 'Amygdala',\n",
       " 'http://purl.obolibrary.org/obo/UBERON_0001359': 'CSF',\n",
       " 'http://purl.obolibrary.org/obo/UBERON_0001882': 'Accumbens-area',\n",
       " 'http://purl.obolibrary.org/obo/UBERON_0001981': 'vessel',\n",
       " 'http://purl.obolibrary.org/obo/UBERON_0001886': 'choroid-plexus',\n",
       " 'http://purl.obolibrary.org/obo/UBERON_0009857': '5th-Ventricle',\n",
       " 'http://purl.obolibrary.org/obo/UBERON_0000959': 'Optic-Chiasm',\n",
       " 'http://purl.obolibrary.org/obo/UBERON_0015708': 'CC_Posterior',\n",
       " 'http://purl.obolibrary.org/obo/UBERON_0002336': 'CC_Central',\n",
       " 'http://purl.obolibrary.org/obo/UBERON_0015599': 'CC_Anterior'}"
      ]
     },
     "execution_count": 138,
     "metadata": {},
     "output_type": "execute_result"
    }
   ],
   "source": [
    "ube"
   ]
  },
  {
   "cell_type": "code",
   "execution_count": 116,
   "metadata": {},
   "outputs": [],
   "source": [
    "#\n",
    "\"\"\"\n",
    "ube = {}\n",
    "has_no_isAbout = []\n",
    "for (k,v) in roi_map['Anatomy'].items():\n",
    "    if v['isAbout'] != '' or v['isAbout'] in ('None','none'):\n",
    "        if v['label'] != '' and v['label'] not in ('None','none'):\n",
    "            ube['<' + v['isAbout'] + '>'] = v['label']\n",
    "        else:\n",
    "            if '<' + v['isAbout'] + '>' not in ube.keys():\n",
    "                if v['hasLaterality'] in ('Right','Left'):\n",
    "                    ube['<' + v['isAbout'] + '>'] = 'strip-Right-Left-of-'+k\n",
    "                else:\n",
    "                    ube['<' + v['isAbout'] + '>'] = k\n",
    "    else:\n",
    "        #print(k, 'has no isAbout')\n",
    "        has_no_isAbout.append(k)\n",
    "print(has_no_isAbout)\n",
    "\"\"\";"
   ]
  },
  {
   "cell_type": "code",
   "execution_count": 117,
   "metadata": {},
   "outputs": [
    {
     "data": {
      "text/plain": [
       "[('http://purl.obolibrary.org/obo/UBERON_0000956', 'Number of Vertices'),\n",
       " ('http://purl.obolibrary.org/obo/UBERON_0000955',\n",
       "  'Brain Segmentation Volume'),\n",
       " ('http://purl.obolibrary.org/obo/UBERON_0001869', 'Supratentorial volume'),\n",
       " ('http://purl.obolibrary.org/obo/UBERON_0013411',\n",
       "  'Estimated Total Intracranial Volume'),\n",
       " ('http://purl.obolibrary.org/obo/UBERON_0002437',\n",
       "  'Left hemisphere cerebral white matter volume')]"
      ]
     },
     "execution_count": 117,
     "metadata": {},
     "output_type": "execute_result"
    }
   ],
   "source": [
    "list(zip(list(ube)[:5],list(ube.values())[:5]))"
   ]
  },
  {
   "cell_type": "markdown",
   "metadata": {},
   "source": [
    "### Read CSV file "
   ]
  },
  {
   "cell_type": "code",
   "execution_count": 118,
   "metadata": {},
   "outputs": [
    {
     "name": "stdout",
     "output_type": "stream",
     "text": [
      "/home/jb/code/repronim/simple2/simple2_analysis\n"
     ]
    }
   ],
   "source": [
    "print(osp.realpath(osp.curdir))\n",
    "relative_path_filename = './data/test.csv'\n",
    "assert osp.exists(relative_path_filename)"
   ]
  },
  {
   "cell_type": "code",
   "execution_count": 119,
   "metadata": {},
   "outputs": [
    {
     "name": "stdout",
     "output_type": "stream",
     "text": [
      "['Unnamed: 0', 'ID', 'Age', 'dx', 'Gender', 'FIQ', 'PIQ', 'VIQ', 'tool', 'softwareLabel', 'federatedLabel', 'laterality', 'volume']\n"
     ]
    }
   ],
   "source": [
    "hie = pd.read_csv(relative_path_filename, na_values='nd')\n",
    "original_col_names = list(hie)\n",
    "print(original_col_names)\n",
    "assert len(original_col_names) == len(set(original_col_names))"
   ]
  },
  {
   "cell_type": "code",
   "execution_count": 120,
   "metadata": {},
   "outputs": [
    {
     "name": "stdout",
     "output_type": "stream",
     "text": [
      "{'http://purl.obolibrary.org/obo/UBERON_0001874', 'http://purl.obolibrary.org/obo/UBERON_0001954', 'http://purl.obolibrary.org/obo/UBERON_0001876', 'http://purl.obolibrary.org/obo/UBERON_0000956', 'http://purl.obolibrary.org/obo/UBERON_0001882', 'http://purl.obolibrary.org/obo/UBERON_0002437', 'http://purl.obolibrary.org/obo/UBERON_0001873', 'http://purl.obolibrary.org/obo/UBERON_0001981', 'http://purl.obolibrary.org/obo/UBERON_0006091', 'http://purl.obolibrary.org/obo/UBERON_0001886', 'http://purl.obolibrary.org/obo/UBERON_0002285', 'http://purl.obolibrary.org/obo/UBERON_0002317', 'http://purl.obolibrary.org/obo/UBERON_0006514', 'http://purl.obolibrary.org/obo/UBERON_0002129', 'http://purl.obolibrary.org/obo/UBERON_0001897'}\n"
     ]
    }
   ],
   "source": [
    "structures = set(hie.federatedLabel)\n",
    "print(structures)"
   ]
  },
  {
   "cell_type": "code",
   "execution_count": 128,
   "metadata": {},
   "outputs": [
    {
     "name": "stdout",
     "output_type": "stream",
     "text": [
      "0 http://purl.obolibrary.org/obo/UBERON_0001874 Putamen\n",
      "1 http://purl.obolibrary.org/obo/UBERON_0001954 Hippocampus\n",
      "2 http://purl.obolibrary.org/obo/UBERON_0001876 Amygdala\n",
      "3 http://purl.obolibrary.org/obo/UBERON_0000956 Number of Vertices\n",
      "4 http://purl.obolibrary.org/obo/UBERON_0001882 Accumbens-area\n",
      "5 http://purl.obolibrary.org/obo/UBERON_0002437 Left hemisphere cerebral white matter volume\n",
      "6 http://purl.obolibrary.org/obo/UBERON_0001873 Caudate\n",
      "7 http://purl.obolibrary.org/obo/UBERON_0001981 vessel\n",
      "8 http://purl.obolibrary.org/obo/UBERON_0006091 Inf-Lat-Vent\n",
      "9 http://purl.obolibrary.org/obo/UBERON_0001886 choroid-plexus\n",
      "10 http://purl.obolibrary.org/obo/UBERON_0002285 Lateral-Ventricle\n",
      "11 http://purl.obolibrary.org/obo/UBERON_0002317 Cerebellum-White-Matter\n",
      "12 http://purl.obolibrary.org/obo/UBERON_0006514 Pallidum\n",
      "13 http://purl.obolibrary.org/obo/UBERON_0002129 Cerebellum-Cortex\n",
      "14 http://purl.obolibrary.org/obo/UBERON_0001897 Thalamus-Proper\n"
     ]
    },
    {
     "data": {
      "text/plain": [
       "(28, 15)"
      ]
     },
     "execution_count": 128,
     "metadata": {},
     "output_type": "execute_result"
    }
   ],
   "source": [
    "ube2h = {}\n",
    "\n",
    "for idx, s in enumerate(structures):\n",
    "    ube2h[s] = ube[s]\n",
    "    print(idx, s, ube2h[s])\n",
    "\n",
    "len(ube), len(ube2h)"
   ]
  },
  {
   "cell_type": "code",
   "execution_count": null,
   "metadata": {},
   "outputs": [],
   "source": [
    "\"\"\"\n",
    "looking at the class name from the purl urls I got :\n",
    "\n",
    "u2human[list(u2human.keys())[0]] = 'cavum septum pellucidum'\n",
    "u2human[list(u2human.keys())[1]] = 'cerebellum'\n",
    "u2human[list(u2human.keys())[2]] = 'cerebellar cortex'\n",
    "u2human[list(u2human.keys())[3]] = 'perivascular space'\n",
    "u2human[list(u2human.keys())[4]] = \"Ammon's horn\"\n",
    "u2human[list(u2human.keys())[5]] = \"inferior horn of the lateral ventricle\"\n",
    "u2human[list(u2human.keys())[6]] = \"brainstem\"\n",
    "u2human[list(u2human.keys())[7]] = \"amygdala\"\n",
    "u2human[list(u2human.keys())[8]] = \"optic chiasma\"\n",
    "u2human[list(u2human.keys())[9]] = \"dorsal plus ventral thalamus\"\n",
    "u2human[list(u2human.keys())[10]] = \"cerebral hemisphere\"\n",
    "u2human[list(u2human.keys())[11]] = \"caudate nucleus\"\n",
    "u2human[list(u2human.keys())[12]] = \"telencephalic ventricle\"\n",
    "u2human[list(u2human.keys())[13]] = \"putamen\"\n",
    "u2human[list(u2human.keys())[14]] = \"third ventricle\"\n",
    "u2human[list(u2human.keys())[15]] = \"choroid plexus\"\n",
    "u2human[list(u2human.keys())[16]] = \"fourth ventricle\"\n",
    "u2human[list(u2human.keys())[17]] = \"pallidum\"\n",
    "u2human[list(u2human.keys())[18]] = \"nucleus accumbens\"\n",
    "\"\"\";"
   ]
  },
  {
   "cell_type": "code",
   "execution_count": null,
   "metadata": {},
   "outputs": [],
   "source": [
    "set1 = {'<http://purl.obolibrary.org/obo/UBERON_0000959>', \n",
    "'<http://purl.obolibrary.org/obo/UBERON_0002422>', \n",
    "'<http://purl.obolibrary.org/obo/UBERON_0009857>', \n",
    "'<http://purl.obolibrary.org/obo/UBERON_0001869>', \n",
    "'<http://purl.obolibrary.org/obo/UBERON_0002129>', \n",
    "'<http://purl.obolibrary.org/obo/UBERON_0001882>', \n",
    "'<http://purl.obolibrary.org/obo/UBERON_0001886>', \n",
    "'<http://purl.obolibrary.org/obo/UBERON_0006091>', \n",
    "'<http://purl.obolibrary.org/obo/UBERON_0002286>', \n",
    "'<http://purl.obolibrary.org/obo/UBERON_0002298>', \n",
    "'<http://purl.obolibrary.org/obo/UBERON_0001897>', \n",
    "'<http://purl.obolibrary.org/obo/UBERON_0001954>', \n",
    "'<http://purl.obolibrary.org/obo/UBERON_0001873>', \n",
    "'<http://purl.obolibrary.org/obo/UBERON_0014930>', \n",
    "'<http://purl.obolibrary.org/obo/UBERON_0001874>', \n",
    "'<http://purl.obolibrary.org/obo/UBERON_0001876>', \n",
    "'<http://purl.obolibrary.org/obo/UBERON_0006514>', \n",
    "'<http://purl.obolibrary.org/obo/UBERON_0002037>', \n",
    "'<http://purl.obolibrary.org/obo/UBERON_0002285>'};\n",
    "set2 = set(ube2h.keys())\n",
    "set1.difference(set2)"
   ]
  },
  {
   "cell_type": "code",
   "execution_count": 123,
   "metadata": {},
   "outputs": [],
   "source": [
    "h2ube = {v: k for k, v in ube2h.items()}\n",
    "#print(h2uberon)"
   ]
  },
  {
   "cell_type": "code",
   "execution_count": 125,
   "metadata": {},
   "outputs": [
    {
     "name": "stdout",
     "output_type": "stream",
     "text": [
      "{'surfer': 'https://surfer.nmr.mgh.harvard.edu/', 'fsl': 'http://purl.org/nidash/fsl#'}\n"
     ]
    }
   ],
   "source": [
    "# print(set(hie['tool']))\n",
    "tooldic = {'surfer':'https://surfer.nmr.mgh.harvard.edu/', \n",
    "           'fsl':'http://purl.org/nidash/fsl#'}\n",
    "print(tooldic)"
   ]
  },
  {
   "cell_type": "code",
   "execution_count": 126,
   "metadata": {
    "scrolled": true
   },
   "outputs": [
    {
     "data": {
      "text/html": [
       "<div>\n",
       "<style scoped>\n",
       "    .dataframe tbody tr th:only-of-type {\n",
       "        vertical-align: middle;\n",
       "    }\n",
       "\n",
       "    .dataframe tbody tr th {\n",
       "        vertical-align: top;\n",
       "    }\n",
       "\n",
       "    .dataframe thead th {\n",
       "        text-align: right;\n",
       "    }\n",
       "</style>\n",
       "<table border=\"1\" class=\"dataframe\">\n",
       "  <thead>\n",
       "    <tr style=\"text-align: right;\">\n",
       "      <th></th>\n",
       "      <th>Unnamed: 0</th>\n",
       "      <th>ID</th>\n",
       "      <th>Age</th>\n",
       "      <th>dx</th>\n",
       "      <th>Gender</th>\n",
       "      <th>FIQ</th>\n",
       "      <th>PIQ</th>\n",
       "      <th>VIQ</th>\n",
       "      <th>tool</th>\n",
       "      <th>softwareLabel</th>\n",
       "      <th>federatedLabel</th>\n",
       "      <th>laterality</th>\n",
       "      <th>volume</th>\n",
       "    </tr>\n",
       "  </thead>\n",
       "  <tbody>\n",
       "    <tr>\n",
       "      <th>0</th>\n",
       "      <td>0</td>\n",
       "      <td>50201</td>\n",
       "      <td>13.77</td>\n",
       "      <td>2</td>\n",
       "      <td>Female</td>\n",
       "      <td>98.0</td>\n",
       "      <td>90.0</td>\n",
       "      <td>106.0</td>\n",
       "      <td>https://surfer.nmr.mgh.harvard.edu/</td>\n",
       "      <td>Left-Lateral-Ventricle Volume_mm3 (mm^3)</td>\n",
       "      <td>http://purl.obolibrary.org/obo/UBERON_0002285</td>\n",
       "      <td>Left</td>\n",
       "      <td>10337.7</td>\n",
       "    </tr>\n",
       "    <tr>\n",
       "      <th>1</th>\n",
       "      <td>1</td>\n",
       "      <td>50201</td>\n",
       "      <td>13.77</td>\n",
       "      <td>2</td>\n",
       "      <td>Female</td>\n",
       "      <td>98.0</td>\n",
       "      <td>90.0</td>\n",
       "      <td>106.0</td>\n",
       "      <td>https://surfer.nmr.mgh.harvard.edu/</td>\n",
       "      <td>Left-Amygdala Volume_mm3 (mm^3)</td>\n",
       "      <td>http://purl.obolibrary.org/obo/UBERON_0001876</td>\n",
       "      <td>Left</td>\n",
       "      <td>1457.7</td>\n",
       "    </tr>\n",
       "    <tr>\n",
       "      <th>2</th>\n",
       "      <td>2</td>\n",
       "      <td>50201</td>\n",
       "      <td>13.77</td>\n",
       "      <td>2</td>\n",
       "      <td>Female</td>\n",
       "      <td>98.0</td>\n",
       "      <td>90.0</td>\n",
       "      <td>106.0</td>\n",
       "      <td>https://surfer.nmr.mgh.harvard.edu/</td>\n",
       "      <td>Right-Thalamus-Proper Volume_mm3 (mm^3)</td>\n",
       "      <td>http://purl.obolibrary.org/obo/UBERON_0001897</td>\n",
       "      <td>Right</td>\n",
       "      <td>7611.3</td>\n",
       "    </tr>\n",
       "  </tbody>\n",
       "</table>\n",
       "</div>"
      ],
      "text/plain": [
       "   Unnamed: 0     ID    Age dx  Gender   FIQ   PIQ    VIQ  \\\n",
       "0           0  50201  13.77  2  Female  98.0  90.0  106.0   \n",
       "1           1  50201  13.77  2  Female  98.0  90.0  106.0   \n",
       "2           2  50201  13.77  2  Female  98.0  90.0  106.0   \n",
       "\n",
       "                                  tool  \\\n",
       "0  https://surfer.nmr.mgh.harvard.edu/   \n",
       "1  https://surfer.nmr.mgh.harvard.edu/   \n",
       "2  https://surfer.nmr.mgh.harvard.edu/   \n",
       "\n",
       "                              softwareLabel  \\\n",
       "0  Left-Lateral-Ventricle Volume_mm3 (mm^3)   \n",
       "1           Left-Amygdala Volume_mm3 (mm^3)   \n",
       "2   Right-Thalamus-Proper Volume_mm3 (mm^3)   \n",
       "\n",
       "                                  federatedLabel laterality   volume  \n",
       "0  http://purl.obolibrary.org/obo/UBERON_0002285       Left  10337.7  \n",
       "1  http://purl.obolibrary.org/obo/UBERON_0001876       Left   1457.7  \n",
       "2  http://purl.obolibrary.org/obo/UBERON_0001897      Right   7611.3  "
      ]
     },
     "execution_count": 126,
     "metadata": {},
     "output_type": "execute_result"
    }
   ],
   "source": [
    "hie.head(3)"
   ]
  },
  {
   "cell_type": "markdown",
   "metadata": {},
   "source": [
    "## hypotheses"
   ]
  },
  {
   "cell_type": "markdown",
   "metadata": {},
   "source": [
    "Hypotheses\n",
    "\n",
    "PIET-1: Total Brain Volume will positively correlate with IQ (in both sexes across the complete age range).\n",
    "\n",
    "MAC-1: Left striatum volume (caudate + putamen) will positively correlate with IQ in the total (male + female) child (age < 20) group.\n",
    "\n",
    "MAC-2: Left striatum volume (caudate + putamen) will positively correlate with IQ in the male children group.\n",
    "\n",
    "MAC-3: Left striatum volume (caudate + putamen) will not correlate with IQ in the female children group.\n",
    "\n",
    "MAC-3: Left striatum volume (caudate + putamen) will not correlate with IQ in the female children group.\n",
    "\n",
    "GANJ-1: Total Corpus Callosum midsagittal area, after correcting for total brain volume, will negatively correlate with IQ.\n",
    "\n",
    "GANJ-2: Total Corpus Callosum midsagittal area, after correcting for total brain volume, will negatively correlate with IQ in the young (age < 12) group.\n",
    "\n",
    "GANJ-3: Total Corpus Callosum midsagittal area, after correcting for total brain volume, will not significantly correlate with IQ in the adolescent (age > 12) group.\n",
    "\n",
    "GANJ-4:. Total Corpus Callosum midsagittal area, after correcting for total brain volume, will negatively correlate with IQ in the male (age < 12) group.\n",
    "\n",
    "GANJ-5: Total Corpus Callosum midsagittal area, after correcting for total brain volume, will not significantly correlate with IQ in the female (age < 12) group.\n"
   ]
  },
  {
   "cell_type": "code",
   "execution_count": null,
   "metadata": {},
   "outputs": [],
   "source": []
  },
  {
   "cell_type": "markdown",
   "metadata": {},
   "source": [
    "## Analyses"
   ]
  },
  {
   "cell_type": "markdown",
   "metadata": {},
   "source": [
    "### sandbox"
   ]
  },
  {
   "cell_type": "code",
   "execution_count": 129,
   "metadata": {},
   "outputs": [
    {
     "name": "stdout",
     "output_type": "stream",
     "text": [
      "http://purl.obolibrary.org/obo/UBERON_0001873\n"
     ]
    }
   ],
   "source": [
    "u_caudate = h2ube['Caudate']\n",
    "print(u_caudate)"
   ]
  },
  {
   "cell_type": "code",
   "execution_count": 132,
   "metadata": {},
   "outputs": [],
   "source": [
    "# df.loc[(df['column_name'] >= A) & (df['column_name'] <= B)]\n",
    "\n",
    "# tmp = hie[hie.structure==u_caudate][hie.Gender=='1']\n",
    "# tmp = hie.loc[(hie['Gender']=='1')] # & (hie['Gender']=='Male')]\n",
    "\n",
    "# Male or '1' for caudate\n",
    "tmp = hie.loc[((hie['Gender']=='1') | (hie['Gender']=='Male')) \n",
    "                               & (hie['federatedLabel'] == u_caudate ) \n",
    "                               & (hie['tool']==tooldic['surfer'])]\n"
   ]
  },
  {
   "cell_type": "code",
   "execution_count": 136,
   "metadata": {},
   "outputs": [
    {
     "name": "stdout",
     "output_type": "stream",
     "text": [
      "{'https://surfer.nmr.mgh.harvard.edu/', 'http://purl.org/nidash/fsl#'}\n",
      "{'Male', 'Female'}\n",
      "{'Left', 'Right'}\n"
     ]
    }
   ],
   "source": [
    "print(set(hie['tool']))\n",
    "#print(tooldic['fsl'])\n",
    "#print(len(hie),len(tmp))\n",
    "#print(set(hie['hand']))\n",
    "print(set(hie['Gender']))\n",
    "#print(set(hie['dx']))\n",
    "print(set(hie['laterality']))\n"
   ]
  },
  {
   "cell_type": "code",
   "execution_count": null,
   "metadata": {},
   "outputs": [],
   "source": [
    "h2ube"
   ]
  },
  {
   "cell_type": "markdown",
   "metadata": {},
   "source": [
    "### PIET-1: Total Brain Volume will positively correlate with IQ (in both sexes across the complete age range).\n"
   ]
  },
  {
   "cell_type": "code",
   "execution_count": 130,
   "metadata": {},
   "outputs": [
    {
     "ename": "KeyError",
     "evalue": "\"['structure', 'fiq', 'value', 'study', 'piq'] not in index\"",
     "output_type": "error",
     "traceback": [
      "\u001b[0;31m---------------------------------------------------------------------------\u001b[0m",
      "\u001b[0;31mKeyError\u001b[0m                                  Traceback (most recent call last)",
      "\u001b[0;32m<ipython-input-130-0250c8ab7bfc>\u001b[0m in \u001b[0;36m<module>\u001b[0;34m\u001b[0m\n\u001b[1;32m      4\u001b[0m \u001b[0;31m#tool = 'fsl'\u001b[0m\u001b[0;34m\u001b[0m\u001b[0;34m\u001b[0m\u001b[0;34m\u001b[0m\u001b[0m\n\u001b[1;32m      5\u001b[0m \u001b[0;34m\u001b[0m\u001b[0m\n\u001b[0;32m----> 6\u001b[0;31m \u001b[0mtmp\u001b[0m \u001b[0;34m=\u001b[0m \u001b[0mhie\u001b[0m\u001b[0;34m[\u001b[0m\u001b[0;34m[\u001b[0m\u001b[0;34m'study'\u001b[0m\u001b[0;34m,\u001b[0m\u001b[0;34m'ID'\u001b[0m\u001b[0;34m,\u001b[0m\u001b[0;34m'Gender'\u001b[0m\u001b[0;34m,\u001b[0m\u001b[0;34m'structure'\u001b[0m\u001b[0;34m,\u001b[0m\u001b[0;34m'tool'\u001b[0m\u001b[0;34m,\u001b[0m\u001b[0;34m'value'\u001b[0m\u001b[0;34m,\u001b[0m\u001b[0;34m'piq'\u001b[0m\u001b[0;34m,\u001b[0m\u001b[0;34m'fiq'\u001b[0m\u001b[0;34m]\u001b[0m\u001b[0;34m]\u001b[0m\u001b[0;34m\u001b[0m\u001b[0;34m\u001b[0m\u001b[0m\n\u001b[0m\u001b[1;32m      7\u001b[0m \u001b[0;31m# tmp = tmp.loc[((hie['Gender']=='1') | (hie['Gender']=='Male'))\u001b[0m\u001b[0;34m\u001b[0m\u001b[0;34m\u001b[0m\u001b[0;34m\u001b[0m\u001b[0m\n\u001b[1;32m      8\u001b[0m \u001b[0;34m\u001b[0m\u001b[0m\n",
      "\u001b[0;32m~/virtualenvs/simple2/lib/python3.6/site-packages/pandas/core/frame.py\u001b[0m in \u001b[0;36m__getitem__\u001b[0;34m(self, key)\u001b[0m\n\u001b[1;32m   2932\u001b[0m                 \u001b[0mkey\u001b[0m \u001b[0;34m=\u001b[0m \u001b[0mlist\u001b[0m\u001b[0;34m(\u001b[0m\u001b[0mkey\u001b[0m\u001b[0;34m)\u001b[0m\u001b[0;34m\u001b[0m\u001b[0;34m\u001b[0m\u001b[0m\n\u001b[1;32m   2933\u001b[0m             indexer = self.loc._convert_to_indexer(key, axis=1,\n\u001b[0;32m-> 2934\u001b[0;31m                                                    raise_missing=True)\n\u001b[0m\u001b[1;32m   2935\u001b[0m \u001b[0;34m\u001b[0m\u001b[0m\n\u001b[1;32m   2936\u001b[0m         \u001b[0;31m# take() does not accept boolean indexers\u001b[0m\u001b[0;34m\u001b[0m\u001b[0;34m\u001b[0m\u001b[0;34m\u001b[0m\u001b[0m\n",
      "\u001b[0;32m~/virtualenvs/simple2/lib/python3.6/site-packages/pandas/core/indexing.py\u001b[0m in \u001b[0;36m_convert_to_indexer\u001b[0;34m(self, obj, axis, is_setter, raise_missing)\u001b[0m\n\u001b[1;32m   1352\u001b[0m                 kwargs = {'raise_missing': True if is_setter else\n\u001b[1;32m   1353\u001b[0m                           raise_missing}\n\u001b[0;32m-> 1354\u001b[0;31m                 \u001b[0;32mreturn\u001b[0m \u001b[0mself\u001b[0m\u001b[0;34m.\u001b[0m\u001b[0m_get_listlike_indexer\u001b[0m\u001b[0;34m(\u001b[0m\u001b[0mobj\u001b[0m\u001b[0;34m,\u001b[0m \u001b[0maxis\u001b[0m\u001b[0;34m,\u001b[0m \u001b[0;34m**\u001b[0m\u001b[0mkwargs\u001b[0m\u001b[0;34m)\u001b[0m\u001b[0;34m[\u001b[0m\u001b[0;36m1\u001b[0m\u001b[0;34m]\u001b[0m\u001b[0;34m\u001b[0m\u001b[0;34m\u001b[0m\u001b[0m\n\u001b[0m\u001b[1;32m   1355\u001b[0m         \u001b[0;32melse\u001b[0m\u001b[0;34m:\u001b[0m\u001b[0;34m\u001b[0m\u001b[0;34m\u001b[0m\u001b[0m\n\u001b[1;32m   1356\u001b[0m             \u001b[0;32mtry\u001b[0m\u001b[0;34m:\u001b[0m\u001b[0;34m\u001b[0m\u001b[0;34m\u001b[0m\u001b[0m\n",
      "\u001b[0;32m~/virtualenvs/simple2/lib/python3.6/site-packages/pandas/core/indexing.py\u001b[0m in \u001b[0;36m_get_listlike_indexer\u001b[0;34m(self, key, axis, raise_missing)\u001b[0m\n\u001b[1;32m   1159\u001b[0m         self._validate_read_indexer(keyarr, indexer,\n\u001b[1;32m   1160\u001b[0m                                     \u001b[0mo\u001b[0m\u001b[0;34m.\u001b[0m\u001b[0m_get_axis_number\u001b[0m\u001b[0;34m(\u001b[0m\u001b[0maxis\u001b[0m\u001b[0;34m)\u001b[0m\u001b[0;34m,\u001b[0m\u001b[0;34m\u001b[0m\u001b[0;34m\u001b[0m\u001b[0m\n\u001b[0;32m-> 1161\u001b[0;31m                                     raise_missing=raise_missing)\n\u001b[0m\u001b[1;32m   1162\u001b[0m         \u001b[0;32mreturn\u001b[0m \u001b[0mkeyarr\u001b[0m\u001b[0;34m,\u001b[0m \u001b[0mindexer\u001b[0m\u001b[0;34m\u001b[0m\u001b[0;34m\u001b[0m\u001b[0m\n\u001b[1;32m   1163\u001b[0m \u001b[0;34m\u001b[0m\u001b[0m\n",
      "\u001b[0;32m~/virtualenvs/simple2/lib/python3.6/site-packages/pandas/core/indexing.py\u001b[0m in \u001b[0;36m_validate_read_indexer\u001b[0;34m(self, key, indexer, axis, raise_missing)\u001b[0m\n\u001b[1;32m   1250\u001b[0m             \u001b[0;32mif\u001b[0m \u001b[0;32mnot\u001b[0m\u001b[0;34m(\u001b[0m\u001b[0mself\u001b[0m\u001b[0;34m.\u001b[0m\u001b[0mname\u001b[0m \u001b[0;34m==\u001b[0m \u001b[0;34m'loc'\u001b[0m \u001b[0;32mand\u001b[0m \u001b[0;32mnot\u001b[0m \u001b[0mraise_missing\u001b[0m\u001b[0;34m)\u001b[0m\u001b[0;34m:\u001b[0m\u001b[0;34m\u001b[0m\u001b[0;34m\u001b[0m\u001b[0m\n\u001b[1;32m   1251\u001b[0m                 \u001b[0mnot_found\u001b[0m \u001b[0;34m=\u001b[0m \u001b[0mlist\u001b[0m\u001b[0;34m(\u001b[0m\u001b[0mset\u001b[0m\u001b[0;34m(\u001b[0m\u001b[0mkey\u001b[0m\u001b[0;34m)\u001b[0m \u001b[0;34m-\u001b[0m \u001b[0mset\u001b[0m\u001b[0;34m(\u001b[0m\u001b[0max\u001b[0m\u001b[0;34m)\u001b[0m\u001b[0;34m)\u001b[0m\u001b[0;34m\u001b[0m\u001b[0;34m\u001b[0m\u001b[0m\n\u001b[0;32m-> 1252\u001b[0;31m                 \u001b[0;32mraise\u001b[0m \u001b[0mKeyError\u001b[0m\u001b[0;34m(\u001b[0m\u001b[0;34m\"{} not in index\"\u001b[0m\u001b[0;34m.\u001b[0m\u001b[0mformat\u001b[0m\u001b[0;34m(\u001b[0m\u001b[0mnot_found\u001b[0m\u001b[0;34m)\u001b[0m\u001b[0;34m)\u001b[0m\u001b[0;34m\u001b[0m\u001b[0;34m\u001b[0m\u001b[0m\n\u001b[0m\u001b[1;32m   1253\u001b[0m \u001b[0;34m\u001b[0m\u001b[0m\n\u001b[1;32m   1254\u001b[0m             \u001b[0;31m# we skip the warning on Categorical/Interval\u001b[0m\u001b[0;34m\u001b[0m\u001b[0;34m\u001b[0m\u001b[0;34m\u001b[0m\u001b[0m\n",
      "\u001b[0;31mKeyError\u001b[0m: \"['structure', 'fiq', 'value', 'study', 'piq'] not in index\""
     ]
    }
   ],
   "source": [
    "roi = 'cerebellar cortex'\n",
    "# roi = 'cerebellar cortex'\n",
    "tool = 'surfer'\n",
    "#tool = 'fsl'\n",
    "\n",
    "tmp = hie[['study','ID','Gender','structure','tool','value','piq','fiq']]\n",
    "# tmp = tmp.loc[((hie['Gender']=='1') | (hie['Gender']=='Male')) \n",
    "\n",
    "# hand_cond = ((hie['hand'] == 'L')|(hie['hand'] == 'Left')|(hie['latera'] == 'Left'))\n",
    "age_cond = (hie['Age'] <= 20)\n",
    "roi_cond = (hie['structure'] == h2ube[roi])\n",
    "tool_cond = (hie['tool']==tooldic[tool])\n",
    "\n",
    "condition = roi_cond & tool_cond # & age_cond \n",
    "\n",
    "tmp = tmp.loc[condition].drop_duplicates()\n",
    "\n",
    "print(len(hie),len(tmp))"
   ]
  },
  {
   "cell_type": "code",
   "execution_count": null,
   "metadata": {},
   "outputs": [],
   "source": [
    "list(tmp)"
   ]
  },
  {
   "cell_type": "code",
   "execution_count": null,
   "metadata": {},
   "outputs": [],
   "source": [
    "print(\" Structure = \", roi)\n",
    "assert ube2h[tmp.iloc[0]['structure']] == roi\n",
    "\n",
    "iq = 'fiq'\n",
    "\n",
    "md = smf.ols(iq + \" ~ Q('value') + Gender + study \", data=tmp) # + study \n",
    "mdf = md.fit()\n",
    "print(mdf.summary())\n"
   ]
  },
  {
   "cell_type": "markdown",
   "metadata": {},
   "source": [
    "### conclusion : based on the wrong structure ...\n",
    "1. no significance for piq for what seems to be the closest region:\n",
    "Q('value')                      -0.0410      0.032     -1.286      0.199    \n",
    "1. negatively correlated for fiq for what seems to be the closest region:\n",
    "Q('value')                      -0.1232      0.032     -3.881      0.000      "
   ]
  },
  {
   "cell_type": "markdown",
   "metadata": {},
   "source": [
    "### MAC-1: Left striatum volume (caudate + putamen) will positively correlate with IQ in the total (male + female) child (age < 20) group.\n"
   ]
  },
  {
   "cell_type": "code",
   "execution_count": null,
   "metadata": {},
   "outputs": [],
   "source": [
    "roi1 = 'caudate nucleus'\n",
    "roi2 = 'putamen'\n",
    "# roi = 'cerebellar cortex'\n",
    "tool = 'surfer'\n",
    "# tool = 'fsl'\n",
    "\n",
    "# pick the interesting variables\n",
    "#--------------------------------#\n",
    "tmp = hie[['study','ID','Gender','structure','tool','value', 'fiq', 'piq', 'latera']]\n",
    "# condition1 = ((hie['Gender']=='1') | (hie['Gender']=='Male')) & \n",
    "\n",
    "# list of conditions\n",
    "#---------------------#\n",
    "hand_cond = ((hie['hand'] == 'L') | (hie['hand'] == 'Left')) # | (hie['latera'] == 'Left'))\n",
    "age_cond = (hie['Age'] <= 20)\n",
    "roi1_cond = (hie['structure'] == h2ube[roi1])\n",
    "roi2_cond = (hie['structure'] == h2ube[roi2])\n",
    "tool_cond = (hie['tool']==tooldic[tool])\n",
    "\n",
    "condition1 = roi1_cond & tool_cond & age_cond & hand_cond  \n",
    "condition2 = roi2_cond & tool_cond & age_cond & hand_cond\n",
    "\n",
    "tmp1 = tmp.loc[condition1].drop_duplicates()\n",
    "tmp2 = tmp.loc[condition2].drop_duplicates()\n",
    "\n",
    "#tmp1 = tmp1.set_index('ID')\n",
    "#tmp2 = tmp2.set_index('ID')\n",
    "\n",
    "print(len(hie))\n",
    "print(roi1, ': tmp1', len(tmp1), len(tmp1.drop_duplicates()))\n",
    "print(roi2, ': tmp2', len(tmp2), len(tmp2.drop_duplicates()))"
   ]
  },
  {
   "cell_type": "code",
   "execution_count": null,
   "metadata": {},
   "outputs": [],
   "source": [
    "tmp2"
   ]
  },
  {
   "cell_type": "code",
   "execution_count": null,
   "metadata": {},
   "outputs": [],
   "source": [
    "def split_merge_df(df, indx='ID', spliton='latera', cols='value', droplist=[]):\n",
    "    \"\"\"\n",
    "    split the df, create a new one merged\n",
    "    think of lev1 = Right, lev2 = Left\n",
    "    \"\"\"\n",
    "    levels_ = list(set(df[spliton]))\n",
    "    # print(levels_)\n",
    "    levels = [v for v in levels_ if v != 'None']\n",
    "    assert len(levels)==2\n",
    "    lev1, lev2 = levels[0], levels[1]\n",
    "    dflev1 = df[df[spliton]==lev1]\n",
    "    dflev2 = df[df[spliton]==lev2]\n",
    "    \n",
    "    # no duplicates in the indx\n",
    "    assert len(set(dflev1[indx])) == len(dflev1[indx])\n",
    "    assert len(set(dflev2[indx])) == len(dflev2[indx])\n",
    "    # same indx on all levels\n",
    "    assert len(dflev1[indx]) == len(dflev2[indx])\n",
    "    \n",
    "    merged_inner = pd.merge(left=dflev1, right=dflev2, left_on=indx, right_on=indx)\n",
    "    merged_inner.rename(columns={cols+'_x': cols+'_'+lev1, cols+'_y': cols+'_'+lev2}, inplace=True)\n",
    "    \n",
    "    if droplist != []:\n",
    "        for colname in droplist:\n",
    "            colname_y = colname + '_y'\n",
    "            colname_x = colname + '_x'\n",
    "            merged_inner.drop(colname_y, axis=1, inplace=True)\n",
    "            merged_inner.rename(columns={colname_x: colname}, inplace=True)\n",
    "    \n",
    "    return merged_inner"
   ]
  },
  {
   "cell_type": "code",
   "execution_count": null,
   "metadata": {},
   "outputs": [],
   "source": [
    "droplist = list(tmp)\n",
    "for colname in ['ID', 'value', 'latera']:\n",
    "    droplist.remove(colname)\n",
    "print(droplist)\n",
    "tmp_1 = split_merge_df(tmp1, indx='ID', spliton='latera', cols='value',droplist=droplist)\n",
    "tmp_2 = split_merge_df(tmp2, indx='ID', spliton='latera', cols='value',droplist=droplist)"
   ]
  },
  {
   "cell_type": "code",
   "execution_count": null,
   "metadata": {},
   "outputs": [],
   "source": [
    "len(tmp_1)"
   ]
  },
  {
   "cell_type": "code",
   "execution_count": null,
   "metadata": {},
   "outputs": [],
   "source": [
    "# a function that takes the laterality right and create a new column\n",
    "df = tmp1.copy()\n",
    "\n",
    "list(df)\n",
    "dfleft = df[df['latera']=='Left'].copy()\n",
    "dfright = df[df['latera']=='Right']\n",
    "\n",
    "# check IDs are unique and the same for left and right\n",
    "assert len(set(dfleft['ID'])) == len(dfleft['ID'])\n",
    "assert len(set(dfright['ID'])) == len(dfright['ID'])\n",
    "assert set(dfright['ID']) == set(dfleft['ID'])\n",
    "\n",
    "# create a new column on dfleft\n",
    "#dfleft.set_index('ID');\n",
    "#dfright.set_index('ID');\n",
    "merged_inner = pd.merge(left=dfleft, right=dfright, left_on='ID', right_on='ID')\n",
    "\n",
    "# -- try to drop duplicates \n",
    "# to do: https://thispointer.com/how-to-find-drop-duplicate-columns-in-a-dataframe-python-pandas/\n",
    "# merged_inner = merged_inner.loc[:,~merged_inner.columns.duplicated()]"
   ]
  },
  {
   "cell_type": "code",
   "execution_count": null,
   "metadata": {},
   "outputs": [],
   "source": [
    "set(df['latera'])"
   ]
  },
  {
   "cell_type": "code",
   "execution_count": null,
   "metadata": {},
   "outputs": [],
   "source": [
    "merged_inner.head()"
   ]
  },
  {
   "cell_type": "code",
   "execution_count": null,
   "metadata": {},
   "outputs": [],
   "source": [
    "import numbers\n",
    "import decimal\n",
    "hand_nb = [v for v in hie['hand'] if isinstance(v, numbers.Number)]\n",
    "len(hand_nb)"
   ]
  },
  {
   "cell_type": "code",
   "execution_count": null,
   "metadata": {},
   "outputs": [],
   "source": [
    "ax = plt.hist(tmp1['value'])"
   ]
  },
  {
   "cell_type": "code",
   "execution_count": null,
   "metadata": {},
   "outputs": [],
   "source": [
    "ax = plt.hist(tmp2['value'])"
   ]
  },
  {
   "cell_type": "code",
   "execution_count": null,
   "metadata": {},
   "outputs": [],
   "source": [
    "# tmp2.head(2)"
   ]
  },
  {
   "cell_type": "code",
   "execution_count": null,
   "metadata": {},
   "outputs": [],
   "source": [
    "tmp1.head(5)"
   ]
  },
  {
   "cell_type": "code",
   "execution_count": null,
   "metadata": {},
   "outputs": [],
   "source": [
    "# hie.loc[(hie['ID']==21002) & (hie['structure']==h2uberon[roi1]) & (hie['tool']==tooldic['surfer'])]"
   ]
  },
  {
   "cell_type": "markdown",
   "metadata": {},
   "source": [
    "#### try to add values of the same index"
   ]
  },
  {
   "cell_type": "code",
   "execution_count": null,
   "metadata": {},
   "outputs": [],
   "source": [
    "datadf = tmp1[tmp1['latera'] == 'Left' ]\n",
    "datadf.set_index('ID', inplace=True)\n",
    "len(datadf)\n",
    "datadf.head(3)\n",
    "datadf_right = tmp1[tmp1['latera'] == 'Right' ]\n",
    "datadf['value_right'] = datadf_right['value']"
   ]
  },
  {
   "cell_type": "code",
   "execution_count": null,
   "metadata": {},
   "outputs": [],
   "source": [
    "tmp_1 = tmp1.groupby(['ID']).mean().dropna()\n",
    "tmp_2 = tmp2.groupby(['ID']).mean().dropna()\n",
    "print(len(tmp_2), len(tmp_1))\n",
    "assert np.all(tmp_1.index == tmp_2.index)"
   ]
  },
  {
   "cell_type": "code",
   "execution_count": null,
   "metadata": {},
   "outputs": [],
   "source": [
    "tmp_2.head()"
   ]
  },
  {
   "cell_type": "code",
   "execution_count": null,
   "metadata": {},
   "outputs": [],
   "source": [
    "\"\"\" print(type(tmp_2))\n",
    "print(list(tmp_2))\n",
    "print(tmp_2['value'][:5])\n",
    "print(tmp_1['value'][:5]) \n",
    "\n",
    "list(tmp_2)\n",
    "len(set(tmp_2.index))\n",
    "\n",
    "\n",
    "lists_index = [set(tmp1['ID']),  set(tmp2['ID'])]\n",
    "len( set.intersection(*lists_index))\n",
    "\"\"\";"
   ]
  },
  {
   "cell_type": "code",
   "execution_count": null,
   "metadata": {},
   "outputs": [],
   "source": [
    "datadf1 = tmp1.set_index('ID')\n",
    "datadf2 = tmp2.set_index('ID')\n",
    "len(datadf1), len(datadf2)"
   ]
  },
  {
   "cell_type": "code",
   "execution_count": null,
   "metadata": {},
   "outputs": [],
   "source": [
    "datadf = pd.merge(left=tmp1,right=tmp2, left_on='ID', right_on='ID')"
   ]
  },
  {
   "cell_type": "code",
   "execution_count": null,
   "metadata": {},
   "outputs": [],
   "source": [
    "datadf.head()"
   ]
  },
  {
   "cell_type": "code",
   "execution_count": null,
   "metadata": {},
   "outputs": [],
   "source": [
    "\n",
    "datadf['cau_put'] = tmp_2.loc[:,'value'].add(tmp_1.loc[:,'value'])\n",
    "datadf[iq] = tmp_2[iq]\n",
    "datadf['study'] = tmp_2['study']\n",
    "datadf['Gender'] = tmp_2['Gender']\n",
    "\n",
    "print(list(datadf))"
   ]
  },
  {
   "cell_type": "code",
   "execution_count": null,
   "metadata": {},
   "outputs": [],
   "source": [
    "#datadf = datadf[datadf['cau_put'] < 15000]\n",
    "len(datadf)\n",
    "ax = plt.hist(datadf['cau_put'])"
   ]
  },
  {
   "cell_type": "code",
   "execution_count": null,
   "metadata": {},
   "outputs": [],
   "source": []
  },
  {
   "cell_type": "code",
   "execution_count": null,
   "metadata": {},
   "outputs": [],
   "source": [
    "iq = 'piq'\n",
    "\n",
    "md = smf.ols(iq + \" ~ Q('cau_put') + study + Gender\", data=datadf)\n",
    "mdf = md.fit()\n",
    "print(mdf.summary())\n"
   ]
  },
  {
   "cell_type": "markdown",
   "metadata": {},
   "source": [
    "### Conclusion\n",
    "\n",
    "1. does not seem to replicate with fiq (only 58 values ?)\n",
    "2. does not seem to replicate with piq\n"
   ]
  },
  {
   "cell_type": "markdown",
   "metadata": {},
   "source": [
    "### MAC-2: Left striatum volume (caudate + putamen) will positively correlate with IQ in the male children group.\n"
   ]
  },
  {
   "cell_type": "code",
   "execution_count": null,
   "metadata": {},
   "outputs": [],
   "source": [
    "#merged_inner = pd.merge(left=tmp_1, right=tmp_2) #, left_on='ID', right_on='ID') #how='join', "
   ]
  },
  {
   "cell_type": "code",
   "execution_count": null,
   "metadata": {},
   "outputs": [],
   "source": [
    "roi1 = 'caudate nucleus'\n",
    "roi2 = 'putamen'\n",
    "# roi = 'cerebellar cortex'\n",
    "tool = 'surfer'\n",
    "# tool = 'fsl'\n",
    "\n",
    "# tmp = hie[['ID','Gender','structure','tool','value','fiq']]\n",
    "# condition1 = ((hie['Gender']=='1') | (hie['Gender']=='Male')) & \n",
    "\n",
    "condition1 = (hie['structure'] == h2uberon[roi1]) & (hie['tool']==tooldic[tool]) \\\n",
    "             & (hie['Age'] < 20) \\\n",
    "             & ((hie['Gender']=='1') | (hie['Gender']=='Male'))\n",
    "condition2 = (hie['structure'] == h2uberon[roi2]) & (hie['tool']==tooldic[tool]) \\\n",
    "             & (hie['Age'] < 20) \\\n",
    "             & ((hie['Gender']=='1') | (hie['Gender']=='Male'))\n",
    "\n",
    "    \n",
    "tmp1 = tmp.loc[condition1].drop_duplicates()\n",
    "tmp2 = tmp.loc[condition2].drop_duplicates()\n",
    "#tmp1 = tmp1.set_index('ID')\n",
    "#tmp2 = tmp2.set_index('ID')\n"
   ]
  },
  {
   "cell_type": "code",
   "execution_count": null,
   "metadata": {},
   "outputs": [],
   "source": [
    "print(len(hie),len(tmp1),len(tmp2))\n",
    "print(len(tmp1.drop_duplicates()),len(tmp2.drop_duplicates()))"
   ]
  },
  {
   "cell_type": "code",
   "execution_count": null,
   "metadata": {},
   "outputs": [],
   "source": [
    "tmp_1 = tmp1.groupby(['ID']).mean().dropna()\n",
    "tmp_2 = tmp2.groupby(['ID']).mean().dropna()\n",
    "print(len(tmp_2), len(tmp_1))\n",
    "assert np.all(tmp_1.index == tmp_2.index)"
   ]
  },
  {
   "cell_type": "code",
   "execution_count": null,
   "metadata": {},
   "outputs": [],
   "source": [
    "datadf = tmp_2\n",
    "datadf['cau_put'] = tmp_2.loc[:,'value'].add(tmp_1.loc[:,'value'])\n",
    "datadf['fiq'] = tmp_2['fiq']\n",
    "print(list(datadf))"
   ]
  },
  {
   "cell_type": "code",
   "execution_count": null,
   "metadata": {},
   "outputs": [],
   "source": [
    "print(len(datadf))\n",
    "# ax = plt.hist(datadf['cau_put'])"
   ]
  },
  {
   "cell_type": "code",
   "execution_count": null,
   "metadata": {},
   "outputs": [],
   "source": [
    "\n",
    "md = smf.ols(\"fiq ~ Q('cau_put')\", data=datadf)\n",
    "mdf = md.fit()\n",
    "print(mdf.summary())\n"
   ]
  },
  {
   "cell_type": "markdown",
   "metadata": {},
   "source": [
    "### "
   ]
  },
  {
   "cell_type": "code",
   "execution_count": null,
   "metadata": {},
   "outputs": [],
   "source": [
    "#tmp = hie.loc[ (hie['structure']==h2uberon[roi]) & (hie['tool']==tooldic['surfer'])]\n",
    "#tmp.head(3)"
   ]
  },
  {
   "cell_type": "code",
   "execution_count": null,
   "metadata": {},
   "outputs": [],
   "source": [
    "#tmp_ = tmp1.groupby(['ID']).min()\n",
    "#tmp_.head(3)"
   ]
  },
  {
   "cell_type": "code",
   "execution_count": null,
   "metadata": {},
   "outputs": [],
   "source": []
  },
  {
   "cell_type": "code",
   "execution_count": null,
   "metadata": {},
   "outputs": [],
   "source": []
  },
  {
   "cell_type": "code",
   "execution_count": null,
   "metadata": {},
   "outputs": [],
   "source": [
    "# horizontal_stack = pd.concat([tmp1, tmp2], axis=1)\n",
    "merged_inner = pd.merge(left=tmp1, right=tmp2, left_on='ID', right_on='ID') #how='join', "
   ]
  },
  {
   "cell_type": "code",
   "execution_count": null,
   "metadata": {},
   "outputs": [],
   "source": [
    "len(merged_inner.drop_duplicates())"
   ]
  },
  {
   "cell_type": "code",
   "execution_count": null,
   "metadata": {},
   "outputs": [],
   "source": [
    "merged_inner.head(4)"
   ]
  },
  {
   "cell_type": "code",
   "execution_count": null,
   "metadata": {},
   "outputs": [],
   "source": []
  },
  {
   "cell_type": "code",
   "execution_count": null,
   "metadata": {},
   "outputs": [],
   "source": []
  },
  {
   "cell_type": "code",
   "execution_count": null,
   "metadata": {},
   "outputs": [],
   "source": [
    "md = smf.ols(\"FIQ ~ Q('striatal volume')\", data=data2)\n",
    "mdf = md.fit()\n",
    "print(mdf.summary())\n",
    "print(pearsonr(data2['FIQ'], data2['striatal volume']))"
   ]
  },
  {
   "cell_type": "code",
   "execution_count": null,
   "metadata": {},
   "outputs": [],
   "source": [
    "print(tmp.loc[(tmp['ID']==3559087)])"
   ]
  },
  {
   "cell_type": "code",
   "execution_count": null,
   "metadata": {},
   "outputs": [],
   "source": [
    "hie.iloc[1578]"
   ]
  },
  {
   "cell_type": "code",
   "execution_count": null,
   "metadata": {},
   "outputs": [],
   "source": [
    "hie.iloc[1577]"
   ]
  },
  {
   "cell_type": "code",
   "execution_count": null,
   "metadata": {},
   "outputs": [],
   "source": []
  },
  {
   "cell_type": "code",
   "execution_count": null,
   "metadata": {},
   "outputs": [],
   "source": []
  },
  {
   "cell_type": "code",
   "execution_count": null,
   "metadata": {},
   "outputs": [],
   "source": []
  },
  {
   "cell_type": "code",
   "execution_count": null,
   "metadata": {},
   "outputs": [],
   "source": []
  },
  {
   "cell_type": "code",
   "execution_count": null,
   "metadata": {},
   "outputs": [],
   "source": []
  },
  {
   "cell_type": "code",
   "execution_count": null,
   "metadata": {},
   "outputs": [],
   "source": [
    "uberon = \"http://purl.obolibrary.org/obo/UBERON_0001897\"\n",
    "\n",
    "cmd = 'wget -O - ' + uberon\\\n",
    "                   + '  | grep -A 1 ' +  \"'\" + 'Class rdf:about='\\\n",
    "                   + '\"' + uberon + '\"' +  \"'\""
   ]
  },
  {
   "cell_type": "code",
   "execution_count": null,
   "metadata": {},
   "outputs": [],
   "source": []
  },
  {
   "cell_type": "code",
   "execution_count": null,
   "metadata": {},
   "outputs": [],
   "source": [
    "print(cmd.split())"
   ]
  },
  {
   "cell_type": "code",
   "execution_count": null,
   "metadata": {},
   "outputs": [],
   "source": [
    "import subprocess\n",
    "MyOut = subprocess.Popen(cmd.split(), \n",
    "            stdout=subprocess.PIPE, \n",
    "           stderr=subprocess.STDOUT, shell=True)\n",
    "stdout,stderr = MyOut.communicate()\n",
    "print(stdout)\n",
    "#print(stderr)"
   ]
  },
  {
   "cell_type": "code",
   "execution_count": null,
   "metadata": {},
   "outputs": [],
   "source": [
    "process = subprocess.run(cmd.split())"
   ]
  },
  {
   "cell_type": "code",
   "execution_count": null,
   "metadata": {},
   "outputs": [],
   "source": []
  },
  {
   "cell_type": "code",
   "execution_count": null,
   "metadata": {},
   "outputs": [],
   "source": []
  },
  {
   "cell_type": "code",
   "execution_count": null,
   "metadata": {},
   "outputs": [],
   "source": [
    "list(hie)"
   ]
  },
  {
   "cell_type": "code",
   "execution_count": null,
   "metadata": {},
   "outputs": [],
   "source": [
    "uberon= '<http://purl.obolibrary.org/obo/UBERON_0001897>'\n"
   ]
  },
  {
   "cell_type": "code",
   "execution_count": null,
   "metadata": {},
   "outputs": [],
   "source": [
    "len(tmp)"
   ]
  },
  {
   "cell_type": "code",
   "execution_count": null,
   "metadata": {},
   "outputs": [],
   "source": []
  },
  {
   "cell_type": "code",
   "execution_count": null,
   "metadata": {},
   "outputs": [],
   "source": []
  },
  {
   "cell_type": "code",
   "execution_count": null,
   "metadata": {},
   "outputs": [],
   "source": []
  },
  {
   "cell_type": "code",
   "execution_count": null,
   "metadata": {},
   "outputs": [],
   "source": []
  },
  {
   "cell_type": "code",
   "execution_count": null,
   "metadata": {},
   "outputs": [],
   "source": [
    "# Load in the dataset, appending 'nd' to the list of possible na_values\n",
    "hie = pd.read_csv(relative_path_filename, na_values='nd')\n",
    "original_col_names = list(hie)\n",
    "print(original_col_names[:10])\n",
    "\n",
    "# column names are unique\n",
    "assert len(original_col_names) == len(set(original_col_names))"
   ]
  },
  {
   "cell_type": "code",
   "execution_count": null,
   "metadata": {},
   "outputs": [],
   "source": []
  }
 ],
 "metadata": {
  "kernelspec": {
   "display_name": "Python 3",
   "language": "python",
   "name": "python3"
  },
  "language_info": {
   "codemirror_mode": {
    "name": "ipython",
    "version": 3
   },
   "file_extension": ".py",
   "mimetype": "text/x-python",
   "name": "python",
   "nbconvert_exporter": "python",
   "pygments_lexer": "ipython3",
   "version": "3.6.7"
  },
  "toc": {
   "nav_menu": {},
   "number_sections": true,
   "sideBar": true,
   "skip_h1_title": false,
   "toc_cell": false,
   "toc_position": {},
   "toc_section_display": "block",
   "toc_window_display": false
  }
 },
 "nbformat": 4,
 "nbformat_minor": 2
}
