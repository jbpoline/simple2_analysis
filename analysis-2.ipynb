{
 "cells": [
  {
   "cell_type": "markdown",
   "metadata": {},
   "source": [
    "# wrangling with the csv"
   ]
  },
  {
   "cell_type": "code",
   "execution_count": 1,
   "metadata": {},
   "outputs": [],
   "source": [
    "import pandas as pd\n",
    "import numpy as np\n",
    "# import statsmodels.discrete.discrete_model as sm\n",
    "import statsmodels as stt\n",
    "import scipy.stats as sst\n",
    "import os.path as osp"
   ]
  },
  {
   "cell_type": "code",
   "execution_count": 2,
   "metadata": {},
   "outputs": [],
   "source": [
    "from statsmodels import api as sm\n",
    "import statsmodels.formula.api as smf\n",
    "import matplotlib.pyplot as plt\n",
    "import json\n",
    "%matplotlib inline"
   ]
  },
  {
   "cell_type": "markdown",
   "metadata": {},
   "source": [
    "### read the mapping file to find the correspondance between uberon numbers and labels"
   ]
  },
  {
   "cell_type": "code",
   "execution_count": 5,
   "metadata": {},
   "outputs": [],
   "source": [
    "# find mapping file\n",
    "mapping_file = '../segstats_jsonld/segstats_jsonld/mapping_data/freesurfermap.json'\n",
    "assert osp.exists(mapping_file)\n",
    "with open(mapping_file, \"r\") as read_file:\n",
    "    roi_map = json.load(read_file)"
   ]
  },
  {
   "cell_type": "code",
   "execution_count": 10,
   "metadata": {},
   "outputs": [
    {
     "name": "stdout",
     "output_type": "stream",
     "text": [
      "['Left-Lateral-Ventricle', 'Left-Inf-Lat-Vent', 'Left-Cerebellum-White-Matter', 'Left-Cerebellum-Cortex', 'Left-Thalamus-Proper', 'Left-Caudate', 'Left-Putamen', 'Left-Pallidum', '3rd-Ventricle', '4th-Ventricle']\n",
      "117\n"
     ]
    }
   ],
   "source": [
    "print(list(roi_map['Anatomy'].keys())[:10])\n",
    "print(len(roi_map['Anatomy'].keys()))"
   ]
  },
  {
   "cell_type": "code",
   "execution_count": 55,
   "metadata": {},
   "outputs": [
    {
     "name": "stdout",
     "output_type": "stream",
     "text": [
      "['Left-VentralDC', 'Right-VentralDC', 'WM-hypointensities', 'Left-WM-hypointensities', 'Right-WM-hypointensities', 'non-WM-hypointensities', 'Left-non-WM-hypointensities', 'Right-non-WM-hypointensities', 'Left-Cerebral-Exterior', 'Left-Cerebellum-Exterior', 'Left-Operculum', 'Right-Cerebral-Exterior', 'Right-Cerebellum-Exterior', 'Right-Operculum']\n"
     ]
    }
   ],
   "source": [
    "ube = {}\n",
    "has_no_isAbout = []\n",
    "for (k,v) in roi_map['Anatomy'].items():\n",
    "    if v['isAbout'] != '' or v['isAbout'] in ('None','none'):\n",
    "        if v['label'] != '' and v['label'] not in ('None','none'):\n",
    "            ube['<' + v['isAbout'] + '>'] = v['label']\n",
    "        else:\n",
    "            if '<' + v['isAbout'] + '>' not in ube.keys():\n",
    "                if v['hasLaterality'] in ('Right','Left'):\n",
    "                    ube['<' + v['isAbout'] + '>'] = 'strip-Right-Left-of-'+k\n",
    "                else:\n",
    "                    ube['<' + v['isAbout'] + '>'] = k\n",
    "    else:\n",
    "        #print(k, 'has no isAbout')\n",
    "        has_no_isAbout.append(k)\n",
    "print(has_no_isAbout)"
   ]
  },
  {
   "cell_type": "code",
   "execution_count": 56,
   "metadata": {},
   "outputs": [
    {
     "data": {
      "text/plain": [
       "[('<http://purl.obolibrary.org/obo/UBERON_0002285>', 'lateral ventricle'),\n",
       " ('<http://purl.obolibrary.org/obo/UBERON_0006091>',\n",
       "  'inferior horn of the lateral ventricle'),\n",
       " ('<http://purl.obolibrary.org/obo/UBERON_0002037>',\n",
       "  'cerebellum white matter'),\n",
       " ('<http://purl.obolibrary.org/obo/UBERON_0002129>', 'cerebellar cortex'),\n",
       " ('<http://purl.obolibrary.org/obo/UBERON_0001897>', 'thalamus')]"
      ]
     },
     "execution_count": 56,
     "metadata": {},
     "output_type": "execute_result"
    }
   ],
   "source": [
    "list(zip(list(ube)[:5],list(ube.values())[:5]))"
   ]
  },
  {
   "cell_type": "markdown",
   "metadata": {},
   "source": [
    "### Read CSV file "
   ]
  },
  {
   "cell_type": "code",
   "execution_count": 57,
   "metadata": {},
   "outputs": [
    {
     "name": "stdout",
     "output_type": "stream",
     "text": [
      "/home/jb/code/repronim/simple2/simple2_analysis\n"
     ]
    }
   ],
   "source": [
    "print(osp.realpath(osp.curdir))\n",
    "relative_path_filename = './data/blazegraph-query-all.csv'\n",
    "assert osp.exists(relative_path_filename)"
   ]
  },
  {
   "cell_type": "code",
   "execution_count": 58,
   "metadata": {},
   "outputs": [
    {
     "name": "stdout",
     "output_type": "stream",
     "text": [
      "['study', 'ID', 'Age', 'Gender', 'dx', 'fiq', 'piq', 'hand', 'latera', 'value', 'tool', 'structure']\n"
     ]
    }
   ],
   "source": [
    "hie = pd.read_csv(relative_path_filename, na_values='nd')\n",
    "original_col_names = list(hie)\n",
    "print(original_col_names)\n",
    "assert len(original_col_names) == len(set(original_col_names))"
   ]
  },
  {
   "cell_type": "code",
   "execution_count": 59,
   "metadata": {},
   "outputs": [
    {
     "name": "stdout",
     "output_type": "stream",
     "text": [
      "{'<http://purl.obolibrary.org/obo/UBERON_0001869>', '<http://purl.obolibrary.org/obo/UBERON_0002037>', '<http://purl.obolibrary.org/obo/UBERON_0006514>', '<http://purl.obolibrary.org/obo/UBERON_0000959>', '<http://purl.obolibrary.org/obo/UBERON_0006091>', '<http://purl.obolibrary.org/obo/UBERON_0001954>', '<http://purl.obolibrary.org/obo/UBERON_0001886>', '<http://purl.obolibrary.org/obo/UBERON_0002129>', '<http://purl.obolibrary.org/obo/UBERON_0002298>', '<http://purl.obolibrary.org/obo/UBERON_0014930>', '<http://purl.obolibrary.org/obo/UBERON_0001876>', '<http://purl.obolibrary.org/obo/UBERON_0002286>', '<http://purl.obolibrary.org/obo/UBERON_0001882>', '<http://purl.obolibrary.org/obo/UBERON_0001874>', '<http://purl.obolibrary.org/obo/UBERON_0002422>', '<http://purl.obolibrary.org/obo/UBERON_0009857>', '<http://purl.obolibrary.org/obo/UBERON_0002285>', '<http://purl.obolibrary.org/obo/UBERON_0001873>', '<http://purl.obolibrary.org/obo/UBERON_0001897>'}\n"
     ]
    }
   ],
   "source": [
    "structures = set(hie.structure)\n",
    "print(structures)"
   ]
  },
  {
   "cell_type": "code",
   "execution_count": 61,
   "metadata": {},
   "outputs": [
    {
     "name": "stdout",
     "output_type": "stream",
     "text": [
      "0 <http://purl.obolibrary.org/obo/UBERON_0001869> cerebrum lesion\n",
      "1 <http://purl.obolibrary.org/obo/UBERON_0002037> cerebellum white matter\n",
      "2 <http://purl.obolibrary.org/obo/UBERON_0006514> pallidum\n",
      "3 <http://purl.obolibrary.org/obo/UBERON_0000959> optic chiasm\n",
      "4 <http://purl.obolibrary.org/obo/UBERON_0006091> inferior horn of the lateral ventricle\n",
      "5 <http://purl.obolibrary.org/obo/UBERON_0001954> hippocampus\n",
      "6 <http://purl.obolibrary.org/obo/UBERON_0001886> choroid plexus\n",
      "7 <http://purl.obolibrary.org/obo/UBERON_0002129> cerebellar cortex\n",
      "8 <http://purl.obolibrary.org/obo/UBERON_0002298> brainstem\n",
      "9 <http://purl.obolibrary.org/obo/UBERON_0014930> perivascular space\n",
      "10 <http://purl.obolibrary.org/obo/UBERON_0001876> amygdala\n",
      "11 <http://purl.obolibrary.org/obo/UBERON_0002286> third ventricle\n",
      "12 <http://purl.obolibrary.org/obo/UBERON_0001882> nucleus accumbens\n",
      "13 <http://purl.obolibrary.org/obo/UBERON_0001874> putamen\n",
      "14 <http://purl.obolibrary.org/obo/UBERON_0002422> fourth ventricle\n",
      "15 <http://purl.obolibrary.org/obo/UBERON_0009857> cavum septum pellucidum\n",
      "16 <http://purl.obolibrary.org/obo/UBERON_0002285> lateral ventricle\n",
      "17 <http://purl.obolibrary.org/obo/UBERON_0001873> caudate nucleus\n",
      "18 <http://purl.obolibrary.org/obo/UBERON_0001897> thalamus\n"
     ]
    }
   ],
   "source": [
    "ube2h = {}\n",
    "\n",
    "for idx, s in enumerate(structures):\n",
    "    ube2h[s] = ube[s]\n",
    "    print(idx, s, ube[s])\n"
   ]
  },
  {
   "cell_type": "code",
   "execution_count": 62,
   "metadata": {},
   "outputs": [],
   "source": [
    "\"\"\"\n",
    "looking at the class name from the purl urls I got :\n",
    "\n",
    "u2human[list(u2human.keys())[0]] = 'cavum septum pellucidum'\n",
    "u2human[list(u2human.keys())[1]] = 'cerebellum'\n",
    "u2human[list(u2human.keys())[2]] = 'cerebellar cortex'\n",
    "u2human[list(u2human.keys())[3]] = 'perivascular space'\n",
    "u2human[list(u2human.keys())[4]] = \"Ammon's horn\"\n",
    "u2human[list(u2human.keys())[5]] = \"inferior horn of the lateral ventricle\"\n",
    "u2human[list(u2human.keys())[6]] = \"brainstem\"\n",
    "u2human[list(u2human.keys())[7]] = \"amygdala\"\n",
    "u2human[list(u2human.keys())[8]] = \"optic chiasma\"\n",
    "u2human[list(u2human.keys())[9]] = \"dorsal plus ventral thalamus\"\n",
    "u2human[list(u2human.keys())[10]] = \"cerebral hemisphere\"\n",
    "u2human[list(u2human.keys())[11]] = \"caudate nucleus\"\n",
    "u2human[list(u2human.keys())[12]] = \"telencephalic ventricle\"\n",
    "u2human[list(u2human.keys())[13]] = \"putamen\"\n",
    "u2human[list(u2human.keys())[14]] = \"third ventricle\"\n",
    "u2human[list(u2human.keys())[15]] = \"choroid plexus\"\n",
    "u2human[list(u2human.keys())[16]] = \"fourth ventricle\"\n",
    "u2human[list(u2human.keys())[17]] = \"pallidum\"\n",
    "u2human[list(u2human.keys())[18]] = \"nucleus accumbens\"\n",
    "\"\"\";"
   ]
  },
  {
   "cell_type": "code",
   "execution_count": 63,
   "metadata": {},
   "outputs": [
    {
     "data": {
      "text/plain": [
       "set()"
      ]
     },
     "execution_count": 63,
     "metadata": {},
     "output_type": "execute_result"
    }
   ],
   "source": [
    "set1 = {'<http://purl.obolibrary.org/obo/UBERON_0000959>', \n",
    "'<http://purl.obolibrary.org/obo/UBERON_0002422>', \n",
    "'<http://purl.obolibrary.org/obo/UBERON_0009857>', \n",
    "'<http://purl.obolibrary.org/obo/UBERON_0001869>', \n",
    "'<http://purl.obolibrary.org/obo/UBERON_0002129>', \n",
    "'<http://purl.obolibrary.org/obo/UBERON_0001882>', \n",
    "'<http://purl.obolibrary.org/obo/UBERON_0001886>', \n",
    "'<http://purl.obolibrary.org/obo/UBERON_0006091>', \n",
    "'<http://purl.obolibrary.org/obo/UBERON_0002286>', \n",
    "'<http://purl.obolibrary.org/obo/UBERON_0002298>', \n",
    "'<http://purl.obolibrary.org/obo/UBERON_0001897>', \n",
    "'<http://purl.obolibrary.org/obo/UBERON_0001954>', \n",
    "'<http://purl.obolibrary.org/obo/UBERON_0001873>', \n",
    "'<http://purl.obolibrary.org/obo/UBERON_0014930>', \n",
    "'<http://purl.obolibrary.org/obo/UBERON_0001874>', \n",
    "'<http://purl.obolibrary.org/obo/UBERON_0001876>', \n",
    "'<http://purl.obolibrary.org/obo/UBERON_0006514>', \n",
    "'<http://purl.obolibrary.org/obo/UBERON_0002037>', \n",
    "'<http://purl.obolibrary.org/obo/UBERON_0002285>'};\n",
    "set2 = set(ube2h.keys())\n",
    "set1.difference(set2)"
   ]
  },
  {
   "cell_type": "code",
   "execution_count": 64,
   "metadata": {},
   "outputs": [],
   "source": [
    "h2ube = {v: k for k, v in ube2h.items()}\n",
    "#print(h2uberon)"
   ]
  },
  {
   "cell_type": "code",
   "execution_count": 65,
   "metadata": {},
   "outputs": [
    {
     "name": "stdout",
     "output_type": "stream",
     "text": [
      "{'surfer': '<https://surfer.nmr.mgh.harvard.edu/>', 'fsl': '<http://purl.org/nidash/fsl#>'}\n"
     ]
    }
   ],
   "source": [
    "# print(set(hie['tool']))\n",
    "tooldic = {'surfer':'<https://surfer.nmr.mgh.harvard.edu/>', \n",
    "           'fsl':'<http://purl.org/nidash/fsl#>'}\n",
    "print(tooldic)"
   ]
  },
  {
   "cell_type": "code",
   "execution_count": 66,
   "metadata": {
    "scrolled": true
   },
   "outputs": [
    {
     "data": {
      "text/html": [
       "<div>\n",
       "<style scoped>\n",
       "    .dataframe tbody tr th:only-of-type {\n",
       "        vertical-align: middle;\n",
       "    }\n",
       "\n",
       "    .dataframe tbody tr th {\n",
       "        vertical-align: top;\n",
       "    }\n",
       "\n",
       "    .dataframe thead th {\n",
       "        text-align: right;\n",
       "    }\n",
       "</style>\n",
       "<table border=\"1\" class=\"dataframe\">\n",
       "  <thead>\n",
       "    <tr style=\"text-align: right;\">\n",
       "      <th></th>\n",
       "      <th>study</th>\n",
       "      <th>ID</th>\n",
       "      <th>Age</th>\n",
       "      <th>Gender</th>\n",
       "      <th>dx</th>\n",
       "      <th>fiq</th>\n",
       "      <th>piq</th>\n",
       "      <th>hand</th>\n",
       "      <th>latera</th>\n",
       "      <th>value</th>\n",
       "      <th>tool</th>\n",
       "      <th>structure</th>\n",
       "    </tr>\n",
       "  </thead>\n",
       "  <tbody>\n",
       "    <tr>\n",
       "      <th>0</th>\n",
       "      <td>ABIDE Stanford Site</td>\n",
       "      <td>51169</td>\n",
       "      <td>9.7775</td>\n",
       "      <td>1</td>\n",
       "      <td>1</td>\n",
       "      <td>127.0</td>\n",
       "      <td>117.0</td>\n",
       "      <td>L</td>\n",
       "      <td>Left</td>\n",
       "      <td>8078.440</td>\n",
       "      <td>&lt;http://purl.org/nidash/fsl#&gt;</td>\n",
       "      <td>&lt;http://purl.obolibrary.org/obo/UBERON_0001897&gt;</td>\n",
       "    </tr>\n",
       "    <tr>\n",
       "      <th>1</th>\n",
       "      <td>ABIDE Stanford Site</td>\n",
       "      <td>51169</td>\n",
       "      <td>9.7775</td>\n",
       "      <td>1</td>\n",
       "      <td>1</td>\n",
       "      <td>127.0</td>\n",
       "      <td>117.0</td>\n",
       "      <td>L</td>\n",
       "      <td>Left</td>\n",
       "      <td>3602.727</td>\n",
       "      <td>&lt;http://purl.org/nidash/fsl#&gt;</td>\n",
       "      <td>&lt;http://purl.obolibrary.org/obo/UBERON_0001873&gt;</td>\n",
       "    </tr>\n",
       "    <tr>\n",
       "      <th>2</th>\n",
       "      <td>ABIDE Stanford Site</td>\n",
       "      <td>51169</td>\n",
       "      <td>9.7775</td>\n",
       "      <td>1</td>\n",
       "      <td>1</td>\n",
       "      <td>127.0</td>\n",
       "      <td>117.0</td>\n",
       "      <td>L</td>\n",
       "      <td>Left</td>\n",
       "      <td>5410.738</td>\n",
       "      <td>&lt;http://purl.org/nidash/fsl#&gt;</td>\n",
       "      <td>&lt;http://purl.obolibrary.org/obo/UBERON_0001874&gt;</td>\n",
       "    </tr>\n",
       "  </tbody>\n",
       "</table>\n",
       "</div>"
      ],
      "text/plain": [
       "                 study     ID     Age Gender dx    fiq    piq hand latera  \\\n",
       "0  ABIDE Stanford Site  51169  9.7775      1  1  127.0  117.0    L   Left   \n",
       "1  ABIDE Stanford Site  51169  9.7775      1  1  127.0  117.0    L   Left   \n",
       "2  ABIDE Stanford Site  51169  9.7775      1  1  127.0  117.0    L   Left   \n",
       "\n",
       "      value                           tool  \\\n",
       "0  8078.440  <http://purl.org/nidash/fsl#>   \n",
       "1  3602.727  <http://purl.org/nidash/fsl#>   \n",
       "2  5410.738  <http://purl.org/nidash/fsl#>   \n",
       "\n",
       "                                         structure  \n",
       "0  <http://purl.obolibrary.org/obo/UBERON_0001897>  \n",
       "1  <http://purl.obolibrary.org/obo/UBERON_0001873>  \n",
       "2  <http://purl.obolibrary.org/obo/UBERON_0001874>  "
      ]
     },
     "execution_count": 66,
     "metadata": {},
     "output_type": "execute_result"
    }
   ],
   "source": [
    "hie.head(3)"
   ]
  },
  {
   "cell_type": "markdown",
   "metadata": {},
   "source": [
    "## hypotheses"
   ]
  },
  {
   "cell_type": "markdown",
   "metadata": {},
   "source": [
    "Hypotheses\n",
    "\n",
    "PIET-1: Total Brain Volume will positively correlate with IQ (in both sexes across the complete age range).\n",
    "\n",
    "MAC-1: Left striatum volume (caudate + putamen) will positively correlate with IQ in the total (male + female) child (age < 20) group.\n",
    "\n",
    "MAC-2: Left striatum volume (caudate + putamen) will positively correlate with IQ in the male children group.\n",
    "\n",
    "MAC-3: Left striatum volume (caudate + putamen) will not correlate with IQ in the female children group.\n",
    "\n",
    "MAC-3: Left striatum volume (caudate + putamen) will not correlate with IQ in the female children group.\n",
    "\n",
    "GANJ-1: Total Corpus Callosum midsagittal area, after correcting for total brain volume, will negatively correlate with IQ.\n",
    "\n",
    "GANJ-2: Total Corpus Callosum midsagittal area, after correcting for total brain volume, will negatively correlate with IQ in the young (age < 12) group.\n",
    "\n",
    "GANJ-3: Total Corpus Callosum midsagittal area, after correcting for total brain volume, will not significantly correlate with IQ in the adolescent (age > 12) group.\n",
    "\n",
    "GANJ-4:. Total Corpus Callosum midsagittal area, after correcting for total brain volume, will negatively correlate with IQ in the male (age < 12) group.\n",
    "\n",
    "GANJ-5: Total Corpus Callosum midsagittal area, after correcting for total brain volume, will not significantly correlate with IQ in the female (age < 12) group.\n"
   ]
  },
  {
   "cell_type": "code",
   "execution_count": null,
   "metadata": {},
   "outputs": [],
   "source": []
  },
  {
   "cell_type": "markdown",
   "metadata": {},
   "source": [
    "## Analyses"
   ]
  },
  {
   "cell_type": "markdown",
   "metadata": {},
   "source": [
    "### sandbox"
   ]
  },
  {
   "cell_type": "code",
   "execution_count": 67,
   "metadata": {},
   "outputs": [
    {
     "name": "stdout",
     "output_type": "stream",
     "text": [
      "<http://purl.obolibrary.org/obo/UBERON_0001873>\n"
     ]
    }
   ],
   "source": [
    "u_caudate = h2ube['caudate nucleus']\n",
    "print(u_caudate)"
   ]
  },
  {
   "cell_type": "code",
   "execution_count": 68,
   "metadata": {},
   "outputs": [],
   "source": [
    "# df.loc[(df['column_name'] >= A) & (df['column_name'] <= B)]\n",
    "\n",
    "# tmp = hie[hie.structure==u_caudate][hie.Gender=='1']\n",
    "# tmp = hie.loc[(hie['Gender']=='1')] # & (hie['Gender']=='Male')]\n",
    "\n",
    "# Male or '1' for caudate\n",
    "tmp = hie.loc[((hie['Gender']=='1') | (hie['Gender']=='Male')) \n",
    "                               & (hie['structure'] == u_caudate ) \n",
    "                               & (hie['tool']==tooldic['surfer'])]\n"
   ]
  },
  {
   "cell_type": "code",
   "execution_count": 69,
   "metadata": {},
   "outputs": [
    {
     "name": "stdout",
     "output_type": "stream",
     "text": [
      "{'<https://surfer.nmr.mgh.harvard.edu/>', '<http://purl.org/nidash/fsl#>'}\n",
      "{nan, '0.2', '0.36', 'L->R', '0.44', '0.22', '1', '0.73', '0.82', '0.91', '0.55', '0.18', '0.5', '0.61', '-9999', 'L', 'Left', '0.15', 'Ambi', '0.53', '0.48', 'Mixed', '0.68', '0.75', '-0.31', '0.81', 'R', '0.69', '0.33', '-0.61', '0.72', 'Right', '0.28'}\n",
      "{'None', 'Left', 'Right'}\n"
     ]
    }
   ],
   "source": [
    "print(set(hie['tool']))\n",
    "#print(tooldic['fsl'])\n",
    "#print(len(hie),len(tmp))\n",
    "print(set(hie['hand']))\n",
    "#print(set(hie['tool']))\n",
    "#print(set(hie['Gender']))\n",
    "#print(set(hie['dx']))\n",
    "print(set(hie['latera']))\n"
   ]
  },
  {
   "cell_type": "code",
   "execution_count": 70,
   "metadata": {},
   "outputs": [
    {
     "data": {
      "text/plain": [
       "{'cerebrum lesion': '<http://purl.obolibrary.org/obo/UBERON_0001869>',\n",
       " 'cerebellum white matter': '<http://purl.obolibrary.org/obo/UBERON_0002037>',\n",
       " 'pallidum': '<http://purl.obolibrary.org/obo/UBERON_0006514>',\n",
       " 'optic chiasm': '<http://purl.obolibrary.org/obo/UBERON_0000959>',\n",
       " 'inferior horn of the lateral ventricle': '<http://purl.obolibrary.org/obo/UBERON_0006091>',\n",
       " 'hippocampus': '<http://purl.obolibrary.org/obo/UBERON_0001954>',\n",
       " 'choroid plexus': '<http://purl.obolibrary.org/obo/UBERON_0001886>',\n",
       " 'cerebellar cortex': '<http://purl.obolibrary.org/obo/UBERON_0002129>',\n",
       " 'brainstem': '<http://purl.obolibrary.org/obo/UBERON_0002298>',\n",
       " 'perivascular space': '<http://purl.obolibrary.org/obo/UBERON_0014930>',\n",
       " 'amygdala': '<http://purl.obolibrary.org/obo/UBERON_0001876>',\n",
       " 'third ventricle': '<http://purl.obolibrary.org/obo/UBERON_0002286>',\n",
       " 'nucleus accumbens': '<http://purl.obolibrary.org/obo/UBERON_0001882>',\n",
       " 'putamen': '<http://purl.obolibrary.org/obo/UBERON_0001874>',\n",
       " 'fourth ventricle': '<http://purl.obolibrary.org/obo/UBERON_0002422>',\n",
       " 'cavum septum pellucidum': '<http://purl.obolibrary.org/obo/UBERON_0009857>',\n",
       " 'lateral ventricle': '<http://purl.obolibrary.org/obo/UBERON_0002285>',\n",
       " 'caudate nucleus': '<http://purl.obolibrary.org/obo/UBERON_0001873>',\n",
       " 'thalamus': '<http://purl.obolibrary.org/obo/UBERON_0001897>'}"
      ]
     },
     "execution_count": 70,
     "metadata": {},
     "output_type": "execute_result"
    }
   ],
   "source": [
    "h2ube"
   ]
  },
  {
   "cell_type": "markdown",
   "metadata": {},
   "source": [
    "### PIET-1: Total Brain Volume will positively correlate with IQ (in both sexes across the complete age range).\n"
   ]
  },
  {
   "cell_type": "code",
   "execution_count": 71,
   "metadata": {},
   "outputs": [
    {
     "name": "stdout",
     "output_type": "stream",
     "text": [
      "58055 2370\n"
     ]
    }
   ],
   "source": [
    "roi = 'cerebellar cortex'\n",
    "# roi = 'cerebellar cortex'\n",
    "tool = 'surfer'\n",
    "#tool = 'fsl'\n",
    "\n",
    "tmp = hie[['study','ID','Gender','structure','tool','value','piq','fiq']]\n",
    "# tmp = tmp.loc[((hie['Gender']=='1') | (hie['Gender']=='Male')) \n",
    "\n",
    "# hand_cond = ((hie['hand'] == 'L')|(hie['hand'] == 'Left')|(hie['latera'] == 'Left'))\n",
    "age_cond = (hie['Age'] <= 20)\n",
    "roi_cond = (hie['structure'] == h2ube[roi])\n",
    "tool_cond = (hie['tool']==tooldic[tool])\n",
    "\n",
    "condition = roi_cond & tool_cond # & age_cond \n",
    "\n",
    "tmp = tmp.loc[condition].drop_duplicates()\n",
    "\n",
    "print(len(hie),len(tmp))"
   ]
  },
  {
   "cell_type": "code",
   "execution_count": 72,
   "metadata": {},
   "outputs": [
    {
     "data": {
      "text/plain": [
       "['study', 'ID', 'Gender', 'structure', 'tool', 'value', 'piq', 'fiq']"
      ]
     },
     "execution_count": 72,
     "metadata": {},
     "output_type": "execute_result"
    }
   ],
   "source": [
    "list(tmp)"
   ]
  },
  {
   "cell_type": "code",
   "execution_count": 74,
   "metadata": {},
   "outputs": [
    {
     "name": "stdout",
     "output_type": "stream",
     "text": [
      " Structure =  cerebellar cortex\n",
      "                            OLS Regression Results                            \n",
      "==============================================================================\n",
      "Dep. Variable:                    fiq   R-squared:                       0.587\n",
      "Model:                            OLS   Adj. R-squared:                  0.582\n",
      "Method:                 Least Squares   F-statistic:                     124.0\n",
      "Date:                Sun, 29 Sep 2019   Prob (F-statistic):               0.00\n",
      "Time:                        15:21:58   Log-Likelihood:                -19437.\n",
      "No. Observations:                2300   AIC:                         3.893e+04\n",
      "Df Residuals:                    2273   BIC:                         3.908e+04\n",
      "Df Model:                          26                                         \n",
      "Covariance Type:            nonrobust                                         \n",
      "================================================================================================\n",
      "                                   coef    std err          t      P>|t|      [0.025      0.975]\n",
      "------------------------------------------------------------------------------------------------\n",
      "Intercept                      710.5302    328.803      2.161      0.031      65.744    1355.316\n",
      "Gender[T.2]                    -84.6102     75.484     -1.121      0.262    -232.635      63.415\n",
      "Gender[T.Female]               -63.7296    120.431     -0.529      0.597    -299.897     172.437\n",
      "Gender[T.Male]                  -6.4396     94.301     -0.068      0.946    -191.365     178.486\n",
      "study[T.ABIDE CMU_b Site]       -7.0123    311.221     -0.023      0.982    -617.320     603.295\n",
      "study[T.ABIDE Caltech Site]   -308.1109    252.759     -1.219      0.223    -803.774     187.552\n",
      "study[T.ABIDE KKI Site]        -48.3904    242.300     -0.200      0.842    -523.542     426.762\n",
      "study[T.ABIDE Leuven_1 Site]   -72.4268    266.879     -0.271      0.786    -595.779     450.926\n",
      "study[T.ABIDE Leuven_2 Site]  1.421e-12   2.63e-12      0.541      0.589   -3.73e-12    6.58e-12\n",
      "study[T.ABIDE MaxMun_a Site]   -55.7025    288.948     -0.193      0.847    -622.332     510.927\n",
      "study[T.ABIDE MaxMun_b Site]   -67.7009    457.992     -0.148      0.882    -965.827     830.425\n",
      "study[T.ABIDE MaxMun_c Site]   -31.9339    294.995     -0.108      0.914    -610.422     546.554\n",
      "study[T.ABIDE MaxMun_d Site] -1483.6840    304.632     -4.870      0.000   -2081.070    -886.298\n",
      "study[T.ABIDE NYU Site]        -77.0485    226.109     -0.341      0.733    -520.450     366.353\n",
      "study[T.ABIDE OHSU Site]      -766.1189    264.165     -2.900      0.004   -1284.148    -248.089\n",
      "study[T.ABIDE Olin Site]      -642.0584    256.183     -2.506      0.012   -1144.436    -139.681\n",
      "study[T.ABIDE Pitt Site]       -18.8692    240.781     -0.078      0.938    -491.042     453.304\n",
      "study[T.ABIDE SBL Site]      -8489.7801    261.900    -32.416      0.000   -9003.367   -7976.193\n",
      "study[T.ABIDE SDSU Site]       -46.0188    256.752     -0.179      0.858    -549.512     457.474\n",
      "study[T.ABIDE Stanford Site]   -75.1689    259.581     -0.290      0.772    -584.210     433.872\n",
      "study[T.ABIDE Trinity Site]    -33.5662    244.367     -0.137      0.891    -512.772     445.640\n",
      "study[T.ABIDE UCLA_1 Site]     -81.2396    237.141     -0.343      0.732    -546.276     383.796\n",
      "study[T.ABIDE UCLA_2 Site]     -65.3154    267.950     -0.244      0.807    -590.768     460.137\n",
      "study[T.ABIDE UM_1 Site]      -477.1366    232.886     -2.049      0.041    -933.829     -20.445\n",
      "study[T.ABIDE UM_2 Site]       -69.0828    257.328     -0.268      0.788    -573.704     435.539\n",
      "study[T.ABIDE USM Site]        -63.0759    833.605     -0.076      0.940   -1697.781    1571.630\n",
      "study[T.ABIDE Yale Site]       -61.0442    242.395     -0.252      0.801    -536.384     414.295\n",
      "study[T.ADHD200]               -70.1692    154.328     -0.455      0.649    -372.807     232.468\n",
      "Q('value')                      -0.0089      0.004     -2.397      0.017      -0.016      -0.002\n",
      "==============================================================================\n",
      "Omnibus:                     2103.570   Durbin-Watson:                   1.960\n",
      "Prob(Omnibus):                  0.000   Jarque-Bera (JB):           312846.351\n",
      "Skew:                          -3.773   Prob(JB):                         0.00\n",
      "Kurtosis:                      59.635   Cond. No.                     1.01e+16\n",
      "==============================================================================\n",
      "\n",
      "Warnings:\n",
      "[1] Standard Errors assume that the covariance matrix of the errors is correctly specified.\n",
      "[2] The smallest eigenvalue is 7.9e-20. This might indicate that there are\n",
      "strong multicollinearity problems or that the design matrix is singular.\n"
     ]
    }
   ],
   "source": [
    "print(\" Structure = \", roi)\n",
    "assert ube2h[tmp.iloc[0]['structure']] == roi\n",
    "\n",
    "iq = 'fiq'\n",
    "\n",
    "md = smf.ols(iq + \" ~ Q('value') + Gender + study \", data=tmp) # + study \n",
    "mdf = md.fit()\n",
    "print(mdf.summary())\n"
   ]
  },
  {
   "cell_type": "markdown",
   "metadata": {},
   "source": [
    "### conclusion : based on the wrong structure ...\n",
    "1. no significance for piq for what seems to be the closest region:\n",
    "Q('value')                      -0.0410      0.032     -1.286      0.199    \n",
    "1. negatively correlated for fiq for what seems to be the closest region:\n",
    "Q('value')                      -0.1232      0.032     -3.881      0.000      "
   ]
  },
  {
   "cell_type": "markdown",
   "metadata": {},
   "source": [
    "### MAC-1: Left striatum volume (caudate + putamen) will positively correlate with IQ in the total (male + female) child (age < 20) group.\n"
   ]
  },
  {
   "cell_type": "code",
   "execution_count": null,
   "metadata": {},
   "outputs": [],
   "source": [
    "roi1 = 'caudate nucleus'\n",
    "roi2 = 'putamen'\n",
    "# roi = 'cerebellar cortex'\n",
    "tool = 'surfer'\n",
    "# tool = 'fsl'\n",
    "\n",
    "tmp = hie[['study','ID','Gender','structure','tool','value', 'fiq', 'piq', 'latera']]\n",
    "# condition1 = ((hie['Gender']=='1') | (hie['Gender']=='Male')) & \n",
    "\n",
    "hand_cond = ((hie['hand'] == 'L') | (hie['hand'] == 'Left')) # | (hie['latera'] == 'Left'))\n",
    "age_cond = (hie['Age'] <= 20)\n",
    "roi1_cond = (hie['structure'] == h2uberon[roi1])\n",
    "roi2_cond = (hie['structure'] == h2uberon[roi2])\n",
    "tool_cond = (hie['tool']==tooldic[tool])\n",
    "\n",
    "condition1 = roi1_cond & tool_cond & age_cond & hand_cond  \n",
    "condition2 = roi2_cond & tool_cond & age_cond & hand_cond\n",
    "\n",
    "tmp1 = tmp.loc[condition1].drop_duplicates()\n",
    "tmp2 = tmp.loc[condition2].drop_duplicates()\n",
    "\n",
    "#tmp1 = tmp1.set_index('ID')\n",
    "#tmp2 = tmp2.set_index('ID')\n",
    "\n",
    "print(len(hie))\n",
    "print('caudate: tmp1', len(tmp1), len(tmp1.drop_duplicates()))\n",
    "print('putamen: tmp2', len(tmp2), len(tmp2.drop_duplicates()))"
   ]
  },
  {
   "cell_type": "code",
   "execution_count": null,
   "metadata": {},
   "outputs": [],
   "source": [
    "list(tmp2)"
   ]
  },
  {
   "cell_type": "code",
   "execution_count": null,
   "metadata": {},
   "outputs": [],
   "source": [
    "import numbers\n",
    "import decimal\n",
    "hand_nb = [v for v in hie['hand'] if isinstance(v, numbers.Number)]\n",
    "len(hand_nb)"
   ]
  },
  {
   "cell_type": "code",
   "execution_count": null,
   "metadata": {},
   "outputs": [],
   "source": [
    "ax = plt.hist(tmp1['value'])"
   ]
  },
  {
   "cell_type": "code",
   "execution_count": null,
   "metadata": {},
   "outputs": [],
   "source": [
    "ax = plt.hist(tmp2['value'])"
   ]
  },
  {
   "cell_type": "code",
   "execution_count": null,
   "metadata": {},
   "outputs": [],
   "source": [
    "# tmp2.head(2)"
   ]
  },
  {
   "cell_type": "code",
   "execution_count": null,
   "metadata": {},
   "outputs": [],
   "source": [
    "tmp1.head(5)"
   ]
  },
  {
   "cell_type": "code",
   "execution_count": null,
   "metadata": {},
   "outputs": [],
   "source": [
    "# hie.loc[(hie['ID']==21002) & (hie['structure']==h2uberon[roi1]) & (hie['tool']==tooldic['surfer'])]"
   ]
  },
  {
   "cell_type": "markdown",
   "metadata": {},
   "source": [
    "#### try to add values of the same index"
   ]
  },
  {
   "cell_type": "code",
   "execution_count": null,
   "metadata": {},
   "outputs": [],
   "source": [
    "datadf = tmp1[tmp1['latera'] == 'Left' ]\n",
    "datadf.set_index('ID', inplace=True)\n",
    "len(datadf)\n",
    "datadf.head(3)\n",
    "datadf_right = tmp1[tmp1['latera'] == 'Right' ]\n",
    "datadf['value_right'] = datadf_right['value']"
   ]
  },
  {
   "cell_type": "code",
   "execution_count": null,
   "metadata": {},
   "outputs": [],
   "source": [
    "tmp_1 = tmp1.groupby(['ID']).mean().dropna()\n",
    "tmp_2 = tmp2.groupby(['ID']).mean().dropna()\n",
    "print(len(tmp_2), len(tmp_1))\n",
    "assert np.all(tmp_1.index == tmp_2.index)"
   ]
  },
  {
   "cell_type": "code",
   "execution_count": null,
   "metadata": {},
   "outputs": [],
   "source": [
    "tmp_2.head()"
   ]
  },
  {
   "cell_type": "code",
   "execution_count": null,
   "metadata": {},
   "outputs": [],
   "source": [
    "\"\"\" print(type(tmp_2))\n",
    "print(list(tmp_2))\n",
    "print(tmp_2['value'][:5])\n",
    "print(tmp_1['value'][:5]) \n",
    "\n",
    "list(tmp_2)\n",
    "len(set(tmp_2.index))\n",
    "\n",
    "\n",
    "lists_index = [set(tmp1['ID']),  set(tmp2['ID'])]\n",
    "len( set.intersection(*lists_index))\n",
    "\"\"\";"
   ]
  },
  {
   "cell_type": "code",
   "execution_count": null,
   "metadata": {},
   "outputs": [],
   "source": [
    "datadf1 = tmp1.set_index('ID')\n",
    "datadf2 = tmp2.set_index('ID')\n",
    "len(datadf1), len(datadf2)"
   ]
  },
  {
   "cell_type": "code",
   "execution_count": null,
   "metadata": {},
   "outputs": [],
   "source": [
    "datadf = pd.merge(left=tmp1,right=tmp2, left_on='ID', right_on='ID')"
   ]
  },
  {
   "cell_type": "code",
   "execution_count": null,
   "metadata": {},
   "outputs": [],
   "source": [
    "datadf.head()"
   ]
  },
  {
   "cell_type": "code",
   "execution_count": null,
   "metadata": {},
   "outputs": [],
   "source": [
    "\n",
    "datadf['cau_put'] = tmp_2.loc[:,'value'].add(tmp_1.loc[:,'value'])\n",
    "datadf[iq] = tmp_2[iq]\n",
    "datadf['study'] = tmp_2['study']\n",
    "datadf['Gender'] = tmp_2['Gender']\n",
    "\n",
    "print(list(datadf))"
   ]
  },
  {
   "cell_type": "code",
   "execution_count": null,
   "metadata": {},
   "outputs": [],
   "source": [
    "#datadf = datadf[datadf['cau_put'] < 15000]\n",
    "len(datadf)\n",
    "ax = plt.hist(datadf['cau_put'])"
   ]
  },
  {
   "cell_type": "code",
   "execution_count": null,
   "metadata": {},
   "outputs": [],
   "source": []
  },
  {
   "cell_type": "code",
   "execution_count": null,
   "metadata": {},
   "outputs": [],
   "source": [
    "iq = 'piq'\n",
    "\n",
    "md = smf.ols(iq + \" ~ Q('cau_put') + study + Gender\", data=datadf)\n",
    "mdf = md.fit()\n",
    "print(mdf.summary())\n"
   ]
  },
  {
   "cell_type": "markdown",
   "metadata": {},
   "source": [
    "### Conclusion\n",
    "\n",
    "1. does not seem to replicate with fiq (only 58 values ?)\n",
    "2. does not seem to replicate with piq\n"
   ]
  },
  {
   "cell_type": "markdown",
   "metadata": {},
   "source": [
    "### MAC-2: Left striatum volume (caudate + putamen) will positively correlate with IQ in the male children group.\n"
   ]
  },
  {
   "cell_type": "code",
   "execution_count": null,
   "metadata": {},
   "outputs": [],
   "source": [
    "#merged_inner = pd.merge(left=tmp_1, right=tmp_2) #, left_on='ID', right_on='ID') #how='join', "
   ]
  },
  {
   "cell_type": "code",
   "execution_count": null,
   "metadata": {},
   "outputs": [],
   "source": [
    "roi1 = 'caudate nucleus'\n",
    "roi2 = 'putamen'\n",
    "# roi = 'cerebellar cortex'\n",
    "tool = 'surfer'\n",
    "# tool = 'fsl'\n",
    "\n",
    "# tmp = hie[['ID','Gender','structure','tool','value','fiq']]\n",
    "# condition1 = ((hie['Gender']=='1') | (hie['Gender']=='Male')) & \n",
    "\n",
    "condition1 = (hie['structure'] == h2uberon[roi1]) & (hie['tool']==tooldic[tool]) \\\n",
    "             & (hie['Age'] < 20) \\\n",
    "             & ((hie['Gender']=='1') | (hie['Gender']=='Male'))\n",
    "condition2 = (hie['structure'] == h2uberon[roi2]) & (hie['tool']==tooldic[tool]) \\\n",
    "             & (hie['Age'] < 20) \\\n",
    "             & ((hie['Gender']=='1') | (hie['Gender']=='Male'))\n",
    "\n",
    "    \n",
    "tmp1 = tmp.loc[condition1].drop_duplicates()\n",
    "tmp2 = tmp.loc[condition2].drop_duplicates()\n",
    "#tmp1 = tmp1.set_index('ID')\n",
    "#tmp2 = tmp2.set_index('ID')\n"
   ]
  },
  {
   "cell_type": "code",
   "execution_count": null,
   "metadata": {},
   "outputs": [],
   "source": [
    "print(len(hie),len(tmp1),len(tmp2))\n",
    "print(len(tmp1.drop_duplicates()),len(tmp2.drop_duplicates()))"
   ]
  },
  {
   "cell_type": "code",
   "execution_count": null,
   "metadata": {},
   "outputs": [],
   "source": [
    "tmp_1 = tmp1.groupby(['ID']).mean().dropna()\n",
    "tmp_2 = tmp2.groupby(['ID']).mean().dropna()\n",
    "print(len(tmp_2), len(tmp_1))\n",
    "assert np.all(tmp_1.index == tmp_2.index)"
   ]
  },
  {
   "cell_type": "code",
   "execution_count": null,
   "metadata": {},
   "outputs": [],
   "source": [
    "datadf = tmp_2\n",
    "datadf['cau_put'] = tmp_2.loc[:,'value'].add(tmp_1.loc[:,'value'])\n",
    "datadf['fiq'] = tmp_2['fiq']\n",
    "print(list(datadf))"
   ]
  },
  {
   "cell_type": "code",
   "execution_count": null,
   "metadata": {},
   "outputs": [],
   "source": [
    "print(len(datadf))\n",
    "# ax = plt.hist(datadf['cau_put'])"
   ]
  },
  {
   "cell_type": "code",
   "execution_count": null,
   "metadata": {},
   "outputs": [],
   "source": [
    "\n",
    "md = smf.ols(\"fiq ~ Q('cau_put')\", data=datadf)\n",
    "mdf = md.fit()\n",
    "print(mdf.summary())\n"
   ]
  },
  {
   "cell_type": "markdown",
   "metadata": {},
   "source": [
    "### "
   ]
  },
  {
   "cell_type": "code",
   "execution_count": null,
   "metadata": {},
   "outputs": [],
   "source": [
    "#tmp = hie.loc[ (hie['structure']==h2uberon[roi]) & (hie['tool']==tooldic['surfer'])]\n",
    "#tmp.head(3)"
   ]
  },
  {
   "cell_type": "code",
   "execution_count": null,
   "metadata": {},
   "outputs": [],
   "source": [
    "#tmp_ = tmp1.groupby(['ID']).min()\n",
    "#tmp_.head(3)"
   ]
  },
  {
   "cell_type": "code",
   "execution_count": null,
   "metadata": {},
   "outputs": [],
   "source": []
  },
  {
   "cell_type": "code",
   "execution_count": null,
   "metadata": {},
   "outputs": [],
   "source": []
  },
  {
   "cell_type": "code",
   "execution_count": null,
   "metadata": {},
   "outputs": [],
   "source": [
    "# horizontal_stack = pd.concat([tmp1, tmp2], axis=1)\n",
    "merged_inner = pd.merge(left=tmp1, right=tmp2, left_on='ID', right_on='ID') #how='join', "
   ]
  },
  {
   "cell_type": "code",
   "execution_count": null,
   "metadata": {},
   "outputs": [],
   "source": [
    "len(merged_inner.drop_duplicates())"
   ]
  },
  {
   "cell_type": "code",
   "execution_count": null,
   "metadata": {},
   "outputs": [],
   "source": [
    "merged_inner.head(4)"
   ]
  },
  {
   "cell_type": "code",
   "execution_count": null,
   "metadata": {},
   "outputs": [],
   "source": []
  },
  {
   "cell_type": "code",
   "execution_count": null,
   "metadata": {},
   "outputs": [],
   "source": []
  },
  {
   "cell_type": "code",
   "execution_count": null,
   "metadata": {},
   "outputs": [],
   "source": [
    "md = smf.ols(\"FIQ ~ Q('striatal volume')\", data=data2)\n",
    "mdf = md.fit()\n",
    "print(mdf.summary())\n",
    "print(pearsonr(data2['FIQ'], data2['striatal volume']))"
   ]
  },
  {
   "cell_type": "code",
   "execution_count": null,
   "metadata": {},
   "outputs": [],
   "source": [
    "print(tmp.loc[(tmp['ID']==3559087)])"
   ]
  },
  {
   "cell_type": "code",
   "execution_count": null,
   "metadata": {},
   "outputs": [],
   "source": [
    "hie.iloc[1578]"
   ]
  },
  {
   "cell_type": "code",
   "execution_count": null,
   "metadata": {},
   "outputs": [],
   "source": [
    "hie.iloc[1577]"
   ]
  },
  {
   "cell_type": "code",
   "execution_count": null,
   "metadata": {},
   "outputs": [],
   "source": []
  },
  {
   "cell_type": "code",
   "execution_count": null,
   "metadata": {},
   "outputs": [],
   "source": []
  },
  {
   "cell_type": "code",
   "execution_count": null,
   "metadata": {},
   "outputs": [],
   "source": []
  },
  {
   "cell_type": "code",
   "execution_count": null,
   "metadata": {},
   "outputs": [],
   "source": []
  },
  {
   "cell_type": "code",
   "execution_count": null,
   "metadata": {},
   "outputs": [],
   "source": []
  },
  {
   "cell_type": "code",
   "execution_count": null,
   "metadata": {},
   "outputs": [],
   "source": [
    "uberon = \"http://purl.obolibrary.org/obo/UBERON_0001897\"\n",
    "\n",
    "cmd = 'wget -O - ' + uberon\\\n",
    "                   + '  | grep -A 1 ' +  \"'\" + 'Class rdf:about='\\\n",
    "                   + '\"' + uberon + '\"' +  \"'\""
   ]
  },
  {
   "cell_type": "code",
   "execution_count": null,
   "metadata": {},
   "outputs": [],
   "source": []
  },
  {
   "cell_type": "code",
   "execution_count": null,
   "metadata": {},
   "outputs": [],
   "source": [
    "print(cmd.split())"
   ]
  },
  {
   "cell_type": "code",
   "execution_count": null,
   "metadata": {},
   "outputs": [],
   "source": [
    "import subprocess\n",
    "MyOut = subprocess.Popen(cmd.split(), \n",
    "            stdout=subprocess.PIPE, \n",
    "           stderr=subprocess.STDOUT, shell=True)\n",
    "stdout,stderr = MyOut.communicate()\n",
    "print(stdout)\n",
    "#print(stderr)"
   ]
  },
  {
   "cell_type": "code",
   "execution_count": null,
   "metadata": {},
   "outputs": [],
   "source": [
    "process = subprocess.run(cmd.split())"
   ]
  },
  {
   "cell_type": "code",
   "execution_count": null,
   "metadata": {},
   "outputs": [],
   "source": []
  },
  {
   "cell_type": "code",
   "execution_count": null,
   "metadata": {},
   "outputs": [],
   "source": []
  },
  {
   "cell_type": "code",
   "execution_count": null,
   "metadata": {},
   "outputs": [],
   "source": [
    "list(hie)"
   ]
  },
  {
   "cell_type": "code",
   "execution_count": null,
   "metadata": {},
   "outputs": [],
   "source": [
    "uberon= '<http://purl.obolibrary.org/obo/UBERON_0001897>'\n"
   ]
  },
  {
   "cell_type": "code",
   "execution_count": null,
   "metadata": {},
   "outputs": [],
   "source": [
    "len(tmp)"
   ]
  },
  {
   "cell_type": "code",
   "execution_count": null,
   "metadata": {},
   "outputs": [],
   "source": []
  },
  {
   "cell_type": "code",
   "execution_count": null,
   "metadata": {},
   "outputs": [],
   "source": []
  },
  {
   "cell_type": "code",
   "execution_count": null,
   "metadata": {},
   "outputs": [],
   "source": []
  },
  {
   "cell_type": "code",
   "execution_count": null,
   "metadata": {},
   "outputs": [],
   "source": []
  },
  {
   "cell_type": "code",
   "execution_count": null,
   "metadata": {},
   "outputs": [],
   "source": [
    "# Load in the dataset, appending 'nd' to the list of possible na_values\n",
    "hie = pd.read_csv(relative_path_filename, na_values='nd')\n",
    "original_col_names = list(hie)\n",
    "print(original_col_names[:10])\n",
    "\n",
    "# column names are unique\n",
    "assert len(original_col_names) == len(set(original_col_names))"
   ]
  },
  {
   "cell_type": "code",
   "execution_count": null,
   "metadata": {},
   "outputs": [],
   "source": []
  }
 ],
 "metadata": {
  "kernelspec": {
   "display_name": "Python 3",
   "language": "python",
   "name": "python3"
  },
  "language_info": {
   "codemirror_mode": {
    "name": "ipython",
    "version": 3
   },
   "file_extension": ".py",
   "mimetype": "text/x-python",
   "name": "python",
   "nbconvert_exporter": "python",
   "pygments_lexer": "ipython3",
   "version": "3.6.7"
  },
  "toc": {
   "nav_menu": {},
   "number_sections": true,
   "sideBar": true,
   "skip_h1_title": false,
   "toc_cell": false,
   "toc_position": {},
   "toc_section_display": "block",
   "toc_window_display": false
  }
 },
 "nbformat": 4,
 "nbformat_minor": 2
}
