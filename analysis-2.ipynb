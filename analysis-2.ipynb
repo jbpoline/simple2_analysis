{
 "cells": [
  {
   "cell_type": "markdown",
   "metadata": {},
   "source": [
    "# wrangling with the csv"
   ]
  },
  {
   "cell_type": "code",
   "execution_count": 1,
   "metadata": {},
   "outputs": [],
   "source": [
    "import pandas as pd\n",
    "import numpy as np\n",
    "# import statsmodels.discrete.discrete_model as sm\n",
    "import statsmodels as stt\n",
    "import scipy.stats as sst\n",
    "import os.path as osp"
   ]
  },
  {
   "cell_type": "code",
   "execution_count": 2,
   "metadata": {},
   "outputs": [],
   "source": [
    "from statsmodels import api as sm\n",
    "import statsmodels.formula.api as smf\n",
    "import matplotlib.pyplot as plt\n",
    "%matplotlib inline"
   ]
  },
  {
   "cell_type": "code",
   "execution_count": 3,
   "metadata": {},
   "outputs": [
    {
     "data": {
      "text/plain": [
       "'/home/jb/code/repronim/simple2/simple2_analysis'"
      ]
     },
     "execution_count": 3,
     "metadata": {},
     "output_type": "execute_result"
    }
   ],
   "source": [
    "pwd"
   ]
  },
  {
   "cell_type": "code",
   "execution_count": 4,
   "metadata": {},
   "outputs": [],
   "source": [
    "relative_path_filename = './data/blazegraph-query-all.csv'\n",
    "assert osp.exists(relative_path_filename)"
   ]
  },
  {
   "cell_type": "code",
   "execution_count": null,
   "metadata": {},
   "outputs": [],
   "source": []
  },
  {
   "cell_type": "code",
   "execution_count": 5,
   "metadata": {},
   "outputs": [
    {
     "name": "stdout",
     "output_type": "stream",
     "text": [
      "['study', 'ID', 'Age', 'Gender', 'diagnostic', 'fiq', 'piq', 'value', 'tool', 'structure']\n"
     ]
    }
   ],
   "source": [
    "hie = pd.read_csv(relative_path_filename, na_values='nd')\n",
    "original_col_names = list(hie)\n",
    "print(original_col_names)\n",
    "assert len(original_col_names) == len(set(original_col_names))"
   ]
  },
  {
   "cell_type": "code",
   "execution_count": 6,
   "metadata": {},
   "outputs": [],
   "source": [
    "structures = set(hie.structure)"
   ]
  },
  {
   "cell_type": "code",
   "execution_count": 7,
   "metadata": {},
   "outputs": [],
   "source": [
    "u2human = {}\n",
    "for idx, s in enumerate(structures):\n",
    "    u2human[s] = 'region-' + \"{0:02d}\".format(idx)"
   ]
  },
  {
   "cell_type": "code",
   "execution_count": 8,
   "metadata": {},
   "outputs": [
    {
     "data": {
      "text/plain": [
       "'region-01'"
      ]
     },
     "execution_count": 8,
     "metadata": {},
     "output_type": "execute_result"
    }
   ],
   "source": [
    "u2human[list(structures)[1]]"
   ]
  },
  {
   "cell_type": "code",
   "execution_count": 9,
   "metadata": {},
   "outputs": [
    {
     "data": {
      "text/plain": [
       "19"
      ]
     },
     "execution_count": 9,
     "metadata": {},
     "output_type": "execute_result"
    }
   ],
   "source": [
    "len(u2human.keys())"
   ]
  },
  {
   "cell_type": "code",
   "execution_count": 10,
   "metadata": {},
   "outputs": [],
   "source": [
    "u2human[list(u2human.keys())[0]] = 'cavum septum pellucidum'\n",
    "u2human[list(u2human.keys())[1]] = 'cerebellum'\n",
    "u2human[list(u2human.keys())[2]] = 'cerebellar cortex'\n",
    "u2human[list(u2human.keys())[3]] = 'perivascular space'\n",
    "u2human[list(u2human.keys())[4]] = \"Ammon's horn\"\n",
    "u2human[list(u2human.keys())[5]] = \"inferior horn of the lateral ventricle\"\n",
    "u2human[list(u2human.keys())[6]] = \"brainstem\"\n",
    "u2human[list(u2human.keys())[7]] = \"amygdala\"\n",
    "u2human[list(u2human.keys())[8]] = \"optic chiasma\"\n",
    "u2human[list(u2human.keys())[9]] = \"dorsal plus ventral thalamus\"\n",
    "u2human[list(u2human.keys())[10]] = \"cerebral hemisphere\"\n",
    "u2human[list(u2human.keys())[11]] = \"caudate nucleus\"\n",
    "u2human[list(u2human.keys())[12]] = \"telencephalic ventricle\"\n",
    "u2human[list(u2human.keys())[13]] = \"putamen\"\n",
    "u2human[list(u2human.keys())[14]] = \"third ventricle\"\n",
    "u2human[list(u2human.keys())[15]] = \"choroid plexus\"\n",
    "u2human[list(u2human.keys())[16]] = \"fourth ventricle\"\n",
    "u2human[list(u2human.keys())[17]] = \"pallidum\"\n",
    "u2human[list(u2human.keys())[18]] = \"nucleus accumbens\""
   ]
  },
  {
   "cell_type": "code",
   "execution_count": 11,
   "metadata": {},
   "outputs": [],
   "source": [
    "h2uberon = {v: k for k, v in u2human.items()}\n",
    "# print(h2uberon)"
   ]
  },
  {
   "cell_type": "code",
   "execution_count": 12,
   "metadata": {},
   "outputs": [
    {
     "name": "stdout",
     "output_type": "stream",
     "text": [
      "{'surfer': '<https://surfer.nmr.mgh.harvard.edu/>', 'fsl': '<http://purl.org/nidash/fsl#>'}\n"
     ]
    }
   ],
   "source": [
    "# print(set(hie['tool']))\n",
    "tooldic = {'surfer':'<https://surfer.nmr.mgh.harvard.edu/>', \n",
    "           'fsl':'<http://purl.org/nidash/fsl#>'}\n",
    "print(tooldic)"
   ]
  },
  {
   "cell_type": "code",
   "execution_count": 13,
   "metadata": {
    "scrolled": true
   },
   "outputs": [
    {
     "data": {
      "text/html": [
       "<div>\n",
       "<style scoped>\n",
       "    .dataframe tbody tr th:only-of-type {\n",
       "        vertical-align: middle;\n",
       "    }\n",
       "\n",
       "    .dataframe tbody tr th {\n",
       "        vertical-align: top;\n",
       "    }\n",
       "\n",
       "    .dataframe thead th {\n",
       "        text-align: right;\n",
       "    }\n",
       "</style>\n",
       "<table border=\"1\" class=\"dataframe\">\n",
       "  <thead>\n",
       "    <tr style=\"text-align: right;\">\n",
       "      <th></th>\n",
       "      <th>study</th>\n",
       "      <th>ID</th>\n",
       "      <th>Age</th>\n",
       "      <th>Gender</th>\n",
       "      <th>diagnostic</th>\n",
       "      <th>fiq</th>\n",
       "      <th>piq</th>\n",
       "      <th>value</th>\n",
       "      <th>tool</th>\n",
       "      <th>structure</th>\n",
       "    </tr>\n",
       "  </thead>\n",
       "  <tbody>\n",
       "    <tr>\n",
       "      <th>0</th>\n",
       "      <td>ABIDE NYU Site</td>\n",
       "      <td>50971</td>\n",
       "      <td>10.24</td>\n",
       "      <td>1</td>\n",
       "      <td>1</td>\n",
       "      <td>122.0</td>\n",
       "      <td>128.0</td>\n",
       "      <td>833.5</td>\n",
       "      <td>&lt;https://surfer.nmr.mgh.harvard.edu/&gt;</td>\n",
       "      <td>&lt;http://purl.obolibrary.org/obo/UBERON_0001882&gt;</td>\n",
       "    </tr>\n",
       "    <tr>\n",
       "      <th>1</th>\n",
       "      <td>ABIDE NYU Site</td>\n",
       "      <td>50971</td>\n",
       "      <td>10.24</td>\n",
       "      <td>1</td>\n",
       "      <td>1</td>\n",
       "      <td>122.0</td>\n",
       "      <td>128.0</td>\n",
       "      <td>1693.4</td>\n",
       "      <td>&lt;https://surfer.nmr.mgh.harvard.edu/&gt;</td>\n",
       "      <td>&lt;http://purl.obolibrary.org/obo/UBERON_0001876&gt;</td>\n",
       "    </tr>\n",
       "    <tr>\n",
       "      <th>2</th>\n",
       "      <td>ABIDE NYU Site</td>\n",
       "      <td>50971</td>\n",
       "      <td>10.24</td>\n",
       "      <td>1</td>\n",
       "      <td>1</td>\n",
       "      <td>122.0</td>\n",
       "      <td>128.0</td>\n",
       "      <td>4095.2</td>\n",
       "      <td>&lt;https://surfer.nmr.mgh.harvard.edu/&gt;</td>\n",
       "      <td>&lt;http://purl.obolibrary.org/obo/UBERON_0001873&gt;</td>\n",
       "    </tr>\n",
       "  </tbody>\n",
       "</table>\n",
       "</div>"
      ],
      "text/plain": [
       "            study     ID    Age Gender diagnostic    fiq    piq   value  \\\n",
       "0  ABIDE NYU Site  50971  10.24      1          1  122.0  128.0   833.5   \n",
       "1  ABIDE NYU Site  50971  10.24      1          1  122.0  128.0  1693.4   \n",
       "2  ABIDE NYU Site  50971  10.24      1          1  122.0  128.0  4095.2   \n",
       "\n",
       "                                    tool  \\\n",
       "0  <https://surfer.nmr.mgh.harvard.edu/>   \n",
       "1  <https://surfer.nmr.mgh.harvard.edu/>   \n",
       "2  <https://surfer.nmr.mgh.harvard.edu/>   \n",
       "\n",
       "                                         structure  \n",
       "0  <http://purl.obolibrary.org/obo/UBERON_0001882>  \n",
       "1  <http://purl.obolibrary.org/obo/UBERON_0001876>  \n",
       "2  <http://purl.obolibrary.org/obo/UBERON_0001873>  "
      ]
     },
     "execution_count": 13,
     "metadata": {},
     "output_type": "execute_result"
    }
   ],
   "source": [
    "hie.head(3)"
   ]
  },
  {
   "cell_type": "markdown",
   "metadata": {},
   "source": [
    "## hypotheses"
   ]
  },
  {
   "cell_type": "markdown",
   "metadata": {},
   "source": [
    "Hypotheses\n",
    "\n",
    "PIET-1: Total Brain Volume will positively correlate with IQ (in both sexes across the complete age range).\n",
    "\n",
    "MAC-1: Left striatum volume (caudate + putamen) will positively correlate with IQ in the total (male + female) child (age < 20) group.\n",
    "\n",
    "MAC-2: Left striatum volume (caudate + putamen) will positively correlate with IQ in the male children group.\n",
    "\n",
    "MAC-3: Left striatum volume (caudate + putamen) will not correlate with IQ in the female children group.\n",
    "\n",
    "MAC-3: Left striatum volume (caudate + putamen) will not correlate with IQ in the female children group.\n",
    "\n",
    "GANJ-1: Total Corpus Callosum midsagittal area, after correcting for total brain volume, will negatively correlate with IQ.\n",
    "\n",
    "GANJ-2: Total Corpus Callosum midsagittal area, after correcting for total brain volume, will negatively correlate with IQ in the young (age < 12) group.\n",
    "\n",
    "GANJ-3: Total Corpus Callosum midsagittal area, after correcting for total brain volume, will not significantly correlate with IQ in the adolescent (age > 12) group.\n",
    "\n",
    "GANJ-4:. Total Corpus Callosum midsagittal area, after correcting for total brain volume, will negatively correlate with IQ in the male (age < 12) group.\n",
    "\n",
    "GANJ-5: Total Corpus Callosum midsagittal area, after correcting for total brain volume, will not significantly correlate with IQ in the female (age < 12) group.\n"
   ]
  },
  {
   "cell_type": "code",
   "execution_count": null,
   "metadata": {},
   "outputs": [],
   "source": []
  },
  {
   "cell_type": "markdown",
   "metadata": {},
   "source": [
    "## Analyses"
   ]
  },
  {
   "cell_type": "markdown",
   "metadata": {},
   "source": [
    "### sandbox"
   ]
  },
  {
   "cell_type": "code",
   "execution_count": 14,
   "metadata": {},
   "outputs": [
    {
     "name": "stdout",
     "output_type": "stream",
     "text": [
      "<http://purl.obolibrary.org/obo/UBERON_0001873>\n"
     ]
    }
   ],
   "source": [
    "u_caudate = h2uberon['caudate nucleus']\n",
    "print(u_caudate)"
   ]
  },
  {
   "cell_type": "code",
   "execution_count": 15,
   "metadata": {},
   "outputs": [],
   "source": [
    "# df.loc[(df['column_name'] >= A) & (df['column_name'] <= B)]\n",
    "\n",
    "# tmp = hie[hie.structure==u_caudate][hie.Gender=='1']\n",
    "# tmp = hie.loc[(hie['Gender']=='1')] # & (hie['Gender']=='Male')]\n",
    "\n",
    "# Male or '1' for caudate\n",
    "tmp = hie.loc[((hie['Gender']=='1') | (hie['Gender']=='Male')) \n",
    "                               & (hie['structure'] == u_caudate ) \n",
    "                               & (hie['tool']==tooldic['surfer'])]\n"
   ]
  },
  {
   "cell_type": "code",
   "execution_count": 16,
   "metadata": {},
   "outputs": [
    {
     "name": "stdout",
     "output_type": "stream",
     "text": [
      "{'<https://surfer.nmr.mgh.harvard.edu/>', '<http://purl.org/nidash/fsl#>'}\n",
      "<http://purl.org/nidash/fsl#>\n",
      "58003 2107\n"
     ]
    }
   ],
   "source": [
    "print(set(hie['tool']))\n",
    "print(tooldic['fsl'])\n",
    "print(len(hie),len(tmp))\n"
   ]
  },
  {
   "cell_type": "markdown",
   "metadata": {},
   "source": [
    "### PIET-1: Total Brain Volume will positively correlate with IQ (in both sexes across the complete age range).\n"
   ]
  },
  {
   "cell_type": "code",
   "execution_count": 17,
   "metadata": {},
   "outputs": [
    {
     "name": "stdout",
     "output_type": "stream",
     "text": [
      "58003 1185\n"
     ]
    }
   ],
   "source": [
    "roi = 'cerebral hemisphere'\n",
    "# roi = 'cerebellar cortex'\n",
    "tool = 'surfer'\n",
    "# tool = 'fsl'\n",
    "\n",
    "tmp = hie[['ID','Gender','structure','tool','value','fiq']]\n",
    "# tmp = tmp.loc[((hie['Gender']=='1') | (hie['Gender']=='Male')) \n",
    "tmp = tmp.loc[\\\n",
    "                                (hie['structure'] == h2uberon[roi]) \n",
    "                               & (hie['tool']==tooldic[tool])].drop_duplicates()\n",
    "\n",
    "print(len(hie),len(tmp))"
   ]
  },
  {
   "cell_type": "code",
   "execution_count": 18,
   "metadata": {},
   "outputs": [
    {
     "data": {
      "text/plain": [
       "['ID', 'Gender', 'structure', 'tool', 'value', 'fiq']"
      ]
     },
     "execution_count": 18,
     "metadata": {},
     "output_type": "execute_result"
    }
   ],
   "source": [
    "list(tmp)"
   ]
  },
  {
   "cell_type": "code",
   "execution_count": 19,
   "metadata": {},
   "outputs": [
    {
     "name": "stdout",
     "output_type": "stream",
     "text": [
      " Structure =  cerebral hemisphere\n",
      "                            OLS Regression Results                            \n",
      "==============================================================================\n",
      "Dep. Variable:                    fiq   R-squared:                       0.002\n",
      "Model:                            OLS   Adj. R-squared:                  0.001\n",
      "Method:                 Least Squares   F-statistic:                     1.789\n",
      "Date:                Sun, 22 Sep 2019   Prob (F-statistic):              0.181\n",
      "Time:                        21:56:03   Log-Likelihood:                -10225.\n",
      "No. Observations:                1150   AIC:                         2.045e+04\n",
      "Df Residuals:                    1148   BIC:                         2.046e+04\n",
      "Df Model:                           1                                         \n",
      "Covariance Type:            nonrobust                                         \n",
      "==============================================================================\n",
      "                 coef    std err          t      P>|t|      [0.025      0.975]\n",
      "------------------------------------------------------------------------------\n",
      "Intercept     32.7844    187.438      0.175      0.861    -334.976     400.544\n",
      "Q('value')    -0.1260      0.094     -1.337      0.181      -0.311       0.059\n",
      "==============================================================================\n",
      "Omnibus:                     1206.338   Durbin-Watson:                   1.724\n",
      "Prob(Omnibus):                  0.000   Jarque-Bera (JB):            40122.014\n",
      "Skew:                          -5.367   Prob(JB):                         0.00\n",
      "Kurtosis:                      29.872   Cond. No.                     7.18e+03\n",
      "==============================================================================\n",
      "\n",
      "Warnings:\n",
      "[1] Standard Errors assume that the covariance matrix of the errors is correctly specified.\n",
      "[2] The condition number is large, 7.18e+03. This might indicate that there are\n",
      "strong multicollinearity or other numerical problems.\n"
     ]
    }
   ],
   "source": [
    "print(\" Structure = \", roi)\n",
    "assert u2human[tmp.iloc[0]['structure']] == roi\n",
    "\n",
    "md = smf.ols(\"fiq ~ Q('value')\", data=tmp)\n",
    "mdf = md.fit()\n",
    "print(mdf.summary())\n"
   ]
  },
  {
   "cell_type": "code",
   "execution_count": null,
   "metadata": {},
   "outputs": [],
   "source": []
  },
  {
   "cell_type": "markdown",
   "metadata": {},
   "source": [
    "### MAC-1: Left striatum volume (caudate + putamen) will positively correlate with IQ in the total (male + female) child (age < 20) group.\n"
   ]
  },
  {
   "cell_type": "code",
   "execution_count": 20,
   "metadata": {},
   "outputs": [
    {
     "name": "stdout",
     "output_type": "stream",
     "text": [
      "58003 1897 1898\n",
      "1897 1898\n"
     ]
    }
   ],
   "source": [
    "roi1 = 'caudate nucleus'\n",
    "roi2 = 'putamen'\n",
    "# roi = 'cerebellar cortex'\n",
    "tool = 'surfer'\n",
    "# tool = 'fsl'\n",
    "\n",
    "tmp = hie[['ID','Gender','structure','tool','value','fiq']]\n",
    "# condition1 = ((hie['Gender']=='1') | (hie['Gender']=='Male')) & \n",
    "\n",
    "condition1 = (hie['structure'] == h2uberon[roi1]) & (hie['tool']==tooldic[tool]) \\\n",
    "             & (hie['Age'] < 20) \n",
    "condition2 = (hie['structure'] == h2uberon[roi2]) & (hie['tool']==tooldic[tool]) \\\n",
    "             & (hie['Age'] < 20)\n",
    "\n",
    "    \n",
    "tmp1 = tmp.loc[condition1].drop_duplicates()\n",
    "tmp2 = tmp.loc[condition2].drop_duplicates()\n",
    "#tmp1 = tmp1.set_index('ID')\n",
    "#tmp2 = tmp2.set_index('ID')\n",
    "\n",
    "\n",
    "print(len(hie),len(tmp1),len(tmp2))\n",
    "print(len(tmp1.drop_duplicates()),len(tmp2.drop_duplicates()))\n"
   ]
  },
  {
   "cell_type": "code",
   "execution_count": 21,
   "metadata": {},
   "outputs": [
    {
     "data": {
      "image/png": "[encoded data removed]",
      "text/plain": [
       "<Figure size 432x288 with 1 Axes>"
      ]
     },
     "metadata": {
      "needs_background": "light"
     },
     "output_type": "display_data"
    }
   ],
   "source": [
    "ax = plt.hist(tmp1['value'])"
   ]
  },
  {
   "cell_type": "code",
   "execution_count": 31,
   "metadata": {},
   "outputs": [
    {
     "data": {
      "image/png": "[encoded data removed]",
      "text/plain": [
       "<Figure size 432x288 with 1 Axes>"
      ]
     },
     "metadata": {
      "needs_background": "light"
     },
     "output_type": "display_data"
    }
   ],
   "source": [
    "ax = plt.hist(tmp2['value'])"
   ]
  },
  {
   "cell_type": "code",
   "execution_count": 22,
   "metadata": {},
   "outputs": [],
   "source": [
    "# tmp2.head(2)"
   ]
  },
  {
   "cell_type": "code",
   "execution_count": 23,
   "metadata": {},
   "outputs": [],
   "source": [
    "# tmp1.head(2)"
   ]
  },
  {
   "cell_type": "code",
   "execution_count": 24,
   "metadata": {},
   "outputs": [],
   "source": [
    "# hie.loc[(hie['ID']==21002) & (hie['structure']==h2uberon[roi1]) & (hie['tool']==tooldic['surfer'])]"
   ]
  },
  {
   "cell_type": "markdown",
   "metadata": {},
   "source": [
    "#### try to add values of the same index"
   ]
  },
  {
   "cell_type": "code",
   "execution_count": 25,
   "metadata": {},
   "outputs": [],
   "source": [
    "tmp_1 = tmp1.groupby(['ID']).mean().dropna()\n",
    "tmp_2 = tmp2.groupby(['ID']).mean().dropna()"
   ]
  },
  {
   "cell_type": "code",
   "execution_count": 26,
   "metadata": {},
   "outputs": [],
   "source": [
    "len(tmp_2), len(tmp_1)\n",
    "assert np.all(tmp_1.index == tmp_2.index)"
   ]
  },
  {
   "cell_type": "code",
   "execution_count": 27,
   "metadata": {},
   "outputs": [],
   "source": [
    "\"\"\" print(type(tmp_2))\n",
    "print(list(tmp_2))\n",
    "print(tmp_2['value'][:5])\n",
    "print(tmp_1['value'][:5]) \"\"\";"
   ]
  },
  {
   "cell_type": "code",
   "execution_count": 28,
   "metadata": {},
   "outputs": [
    {
     "name": "stdout",
     "output_type": "stream",
     "text": [
      "['value', 'fiq', 'cau_put']\n"
     ]
    }
   ],
   "source": [
    "datadf = tmp_2\n",
    "datadf['cau_put'] = tmp_2.loc[:,'value'].add(tmp_1.loc[:,'value'])\n",
    "datadf['fiq'] = tmp_2['fiq']\n",
    "print(list(datadf))"
   ]
  },
  {
   "cell_type": "code",
   "execution_count": 32,
   "metadata": {},
   "outputs": [
    {
     "data": {
      "image/png": "[encoded data removed]",
      "text/plain": [
       "<Figure size 432x288 with 1 Axes>"
      ]
     },
     "metadata": {
      "needs_background": "light"
     },
     "output_type": "display_data"
    }
   ],
   "source": [
    "#datadf = datadf[datadf['cau_put'] < 15000]\n",
    "len(datadf)\n",
    "ax = plt.hist(datadf['cau_put'])"
   ]
  },
  {
   "cell_type": "code",
   "execution_count": null,
   "metadata": {},
   "outputs": [],
   "source": []
  },
  {
   "cell_type": "code",
   "execution_count": 33,
   "metadata": {},
   "outputs": [
    {
     "name": "stdout",
     "output_type": "stream",
     "text": [
      "                            OLS Regression Results                            \n",
      "==============================================================================\n",
      "Dep. Variable:                    fiq   R-squared:                       0.008\n",
      "Model:                            OLS   Adj. R-squared:                  0.006\n",
      "Method:                 Least Squares   F-statistic:                     6.963\n",
      "Date:                Sun, 22 Sep 2019   Prob (F-statistic):            0.00846\n",
      "Time:                        21:57:13   Log-Likelihood:                -7492.3\n",
      "No. Observations:                 914   AIC:                         1.499e+04\n",
      "Df Residuals:                     912   BIC:                         1.500e+04\n",
      "Df Model:                           1                                         \n",
      "Covariance Type:            nonrobust                                         \n",
      "================================================================================\n",
      "                   coef    std err          t      P>|t|      [0.025      0.975]\n",
      "--------------------------------------------------------------------------------\n",
      "Intercept      819.5747    300.719      2.725      0.007     229.393    1409.757\n",
      "Q('cau_put')    -0.0976      0.037     -2.639      0.008      -0.170      -0.025\n",
      "==============================================================================\n",
      "Omnibus:                     1550.379   Durbin-Watson:                   1.731\n",
      "Prob(Omnibus):                  0.000   Jarque-Bera (JB):           597569.552\n",
      "Skew:                         -11.139   Prob(JB):                         0.00\n",
      "Kurtosis:                     126.267   Cond. No.                     8.40e+04\n",
      "==============================================================================\n",
      "\n",
      "Warnings:\n",
      "[1] Standard Errors assume that the covariance matrix of the errors is correctly specified.\n",
      "[2] The condition number is large, 8.4e+04. This might indicate that there are\n",
      "strong multicollinearity or other numerical problems.\n"
     ]
    }
   ],
   "source": [
    "\n",
    "md = smf.ols(\"fiq ~ Q('cau_put')\", data=datadf)\n",
    "mdf = md.fit()\n",
    "print(mdf.summary())\n"
   ]
  },
  {
   "cell_type": "code",
   "execution_count": null,
   "metadata": {},
   "outputs": [],
   "source": []
  },
  {
   "cell_type": "code",
   "execution_count": null,
   "metadata": {},
   "outputs": [],
   "source": []
  },
  {
   "cell_type": "code",
   "execution_count": null,
   "metadata": {},
   "outputs": [],
   "source": [
    "merged_inner = pd.merge(left=tmp_1, right=tmp_2) #, left_on='ID', right_on='ID') #how='join', "
   ]
  },
  {
   "cell_type": "code",
   "execution_count": null,
   "metadata": {},
   "outputs": [],
   "source": [
    "list(merged_inner)"
   ]
  },
  {
   "cell_type": "code",
   "execution_count": null,
   "metadata": {},
   "outputs": [],
   "source": []
  },
  {
   "cell_type": "code",
   "execution_count": null,
   "metadata": {},
   "outputs": [],
   "source": []
  },
  {
   "cell_type": "code",
   "execution_count": null,
   "metadata": {},
   "outputs": [],
   "source": [
    "#tmp = hie.loc[ (hie['structure']==h2uberon[roi]) & (hie['tool']==tooldic['surfer'])]\n",
    "#tmp.head(3)"
   ]
  },
  {
   "cell_type": "code",
   "execution_count": null,
   "metadata": {},
   "outputs": [],
   "source": [
    "#tmp_ = tmp1.groupby(['ID']).min()\n",
    "#tmp_.head(3)"
   ]
  },
  {
   "cell_type": "code",
   "execution_count": null,
   "metadata": {},
   "outputs": [],
   "source": []
  },
  {
   "cell_type": "code",
   "execution_count": null,
   "metadata": {},
   "outputs": [],
   "source": []
  },
  {
   "cell_type": "code",
   "execution_count": null,
   "metadata": {},
   "outputs": [],
   "source": [
    "# horizontal_stack = pd.concat([tmp1, tmp2], axis=1)\n",
    "merged_inner = pd.merge(left=tmp1, right=tmp2, left_on='ID', right_on='ID') #how='join', "
   ]
  },
  {
   "cell_type": "code",
   "execution_count": null,
   "metadata": {},
   "outputs": [],
   "source": [
    "len(merged_inner.drop_duplicates())"
   ]
  },
  {
   "cell_type": "code",
   "execution_count": null,
   "metadata": {},
   "outputs": [],
   "source": [
    "merged_inner.head(4)"
   ]
  },
  {
   "cell_type": "code",
   "execution_count": null,
   "metadata": {},
   "outputs": [],
   "source": []
  },
  {
   "cell_type": "code",
   "execution_count": null,
   "metadata": {},
   "outputs": [],
   "source": []
  },
  {
   "cell_type": "code",
   "execution_count": null,
   "metadata": {},
   "outputs": [],
   "source": [
    "md = smf.ols(\"FIQ ~ Q('striatal volume')\", data=data2)\n",
    "mdf = md.fit()\n",
    "print(mdf.summary())\n",
    "print(pearsonr(data2['FIQ'], data2['striatal volume']))"
   ]
  },
  {
   "cell_type": "code",
   "execution_count": null,
   "metadata": {},
   "outputs": [],
   "source": [
    "print(tmp.loc[(tmp['ID']==3559087)])"
   ]
  },
  {
   "cell_type": "code",
   "execution_count": null,
   "metadata": {},
   "outputs": [],
   "source": [
    "hie.iloc[1578]"
   ]
  },
  {
   "cell_type": "code",
   "execution_count": null,
   "metadata": {},
   "outputs": [],
   "source": [
    "hie.iloc[1577]"
   ]
  },
  {
   "cell_type": "code",
   "execution_count": null,
   "metadata": {},
   "outputs": [],
   "source": []
  },
  {
   "cell_type": "code",
   "execution_count": null,
   "metadata": {},
   "outputs": [],
   "source": []
  },
  {
   "cell_type": "code",
   "execution_count": null,
   "metadata": {},
   "outputs": [],
   "source": []
  },
  {
   "cell_type": "code",
   "execution_count": null,
   "metadata": {},
   "outputs": [],
   "source": []
  },
  {
   "cell_type": "code",
   "execution_count": null,
   "metadata": {},
   "outputs": [],
   "source": []
  },
  {
   "cell_type": "code",
   "execution_count": null,
   "metadata": {},
   "outputs": [],
   "source": [
    "uberon = \"http://purl.obolibrary.org/obo/UBERON_0001897\"\n",
    "\n",
    "cmd = 'wget -O - ' + uberon\\\n",
    "                   + '  | grep -A 1 ' +  \"'\" + 'Class rdf:about='\\\n",
    "                   + '\"' + uberon + '\"' +  \"'\""
   ]
  },
  {
   "cell_type": "code",
   "execution_count": null,
   "metadata": {},
   "outputs": [],
   "source": []
  },
  {
   "cell_type": "code",
   "execution_count": null,
   "metadata": {},
   "outputs": [],
   "source": [
    "print(cmd.split())"
   ]
  },
  {
   "cell_type": "code",
   "execution_count": null,
   "metadata": {},
   "outputs": [],
   "source": [
    "import subprocess\n",
    "MyOut = subprocess.Popen(cmd.split(), \n",
    "            stdout=subprocess.PIPE, \n",
    "           stderr=subprocess.STDOUT, shell=True)\n",
    "stdout,stderr = MyOut.communicate()\n",
    "print(stdout)\n",
    "#print(stderr)"
   ]
  },
  {
   "cell_type": "code",
   "execution_count": null,
   "metadata": {},
   "outputs": [],
   "source": [
    "process = subprocess.run(cmd.split())"
   ]
  },
  {
   "cell_type": "code",
   "execution_count": null,
   "metadata": {},
   "outputs": [],
   "source": []
  },
  {
   "cell_type": "code",
   "execution_count": null,
   "metadata": {},
   "outputs": [],
   "source": []
  },
  {
   "cell_type": "code",
   "execution_count": null,
   "metadata": {},
   "outputs": [],
   "source": [
    "list(hie)"
   ]
  },
  {
   "cell_type": "code",
   "execution_count": null,
   "metadata": {},
   "outputs": [],
   "source": [
    "uberon= '<http://purl.obolibrary.org/obo/UBERON_0001897>'\n"
   ]
  },
  {
   "cell_type": "code",
   "execution_count": null,
   "metadata": {},
   "outputs": [],
   "source": [
    "len(tmp)"
   ]
  },
  {
   "cell_type": "code",
   "execution_count": null,
   "metadata": {},
   "outputs": [],
   "source": []
  },
  {
   "cell_type": "code",
   "execution_count": null,
   "metadata": {},
   "outputs": [],
   "source": []
  },
  {
   "cell_type": "code",
   "execution_count": null,
   "metadata": {},
   "outputs": [],
   "source": []
  },
  {
   "cell_type": "code",
   "execution_count": null,
   "metadata": {},
   "outputs": [],
   "source": []
  },
  {
   "cell_type": "code",
   "execution_count": null,
   "metadata": {},
   "outputs": [],
   "source": [
    "# Load in the dataset, appending 'nd' to the list of possible na_values\n",
    "hie = pd.read_csv(relative_path_filename, na_values='nd')\n",
    "original_col_names = list(hie)\n",
    "print(original_col_names[:10])\n",
    "\n",
    "# column names are unique\n",
    "assert len(original_col_names) == len(set(original_col_names))"
   ]
  },
  {
   "cell_type": "code",
   "execution_count": null,
   "metadata": {},
   "outputs": [],
   "source": []
  }
 ],
 "metadata": {
  "kernelspec": {
   "display_name": "Python 3",
   "language": "python",
   "name": "python3"
  },
  "language_info": {
   "codemirror_mode": {
    "name": "ipython",
    "version": 3
   },
   "file_extension": ".py",
   "mimetype": "text/x-python",
   "name": "python",
   "nbconvert_exporter": "python",
   "pygments_lexer": "ipython3",
   "version": "3.6.7"
  },
  "toc": {
   "nav_menu": {},
   "number_sections": true,
   "sideBar": true,
   "skip_h1_title": false,
   "toc_cell": false,
   "toc_position": {},
   "toc_section_display": "block",
   "toc_window_display": false
  }
 },
 "nbformat": 4,
 "nbformat_minor": 2
}
