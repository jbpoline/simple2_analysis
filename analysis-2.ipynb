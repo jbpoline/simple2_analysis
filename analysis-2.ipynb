{
 "cells": [
  {
   "cell_type": "markdown",
   "metadata": {},
   "source": [
    "# wrangling with the csv"
   ]
  },
  {
   "cell_type": "code",
   "execution_count": 1,
   "metadata": {},
   "outputs": [],
   "source": [
    "import pandas as pd\n",
    "import numpy as np\n",
    "# import statsmodels.discrete.discrete_model as sm\n",
    "import statsmodels as stt\n",
    "import scipy.stats as sst\n",
    "import os.path as osp"
   ]
  },
  {
   "cell_type": "code",
   "execution_count": 2,
   "metadata": {},
   "outputs": [],
   "source": [
    "from statsmodels import api as sm\n",
    "import statsmodels.formula.api as smf\n",
    "import matplotlib.pyplot as plt\n",
    "import json\n",
    "%matplotlib inline"
   ]
  },
  {
   "cell_type": "markdown",
   "metadata": {},
   "source": [
    "### read the mapping file to find the correspondance between uberon numbers and labels"
   ]
  },
  {
   "cell_type": "code",
   "execution_count": 3,
   "metadata": {},
   "outputs": [],
   "source": [
    "# find mapping file\n",
    "# mapping_file = '../segstats_jsonld/segstats_jsonld/mapping_data/freesurfermap.json'\n",
    "mapping_file = '../segstats_jsonld/segstats_jsonld/mapping_data/freesurfer-cdes.json'\n",
    "assert osp.exists(mapping_file)\n",
    "with open(mapping_file, \"r\") as read_file:\n",
    "    roi_map = json.load(read_file)"
   ]
  },
  {
   "cell_type": "code",
   "execution_count": 4,
   "metadata": {},
   "outputs": [
    {
     "name": "stdout",
     "output_type": "stream",
     "text": [
      "3580\n",
      "['count', \"FS(structure='Cortex', hemi=None, measure='NumVert', unit='unitless')\", \"FS(structure='Cortex', hemi=None, measure='WhiteSurfArea', unit='mm^2')\", \"FS(structure='BrainSeg', hemi=None, measure='BrainSegVol', unit='mm^3')\", \"FS(structure='BrainSegNotVent', hemi=None, measure='BrainSegVolNotVent', unit='mm^3')\", \"FS(structure='BrainSegNotVentSurf', hemi=None, measure='BrainSegVolNotVentSurf', unit='mm^3')\", \"FS(structure='Cortex', hemi=None, measure='CortexVol', unit='mm^3')\", \"FS(structure='SupraTentorial', hemi=None, measure='SupraTentorialVol', unit='mm^3')\", \"FS(structure='SupraTentorialNotVent', hemi=None, measure='SupraTentorialVolNotVent', unit='mm^3')\", \"FS(structure='EstimatedTotalIntraCranialVol', hemi=None, measure='eTIV', unit='mm^3')\"]\n",
      "{'id': '000010', 'structure_id': 410, 'label': 'Right BA1_exvivo NumVert', 'description': 'Right BA1_exvivo Number of Vertices (unitless)', 'key_source': 'Table', 'measureOf': 'http://uri.interlex.org/base/ilx_0112559', 'datumType': 'http://uri.interlex.org/base/ilx_0102597', 'hasUnit': 'vertex', 'fsunit': 'unitless'}\n"
     ]
    }
   ],
   "source": [
    "print(len(list(roi_map.keys())))\n",
    "print(list(roi_map.keys())[:10])\n",
    "#print(list(roi_map['Anatomy'].keys())[:10])\n",
    "#print(len(roi_map['Anatomy'].keys()))\n",
    "print(roi_map[list(roi_map.keys())[10]])"
   ]
  },
  {
   "cell_type": "code",
   "execution_count": 5,
   "metadata": {},
   "outputs": [
    {
     "name": "stdout",
     "output_type": "stream",
     "text": [
      "<class 'dict'>\n"
     ]
    }
   ],
   "source": [
    "for k,v in roi_map.items():\n",
    "    # print(k,\"->\",v)\n",
    "    pass\n",
    "v = {1:2}\n",
    "print(type(v))\n"
   ]
  },
  {
   "cell_type": "code",
   "execution_count": 6,
   "metadata": {},
   "outputs": [
    {
     "name": "stdout",
     "output_type": "stream",
     "text": [
      "[]\n",
      "262 262\n"
     ]
    }
   ],
   "source": [
    "# ube is a dictionary that maps uberon to label of structure\n",
    "ube = {}\n",
    "ebu = {}\n",
    "countok=0\n",
    "has_no_isAbout = []\n",
    "has_no_label = []\n",
    "\n",
    "for (k,v) in roi_map.items():\n",
    "    if k == 'count': pass\n",
    "\n",
    "    # v is a dict that contains the CDE - check that we have a isAbout\n",
    "    #if ('isAbout' not in v) or (v['isAbout'] == '') or (v['isAbout'] in ('None','none')):\n",
    "    #    has_no_isAbout.append(k)\n",
    "    #    break\n",
    "        \n",
    "    elif 'isAbout' in v:\n",
    "        countok += 1\n",
    "        if 'label' in v:\n",
    "            if v['label'] != '' and v['label'] not in ('None','none'):\n",
    "                #ube['<' + v['isAbout'] + '>'] = v['label']\n",
    "                #ebu[v['label']] = '<' + v['isAbout'] + '>'\n",
    "                ebu[v['label']] = v['isAbout']\n",
    "                if v['isAbout'] not in ube.keys():\n",
    "                    no_right_or_left = v['label']\n",
    "                    no_right_or_left = no_right_or_left.replace('Right-','')\n",
    "                    no_right_or_left = no_right_or_left.replace('Right ','')\n",
    "                    no_right_or_left = no_right_or_left.replace('Left-','')\n",
    "                    no_right_or_left = no_right_or_left.replace('Left ','')\n",
    "                    no_right_or_left = no_right_or_left.replace(' NVoxels','')\n",
    "                    no_right_or_left = no_right_or_left.replace(' (mm^3)','')\n",
    "                    ube[v['isAbout']] = no_right_or_left\n",
    "            else:\n",
    "                has_no_label.append(k)\n",
    "\n",
    "print(has_no_isAbout)\n",
    "#print(ube)\n",
    "#print(ebu)\n",
    "print(countok , len(ebu))"
   ]
  },
  {
   "cell_type": "code",
   "execution_count": 7,
   "metadata": {},
   "outputs": [
    {
     "data": {
      "text/plain": [
       "{'http://purl.obolibrary.org/obo/UBERON_0000956': 'Number of Vertices',\n",
       " 'http://purl.obolibrary.org/obo/UBERON_0000955': 'Brain Segmentation Volume',\n",
       " 'http://purl.obolibrary.org/obo/UBERON_0001869': 'Supratentorial volume',\n",
       " 'http://purl.obolibrary.org/obo/UBERON_0013411': 'Estimated Total Intracranial Volume',\n",
       " 'http://purl.obolibrary.org/obo/UBERON_0002437': 'hemisphere cerebral white matter volume',\n",
       " 'http://purl.obolibrary.org/obo/UBERON_0005401': 'Total gray matter volume',\n",
       " 'http://purl.obolibrary.org/obo/UBERON_0002285': 'Lateral-Ventricle',\n",
       " 'http://purl.obolibrary.org/obo/UBERON_0006091': 'Inf-Lat-Vent',\n",
       " 'http://purl.obolibrary.org/obo/UBERON_0002317': 'Cerebellum-White-Matter',\n",
       " 'http://purl.obolibrary.org/obo/UBERON_0002129': 'Cerebellum-Cortex',\n",
       " 'http://purl.obolibrary.org/obo/UBERON_0001897': 'Thalamus-Proper',\n",
       " 'http://purl.obolibrary.org/obo/UBERON_0001873': 'Caudate',\n",
       " 'http://purl.obolibrary.org/obo/UBERON_0001874': 'Putamen',\n",
       " 'http://purl.obolibrary.org/obo/UBERON_0006514': 'Pallidum',\n",
       " 'http://purl.obolibrary.org/obo/UBERON_0002286': '3rd-Ventricle',\n",
       " 'http://purl.obolibrary.org/obo/UBERON_0002422': '4th-Ventricle',\n",
       " 'http://purl.obolibrary.org/obo/UBERON_0002298': 'Brain-Stem',\n",
       " 'http://purl.obolibrary.org/obo/UBERON_0001954': 'Hippocampus',\n",
       " 'http://purl.obolibrary.org/obo/UBERON_0001876': 'Amygdala',\n",
       " 'http://purl.obolibrary.org/obo/UBERON_0001359': 'CSF',\n",
       " 'http://purl.obolibrary.org/obo/UBERON_0001882': 'Accumbens-area',\n",
       " 'http://purl.obolibrary.org/obo/UBERON_0001981': 'vessel',\n",
       " 'http://purl.obolibrary.org/obo/UBERON_0001886': 'choroid-plexus',\n",
       " 'http://purl.obolibrary.org/obo/UBERON_0009857': '5th-Ventricle',\n",
       " 'http://purl.obolibrary.org/obo/UBERON_0000959': 'Optic-Chiasm',\n",
       " 'http://purl.obolibrary.org/obo/UBERON_0015708': 'CC_Posterior',\n",
       " 'http://purl.obolibrary.org/obo/UBERON_0002336': 'CC_Central',\n",
       " 'http://purl.obolibrary.org/obo/UBERON_0015599': 'CC_Anterior'}"
      ]
     },
     "execution_count": 7,
     "metadata": {},
     "output_type": "execute_result"
    }
   ],
   "source": [
    "ube"
   ]
  },
  {
   "cell_type": "code",
   "execution_count": 8,
   "metadata": {},
   "outputs": [],
   "source": [
    "#\n",
    "\"\"\"\n",
    "ube = {}\n",
    "has_no_isAbout = []\n",
    "for (k,v) in roi_map['Anatomy'].items():\n",
    "    if v['isAbout'] != '' or v['isAbout'] in ('None','none'):\n",
    "        if v['label'] != '' and v['label'] not in ('None','none'):\n",
    "            ube['<' + v['isAbout'] + '>'] = v['label']\n",
    "        else:\n",
    "            if '<' + v['isAbout'] + '>' not in ube.keys():\n",
    "                if v['hasLaterality'] in ('Right','Left'):\n",
    "                    ube['<' + v['isAbout'] + '>'] = 'strip-Right-Left-of-'+k\n",
    "                else:\n",
    "                    ube['<' + v['isAbout'] + '>'] = k\n",
    "    else:\n",
    "        #print(k, 'has no isAbout')\n",
    "        has_no_isAbout.append(k)\n",
    "print(has_no_isAbout)\n",
    "\"\"\";"
   ]
  },
  {
   "cell_type": "code",
   "execution_count": 9,
   "metadata": {},
   "outputs": [
    {
     "data": {
      "text/plain": [
       "[('http://purl.obolibrary.org/obo/UBERON_0000956', 'Number of Vertices'),\n",
       " ('http://purl.obolibrary.org/obo/UBERON_0000955',\n",
       "  'Brain Segmentation Volume'),\n",
       " ('http://purl.obolibrary.org/obo/UBERON_0001869', 'Supratentorial volume'),\n",
       " ('http://purl.obolibrary.org/obo/UBERON_0013411',\n",
       "  'Estimated Total Intracranial Volume'),\n",
       " ('http://purl.obolibrary.org/obo/UBERON_0002437',\n",
       "  'hemisphere cerebral white matter volume')]"
      ]
     },
     "execution_count": 9,
     "metadata": {},
     "output_type": "execute_result"
    }
   ],
   "source": [
    "list(zip(list(ube)[:5],list(ube.values())[:5]))"
   ]
  },
  {
   "cell_type": "markdown",
   "metadata": {},
   "source": [
    "### Read CSV file "
   ]
  },
  {
   "cell_type": "code",
   "execution_count": 10,
   "metadata": {},
   "outputs": [
    {
     "name": "stdout",
     "output_type": "stream",
     "text": [
      "/home/jb/code/repronim/simple2/simple2_analysis\n"
     ]
    }
   ],
   "source": [
    "print(osp.realpath(osp.curdir))\n",
    "relative_path_filename = './data/data.csv'\n",
    "assert osp.exists(relative_path_filename)"
   ]
  },
  {
   "cell_type": "code",
   "execution_count": 11,
   "metadata": {},
   "outputs": [
    {
     "name": "stdout",
     "output_type": "stream",
     "text": [
      "['rowid', 'study', 'ID', 'Age', 'dx', 'Gender', 'FIQ', 'PIQ', 'VIQ', 'tool', 'softwareLabel', 'federatedLabel', 'laterality', 'volume']\n"
     ]
    },
    {
     "name": "stderr",
     "output_type": "stream",
     "text": [
      "/home/jb/virtualenvs/simple2/lib/python3.6/site-packages/IPython/core/interactiveshell.py:3049: DtypeWarning: Columns (4) have mixed types. Specify dtype option on import or set low_memory=False.\n",
      "  interactivity=interactivity, compiler=compiler, result=result)\n"
     ]
    }
   ],
   "source": [
    "hie = pd.read_csv(relative_path_filename, na_values='nd') #, low_memory=False)\n",
    "original_col_names = list(hie)\n",
    "print(original_col_names)\n",
    "assert len(original_col_names) == len(set(original_col_names))\n"
   ]
  },
  {
   "cell_type": "code",
   "execution_count": 12,
   "metadata": {},
   "outputs": [],
   "source": [
    "# col_rename = {'softwareLabel':'software', 'federatedLabel':'structure'}\n",
    "col_rename = {'federatedLabel':'structure'}\n",
    "hie.rename(columns=col_rename, inplace=True)"
   ]
  },
  {
   "cell_type": "code",
   "execution_count": 13,
   "metadata": {},
   "outputs": [
    {
     "name": "stdout",
     "output_type": "stream",
     "text": [
      "{nan, 'http://purl.obolibrary.org/obo/UBERON_0001874', 'http://purl.obolibrary.org/obo/UBERON_0002129', 'http://purl.obolibrary.org/obo/UBERON_0001981', 'http://purl.obolibrary.org/obo/UBERON_0002317', 'http://purl.obolibrary.org/obo/UBERON_0001882', 'http://purl.obolibrary.org/obo/UBERON_0000959', 'http://purl.obolibrary.org/obo/UBERON_0009857', 'http://purl.obolibrary.org/obo/UBERON_0002285', 'http://purl.obolibrary.org/obo/UBERON_0001359', 'http://purl.obolibrary.org/obo/UBERON_0002286', 'http://purl.obolibrary.org/obo/UBERON_0001897', 'http://purl.obolibrary.org/obo/UBERON_0001869', 'http://purl.obolibrary.org/obo/UBERON_0001954', 'http://purl.obolibrary.org/obo/UBERON_0006514', 'http://purl.obolibrary.org/obo/UBERON_0002422', 'http://purl.obolibrary.org/obo/UBERON_0015708', 'http://purl.obolibrary.org/obo/UBERON_0001886', 'http://purl.obolibrary.org/obo/UBERON_0002298', 'http://purl.obolibrary.org/obo/UBERON_0005401', 'http://purl.obolibrary.org/obo/UBERON_0000955', 'http://purl.obolibrary.org/obo/UBERON_0001876', 'http://purl.obolibrary.org/obo/UBERON_0006091', 'http://purl.obolibrary.org/obo/UBERON_0013411', 'http://purl.obolibrary.org/obo/UBERON_0002437', 'http://purl.obolibrary.org/obo/UBERON_0002336', 'http://purl.obolibrary.org/obo/UBERON_0015599', 'http://purl.obolibrary.org/obo/UBERON_0001873', 'http://purl.obolibrary.org/obo/UBERON_0000956'}\n"
     ]
    }
   ],
   "source": [
    "# Structure in the csv should contain the uberon identifier for the structure\n",
    "structures = set(hie.structure)\n",
    "print(structures)"
   ]
  },
  {
   "cell_type": "code",
   "execution_count": 14,
   "metadata": {},
   "outputs": [
    {
     "name": "stdout",
     "output_type": "stream",
     "text": [
      "1 http://purl.obolibrary.org/obo/UBERON_0001874 Putamen\n",
      "2 http://purl.obolibrary.org/obo/UBERON_0002129 Cerebellum-Cortex\n",
      "3 http://purl.obolibrary.org/obo/UBERON_0001981 vessel\n",
      "4 http://purl.obolibrary.org/obo/UBERON_0002317 Cerebellum-White-Matter\n",
      "5 http://purl.obolibrary.org/obo/UBERON_0001882 Accumbens-area\n",
      "6 http://purl.obolibrary.org/obo/UBERON_0000959 Optic-Chiasm\n",
      "7 http://purl.obolibrary.org/obo/UBERON_0009857 5th-Ventricle\n",
      "8 http://purl.obolibrary.org/obo/UBERON_0002285 Lateral-Ventricle\n",
      "9 http://purl.obolibrary.org/obo/UBERON_0001359 CSF\n",
      "10 http://purl.obolibrary.org/obo/UBERON_0002286 3rd-Ventricle\n",
      "11 http://purl.obolibrary.org/obo/UBERON_0001897 Thalamus-Proper\n",
      "12 http://purl.obolibrary.org/obo/UBERON_0001869 Supratentorial volume\n",
      "13 http://purl.obolibrary.org/obo/UBERON_0001954 Hippocampus\n",
      "14 http://purl.obolibrary.org/obo/UBERON_0006514 Pallidum\n",
      "15 http://purl.obolibrary.org/obo/UBERON_0002422 4th-Ventricle\n",
      "16 http://purl.obolibrary.org/obo/UBERON_0015708 CC_Posterior\n",
      "17 http://purl.obolibrary.org/obo/UBERON_0001886 choroid-plexus\n",
      "18 http://purl.obolibrary.org/obo/UBERON_0002298 Brain-Stem\n",
      "19 http://purl.obolibrary.org/obo/UBERON_0005401 Total gray matter volume\n",
      "20 http://purl.obolibrary.org/obo/UBERON_0000955 Brain Segmentation Volume\n",
      "21 http://purl.obolibrary.org/obo/UBERON_0001876 Amygdala\n",
      "22 http://purl.obolibrary.org/obo/UBERON_0006091 Inf-Lat-Vent\n",
      "23 http://purl.obolibrary.org/obo/UBERON_0013411 Estimated Total Intracranial Volume\n",
      "24 http://purl.obolibrary.org/obo/UBERON_0002437 hemisphere cerebral white matter volume\n",
      "25 http://purl.obolibrary.org/obo/UBERON_0002336 CC_Central\n",
      "26 http://purl.obolibrary.org/obo/UBERON_0015599 CC_Anterior\n",
      "27 http://purl.obolibrary.org/obo/UBERON_0001873 Caudate\n",
      "28 http://purl.obolibrary.org/obo/UBERON_0000956 Number of Vertices\n"
     ]
    },
    {
     "data": {
      "text/plain": [
       "(28, 28)"
      ]
     },
     "execution_count": 14,
     "metadata": {},
     "output_type": "execute_result"
    }
   ],
   "source": [
    "# for each structure found in the csv, give it the name of the structure found\n",
    "# in the CDE mapping file \n",
    "\n",
    "ube2h = {}\n",
    "\n",
    "for idx, s in enumerate(structures):\n",
    "    if s is not np.nan:\n",
    "        ube2h[s] = ube[s]\n",
    "        print(idx, s, ube2h[s])\n",
    "\n",
    "len(ube), len(ube2h)"
   ]
  },
  {
   "cell_type": "code",
   "execution_count": 15,
   "metadata": {},
   "outputs": [],
   "source": [
    "\"\"\"\n",
    "looking at the class name from the purl urls I got :\n",
    "\n",
    "u2human[list(u2human.keys())[0]] = 'cavum septum pellucidum'\n",
    "u2human[list(u2human.keys())[1]] = 'cerebellum'\n",
    "u2human[list(u2human.keys())[2]] = 'cerebellar cortex'\n",
    "u2human[list(u2human.keys())[3]] = 'perivascular space'\n",
    "u2human[list(u2human.keys())[4]] = \"Ammon's horn\"\n",
    "u2human[list(u2human.keys())[5]] = \"inferior horn of the lateral ventricle\"\n",
    "u2human[list(u2human.keys())[6]] = \"brainstem\"\n",
    "u2human[list(u2human.keys())[7]] = \"amygdala\"\n",
    "u2human[list(u2human.keys())[8]] = \"optic chiasma\"\n",
    "u2human[list(u2human.keys())[9]] = \"dorsal plus ventral thalamus\"\n",
    "u2human[list(u2human.keys())[10]] = \"cerebral hemisphere\"\n",
    "u2human[list(u2human.keys())[11]] = \"caudate nucleus\"\n",
    "u2human[list(u2human.keys())[12]] = \"telencephalic ventricle\"\n",
    "u2human[list(u2human.keys())[13]] = \"putamen\"\n",
    "u2human[list(u2human.keys())[14]] = \"third ventricle\"\n",
    "u2human[list(u2human.keys())[15]] = \"choroid plexus\"\n",
    "u2human[list(u2human.keys())[16]] = \"fourth ventricle\"\n",
    "u2human[list(u2human.keys())[17]] = \"pallidum\"\n",
    "u2human[list(u2human.keys())[18]] = \"nucleus accumbens\"\n",
    "\"\"\";"
   ]
  },
  {
   "cell_type": "code",
   "execution_count": 16,
   "metadata": {},
   "outputs": [
    {
     "data": {
      "text/plain": [
       "set()"
      ]
     },
     "execution_count": 16,
     "metadata": {},
     "output_type": "execute_result"
    }
   ],
   "source": [
    "set1 = {'<http://purl.obolibrary.org/obo/UBERON_0000959>', \n",
    "'<http://purl.obolibrary.org/obo/UBERON_0002422>', \n",
    "'<http://purl.obolibrary.org/obo/UBERON_0009857>', \n",
    "'<http://purl.obolibrary.org/obo/UBERON_0001869>', \n",
    "'<http://purl.obolibrary.org/obo/UBERON_0002129>', \n",
    "'<http://purl.obolibrary.org/obo/UBERON_0001882>', \n",
    "'<http://purl.obolibrary.org/obo/UBERON_0001886>', \n",
    "'<http://purl.obolibrary.org/obo/UBERON_0006091>', \n",
    "'<http://purl.obolibrary.org/obo/UBERON_0002286>', \n",
    "'<http://purl.obolibrary.org/obo/UBERON_0002298>', \n",
    "'<http://purl.obolibrary.org/obo/UBERON_0001897>', \n",
    "'<http://purl.obolibrary.org/obo/UBERON_0001954>', \n",
    "'<http://purl.obolibrary.org/obo/UBERON_0001873>', \n",
    "'<http://purl.obolibrary.org/obo/UBERON_0014930>', \n",
    "'<http://purl.obolibrary.org/obo/UBERON_0001874>', \n",
    "'<http://purl.obolibrary.org/obo/UBERON_0001876>', \n",
    "'<http://purl.obolibrary.org/obo/UBERON_0006514>', \n",
    "'<http://purl.obolibrary.org/obo/UBERON_0002037>', \n",
    "'<http://purl.obolibrary.org/obo/UBERON_0002285>'};\n",
    "set2 = set(ube2h.keys())\n",
    "set3 = set(ube.keys())\n",
    "#set1 ^ set2\n",
    "#set2 ^ set3\n",
    "set(ube.values()) ^ set(ube2h.values())"
   ]
  },
  {
   "cell_type": "code",
   "execution_count": 17,
   "metadata": {},
   "outputs": [],
   "source": [
    "h2ube = {v: k for k, v in ube2h.items()}\n",
    "#print(h2uberon)"
   ]
  },
  {
   "cell_type": "code",
   "execution_count": null,
   "metadata": {},
   "outputs": [],
   "source": []
  },
  {
   "cell_type": "code",
   "execution_count": 18,
   "metadata": {
    "scrolled": false
   },
   "outputs": [
    {
     "data": {
      "text/html": [
       "<div>\n",
       "<style scoped>\n",
       "    .dataframe tbody tr th:only-of-type {\n",
       "        vertical-align: middle;\n",
       "    }\n",
       "\n",
       "    .dataframe tbody tr th {\n",
       "        vertical-align: top;\n",
       "    }\n",
       "\n",
       "    .dataframe thead th {\n",
       "        text-align: right;\n",
       "    }\n",
       "</style>\n",
       "<table border=\"1\" class=\"dataframe\">\n",
       "  <thead>\n",
       "    <tr style=\"text-align: right;\">\n",
       "      <th></th>\n",
       "      <th>rowid</th>\n",
       "      <th>study</th>\n",
       "      <th>ID</th>\n",
       "      <th>Age</th>\n",
       "      <th>dx</th>\n",
       "      <th>Gender</th>\n",
       "      <th>FIQ</th>\n",
       "      <th>PIQ</th>\n",
       "      <th>VIQ</th>\n",
       "      <th>tool</th>\n",
       "      <th>softwareLabel</th>\n",
       "      <th>structure</th>\n",
       "      <th>laterality</th>\n",
       "      <th>volume</th>\n",
       "    </tr>\n",
       "  </thead>\n",
       "  <tbody>\n",
       "    <tr>\n",
       "      <th>0</th>\n",
       "      <td>0</td>\n",
       "      <td>ABIDE SDSU Site</td>\n",
       "      <td>50215</td>\n",
       "      <td>16.88</td>\n",
       "      <td>2</td>\n",
       "      <td>Female</td>\n",
       "      <td>117.0</td>\n",
       "      <td>120.0</td>\n",
       "      <td>110.0</td>\n",
       "      <td>https://surfer.nmr.mgh.harvard.edu/</td>\n",
       "      <td>Right-Thalamus-Proper Volume_mm3 (mm^3)</td>\n",
       "      <td>http://purl.obolibrary.org/obo/UBERON_0001897</td>\n",
       "      <td>Right</td>\n",
       "      <td>7041.7</td>\n",
       "    </tr>\n",
       "    <tr>\n",
       "      <th>1</th>\n",
       "      <td>1</td>\n",
       "      <td>ABIDE SDSU Site</td>\n",
       "      <td>50215</td>\n",
       "      <td>16.88</td>\n",
       "      <td>2</td>\n",
       "      <td>Female</td>\n",
       "      <td>117.0</td>\n",
       "      <td>120.0</td>\n",
       "      <td>110.0</td>\n",
       "      <td>https://surfer.nmr.mgh.harvard.edu/</td>\n",
       "      <td>5th-Ventricle Volume_mm3 (mm^3)</td>\n",
       "      <td>http://purl.obolibrary.org/obo/UBERON_0009857</td>\n",
       "      <td>NaN</td>\n",
       "      <td>0.0</td>\n",
       "    </tr>\n",
       "    <tr>\n",
       "      <th>2</th>\n",
       "      <td>2</td>\n",
       "      <td>ABIDE SDSU Site</td>\n",
       "      <td>50215</td>\n",
       "      <td>16.88</td>\n",
       "      <td>2</td>\n",
       "      <td>Female</td>\n",
       "      <td>117.0</td>\n",
       "      <td>120.0</td>\n",
       "      <td>110.0</td>\n",
       "      <td>https://surfer.nmr.mgh.harvard.edu/</td>\n",
       "      <td>Left-non-WM-hypointensities Volume_mm3 (mm^3)</td>\n",
       "      <td>NaN</td>\n",
       "      <td>Left</td>\n",
       "      <td>0.0</td>\n",
       "    </tr>\n",
       "  </tbody>\n",
       "</table>\n",
       "</div>"
      ],
      "text/plain": [
       "   rowid            study     ID    Age dx  Gender    FIQ    PIQ    VIQ  \\\n",
       "0      0  ABIDE SDSU Site  50215  16.88  2  Female  117.0  120.0  110.0   \n",
       "1      1  ABIDE SDSU Site  50215  16.88  2  Female  117.0  120.0  110.0   \n",
       "2      2  ABIDE SDSU Site  50215  16.88  2  Female  117.0  120.0  110.0   \n",
       "\n",
       "                                  tool  \\\n",
       "0  https://surfer.nmr.mgh.harvard.edu/   \n",
       "1  https://surfer.nmr.mgh.harvard.edu/   \n",
       "2  https://surfer.nmr.mgh.harvard.edu/   \n",
       "\n",
       "                                   softwareLabel  \\\n",
       "0        Right-Thalamus-Proper Volume_mm3 (mm^3)   \n",
       "1                5th-Ventricle Volume_mm3 (mm^3)   \n",
       "2  Left-non-WM-hypointensities Volume_mm3 (mm^3)   \n",
       "\n",
       "                                       structure laterality  volume  \n",
       "0  http://purl.obolibrary.org/obo/UBERON_0001897      Right  7041.7  \n",
       "1  http://purl.obolibrary.org/obo/UBERON_0009857        NaN     0.0  \n",
       "2                                            NaN       Left     0.0  "
      ]
     },
     "execution_count": 18,
     "metadata": {},
     "output_type": "execute_result"
    }
   ],
   "source": [
    "hie.head(3)"
   ]
  },
  {
   "cell_type": "code",
   "execution_count": null,
   "metadata": {},
   "outputs": [],
   "source": []
  },
  {
   "cell_type": "markdown",
   "metadata": {},
   "source": [
    "## hypotheses"
   ]
  },
  {
   "cell_type": "markdown",
   "metadata": {},
   "source": [
    "Hypotheses\n",
    "\n",
    "PIET-1: Total Brain Volume will positively correlate with IQ (in both sexes across the complete age range).\n",
    "\n",
    "MAC-1: Left striatum volume (caudate + putamen) will positively correlate with IQ in the total (male + female) child (age < 20) group.\n",
    "\n",
    "MAC-2: Left striatum volume (caudate + putamen) will positively correlate with IQ in the male children group.\n",
    "\n",
    "MAC-3: Left striatum volume (caudate + putamen) will not correlate with IQ in the female children group.\n",
    "\n",
    "GANJ-1: Total Corpus Callosum midsagittal area, after correcting for total brain volume, will negatively correlate with IQ.\n",
    "\n",
    "GANJ-2: Total Corpus Callosum midsagittal area, after correcting for total brain volume, will negatively correlate with IQ in the young (age < 12) group.\n",
    "\n",
    "GANJ-3: Total Corpus Callosum midsagittal area, after correcting for total brain volume, will not significantly correlate with IQ in the adolescent (age > 12) group.\n",
    "\n",
    "GANJ-4:. Total Corpus Callosum midsagittal area, after correcting for total brain volume, will negatively correlate with IQ in the male (age < 12) group.\n",
    "\n",
    "GANJ-5: Total Corpus Callosum midsagittal area, after correcting for total brain volume, will not significantly correlate with IQ in the female (age < 12) group.\n"
   ]
  },
  {
   "cell_type": "code",
   "execution_count": null,
   "metadata": {},
   "outputs": [],
   "source": []
  },
  {
   "cell_type": "markdown",
   "metadata": {},
   "source": [
    "## Analyses"
   ]
  },
  {
   "cell_type": "markdown",
   "metadata": {},
   "source": [
    "### sandbox"
   ]
  },
  {
   "cell_type": "code",
   "execution_count": 19,
   "metadata": {},
   "outputs": [
    {
     "name": "stdout",
     "output_type": "stream",
     "text": [
      "http://purl.obolibrary.org/obo/UBERON_0001873\n"
     ]
    }
   ],
   "source": [
    "u_caudate = h2ube['Caudate']\n",
    "print(u_caudate)"
   ]
  },
  {
   "cell_type": "code",
   "execution_count": 20,
   "metadata": {},
   "outputs": [
    {
     "data": {
      "text/plain": [
       "{'Female', 'Male'}"
      ]
     },
     "execution_count": 20,
     "metadata": {},
     "output_type": "execute_result"
    }
   ],
   "source": [
    "set(hie['Gender'])"
   ]
  },
  {
   "cell_type": "code",
   "execution_count": 22,
   "metadata": {},
   "outputs": [],
   "source": [
    "# df.loc[(df['column_name'] >= A) & (df['column_name'] <= B)]\n",
    "\n",
    "# tmp = hie[hie.structure==u_caudate][hie.Gender=='1']\n",
    "# tmp = hie.loc[(hie['Gender']=='1')] # & (hie['Gender']=='Male')]\n",
    "\n",
    "# Male or '1' for caudate\n",
    "#tmp = hie.loc[((hie['Gender']=='1') | (hie['Gender']=='Male')) \n",
    "#tmp = hie.loc[( hie['Gender']=='Male' ) \n",
    "#                    & (hie['structure'] == u_caudate ) \n",
    "#                    & (hie['tool']==tooldic['surfer'])]\n"
   ]
  },
  {
   "cell_type": "code",
   "execution_count": 23,
   "metadata": {},
   "outputs": [
    {
     "name": "stdout",
     "output_type": "stream",
     "text": [
      "['rowid', 'study', 'ID', 'Age', 'dx', 'Gender', 'FIQ', 'PIQ', 'VIQ', 'tool', 'softwareLabel', 'structure', 'laterality', 'volume']\n",
      "\n",
      "\n",
      "{'http://purl.org/nidash/fsl#', 'https://surfer.nmr.mgh.harvard.edu/', 'http://stnava.github.io/ANTs/'}\n",
      "{nan, 1, 2, 'LD, CD', 'ADHD-Hyperactive/Impulsive', 'LD', 'Tics', 'ADHD-Inattentive', 'ODD', 'ODD   ', 'Typically Developing Children', 'cyst of left temporal pole                              ', 'enuresis', 'LD, ODD', 'SAD (previous)', 'LD, DBD-NOS', '2', 'ADHD-Combined', 'LD, CD, Tics', 'ODD, social phobia ', 'TS', 'LD, Tics', 'LD, SP1', '1', 'ODD, LD', 'ODD, Tics, Mood disorder'}\n",
      "{'Female', 'Male'}\n",
      "{nan, 'Left', 'Right'}\n"
     ]
    }
   ],
   "source": [
    "print(list(hie))\n",
    "print('\\n')\n",
    "\n",
    "print(set(hie['tool']))\n",
    "print(set(hie['dx']))\n",
    "# print(set(hie['softwareLabel']))\n",
    "#print(tooldic['fsl'])\n",
    "#print(len(hie),len(tmp))\n",
    "print(set(hie['Gender']))\n",
    "#print(set(hie['dx']))\n",
    "print(set(hie['laterality']))\n"
   ]
  },
  {
   "cell_type": "code",
   "execution_count": 24,
   "metadata": {},
   "outputs": [
    {
     "name": "stdout",
     "output_type": "stream",
     "text": [
      "diag:  nan    :  0\n",
      "diag:  1    :  61944\n",
      "diag:  2    :  69128\n",
      "diag:  LD, CD    :  80\n",
      "diag:  ADHD-Hyperactive/Impulsive    :  180\n",
      "diag:  LD    :  681\n",
      "diag:  Tics    :  181\n",
      "diag:  ADHD-Inattentive    :  8813\n",
      "diag:  ODD    :  2363\n",
      "diag:  ODD       :  118\n",
      "diag:  Typically Developing Children    :  14757\n",
      "diag:  cyst of left temporal pole                                  :  119\n",
      "diag:  enuresis    :  181\n",
      "diag:  LD, ODD    :  80\n",
      "diag:  SAD (previous)    :  118\n",
      "diag:  LD, DBD-NOS    :  80\n",
      "diag:  2    :  9388\n",
      "diag:  ADHD-Combined    :  8692\n",
      "diag:  LD, CD, Tics    :  180\n",
      "diag:  ODD, social phobia     :  181\n",
      "diag:  TS    :  543\n",
      "diag:  LD, Tics    :  260\n",
      "diag:  LD, SP1    :  180\n",
      "diag:  1    :  10714\n",
      "diag:  ODD, LD    :  621\n",
      "diag:  ODD, Tics, Mood disorder    :  118\n"
     ]
    }
   ],
   "source": [
    "dxset = set(hie['dx'])\n",
    "tmp = hie[['dx']]\n",
    "\n",
    "for diag in dxset:\n",
    "    dx_cond = (tmp['dx'] == diag)\n",
    "    print('diag: ', diag, '   : ', len(tmp.loc[dx_cond]))"
   ]
  },
  {
   "cell_type": "code",
   "execution_count": 25,
   "metadata": {},
   "outputs": [
    {
     "data": {
      "text/plain": [
       "{'Putamen': 'http://purl.obolibrary.org/obo/UBERON_0001874',\n",
       " 'Cerebellum-Cortex': 'http://purl.obolibrary.org/obo/UBERON_0002129',\n",
       " 'vessel': 'http://purl.obolibrary.org/obo/UBERON_0001981',\n",
       " 'Cerebellum-White-Matter': 'http://purl.obolibrary.org/obo/UBERON_0002317',\n",
       " 'Accumbens-area': 'http://purl.obolibrary.org/obo/UBERON_0001882',\n",
       " 'Optic-Chiasm': 'http://purl.obolibrary.org/obo/UBERON_0000959',\n",
       " '5th-Ventricle': 'http://purl.obolibrary.org/obo/UBERON_0009857',\n",
       " 'Lateral-Ventricle': 'http://purl.obolibrary.org/obo/UBERON_0002285',\n",
       " 'CSF': 'http://purl.obolibrary.org/obo/UBERON_0001359',\n",
       " '3rd-Ventricle': 'http://purl.obolibrary.org/obo/UBERON_0002286',\n",
       " 'Thalamus-Proper': 'http://purl.obolibrary.org/obo/UBERON_0001897',\n",
       " 'Supratentorial volume': 'http://purl.obolibrary.org/obo/UBERON_0001869',\n",
       " 'Hippocampus': 'http://purl.obolibrary.org/obo/UBERON_0001954',\n",
       " 'Pallidum': 'http://purl.obolibrary.org/obo/UBERON_0006514',\n",
       " '4th-Ventricle': 'http://purl.obolibrary.org/obo/UBERON_0002422',\n",
       " 'CC_Posterior': 'http://purl.obolibrary.org/obo/UBERON_0015708',\n",
       " 'choroid-plexus': 'http://purl.obolibrary.org/obo/UBERON_0001886',\n",
       " 'Brain-Stem': 'http://purl.obolibrary.org/obo/UBERON_0002298',\n",
       " 'Total gray matter volume': 'http://purl.obolibrary.org/obo/UBERON_0005401',\n",
       " 'Brain Segmentation Volume': 'http://purl.obolibrary.org/obo/UBERON_0000955',\n",
       " 'Amygdala': 'http://purl.obolibrary.org/obo/UBERON_0001876',\n",
       " 'Inf-Lat-Vent': 'http://purl.obolibrary.org/obo/UBERON_0006091',\n",
       " 'Estimated Total Intracranial Volume': 'http://purl.obolibrary.org/obo/UBERON_0013411',\n",
       " 'hemisphere cerebral white matter volume': 'http://purl.obolibrary.org/obo/UBERON_0002437',\n",
       " 'CC_Central': 'http://purl.obolibrary.org/obo/UBERON_0002336',\n",
       " 'CC_Anterior': 'http://purl.obolibrary.org/obo/UBERON_0015599',\n",
       " 'Caudate': 'http://purl.obolibrary.org/obo/UBERON_0001873',\n",
       " 'Number of Vertices': 'http://purl.obolibrary.org/obo/UBERON_0000956'}"
      ]
     },
     "execution_count": 25,
     "metadata": {},
     "output_type": "execute_result"
    }
   ],
   "source": [
    "h2ube"
   ]
  },
  {
   "cell_type": "markdown",
   "metadata": {},
   "source": [
    "### Some mapping for the values in the df:\n"
   ]
  },
  {
   "cell_type": "markdown",
   "metadata": {},
   "source": [
    "####  tools"
   ]
  },
  {
   "cell_type": "code",
   "execution_count": 26,
   "metadata": {},
   "outputs": [
    {
     "name": "stdout",
     "output_type": "stream",
     "text": [
      "{'http://purl.org/nidash/fsl#', 'https://surfer.nmr.mgh.harvard.edu/', 'http://stnava.github.io/ANTs/'}\n",
      "{'surfer': 'https://surfer.nmr.mgh.harvard.edu/', 'fsl': 'http://purl.org/nidash/fsl#', 'ants': 'http://stnava.github.io/ANTs/'}\n",
      "{'https://surfer.nmr.mgh.harvard.edu/': 'surfer', 'http://purl.org/nidash/fsl#': 'fsl', 'http://stnava.github.io/ANTs/': 'ants'}\n"
     ]
    }
   ],
   "source": [
    "print(set(hie['tool']))\n",
    "tooldic = {'surfer':'https://surfer.nmr.mgh.harvard.edu/', \n",
    "           'fsl':'http://purl.org/nidash/fsl#',\n",
    "           'ants':'http://stnava.github.io/ANTs/'}\n",
    "print(tooldic)\n",
    "dictool = {v:k for (k,v) in tooldic.items()}\n",
    "print(dictool)"
   ]
  },
  {
   "cell_type": "markdown",
   "metadata": {},
   "source": [
    "#### normally developing children"
   ]
  },
  {
   "cell_type": "code",
   "execution_count": 27,
   "metadata": {},
   "outputs": [
    {
     "name": "stdout",
     "output_type": "stream",
     "text": [
      "{nan, 1, 2, 'LD, CD', 'ADHD-Hyperactive/Impulsive', 'LD', 'Tics', 'ADHD-Inattentive', 'ODD', 'ODD   ', 'Typically Developing Children', 'cyst of left temporal pole                              ', 'enuresis', 'LD, ODD', 'SAD (previous)', 'LD, DBD-NOS', '2', 'ADHD-Combined', 'LD, CD, Tics', 'ODD, social phobia ', 'TS', 'LD, Tics', 'LD, SP1', '1', 'ODD, LD', 'ODD, Tics, Mood disorder'}\n"
     ]
    }
   ],
   "source": [
    "dxset = set(hie['dx'])\n",
    "print(dxset)\n",
    "normalDev = (1, '1', 'Typically Developing Children')\n",
    "adhd = (2, '2', 'ADHD-Combined', 'ADHD-Hyperactive/Impulsive', 'ADHD-Inattentive')"
   ]
  },
  {
   "cell_type": "markdown",
   "metadata": {},
   "source": [
    "### PIET-1: Total Brain Volume will positively correlate with IQ (in both sexes across the complete age range).\n"
   ]
  },
  {
   "cell_type": "code",
   "execution_count": 99,
   "metadata": {},
   "outputs": [
    {
     "name": "stdout",
     "output_type": "stream",
     "text": [
      "201532 424\n"
     ]
    }
   ],
   "source": [
    "# roi = 'Brain Segmentation Volume'\n",
    "roi = 'Estimated Total Intracranial Volume'\n",
    "# roi = 'Total gray matter volume'\n",
    "# roi = 'cerebellar cortex'\n",
    "tool = 'surfer'\n",
    "# tool = 'ants'\n",
    "\n",
    "\n",
    "tmp = hie[['study','ID','Gender','structure','tool','volume','PIQ','FIQ']]\n",
    "#tmp = hie[['study','ID','Gender', 'Age', 'structure','tool','volume', 'laterality', 'FIQ', 'PIQ']]\n",
    "# tmp = tmp.loc[((hie['Gender']=='1') | (hie['Gender']=='Male')) \n",
    "\n",
    "\n",
    "# hand_cond = ((hie['hand'] == 'L')|(hie['hand'] == 'Left')|(hie['latera'] == 'Left'))\n",
    "age_cond = (hie['Age'] <= 20)\n",
    "roi_cond = (hie['structure'] == h2ube[roi])\n",
    "tool_cond = (hie['tool'] == tooldic[tool])\n",
    "\n",
    "pop_cond = False\n",
    "for pop in normalDev:\n",
    "    pop_cond = pop_cond | (hie['dx'] == pop)\n",
    "#pop_cond = (hie['dx'] == normalDev[0]) | (hie['dx'] == normalDev[1]) | (hie['dx'] == normalDev[2])\n",
    "\n",
    "\n",
    "\n",
    "condition = roi_cond & tool_cond & pop_cond #& age_cond \n",
    "\n",
    "tmp = tmp.loc[condition].drop_duplicates().dropna()\n",
    "\n",
    "print(len(hie),len(tmp))"
   ]
  },
  {
   "cell_type": "code",
   "execution_count": 29,
   "metadata": {},
   "outputs": [
    {
     "data": {
      "text/plain": [
       "['study', 'ID', 'Gender', 'structure', 'tool', 'volume', 'PIQ', 'FIQ']"
      ]
     },
     "execution_count": 29,
     "metadata": {},
     "output_type": "execute_result"
    }
   ],
   "source": [
    "list(tmp)"
   ]
  },
  {
   "cell_type": "code",
   "execution_count": 30,
   "metadata": {},
   "outputs": [],
   "source": [
    "# tmp.head()"
   ]
  },
  {
   "cell_type": "code",
   "execution_count": 33,
   "metadata": {},
   "outputs": [
    {
     "name": "stdout",
     "output_type": "stream",
     "text": [
      " Structure =  Estimated Total Intracranial Volume\n",
      "                            OLS Regression Results                            \n",
      "==============================================================================\n",
      "Dep. Variable:                    PIQ   R-squared:                       0.081\n",
      "Model:                            OLS   Adj. R-squared:                  0.035\n",
      "Method:                 Least Squares   F-statistic:                     1.776\n",
      "Date:                Sun, 24 Nov 2019   Prob (F-statistic):             0.0213\n",
      "Time:                        22:22:46   Log-Likelihood:                -3502.7\n",
      "No. Observations:                 424   AIC:                             7047.\n",
      "Df Residuals:                     403   BIC:                             7133.\n",
      "Df Model:                          20                                         \n",
      "Covariance Type:            nonrobust                                         \n",
      "================================================================================================\n",
      "                                   coef    std err          t      P>|t|      [0.025      0.975]\n",
      "------------------------------------------------------------------------------------------------\n",
      "Intercept                      203.7222    615.167      0.331      0.741   -1005.615    1413.060\n",
      "Gender[T.Male]                 -67.6410    138.971     -0.487      0.627    -340.839     205.557\n",
      "study[T.ABIDE CMU_b Site]      -24.0861    521.235     -0.046      0.963   -1048.764    1000.592\n",
      "study[T.ABIDE Caltech Site]   -549.2424    455.242     -1.206      0.228   -1444.188     345.703\n",
      "study[T.ABIDE Leuven_1 Site]    -5.0815    474.902     -0.011      0.991    -938.675     928.512\n",
      "study[T.ABIDE MaxMun_c Site]    11.1956   1038.756      0.011      0.991   -2030.861    2053.252\n",
      "study[T.ABIDE MaxMun_d Site]    -3.8612    679.761     -0.006      0.995   -1340.181    1332.458\n",
      "study[T.ABIDE NYU Site]        -16.8305    414.509     -0.041      0.968    -831.700     798.039\n",
      "study[T.ABIDE Pitt Site]       -12.2057    429.996     -0.028      0.977    -857.520     833.109\n",
      "study[T.ABIDE SBL Site]      -1443.8034    468.798     -3.080      0.002   -2365.399    -522.208\n",
      "study[T.ABIDE SDSU Site]        -8.7256    468.973     -0.019      0.985    -930.664     913.213\n",
      "study[T.ABIDE Stanford Site]   -17.6637    457.714     -0.039      0.969    -917.468     882.141\n",
      "study[T.ABIDE Trinity Site]     -3.3522    450.270     -0.007      0.994    -888.523     881.819\n",
      "study[T.ABIDE UCLA_1 Site]     -24.5215    423.488     -0.058      0.954    -857.043     808.000\n",
      "study[T.ABIDE UCLA_2 Site]     -18.6098    475.426     -0.039      0.969    -953.235     916.015\n",
      "study[T.ABIDE UM_1 Site]      -222.8262    416.927     -0.534      0.593   -1042.449     596.797\n",
      "study[T.ABIDE UM_2 Site]        -7.2821    475.100     -0.015      0.988    -941.265     926.701\n",
      "study[T.ABIDE USM Site]        -15.1303   1037.958     -0.015      0.988   -2055.618    2025.357\n",
      "study[T.ABIDE Yale Site]       -43.2132    437.431     -0.099      0.921    -903.145     816.719\n",
      "study[T.ADHD200]               -25.9994    411.110     -0.063      0.950    -834.188     782.189\n",
      "Q('volume')                  -1.385e-05      0.000     -0.046      0.963      -0.001       0.001\n",
      "==============================================================================\n",
      "Omnibus:                      669.842   Durbin-Watson:                   2.134\n",
      "Prob(Omnibus):                  0.000   Jarque-Bera (JB):           138431.586\n",
      "Skew:                          -8.912   Prob(JB):                         0.00\n",
      "Kurtosis:                      89.707   Cond. No.                     5.94e+07\n",
      "==============================================================================\n",
      "\n",
      "Warnings:\n",
      "[1] Standard Errors assume that the covariance matrix of the errors is correctly specified.\n",
      "[2] The condition number is large, 5.94e+07. This might indicate that there are\n",
      "strong multicollinearity or other numerical problems.\n"
     ]
    }
   ],
   "source": [
    "print(\" Structure = \", roi)\n",
    "assert ube2h[tmp.iloc[0]['structure']] == roi\n",
    "\n",
    "iq = 'PIQ'\n",
    "\n",
    "md = smf.ols(iq + \" ~ Q('volume') + Gender + study \", data=tmp) #  \n",
    "# md = smf.ols(iq + \" ~ Q('volume') + study \", data=tmp) #  \n",
    "mdf = md.fit()\n",
    "print(mdf.summary())\n"
   ]
  },
  {
   "cell_type": "code",
   "execution_count": 34,
   "metadata": {},
   "outputs": [
    {
     "name": "stdout",
     "output_type": "stream",
     "text": [
      " Structure =  Estimated Total Intracranial Volume\n",
      "                            OLS Regression Results                            \n",
      "==============================================================================\n",
      "Dep. Variable:                 volume   R-squared:                       0.360\n",
      "Model:                            OLS   Adj. R-squared:                  0.328\n",
      "Method:                 Least Squares   F-statistic:                     11.33\n",
      "Date:                Sun, 24 Nov 2019   Prob (F-statistic):           1.84e-28\n",
      "Time:                        22:23:29   Log-Likelihood:                -5670.9\n",
      "No. Observations:                 424   AIC:                         1.138e+04\n",
      "Df Residuals:                     403   BIC:                         1.147e+04\n",
      "Df Model:                          20                                         \n",
      "Covariance Type:            nonrobust                                         \n",
      "================================================================================================\n",
      "                                   coef    std err          t      P>|t|      [0.025      0.975]\n",
      "------------------------------------------------------------------------------------------------\n",
      "Intercept                      1.52e+06   6.88e+04     22.082      0.000    1.38e+06    1.65e+06\n",
      "Gender[T.Male]                1.468e+05   2.19e+04      6.693      0.000    1.04e+05     1.9e+05\n",
      "study[T.ABIDE CMU_b Site]    -2.407e+04   8.67e+04     -0.278      0.781   -1.94e+05    1.46e+05\n",
      "study[T.ABIDE Caltech Site]   2.129e+05   7.51e+04      2.836      0.005    6.53e+04    3.61e+05\n",
      "study[T.ABIDE Leuven_1 Site] -8.918e+04   7.88e+04     -1.131      0.259   -2.44e+05    6.58e+04\n",
      "study[T.ABIDE MaxMun_c Site]  1.585e+05   1.73e+05      0.919      0.359   -1.81e+05    4.98e+05\n",
      "study[T.ABIDE MaxMun_d Site]  8.221e+04   1.13e+05      0.728      0.467    -1.4e+05    3.04e+05\n",
      "study[T.ABIDE NYU Site]      -1.573e+05   6.85e+04     -2.298      0.022   -2.92e+05   -2.27e+04\n",
      "study[T.ABIDE Pitt Site]      1260.5333   7.15e+04      0.018      0.986   -1.39e+05    1.42e+05\n",
      "study[T.ABIDE SBL Site]       -1.73e+04   7.89e+04     -0.219      0.826   -1.72e+05    1.38e+05\n",
      "study[T.ABIDE SDSU Site]     -3.344e+04    7.8e+04     -0.429      0.668   -1.87e+05     1.2e+05\n",
      "study[T.ABIDE Stanford Site] -2.656e+05   7.49e+04     -3.544      0.000   -4.13e+05   -1.18e+05\n",
      "study[T.ABIDE Trinity Site]   6.196e+04   7.48e+04      0.828      0.408   -8.51e+04    2.09e+05\n",
      "study[T.ABIDE UCLA_1 Site]   -1.714e+05   6.99e+04     -2.452      0.015   -3.09e+05    -3.4e+04\n",
      "study[T.ABIDE UCLA_2 Site]   -1.162e+05   7.88e+04     -1.474      0.141   -2.71e+05    3.88e+04\n",
      "study[T.ABIDE UM_1 Site]     -1.285e+05   6.91e+04     -1.861      0.063   -2.64e+05    7213.226\n",
      "study[T.ABIDE UM_2 Site]     -9.437e+04   7.89e+04     -1.197      0.232   -2.49e+05    6.07e+04\n",
      "study[T.ABIDE USM Site]      -8.161e+04   1.73e+05     -0.473      0.636   -4.21e+05    2.58e+05\n",
      "study[T.ABIDE Yale Site]     -1.871e+05   7.21e+04     -2.594      0.010   -3.29e+05   -4.53e+04\n",
      "study[T.ADHD200]             -9.505e+04   6.82e+04     -1.394      0.164   -2.29e+05     3.9e+04\n",
      "Q(iq)                           -0.3830      8.283     -0.046      0.963     -16.666      15.900\n",
      "==============================================================================\n",
      "Omnibus:                        5.690   Durbin-Watson:                   2.143\n",
      "Prob(Omnibus):                  0.058   Jarque-Bera (JB):                7.834\n",
      "Skew:                          -0.044   Prob(JB):                       0.0199\n",
      "Kurtosis:                       3.660   Cond. No.                     3.70e+04\n",
      "==============================================================================\n",
      "\n",
      "Warnings:\n",
      "[1] Standard Errors assume that the covariance matrix of the errors is correctly specified.\n",
      "[2] The condition number is large, 3.7e+04. This might indicate that there are\n",
      "strong multicollinearity or other numerical problems.\n"
     ]
    }
   ],
   "source": [
    "print(\" Structure = \", roi)\n",
    "assert ube2h[tmp.iloc[0]['structure']] == roi\n",
    "\n",
    "iq = 'PIQ'\n",
    "\n",
    "md = smf.ols('volume' + \" ~ Q(iq) + Gender + study \", data=tmp) #  \n",
    "# md = smf.ols(iq + \" ~ Q('volume') + study \", data=tmp) #  \n",
    "mdf = md.fit()\n",
    "print(mdf.summary())\n"
   ]
  },
  {
   "cell_type": "markdown",
   "metadata": {},
   "source": [
    "### conclusion : \n",
    "1. no significance for piq for what seems to be the closest region: Estimated Total Intracranial Volume\n",
    "2. FIQ\n",
    "Q('volume')                      0.0001      0.000      0.395      0.693      -0.001       0.001\n",
    "Q(iq)                            2.6726      6.770      0.395      0.693     -10.636      15.981\n",
    "3. PIQ:\n",
    "Q('volume')                  -1.385e-05      0.000     -0.046      0.963      -0.001       0.001\n",
    "Q(iq)                           -0.3830      8.283     -0.046      0.963     -16.666      15.900"
   ]
  },
  {
   "cell_type": "code",
   "execution_count": 35,
   "metadata": {},
   "outputs": [
    {
     "data": {
      "text/plain": [
       "{'Left', 'Right', nan}"
      ]
     },
     "execution_count": 35,
     "metadata": {},
     "output_type": "execute_result"
    }
   ],
   "source": [
    "set(hie['laterality'])"
   ]
  },
  {
   "cell_type": "code",
   "execution_count": 36,
   "metadata": {},
   "outputs": [],
   "source": [
    "roi1 = 'hemisphere cerebral white matter volume'\n",
    "roi2 = 'Total gray matter volume'\n",
    "roi3 = 'CSF'"
   ]
  },
  {
   "cell_type": "code",
   "execution_count": 37,
   "metadata": {},
   "outputs": [],
   "source": [
    "tmp = hie[['study','ID','Gender', 'Age', 'structure','tool','volume', 'laterality', 'FIQ', 'PIQ']]\n",
    "\n",
    "# conditions \n",
    "age_cond = (tmp['Age'] <= 20)\n",
    "roi1_cond = (tmp['structure'] == h2ube[roi1]) & (tmp['laterality'] != 'Left') & (tmp['laterality'] != 'Right')\n",
    "roi2_cond = (tmp['structure'] == h2ube[roi2])\n",
    "roi3_cond = (tmp['structure'] == h2ube[roi3])\n",
    "tool_cond = (tmp['tool']==tooldic[tool])\n",
    "\n",
    "condition1 = roi1_cond & tool_cond & age_cond   \n",
    "condition2 = roi2_cond & tool_cond & age_cond \n",
    "condition3 = roi3_cond & tool_cond & age_cond \n",
    "\n",
    "tmp1 = tmp.loc[condition1].drop_duplicates()\n",
    "tmp2 = tmp.loc[condition2].drop_duplicates()\n",
    "tmp3 = tmp.loc[condition3].drop_duplicates()\n",
    "\n"
   ]
  },
  {
   "cell_type": "code",
   "execution_count": 38,
   "metadata": {},
   "outputs": [
    {
     "name": "stdout",
     "output_type": "stream",
     "text": [
      "889 889\n",
      "889 889\n",
      "889 889\n"
     ]
    }
   ],
   "source": [
    "# CHECK THAT INDEX is unique !\n",
    "print(len(tmp1), len(set(tmp1['ID'])))\n",
    "print(len(tmp2), len(set(tmp2['ID'])))\n",
    "print(len(tmp3), len(set(tmp3['ID'])))"
   ]
  },
  {
   "cell_type": "code",
   "execution_count": 39,
   "metadata": {},
   "outputs": [
    {
     "data": {
      "text/html": [
       "<div>\n",
       "<style scoped>\n",
       "    .dataframe tbody tr th:only-of-type {\n",
       "        vertical-align: middle;\n",
       "    }\n",
       "\n",
       "    .dataframe tbody tr th {\n",
       "        vertical-align: top;\n",
       "    }\n",
       "\n",
       "    .dataframe thead th {\n",
       "        text-align: right;\n",
       "    }\n",
       "</style>\n",
       "<table border=\"1\" class=\"dataframe\">\n",
       "  <thead>\n",
       "    <tr style=\"text-align: right;\">\n",
       "      <th></th>\n",
       "      <th>study</th>\n",
       "      <th>ID</th>\n",
       "      <th>Gender</th>\n",
       "      <th>Age</th>\n",
       "      <th>structure</th>\n",
       "      <th>tool</th>\n",
       "      <th>volume_1</th>\n",
       "      <th>laterality</th>\n",
       "      <th>FIQ</th>\n",
       "      <th>PIQ</th>\n",
       "      <th>volume_2</th>\n",
       "    </tr>\n",
       "  </thead>\n",
       "  <tbody>\n",
       "    <tr>\n",
       "      <th>0</th>\n",
       "      <td>ABIDE SDSU Site</td>\n",
       "      <td>50215</td>\n",
       "      <td>Female</td>\n",
       "      <td>16.88</td>\n",
       "      <td>http://purl.obolibrary.org/obo/UBERON_0002437</td>\n",
       "      <td>https://surfer.nmr.mgh.harvard.edu/</td>\n",
       "      <td>429459.093633</td>\n",
       "      <td>NaN</td>\n",
       "      <td>117.0</td>\n",
       "      <td>120.0</td>\n",
       "      <td>694432.515078</td>\n",
       "    </tr>\n",
       "    <tr>\n",
       "      <th>1</th>\n",
       "      <td>ABIDE SDSU Site</td>\n",
       "      <td>50208</td>\n",
       "      <td>Female</td>\n",
       "      <td>13.78</td>\n",
       "      <td>http://purl.obolibrary.org/obo/UBERON_0002437</td>\n",
       "      <td>https://surfer.nmr.mgh.harvard.edu/</td>\n",
       "      <td>431050.722481</td>\n",
       "      <td>NaN</td>\n",
       "      <td>93.0</td>\n",
       "      <td>86.0</td>\n",
       "      <td>717541.727335</td>\n",
       "    </tr>\n",
       "    <tr>\n",
       "      <th>2</th>\n",
       "      <td>ABIDE SDSU Site</td>\n",
       "      <td>50190</td>\n",
       "      <td>Male</td>\n",
       "      <td>13.99</td>\n",
       "      <td>http://purl.obolibrary.org/obo/UBERON_0002437</td>\n",
       "      <td>https://surfer.nmr.mgh.harvard.edu/</td>\n",
       "      <td>393898.256304</td>\n",
       "      <td>NaN</td>\n",
       "      <td>124.0</td>\n",
       "      <td>118.0</td>\n",
       "      <td>738436.604312</td>\n",
       "    </tr>\n",
       "  </tbody>\n",
       "</table>\n",
       "</div>"
      ],
      "text/plain": [
       "             study     ID  Gender    Age  \\\n",
       "0  ABIDE SDSU Site  50215  Female  16.88   \n",
       "1  ABIDE SDSU Site  50208  Female  13.78   \n",
       "2  ABIDE SDSU Site  50190    Male  13.99   \n",
       "\n",
       "                                       structure  \\\n",
       "0  http://purl.obolibrary.org/obo/UBERON_0002437   \n",
       "1  http://purl.obolibrary.org/obo/UBERON_0002437   \n",
       "2  http://purl.obolibrary.org/obo/UBERON_0002437   \n",
       "\n",
       "                                  tool       volume_1 laterality    FIQ  \\\n",
       "0  https://surfer.nmr.mgh.harvard.edu/  429459.093633        NaN  117.0   \n",
       "1  https://surfer.nmr.mgh.harvard.edu/  431050.722481        NaN   93.0   \n",
       "2  https://surfer.nmr.mgh.harvard.edu/  393898.256304        NaN  124.0   \n",
       "\n",
       "     PIQ       volume_2  \n",
       "0  120.0  694432.515078  \n",
       "1   86.0  717541.727335  \n",
       "2  118.0  738436.604312  "
      ]
     },
     "execution_count": 39,
     "metadata": {},
     "output_type": "execute_result"
    }
   ],
   "source": [
    "#cols_to_use = tmp2.columns - tmp1.columns\n",
    "#print(cols_to_use)\n",
    "merged_inner = pd.merge(left=tmp1, right=tmp2[['ID','volume']], left_on='ID', right_on='ID', suffixes=('_1', '_2'))\n",
    "merged_inner.head(3)\n"
   ]
  },
  {
   "cell_type": "code",
   "execution_count": 40,
   "metadata": {},
   "outputs": [
    {
     "name": "stdout",
     "output_type": "stream",
     "text": [
      "['study', 'ID', 'Gender', 'Age', 'structure', 'tool', 'volume_1', 'laterality', 'FIQ', 'PIQ', 'volume_2', 'volume_3', 'total_volume']\n",
      "889\n"
     ]
    }
   ],
   "source": [
    "mergeddf = pd.merge(left=merged_inner, right=tmp3[['ID','volume']], \n",
    "                        left_on='ID', right_on='ID') #,suffixes=('_m', '_3'))\n",
    "mergeddf.rename(columns={'volume':'volume_3'}, inplace=True)\n",
    "mergeddf['total_volume'] = mergeddf['volume_1'] + mergeddf['volume_2'] + mergeddf['volume_3'] \n",
    "print(list(mergeddf))\n",
    "print(len(mergeddf))\n"
   ]
  },
  {
   "cell_type": "code",
   "execution_count": 42,
   "metadata": {},
   "outputs": [
    {
     "name": "stdout",
     "output_type": "stream",
     "text": [
      "                            OLS Regression Results                            \n",
      "==============================================================================\n",
      "Dep. Variable:                    FIQ   R-squared:                       0.165\n",
      "Model:                            OLS   Adj. R-squared:                  0.143\n",
      "Method:                 Least Squares   F-statistic:                     7.481\n",
      "Date:                Sun, 24 Nov 2019   Prob (F-statistic):           2.06e-21\n",
      "Time:                        22:25:47   Log-Likelihood:                -7011.1\n",
      "No. Observations:                 854   AIC:                         1.407e+04\n",
      "Df Residuals:                     831   BIC:                         1.418e+04\n",
      "Df Model:                          22                                         \n",
      "Covariance Type:            nonrobust                                         \n",
      "================================================================================================\n",
      "                                   coef    std err          t      P>|t|      [0.025      0.975]\n",
      "------------------------------------------------------------------------------------------------\n",
      "Intercept                      959.4702    606.408      1.582      0.114    -230.801    2149.741\n",
      "Gender[T.Male]                  62.6973     84.186      0.745      0.457    -102.544     227.939\n",
      "study[T.ABIDE Caltech Site]     67.5212    660.130      0.102      0.919   -1228.197    1363.239\n",
      "study[T.ABIDE KKI Site]         15.5376    535.879      0.029      0.977   -1036.297    1067.373\n",
      "study[T.ABIDE Leuven_1 Site]   -14.9269    624.631     -0.024      0.981   -1240.967    1211.113\n",
      "study[T.ABIDE Leuven_2 Site]  1.065e-13   3.05e-12      0.035      0.972   -5.89e-12     6.1e-12\n",
      "study[T.ABIDE MaxMun_a Site]    14.8082   1042.815      0.014      0.989   -2032.052    2061.669\n",
      "study[T.ABIDE MaxMun_c Site]   -36.5044   1042.772     -0.035      0.972   -2083.281    2010.272\n",
      "study[T.ABIDE MaxMun_d Site]     9.3681    584.631      0.016      0.987   -1138.159    1156.895\n",
      "study[T.ABIDE NYU Site]         -7.5777    530.148     -0.014      0.989   -1048.164    1033.009\n",
      "study[T.ABIDE OHSU Site]      -694.3802    550.577     -1.261      0.208   -1775.066     386.305\n",
      "study[T.ABIDE Olin Site]      -340.6252    547.766     -0.622      0.534   -1415.793     734.543\n",
      "study[T.ABIDE Pitt Site]        32.1604    544.178      0.059      0.953   -1035.964    1100.285\n",
      "study[T.ABIDE SBL Site]      -1.005e+04   1042.999     -9.635      0.000   -1.21e+04   -8001.616\n",
      "study[T.ABIDE SDSU Site]       -16.2676    544.435     -0.030      0.976   -1084.897    1052.362\n",
      "study[T.ABIDE Stanford Site]  -107.1488    543.476     -0.197      0.844   -1173.896     959.598\n",
      "study[T.ABIDE Trinity Site]     62.9274    548.469      0.115      0.909   -1013.620    1139.475\n",
      "study[T.ABIDE UCLA_1 Site]     -39.6172    533.071     -0.074      0.941   -1085.940    1006.706\n",
      "study[T.ABIDE UCLA_2 Site]     -38.4166    552.014     -0.070      0.945   -1121.921    1045.088\n",
      "study[T.ABIDE UM_1 Site]      -411.2231    529.178     -0.777      0.437   -1449.905     627.459\n",
      "study[T.ABIDE UM_2 Site]       -34.0712    546.819     -0.062      0.950   -1107.379    1039.237\n",
      "study[T.ABIDE Yale Site]       -47.4515    535.444     -0.089      0.929   -1098.433    1003.530\n",
      "study[T.ADHD200]                -6.5697    525.811     -0.012      0.990   -1038.643    1025.503\n",
      "Q('total_volume')               -0.0008      0.000     -2.709      0.007      -0.001      -0.000\n",
      "==============================================================================\n",
      "Omnibus:                     1380.509   Durbin-Watson:                   2.077\n",
      "Prob(Omnibus):                  0.000   Jarque-Bera (JB):           414542.871\n",
      "Skew:                         -10.116   Prob(JB):                         0.00\n",
      "Kurtosis:                     109.021   Cond. No.                     4.29e+22\n",
      "==============================================================================\n",
      "\n",
      "Warnings:\n",
      "[1] Standard Errors assume that the covariance matrix of the errors is correctly specified.\n",
      "[2] The smallest eigenvalue is 6.5e-31. This might indicate that there are\n",
      "strong multicollinearity problems or that the design matrix is singular.\n"
     ]
    }
   ],
   "source": [
    "iq = 'FIQ'\n",
    "md = smf.ols(iq + \" ~ Q('total_volume') + Gender + study \", data=mergeddf) #  \n",
    "mdf = md.fit()\n",
    "print(mdf.summary())\n"
   ]
  },
  {
   "cell_type": "code",
   "execution_count": 43,
   "metadata": {},
   "outputs": [
    {
     "data": {
      "image/png": "[encoded data removed]",
      "text/plain": [
       "<Figure size 432x288 with 1 Axes>"
      ]
     },
     "metadata": {
      "needs_background": "light"
     },
     "output_type": "display_data"
    }
   ],
   "source": [
    "plt.hist(list(mergeddf['total_volume']), bins=50);"
   ]
  },
  {
   "cell_type": "markdown",
   "metadata": {},
   "source": [
    "### MAC-1: Left striatum volume (caudate + putamen) will positively correlate with IQ in the total (male + female) child (age < 20) group.\n"
   ]
  },
  {
   "cell_type": "code",
   "execution_count": 86,
   "metadata": {},
   "outputs": [],
   "source": [
    "roi1 = 'Caudate'\n",
    "roi2 = 'Putamen'\n",
    "roi3 = 'Estimated Total Intracranial Volume'\n",
    "# roi = 'cerebellar cortex'\n",
    "tool = 'surfer'\n",
    "# tool = 'fsl'\n",
    "\n",
    "# pick the interesting variables\n",
    "#--------------------------------#\n",
    "tmp = hie[['study','ID','Gender', 'Age', 'structure','tool','volume', 'laterality', 'FIQ', 'PIQ']]"
   ]
  },
  {
   "cell_type": "code",
   "execution_count": 87,
   "metadata": {},
   "outputs": [
    {
     "name": "stdout",
     "output_type": "stream",
     "text": [
      "201532\n",
      "Caudate : tmp1 1778 1778\n",
      "Putamen : tmp2 1778 1778\n",
      "Estimated Total Intracranial Volume : tmp3 889 889\n"
     ]
    },
    {
     "data": {
      "text/plain": [
       "'http://purl.obolibrary.org/obo/UBERON_0013411'"
      ]
     },
     "execution_count": 87,
     "metadata": {},
     "output_type": "execute_result"
    }
   ],
   "source": [
    "# list of conditions\n",
    "#---------------------#\n",
    "#hand_cond = ((hie['laterality'] == 'L') | (hie['laterality'] == 'Left')) # | (hie['latera'] == 'Left'))\n",
    "age_cond = (hie['Age'] <= 20)\n",
    "roi1_cond = (hie['structure'] == h2ube[roi1])\n",
    "roi2_cond = (hie['structure'] == h2ube[roi2])\n",
    "roi3_cond = (hie['structure'] == h2ube[roi3])\n",
    "\n",
    "tool_cond = (hie['tool']==tooldic[tool])\n",
    "\n",
    "condition1 = roi1_cond & tool_cond & age_cond  \n",
    "condition2 = roi2_cond & tool_cond & age_cond\n",
    "condition3 = roi3_cond & tool_cond & age_cond\n",
    "\n",
    "tmp1 = tmp.loc[condition1].drop_duplicates()\n",
    "tmp2 = tmp.loc[condition2].drop_duplicates()\n",
    "tmp3 = tmp.loc[condition3].drop_duplicates()\n",
    "\n",
    "#tmp1 = tmp1.set_index('ID')\n",
    "#tmp2 = tmp2.set_index('ID')\n",
    "\n",
    "print(len(hie))\n",
    "print(roi1, ': tmp1', len(tmp1), len(tmp1.drop_duplicates()))\n",
    "print(roi2, ': tmp2', len(tmp2), len(tmp2.drop_duplicates()))\n",
    "print(roi3, ': tmp3', len(tmp3), len(tmp3.drop_duplicates()))\n",
    "h2ube[roi3]"
   ]
  },
  {
   "cell_type": "code",
   "execution_count": 88,
   "metadata": {},
   "outputs": [
    {
     "data": {
      "text/html": [
       "<div>\n",
       "<style scoped>\n",
       "    .dataframe tbody tr th:only-of-type {\n",
       "        vertical-align: middle;\n",
       "    }\n",
       "\n",
       "    .dataframe tbody tr th {\n",
       "        vertical-align: top;\n",
       "    }\n",
       "\n",
       "    .dataframe thead th {\n",
       "        text-align: right;\n",
       "    }\n",
       "</style>\n",
       "<table border=\"1\" class=\"dataframe\">\n",
       "  <thead>\n",
       "    <tr style=\"text-align: right;\">\n",
       "      <th></th>\n",
       "      <th>study</th>\n",
       "      <th>ID</th>\n",
       "      <th>Gender</th>\n",
       "      <th>Age</th>\n",
       "      <th>structure</th>\n",
       "      <th>tool</th>\n",
       "      <th>volume</th>\n",
       "      <th>laterality</th>\n",
       "      <th>FIQ</th>\n",
       "      <th>PIQ</th>\n",
       "    </tr>\n",
       "  </thead>\n",
       "  <tbody>\n",
       "    <tr>\n",
       "      <th>21</th>\n",
       "      <td>ABIDE SDSU Site</td>\n",
       "      <td>50215</td>\n",
       "      <td>Female</td>\n",
       "      <td>16.88</td>\n",
       "      <td>http://purl.obolibrary.org/obo/UBERON_0013411</td>\n",
       "      <td>https://surfer.nmr.mgh.harvard.edu/</td>\n",
       "      <td>1.477861e+06</td>\n",
       "      <td>NaN</td>\n",
       "      <td>117.0</td>\n",
       "      <td>120.0</td>\n",
       "    </tr>\n",
       "    <tr>\n",
       "      <th>205</th>\n",
       "      <td>ABIDE SDSU Site</td>\n",
       "      <td>50208</td>\n",
       "      <td>Female</td>\n",
       "      <td>13.78</td>\n",
       "      <td>http://purl.obolibrary.org/obo/UBERON_0013411</td>\n",
       "      <td>https://surfer.nmr.mgh.harvard.edu/</td>\n",
       "      <td>1.370447e+06</td>\n",
       "      <td>NaN</td>\n",
       "      <td>93.0</td>\n",
       "      <td>86.0</td>\n",
       "    </tr>\n",
       "  </tbody>\n",
       "</table>\n",
       "</div>"
      ],
      "text/plain": [
       "               study     ID  Gender    Age  \\\n",
       "21   ABIDE SDSU Site  50215  Female  16.88   \n",
       "205  ABIDE SDSU Site  50208  Female  13.78   \n",
       "\n",
       "                                         structure  \\\n",
       "21   http://purl.obolibrary.org/obo/UBERON_0013411   \n",
       "205  http://purl.obolibrary.org/obo/UBERON_0013411   \n",
       "\n",
       "                                    tool        volume laterality    FIQ  \\\n",
       "21   https://surfer.nmr.mgh.harvard.edu/  1.477861e+06        NaN  117.0   \n",
       "205  https://surfer.nmr.mgh.harvard.edu/  1.370447e+06        NaN   93.0   \n",
       "\n",
       "       PIQ  \n",
       "21   120.0  \n",
       "205   86.0  "
      ]
     },
     "execution_count": 88,
     "metadata": {},
     "output_type": "execute_result"
    }
   ],
   "source": [
    "tmp3.head(2)"
   ]
  },
  {
   "cell_type": "code",
   "execution_count": null,
   "metadata": {},
   "outputs": [],
   "source": []
  },
  {
   "cell_type": "code",
   "execution_count": 89,
   "metadata": {},
   "outputs": [],
   "source": [
    "def split_merge_df(df, indx='ID', spliton='laterality', levels=['Left','Right'], keep_col='volume', droplist=[]):\n",
    "    \"\"\"\n",
    "    split the df according to 2 levels of \"spliton\", \n",
    "    take the column \"keep_col\" now split in two, and create a new one with the sum of the values\n",
    "    such that keep_col splitted values are added in a new column\n",
    "    \n",
    "    used for adding volumes in right and left structures\n",
    "    \"\"\"\n",
    "    \n",
    "    dflev1 = df[df[spliton]==levels[0]]\n",
    "    dflev2 = df[df[spliton]==levels[1]]\n",
    "    # same indx \n",
    "    assert set(dflev1[indx]) == set(dflev2[indx])\n",
    "    # no duplicates in the indx\n",
    "    assert len(set(dflev1[indx])) == len(dflev1[indx])\n",
    "    # assert len(set(dflev2[indx])) == len(dflev2[indx])\n",
    "    suffixes=('_l','_r')\n",
    "    merged_inner = pd.merge(left=dflev1, right=dflev2[[indx,keep_col]], \n",
    "                            left_on=indx, right_on=indx, suffixes=suffixes)\n",
    "#    merged_inner.rename(columns={cols+'_x': cols+'_'+lev1, cols+'_y': cols+'_'+lev2}, inplace=True)\n",
    "\n",
    "\n",
    "    # sum keep_col values in a new column\n",
    "    add_col_name = keep_col+suffixes[0]+'+'+suffixes[1]\n",
    "    merged_inner[add_col_name] = \\\n",
    "                        merged_inner[keep_col+suffixes[0]] + merged_inner[keep_col+suffixes[1]]  \n",
    "\n",
    "    if droplist != []:\n",
    "        for colname in droplist:\n",
    "            colname_y = colname + '_y'\n",
    "            colname_x = colname + '_x'\n",
    "            merged_inner.drop(colname_y, axis=1, inplace=True)\n",
    "            merged_inner.rename(columns={colname_x: colname}, inplace=True)\n",
    "    \n",
    "    return merged_inner"
   ]
  },
  {
   "cell_type": "code",
   "execution_count": 90,
   "metadata": {},
   "outputs": [],
   "source": [
    "tmp1_merged = split_merge_df(tmp1, indx='ID', spliton='laterality', levels=['Left','Right'])\n",
    "tmp2_merged = split_merge_df(tmp1, indx='ID', spliton='laterality', levels=['Left','Right'])\n"
   ]
  },
  {
   "cell_type": "code",
   "execution_count": 91,
   "metadata": {},
   "outputs": [
    {
     "data": {
      "text/html": [
       "<div>\n",
       "<style scoped>\n",
       "    .dataframe tbody tr th:only-of-type {\n",
       "        vertical-align: middle;\n",
       "    }\n",
       "\n",
       "    .dataframe tbody tr th {\n",
       "        vertical-align: top;\n",
       "    }\n",
       "\n",
       "    .dataframe thead th {\n",
       "        text-align: right;\n",
       "    }\n",
       "</style>\n",
       "<table border=\"1\" class=\"dataframe\">\n",
       "  <thead>\n",
       "    <tr style=\"text-align: right;\">\n",
       "      <th></th>\n",
       "      <th>study</th>\n",
       "      <th>ID</th>\n",
       "      <th>Gender</th>\n",
       "      <th>Age</th>\n",
       "      <th>structure</th>\n",
       "      <th>tool</th>\n",
       "      <th>volume_l</th>\n",
       "      <th>laterality</th>\n",
       "      <th>FIQ</th>\n",
       "      <th>PIQ</th>\n",
       "      <th>volume_r</th>\n",
       "      <th>volume_l+_r</th>\n",
       "    </tr>\n",
       "  </thead>\n",
       "  <tbody>\n",
       "    <tr>\n",
       "      <th>0</th>\n",
       "      <td>ABIDE SDSU Site</td>\n",
       "      <td>50215</td>\n",
       "      <td>Female</td>\n",
       "      <td>16.88</td>\n",
       "      <td>http://purl.obolibrary.org/obo/UBERON_0001873</td>\n",
       "      <td>https://surfer.nmr.mgh.harvard.edu/</td>\n",
       "      <td>3987.0</td>\n",
       "      <td>Left</td>\n",
       "      <td>117.0</td>\n",
       "      <td>120.0</td>\n",
       "      <td>4057.8</td>\n",
       "      <td>8044.8</td>\n",
       "    </tr>\n",
       "    <tr>\n",
       "      <th>1</th>\n",
       "      <td>ABIDE SDSU Site</td>\n",
       "      <td>50208</td>\n",
       "      <td>Female</td>\n",
       "      <td>13.78</td>\n",
       "      <td>http://purl.obolibrary.org/obo/UBERON_0001873</td>\n",
       "      <td>https://surfer.nmr.mgh.harvard.edu/</td>\n",
       "      <td>4227.4</td>\n",
       "      <td>Left</td>\n",
       "      <td>93.0</td>\n",
       "      <td>86.0</td>\n",
       "      <td>4256.5</td>\n",
       "      <td>8483.9</td>\n",
       "    </tr>\n",
       "  </tbody>\n",
       "</table>\n",
       "</div>"
      ],
      "text/plain": [
       "             study     ID  Gender    Age  \\\n",
       "0  ABIDE SDSU Site  50215  Female  16.88   \n",
       "1  ABIDE SDSU Site  50208  Female  13.78   \n",
       "\n",
       "                                       structure  \\\n",
       "0  http://purl.obolibrary.org/obo/UBERON_0001873   \n",
       "1  http://purl.obolibrary.org/obo/UBERON_0001873   \n",
       "\n",
       "                                  tool  volume_l laterality    FIQ    PIQ  \\\n",
       "0  https://surfer.nmr.mgh.harvard.edu/    3987.0       Left  117.0  120.0   \n",
       "1  https://surfer.nmr.mgh.harvard.edu/    4227.4       Left   93.0   86.0   \n",
       "\n",
       "   volume_r  volume_l+_r  \n",
       "0    4057.8       8044.8  \n",
       "1    4256.5       8483.9  "
      ]
     },
     "execution_count": 91,
     "metadata": {},
     "output_type": "execute_result"
    }
   ],
   "source": [
    "tmp2_merged.head(2)"
   ]
  },
  {
   "cell_type": "code",
   "execution_count": 92,
   "metadata": {},
   "outputs": [],
   "source": [
    "# Add these two and sum columns\n",
    "suffixes=('_1','_2')\n",
    "indx = 'ID'\n",
    "roi1_roi2 = pd.merge(left=tmp1_merged, right=tmp2_merged[['ID','volume_l+_r']], \n",
    "                            left_on=indx, right_on=indx, suffixes=suffixes)\n"
   ]
  },
  {
   "cell_type": "code",
   "execution_count": 93,
   "metadata": {},
   "outputs": [
    {
     "name": "stdout",
     "output_type": "stream",
     "text": [
      "['study', 'ID', 'Gender', 'Age', 'structure', 'tool', 'volume_l', 'laterality', 'FIQ', 'PIQ', 'volume_r', 'volume_l+_r_1', 'volume_l+_r_2']\n"
     ]
    }
   ],
   "source": [
    "print(list(roi1_roi2))\n"
   ]
  },
  {
   "cell_type": "code",
   "execution_count": 94,
   "metadata": {},
   "outputs": [],
   "source": [
    "roi1_roi2['caud+put'] = roi1_roi2['volume_l+_r_1'] + roi1_roi2['volume_l+_r_2']  "
   ]
  },
  {
   "cell_type": "code",
   "execution_count": 95,
   "metadata": {},
   "outputs": [
    {
     "name": "stdout",
     "output_type": "stream",
     "text": [
      "['study', 'ID', 'Gender', 'Age', 'structure', 'tool', 'volume_l', 'laterality', 'FIQ', 'PIQ', 'volume_r', 'volume_l+_r_1', 'volume_l+_r_2', 'caud+put']\n"
     ]
    }
   ],
   "source": [
    "print(list(roi1_roi2))\n"
   ]
  },
  {
   "cell_type": "code",
   "execution_count": 96,
   "metadata": {},
   "outputs": [
    {
     "name": "stdout",
     "output_type": "stream",
     "text": [
      "['study', 'ID', 'Gender', 'Age', 'structure', 'tool', 'volume_l', 'laterality', 'FIQ', 'PIQ', 'volume_r', 'volume_l+_r_1', 'volume_l+_r_2', 'caud+put', 'TBV']\n"
     ]
    }
   ],
   "source": [
    "# add intracranial brain volume\n",
    "tmp3.rename(columns={'volume':'TBV'}, inplace=True)\n",
    "roi1_roi2_roi3 = pd.merge(left=roi1_roi2, right=tmp3[['ID','TBV']], \n",
    "                            left_on=indx, right_on=indx, suffixes=['_1','_2'])\n",
    "print(list(roi1_roi2_roi3))"
   ]
  },
  {
   "cell_type": "code",
   "execution_count": 97,
   "metadata": {},
   "outputs": [
    {
     "name": "stdout",
     "output_type": "stream",
     "text": [
      "                            OLS Regression Results                            \n",
      "==============================================================================\n",
      "Dep. Variable:                    PIQ   R-squared:                       0.000\n",
      "Model:                            OLS   Adj. R-squared:                 -0.001\n",
      "Method:                 Least Squares   F-statistic:                    0.1175\n",
      "Date:                Sun, 24 Nov 2019   Prob (F-statistic):              0.732\n",
      "Time:                        23:25:00   Log-Likelihood:                -6189.8\n",
      "No. Observations:                 762   AIC:                         1.238e+04\n",
      "Df Residuals:                     760   BIC:                         1.239e+04\n",
      "Df Model:                           1                                         \n",
      "Covariance Type:            nonrobust                                         \n",
      "=================================================================================\n",
      "                    coef    std err          t      P>|t|      [0.025      0.975]\n",
      "---------------------------------------------------------------------------------\n",
      "Intercept       -40.9017    233.258     -0.175      0.861    -498.809     417.005\n",
      "Q('caud+put')     0.0050      0.015      0.343      0.732      -0.024       0.034\n",
      "==============================================================================\n",
      "Omnibus:                     1369.681   Durbin-Watson:                   2.016\n",
      "Prob(Omnibus):                  0.000   Jarque-Bera (JB):           707491.140\n",
      "Skew:                         -12.214   Prob(JB):                         0.00\n",
      "Kurtosis:                     150.263   Cond. No.                     1.25e+05\n",
      "==============================================================================\n",
      "\n",
      "Warnings:\n",
      "[1] Standard Errors assume that the covariance matrix of the errors is correctly specified.\n",
      "[2] The condition number is large, 1.25e+05. This might indicate that there are\n",
      "strong multicollinearity or other numerical problems.\n"
     ]
    }
   ],
   "source": [
    "iq = 'PIQ'\n",
    "#md = smf.ols(iq + \" ~ Q('caud+put') + Gender + study + TBV \", data=roi1_roi2_roi3) #  \n",
    "md = smf.ols(iq + \" ~ Q('caud+put') \", data=roi1_roi2_roi3) #  \n",
    "mdf = md.fit()\n",
    "print(mdf.summary())\n"
   ]
  },
  {
   "cell_type": "code",
   "execution_count": 57,
   "metadata": {},
   "outputs": [
    {
     "data": {
      "image/png": "[encoded data removed]",
      "text/plain": [
       "<Figure size 432x288 with 1 Axes>"
      ]
     },
     "metadata": {
      "needs_background": "light"
     },
     "output_type": "display_data"
    }
   ],
   "source": [
    "plt.hist(list(roi1_roi2['caud+put']), bins=50);"
   ]
  },
  {
   "cell_type": "code",
   "execution_count": 59,
   "metadata": {},
   "outputs": [
    {
     "name": "stdout",
     "output_type": "stream",
     "text": [
      "                            OLS Regression Results                            \n",
      "==============================================================================\n",
      "Dep. Variable:                    FIQ   R-squared:                       0.001\n",
      "Model:                            OLS   Adj. R-squared:                 -0.000\n",
      "Method:                 Least Squares   F-statistic:                    0.9838\n",
      "Date:                Sun, 24 Nov 2019   Prob (F-statistic):              0.322\n",
      "Time:                        22:29:30   Log-Likelihood:                -7087.8\n",
      "No. Observations:                 854   AIC:                         1.418e+04\n",
      "Df Residuals:                     852   BIC:                         1.419e+04\n",
      "Df Model:                           1                                         \n",
      "Covariance Type:            nonrobust                                         \n",
      "=================================================================================\n",
      "                    coef    std err          t      P>|t|      [0.025      0.975]\n",
      "---------------------------------------------------------------------------------\n",
      "Intercept       270.7265    261.682      1.035      0.301    -242.890     784.343\n",
      "Q('caud+put')    -0.0162      0.016     -0.992      0.322      -0.048       0.016\n",
      "==============================================================================\n",
      "Omnibus:                     1380.251   Durbin-Watson:                   2.022\n",
      "Prob(Omnibus):                  0.000   Jarque-Bera (JB):           381031.213\n",
      "Skew:                         -10.164   Prob(JB):                         0.00\n",
      "Kurtosis:                     104.464   Cond. No.                     1.26e+05\n",
      "==============================================================================\n",
      "\n",
      "Warnings:\n",
      "[1] Standard Errors assume that the covariance matrix of the errors is correctly specified.\n",
      "[2] The condition number is large, 1.26e+05. This might indicate that there are\n",
      "strong multicollinearity or other numerical problems.\n"
     ]
    }
   ],
   "source": [
    "iq = 'FIQ'\n",
    "#md = smf.ols(iq + \" ~ Q('caud+put') + Gender + study + TBV \", data=roi1_roi2_roi3) #  \n",
    "md = smf.ols(iq + \" ~ Q('caud+put') \", data=roi1_roi2_roi3) #  \n",
    "mdf = md.fit()\n",
    "print(mdf.summary())\n",
    "\n"
   ]
  },
  {
   "cell_type": "markdown",
   "metadata": {},
   "source": [
    "### Conclusion\n",
    "\n",
    "nothing?\n"
   ]
  },
  {
   "cell_type": "markdown",
   "metadata": {},
   "source": [
    "### MAC-2: Left striatum volume (caudate + putamen) will positively correlate with IQ in the male children group.\n"
   ]
  },
  {
   "cell_type": "code",
   "execution_count": 61,
   "metadata": {},
   "outputs": [
    {
     "data": {
      "text/plain": [
       "{'Female', 'Male'}"
      ]
     },
     "execution_count": 61,
     "metadata": {},
     "output_type": "execute_result"
    }
   ],
   "source": [
    "set(hie['Gender'])"
   ]
  },
  {
   "cell_type": "code",
   "execution_count": 64,
   "metadata": {},
   "outputs": [
    {
     "name": "stdout",
     "output_type": "stream",
     "text": [
      "201532\n",
      "Caudate : tmp1 716 716\n",
      "Putamen : tmp2 716 716\n",
      "Estimated Total Intracranial Volume : tmp3 716 716\n"
     ]
    },
    {
     "data": {
      "text/plain": [
       "'http://purl.obolibrary.org/obo/UBERON_0013411'"
      ]
     },
     "execution_count": 64,
     "metadata": {},
     "output_type": "execute_result"
    }
   ],
   "source": [
    "roi1 = 'Caudate'\n",
    "roi2 = 'Putamen'\n",
    "roi3 = 'Estimated Total Intracranial Volume'\n",
    "# roi = 'cerebellar cortex'\n",
    "tool = 'surfer'\n",
    "\n",
    "# list of conditions\n",
    "#---------------------#\n",
    "hand_cond = (hie['laterality'] == 'Left')\n",
    "age_cond = (hie['Age'] <= 20)\n",
    "roi1_cond = (hie['structure'] == h2ube[roi1])\n",
    "roi2_cond = (hie['structure'] == h2ube[roi2])\n",
    "roi3_cond = (hie['structure'] == h2ube[roi3])\n",
    "\n",
    "tool_cond = (hie['tool'] == tooldic[tool])\n",
    "\n",
    "gender_cond = (hie['Gender'] == 'Male')\n",
    "\n",
    "condition1 = roi1_cond & tool_cond & age_cond & hand_cond & gender_cond\n",
    "condition2 = roi2_cond & tool_cond & age_cond & hand_cond & gender_cond\n",
    "condition3 = roi3_cond & tool_cond & age_cond & gender_cond\n",
    "\n",
    "tmp1 = tmp.loc[condition1].drop_duplicates()\n",
    "tmp2 = tmp.loc[condition2].drop_duplicates()\n",
    "tmp3 = tmp.loc[condition3].drop_duplicates()\n",
    "\n",
    "#tmp1 = tmp1.set_index('ID')\n",
    "#tmp2 = tmp2.set_index('ID')\n",
    "\n",
    "print(len(hie))\n",
    "print(roi1, ': tmp1', len(tmp1), len(tmp1.drop_duplicates()))\n",
    "print(roi2, ': tmp2', len(tmp2), len(tmp2.drop_duplicates()))\n",
    "print(roi3, ': tmp3', len(tmp3), len(tmp3.drop_duplicates()))\n",
    "h2ube[roi3]"
   ]
  },
  {
   "cell_type": "code",
   "execution_count": 66,
   "metadata": {},
   "outputs": [
    {
     "name": "stdout",
     "output_type": "stream",
     "text": [
      "['study', 'ID', 'Gender', 'Age', 'structure', 'tool', 'volume', 'laterality', 'FIQ', 'PIQ']\n"
     ]
    }
   ],
   "source": [
    "print(list(tmp1))"
   ]
  },
  {
   "cell_type": "code",
   "execution_count": 69,
   "metadata": {},
   "outputs": [
    {
     "name": "stdout",
     "output_type": "stream",
     "text": [
      "['study', 'ID', 'Gender', 'Age', 'structure', 'tool', 'volume_caud', 'laterality', 'FIQ', 'PIQ', 'volume_put']\n"
     ]
    },
    {
     "data": {
      "text/plain": [
       "{'Left'}"
      ]
     },
     "execution_count": 69,
     "metadata": {},
     "output_type": "execute_result"
    }
   ],
   "source": [
    "caud_put = pd.merge(left=tmp1, right=tmp2[['ID','volume']], \n",
    "                            left_on=indx, right_on=indx, suffixes=('_caud','_put'))\n",
    "print(list(caud_put))\n",
    "set(caud_put['laterality'])"
   ]
  },
  {
   "cell_type": "code",
   "execution_count": 75,
   "metadata": {},
   "outputs": [
    {
     "name": "stdout",
     "output_type": "stream",
     "text": [
      "['study', 'ID', 'Gender', 'Age', 'structure', 'tool', 'volume_caud', 'laterality', 'FIQ', 'PIQ', 'volume_put', 'TIV', 'caud+put']\n"
     ]
    }
   ],
   "source": [
    "caud_put_tiv = pd.merge(left=caud_put, right=tmp3[['ID','volume']],\n",
    "                     left_on=indx, right_on=indx, suffixes=('','_tiv'))\n",
    "caud_put_tiv.rename(columns={'volume':'TIV'}, inplace=True)\n",
    "caud_put_tiv['caud+put'] = caud_put_tiv['volume_caud'] + caud_put_tiv['volume_put']  \n",
    "print(list(caud_put_tiv))\n"
   ]
  },
  {
   "cell_type": "code",
   "execution_count": 79,
   "metadata": {},
   "outputs": [
    {
     "name": "stdout",
     "output_type": "stream",
     "text": [
      "                            OLS Regression Results                            \n",
      "==============================================================================\n",
      "Dep. Variable:                    PIQ   R-squared:                       0.274\n",
      "Model:                            OLS   Adj. R-squared:                  0.253\n",
      "Method:                 Least Squares   F-statistic:                     13.07\n",
      "Date:                Sun, 24 Nov 2019   Prob (F-statistic):           2.00e-31\n",
      "Time:                        23:03:23   Log-Likelihood:                -4827.3\n",
      "No. Observations:                 606   AIC:                             9691.\n",
      "Df Residuals:                     588   BIC:                             9770.\n",
      "Df Model:                          17                                         \n",
      "Covariance Type:            nonrobust                                         \n",
      "================================================================================================\n",
      "                                   coef    std err          t      P>|t|      [0.025      0.975]\n",
      "------------------------------------------------------------------------------------------------\n",
      "Intercept                      327.6278    761.812      0.430      0.667   -1168.575    1823.831\n",
      "study[T.ABIDE Caltech Site]     18.6329    791.599      0.024      0.981   -1536.073    1573.339\n",
      "study[T.ABIDE KKI Site]      -3.657e-13   1.74e-13     -2.104      0.036   -7.07e-13   -2.44e-14\n",
      "study[T.ABIDE Leuven_1 Site]     0.7030    756.750      0.001      0.999   -1485.559    1486.965\n",
      "study[T.ABIDE Leuven_2 Site]     8.8063    721.653      0.012      0.990   -1408.525    1426.137\n",
      "study[T.ABIDE MaxMun_a Site]   1.41e-13   1.97e-12      0.071      0.943   -3.73e-12    4.02e-12\n",
      "study[T.ABIDE MaxMun_c Site] -1.146e-12   9.93e-13     -1.154      0.249    -3.1e-12    8.04e-13\n",
      "study[T.ABIDE MaxMun_d Site]    13.0250   1001.292      0.013      0.990   -1953.518    1979.568\n",
      "study[T.ABIDE NYU Site]         11.1383    712.576      0.016      0.988   -1388.365    1410.642\n",
      "study[T.ABIDE OHSU Site]     -1.795e-12   2.89e-12     -0.620      0.535   -7.48e-12    3.89e-12\n",
      "study[T.ABIDE Olin Site]      9.873e-14   1.72e-13      0.575      0.566   -2.39e-13    4.36e-13\n",
      "study[T.ABIDE Pitt Site]         8.2285    720.118      0.011      0.991   -1406.087    1422.544\n",
      "study[T.ABIDE SBL Site]      -1.012e+04   1000.908    -10.112      0.000   -1.21e+04   -8155.141\n",
      "study[T.ABIDE SDSU Site]         7.2669    720.851      0.010      0.992   -1408.490    1423.024\n",
      "study[T.ABIDE Stanford Site]     4.2895    719.478      0.006      0.995   -1408.769    1417.348\n",
      "study[T.ABIDE Trinity Site]      8.0162    719.283      0.011      0.991   -1404.661    1420.693\n",
      "study[T.ABIDE UCLA_1 Site]      -2.1246    713.481     -0.003      0.998   -1403.407    1399.157\n",
      "study[T.ABIDE UCLA_2 Site]      -2.0078    722.441     -0.003      0.998   -1420.887    1416.871\n",
      "study[T.ABIDE UM_1 Site]      -384.0736    712.099     -0.539      0.590   -1782.640    1014.493\n",
      "study[T.ABIDE UM_2 Site]         8.9493    719.651      0.012      0.990   -1404.449    1422.348\n",
      "study[T.ABIDE Yale Site]       -16.9604    716.520     -0.024      0.981   -1424.211    1390.290\n",
      "study[T.ADHD200]                 2.1644    710.610      0.003      0.998   -1393.479    1397.808\n",
      "Q('caud+put')                   -0.0235      0.031     -0.754      0.451      -0.085       0.038\n",
      "==============================================================================\n",
      "Omnibus:                     1159.453   Durbin-Watson:                   2.076\n",
      "Prob(Omnibus):                  0.000   Jarque-Bera (JB):           870673.197\n",
      "Skew:                         -13.380   Prob(JB):                         0.00\n",
      "Kurtosis:                     186.755   Cond. No.                     1.97e+21\n",
      "==============================================================================\n",
      "\n",
      "Warnings:\n",
      "[1] Standard Errors assume that the covariance matrix of the errors is correctly specified.\n",
      "[2] The smallest eigenvalue is 1.44e-32. This might indicate that there are\n",
      "strong multicollinearity problems or that the design matrix is singular.\n"
     ]
    }
   ],
   "source": [
    "iq = 'PIQ'\n",
    "# md = smf.ols(iq + \" ~ Q('caud+put') + TIV + study\", data=caud_put_tiv) #  \n",
    "md = smf.ols(iq + \" ~ Q('caud+put') + study\", data=caud_put_tiv) #  \n",
    "mdf = md.fit()\n",
    "print(mdf.summary())"
   ]
  },
  {
   "cell_type": "code",
   "execution_count": 78,
   "metadata": {},
   "outputs": [
    {
     "data": {
      "image/png": "[encoded data removed]",
      "text/plain": [
       "<Figure size 432x288 with 1 Axes>"
      ]
     },
     "metadata": {
      "needs_background": "light"
     },
     "output_type": "display_data"
    }
   ],
   "source": [
    "plt.hist(list(caud_put_tiv['caud+put']), bins=50);"
   ]
  },
  {
   "cell_type": "markdown",
   "metadata": {},
   "source": [
    "### MAC-3: Left striatum volume (caudate + putamen) will not correlate with IQ in the female children group.\n"
   ]
  },
  {
   "cell_type": "code",
   "execution_count": 80,
   "metadata": {},
   "outputs": [
    {
     "name": "stdout",
     "output_type": "stream",
     "text": [
      "201532\n",
      "Caudate : tmp1 173 173\n",
      "Putamen : tmp2 173 173\n",
      "Estimated Total Intracranial Volume : tmp3 173 173\n"
     ]
    },
    {
     "data": {
      "text/plain": [
       "'http://purl.obolibrary.org/obo/UBERON_0013411'"
      ]
     },
     "execution_count": 80,
     "metadata": {},
     "output_type": "execute_result"
    }
   ],
   "source": [
    "roi1 = 'Caudate'\n",
    "roi2 = 'Putamen'\n",
    "roi3 = 'Estimated Total Intracranial Volume'\n",
    "# roi = 'cerebellar cortex'\n",
    "tool = 'surfer'\n",
    "\n",
    "# list of conditions\n",
    "#---------------------#\n",
    "hand_cond = (hie['laterality'] == 'Left')\n",
    "age_cond = (hie['Age'] <= 20)\n",
    "roi1_cond = (hie['structure'] == h2ube[roi1])\n",
    "roi2_cond = (hie['structure'] == h2ube[roi2])\n",
    "roi3_cond = (hie['structure'] == h2ube[roi3])\n",
    "\n",
    "tool_cond = (hie['tool'] == tooldic[tool])\n",
    "\n",
    "gender_cond = (hie['Gender'] == 'Female')\n",
    "\n",
    "condition1 = roi1_cond & tool_cond & age_cond & hand_cond & gender_cond\n",
    "condition2 = roi2_cond & tool_cond & age_cond & hand_cond & gender_cond\n",
    "condition3 = roi3_cond & tool_cond & age_cond & gender_cond\n",
    "\n",
    "tmp1 = tmp.loc[condition1].drop_duplicates()\n",
    "tmp2 = tmp.loc[condition2].drop_duplicates()\n",
    "tmp3 = tmp.loc[condition3].drop_duplicates()\n",
    "\n",
    "#tmp1 = tmp1.set_index('ID')\n",
    "#tmp2 = tmp2.set_index('ID')\n",
    "\n",
    "print(len(hie))\n",
    "print(roi1, ': tmp1', len(tmp1), len(tmp1.drop_duplicates()))\n",
    "print(roi2, ': tmp2', len(tmp2), len(tmp2.drop_duplicates()))\n",
    "print(roi3, ': tmp3', len(tmp3), len(tmp3.drop_duplicates()))\n",
    "h2ube[roi3]"
   ]
  },
  {
   "cell_type": "code",
   "execution_count": 82,
   "metadata": {},
   "outputs": [
    {
     "name": "stdout",
     "output_type": "stream",
     "text": [
      "['study', 'ID', 'Gender', 'Age', 'structure', 'tool', 'volume_caud', 'laterality', 'FIQ', 'PIQ', 'volume_put']\n",
      "['study', 'ID', 'Gender', 'Age', 'structure', 'tool', 'volume_caud', 'laterality', 'FIQ', 'PIQ', 'volume_put', 'TIV', 'caud+put']\n"
     ]
    }
   ],
   "source": [
    "caud_put = pd.merge(left=tmp1, right=tmp2[['ID','volume']], \n",
    "                            left_on=indx, right_on=indx, suffixes=('_caud','_put'))\n",
    "print(list(caud_put))\n",
    "set(caud_put['laterality'])\n",
    "\n",
    "caud_put_tiv = pd.merge(left=caud_put, right=tmp3[['ID','volume']],\n",
    "                     left_on=indx, right_on=indx, suffixes=('','_tiv'))\n",
    "caud_put_tiv.rename(columns={'volume':'TIV'}, inplace=True)\n",
    "caud_put_tiv['caud+put'] = caud_put_tiv['volume_caud'] + caud_put_tiv['volume_put']  \n",
    "print(list(caud_put_tiv))\n"
   ]
  },
  {
   "cell_type": "code",
   "execution_count": 84,
   "metadata": {},
   "outputs": [
    {
     "name": "stdout",
     "output_type": "stream",
     "text": [
      "                            OLS Regression Results                            \n",
      "==============================================================================\n",
      "Dep. Variable:                    PIQ   R-squared:                       0.041\n",
      "Model:                            OLS   Adj. R-squared:                 -0.054\n",
      "Method:                 Least Squares   F-statistic:                    0.4349\n",
      "Date:                Sun, 24 Nov 2019   Prob (F-statistic):              0.961\n",
      "Time:                        23:09:00   Log-Likelihood:                -1262.1\n",
      "No. Observations:                 156   AIC:                             2554.\n",
      "Df Residuals:                     141   BIC:                             2600.\n",
      "Df Model:                          14                                         \n",
      "Covariance Type:            nonrobust                                         \n",
      "================================================================================================\n",
      "                                   coef    std err          t      P>|t|      [0.025      0.975]\n",
      "------------------------------------------------------------------------------------------------\n",
      "Intercept                     -508.7313    960.901     -0.529      0.597   -2408.367    1390.904\n",
      "study[T.ABIDE Caltech Site]     25.0698   1024.689      0.024      0.981   -2000.671    2050.811\n",
      "study[T.ABIDE KKI Site]      -6.343e-10    1.1e-09     -0.579      0.564    -2.8e-09    1.53e-09\n",
      "study[T.ABIDE Leuven_2 Site]   109.4597    684.554      0.160      0.873   -1243.858    1462.777\n",
      "study[T.ABIDE NYU Site]        108.4840    635.125      0.171      0.865   -1147.115    1364.083\n",
      "study[T.ABIDE Olin Site]     -1.911e-13   1.27e-12     -0.151      0.880    -2.7e-12    2.32e-12\n",
      "study[T.ABIDE Pitt Site]        12.3537    690.176      0.018      0.986   -1352.077    1376.785\n",
      "study[T.ABIDE SDSU Site]        66.6065    690.654      0.096      0.923   -1298.770    1431.983\n",
      "study[T.ABIDE Stanford Site]   148.5297    675.158      0.220      0.826   -1186.212    1483.272\n",
      "study[T.ABIDE UCLA_1 Site]      95.5645    665.052      0.144      0.886   -1219.198    1410.327\n",
      "study[T.ABIDE UCLA_2 Site]      17.8001    832.728      0.021      0.983   -1628.446    1664.046\n",
      "study[T.ABIDE UM_1 Site]      -342.8114    618.974     -0.554      0.581   -1566.481     880.859\n",
      "study[T.ABIDE UM_2 Site]       122.3794    852.823      0.143      0.886   -1563.593    1808.352\n",
      "study[T.ABIDE Yale Site]        86.2491    633.890      0.136      0.892   -1166.908    1339.406\n",
      "study[T.ADHD200]               115.0539    622.119      0.185      0.854   -1114.834    1344.941\n",
      "Q('caud+put')                   -0.0327      0.094     -0.348      0.729      -0.218       0.153\n",
      "TIV                              0.0006      0.001      0.995      0.321      -0.001       0.002\n",
      "==============================================================================\n",
      "Omnibus:                      329.742   Durbin-Watson:                   2.080\n",
      "Prob(Omnibus):                  0.000   Jarque-Bera (JB):           128261.815\n",
      "Skew:                         -11.588   Prob(JB):                         0.00\n",
      "Kurtosis:                     141.548   Cond. No.                     1.02e+23\n",
      "==============================================================================\n",
      "\n",
      "Warnings:\n",
      "[1] Standard Errors assume that the covariance matrix of the errors is correctly specified.\n",
      "[2] The smallest eigenvalue is 2.97e-32. This might indicate that there are\n",
      "strong multicollinearity problems or that the design matrix is singular.\n"
     ]
    }
   ],
   "source": [
    "iq = 'PIQ'\n",
    "# md = smf.ols(iq + \" ~ Q('caud+put') + TIV + study\", data=caud_put_tiv) #  \n",
    "md = smf.ols(iq + \" ~ Q('caud+put') + TIV + study\", data=caud_put_tiv) #  \n",
    "mdf = md.fit()\n",
    "print(mdf.summary())"
   ]
  },
  {
   "cell_type": "code",
   "execution_count": 85,
   "metadata": {},
   "outputs": [
    {
     "data": {
      "image/png": "[encoded data removed]",
      "text/plain": [
       "<Figure size 432x288 with 1 Axes>"
      ]
     },
     "metadata": {
      "needs_background": "light"
     },
     "output_type": "display_data"
    }
   ],
   "source": [
    "plt.hist(list(caud_put_tiv['caud+put']), bins=50);"
   ]
  },
  {
   "cell_type": "markdown",
   "metadata": {},
   "source": [
    "### GANJ-1: Total Corpus Callosum midsagittal area, after correcting for total brain volume, will negatively correlate with IQ.\n"
   ]
  },
  {
   "cell_type": "code",
   "execution_count": 141,
   "metadata": {},
   "outputs": [
    {
     "name": "stdout",
     "output_type": "stream",
     "text": [
      "201532\n",
      "CC_Anterior : tmp1 1106 1106\n",
      "CC_Central : tmp2 1106 1106\n",
      "CC_Posterior : tmp3 1106 1106\n",
      "hemisphere cerebral white matter volume : wm_df 1106 1106\n",
      "Total gray matter volume : gm_df 1106 1106\n",
      "CSF : csf_df 1106 1106\n",
      "Estimated Total Intracranial Volume : tiv_df 1106 1106\n"
     ]
    }
   ],
   "source": [
    "tmp = hie[['study','ID','Gender', 'Age', 'structure','tool','volume', 'laterality', 'FIQ', 'PIQ']]\n",
    "\n",
    "roi1 = 'CC_Anterior'\n",
    "roi2 = 'CC_Central'\n",
    "roi3 = 'CC_Posterior'\n",
    "tiv = 'Estimated Total Intracranial Volume'\n",
    "wm = 'hemisphere cerebral white matter volume'\n",
    "gm = 'Total gray matter volume'\n",
    "csf = 'CSF'\n",
    "# roi = 'cerebellar cortex'\n",
    "tool = 'surfer'\n",
    "\n",
    "# list of conditions\n",
    "#---------------------#\n",
    "# hand_cond = (hie['laterality'] == 'Left')\n",
    "# age_cond = (hie['Age'] <= 20)\n",
    "roi1_cond = (tmp['structure'] == h2ube[roi1])\n",
    "roi2_cond = (tmp['structure'] == h2ube[roi2])\n",
    "roi3_cond = (tmp['structure'] == h2ube[roi3])\n",
    "tool_cond = (tmp['tool'] == tooldic[tool])\n",
    "# gender_cond = (hie['Gender'] == 'Female')\n",
    "\n",
    "wm_cond = (tmp['structure'] == h2ube[wm]) & (tmp['laterality'] != 'Left') & (tmp['laterality'] != 'Right')\n",
    "gm_cond = (tmp['structure'] == h2ube[gm])\n",
    "csf_cond = (tmp['structure'] == h2ube[csf])\n",
    "tiv_cond = (tmp['structure'] == h2ube[tiv])\n",
    "\n",
    "condition1 = roi1_cond & tool_cond \n",
    "condition2 = roi2_cond & tool_cond \n",
    "condition3 = roi3_cond & tool_cond \n",
    "\n",
    "condition_wm = wm_cond & tool_cond \n",
    "condition_gm = gm_cond & tool_cond \n",
    "condition_csf = csf_cond & tool_cond \n",
    "condition_tiv = tiv_cond & tool_cond \n",
    "\n",
    "tmp1 = tmp.loc[condition1].drop_duplicates()\n",
    "tmp2 = tmp.loc[condition2].drop_duplicates()\n",
    "tmp3 = tmp.loc[condition3].drop_duplicates()\n",
    "\n",
    "wm_df = tmp.loc[condition_wm].drop_duplicates()\n",
    "gm_df = tmp.loc[condition_gm].drop_duplicates()\n",
    "csf_df = tmp.loc[condition_csf].drop_duplicates()\n",
    "tiv_df = tmp.loc[condition_tiv].drop_duplicates()\n",
    "\n",
    "#tmp1 = tmp1.set_index('ID')\n",
    "#tmp2 = tmp2.set_index('ID')\n",
    "\n",
    "print(len(hie))\n",
    "print(roi1, ': tmp1', len(tmp1), len(tmp1.drop_duplicates()))\n",
    "print(roi2, ': tmp2', len(tmp2), len(tmp2.drop_duplicates()))\n",
    "print(roi3, ': tmp3', len(tmp3), len(tmp3.drop_duplicates()))\n",
    "print(wm, ': wm_df', len(wm_df), len(wm_df.drop_duplicates()))\n",
    "print(gm, ': gm_df', len(gm_df), len(gm_df.drop_duplicates()))\n",
    "print(csf, ': csf_df', len(csf_df), len(csf_df.drop_duplicates()))\n",
    "print(tiv, ': tiv_df', len(tiv_df), len(tiv_df.drop_duplicates()))\n"
   ]
  },
  {
   "cell_type": "code",
   "execution_count": 135,
   "metadata": {},
   "outputs": [
    {
     "name": "stdout",
     "output_type": "stream",
     "text": [
      "['study', 'ID', 'Gender', 'Age', 'structure', 'tool', 'laterality', 'FIQ', 'PIQ', 'total_brain_vol']\n"
     ]
    }
   ],
   "source": [
    "brain_tmp = pd.merge(left=gm_df, right=wm_df[['ID','volume']], left_on='ID', right_on='ID', suffixes=('_gm','_wm'))\n",
    "brain_df = pd.merge(left=brain_tmp, right=csf_df[['ID','volume']], left_on='ID', right_on='ID')\n",
    "brain_df.rename(columns={'volume':'volume_csf'}, inplace=True)\n",
    "brain_df['total_brain_vol'] = brain_df['volume_gm'] + brain_df['volume_wm'] + brain_df['volume_csf']\n",
    "brain_df.drop(['volume_gm', 'volume_wm', 'volume_csf'], axis=1, inplace=True)\n",
    "print(list(brain_df))"
   ]
  },
  {
   "cell_type": "code",
   "execution_count": 136,
   "metadata": {},
   "outputs": [
    {
     "name": "stdout",
     "output_type": "stream",
     "text": [
      "['study', 'ID', 'Gender', 'Age', 'structure', 'tool', 'laterality', 'FIQ', 'PIQ', 'cc_vol']\n"
     ]
    }
   ],
   "source": [
    "CC_tmp = pd.merge(left=tmp1, right=tmp2[['ID','volume']], left_on='ID', right_on='ID', suffixes=('_ant','_cent'))\n",
    "CC_df = pd.merge(left=CC_tmp, right=tmp3[['ID','volume']], left_on='ID', right_on='ID')\n",
    "CC_df.rename(columns={'volume':'volume_post'}, inplace=True)\n",
    "CC_df['cc_vol'] = CC_df['volume_ant'] +CC_df['volume_cent'] + CC_df['volume_post']\n",
    "CC_df.drop(['volume_ant', 'volume_cent', 'volume_post'], axis=1, inplace=True)\n",
    "print(list(CC_df))\n"
   ]
  },
  {
   "cell_type": "code",
   "execution_count": 142,
   "metadata": {},
   "outputs": [
    {
     "name": "stdout",
     "output_type": "stream",
     "text": [
      "['study', 'ID', 'Gender', 'Age', 'structure', 'tool', 'laterality', 'FIQ', 'PIQ', 'cc_vol', 'total_brain_vol']\n",
      "['study', 'ID', 'Gender', 'Age', 'structure', 'tool', 'laterality', 'FIQ', 'PIQ', 'cc_vol', 'total_brain_vol', 'TIV']\n"
     ]
    }
   ],
   "source": [
    "CC_brain_df = pd.merge(left=CC_df, right=brain_df[['ID','total_brain_vol']], left_on='ID', right_on='ID')\n",
    "print(list(CC_brain_df))\n",
    "\n",
    "CC_brain_tiv = pd.merge(left=CC_brain_df, right=tiv_df[['ID','volume']], left_on='ID', right_on='ID')\n",
    "CC_brain_tiv.rename(columns={'volume':'TIV'}, inplace=True)\n",
    "print(list(CC_brain_tiv))"
   ]
  },
  {
   "cell_type": "code",
   "execution_count": 138,
   "metadata": {},
   "outputs": [
    {
     "data": {
      "image/png": "[encoded data removed]",
      "text/plain": [
       "<Figure size 432x288 with 1 Axes>"
      ]
     },
     "metadata": {
      "needs_background": "light"
     },
     "output_type": "display_data"
    }
   ],
   "source": [
    "plt.hist(CC_brain_df['cc_vol'],bins=50);"
   ]
  },
  {
   "cell_type": "code",
   "execution_count": 146,
   "metadata": {},
   "outputs": [
    {
     "name": "stdout",
     "output_type": "stream",
     "text": [
      "                            OLS Regression Results                            \n",
      "==============================================================================\n",
      "Dep. Variable:                    FIQ   R-squared:                       0.586\n",
      "Model:                            OLS   Adj. R-squared:                  0.576\n",
      "Method:                 Least Squares   F-statistic:                     59.23\n",
      "Date:                Mon, 25 Nov 2019   Prob (F-statistic):          1.83e-180\n",
      "Time:                        00:48:38   Log-Likelihood:                -9087.7\n",
      "No. Observations:                1071   AIC:                         1.823e+04\n",
      "Df Residuals:                    1045   BIC:                         1.836e+04\n",
      "Df Model:                          25                                         \n",
      "Covariance Type:            nonrobust                                         \n",
      "================================================================================================\n",
      "                                   coef    std err          t      P>|t|      [0.025      0.975]\n",
      "------------------------------------------------------------------------------------------------\n",
      "Intercept                      906.3325    510.934      1.774      0.076     -96.242    1908.907\n",
      "study[T.ABIDE CMU_b Site]       -4.0769    457.225     -0.009      0.993    -901.261     893.108\n",
      "study[T.ABIDE Caltech Site]   -248.5144    371.275     -0.669      0.503    -977.044     480.015\n",
      "study[T.ABIDE KKI Site]        -31.9398    358.924     -0.089      0.929    -736.234     672.354\n",
      "study[T.ABIDE Leuven_1 Site]   -14.5993    390.796     -0.037      0.970    -781.434     752.236\n",
      "study[T.ABIDE Leuven_2 Site] -5.114e-13   1.46e-12     -0.350      0.727   -3.38e-12    2.36e-12\n",
      "study[T.ABIDE MaxMun_a Site]   -41.7762    423.243     -0.099      0.921    -872.279     788.726\n",
      "study[T.ABIDE MaxMun_b Site]   -34.2721    673.026     -0.051      0.959   -1354.907    1286.363\n",
      "study[T.ABIDE MaxMun_c Site]   -13.9609    434.254     -0.032      0.974    -866.070     838.148\n",
      "study[T.ABIDE MaxMun_d Site] -1461.3138    448.994     -3.255      0.001   -2342.347    -580.280\n",
      "study[T.ABIDE NYU Site]        -42.9874    334.807     -0.128      0.898    -699.958     613.983\n",
      "study[T.ABIDE OHSU Site]      -729.1969    390.654     -1.867      0.062   -1495.752      37.358\n",
      "study[T.ABIDE Olin Site]      -584.7395    374.402     -1.562      0.119   -1319.404     149.925\n",
      "study[T.ABIDE Pitt Site]        -9.6183    354.522     -0.027      0.978    -705.274     686.037\n",
      "study[T.ABIDE SBL Site]      -8420.7138    383.993    -21.929      0.000   -9174.199   -7667.229\n",
      "study[T.ABIDE SDSU Site]       -51.1002    378.254     -0.135      0.893    -793.324     691.123\n",
      "study[T.ABIDE Stanford Site]  -123.0882    376.128     -0.327      0.744    -861.140     614.964\n",
      "study[T.ABIDE Trinity Site]     38.0927    367.728      0.104      0.918    -683.476     759.662\n",
      "study[T.ABIDE UCLA_1 Site]     -70.1069    349.225     -0.201      0.841    -755.369     615.155\n",
      "study[T.ABIDE UCLA_2 Site]     -65.2623    395.357     -0.165      0.869    -841.046     710.522\n",
      "study[T.ABIDE UM_1 Site]      -443.6149    338.707     -1.310      0.191   -1108.238     221.008\n",
      "study[T.ABIDE UM_2 Site]       -50.7991    377.622     -0.135      0.893    -791.782     690.184\n",
      "study[T.ABIDE USM Site]        -39.1451   1228.314     -0.032      0.975   -2449.388    2371.098\n",
      "study[T.ABIDE Yale Site]       -84.3164    357.647     -0.236      0.814    -786.105     617.472\n",
      "study[T.ADHD200]               -47.6852    330.874     -0.144      0.885    -696.937     601.567\n",
      "Q('cc_vol')                     -0.0237      0.120     -0.198      0.843      -0.259       0.212\n",
      "total_brain_vol                 -0.0006      0.000     -1.667      0.096      -0.001       0.000\n",
      "==============================================================================\n",
      "Omnibus:                      976.064   Durbin-Watson:                   2.072\n",
      "Prob(Omnibus):                  0.000   Jarque-Bera (JB):           125558.033\n",
      "Skew:                          -3.647   Prob(JB):                         0.00\n",
      "Kurtosis:                      55.540   Cond. No.                     1.01e+16\n",
      "==============================================================================\n",
      "\n",
      "Warnings:\n",
      "[1] Standard Errors assume that the covariance matrix of the errors is correctly specified.\n",
      "[2] The smallest eigenvalue is 1.51e-17. This might indicate that there are\n",
      "strong multicollinearity problems or that the design matrix is singular.\n"
     ]
    }
   ],
   "source": [
    "iq = 'FIQ'\n",
    "# md = smf.ols(iq + \" ~ Q('caud+put') + TIV + study\", data=caud_put_tiv) #  \n",
    "#md = smf.ols(iq + \" ~ Q('cc_vol') + total_brain_vol + TIV + study\", data=CC_brain_tiv) #  \n",
    "md = smf.ols(iq + \" ~ Q('cc_vol') + total_brain_vol + study\", data=CC_brain_tiv) #  \n",
    "mdf = md.fit()\n",
    "print(mdf.summary())"
   ]
  },
  {
   "cell_type": "code",
   "execution_count": null,
   "metadata": {},
   "outputs": [],
   "source": []
  },
  {
   "cell_type": "markdown",
   "metadata": {},
   "source": [
    "### GANJ-2: Total Corpus Callosum midsagittal area, after correcting for total brain volume, will negatively correlate with IQ in the young (age < 12) group.\n"
   ]
  },
  {
   "cell_type": "code",
   "execution_count": 147,
   "metadata": {},
   "outputs": [
    {
     "name": "stdout",
     "output_type": "stream",
     "text": [
      "['study', 'ID', 'Gender', 'Age', 'structure', 'tool', 'laterality', 'FIQ', 'PIQ', 'cc_vol', 'total_brain_vol', 'TIV']\n"
     ]
    }
   ],
   "source": [
    "print(list(CC_brain_tiv))"
   ]
  },
  {
   "cell_type": "code",
   "execution_count": 153,
   "metadata": {},
   "outputs": [
    {
     "name": "stdout",
     "output_type": "stream",
     "text": [
      "                            OLS Regression Results                            \n",
      "==============================================================================\n",
      "Dep. Variable:                    FIQ   R-squared:                       0.074\n",
      "Model:                            OLS   Adj. R-squared:                  0.034\n",
      "Method:                 Least Squares   F-statistic:                     1.849\n",
      "Date:                Mon, 25 Nov 2019   Prob (F-statistic):             0.0274\n",
      "Time:                        01:16:10   Log-Likelihood:                -1487.7\n",
      "No. Observations:                 361   AIC:                             3007.\n",
      "Df Residuals:                     345   BIC:                             3070.\n",
      "Df Model:                          15                                         \n",
      "Covariance Type:            nonrobust                                         \n",
      "================================================================================================\n",
      "                                   coef    std err          t      P>|t|      [0.025      0.975]\n",
      "------------------------------------------------------------------------------------------------\n",
      "Intercept                       95.7294      9.032     10.599      0.000      77.964     113.495\n",
      "study[T.ABIDE MaxMun_c Site]    -2.0692     15.558     -0.133      0.894     -32.669      28.531\n",
      "study[T.ABIDE MaxMun_d Site]    -2.7271      5.525     -0.494      0.622     -13.594       8.140\n",
      "study[T.ABIDE NYU Site]          4.4266      3.103      1.427      0.155      -1.676      10.529\n",
      "study[T.ABIDE OHSU Site]         5.2761      3.898      1.354      0.177      -2.391      12.943\n",
      "study[T.ABIDE Olin Site]         8.5674      7.552      1.134      0.257      -6.286      23.421\n",
      "study[T.ABIDE Pitt Site]        -7.0038      8.048     -0.870      0.385     -22.833       8.825\n",
      "study[T.ABIDE SDSU Site]         6.7332     15.434      0.436      0.663     -23.623      37.089\n",
      "study[T.ABIDE Stanford Site]     8.2286      3.722      2.211      0.028       0.908      15.549\n",
      "study[T.ABIDE UCLA_1 Site]      -0.5434      3.697     -0.147      0.883      -7.814       6.727\n",
      "study[T.ABIDE UCLA_2 Site]      -1.6276      5.290     -0.308      0.759     -12.033       8.778\n",
      "study[T.ABIDE UM_1 Site]        -1.2758      3.317     -0.385      0.701      -7.799       5.248\n",
      "study[T.ABIDE Yale Site]        -4.4155      3.896     -1.133      0.258     -12.078       3.248\n",
      "study[T.ADHD200]                 6.4941      2.737      2.373      0.018       1.112      11.877\n",
      "Q('cc_vol')                     -0.0038      0.003     -1.219      0.224      -0.010       0.002\n",
      "total_brain_vol                1.64e-05   7.85e-06      2.090      0.037    9.65e-07    3.18e-05\n",
      "==============================================================================\n",
      "Omnibus:                        2.794   Durbin-Watson:                   2.094\n",
      "Prob(Omnibus):                  0.247   Jarque-Bera (JB):                2.647\n",
      "Skew:                          -0.209   Prob(JB):                        0.266\n",
      "Kurtosis:                       3.043   Cond. No.                     2.31e+07\n",
      "==============================================================================\n",
      "\n",
      "Warnings:\n",
      "[1] Standard Errors assume that the covariance matrix of the errors is correctly specified.\n",
      "[2] The condition number is large, 2.31e+07. This might indicate that there are\n",
      "strong multicollinearity or other numerical problems.\n"
     ]
    }
   ],
   "source": [
    "age_cond = (CC_brain_tiv['Age'] <= 12)\n",
    "tmp = CC_brain_tiv.loc[age_cond]\n",
    "\n",
    "md = smf.ols(iq + \" ~ Q('cc_vol') + total_brain_vol + study \", data=tmp)\n",
    "mdf = md.fit()\n",
    "print(mdf.summary())"
   ]
  },
  {
   "cell_type": "code",
   "execution_count": null,
   "metadata": {},
   "outputs": [],
   "source": []
  }
 ],
 "metadata": {
  "kernelspec": {
   "display_name": "Python 3",
   "language": "python",
   "name": "python3"
  },
  "language_info": {
   "codemirror_mode": {
    "name": "ipython",
    "version": 3
   },
   "file_extension": ".py",
   "mimetype": "text/x-python",
   "name": "python",
   "nbconvert_exporter": "python",
   "pygments_lexer": "ipython3",
   "version": "3.6.8"
  },
  "toc": {
   "nav_menu": {},
   "number_sections": true,
   "sideBar": true,
   "skip_h1_title": false,
   "toc_cell": false,
   "toc_position": {},
   "toc_section_display": "block",
   "toc_window_display": false
  }
 },
 "nbformat": 4,
 "nbformat_minor": 2
}
