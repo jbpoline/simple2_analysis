{
 "cells": [
  {
   "cell_type": "markdown",
   "metadata": {},
   "source": [
    "# wrangling with the csv"
   ]
  },
  {
   "cell_type": "code",
   "execution_count": 1,
   "metadata": {},
   "outputs": [],
   "source": [
    "import pandas as pd\n",
    "import numpy as np\n",
    "# import statsmodels.discrete.discrete_model as sm\n",
    "import statsmodels as stt\n",
    "import scipy.stats as sst\n",
    "import os.path as osp"
   ]
  },
  {
   "cell_type": "code",
   "execution_count": 2,
   "metadata": {},
   "outputs": [],
   "source": [
    "from statsmodels import api as sm\n",
    "import statsmodels.formula.api as smf\n",
    "import matplotlib.pyplot as plt\n",
    "import json\n",
    "%matplotlib inline"
   ]
  },
  {
   "cell_type": "markdown",
   "metadata": {},
   "source": [
    "### read the mapping file to find the correspondance between uberon numbers and labels"
   ]
  },
  {
   "cell_type": "code",
   "execution_count": 3,
   "metadata": {},
   "outputs": [],
   "source": [
    "# find mapping file\n",
    "# mapping_file = '../segstats_jsonld/segstats_jsonld/mapping_data/freesurfermap.json'\n",
    "mapping_file = '../segstats_jsonld/segstats_jsonld/mapping_data/freesurfer-cdes.json'\n",
    "assert osp.exists(mapping_file)\n",
    "with open(mapping_file, \"r\") as read_file:\n",
    "    roi_map = json.load(read_file)"
   ]
  },
  {
   "cell_type": "code",
   "execution_count": 4,
   "metadata": {},
   "outputs": [
    {
     "name": "stdout",
     "output_type": "stream",
     "text": [
      "3580\n",
      "['count', \"FS(structure='Cortex', hemi=None, measure='NumVert', unit='unitless')\", \"FS(structure='Cortex', hemi=None, measure='WhiteSurfArea', unit='mm^2')\", \"FS(structure='BrainSeg', hemi=None, measure='BrainSegVol', unit='mm^3')\", \"FS(structure='BrainSegNotVent', hemi=None, measure='BrainSegVolNotVent', unit='mm^3')\", \"FS(structure='BrainSegNotVentSurf', hemi=None, measure='BrainSegVolNotVentSurf', unit='mm^3')\", \"FS(structure='Cortex', hemi=None, measure='CortexVol', unit='mm^3')\", \"FS(structure='SupraTentorial', hemi=None, measure='SupraTentorialVol', unit='mm^3')\", \"FS(structure='SupraTentorialNotVent', hemi=None, measure='SupraTentorialVolNotVent', unit='mm^3')\", \"FS(structure='EstimatedTotalIntraCranialVol', hemi=None, measure='eTIV', unit='mm^3')\"]\n",
      "{'id': '000010', 'structure_id': 410, 'label': 'Right BA1_exvivo NumVert', 'description': 'Right BA1_exvivo Number of Vertices (unitless)', 'key_source': 'Table', 'measureOf': 'http://uri.interlex.org/base/ilx_0112559', 'datumType': 'http://uri.interlex.org/base/ilx_0102597', 'hasUnit': 'vertex', 'fsunit': 'unitless'}\n"
     ]
    }
   ],
   "source": [
    "print(len(list(roi_map.keys())))\n",
    "print(list(roi_map.keys())[:10])\n",
    "#print(list(roi_map['Anatomy'].keys())[:10])\n",
    "#print(len(roi_map['Anatomy'].keys()))\n",
    "print(roi_map[list(roi_map.keys())[10]])"
   ]
  },
  {
   "cell_type": "code",
   "execution_count": 5,
   "metadata": {},
   "outputs": [
    {
     "name": "stdout",
     "output_type": "stream",
     "text": [
      "<class 'dict'>\n"
     ]
    }
   ],
   "source": [
    "for k,v in roi_map.items():\n",
    "    # print(k,\"->\",v)\n",
    "    pass\n",
    "v = {1:2}\n",
    "print(type(v))\n"
   ]
  },
  {
   "cell_type": "code",
   "execution_count": 6,
   "metadata": {},
   "outputs": [
    {
     "name": "stdout",
     "output_type": "stream",
     "text": [
      "[]\n",
      "262 262\n"
     ]
    }
   ],
   "source": [
    "# ube is a dictionary that maps uberon to label of structure\n",
    "ube = {}\n",
    "ebu = {}\n",
    "countok=0\n",
    "has_no_isAbout = []\n",
    "has_no_label = []\n",
    "\n",
    "for (k,v) in roi_map.items():\n",
    "    if k == 'count': pass\n",
    "\n",
    "    # v is a dict that contains the CDE - check that we have a isAbout\n",
    "    #if ('isAbout' not in v) or (v['isAbout'] == '') or (v['isAbout'] in ('None','none')):\n",
    "    #    has_no_isAbout.append(k)\n",
    "    #    break\n",
    "        \n",
    "    elif 'isAbout' in v:\n",
    "        countok += 1\n",
    "        if 'label' in v:\n",
    "            if v['label'] != '' and v['label'] not in ('None','none'):\n",
    "                #ube['<' + v['isAbout'] + '>'] = v['label']\n",
    "                #ebu[v['label']] = '<' + v['isAbout'] + '>'\n",
    "                ebu[v['label']] = v['isAbout']\n",
    "                if v['isAbout'] not in ube.keys():\n",
    "                    no_right_or_left = v['label']\n",
    "                    no_right_or_left = no_right_or_left.replace('Right-','')\n",
    "                    no_right_or_left = no_right_or_left.replace('Right ','')\n",
    "                    no_right_or_left = no_right_or_left.replace('Left-','')\n",
    "                    no_right_or_left = no_right_or_left.replace('Left ','')\n",
    "                    no_right_or_left = no_right_or_left.replace(' NVoxels','')\n",
    "                    no_right_or_left = no_right_or_left.replace(' (mm^3)','')\n",
    "                    ube[v['isAbout']] = no_right_or_left\n",
    "            else:\n",
    "                has_no_label.append(k)\n",
    "\n",
    "print(has_no_isAbout)\n",
    "#print(ube)\n",
    "#print(ebu)\n",
    "print(countok , len(ebu))"
   ]
  },
  {
   "cell_type": "code",
   "execution_count": 7,
   "metadata": {},
   "outputs": [
    {
     "data": {
      "text/plain": [
       "{'http://purl.obolibrary.org/obo/UBERON_0000956': 'Number of Vertices',\n",
       " 'http://purl.obolibrary.org/obo/UBERON_0000955': 'Brain Segmentation Volume',\n",
       " 'http://purl.obolibrary.org/obo/UBERON_0001869': 'Supratentorial volume',\n",
       " 'http://purl.obolibrary.org/obo/UBERON_0013411': 'Estimated Total Intracranial Volume',\n",
       " 'http://purl.obolibrary.org/obo/UBERON_0002437': 'hemisphere cerebral white matter volume',\n",
       " 'http://purl.obolibrary.org/obo/UBERON_0005401': 'Total gray matter volume',\n",
       " 'http://purl.obolibrary.org/obo/UBERON_0002285': 'Lateral-Ventricle',\n",
       " 'http://purl.obolibrary.org/obo/UBERON_0006091': 'Inf-Lat-Vent',\n",
       " 'http://purl.obolibrary.org/obo/UBERON_0002317': 'Cerebellum-White-Matter',\n",
       " 'http://purl.obolibrary.org/obo/UBERON_0002129': 'Cerebellum-Cortex',\n",
       " 'http://purl.obolibrary.org/obo/UBERON_0001897': 'Thalamus-Proper',\n",
       " 'http://purl.obolibrary.org/obo/UBERON_0001873': 'Caudate',\n",
       " 'http://purl.obolibrary.org/obo/UBERON_0001874': 'Putamen',\n",
       " 'http://purl.obolibrary.org/obo/UBERON_0006514': 'Pallidum',\n",
       " 'http://purl.obolibrary.org/obo/UBERON_0002286': '3rd-Ventricle',\n",
       " 'http://purl.obolibrary.org/obo/UBERON_0002422': '4th-Ventricle',\n",
       " 'http://purl.obolibrary.org/obo/UBERON_0002298': 'Brain-Stem',\n",
       " 'http://purl.obolibrary.org/obo/UBERON_0001954': 'Hippocampus',\n",
       " 'http://purl.obolibrary.org/obo/UBERON_0001876': 'Amygdala',\n",
       " 'http://purl.obolibrary.org/obo/UBERON_0001359': 'CSF',\n",
       " 'http://purl.obolibrary.org/obo/UBERON_0001882': 'Accumbens-area',\n",
       " 'http://purl.obolibrary.org/obo/UBERON_0001981': 'vessel',\n",
       " 'http://purl.obolibrary.org/obo/UBERON_0001886': 'choroid-plexus',\n",
       " 'http://purl.obolibrary.org/obo/UBERON_0009857': '5th-Ventricle',\n",
       " 'http://purl.obolibrary.org/obo/UBERON_0000959': 'Optic-Chiasm',\n",
       " 'http://purl.obolibrary.org/obo/UBERON_0015708': 'CC_Posterior',\n",
       " 'http://purl.obolibrary.org/obo/UBERON_0002336': 'CC_Central',\n",
       " 'http://purl.obolibrary.org/obo/UBERON_0015599': 'CC_Anterior'}"
      ]
     },
     "execution_count": 7,
     "metadata": {},
     "output_type": "execute_result"
    }
   ],
   "source": [
    "ube"
   ]
  },
  {
   "cell_type": "code",
   "execution_count": 8,
   "metadata": {},
   "outputs": [],
   "source": [
    "#\n",
    "\"\"\"\n",
    "ube = {}\n",
    "has_no_isAbout = []\n",
    "for (k,v) in roi_map['Anatomy'].items():\n",
    "    if v['isAbout'] != '' or v['isAbout'] in ('None','none'):\n",
    "        if v['label'] != '' and v['label'] not in ('None','none'):\n",
    "            ube['<' + v['isAbout'] + '>'] = v['label']\n",
    "        else:\n",
    "            if '<' + v['isAbout'] + '>' not in ube.keys():\n",
    "                if v['hasLaterality'] in ('Right','Left'):\n",
    "                    ube['<' + v['isAbout'] + '>'] = 'strip-Right-Left-of-'+k\n",
    "                else:\n",
    "                    ube['<' + v['isAbout'] + '>'] = k\n",
    "    else:\n",
    "        #print(k, 'has no isAbout')\n",
    "        has_no_isAbout.append(k)\n",
    "print(has_no_isAbout)\n",
    "\"\"\";"
   ]
  },
  {
   "cell_type": "code",
   "execution_count": 9,
   "metadata": {},
   "outputs": [
    {
     "data": {
      "text/plain": [
       "[('http://purl.obolibrary.org/obo/UBERON_0000956', 'Number of Vertices'),\n",
       " ('http://purl.obolibrary.org/obo/UBERON_0000955',\n",
       "  'Brain Segmentation Volume'),\n",
       " ('http://purl.obolibrary.org/obo/UBERON_0001869', 'Supratentorial volume'),\n",
       " ('http://purl.obolibrary.org/obo/UBERON_0013411',\n",
       "  'Estimated Total Intracranial Volume'),\n",
       " ('http://purl.obolibrary.org/obo/UBERON_0002437',\n",
       "  'hemisphere cerebral white matter volume')]"
      ]
     },
     "execution_count": 9,
     "metadata": {},
     "output_type": "execute_result"
    }
   ],
   "source": [
    "list(zip(list(ube)[:5],list(ube.values())[:5]))"
   ]
  },
  {
   "cell_type": "markdown",
   "metadata": {},
   "source": [
    "### Read CSV file "
   ]
  },
  {
   "cell_type": "code",
   "execution_count": 10,
   "metadata": {},
   "outputs": [
    {
     "name": "stdout",
     "output_type": "stream",
     "text": [
      "/home/jb/code/repronim/simple2/simple2_analysis\n"
     ]
    }
   ],
   "source": [
    "print(osp.realpath(osp.curdir))\n",
    "relative_path_filename = './data/data.csv'\n",
    "assert osp.exists(relative_path_filename)"
   ]
  },
  {
   "cell_type": "code",
   "execution_count": 11,
   "metadata": {},
   "outputs": [
    {
     "name": "stdout",
     "output_type": "stream",
     "text": [
      "['rowid', 'study', 'ID', 'Age', 'dx', 'Gender', 'FIQ', 'PIQ', 'VIQ', 'tool', 'softwareLabel', 'federatedLabel', 'laterality', 'volume']\n"
     ]
    },
    {
     "name": "stderr",
     "output_type": "stream",
     "text": [
      "/home/jb/virtualenvs/simple2/lib/python3.6/site-packages/IPython/core/interactiveshell.py:3049: DtypeWarning: Columns (4) have mixed types. Specify dtype option on import or set low_memory=False.\n",
      "  interactivity=interactivity, compiler=compiler, result=result)\n"
     ]
    }
   ],
   "source": [
    "hie = pd.read_csv(relative_path_filename, na_values='nd') #, low_memory=False)\n",
    "original_col_names = list(hie)\n",
    "print(original_col_names)\n",
    "assert len(original_col_names) == len(set(original_col_names))\n"
   ]
  },
  {
   "cell_type": "code",
   "execution_count": 12,
   "metadata": {},
   "outputs": [],
   "source": [
    "# col_rename = {'softwareLabel':'software', 'federatedLabel':'structure'}\n",
    "col_rename = {'federatedLabel':'structure'}\n",
    "hie.rename(columns=col_rename, inplace=True)"
   ]
  },
  {
   "cell_type": "code",
   "execution_count": 22,
   "metadata": {},
   "outputs": [
    {
     "name": "stdout",
     "output_type": "stream",
     "text": [
      "989\n",
      "234\n"
     ]
    }
   ],
   "source": [
    "# how many abide / adhd ?\n",
    "cond = (hie['study'].str.contains(\"ABIDE\"))\n",
    "print(len(set(hie[cond]['ID'])))\n",
    "# print(set(hie['study']))\n",
    "cond = (hie['study'] == 'ADHD200')\n",
    "print(len(set(hie[cond]['ID'])))\n"
   ]
  },
  {
   "cell_type": "code",
   "execution_count": 23,
   "metadata": {},
   "outputs": [
    {
     "name": "stdout",
     "output_type": "stream",
     "text": [
      "{nan, 'http://purl.obolibrary.org/obo/UBERON_0005401', 'http://purl.obolibrary.org/obo/UBERON_0002422', 'http://purl.obolibrary.org/obo/UBERON_0001981', 'http://purl.obolibrary.org/obo/UBERON_0006091', 'http://purl.obolibrary.org/obo/UBERON_0001954', 'http://purl.obolibrary.org/obo/UBERON_0002437', 'http://purl.obolibrary.org/obo/UBERON_0001869', 'http://purl.obolibrary.org/obo/UBERON_0000959', 'http://purl.obolibrary.org/obo/UBERON_0001882', 'http://purl.obolibrary.org/obo/UBERON_0001874', 'http://purl.obolibrary.org/obo/UBERON_0002298', 'http://purl.obolibrary.org/obo/UBERON_0001886', 'http://purl.obolibrary.org/obo/UBERON_0006514', 'http://purl.obolibrary.org/obo/UBERON_0001876', 'http://purl.obolibrary.org/obo/UBERON_0001873', 'http://purl.obolibrary.org/obo/UBERON_0001897', 'http://purl.obolibrary.org/obo/UBERON_0015599', 'http://purl.obolibrary.org/obo/UBERON_0000955', 'http://purl.obolibrary.org/obo/UBERON_0001359', 'http://purl.obolibrary.org/obo/UBERON_0002129', 'http://purl.obolibrary.org/obo/UBERON_0002286', 'http://purl.obolibrary.org/obo/UBERON_0002317', 'http://purl.obolibrary.org/obo/UBERON_0009857', 'http://purl.obolibrary.org/obo/UBERON_0002285', 'http://purl.obolibrary.org/obo/UBERON_0002336', 'http://purl.obolibrary.org/obo/UBERON_0013411', 'http://purl.obolibrary.org/obo/UBERON_0015708', 'http://purl.obolibrary.org/obo/UBERON_0000956'}\n"
     ]
    }
   ],
   "source": [
    "# Structure in the csv should contain the uberon identifier for the structure\n",
    "structures = set(hie.structure)\n",
    "print(structures)"
   ]
  },
  {
   "cell_type": "code",
   "execution_count": 24,
   "metadata": {},
   "outputs": [
    {
     "name": "stdout",
     "output_type": "stream",
     "text": [
      "1 http://purl.obolibrary.org/obo/UBERON_0005401 Total gray matter volume\n",
      "2 http://purl.obolibrary.org/obo/UBERON_0002422 4th-Ventricle\n",
      "3 http://purl.obolibrary.org/obo/UBERON_0001981 vessel\n",
      "4 http://purl.obolibrary.org/obo/UBERON_0006091 Inf-Lat-Vent\n",
      "5 http://purl.obolibrary.org/obo/UBERON_0001954 Hippocampus\n",
      "6 http://purl.obolibrary.org/obo/UBERON_0002437 hemisphere cerebral white matter volume\n",
      "7 http://purl.obolibrary.org/obo/UBERON_0001869 Supratentorial volume\n",
      "8 http://purl.obolibrary.org/obo/UBERON_0000959 Optic-Chiasm\n",
      "9 http://purl.obolibrary.org/obo/UBERON_0001882 Accumbens-area\n",
      "10 http://purl.obolibrary.org/obo/UBERON_0001874 Putamen\n",
      "11 http://purl.obolibrary.org/obo/UBERON_0002298 Brain-Stem\n",
      "12 http://purl.obolibrary.org/obo/UBERON_0001886 choroid-plexus\n",
      "13 http://purl.obolibrary.org/obo/UBERON_0006514 Pallidum\n",
      "14 http://purl.obolibrary.org/obo/UBERON_0001876 Amygdala\n",
      "15 http://purl.obolibrary.org/obo/UBERON_0001873 Caudate\n",
      "16 http://purl.obolibrary.org/obo/UBERON_0001897 Thalamus-Proper\n",
      "17 http://purl.obolibrary.org/obo/UBERON_0015599 CC_Anterior\n",
      "18 http://purl.obolibrary.org/obo/UBERON_0000955 Brain Segmentation Volume\n",
      "19 http://purl.obolibrary.org/obo/UBERON_0001359 CSF\n",
      "20 http://purl.obolibrary.org/obo/UBERON_0002129 Cerebellum-Cortex\n",
      "21 http://purl.obolibrary.org/obo/UBERON_0002286 3rd-Ventricle\n",
      "22 http://purl.obolibrary.org/obo/UBERON_0002317 Cerebellum-White-Matter\n",
      "23 http://purl.obolibrary.org/obo/UBERON_0009857 5th-Ventricle\n",
      "24 http://purl.obolibrary.org/obo/UBERON_0002285 Lateral-Ventricle\n",
      "25 http://purl.obolibrary.org/obo/UBERON_0002336 CC_Central\n",
      "26 http://purl.obolibrary.org/obo/UBERON_0013411 Estimated Total Intracranial Volume\n",
      "27 http://purl.obolibrary.org/obo/UBERON_0015708 CC_Posterior\n",
      "28 http://purl.obolibrary.org/obo/UBERON_0000956 Number of Vertices\n"
     ]
    },
    {
     "data": {
      "text/plain": [
       "(28, 28)"
      ]
     },
     "execution_count": 24,
     "metadata": {},
     "output_type": "execute_result"
    }
   ],
   "source": [
    "# for each structure found in the csv, give it the name of the structure found\n",
    "# in the CDE mapping file \n",
    "\n",
    "ube2h = {}\n",
    "\n",
    "for idx, s in enumerate(structures):\n",
    "    if s is not np.nan:\n",
    "        ube2h[s] = ube[s]\n",
    "        print(idx, s, ube2h[s])\n",
    "\n",
    "len(ube), len(ube2h)"
   ]
  },
  {
   "cell_type": "code",
   "execution_count": 25,
   "metadata": {},
   "outputs": [],
   "source": [
    "\"\"\"\n",
    "looking at the class name from the purl urls I got :\n",
    "\n",
    "u2human[list(u2human.keys())[0]] = 'cavum septum pellucidum'\n",
    "u2human[list(u2human.keys())[1]] = 'cerebellum'\n",
    "u2human[list(u2human.keys())[2]] = 'cerebellar cortex'\n",
    "u2human[list(u2human.keys())[3]] = 'perivascular space'\n",
    "u2human[list(u2human.keys())[4]] = \"Ammon's horn\"\n",
    "u2human[list(u2human.keys())[5]] = \"inferior horn of the lateral ventricle\"\n",
    "u2human[list(u2human.keys())[6]] = \"brainstem\"\n",
    "u2human[list(u2human.keys())[7]] = \"amygdala\"\n",
    "u2human[list(u2human.keys())[8]] = \"optic chiasma\"\n",
    "u2human[list(u2human.keys())[9]] = \"dorsal plus ventral thalamus\"\n",
    "u2human[list(u2human.keys())[10]] = \"cerebral hemisphere\"\n",
    "u2human[list(u2human.keys())[11]] = \"caudate nucleus\"\n",
    "u2human[list(u2human.keys())[12]] = \"telencephalic ventricle\"\n",
    "u2human[list(u2human.keys())[13]] = \"putamen\"\n",
    "u2human[list(u2human.keys())[14]] = \"third ventricle\"\n",
    "u2human[list(u2human.keys())[15]] = \"choroid plexus\"\n",
    "u2human[list(u2human.keys())[16]] = \"fourth ventricle\"\n",
    "u2human[list(u2human.keys())[17]] = \"pallidum\"\n",
    "u2human[list(u2human.keys())[18]] = \"nucleus accumbens\"\n",
    "\"\"\";"
   ]
  },
  {
   "cell_type": "code",
   "execution_count": 26,
   "metadata": {},
   "outputs": [
    {
     "data": {
      "text/plain": [
       "set()"
      ]
     },
     "execution_count": 26,
     "metadata": {},
     "output_type": "execute_result"
    }
   ],
   "source": [
    "set1 = {'<http://purl.obolibrary.org/obo/UBERON_0000959>', \n",
    "'<http://purl.obolibrary.org/obo/UBERON_0002422>', \n",
    "'<http://purl.obolibrary.org/obo/UBERON_0009857>', \n",
    "'<http://purl.obolibrary.org/obo/UBERON_0001869>', \n",
    "'<http://purl.obolibrary.org/obo/UBERON_0002129>', \n",
    "'<http://purl.obolibrary.org/obo/UBERON_0001882>', \n",
    "'<http://purl.obolibrary.org/obo/UBERON_0001886>', \n",
    "'<http://purl.obolibrary.org/obo/UBERON_0006091>', \n",
    "'<http://purl.obolibrary.org/obo/UBERON_0002286>', \n",
    "'<http://purl.obolibrary.org/obo/UBERON_0002298>', \n",
    "'<http://purl.obolibrary.org/obo/UBERON_0001897>', \n",
    "'<http://purl.obolibrary.org/obo/UBERON_0001954>', \n",
    "'<http://purl.obolibrary.org/obo/UBERON_0001873>', \n",
    "'<http://purl.obolibrary.org/obo/UBERON_0014930>', \n",
    "'<http://purl.obolibrary.org/obo/UBERON_0001874>', \n",
    "'<http://purl.obolibrary.org/obo/UBERON_0001876>', \n",
    "'<http://purl.obolibrary.org/obo/UBERON_0006514>', \n",
    "'<http://purl.obolibrary.org/obo/UBERON_0002037>', \n",
    "'<http://purl.obolibrary.org/obo/UBERON_0002285>'};\n",
    "set2 = set(ube2h.keys())\n",
    "set3 = set(ube.keys())\n",
    "#set1 ^ set2\n",
    "#set2 ^ set3\n",
    "set(ube.values()) ^ set(ube2h.values())"
   ]
  },
  {
   "cell_type": "code",
   "execution_count": 27,
   "metadata": {},
   "outputs": [],
   "source": [
    "h2ube = {v: k for k, v in ube2h.items()}\n",
    "#print(h2uberon)"
   ]
  },
  {
   "cell_type": "code",
   "execution_count": null,
   "metadata": {},
   "outputs": [],
   "source": []
  },
  {
   "cell_type": "code",
   "execution_count": 28,
   "metadata": {
    "scrolled": false
   },
   "outputs": [
    {
     "data": {
      "text/html": [
       "<div>\n",
       "<style scoped>\n",
       "    .dataframe tbody tr th:only-of-type {\n",
       "        vertical-align: middle;\n",
       "    }\n",
       "\n",
       "    .dataframe tbody tr th {\n",
       "        vertical-align: top;\n",
       "    }\n",
       "\n",
       "    .dataframe thead th {\n",
       "        text-align: right;\n",
       "    }\n",
       "</style>\n",
       "<table border=\"1\" class=\"dataframe\">\n",
       "  <thead>\n",
       "    <tr style=\"text-align: right;\">\n",
       "      <th></th>\n",
       "      <th>rowid</th>\n",
       "      <th>study</th>\n",
       "      <th>ID</th>\n",
       "      <th>Age</th>\n",
       "      <th>dx</th>\n",
       "      <th>Gender</th>\n",
       "      <th>FIQ</th>\n",
       "      <th>PIQ</th>\n",
       "      <th>VIQ</th>\n",
       "      <th>tool</th>\n",
       "      <th>softwareLabel</th>\n",
       "      <th>structure</th>\n",
       "      <th>laterality</th>\n",
       "      <th>volume</th>\n",
       "    </tr>\n",
       "  </thead>\n",
       "  <tbody>\n",
       "    <tr>\n",
       "      <th>0</th>\n",
       "      <td>0</td>\n",
       "      <td>ABIDE SDSU Site</td>\n",
       "      <td>50215</td>\n",
       "      <td>16.88</td>\n",
       "      <td>2</td>\n",
       "      <td>Female</td>\n",
       "      <td>117.0</td>\n",
       "      <td>120.0</td>\n",
       "      <td>110.0</td>\n",
       "      <td>https://surfer.nmr.mgh.harvard.edu/</td>\n",
       "      <td>Right-Thalamus-Proper Volume_mm3 (mm^3)</td>\n",
       "      <td>http://purl.obolibrary.org/obo/UBERON_0001897</td>\n",
       "      <td>Right</td>\n",
       "      <td>7041.7</td>\n",
       "    </tr>\n",
       "    <tr>\n",
       "      <th>1</th>\n",
       "      <td>1</td>\n",
       "      <td>ABIDE SDSU Site</td>\n",
       "      <td>50215</td>\n",
       "      <td>16.88</td>\n",
       "      <td>2</td>\n",
       "      <td>Female</td>\n",
       "      <td>117.0</td>\n",
       "      <td>120.0</td>\n",
       "      <td>110.0</td>\n",
       "      <td>https://surfer.nmr.mgh.harvard.edu/</td>\n",
       "      <td>5th-Ventricle Volume_mm3 (mm^3)</td>\n",
       "      <td>http://purl.obolibrary.org/obo/UBERON_0009857</td>\n",
       "      <td>NaN</td>\n",
       "      <td>0.0</td>\n",
       "    </tr>\n",
       "    <tr>\n",
       "      <th>2</th>\n",
       "      <td>2</td>\n",
       "      <td>ABIDE SDSU Site</td>\n",
       "      <td>50215</td>\n",
       "      <td>16.88</td>\n",
       "      <td>2</td>\n",
       "      <td>Female</td>\n",
       "      <td>117.0</td>\n",
       "      <td>120.0</td>\n",
       "      <td>110.0</td>\n",
       "      <td>https://surfer.nmr.mgh.harvard.edu/</td>\n",
       "      <td>Left-non-WM-hypointensities Volume_mm3 (mm^3)</td>\n",
       "      <td>NaN</td>\n",
       "      <td>Left</td>\n",
       "      <td>0.0</td>\n",
       "    </tr>\n",
       "  </tbody>\n",
       "</table>\n",
       "</div>"
      ],
      "text/plain": [
       "   rowid            study     ID    Age dx  Gender    FIQ    PIQ    VIQ  \\\n",
       "0      0  ABIDE SDSU Site  50215  16.88  2  Female  117.0  120.0  110.0   \n",
       "1      1  ABIDE SDSU Site  50215  16.88  2  Female  117.0  120.0  110.0   \n",
       "2      2  ABIDE SDSU Site  50215  16.88  2  Female  117.0  120.0  110.0   \n",
       "\n",
       "                                  tool  \\\n",
       "0  https://surfer.nmr.mgh.harvard.edu/   \n",
       "1  https://surfer.nmr.mgh.harvard.edu/   \n",
       "2  https://surfer.nmr.mgh.harvard.edu/   \n",
       "\n",
       "                                   softwareLabel  \\\n",
       "0        Right-Thalamus-Proper Volume_mm3 (mm^3)   \n",
       "1                5th-Ventricle Volume_mm3 (mm^3)   \n",
       "2  Left-non-WM-hypointensities Volume_mm3 (mm^3)   \n",
       "\n",
       "                                       structure laterality  volume  \n",
       "0  http://purl.obolibrary.org/obo/UBERON_0001897      Right  7041.7  \n",
       "1  http://purl.obolibrary.org/obo/UBERON_0009857        NaN     0.0  \n",
       "2                                            NaN       Left     0.0  "
      ]
     },
     "execution_count": 28,
     "metadata": {},
     "output_type": "execute_result"
    }
   ],
   "source": [
    "hie.head(3)"
   ]
  },
  {
   "cell_type": "code",
   "execution_count": null,
   "metadata": {},
   "outputs": [],
   "source": []
  },
  {
   "cell_type": "markdown",
   "metadata": {},
   "source": [
    "## hypotheses"
   ]
  },
  {
   "cell_type": "markdown",
   "metadata": {},
   "source": [
    "Hypotheses\n",
    "\n",
    "PIET-1: Total Brain Volume will positively correlate with IQ (in both sexes across the complete age range).\n",
    "\n",
    "MAC-1: Left striatum volume (caudate + putamen) will positively correlate with IQ in the total (male + female) child (age < 20) group.\n",
    "\n",
    "MAC-2: Left striatum volume (caudate + putamen) will positively correlate with IQ in the male children group.\n",
    "\n",
    "MAC-3: Left striatum volume (caudate + putamen) will not correlate with IQ in the female children group.\n",
    "\n",
    "GANJ-1: Total Corpus Callosum midsagittal area, after correcting for total brain volume, will negatively correlate with IQ.\n",
    "\n",
    "GANJ-2: Total Corpus Callosum midsagittal area, after correcting for total brain volume, will negatively correlate with IQ in the young (age < 12) group.\n",
    "\n",
    "GANJ-3: Total Corpus Callosum midsagittal area, after correcting for total brain volume, will not significantly correlate with IQ in the adolescent (age > 12) group.\n",
    "\n",
    "GANJ-4:. Total Corpus Callosum midsagittal area, after correcting for total brain volume, will negatively correlate with IQ in the male (age < 12) group.\n",
    "\n",
    "GANJ-5: Total Corpus Callosum midsagittal area, after correcting for total brain volume, will not significantly correlate with IQ in the female (age < 12) group.\n"
   ]
  },
  {
   "cell_type": "code",
   "execution_count": null,
   "metadata": {},
   "outputs": [],
   "source": []
  },
  {
   "cell_type": "markdown",
   "metadata": {},
   "source": [
    "## Analyses"
   ]
  },
  {
   "cell_type": "markdown",
   "metadata": {},
   "source": [
    "### sandbox"
   ]
  },
  {
   "cell_type": "code",
   "execution_count": 29,
   "metadata": {},
   "outputs": [
    {
     "name": "stdout",
     "output_type": "stream",
     "text": [
      "http://purl.obolibrary.org/obo/UBERON_0001873\n"
     ]
    }
   ],
   "source": [
    "u_caudate = h2ube['Caudate']\n",
    "print(u_caudate)"
   ]
  },
  {
   "cell_type": "code",
   "execution_count": 30,
   "metadata": {},
   "outputs": [
    {
     "data": {
      "text/plain": [
       "{'Female', 'Male'}"
      ]
     },
     "execution_count": 30,
     "metadata": {},
     "output_type": "execute_result"
    }
   ],
   "source": [
    "set(hie['Gender'])"
   ]
  },
  {
   "cell_type": "code",
   "execution_count": 31,
   "metadata": {},
   "outputs": [],
   "source": [
    "# df.loc[(df['column_name'] >= A) & (df['column_name'] <= B)]\n",
    "\n",
    "# tmp = hie[hie.structure==u_caudate][hie.Gender=='1']\n",
    "# tmp = hie.loc[(hie['Gender']=='1')] # & (hie['Gender']=='Male')]\n",
    "\n",
    "# Male or '1' for caudate\n",
    "#tmp = hie.loc[((hie['Gender']=='1') | (hie['Gender']=='Male')) \n",
    "#tmp = hie.loc[( hie['Gender']=='Male' ) \n",
    "#                    & (hie['structure'] == u_caudate ) \n",
    "#                    & (hie['tool']==tooldic['surfer'])]\n"
   ]
  },
  {
   "cell_type": "code",
   "execution_count": 32,
   "metadata": {},
   "outputs": [
    {
     "name": "stdout",
     "output_type": "stream",
     "text": [
      "['rowid', 'study', 'ID', 'Age', 'dx', 'Gender', 'FIQ', 'PIQ', 'VIQ', 'tool', 'softwareLabel', 'structure', 'laterality', 'volume']\n",
      "\n",
      "\n",
      "{'http://purl.org/nidash/fsl#', 'http://stnava.github.io/ANTs/', 'https://surfer.nmr.mgh.harvard.edu/'}\n",
      "{nan, 1, 2, 'LD, CD', 'SAD (previous)', 'LD, ODD', 'ADHD-Inattentive', 'cyst of left temporal pole                              ', 'ODD', 'ODD, social phobia ', 'LD, SP1', 'ADHD-Combined', 'ADHD-Hyperactive/Impulsive', 'LD, CD, Tics', 'ODD   ', 'enuresis', 'LD', '1', 'LD, Tics', 'TS', 'LD, DBD-NOS', 'ODD, Tics, Mood disorder', 'ODD, LD', '2', 'Typically Developing Children', 'Tics'}\n",
      "{'Male', 'Female'}\n",
      "{nan, 'Left', 'Right'}\n"
     ]
    }
   ],
   "source": [
    "print(list(hie))\n",
    "print('\\n')\n",
    "\n",
    "print(set(hie['tool']))\n",
    "print(set(hie['dx']))\n",
    "# print(set(hie['softwareLabel']))\n",
    "#print(tooldic['fsl'])\n",
    "#print(len(hie),len(tmp))\n",
    "print(set(hie['Gender']))\n",
    "#print(set(hie['dx']))\n",
    "print(set(hie['laterality']))\n"
   ]
  },
  {
   "cell_type": "code",
   "execution_count": 33,
   "metadata": {},
   "outputs": [
    {
     "name": "stdout",
     "output_type": "stream",
     "text": [
      "diag:  nan    :  0\n",
      "diag:  1    :  61944\n",
      "diag:  2    :  69128\n",
      "diag:  LD, CD    :  80\n",
      "diag:  SAD (previous)    :  118\n",
      "diag:  LD, ODD    :  80\n",
      "diag:  ADHD-Inattentive    :  8813\n",
      "diag:  cyst of left temporal pole                                  :  119\n",
      "diag:  ODD    :  2363\n",
      "diag:  ODD, social phobia     :  181\n",
      "diag:  LD, SP1    :  180\n",
      "diag:  ADHD-Combined    :  8692\n",
      "diag:  ADHD-Hyperactive/Impulsive    :  180\n",
      "diag:  LD, CD, Tics    :  180\n",
      "diag:  ODD       :  118\n",
      "diag:  enuresis    :  181\n",
      "diag:  LD    :  681\n",
      "diag:  1    :  10714\n",
      "diag:  LD, Tics    :  260\n",
      "diag:  TS    :  543\n",
      "diag:  LD, DBD-NOS    :  80\n",
      "diag:  ODD, Tics, Mood disorder    :  118\n",
      "diag:  ODD, LD    :  621\n",
      "diag:  2    :  9388\n",
      "diag:  Typically Developing Children    :  14757\n",
      "diag:  Tics    :  181\n"
     ]
    }
   ],
   "source": [
    "dxset = set(hie['dx'])\n",
    "tmp = hie[['dx']]\n",
    "\n",
    "for diag in dxset:\n",
    "    dx_cond = (tmp['dx'] == diag)\n",
    "    print('diag: ', diag, '   : ', len(tmp.loc[dx_cond]))"
   ]
  },
  {
   "cell_type": "code",
   "execution_count": 34,
   "metadata": {},
   "outputs": [
    {
     "data": {
      "text/plain": [
       "{'Total gray matter volume': 'http://purl.obolibrary.org/obo/UBERON_0005401',\n",
       " '4th-Ventricle': 'http://purl.obolibrary.org/obo/UBERON_0002422',\n",
       " 'vessel': 'http://purl.obolibrary.org/obo/UBERON_0001981',\n",
       " 'Inf-Lat-Vent': 'http://purl.obolibrary.org/obo/UBERON_0006091',\n",
       " 'Hippocampus': 'http://purl.obolibrary.org/obo/UBERON_0001954',\n",
       " 'hemisphere cerebral white matter volume': 'http://purl.obolibrary.org/obo/UBERON_0002437',\n",
       " 'Supratentorial volume': 'http://purl.obolibrary.org/obo/UBERON_0001869',\n",
       " 'Optic-Chiasm': 'http://purl.obolibrary.org/obo/UBERON_0000959',\n",
       " 'Accumbens-area': 'http://purl.obolibrary.org/obo/UBERON_0001882',\n",
       " 'Putamen': 'http://purl.obolibrary.org/obo/UBERON_0001874',\n",
       " 'Brain-Stem': 'http://purl.obolibrary.org/obo/UBERON_0002298',\n",
       " 'choroid-plexus': 'http://purl.obolibrary.org/obo/UBERON_0001886',\n",
       " 'Pallidum': 'http://purl.obolibrary.org/obo/UBERON_0006514',\n",
       " 'Amygdala': 'http://purl.obolibrary.org/obo/UBERON_0001876',\n",
       " 'Caudate': 'http://purl.obolibrary.org/obo/UBERON_0001873',\n",
       " 'Thalamus-Proper': 'http://purl.obolibrary.org/obo/UBERON_0001897',\n",
       " 'CC_Anterior': 'http://purl.obolibrary.org/obo/UBERON_0015599',\n",
       " 'Brain Segmentation Volume': 'http://purl.obolibrary.org/obo/UBERON_0000955',\n",
       " 'CSF': 'http://purl.obolibrary.org/obo/UBERON_0001359',\n",
       " 'Cerebellum-Cortex': 'http://purl.obolibrary.org/obo/UBERON_0002129',\n",
       " '3rd-Ventricle': 'http://purl.obolibrary.org/obo/UBERON_0002286',\n",
       " 'Cerebellum-White-Matter': 'http://purl.obolibrary.org/obo/UBERON_0002317',\n",
       " '5th-Ventricle': 'http://purl.obolibrary.org/obo/UBERON_0009857',\n",
       " 'Lateral-Ventricle': 'http://purl.obolibrary.org/obo/UBERON_0002285',\n",
       " 'CC_Central': 'http://purl.obolibrary.org/obo/UBERON_0002336',\n",
       " 'Estimated Total Intracranial Volume': 'http://purl.obolibrary.org/obo/UBERON_0013411',\n",
       " 'CC_Posterior': 'http://purl.obolibrary.org/obo/UBERON_0015708',\n",
       " 'Number of Vertices': 'http://purl.obolibrary.org/obo/UBERON_0000956'}"
      ]
     },
     "execution_count": 34,
     "metadata": {},
     "output_type": "execute_result"
    }
   ],
   "source": [
    "h2ube"
   ]
  },
  {
   "cell_type": "markdown",
   "metadata": {},
   "source": [
    "### Some mapping for the values in the df:\n"
   ]
  },
  {
   "cell_type": "markdown",
   "metadata": {},
   "source": [
    "####  tools"
   ]
  },
  {
   "cell_type": "code",
   "execution_count": 35,
   "metadata": {},
   "outputs": [
    {
     "name": "stdout",
     "output_type": "stream",
     "text": [
      "{'http://purl.org/nidash/fsl#', 'http://stnava.github.io/ANTs/', 'https://surfer.nmr.mgh.harvard.edu/'}\n",
      "{'surfer': 'https://surfer.nmr.mgh.harvard.edu/', 'fsl': 'http://purl.org/nidash/fsl#', 'ants': 'http://stnava.github.io/ANTs/'}\n",
      "{'https://surfer.nmr.mgh.harvard.edu/': 'surfer', 'http://purl.org/nidash/fsl#': 'fsl', 'http://stnava.github.io/ANTs/': 'ants'}\n"
     ]
    }
   ],
   "source": [
    "print(set(hie['tool']))\n",
    "tooldic = {'surfer':'https://surfer.nmr.mgh.harvard.edu/', \n",
    "           'fsl':'http://purl.org/nidash/fsl#',\n",
    "           'ants':'http://stnava.github.io/ANTs/'}\n",
    "print(tooldic)\n",
    "dictool = {v:k for (k,v) in tooldic.items()}\n",
    "print(dictool)"
   ]
  },
  {
   "cell_type": "markdown",
   "metadata": {},
   "source": [
    "#### normally developing children"
   ]
  },
  {
   "cell_type": "code",
   "execution_count": 36,
   "metadata": {},
   "outputs": [
    {
     "name": "stdout",
     "output_type": "stream",
     "text": [
      "{nan, 1, 2, 'LD, CD', 'SAD (previous)', 'LD, ODD', 'ADHD-Inattentive', 'cyst of left temporal pole                              ', 'ODD', 'ODD, social phobia ', 'LD, SP1', 'ADHD-Combined', 'ADHD-Hyperactive/Impulsive', 'LD, CD, Tics', 'ODD   ', 'enuresis', 'LD', '1', 'LD, Tics', 'TS', 'LD, DBD-NOS', 'ODD, Tics, Mood disorder', 'ODD, LD', '2', 'Typically Developing Children', 'Tics'}\n"
     ]
    }
   ],
   "source": [
    "dxset = set(hie['dx'])\n",
    "print(dxset)\n",
    "# NOTnormalDev = (1, '1', 'Typically Developing Children')\n",
    "normalDev = (2, '2', 'Typically Developing Children')\n",
    "\n",
    "adhd = (2, '2', 'ADHD-Combined', 'ADHD-Hyperactive/Impulsive', 'ADHD-Inattentive')"
   ]
  },
  {
   "cell_type": "markdown",
   "metadata": {},
   "source": [
    "### PIET-1: Total Brain Volume will positively correlate with IQ (in both sexes across the complete age range).\n"
   ]
  },
  {
   "cell_type": "code",
   "execution_count": 56,
   "metadata": {},
   "outputs": [
    {
     "name": "stdout",
     "output_type": "stream",
     "text": [
      "['rowid', 'study', 'ID', 'Age', 'dx', 'Gender', 'FIQ', 'PIQ', 'VIQ', 'tool', 'softwareLabel', 'structure', 'laterality', 'volume']\n"
     ]
    }
   ],
   "source": [
    "print(list(hie))"
   ]
  },
  {
   "cell_type": "raw",
   "metadata": {},
   "source": []
  },
  {
   "cell_type": "code",
   "execution_count": 66,
   "metadata": {},
   "outputs": [
    {
     "name": "stdout",
     "output_type": "stream",
     "text": [
      "201532 380\n"
     ]
    }
   ],
   "source": [
    "# roi = 'Brain Segmentation Volume'\n",
    "#roi = 'Estimated Total Intracranial Volume'\n",
    "roi = 'Brain Segmentation Volume (mm^3)'\n",
    "roiLabel = roi\n",
    "# roi = 'Total gray matter volume'\n",
    "# roi = 'cerebellar cortex'\n",
    "tool = 'surfer'\n",
    "# tool = 'ants'\n",
    "\n",
    "\n",
    "tmp = hie[['study','ID','Gender','Age','structure','tool','volume','PIQ','FIQ','dx','softwareLabel']]\n",
    "#tmp = hie[['study','ID','Gender', 'Age', 'structure','tool','volume', 'laterality', 'FIQ', 'PIQ']]\n",
    "# tmp = tmp.loc[((hie['Gender']=='1') | (hie['Gender']=='Male')) \n",
    "\n",
    "\n",
    "# hand_cond = ((hie['hand'] == 'L')|(hie['hand'] == 'Left')|(hie['latera'] == 'Left'))\n",
    "# age_cond = (hie['Age'] <= 20)\n",
    "roi_cond = (hie['softwareLabel'] == roiLabel)\n",
    "tool_cond = (hie['tool'] == tooldic[tool])\n",
    "\n",
    "pop_cond = False\n",
    "for pop in normalDev:\n",
    "    pop_cond = pop_cond | (hie['dx'] == pop)\n",
    "#pop_cond = (hie['dx'] == normalDev[0]) | (hie['dx'] == normalDev[1]) | (hie['dx'] == normalDev[2])\n",
    "\n",
    "site_cond = (hie['study'].str.contains(\"ABIDE\"))\n",
    "\n",
    "condition = roi_cond & tool_cond & pop_cond & site_cond #& age_cond \n",
    "\n",
    "tmp = tmp.loc[condition].drop_duplicates().dropna()\n",
    "\n",
    "print(len(hie),len(tmp))"
   ]
  },
  {
   "cell_type": "code",
   "execution_count": 67,
   "metadata": {},
   "outputs": [],
   "source": [
    "\"\"\"\n",
    "# roi = 'Brain Segmentation Volume'\n",
    "roi = 'Estimated Total Intracranial Volume'\n",
    "softwareLabel = 'Brain Segmentation Volume (mm^3)'\n",
    "# roi = 'Total gray matter volume'\n",
    "# roi = 'cerebellar cortex'\n",
    "tool = 'surfer'\n",
    "# tool = 'ants'\n",
    "\n",
    "\n",
    "tmp = hie[['study','ID','Gender','structure','tool','volume','PIQ','FIQ','dx','sofwareLabel']]\n",
    "#tmp = hie[['study','ID','Gender', 'Age', 'structure','tool','volume', 'laterality', 'FIQ', 'PIQ']]\n",
    "# tmp = tmp.loc[((hie['Gender']=='1') | (hie['Gender']=='Male')) \n",
    "\n",
    "\n",
    "# hand_cond = ((hie['hand'] == 'L')|(hie['hand'] == 'Left')|(hie['latera'] == 'Left'))\n",
    "#age_cond = (hie['Age'] <= 20)\n",
    "roi_cond = (hie['structure'] == h2ube[roi])\n",
    "tool_cond = (hie['tool'] == tooldic[tool])\n",
    "\n",
    "pop_cond = False\n",
    "for pop in normalDev:\n",
    "    pop_cond = pop_cond | (hie['dx'] == pop)\n",
    "#pop_cond = (hie['dx'] == normalDev[0]) | (hie['dx'] == normalDev[1]) | (hie['dx'] == normalDev[2])\n",
    "\n",
    "\n",
    "\n",
    "condition = roi_cond & tool_cond & pop_cond #& age_cond \n",
    "\n",
    "tmp = tmp.loc[condition].drop_duplicates().dropna()\n",
    "\n",
    "print(len(hie),len(tmp))\n",
    "\"\"\";"
   ]
  },
  {
   "cell_type": "code",
   "execution_count": 68,
   "metadata": {},
   "outputs": [
    {
     "name": "stdout",
     "output_type": "stream",
     "text": [
      "['study', 'ID', 'Gender', 'Age', 'structure', 'tool', 'volume', 'PIQ', 'FIQ', 'dx', 'softwareLabel']\n"
     ]
    }
   ],
   "source": [
    "print(list(tmp))"
   ]
  },
  {
   "cell_type": "code",
   "execution_count": 69,
   "metadata": {},
   "outputs": [],
   "source": [
    "#tmp.head(7)"
   ]
  },
  {
   "cell_type": "code",
   "execution_count": 76,
   "metadata": {},
   "outputs": [
    {
     "name": "stdout",
     "output_type": "stream",
     "text": [
      " Structure =  Brain Segmentation Volume (mm^3)\n",
      "                            OLS Regression Results                            \n",
      "==============================================================================\n",
      "Dep. Variable:                    PIQ   R-squared:                       0.835\n",
      "Model:                            OLS   Adj. R-squared:                  0.827\n",
      "Method:                 Least Squares   F-statistic:                     114.6\n",
      "Date:                Mon, 25 Nov 2019   Prob (F-statistic):          5.14e-131\n",
      "Time:                        15:44:34   Log-Likelihood:                -3112.4\n",
      "No. Observations:                 380   AIC:                             6259.\n",
      "Df Residuals:                     363   BIC:                             6326.\n",
      "Df Model:                          16                                         \n",
      "Covariance Type:            nonrobust                                         \n",
      "================================================================================================\n",
      "                                   coef    std err          t      P>|t|      [0.025      0.975]\n",
      "------------------------------------------------------------------------------------------------\n",
      "Intercept                      182.6266    637.439      0.287      0.775   -1070.911    1436.164\n",
      "study[T.ABIDE CMU_b Site]        6.6983    509.006      0.013      0.990    -994.273    1007.670\n",
      "study[T.ABIDE Caltech Site]     -0.6769    376.467     -0.002      0.999    -741.008     739.654\n",
      "study[T.ABIDE Leuven_1 Site]     0.0514    395.757      0.000      1.000    -778.212     778.315\n",
      "study[T.ABIDE MaxMun_c Site]    -0.8156    395.891     -0.002      0.998    -779.344     777.713\n",
      "study[T.ABIDE NYU Site]         -4.8812    334.673     -0.015      0.988    -663.022     653.260\n",
      "study[T.ABIDE Pitt Site]        -0.3971    360.986     -0.001      0.999    -710.283     709.489\n",
      "study[T.ABIDE SBL Site]      -1.011e+04    390.890    -25.861      0.000   -1.09e+04   -9340.306\n",
      "study[T.ABIDE SDSU Site]        -5.8588    374.905     -0.016      0.988    -743.117     731.399\n",
      "study[T.ABIDE Stanford Site]   -10.9707    387.409     -0.028      0.977    -772.819     750.877\n",
      "study[T.ABIDE Trinity Site]      4.0449    369.561      0.011      0.991    -722.705     730.795\n",
      "study[T.ABIDE UCLA_1 Site]     -12.7616    355.053     -0.036      0.971    -710.980     685.457\n",
      "study[T.ABIDE UCLA_2 Site]      -5.4320    402.655     -0.013      0.989    -797.262     786.398\n",
      "study[T.ABIDE UM_1 Site]      -564.3826    339.452     -1.663      0.097   -1231.921     103.156\n",
      "study[T.ABIDE UM_2 Site]        -6.6442    372.302     -0.018      0.986    -738.784     725.495\n",
      "study[T.ABIDE Yale Site]       -15.2682    361.253     -0.042      0.966    -725.680     695.144\n",
      "Q('volume')                  -5.623e-05      0.000     -0.131      0.896      -0.001       0.001\n",
      "==============================================================================\n",
      "Omnibus:                      657.641   Durbin-Watson:                   2.117\n",
      "Prob(Omnibus):                  0.000   Jarque-Bera (JB):           198970.299\n",
      "Skew:                         -10.308   Prob(JB):                         0.00\n",
      "Kurtosis:                     113.189   Cond. No.                     3.51e+07\n",
      "==============================================================================\n",
      "\n",
      "Warnings:\n",
      "[1] Standard Errors assume that the covariance matrix of the errors is correctly specified.\n",
      "[2] The condition number is large, 3.51e+07. This might indicate that there are\n",
      "strong multicollinearity or other numerical problems.\n"
     ]
    }
   ],
   "source": [
    "print(\" Structure = \", roi)\n",
    "#assert ube2h[tmp.iloc[0]['structure']] == roi\n",
    "\n",
    "iq = 'PIQ'\n",
    "\n",
    "# md = smf.ols(iq + \" ~ Q('volume') + Gender + Age + study \", data=tmp) #  \n",
    "md = smf.ols(iq + \" ~ Q('volume') + study \", data=tmp) #  \n",
    "mdf = md.fit()\n",
    "print(mdf.summary())\n"
   ]
  },
  {
   "cell_type": "code",
   "execution_count": null,
   "metadata": {},
   "outputs": [],
   "source": [
    "print(\" Structure = \", roi)\n",
    "assert ube2h[tmp.iloc[0]['structure']] == roi\n",
    "\n",
    "iq = 'PIQ'\n",
    "\n",
    "md = smf.ols('volume' + \" ~ Q(iq) + Gender + study \", data=tmp) #  \n",
    "# md = smf.ols(iq + \" ~ Q('volume') + study \", data=tmp) #  \n",
    "mdf = md.fit()\n",
    "print(mdf.summary())\n"
   ]
  },
  {
   "cell_type": "code",
   "execution_count": 77,
   "metadata": {},
   "outputs": [
    {
     "data": {
      "text/html": [
       "<div>\n",
       "<style scoped>\n",
       "    .dataframe tbody tr th:only-of-type {\n",
       "        vertical-align: middle;\n",
       "    }\n",
       "\n",
       "    .dataframe tbody tr th {\n",
       "        vertical-align: top;\n",
       "    }\n",
       "\n",
       "    .dataframe thead th {\n",
       "        text-align: right;\n",
       "    }\n",
       "</style>\n",
       "<table border=\"1\" class=\"dataframe\">\n",
       "  <thead>\n",
       "    <tr style=\"text-align: right;\">\n",
       "      <th></th>\n",
       "      <th>study</th>\n",
       "      <th>ID</th>\n",
       "      <th>Gender</th>\n",
       "      <th>Age</th>\n",
       "      <th>structure</th>\n",
       "      <th>tool</th>\n",
       "      <th>volume</th>\n",
       "      <th>PIQ</th>\n",
       "      <th>FIQ</th>\n",
       "      <th>dx</th>\n",
       "      <th>softwareLabel</th>\n",
       "    </tr>\n",
       "  </thead>\n",
       "  <tbody>\n",
       "    <tr>\n",
       "      <th>36</th>\n",
       "      <td>ABIDE SDSU Site</td>\n",
       "      <td>50215</td>\n",
       "      <td>Female</td>\n",
       "      <td>16.88</td>\n",
       "      <td>http://purl.obolibrary.org/obo/UBERON_0000955</td>\n",
       "      <td>https://surfer.nmr.mgh.harvard.edu/</td>\n",
       "      <td>1167950.0</td>\n",
       "      <td>120.0</td>\n",
       "      <td>117.0</td>\n",
       "      <td>2</td>\n",
       "      <td>Brain Segmentation Volume (mm^3)</td>\n",
       "    </tr>\n",
       "    <tr>\n",
       "      <th>187</th>\n",
       "      <td>ABIDE SDSU Site</td>\n",
       "      <td>50208</td>\n",
       "      <td>Female</td>\n",
       "      <td>13.78</td>\n",
       "      <td>http://purl.obolibrary.org/obo/UBERON_0000955</td>\n",
       "      <td>https://surfer.nmr.mgh.harvard.edu/</td>\n",
       "      <td>1184753.0</td>\n",
       "      <td>86.0</td>\n",
       "      <td>93.0</td>\n",
       "      <td>2</td>\n",
       "      <td>Brain Segmentation Volume (mm^3)</td>\n",
       "    </tr>\n",
       "    <tr>\n",
       "      <th>497</th>\n",
       "      <td>ABIDE SDSU Site</td>\n",
       "      <td>50195</td>\n",
       "      <td>Male</td>\n",
       "      <td>12.58</td>\n",
       "      <td>http://purl.obolibrary.org/obo/UBERON_0000955</td>\n",
       "      <td>https://surfer.nmr.mgh.harvard.edu/</td>\n",
       "      <td>1148455.0</td>\n",
       "      <td>129.0</td>\n",
       "      <td>123.0</td>\n",
       "      <td>2</td>\n",
       "      <td>Brain Segmentation Volume (mm^3)</td>\n",
       "    </tr>\n",
       "  </tbody>\n",
       "</table>\n",
       "</div>"
      ],
      "text/plain": [
       "               study     ID  Gender    Age  \\\n",
       "36   ABIDE SDSU Site  50215  Female  16.88   \n",
       "187  ABIDE SDSU Site  50208  Female  13.78   \n",
       "497  ABIDE SDSU Site  50195    Male  12.58   \n",
       "\n",
       "                                         structure  \\\n",
       "36   http://purl.obolibrary.org/obo/UBERON_0000955   \n",
       "187  http://purl.obolibrary.org/obo/UBERON_0000955   \n",
       "497  http://purl.obolibrary.org/obo/UBERON_0000955   \n",
       "\n",
       "                                    tool     volume    PIQ    FIQ dx  \\\n",
       "36   https://surfer.nmr.mgh.harvard.edu/  1167950.0  120.0  117.0  2   \n",
       "187  https://surfer.nmr.mgh.harvard.edu/  1184753.0   86.0   93.0  2   \n",
       "497  https://surfer.nmr.mgh.harvard.edu/  1148455.0  129.0  123.0  2   \n",
       "\n",
       "                        softwareLabel  \n",
       "36   Brain Segmentation Volume (mm^3)  \n",
       "187  Brain Segmentation Volume (mm^3)  \n",
       "497  Brain Segmentation Volume (mm^3)  "
      ]
     },
     "execution_count": 77,
     "metadata": {},
     "output_type": "execute_result"
    },
    {
     "data": {
      "image/png": "[encoded data removed]",
      "text/plain": [
       "<Figure size 432x288 with 1 Axes>"
      ]
     },
     "metadata": {
      "needs_background": "light"
     },
     "output_type": "display_data"
    }
   ],
   "source": [
    "mergeddf = tmp\n",
    "cond1 = (mergeddf['Gender']=='Male')\n",
    "cond2 = (mergeddf['Gender']=='Female')\n",
    "fig = plt.figure()\n",
    "ax1 = fig.add_subplot(111)\n",
    "ax1.plot(mergeddf.loc[cond1]['Age'], mergeddf.loc[cond1]['volume'], '.b')\n",
    "ax1.plot(mergeddf.loc[cond2]['Age'], mergeddf.loc[cond2]['volume'], '.r')\n",
    "mergeddf.head(3)\n"
   ]
  },
  {
   "cell_type": "markdown",
   "metadata": {},
   "source": [
    "### conclusion : \n",
    "1. no significance for piq for what seems to be the closest region: Estimated Total Intracranial Volume\n",
    "2. FIQ\n",
    "Q('volume')                      0.0001      0.000      0.395      0.693      -0.001       0.001\n",
    "Q(iq)                            2.6726      6.770      0.395      0.693     -10.636      15.981\n",
    "3. PIQ:\n",
    "Q('volume')                  -1.385e-05      0.000     -0.046      0.963      -0.001       0.001\n",
    "Q(iq)                           -0.3830      8.283     -0.046      0.963     -16.666      15.900"
   ]
  },
  {
   "cell_type": "code",
   "execution_count": null,
   "metadata": {},
   "outputs": [],
   "source": [
    "set(hie['laterality'])"
   ]
  },
  {
   "cell_type": "code",
   "execution_count": null,
   "metadata": {},
   "outputs": [],
   "source": [
    "roi1 = 'hemisphere cerebral white matter volume'\n",
    "roi2 = 'Total gray matter volume'\n",
    "roi3 = 'CSF'"
   ]
  },
  {
   "cell_type": "code",
   "execution_count": null,
   "metadata": {},
   "outputs": [],
   "source": [
    "tmp = hie[['study','ID','Gender', 'Age', 'structure','tool','volume', 'laterality', 'FIQ', 'PIQ', 'dx']]\n",
    "\n",
    "# conditions \n",
    "age_cond = (tmp['Age'] <= 20)\n",
    "roi1_cond = (tmp['structure'] == h2ube[roi1]) & (tmp['laterality'] != 'Left') & (tmp['laterality'] != 'Right')\n",
    "roi2_cond = (tmp['structure'] == h2ube[roi2])\n",
    "roi3_cond = (tmp['structure'] == h2ube[roi3])\n",
    "tool_cond = (tmp['tool']==tooldic[tool])\n",
    "\n",
    "pop_cond = False\n",
    "for pop in normalDev:\n",
    "    pop_cond = pop_cond | (hie['dx'] == pop)\n",
    "\n",
    "condition1 = roi1_cond & tool_cond & pop_cond # & age_cond   \n",
    "condition2 = roi2_cond & tool_cond & pop_cond # & age_cond\n",
    "condition3 = roi3_cond & tool_cond & pop_cond # & age_cond  \n",
    "\n",
    "tmp1 = tmp.loc[condition1].drop_duplicates()\n",
    "tmp2 = tmp.loc[condition2].drop_duplicates()\n",
    "tmp3 = tmp.loc[condition3].drop_duplicates()"
   ]
  },
  {
   "cell_type": "code",
   "execution_count": null,
   "metadata": {},
   "outputs": [],
   "source": [
    "# CHECK THAT INDEX is unique !\n",
    "print(len(tmp1), len(set(tmp1['ID'])))\n",
    "print(len(tmp2), len(set(tmp2['ID'])))\n",
    "print(len(tmp3), len(set(tmp3['ID'])))"
   ]
  },
  {
   "cell_type": "code",
   "execution_count": null,
   "metadata": {},
   "outputs": [],
   "source": [
    "#cols_to_use = tmp2.columns - tmp1.columns\n",
    "#print(cols_to_use)\n",
    "merged_inner = pd.merge(left=tmp1, right=tmp2[['ID','volume']], left_on='ID', right_on='ID', suffixes=('_1', '_2'))\n",
    "merged_inner.head(3)\n"
   ]
  },
  {
   "cell_type": "code",
   "execution_count": null,
   "metadata": {},
   "outputs": [],
   "source": [
    "mergeddf = pd.merge(left=merged_inner, right=tmp3[['ID','volume']], \n",
    "                        left_on='ID', right_on='ID') #,suffixes=('_m', '_3'))\n",
    "mergeddf.rename(columns={'volume':'volume_3'}, inplace=True)\n",
    "mergeddf['total_volume'] = mergeddf['volume_1'] + mergeddf['volume_2'] + mergeddf['volume_3'] \n",
    "print(list(mergeddf))\n",
    "print(len(mergeddf))\n"
   ]
  },
  {
   "cell_type": "code",
   "execution_count": null,
   "metadata": {},
   "outputs": [],
   "source": [
    "iq = 'FIQ'\n",
    "md = smf.ols(iq + \" ~ Q('total_volume') + Gender + study + Age \", data=mergeddf) #  \n",
    "mdf = md.fit()\n",
    "print(mdf.summary())\n"
   ]
  },
  {
   "cell_type": "code",
   "execution_count": null,
   "metadata": {},
   "outputs": [],
   "source": [
    "plt.hist(list(mergeddf['total_volume']), bins=50);"
   ]
  },
  {
   "cell_type": "code",
   "execution_count": null,
   "metadata": {},
   "outputs": [],
   "source": [
    "plt.plot(mergeddf['total_volume'],mergeddf['Age'],'.')"
   ]
  },
  {
   "cell_type": "code",
   "execution_count": null,
   "metadata": {},
   "outputs": [],
   "source": [
    "cond1 = (mergeddf['Gender']=='Male')\n",
    "cond2 = (mergeddf['Gender']=='Female')\n",
    "fig = plt.figure()\n",
    "ax1 = fig.add_subplot(111)\n",
    "ax1.plot(mergeddf.loc[cond1]['Age'], mergeddf.loc[cond1]['total_volume'], '.b')\n",
    "ax1.plot(mergeddf.loc[cond2]['Age'], mergeddf.loc[cond2]['total_volume'], '.r')"
   ]
  },
  {
   "cell_type": "markdown",
   "metadata": {},
   "source": [
    "### MAC-1: Left striatum volume (caudate + putamen) will positively correlate with IQ in the total (male + female) child (age < 20) group.\n"
   ]
  },
  {
   "cell_type": "code",
   "execution_count": null,
   "metadata": {},
   "outputs": [],
   "source": [
    "roi1 = 'Caudate'\n",
    "roi2 = 'Putamen'\n",
    "roi3 = 'Estimated Total Intracranial Volume'\n",
    "# roi = 'cerebellar cortex'\n",
    "tool = 'surfer'\n",
    "# tool = 'fsl'\n",
    "\n",
    "# pick the interesting variables\n",
    "#--------------------------------#\n",
    "tmp = hie[['study','ID','Gender', 'Age', 'structure','tool','volume', 'laterality', 'FIQ', 'PIQ']]"
   ]
  },
  {
   "cell_type": "code",
   "execution_count": null,
   "metadata": {},
   "outputs": [],
   "source": [
    "# list of conditions\n",
    "#---------------------#\n",
    "#hand_cond = ((hie['laterality'] == 'L') | (hie['laterality'] == 'Left')) # | (hie['latera'] == 'Left'))\n",
    "age_cond = (hie['Age'] <= 20)\n",
    "roi1_cond = (hie['structure'] == h2ube[roi1])\n",
    "roi2_cond = (hie['structure'] == h2ube[roi2])\n",
    "roi3_cond = (hie['structure'] == h2ube[roi3])\n",
    "\n",
    "tool_cond = (hie['tool']==tooldic[tool])\n",
    "\n",
    "condition1 = roi1_cond & tool_cond & age_cond  \n",
    "condition2 = roi2_cond & tool_cond & age_cond\n",
    "condition3 = roi3_cond & tool_cond & age_cond\n",
    "\n",
    "tmp1 = tmp.loc[condition1].drop_duplicates()\n",
    "tmp2 = tmp.loc[condition2].drop_duplicates()\n",
    "tmp3 = tmp.loc[condition3].drop_duplicates()\n",
    "\n",
    "#tmp1 = tmp1.set_index('ID')\n",
    "#tmp2 = tmp2.set_index('ID')\n",
    "\n",
    "print(len(hie))\n",
    "print(roi1, ': tmp1', len(tmp1), len(tmp1.drop_duplicates()))\n",
    "print(roi2, ': tmp2', len(tmp2), len(tmp2.drop_duplicates()))\n",
    "print(roi3, ': tmp3', len(tmp3), len(tmp3.drop_duplicates()))\n",
    "h2ube[roi3]"
   ]
  },
  {
   "cell_type": "code",
   "execution_count": null,
   "metadata": {},
   "outputs": [],
   "source": [
    "tmp3.head(2)"
   ]
  },
  {
   "cell_type": "code",
   "execution_count": null,
   "metadata": {},
   "outputs": [],
   "source": []
  },
  {
   "cell_type": "code",
   "execution_count": null,
   "metadata": {},
   "outputs": [],
   "source": [
    "def split_merge_df(df, indx='ID', spliton='laterality', levels=['Left','Right'], keep_col='volume', droplist=[]):\n",
    "    \"\"\"\n",
    "    split the df according to 2 levels of \"spliton\", \n",
    "    take the column \"keep_col\" now split in two, and create a new one with the sum of the values\n",
    "    such that keep_col splitted values are added in a new column\n",
    "    \n",
    "    used for adding volumes in right and left structures\n",
    "    \"\"\"\n",
    "    \n",
    "    dflev1 = df[df[spliton]==levels[0]]\n",
    "    dflev2 = df[df[spliton]==levels[1]]\n",
    "    # same indx \n",
    "    assert set(dflev1[indx]) == set(dflev2[indx])\n",
    "    # no duplicates in the indx\n",
    "    assert len(set(dflev1[indx])) == len(dflev1[indx])\n",
    "    # assert len(set(dflev2[indx])) == len(dflev2[indx])\n",
    "    suffixes=('_l','_r')\n",
    "    merged_inner = pd.merge(left=dflev1, right=dflev2[[indx,keep_col]], \n",
    "                            left_on=indx, right_on=indx, suffixes=suffixes)\n",
    "#    merged_inner.rename(columns={cols+'_x': cols+'_'+lev1, cols+'_y': cols+'_'+lev2}, inplace=True)\n",
    "\n",
    "\n",
    "    # sum keep_col values in a new column\n",
    "    add_col_name = keep_col+suffixes[0]+'+'+suffixes[1]\n",
    "    merged_inner[add_col_name] = \\\n",
    "                        merged_inner[keep_col+suffixes[0]] + merged_inner[keep_col+suffixes[1]]  \n",
    "\n",
    "    if droplist != []:\n",
    "        for colname in droplist:\n",
    "            colname_y = colname + '_y'\n",
    "            colname_x = colname + '_x'\n",
    "            merged_inner.drop(colname_y, axis=1, inplace=True)\n",
    "            merged_inner.rename(columns={colname_x: colname}, inplace=True)\n",
    "    \n",
    "    return merged_inner"
   ]
  },
  {
   "cell_type": "code",
   "execution_count": null,
   "metadata": {},
   "outputs": [],
   "source": [
    "tmp1_merged = split_merge_df(tmp1, indx='ID', spliton='laterality', levels=['Left','Right'])\n",
    "tmp2_merged = split_merge_df(tmp1, indx='ID', spliton='laterality', levels=['Left','Right'])\n"
   ]
  },
  {
   "cell_type": "code",
   "execution_count": null,
   "metadata": {},
   "outputs": [],
   "source": [
    "tmp2_merged.head(2)"
   ]
  },
  {
   "cell_type": "code",
   "execution_count": null,
   "metadata": {},
   "outputs": [],
   "source": [
    "# Add these two and sum columns\n",
    "suffixes=('_1','_2')\n",
    "indx = 'ID'\n",
    "roi1_roi2 = pd.merge(left=tmp1_merged, right=tmp2_merged[['ID','volume_l+_r']], \n",
    "                            left_on=indx, right_on=indx, suffixes=suffixes)\n"
   ]
  },
  {
   "cell_type": "code",
   "execution_count": null,
   "metadata": {},
   "outputs": [],
   "source": [
    "print(list(roi1_roi2))\n"
   ]
  },
  {
   "cell_type": "code",
   "execution_count": null,
   "metadata": {},
   "outputs": [],
   "source": [
    "roi1_roi2['caud+put'] = roi1_roi2['volume_l+_r_1'] + roi1_roi2['volume_l+_r_2']  "
   ]
  },
  {
   "cell_type": "code",
   "execution_count": null,
   "metadata": {},
   "outputs": [],
   "source": [
    "print(list(roi1_roi2))\n"
   ]
  },
  {
   "cell_type": "code",
   "execution_count": null,
   "metadata": {},
   "outputs": [],
   "source": [
    "# add intracranial brain volume\n",
    "tmp3.rename(columns={'volume':'TBV'}, inplace=True)\n",
    "roi1_roi2_roi3 = pd.merge(left=roi1_roi2, right=tmp3[['ID','TBV']], \n",
    "                            left_on=indx, right_on=indx, suffixes=['_1','_2'])\n",
    "print(list(roi1_roi2_roi3))"
   ]
  },
  {
   "cell_type": "code",
   "execution_count": null,
   "metadata": {},
   "outputs": [],
   "source": [
    "iq = 'PIQ'\n",
    "#md = smf.ols(iq + \" ~ Q('caud+put') + Gender + study + TBV \", data=roi1_roi2_roi3) #  \n",
    "md = smf.ols(iq + \" ~ Q('caud+put') \", data=roi1_roi2_roi3) #  \n",
    "mdf = md.fit()\n",
    "print(mdf.summary())\n"
   ]
  },
  {
   "cell_type": "code",
   "execution_count": null,
   "metadata": {},
   "outputs": [],
   "source": [
    "plt.hist(list(roi1_roi2['caud+put']), bins=50);"
   ]
  },
  {
   "cell_type": "code",
   "execution_count": null,
   "metadata": {},
   "outputs": [],
   "source": [
    "iq = 'FIQ'\n",
    "#md = smf.ols(iq + \" ~ Q('caud+put') + Gender + study + TBV \", data=roi1_roi2_roi3) #  \n",
    "md = smf.ols(iq + \" ~ Q('caud+put') \", data=roi1_roi2_roi3) #  \n",
    "mdf = md.fit()\n",
    "print(mdf.summary())\n",
    "\n"
   ]
  },
  {
   "cell_type": "markdown",
   "metadata": {},
   "source": [
    "### Conclusion\n",
    "\n",
    "nothing?\n"
   ]
  },
  {
   "cell_type": "markdown",
   "metadata": {},
   "source": [
    "### MAC-2: Left striatum volume (caudate + putamen) will positively correlate with IQ in the male children group.\n"
   ]
  },
  {
   "cell_type": "code",
   "execution_count": null,
   "metadata": {},
   "outputs": [],
   "source": [
    "set(hie['Gender'])"
   ]
  },
  {
   "cell_type": "code",
   "execution_count": null,
   "metadata": {},
   "outputs": [],
   "source": [
    "roi1 = 'Caudate'\n",
    "roi2 = 'Putamen'\n",
    "roi3 = 'Estimated Total Intracranial Volume'\n",
    "# roi = 'cerebellar cortex'\n",
    "tool = 'surfer'\n",
    "\n",
    "# list of conditions\n",
    "#---------------------#\n",
    "hand_cond = (hie['laterality'] == 'Left')\n",
    "age_cond = (hie['Age'] <= 20)\n",
    "roi1_cond = (hie['structure'] == h2ube[roi1])\n",
    "roi2_cond = (hie['structure'] == h2ube[roi2])\n",
    "roi3_cond = (hie['structure'] == h2ube[roi3])\n",
    "\n",
    "tool_cond = (hie['tool'] == tooldic[tool])\n",
    "\n",
    "gender_cond = (hie['Gender'] == 'Male')\n",
    "\n",
    "condition1 = roi1_cond & tool_cond & age_cond & hand_cond & gender_cond\n",
    "condition2 = roi2_cond & tool_cond & age_cond & hand_cond & gender_cond\n",
    "condition3 = roi3_cond & tool_cond & age_cond & gender_cond\n",
    "\n",
    "tmp1 = tmp.loc[condition1].drop_duplicates()\n",
    "tmp2 = tmp.loc[condition2].drop_duplicates()\n",
    "tmp3 = tmp.loc[condition3].drop_duplicates()\n",
    "\n",
    "#tmp1 = tmp1.set_index('ID')\n",
    "#tmp2 = tmp2.set_index('ID')\n",
    "\n",
    "print(len(hie))\n",
    "print(roi1, ': tmp1', len(tmp1), len(tmp1.drop_duplicates()))\n",
    "print(roi2, ': tmp2', len(tmp2), len(tmp2.drop_duplicates()))\n",
    "print(roi3, ': tmp3', len(tmp3), len(tmp3.drop_duplicates()))\n",
    "h2ube[roi3]"
   ]
  },
  {
   "cell_type": "code",
   "execution_count": null,
   "metadata": {},
   "outputs": [],
   "source": [
    "print(list(tmp1))"
   ]
  },
  {
   "cell_type": "code",
   "execution_count": null,
   "metadata": {},
   "outputs": [],
   "source": [
    "caud_put = pd.merge(left=tmp1, right=tmp2[['ID','volume']], \n",
    "                            left_on=indx, right_on=indx, suffixes=('_caud','_put'))\n",
    "print(list(caud_put))\n",
    "set(caud_put['laterality'])"
   ]
  },
  {
   "cell_type": "code",
   "execution_count": null,
   "metadata": {},
   "outputs": [],
   "source": [
    "caud_put_tiv = pd.merge(left=caud_put, right=tmp3[['ID','volume']],\n",
    "                     left_on=indx, right_on=indx, suffixes=('','_tiv'))\n",
    "caud_put_tiv.rename(columns={'volume':'TIV'}, inplace=True)\n",
    "caud_put_tiv['caud+put'] = caud_put_tiv['volume_caud'] + caud_put_tiv['volume_put']  \n",
    "print(list(caud_put_tiv))\n"
   ]
  },
  {
   "cell_type": "code",
   "execution_count": null,
   "metadata": {},
   "outputs": [],
   "source": [
    "iq = 'PIQ'\n",
    "# md = smf.ols(iq + \" ~ Q('caud+put') + TIV + study\", data=caud_put_tiv) #  \n",
    "md = smf.ols(iq + \" ~ Q('caud+put') + study\", data=caud_put_tiv) #  \n",
    "mdf = md.fit()\n",
    "print(mdf.summary())"
   ]
  },
  {
   "cell_type": "code",
   "execution_count": null,
   "metadata": {},
   "outputs": [],
   "source": [
    "plt.hist(list(caud_put_tiv['caud+put']), bins=50);"
   ]
  },
  {
   "cell_type": "markdown",
   "metadata": {},
   "source": [
    "### MAC-3: Left striatum volume (caudate + putamen) will not correlate with IQ in the female children group.\n"
   ]
  },
  {
   "cell_type": "code",
   "execution_count": null,
   "metadata": {},
   "outputs": [],
   "source": [
    "roi1 = 'Caudate'\n",
    "roi2 = 'Putamen'\n",
    "roi3 = 'Estimated Total Intracranial Volume'\n",
    "# roi = 'cerebellar cortex'\n",
    "tool = 'surfer'\n",
    "\n",
    "# list of conditions\n",
    "#---------------------#\n",
    "hand_cond = (hie['laterality'] == 'Left')\n",
    "age_cond = (hie['Age'] <= 20)\n",
    "roi1_cond = (hie['structure'] == h2ube[roi1])\n",
    "roi2_cond = (hie['structure'] == h2ube[roi2])\n",
    "roi3_cond = (hie['structure'] == h2ube[roi3])\n",
    "\n",
    "tool_cond = (hie['tool'] == tooldic[tool])\n",
    "\n",
    "gender_cond = (hie['Gender'] == 'Female')\n",
    "\n",
    "condition1 = roi1_cond & tool_cond & age_cond & hand_cond & gender_cond\n",
    "condition2 = roi2_cond & tool_cond & age_cond & hand_cond & gender_cond\n",
    "condition3 = roi3_cond & tool_cond & age_cond & gender_cond\n",
    "\n",
    "tmp1 = tmp.loc[condition1].drop_duplicates()\n",
    "tmp2 = tmp.loc[condition2].drop_duplicates()\n",
    "tmp3 = tmp.loc[condition3].drop_duplicates()\n",
    "\n",
    "#tmp1 = tmp1.set_index('ID')\n",
    "#tmp2 = tmp2.set_index('ID')\n",
    "\n",
    "print(len(hie))\n",
    "print(roi1, ': tmp1', len(tmp1), len(tmp1.drop_duplicates()))\n",
    "print(roi2, ': tmp2', len(tmp2), len(tmp2.drop_duplicates()))\n",
    "print(roi3, ': tmp3', len(tmp3), len(tmp3.drop_duplicates()))\n",
    "h2ube[roi3]"
   ]
  },
  {
   "cell_type": "code",
   "execution_count": null,
   "metadata": {},
   "outputs": [],
   "source": [
    "caud_put = pd.merge(left=tmp1, right=tmp2[['ID','volume']], \n",
    "                            left_on=indx, right_on=indx, suffixes=('_caud','_put'))\n",
    "print(list(caud_put))\n",
    "set(caud_put['laterality'])\n",
    "\n",
    "caud_put_tiv = pd.merge(left=caud_put, right=tmp3[['ID','volume']],\n",
    "                     left_on=indx, right_on=indx, suffixes=('','_tiv'))\n",
    "caud_put_tiv.rename(columns={'volume':'TIV'}, inplace=True)\n",
    "caud_put_tiv['caud+put'] = caud_put_tiv['volume_caud'] + caud_put_tiv['volume_put']  \n",
    "print(list(caud_put_tiv))\n"
   ]
  },
  {
   "cell_type": "code",
   "execution_count": null,
   "metadata": {},
   "outputs": [],
   "source": [
    "iq = 'PIQ'\n",
    "# md = smf.ols(iq + \" ~ Q('caud+put') + TIV + study\", data=caud_put_tiv) #  \n",
    "md = smf.ols(iq + \" ~ Q('caud+put') + TIV + study\", data=caud_put_tiv) #  \n",
    "mdf = md.fit()\n",
    "print(mdf.summary())"
   ]
  },
  {
   "cell_type": "code",
   "execution_count": null,
   "metadata": {},
   "outputs": [],
   "source": [
    "plt.hist(list(caud_put_tiv['caud+put']), bins=50);"
   ]
  },
  {
   "cell_type": "markdown",
   "metadata": {},
   "source": [
    "### GANJ-1: Total Corpus Callosum midsagittal area, after correcting for total brain volume, will negatively correlate with IQ.\n"
   ]
  },
  {
   "cell_type": "code",
   "execution_count": null,
   "metadata": {},
   "outputs": [],
   "source": [
    "tmp = hie[['study','ID','Gender', 'Age', 'structure','tool','volume', 'laterality', 'FIQ', 'PIQ']]\n",
    "\n",
    "roi1 = 'CC_Anterior'\n",
    "roi2 = 'CC_Central'\n",
    "roi3 = 'CC_Posterior'\n",
    "tiv = 'Estimated Total Intracranial Volume'\n",
    "wm = 'hemisphere cerebral white matter volume'\n",
    "gm = 'Total gray matter volume'\n",
    "csf = 'CSF'\n",
    "# roi = 'cerebellar cortex'\n",
    "tool = 'surfer'\n",
    "\n",
    "# list of conditions\n",
    "#---------------------#\n",
    "# hand_cond = (hie['laterality'] == 'Left')\n",
    "# age_cond = (hie['Age'] <= 20)\n",
    "roi1_cond = (tmp['structure'] == h2ube[roi1])\n",
    "roi2_cond = (tmp['structure'] == h2ube[roi2])\n",
    "roi3_cond = (tmp['structure'] == h2ube[roi3])\n",
    "tool_cond = (tmp['tool'] == tooldic[tool])\n",
    "# gender_cond = (hie['Gender'] == 'Female')\n",
    "\n",
    "wm_cond = (tmp['structure'] == h2ube[wm]) & (tmp['laterality'] != 'Left') & (tmp['laterality'] != 'Right')\n",
    "gm_cond = (tmp['structure'] == h2ube[gm])\n",
    "csf_cond = (tmp['structure'] == h2ube[csf])\n",
    "tiv_cond = (tmp['structure'] == h2ube[tiv])\n",
    "\n",
    "condition1 = roi1_cond & tool_cond \n",
    "condition2 = roi2_cond & tool_cond \n",
    "condition3 = roi3_cond & tool_cond \n",
    "\n",
    "condition_wm = wm_cond & tool_cond \n",
    "condition_gm = gm_cond & tool_cond \n",
    "condition_csf = csf_cond & tool_cond \n",
    "condition_tiv = tiv_cond & tool_cond \n",
    "\n",
    "tmp1 = tmp.loc[condition1].drop_duplicates()\n",
    "tmp2 = tmp.loc[condition2].drop_duplicates()\n",
    "tmp3 = tmp.loc[condition3].drop_duplicates()\n",
    "\n",
    "wm_df = tmp.loc[condition_wm].drop_duplicates()\n",
    "gm_df = tmp.loc[condition_gm].drop_duplicates()\n",
    "csf_df = tmp.loc[condition_csf].drop_duplicates()\n",
    "tiv_df = tmp.loc[condition_tiv].drop_duplicates()\n",
    "\n",
    "#tmp1 = tmp1.set_index('ID')\n",
    "#tmp2 = tmp2.set_index('ID')\n",
    "\n",
    "print(len(hie))\n",
    "print(roi1, ': tmp1', len(tmp1), len(tmp1.drop_duplicates()))\n",
    "print(roi2, ': tmp2', len(tmp2), len(tmp2.drop_duplicates()))\n",
    "print(roi3, ': tmp3', len(tmp3), len(tmp3.drop_duplicates()))\n",
    "print(wm, ': wm_df', len(wm_df), len(wm_df.drop_duplicates()))\n",
    "print(gm, ': gm_df', len(gm_df), len(gm_df.drop_duplicates()))\n",
    "print(csf, ': csf_df', len(csf_df), len(csf_df.drop_duplicates()))\n",
    "print(tiv, ': tiv_df', len(tiv_df), len(tiv_df.drop_duplicates()))\n"
   ]
  },
  {
   "cell_type": "code",
   "execution_count": null,
   "metadata": {},
   "outputs": [],
   "source": [
    "brain_tmp = pd.merge(left=gm_df, right=wm_df[['ID','volume']], left_on='ID', right_on='ID', suffixes=('_gm','_wm'))\n",
    "brain_df = pd.merge(left=brain_tmp, right=csf_df[['ID','volume']], left_on='ID', right_on='ID')\n",
    "brain_df.rename(columns={'volume':'volume_csf'}, inplace=True)\n",
    "brain_df['total_brain_vol'] = brain_df['volume_gm'] + brain_df['volume_wm'] + brain_df['volume_csf']\n",
    "brain_df.drop(['volume_gm', 'volume_wm', 'volume_csf'], axis=1, inplace=True)\n",
    "print(list(brain_df))"
   ]
  },
  {
   "cell_type": "code",
   "execution_count": null,
   "metadata": {},
   "outputs": [],
   "source": [
    "CC_tmp = pd.merge(left=tmp1, right=tmp2[['ID','volume']], left_on='ID', right_on='ID', suffixes=('_ant','_cent'))\n",
    "CC_df = pd.merge(left=CC_tmp, right=tmp3[['ID','volume']], left_on='ID', right_on='ID')\n",
    "CC_df.rename(columns={'volume':'volume_post'}, inplace=True)\n",
    "CC_df['cc_vol'] = CC_df['volume_ant'] +CC_df['volume_cent'] + CC_df['volume_post']\n",
    "CC_df.drop(['volume_ant', 'volume_cent', 'volume_post'], axis=1, inplace=True)\n",
    "print(list(CC_df))\n"
   ]
  },
  {
   "cell_type": "code",
   "execution_count": null,
   "metadata": {},
   "outputs": [],
   "source": [
    "CC_brain_df = pd.merge(left=CC_df, right=brain_df[['ID','total_brain_vol']], left_on='ID', right_on='ID')\n",
    "print(list(CC_brain_df))\n",
    "\n",
    "CC_brain_tiv = pd.merge(left=CC_brain_df, right=tiv_df[['ID','volume']], left_on='ID', right_on='ID')\n",
    "CC_brain_tiv.rename(columns={'volume':'TIV'}, inplace=True)\n",
    "print(list(CC_brain_tiv))"
   ]
  },
  {
   "cell_type": "code",
   "execution_count": null,
   "metadata": {},
   "outputs": [],
   "source": [
    "plt.hist(CC_brain_df['cc_vol'],bins=50);"
   ]
  },
  {
   "cell_type": "code",
   "execution_count": null,
   "metadata": {},
   "outputs": [],
   "source": [
    "iq = 'FIQ'\n",
    "# md = smf.ols(iq + \" ~ Q('caud+put') + TIV + study\", data=caud_put_tiv) #  \n",
    "#md = smf.ols(iq + \" ~ Q('cc_vol') + total_brain_vol + TIV + study\", data=CC_brain_tiv) #  \n",
    "md = smf.ols(iq + \" ~ Q('cc_vol') + total_brain_vol + study\", data=CC_brain_tiv) #  \n",
    "mdf = md.fit()\n",
    "print(mdf.summary())"
   ]
  },
  {
   "cell_type": "code",
   "execution_count": null,
   "metadata": {},
   "outputs": [],
   "source": []
  },
  {
   "cell_type": "markdown",
   "metadata": {},
   "source": [
    "### GANJ-2: Total Corpus Callosum midsagittal area, after correcting for total brain volume, will negatively correlate with IQ in the young (age < 12) group.\n"
   ]
  },
  {
   "cell_type": "code",
   "execution_count": null,
   "metadata": {},
   "outputs": [],
   "source": [
    "print(list(CC_brain_tiv))"
   ]
  },
  {
   "cell_type": "code",
   "execution_count": null,
   "metadata": {},
   "outputs": [],
   "source": [
    "age_cond = (CC_brain_tiv['Age'] <= 12)\n",
    "tmp = CC_brain_tiv.loc[age_cond]\n",
    "\n",
    "md = smf.ols(iq + \" ~ Q('cc_vol') + total_brain_vol + study \", data=tmp)\n",
    "mdf = md.fit()\n",
    "print(mdf.summary())"
   ]
  },
  {
   "cell_type": "code",
   "execution_count": null,
   "metadata": {},
   "outputs": [],
   "source": []
  }
 ],
 "metadata": {
  "kernelspec": {
   "display_name": "Python 3",
   "language": "python",
   "name": "python3"
  },
  "language_info": {
   "codemirror_mode": {
    "name": "ipython",
    "version": 3
   },
   "file_extension": ".py",
   "mimetype": "text/x-python",
   "name": "python",
   "nbconvert_exporter": "python",
   "pygments_lexer": "ipython3",
   "version": "3.6.8"
  },
  "toc": {
   "nav_menu": {},
   "number_sections": true,
   "sideBar": true,
   "skip_h1_title": false,
   "toc_cell": false,
   "toc_position": {},
   "toc_section_display": "block",
   "toc_window_display": false
  }
 },
 "nbformat": 4,
 "nbformat_minor": 2
}
