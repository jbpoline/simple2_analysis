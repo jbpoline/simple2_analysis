{
 "cells": [
  {
   "cell_type": "code",
   "execution_count": 1,
   "metadata": {},
   "outputs": [],
   "source": [
    "import pandas as pd\n",
    "import numpy as np\n",
    "import statsmodels as stt\n",
    "import scipy.stats as sst\n",
    "import os.path as osp\n",
    "from statsmodels import api as sm\n",
    "import statsmodels.formula.api as smf\n",
    "import matplotlib.pyplot as plt\n",
    "import json\n",
    "%matplotlib inline"
   ]
  },
  {
   "cell_type": "code",
   "execution_count": 2,
   "metadata": {},
   "outputs": [
    {
     "name": "stdout",
     "output_type": "stream",
     "text": [
      "/home/jb/code/repronim/simple2/simple2_analysis\n"
     ]
    }
   ],
   "source": [
    "print(osp.realpath(osp.curdir))\n",
    "relative_path_filename = './data/data.csv'\n",
    "assert osp.exists(relative_path_filename)"
   ]
  },
  {
   "cell_type": "code",
   "execution_count": 3,
   "metadata": {},
   "outputs": [
    {
     "name": "stdout",
     "output_type": "stream",
     "text": [
      "['rowid', 'study', 'ID', 'Age', 'dx', 'Gender', 'FIQ', 'PIQ', 'VIQ', 'tool', 'softwareLabel', 'federatedLabel', 'laterality', 'volume']\n",
      "['rowid', 'study', 'ID', 'Age', 'dx', 'Gender', 'FIQ', 'PIQ', 'VIQ', 'tool', 'softwareLabel', 'structure', 'laterality', 'volume']\n"
     ]
    },
    {
     "name": "stderr",
     "output_type": "stream",
     "text": [
      "/home/jb/virtualenvs/simple2/lib/python3.6/site-packages/IPython/core/interactiveshell.py:3049: DtypeWarning: Columns (4) have mixed types. Specify dtype option on import or set low_memory=False.\n",
      "  interactivity=interactivity, compiler=compiler, result=result)\n"
     ]
    }
   ],
   "source": [
    "hie = pd.read_csv(relative_path_filename, na_values='nd') #, low_memory=False)\n",
    "original_col_names = list(hie)\n",
    "# column names are unique\n",
    "assert len(original_col_names) == len(set(original_col_names))\n",
    "print(list(hie))\n",
    "col_rename = {'federatedLabel':'structure'}\n",
    "hie.rename(columns=col_rename, inplace=True)\n",
    "print(list(hie))"
   ]
  },
  {
   "cell_type": "code",
   "execution_count": 4,
   "metadata": {},
   "outputs": [],
   "source": [
    "# mapping_file = '../segstats_jsonld/segstats_jsonld/mapping_data/freesurfermap.json'\n",
    "mapping_file = '../segstats_jsonld/segstats_jsonld/mapping_data/freesurfer-cdes.json'\n",
    "assert osp.exists(mapping_file)\n",
    "with open(mapping_file, \"r\") as read_file:\n",
    "    roi_map = json.load(read_file)"
   ]
  },
  {
   "cell_type": "code",
   "execution_count": 5,
   "metadata": {},
   "outputs": [],
   "source": [
    "ube2h = {}\n",
    "label2ube = {}\n",
    "countok=0\n",
    "has_no_isAbout = []\n",
    "has_no_label = []\n",
    "\n",
    "for (k,v) in roi_map.items():\n",
    "    \n",
    "    # discard 'count'\n",
    "    if k == 'count': pass\n",
    "    \n",
    "    # v is a dict that contains the CDE - check that we have a isAbout and label    \n",
    "    elif 'isAbout' in v:\n",
    "        countok += 1\n",
    "        if 'label' in v:\n",
    "            if v['label'] != '' and v['label'] not in ('None','none'):\n",
    "                #ube['<' + v['isAbout'] + '>'] = v['label']\n",
    "                #ebu[v['label']] = '<' + v['isAbout'] + '>'\n",
    "                label2ube[v['label']] = v['isAbout']\n",
    "                if v['isAbout'] not in ube2h.keys():\n",
    "                    no_right_or_left = v['label']\n",
    "                    no_right_or_left = no_right_or_left.replace('Right-','')\n",
    "                    no_right_or_left = no_right_or_left.replace('Right ','')\n",
    "                    no_right_or_left = no_right_or_left.replace('Left-','')\n",
    "                    no_right_or_left = no_right_or_left.replace('Left ','')\n",
    "                    no_right_or_left = no_right_or_left.replace(' NVoxels','')\n",
    "                    no_right_or_left = no_right_or_left.replace(' (mm^3)','')\n",
    "                    ube2h[v['isAbout']] = no_right_or_left\n",
    "            else:\n",
    "                has_no_label.append(k)\n",
    "\n",
    "assert has_no_isAbout == []\n",
    "assert countok == len(label2ube)"
   ]
  },
  {
   "cell_type": "code",
   "execution_count": 6,
   "metadata": {},
   "outputs": [],
   "source": [
    "label2ube;\n",
    "ube2h\n",
    "h2ube = {v: k for k, v in ube2h.items()}"
   ]
  },
  {
   "cell_type": "code",
   "execution_count": null,
   "metadata": {},
   "outputs": [],
   "source": []
  },
  {
   "cell_type": "code",
   "execution_count": 56,
   "metadata": {},
   "outputs": [],
   "source": [
    "def split_merge_df(df, indx='ID', spliton='laterality', levels=['Left','Right'], \n",
    "                       keep_col='volume', op='+', colrename=None):\n",
    "    \"\"\"\n",
    "    1. split the df according to 2 (n?) levels of \"spliton\"\n",
    "    2. merge the 2 (n?) df using indx as index\n",
    "    3. keep only \"keep_col\" for the right temporary df\n",
    "    4. perform op on the columns \"keep_col\" and name it 'keep_col'+'_'+ levels[0] + op + levels[1]    \n",
    "    \n",
    "    example: for adding volumes in right and left structures\n",
    "    \"\"\"\n",
    "    \n",
    "    dflev1 = df[df[spliton]==levels[0]]\n",
    "    dflev2 = df[df[spliton]==levels[1]] \n",
    "\n",
    "    # check that the new dfs have no duplicates in the indx\n",
    "\n",
    "    assert set(dflev1[indx]) == set(dflev2[indx])\n",
    "    assert len(set(dflev1[indx])) == len(dflev1[indx])\n",
    "    \n",
    "    # assert len(set(dflev2[indx])) == len(dflev2[indx])\n",
    "    # suffixes=('_l','_r')\n",
    "    merged_inner = pd.merge(left=dflev1, right=dflev2[[indx,keep_col]], \n",
    "                            left_on=indx, right_on=indx, suffixes=levels, how='inner')\n",
    "#    merged_inner.rename(columns={cols+'_x': cols+'_'+lev1, cols+'_y': cols+'_'+lev2}, inplace=True)\n",
    "\n",
    "    # sum keep_col values in a new column\n",
    "    add_col_name = keep_col + levels[0] + op + levels[1]\n",
    "    if op == '+':\n",
    "        merged_inner[add_col_name] = \\\n",
    "                        merged_inner[keep_col+levels[0]] + merged_inner[keep_col+levels[1]]  \n",
    "    if colrename is not None:\n",
    "        merged_inner.rename(columns={add_col_name:colrename}, inplace=True)\n",
    "    return merged_inner\n",
    "\n",
    "\"\"\"\n",
    "    if droplist != []:\n",
    "        for colname in droplist:\n",
    "            colname_y = colname + '_y'\n",
    "            colname_x = colname + '_x'\n",
    "            merged_inner.drop(colname_y, axis=1, inplace=True)\n",
    "            merged_inner.rename(columns={colname_x: colname}, inplace=True)\n",
    "\"\"\";"
   ]
  },
  {
   "cell_type": "code",
   "execution_count": 86,
   "metadata": {},
   "outputs": [],
   "source": [
    "tooldic = {'surfer':'https://surfer.nmr.mgh.harvard.edu/', \n",
    "       'fsl':'http://purl.org/nidash/fsl#',\n",
    "       'ants':'http://stnava.github.io/ANTs/'}\n",
    "normalDev = (2, '2', 'Typically Developing Children')\n",
    "adhd = (1, '1', 'ADHD-Combined', 'ADHD-Hyperactive/Impulsive', 'ADHD-Inattentive')\n",
    "\n",
    "\n",
    "def define_conditions(df, tooldic={}, normalDev=(), adhd=(), h2ube={}):\n",
    "    \"\"\"\n",
    "    create dic of conditions\n",
    "    \n",
    "    \"\"\"\n",
    "    diccond={}\n",
    "    diccond['left'] = ((df['laterality'] == 'L')|(hie['laterality'] == 'Left'))\n",
    "    diccond['right'] = ((df['laterality'] == 'R')|(hie['laterality'] == 'Right'))\n",
    "    diccond['age20'] = (df['Age'] <= 20)\n",
    "    \n",
    "    #========== tool conditions\n",
    "    diccond['fs'] = (df['tool'] == tooldic['surfer'])\n",
    "    diccond['ants'] = (df['tool'] == tooldic['ants'])\n",
    "    diccond['fsl'] = (df['tool'] == tooldic['fsl'])\n",
    "    \n",
    "    #========== IQ conditions\n",
    "    diccond['fiq>0'] = (df['FIQ'] > 0 )\n",
    "    \n",
    "    #========== disease conditions\n",
    "    pop_normDev = False\n",
    "    for pop in normalDev:\n",
    "        # print(np.sum(pop_cond))\n",
    "        pop_normDev = pop_normDev | (df['dx'] == pop)\n",
    "    diccond['normDev'] =  pop_normDev\n",
    "    \n",
    "    pop_adhd = False\n",
    "    for pop in adhd:\n",
    "        # print(np.sum(pop_cond))\n",
    "        pop_adhd = pop_adhd | (df['dx'] == pop)\n",
    "    diccond['adhd'] =  pop_adhd\n",
    "\n",
    "    #=========== ROIs\n",
    "    roi_ub = ''\n",
    "    diccond['bvol'] = (df['softwareLabel'] == 'BVOL (mm^3)')\n",
    "    diccond['brainseg'] = (df['softwareLabel'] == 'Brain Segmentation Volume (mm^3)') \n",
    "    diccond['caudate'] = (df['structure'] == h2ube['Caudate'])\n",
    "    diccond['putamen'] = (df['structure'] == h2ube['Putamen'])\n",
    "    diccond['TIV'] = (df['structure'] == h2ube['Estimated Total Intracranial Volume'])\n",
    "    diccond['wm'] =  (df['structure'] == h2ube['hemisphere cerebral white matter volume'])\n",
    "    diccond['gm'] =  (df['structure'] == h2ube['Total gray matter volume'])\n",
    "    diccond['csf'] =  (df['structure'] == h2ube['CSF'])\n",
    "    diccond['ccant'] =  (df['structure'] == h2ube['CC_Anterior'])\n",
    "    diccond['cccen'] =  (df['structure'] == h2ube['CC_Central'])\n",
    "    diccond['ccpos'] =  (df['structure'] == h2ube['CC_Posterior'])\n",
    "\n",
    "    #=========== site\n",
    "    diccond['abide'] = (df['study'].str.contains(\"ABIDE\"))\n",
    "    diccond['adhd200'] = (df['study'] == 'ADHD200')\n",
    "    \n",
    "    #=========== Gender\n",
    "    diccond['male'] = (df['Gender']=='Male')\n",
    "    diccond['female'] = (df['Gender']=='Female')\n",
    "\n",
    "    return diccond\n"
   ]
  },
  {
   "cell_type": "code",
   "execution_count": 43,
   "metadata": {},
   "outputs": [
    {
     "data": {
      "text/plain": [
       "dict_keys(['left', 'right', 'age20', 'fs', 'ants', 'fsl', 'fiq>0', 'normDev', 'adhd', 'bvol', 'brainseg', 'caudate', 'putamen', 'TIV', 'wm', 'gm', 'csf', 'abide', 'adhd200', 'male', 'female'])"
      ]
     },
     "execution_count": 43,
     "metadata": {},
     "output_type": "execute_result"
    }
   ],
   "source": [
    "condic = define_conditions(hie, tooldic=tooldic, normalDev=normalDev, adhd=adhd, h2ube=h2ube)\n",
    "condic.keys()"
   ]
  },
  {
   "cell_type": "code",
   "execution_count": 44,
   "metadata": {},
   "outputs": [],
   "source": [
    "def apply_cond(df, cndc, conditions, dropnaset=[]):\n",
    "    \"\"\"\n",
    "    List of conditions\n",
    "    \"\"\"\n",
    "    cond = np.full((len(df),), True, dtype=bool)\n",
    "    \n",
    "    for c in conditions:\n",
    "        cond = cond & cndc[c]\n",
    "        # print(np.sum(cond))\n",
    "        \n",
    "    # condition = [cond & cndc[c] for c in conditions][0]\n",
    "    # print(len(condition),np.sum(condition))\n",
    "    \n",
    "    # make a copy\n",
    "    tmp = df.loc[cond].dropna(subset=dropnaset)\n",
    "    return tmp\n",
    "    "
   ]
  },
  {
   "cell_type": "code",
   "execution_count": 45,
   "metadata": {},
   "outputs": [
    {
     "name": "stdout",
     "output_type": "stream",
     "text": [
      "manual:  422\n"
     ]
    }
   ],
   "source": [
    "# hyp1 = ['bvol','ants','left','age20','fiq>0','normDev']\n",
    "# hyp1 = ['fiq>0','abide','caudate', 'putamen']\n",
    "hyp1 = ['female', 'caudate','fs','fiq>0'] # ,'abide']\n",
    "condic = define_conditions(hie, tooldic=tooldic, normalDev=normalDev, adhd=adhd, h2ube=h2ube)\n",
    "tmp = apply_cond(hie, condic, hyp1)\n",
    "# print('apply:', len(tmp.dropna(subset=['FIQ', 'volume', 'Gender'])))\n",
    "\n",
    "manual = hie.loc[(hie['Gender']=='Female') & \n",
    "#                 (hie['study'].str.contains(\"ABIDE\")) &\n",
    "                 (hie['structure'] == h2ube['Caudate']) &\n",
    "                 (hie['tool'] == tooldic['surfer']) & \n",
    "                 (hie['FIQ'] > 0) ] \n",
    "manual = manual.dropna(subset=['FIQ', 'volume', 'Gender']) #,inplace=True)\n",
    "print('manual: ',len(manual))\n",
    "assert len(tmp.dropna(subset=['FIQ', 'volume', 'Gender'])) == len(manual)\n"
   ]
  },
  {
   "cell_type": "code",
   "execution_count": 46,
   "metadata": {},
   "outputs": [],
   "source": [
    "structures = set(hie.structure)\n"
   ]
  },
  {
   "cell_type": "markdown",
   "metadata": {},
   "source": [
    "Hypotheses\n",
    "\n",
    "PIET-1: Total Brain Volume will positively correlate with IQ (in both sexes across the complete age range).\n",
    "\n",
    "MAC-1: Left striatum volume (caudate + putamen) will positively correlate with IQ in the total (male + female) child (age < 20) group.\n",
    "\n",
    "MAC-2: Left striatum volume (caudate + putamen) will positively correlate with IQ in the male children group.\n",
    "\n",
    "MAC-3: Left striatum volume (caudate + putamen) will not correlate with IQ in the female children group.\n",
    "\n",
    "GANJ-1: Total Corpus Callosum midsagittal area, after correcting for total brain volume, will negatively correlate with IQ.\n",
    "\n",
    "GANJ-2: Total Corpus Callosum midsagittal area, after correcting for total brain volume, will negatively correlate with IQ in the young (age < 12) group.\n",
    "\n",
    "GANJ-3: Total Corpus Callosum midsagittal area, after correcting for total brain volume, will not significantly correlate with IQ in the adolescent (age > 12) group.\n",
    "\n",
    "GANJ-4:. Total Corpus Callosum midsagittal area, after correcting for total brain volume, will negatively correlate with IQ in the male (age < 12) group.\n",
    "\n",
    "GANJ-5: Total Corpus Callosum midsagittal area, after correcting for total brain volume, will not significantly correlate with IQ in the female (age < 12) group.\n"
   ]
  },
  {
   "cell_type": "markdown",
   "metadata": {},
   "source": [
    "### PIET-1: Total Brain Volume will positively correlate with IQ (in both sexes across the complete age range).\n"
   ]
  },
  {
   "cell_type": "code",
   "execution_count": 47,
   "metadata": {},
   "outputs": [
    {
     "name": "stdout",
     "output_type": "stream",
     "text": [
      "dict_keys(['left', 'right', 'age20', 'fs', 'ants', 'fsl', 'fiq>0', 'normDev', 'adhd', 'bvol', 'brainseg', 'caudate', 'putamen', 'TIV', 'wm', 'gm', 'csf', 'abide', 'adhd200', 'male', 'female'])\n"
     ]
    }
   ],
   "source": [
    "condic = define_conditions(hie, tooldic=tooldic, normalDev=normalDev, adhd=adhd, h2ube=h2ube)\n",
    "print(condic.keys())\n",
    "dropnaset = ['FIQ', 'volume', 'Gender']\n"
   ]
  },
  {
   "cell_type": "code",
   "execution_count": 48,
   "metadata": {},
   "outputs": [
    {
     "name": "stdout",
     "output_type": "stream",
     "text": [
      "458\n"
     ]
    }
   ],
   "source": [
    "hyp1 = ['bvol', 'fiq>0','normDev','ants'] # ,'abide']\n",
    "tmp = apply_cond(hie, condic, hyp1, dropnaset=dropnaset)\n",
    "print(len(tmp))"
   ]
  },
  {
   "cell_type": "code",
   "execution_count": 49,
   "metadata": {},
   "outputs": [
    {
     "name": "stdout",
     "output_type": "stream",
     "text": [
      " Structure =  bvol\n",
      "                            OLS Regression Results                            \n",
      "==============================================================================\n",
      "Dep. Variable:                    FIQ   R-squared:                       0.128\n",
      "Model:                            OLS   Adj. R-squared:                  0.092\n",
      "Method:                 Least Squares   F-statistic:                     3.583\n",
      "Date:                Mon, 02 Dec 2019   Prob (F-statistic):           1.28e-06\n",
      "Time:                        07:03:17   Log-Likelihood:                -1791.6\n",
      "No. Observations:                 458   AIC:                             3621.\n",
      "Df Residuals:                     439   BIC:                             3700.\n",
      "Df Model:                          18                                         \n",
      "Covariance Type:            nonrobust                                         \n",
      "================================================================================================\n",
      "                                   coef    std err          t      P>|t|      [0.025      0.975]\n",
      "------------------------------------------------------------------------------------------------\n",
      "Intercept                       85.8283     11.075      7.750      0.000      64.063     107.594\n",
      "study[T.ABIDE CMU_b Site]       15.6274     15.136      1.032      0.302     -14.120      45.375\n",
      "study[T.ABIDE KKI Site]         14.7094     15.132      0.972      0.332     -15.031      44.450\n",
      "study[T.ABIDE Leuven_1 Site]     0.2334     15.134      0.015      0.988     -29.510      29.977\n",
      "study[T.ABIDE MaxMun_c Site]     8.3841     15.270      0.549      0.583     -21.627      38.395\n",
      "study[T.ABIDE NYU Site]          2.7016      8.826      0.306      0.760     -14.645      20.048\n",
      "study[T.ABIDE OHSU Site]         5.7130      9.302      0.614      0.539     -12.569      23.995\n",
      "study[T.ABIDE Olin Site]         5.0148      9.267      0.541      0.589     -13.199      23.229\n",
      "study[T.ABIDE Pitt Site]        -1.3262      9.092     -0.146      0.884     -19.195      16.543\n",
      "study[T.ABIDE SDSU Site]        -1.8008      9.164     -0.197      0.844     -19.812      16.210\n",
      "study[T.ABIDE Stanford Site]     6.5050      9.206      0.707      0.480     -11.588      24.598\n",
      "study[T.ABIDE Trinity Site]     -2.1499      9.136     -0.235      0.814     -20.105      15.806\n",
      "study[T.ABIDE UCLA_1 Site]      -4.0930      9.007     -0.454      0.650     -21.796      13.610\n",
      "study[T.ABIDE UCLA_2 Site]       1.6144      9.385      0.172      0.863     -16.830      20.059\n",
      "study[T.ABIDE UM_1 Site]        -2.8860      8.903     -0.324      0.746     -20.384      14.612\n",
      "study[T.ABIDE UM_2 Site]         0.2529      9.152      0.028      0.978     -17.733      18.239\n",
      "study[T.ABIDE Yale Site]        -4.1128      9.044     -0.455      0.650     -21.888      13.662\n",
      "study[T.ADHD200]                 6.8153      8.842      0.771      0.441     -10.563      24.193\n",
      "Q('volume')                   1.655e-05   4.76e-06      3.478      0.001     7.2e-06    2.59e-05\n",
      "==============================================================================\n",
      "Omnibus:                        7.111   Durbin-Watson:                   2.047\n",
      "Prob(Omnibus):                  0.029   Jarque-Bera (JB):                7.772\n",
      "Skew:                          -0.211   Prob(JB):                       0.0205\n",
      "Kurtosis:                       3.478   Cond. No.                     9.61e+07\n",
      "==============================================================================\n",
      "\n",
      "Warnings:\n",
      "[1] Standard Errors assume that the covariance matrix of the errors is correctly specified.\n",
      "[2] The condition number is large, 9.61e+07. This might indicate that there are\n",
      "strong multicollinearity or other numerical problems.\n"
     ]
    }
   ],
   "source": [
    "print(\" Structure = \", 'bvol')\n",
    "#assert ube2h[tmp.iloc[0]['structure']] == roi\n",
    "\n",
    "iq = 'FIQ'\n",
    "\n",
    "# md = smf.ols(iq + \" ~ Q('volume') + Gender + Age + study \", data=tmp) #  \n",
    "md = smf.ols(iq + \" ~ Q('volume') + study \", data=tmp) #  \n",
    "mdf = md.fit()\n",
    "print(mdf.summary())"
   ]
  },
  {
   "cell_type": "markdown",
   "metadata": {},
   "source": [
    "### MAC-1: Left striatum volume (caudate + putamen) will positively correlate with IQ in the total (male + female) child (age < 20) group.\n"
   ]
  },
  {
   "cell_type": "code",
   "execution_count": 77,
   "metadata": {},
   "outputs": [
    {
     "name": "stdout",
     "output_type": "stream",
     "text": [
      "409 409 409\n",
      "['rowid', 'study', 'ID', 'Age', 'dx', 'Gender', 'FIQ', 'PIQ', 'VIQ', 'tool', 'softwareLabel', 'structure', 'laterality', 'volumeLeft', 'volumeRight', 'caudate', 'putamen', 'striatum', 'TIV'] 409\n"
     ]
    }
   ],
   "source": [
    "hyp2_caud = ['fiq>0','normDev','fs','age20','caudate'] # ,'abide']\n",
    "hyp2_put = ['fiq>0','normDev','fs','age20','putamen'] # ,'abide']\n",
    "hyp2_tiv = ['fiq>0','normDev','fs','age20','TIV'] # ,'abide']\n",
    "tmp_caud = apply_cond(hie, condic, hyp2_caud, dropnaset=dropnaset)\n",
    "caud = split_merge_df(tmp_caud, indx='ID', spliton='laterality', levels=['Left','Right'], \n",
    "                       keep_col='volume', op='+',colrename='caudate')\n",
    "tmp_put = apply_cond(hie, condic, hyp2_put, dropnaset=dropnaset)\n",
    "put = split_merge_df(tmp_put, indx='ID', spliton='laterality', levels=['Left','Right'], \n",
    "                       keep_col='volume', op='+',colrename='putamen')\n",
    "tmp_tiv = apply_cond(hie, condic, hyp2_tiv, dropnaset=dropnaset)\n",
    "print(len(caud), len(put), len(tmp_tiv))\n",
    "\n",
    "stria = pd.merge(left=caud, right=put[['ID','putamen']], left_on='ID', right_on='ID')\n",
    "stria['striatum'] = stria['caudate']+stria['putamen']\n",
    "stria = pd.merge(left=stria, right=tmp_tiv[['ID','volume']], left_on='ID', right_on='ID')\n",
    "stria.rename(columns={'volume':'TIV'},inplace=True)\n",
    "print(list(stria),len(stria))"
   ]
  },
  {
   "cell_type": "code",
   "execution_count": 78,
   "metadata": {},
   "outputs": [
    {
     "name": "stdout",
     "output_type": "stream",
     "text": [
      " Structure =  striatum\n",
      "                            OLS Regression Results                            \n",
      "==============================================================================\n",
      "Dep. Variable:                    FIQ   R-squared:                       0.108\n",
      "Model:                            OLS   Adj. R-squared:                  0.067\n",
      "Method:                 Least Squares   F-statistic:                     2.631\n",
      "Date:                Mon, 02 Dec 2019   Prob (F-statistic):           0.000340\n",
      "Time:                        07:27:44   Log-Likelihood:                -1587.1\n",
      "No. Observations:                 409   AIC:                             3212.\n",
      "Df Residuals:                     390   BIC:                             3288.\n",
      "Df Model:                          18                                         \n",
      "Covariance Type:            nonrobust                                         \n",
      "================================================================================================\n",
      "                                   coef    std err          t      P>|t|      [0.025      0.975]\n",
      "------------------------------------------------------------------------------------------------\n",
      "Intercept                      105.7816     13.685      7.730      0.000      78.877     132.687\n",
      "study[T.ABIDE Caltech Site]    -12.5946     13.463     -0.936      0.350     -39.063      13.874\n",
      "study[T.ABIDE KKI Site]        -13.4459     12.274     -1.095      0.274     -37.577      10.685\n",
      "study[T.ABIDE MaxMun_d Site]   -16.0970     13.007     -1.238      0.217     -41.670       9.476\n",
      "study[T.ABIDE NYU Site]        -15.2175     12.184     -1.249      0.212     -39.172       8.737\n",
      "study[T.ABIDE OHSU Site]       -10.5809     12.428     -0.851      0.395     -35.015      13.853\n",
      "study[T.ABIDE Olin Site]       -18.0676     12.559     -1.439      0.151     -42.759       6.623\n",
      "study[T.ABIDE Pitt Site]       -19.1521     12.442     -1.539      0.125     -43.614       5.310\n",
      "study[T.ABIDE SDSU Site]       -18.1522     12.352     -1.470      0.142     -42.436       6.132\n",
      "study[T.ABIDE Stanford Site]   -10.7922     12.378     -0.872      0.384     -35.128      13.543\n",
      "study[T.ABIDE Trinity Site]    -19.2919     12.425     -1.553      0.121     -43.719       5.136\n",
      "study[T.ABIDE UCLA_1 Site]     -21.5372     12.255     -1.757      0.080     -45.632       2.557\n",
      "study[T.ABIDE UCLA_2 Site]     -15.4813     12.520     -1.236      0.217     -40.097       9.134\n",
      "study[T.ABIDE UM_1 Site]       -18.8059     12.141     -1.549      0.122     -42.677       5.065\n",
      "study[T.ABIDE UM_2 Site]       -15.8584     12.364     -1.283      0.200     -40.168       8.451\n",
      "study[T.ABIDE Yale Site]       -20.3270     12.239     -1.661      0.098     -44.389       3.735\n",
      "study[T.ADHD200]               -11.5078     12.150     -0.947      0.344     -35.396      12.381\n",
      "Q('striatum')                    0.0007      0.000      1.735      0.084   -9.63e-05       0.002\n",
      "TIV                           4.548e-06   5.07e-06      0.898      0.370   -5.41e-06    1.45e-05\n",
      "==============================================================================\n",
      "Omnibus:                        3.790   Durbin-Watson:                   2.025\n",
      "Prob(Omnibus):                  0.150   Jarque-Bera (JB):                3.614\n",
      "Skew:                          -0.177   Prob(JB):                        0.164\n",
      "Kurtosis:                       3.296   Cond. No.                     1.28e+08\n",
      "==============================================================================\n",
      "\n",
      "Warnings:\n",
      "[1] Standard Errors assume that the covariance matrix of the errors is correctly specified.\n",
      "[2] The condition number is large, 1.28e+08. This might indicate that there are\n",
      "strong multicollinearity or other numerical problems.\n"
     ]
    }
   ],
   "source": [
    "print(\" Structure = \", 'striatum')\n",
    "\n",
    "iq = 'FIQ'\n",
    "\n",
    "# md = smf.ols(iq + \" ~ Q('volume') + Gender + Age + study \", data=tmp) #  \n",
    "# md = smf.ols(iq + \" ~ Q('striatum') + study + TIV \", data=stria) #  \n",
    "md = smf.ols(iq + \" ~ Q('striatum') + study \", data=stria) #  \n",
    "mdf = md.fit()\n",
    "print(mdf.summary())"
   ]
  },
  {
   "cell_type": "markdown",
   "metadata": {},
   "source": [
    "### MAC-2: Left striatum volume (caudate + putamen) will positively correlate with IQ in the male children group.\n"
   ]
  },
  {
   "cell_type": "code",
   "execution_count": 80,
   "metadata": {},
   "outputs": [
    {
     "name": "stdout",
     "output_type": "stream",
     "text": [
      "321 321 321\n",
      "['rowid', 'study', 'ID', 'Age', 'dx', 'Gender', 'FIQ', 'PIQ', 'VIQ', 'tool', 'softwareLabel', 'structure', 'laterality', 'caudate', 'putamen', 'striatum', 'TIV'] 321\n"
     ]
    }
   ],
   "source": [
    "hyp3_caud = ['fiq>0','normDev','fs','age20','caudate','left','male'] # ,'abide']\n",
    "hyp3_put = ['fiq>0','normDev','fs','age20','putamen','left','male'] # ,'abide']\n",
    "hyp3_tiv = ['fiq>0','normDev','fs','age20','TIV','male'] # ,'abide']\n",
    "caud = apply_cond(hie, condic, hyp3_caud, dropnaset=dropnaset)\n",
    "caud.rename(columns={'volume':'caudate'},inplace=True)\n",
    "\n",
    "put = apply_cond(hie, condic, hyp3_put, dropnaset=dropnaset)\n",
    "put.rename(columns={'volume':'putamen'},inplace=True)\n",
    "\n",
    "tiv = apply_cond(hie, condic, hyp3_tiv, dropnaset=dropnaset)\n",
    "print(len(caud), len(put), len(tiv))\n",
    "\n",
    "stria = pd.merge(left=caud, right=put[['ID','putamen']], left_on='ID', right_on='ID')\n",
    "stria['striatum'] = stria['caudate']+stria['putamen']\n",
    "stria = pd.merge(left=stria, right=tmp_tiv[['ID','volume']], left_on='ID', right_on='ID')\n",
    "stria.rename(columns={'volume':'TIV'},inplace=True)\n",
    "print(list(stria),len(stria))"
   ]
  },
  {
   "cell_type": "code",
   "execution_count": 83,
   "metadata": {},
   "outputs": [
    {
     "name": "stdout",
     "output_type": "stream",
     "text": [
      " Structure =  striatum\n",
      "                            OLS Regression Results                            \n",
      "==============================================================================\n",
      "Dep. Variable:                    FIQ   R-squared:                       0.129\n",
      "Model:                            OLS   Adj. R-squared:                  0.083\n",
      "Method:                 Least Squares   F-statistic:                     2.818\n",
      "Date:                Mon, 02 Dec 2019   Prob (F-statistic):           0.000280\n",
      "Time:                        07:36:25   Log-Likelihood:                -1231.4\n",
      "No. Observations:                 321   AIC:                             2497.\n",
      "Df Residuals:                     304   BIC:                             2561.\n",
      "Df Model:                          16                                         \n",
      "Covariance Type:            nonrobust                                         \n",
      "================================================================================================\n",
      "                                   coef    std err          t      P>|t|      [0.025      0.975]\n",
      "------------------------------------------------------------------------------------------------\n",
      "Intercept                       93.5148      9.601      9.740      0.000      74.621     112.408\n",
      "study[T.ABIDE KKI Site]         -4.9258      7.083     -0.695      0.487     -18.864       9.012\n",
      "study[T.ABIDE MaxMun_d Site]    -5.1230      8.152     -0.628      0.530     -21.164      10.918\n",
      "study[T.ABIDE NYU Site]         -4.7213      6.921     -0.682      0.496     -18.341       8.899\n",
      "study[T.ABIDE OHSU Site]         0.2431      7.289      0.033      0.973     -14.101      14.587\n",
      "study[T.ABIDE Olin Site]        -9.1832      7.607     -1.207      0.228     -24.152       5.786\n",
      "study[T.ABIDE Pitt Site]        -9.4698      7.349     -1.289      0.199     -23.932       4.992\n",
      "study[T.ABIDE SDSU Site]        -5.2545      7.334     -0.716      0.474     -19.686       9.177\n",
      "study[T.ABIDE Stanford Site]    -1.9550      7.289     -0.268      0.789     -16.299      12.389\n",
      "study[T.ABIDE Trinity Site]     -8.0652      7.227     -1.116      0.265     -22.287       6.157\n",
      "study[T.ABIDE UCLA_1 Site]     -11.5402      7.007     -1.647      0.101     -25.329       2.248\n",
      "study[T.ABIDE UCLA_2 Site]      -3.6169      7.521     -0.481      0.631     -18.417      11.183\n",
      "study[T.ABIDE UM_1 Site]        -7.2259      6.926     -1.043      0.298     -20.854       6.403\n",
      "study[T.ABIDE UM_2 Site]        -5.3213      7.192     -0.740      0.460     -19.474       8.832\n",
      "study[T.ABIDE Yale Site]       -11.9954      7.140     -1.680      0.094     -26.045       2.054\n",
      "study[T.ADHD200]                -1.6275      6.864     -0.237      0.813     -15.135      11.880\n",
      "Q('striatum')                    0.0024      0.001      3.152      0.002       0.001       0.004\n",
      "==============================================================================\n",
      "Omnibus:                        3.078   Durbin-Watson:                   2.090\n",
      "Prob(Omnibus):                  0.215   Jarque-Bera (JB):                2.800\n",
      "Skew:                          -0.181   Prob(JB):                        0.247\n",
      "Kurtosis:                       3.281   Cond. No.                     4.01e+05\n",
      "==============================================================================\n",
      "\n",
      "Warnings:\n",
      "[1] Standard Errors assume that the covariance matrix of the errors is correctly specified.\n",
      "[2] The condition number is large, 4.01e+05. This might indicate that there are\n",
      "strong multicollinearity or other numerical problems.\n"
     ]
    }
   ],
   "source": [
    "print(\" Structure = \", 'striatum')\n",
    "\n",
    "iq = 'FIQ'\n",
    "\n",
    "# md = smf.ols(iq + \" ~ Q('volume') + Gender + Age + study \", data=tmp) #  \n",
    "#md = smf.ols(iq + \" ~ Q('striatum') + study + TIV \", data=stria) #  \n",
    "md = smf.ols(iq + \" ~ Q('striatum') + study \", data=stria) #  \n",
    "mdf = md.fit()\n",
    "print(mdf.summary())"
   ]
  },
  {
   "cell_type": "markdown",
   "metadata": {},
   "source": [
    "#### hyp3 note : only correlates when TIV is not covaried out"
   ]
  },
  {
   "cell_type": "code",
   "execution_count": null,
   "metadata": {},
   "outputs": [],
   "source": []
  },
  {
   "cell_type": "markdown",
   "metadata": {},
   "source": [
    "### MAC-3: Left striatum volume (caudate + putamen) will not correlate with IQ in the female children group.\n"
   ]
  },
  {
   "cell_type": "code",
   "execution_count": 84,
   "metadata": {},
   "outputs": [
    {
     "name": "stdout",
     "output_type": "stream",
     "text": [
      "88 88 88\n",
      "['rowid', 'study', 'ID', 'Age', 'dx', 'Gender', 'FIQ', 'PIQ', 'VIQ', 'tool', 'softwareLabel', 'structure', 'laterality', 'caudate', 'putamen', 'striatum', 'TIV'] 88\n"
     ]
    }
   ],
   "source": [
    "hyp4_caud = ['fiq>0','normDev','fs','age20','caudate','left','female'] # ,'abide']\n",
    "hyp4_put = ['fiq>0','normDev','fs','age20','putamen','left','female'] # ,'abide']\n",
    "hyp4_tiv = ['fiq>0','normDev','fs','age20','TIV','female'] # ,'abide']\n",
    "caud = apply_cond(hie, condic, hyp4_caud, dropnaset=dropnaset)\n",
    "caud.rename(columns={'volume':'caudate'},inplace=True)\n",
    "\n",
    "put = apply_cond(hie, condic, hyp4_put, dropnaset=dropnaset)\n",
    "put.rename(columns={'volume':'putamen'},inplace=True)\n",
    "\n",
    "tiv = apply_cond(hie, condic, hyp4_tiv, dropnaset=dropnaset)\n",
    "print(len(caud), len(put), len(tiv))\n",
    "\n",
    "stria = pd.merge(left=caud, right=put[['ID','putamen']], left_on='ID', right_on='ID')\n",
    "stria['striatum'] = stria['caudate']+stria['putamen']\n",
    "stria = pd.merge(left=stria, right=tmp_tiv[['ID','volume']], left_on='ID', right_on='ID')\n",
    "stria.rename(columns={'volume':'TIV'},inplace=True)\n",
    "print(list(stria),len(stria))"
   ]
  },
  {
   "cell_type": "code",
   "execution_count": 85,
   "metadata": {},
   "outputs": [
    {
     "name": "stdout",
     "output_type": "stream",
     "text": [
      " Structure =  striatum\n",
      "                            OLS Regression Results                            \n",
      "==============================================================================\n",
      "Dep. Variable:                    FIQ   R-squared:                       0.153\n",
      "Model:                            OLS   Adj. R-squared:                 -0.010\n",
      "Method:                 Least Squares   F-statistic:                    0.9409\n",
      "Date:                Mon, 02 Dec 2019   Prob (F-statistic):              0.521\n",
      "Time:                        11:56:31   Log-Likelihood:                -348.27\n",
      "No. Observations:                  88   AIC:                             726.5\n",
      "Df Residuals:                      73   BIC:                             763.7\n",
      "Df Model:                          14                                         \n",
      "Covariance Type:            nonrobust                                         \n",
      "================================================================================================\n",
      "                                   coef    std err          t      P>|t|      [0.025      0.975]\n",
      "------------------------------------------------------------------------------------------------\n",
      "Intercept                      115.6403     21.360      5.414      0.000      73.070     158.210\n",
      "study[T.ABIDE Caltech Site]    -14.2145     19.802     -0.718      0.475     -53.679      25.250\n",
      "study[T.ABIDE KKI Site]         -9.0229     14.852     -0.608      0.545     -38.623      20.577\n",
      "study[T.ABIDE NYU Site]        -15.5351     14.497     -1.072      0.287     -44.427      13.357\n",
      "study[T.ABIDE Olin Site]       -11.6371     17.169     -0.678      0.500     -45.855      22.581\n",
      "study[T.ABIDE Pitt Site]        -8.8976     17.241     -0.516      0.607     -43.260      25.465\n",
      "study[T.ABIDE SDSU Site]       -22.8816     15.380     -1.488      0.141     -53.535       7.772\n",
      "study[T.ABIDE Stanford Site]    -8.2464     15.551     -0.530      0.598     -39.239      22.746\n",
      "study[T.ABIDE UCLA_1 Site]     -19.3618     15.633     -1.239      0.219     -50.518      11.795\n",
      "study[T.ABIDE UCLA_2 Site]     -23.8598     17.041     -1.400      0.166     -57.823      10.103\n",
      "study[T.ABIDE UM_1 Site]       -20.3182     14.346     -1.416      0.161     -48.910       8.274\n",
      "study[T.ABIDE UM_2 Site]       -17.4326     20.219     -0.862      0.391     -57.730      22.865\n",
      "study[T.ABIDE Yale Site]       -13.4157     14.757     -0.909      0.366     -42.825      15.994\n",
      "study[T.ADHD200]                -9.8658     14.409     -0.685      0.496     -38.583      18.852\n",
      "Q('striatum')                    0.0010      0.002      0.516      0.608      -0.003       0.005\n",
      "==============================================================================\n",
      "Omnibus:                        1.546   Durbin-Watson:                   2.000\n",
      "Prob(Omnibus):                  0.462   Jarque-Bera (JB):                1.125\n",
      "Skew:                          -0.269   Prob(JB):                        0.570\n",
      "Kurtosis:                       3.131   Cond. No.                     3.17e+05\n",
      "==============================================================================\n",
      "\n",
      "Warnings:\n",
      "[1] Standard Errors assume that the covariance matrix of the errors is correctly specified.\n",
      "[2] The condition number is large, 3.17e+05. This might indicate that there are\n",
      "strong multicollinearity or other numerical problems.\n"
     ]
    }
   ],
   "source": [
    "print(\" Structure = \", 'striatum')\n",
    "\n",
    "iq = 'FIQ'\n",
    "#md = smf.ols(iq + \" ~ Q('striatum') + study + TIV \", data=stria) #  \n",
    "md = smf.ols(iq + \" ~ Q('striatum') + study \", data=stria) #  \n",
    "mdf = md.fit()\n",
    "print(mdf.summary())"
   ]
  },
  {
   "cell_type": "markdown",
   "metadata": {},
   "source": [
    "### GANJ-1: Total Corpus Callosum midsagittal area, after correcting for total brain volume, will negatively correlate with IQ.\n"
   ]
  },
  {
   "cell_type": "code",
   "execution_count": null,
   "metadata": {},
   "outputs": [],
   "source": []
  }
 ],
 "metadata": {
  "kernelspec": {
   "display_name": "Python 3",
   "language": "python",
   "name": "python3"
  },
  "language_info": {
   "codemirror_mode": {
    "name": "ipython",
    "version": 3
   },
   "file_extension": ".py",
   "mimetype": "text/x-python",
   "name": "python",
   "nbconvert_exporter": "python",
   "pygments_lexer": "ipython3",
   "version": "3.6.8"
  },
  "toc": {
   "nav_menu": {},
   "number_sections": true,
   "sideBar": true,
   "skip_h1_title": false,
   "toc_cell": false,
   "toc_position": {},
   "toc_section_display": "block",
   "toc_window_display": false
  }
 },
 "nbformat": 4,
 "nbformat_minor": 2
}
