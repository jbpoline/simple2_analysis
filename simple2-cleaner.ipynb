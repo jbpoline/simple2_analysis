{
 "cells": [
  {
   "cell_type": "code",
   "execution_count": 1,
   "metadata": {},
   "outputs": [],
   "source": [
    "import pandas as pd\n",
    "import numpy as np\n",
    "import statsmodels as stt\n",
    "import scipy.stats as sst\n",
    "import os.path as osp\n",
    "from statsmodels import api as sm\n",
    "import statsmodels.formula.api as smf\n",
    "import matplotlib.pyplot as plt\n",
    "import json\n",
    "%matplotlib inline"
   ]
  },
  {
   "cell_type": "code",
   "execution_count": 2,
   "metadata": {},
   "outputs": [
    {
     "name": "stdout",
     "output_type": "stream",
     "text": [
      "/home/jb/code/repronim/simple2/simple2_analysis\n"
     ]
    }
   ],
   "source": [
    "print(osp.realpath(osp.curdir))\n",
    "# relative_path_filename = './data/2019-12-03-simple2_query_output.csv' \n",
    "relative_path_filename = './data/2019-12-21-simple2_query_output2.csv'\n",
    "assert osp.exists(relative_path_filename)"
   ]
  },
  {
   "cell_type": "code",
   "execution_count": 3,
   "metadata": {},
   "outputs": [
    {
     "name": "stdout",
     "output_type": "stream",
     "text": [
      "['study', 'ID', 'tool', 'softwareLabel', 'federatedLabel', 'laterality', 'volume', 'study_y', 'Age', 'dx', 'Gender', 'FIQ']\n",
      "['study', 'ID', 'tool', 'softwareLabel', 'structure', 'laterality', 'volume', 'study_y', 'Age', 'dx', 'Gender', 'FIQ']\n"
     ]
    },
    {
     "name": "stderr",
     "output_type": "stream",
     "text": [
      "/home/jb/virtualenvs/simple2/lib/python3.6/site-packages/IPython/core/interactiveshell.py:3049: DtypeWarning: Columns (9) have mixed types. Specify dtype option on import or set low_memory=False.\n",
      "  interactivity=interactivity, compiler=compiler, result=result)\n"
     ]
    }
   ],
   "source": [
    "hie = pd.read_csv(relative_path_filename, na_values='nd') #, low_memory=False)\n",
    "original_col_names = list(hie)\n",
    "# column names are unique\n",
    "assert len(original_col_names) == len(set(original_col_names))\n",
    "print(list(hie))\n",
    "col_rename = {'federatedLabel':'structure'}\n",
    "hie.rename(columns=col_rename, inplace=True)\n",
    "print(list(hie))"
   ]
  },
  {
   "cell_type": "code",
   "execution_count": 4,
   "metadata": {},
   "outputs": [],
   "source": [
    "# mapping_file = '../segstats_jsonld/segstats_jsonld/mapping_data/freesurfermap.json'\n",
    "mapping_file = '../segstats_jsonld/segstats_jsonld/mapping_data/freesurfer-cdes.json'\n",
    "assert osp.exists(mapping_file)\n",
    "with open(mapping_file, \"r\") as read_file:\n",
    "    roi_map = json.load(read_file)"
   ]
  },
  {
   "cell_type": "code",
   "execution_count": 5,
   "metadata": {},
   "outputs": [],
   "source": [
    "ube2h = {}\n",
    "label2ube = {}\n",
    "countok=0\n",
    "has_no_isAbout = []\n",
    "has_no_label = []\n",
    "\n",
    "for (k,v) in roi_map.items():\n",
    "    \n",
    "    # discard 'count'\n",
    "    if k == 'count': pass\n",
    "    \n",
    "    # v is a dict that contains the CDE - check that we have a isAbout and label    \n",
    "    elif 'isAbout' in v:\n",
    "        countok += 1\n",
    "        if 'label' in v:\n",
    "            if v['label'] != '' and v['label'] not in ('None','none'):\n",
    "                #ube['<' + v['isAbout'] + '>'] = v['label']\n",
    "                #ebu[v['label']] = '<' + v['isAbout'] + '>'\n",
    "                label2ube[v['label']] = v['isAbout']\n",
    "                if v['isAbout'] not in ube2h.keys():\n",
    "                    no_right_or_left = v['label']\n",
    "                    no_right_or_left = no_right_or_left.replace('Right-','')\n",
    "                    no_right_or_left = no_right_or_left.replace('Right ','')\n",
    "                    no_right_or_left = no_right_or_left.replace('Left-','')\n",
    "                    no_right_or_left = no_right_or_left.replace('Left ','')\n",
    "                    no_right_or_left = no_right_or_left.replace(' NVoxels','')\n",
    "                    no_right_or_left = no_right_or_left.replace(' (mm^3)','')\n",
    "                    ube2h[v['isAbout']] = no_right_or_left\n",
    "            else:\n",
    "                has_no_label.append(k)\n",
    "\n",
    "assert has_no_isAbout == []\n",
    "assert countok == len(label2ube)"
   ]
  },
  {
   "cell_type": "code",
   "execution_count": 6,
   "metadata": {},
   "outputs": [],
   "source": [
    "label2ube;\n",
    "ube2h\n",
    "h2ube = {v: k for k, v in ube2h.items()}"
   ]
  },
  {
   "cell_type": "code",
   "execution_count": null,
   "metadata": {},
   "outputs": [],
   "source": []
  },
  {
   "cell_type": "code",
   "execution_count": 7,
   "metadata": {},
   "outputs": [],
   "source": [
    "def split_merge_df(df, indx='ID', spliton='laterality', levels=['Left','Right'], \n",
    "                       keep_col='volume', op='+', colrename=None):\n",
    "    \"\"\"\n",
    "    1. split the df according to 2 (n?) levels of \"spliton\"\n",
    "    2. merge the 2 (n?) df using indx as index\n",
    "    3. keep only \"keep_col\" for the right temporary df\n",
    "    4. perform op on the columns \"keep_col\" and name it 'keep_col'+'_'+ levels[0] + op + levels[1]    \n",
    "    \n",
    "    example: for adding volumes in right and left structures\n",
    "    \"\"\"\n",
    "    \n",
    "    dflev1 = df[df[spliton]==levels[0]]\n",
    "    dflev2 = df[df[spliton]==levels[1]] \n",
    "\n",
    "    # check that the new dfs have no duplicates in the indx\n",
    "\n",
    "    assert set(dflev1[indx]) == set(dflev2[indx])\n",
    "    assert len(set(dflev1[indx])) == len(dflev1[indx])\n",
    "    \n",
    "    # assert len(set(dflev2[indx])) == len(dflev2[indx])\n",
    "    # suffixes=('_l','_r')\n",
    "    merged_inner = pd.merge(left=dflev1, right=dflev2[[indx,keep_col]], \n",
    "                            left_on=indx, right_on=indx, suffixes=levels, how='inner')\n",
    "#    merged_inner.rename(columns={cols+'_x': cols+'_'+lev1, cols+'_y': cols+'_'+lev2}, inplace=True)\n",
    "\n",
    "    # sum keep_col values in a new column\n",
    "    add_col_name = keep_col + levels[0] + op + levels[1]\n",
    "    if op == '+':\n",
    "        merged_inner[add_col_name] = \\\n",
    "                        merged_inner[keep_col+levels[0]] + merged_inner[keep_col+levels[1]]  \n",
    "    if colrename is not None:\n",
    "        merged_inner.rename(columns={add_col_name:colrename}, inplace=True)\n",
    "    return merged_inner\n",
    "\n",
    "\"\"\"\n",
    "    if droplist != []:\n",
    "        for colname in droplist:\n",
    "            colname_y = colname + '_y'\n",
    "            colname_x = colname + '_x'\n",
    "            merged_inner.drop(colname_y, axis=1, inplace=True)\n",
    "            merged_inner.rename(columns={colname_x: colname}, inplace=True)\n",
    "\"\"\";"
   ]
  },
  {
   "cell_type": "code",
   "execution_count": 8,
   "metadata": {},
   "outputs": [],
   "source": [
    "tooldic = {'surfer':'https://surfer.nmr.mgh.harvard.edu/', \n",
    "       'fsl':'http://purl.org/nidash/fsl#',\n",
    "       'ants':'http://stnava.github.io/ANTs/'}\n",
    "normalDev = (2, '2', 'Typically Developing Children')\n",
    "adhd = (1, '1', 'ADHD-Combined', 'ADHD-Hyperactive/Impulsive', 'ADHD-Inattentive')\n",
    "\n",
    "\n",
    "def define_conditions(df, tooldic={}, normalDev=(), adhd=(), h2ube={}):\n",
    "    \"\"\"\n",
    "    create dic of conditions\n",
    "    \n",
    "    \"\"\"\n",
    "    diccond={}\n",
    "    diccond['left'] = ((df['laterality'] == 'L')|(hie['laterality'] == 'Left'))\n",
    "    diccond['right'] = ((df['laterality'] == 'R')|(hie['laterality'] == 'Right'))\n",
    "    diccond['latNan'] = (df['laterality'] != 'Right') & (df['laterality'] != 'Left')\n",
    "\n",
    "    #========== age \n",
    "    diccond['age<=20'] = (df['Age'] <= 20)\n",
    "    diccond['age<20'] = (df['Age'] < 20)\n",
    "    diccond['age<12'] = (df['Age'] < 12)\n",
    "    diccond['age>=12'] = (df['Age'] >= 12)\n",
    "    \n",
    "    #========== tool conditions\n",
    "    diccond['fs'] = (df['tool'] == tooldic['surfer'])\n",
    "    diccond['ants'] = (df['tool'] == tooldic['ants'])\n",
    "    diccond['fsl'] = (df['tool'] == tooldic['fsl'])\n",
    "    \n",
    "    #========== IQ conditions\n",
    "    diccond['fiq>0'] = (df['FIQ'] > 0 )\n",
    "    \n",
    "    #========== disease conditions\n",
    "    pop_normDev = False\n",
    "    for pop in normalDev:\n",
    "        # print(np.sum(pop_cond))\n",
    "        pop_normDev = pop_normDev | (df['dx'] == pop)\n",
    "    diccond['normDev'] =  pop_normDev\n",
    "    \n",
    "    pop_adhd = False\n",
    "    for pop in adhd:\n",
    "        # print(np.sum(pop_cond))\n",
    "        pop_adhd = pop_adhd | (df['dx'] == pop)\n",
    "    diccond['adhd'] =  pop_adhd\n",
    "\n",
    "    #=========== ROIs\n",
    "    roi_ub = ''\n",
    "    diccond['bvol'] = (df['softwareLabel'] == 'BVOL (mm^3)')\n",
    "    diccond['brainseg'] = (df['softwareLabel'] == 'Brain Segmentation Volume (mm^3)') \n",
    "    diccond['brainsegwov'] = (df['softwareLabel'] == 'Brain Segmentation Volume Without Ventricles (mm^3)') \n",
    "    diccond['caudate'] = (df['structure'] == h2ube['Caudate'])\n",
    "    diccond['putamen'] = (df['structure'] == h2ube['Putamen'])\n",
    "    diccond['TIV'] = (df['structure'] == h2ube['Estimated Total Intracranial Volume'])\n",
    "#\n",
    "    diccond['wm'] =  (df['structure'] == h2ube['hemisphere cerebral white matter volume'])\n",
    "    diccond['gm'] =  (df['structure'] == h2ube['Total gray matter volume'])\n",
    "    diccond['csf'] =  (df['structure'] == h2ube['CSF'])\n",
    "#\n",
    "    diccond['wmfsl'] =  (df['softwareLabel'] == 'white (mm^3)')\n",
    "    diccond['gmfsl'] =  (df['softwareLabel'] == 'gray (mm^3)')\n",
    "    diccond['csffsl'] =  (df['softwareLabel'] == 'csf (mm^3)')\n",
    "#\n",
    "    diccond['ccant'] =  (df['structure'] == h2ube['CC_Anterior'])\n",
    "    diccond['cccen'] =  (df['structure'] == h2ube['CC_Central'])\n",
    "    diccond['ccpos'] =  (df['structure'] == h2ube['CC_Posterior'])\n",
    "\n",
    "    #=========== site\n",
    "    diccond['abide'] = (df['study'].str.contains(\"ABIDE\"))\n",
    "    diccond['adhd200'] = (df['study'].str.contains(\"ADHD\"))\n",
    "    \n",
    "    #=========== Gender\n",
    "    diccond['male'] = (df['Gender']=='Male')\n",
    "    diccond['female'] = (df['Gender']=='Female')\n",
    "\n",
    "    return diccond\n"
   ]
  },
  {
   "cell_type": "code",
   "execution_count": 9,
   "metadata": {},
   "outputs": [
    {
     "data": {
      "text/plain": [
       "dict_keys(['left', 'right', 'latNan', 'age<=20', 'age<20', 'age<12', 'age>=12', 'fs', 'ants', 'fsl', 'fiq>0', 'normDev', 'adhd', 'bvol', 'brainseg', 'brainsegwov', 'caudate', 'putamen', 'TIV', 'wm', 'gm', 'csf', 'wmfsl', 'gmfsl', 'csffsl', 'ccant', 'cccen', 'ccpos', 'abide', 'adhd200', 'male', 'female'])"
      ]
     },
     "execution_count": 9,
     "metadata": {},
     "output_type": "execute_result"
    }
   ],
   "source": [
    "condic = define_conditions(hie, tooldic=tooldic, normalDev=normalDev, adhd=adhd, h2ube=h2ube)\n",
    "condic.keys()"
   ]
  },
  {
   "cell_type": "code",
   "execution_count": 10,
   "metadata": {},
   "outputs": [],
   "source": [
    "def apply_cond(df, cndc, conditions, dropnaset=[],columns={}):\n",
    "    \"\"\"\n",
    "    List of conditions\n",
    "    \"\"\"\n",
    "    cond = np.full((len(df),), True, dtype=bool)\n",
    "    \n",
    "    for c in conditions:\n",
    "        cond = cond & cndc[c]\n",
    "        # print(np.sum(cond))\n",
    "        \n",
    "    # condition = [cond & cndc[c] for c in conditions][0]\n",
    "    # print(len(condition),np.sum(condition))\n",
    "    \n",
    "    # make a copy\n",
    "    tmp = df.loc[cond].dropna(subset=dropnaset)\n",
    "    if columns:\n",
    "        tmp.rename(columns=columns, inplace=True)\n",
    "        \n",
    "    if len(tmp) == 0:\n",
    "        print('Warning, len(df)==0' + ' '.join(conditions))\n",
    "        \n",
    "    return tmp\n",
    "    "
   ]
  },
  {
   "cell_type": "code",
   "execution_count": 11,
   "metadata": {},
   "outputs": [],
   "source": [
    "softw = 'surfer'"
   ]
  },
  {
   "cell_type": "code",
   "execution_count": 12,
   "metadata": {},
   "outputs": [
    {
     "name": "stdout",
     "output_type": "stream",
     "text": [
      "manual:  506\n"
     ]
    }
   ],
   "source": [
    "# hyp1 = ['bvol',softw,'left','age<=20','fiq>0','normDev']\n",
    "# hyp1 = ['fiq>0','abide','caudate', 'putamen']\n",
    "hyp1 = ['female', 'caudate', 'fs', 'fiq>0'] # ,'abide']\n",
    "condic = define_conditions(hie, tooldic=tooldic, normalDev=normalDev, adhd=adhd, h2ube=h2ube)\n",
    "tmp = apply_cond(hie, condic, hyp1)\n",
    "# print('apply:', len(tmp.dropna(subset=['FIQ', 'volume', 'Gender'])))\n",
    "\n",
    "manual = hie.loc[(hie['Gender']=='Female') & \n",
    "#                 (hie['study'].str.contains(\"ABIDE\")) &\n",
    "                 (hie['structure'] == h2ube['Caudate']) &\n",
    "                 (hie['tool'] == tooldic[softw]) & \n",
    "                 (hie['FIQ'] > 0) ] \n",
    "manual = manual.dropna(subset=['FIQ', 'volume', 'Gender']) #,inplace=True)\n",
    "print('manual: ',len(manual))\n",
    "assert len(tmp.dropna(subset=['FIQ', 'volume', 'Gender'])) == len(manual)\n"
   ]
  },
  {
   "cell_type": "code",
   "execution_count": 13,
   "metadata": {},
   "outputs": [
    {
     "data": {
      "text/plain": [
       "327"
      ]
     },
     "execution_count": 13,
     "metadata": {},
     "output_type": "execute_result"
    }
   ],
   "source": [
    "#cond = ['abide'] #,'fiq>0'] # ,'abide']\n",
    "cond = ['adhd200'] #,'fiq>0'] # ,'abide']\n",
    "dropnaset = [] #'FIQ']\n",
    "tmp_df = apply_cond(hie, condic, cond, dropnaset=dropnaset, columns={'volume':'brainvol'})\n",
    "len(set(tmp_df['ID']))"
   ]
  },
  {
   "cell_type": "code",
   "execution_count": 14,
   "metadata": {},
   "outputs": [],
   "source": [
    "structures = set(hie.structure)\n"
   ]
  },
  {
   "cell_type": "markdown",
   "metadata": {},
   "source": [
    "Hypotheses\n",
    "\n",
    "PIET-1: Total Brain Volume will positively correlate with IQ (in both sexes across the complete age range).\n",
    "\n",
    "MAC-1: Left striatum volume (caudate + putamen) will positively correlate with IQ in the total (male + female) child (age < 20) group.\n",
    "\n",
    "MAC-2: Left striatum volume (caudate + putamen) will positively correlate with IQ in the male children group.\n",
    "\n",
    "MAC-3: Left striatum volume (caudate + putamen) will not correlate with IQ in the female children group.\n",
    "\n",
    "GANJ-1: Total Corpus Callosum midsagittal area, after correcting for total brain volume, will negatively correlate with IQ.\n",
    "\n",
    "GANJ-2: Total Corpus Callosum midsagittal area, after correcting for total brain volume, will negatively correlate with IQ in the young (age < 12) group.\n",
    "\n",
    "GANJ-3: Total Corpus Callosum midsagittal area, after correcting for total brain volume, will not significantly correlate with IQ in the adolescent (age > 12) group.\n",
    "\n",
    "GANJ-4:. Total Corpus Callosum midsagittal area, after correcting for total brain volume, will negatively correlate with IQ in the male (age < 12) group.\n",
    "\n",
    "GANJ-5: Total Corpus Callosum midsagittal area, after correcting for total brain volume, will not significantly correlate with IQ in the female (age < 12) group.\n",
    "\n",
    "\n",
    "Kennedy.Dave: Yes, please add then ants (and FSL for the first 4 hypotheses) when you get the chance..."
   ]
  },
  {
   "cell_type": "code",
   "execution_count": null,
   "metadata": {},
   "outputs": [],
   "source": []
  },
  {
   "cell_type": "code",
   "execution_count": 15,
   "metadata": {},
   "outputs": [],
   "source": [
    "def md2dic(varname, hyp_name, cond, mdf=None, debug=False):\n",
    "    table2 = mdf.summary().tables[1].data\n",
    "    cols = table2[0]\n",
    "    #print(cols)\n",
    "    #print(table2)\n",
    "    if debug: \n",
    "        print('varname', varname)\n",
    "        print('hyp_name', hyp_name)\n",
    "        print('table2[0] :',cols)\n",
    "\n",
    "    ther = [r for r in table2 if r[0] == varname]\n",
    "    if debug:\n",
    "        print(table2)\n",
    "        print('the row: ', ther)\n",
    "    ther = ther[0]\n",
    "    \n",
    "    resdic = {}\n",
    "    resdic[hyp_name] = {'P>|t|':ther[cols.index('P>|t|')], \n",
    "             't':ther[cols.index('t')], \n",
    "             'rsquared_adj':\"{:4.3}\".format(mdf.rsquared_adj),\n",
    "             'nobs': \"{:3d}\".format(int(mdf.nobs)),\n",
    "             'conditions': cond\n",
    "            }\n",
    "\n",
    "    return(resdic)"
   ]
  },
  {
   "cell_type": "code",
   "execution_count": 16,
   "metadata": {},
   "outputs": [],
   "source": [
    "def run_hyp(datadf, hyp_name, hyp, ynxs, resdic={}, debug=False):\n",
    "    \"\"\"\n",
    "    df: pandas dataframe\n",
    "    volume_of: str\n",
    "        name of the region studied\n",
    "    hyp_name: str\n",
    "        describe the hypothesis\n",
    "    hyp: list\n",
    "        list of string describing the hyp\n",
    "    ynxs: list of str (Ys and Xs)\n",
    "        [0] : explained var Y\n",
    "        [1] : region X1\n",
    "        [2] : X2, ... additional variables of the form : ' X2 + X3 ... '\n",
    "        \n",
    "    returns\n",
    "    --------\n",
    "    updated result dictionary    \n",
    "    \"\"\"\n",
    "    \n",
    "    md = smf.ols(ynxs[0] + \" ~ \" + ynxs[1] + \" + \" + ynxs[2], data=datadf)\n",
    "    mdf = md.fit()\n",
    "    resdic.update(md2dic(ynxs[1], hyp_name, hyp, mdf=mdf, debug=debug))\n",
    "    return resdic\n",
    "    \n",
    "\"\"\"    \n",
    "iq = 'FIQ'\n",
    "tmp = PIET_1_fs_df\n",
    "# md = smf.ols(iq + \" ~ Q('volume') + Gender + Age + study \", data=tmp) #  \n",
    "md = smf.ols(iq + \" ~ \" + volume_of + \" + study \", data=tmp) #  \n",
    "mdf = md.fit()\n",
    "print(mdf.summary())\n",
    "resdic.update(md2dic(volume_of, hyp_name, hyp1, mdf=mdf))\n",
    "\"\"\";"
   ]
  },
  {
   "cell_type": "markdown",
   "metadata": {},
   "source": [
    "### PIET-1: Total Brain Volume will positively correlate with IQ (in both sexes across the complete age range).\n"
   ]
  },
  {
   "cell_type": "code",
   "execution_count": 17,
   "metadata": {},
   "outputs": [
    {
     "name": "stdout",
     "output_type": "stream",
     "text": [
      "dict_keys(['left', 'right', 'latNan', 'age<=20', 'age<20', 'age<12', 'age>=12', 'fs', 'ants', 'fsl', 'fiq>0', 'normDev', 'adhd', 'bvol', 'brainseg', 'brainsegwov', 'caudate', 'putamen', 'TIV', 'wm', 'gm', 'csf', 'wmfsl', 'gmfsl', 'csffsl', 'ccant', 'cccen', 'ccpos', 'abide', 'adhd200', 'male', 'female'])\n"
     ]
    }
   ],
   "source": [
    "condic = define_conditions(hie, tooldic=tooldic, normalDev=normalDev, adhd=adhd, h2ube=h2ube)\n",
    "print(condic.keys())\n",
    "dropnaset = ['FIQ', 'volume', 'Gender']\n"
   ]
  },
  {
   "cell_type": "code",
   "execution_count": 18,
   "metadata": {},
   "outputs": [
    {
     "name": "stdout",
     "output_type": "stream",
     "text": [
      "len(PIET_1_fs_df) 664\n"
     ]
    }
   ],
   "source": [
    "volume_of = 'brainseg'\n",
    "hyp_name = 'PIET-1'\n",
    "\n",
    "PIET_1_fs = ['brainseg', 'fiq>0','normDev', 'fs'] # 'bvol','ants','abide']\n",
    "PIET_1_fs_df = apply_cond(hie, condic, PIET_1_fs, dropnaset=dropnaset, columns={'volume':volume_of})\n",
    "print('len(PIET_1_fs_df)',len(PIET_1_fs_df))\n",
    "\n",
    "resdic = run_hyp(PIET_1_fs_df, hyp_name, PIET_1_fs, ['FIQ', volume_of, 'study'], resdic={}, debug=False)"
   ]
  },
  {
   "cell_type": "code",
   "execution_count": 19,
   "metadata": {},
   "outputs": [
    {
     "data": {
      "text/plain": [
       "{'PIET-1': {'P>|t|': ' 0.000',\n",
       "  't': '    5.154',\n",
       "  'rsquared_adj': '0.114',\n",
       "  'nobs': '664',\n",
       "  'conditions': ['brainseg', 'fiq>0', 'normDev', 'fs']}}"
      ]
     },
     "execution_count": 19,
     "metadata": {},
     "output_type": "execute_result"
    }
   ],
   "source": [
    "resdic"
   ]
  },
  {
   "cell_type": "code",
   "execution_count": 20,
   "metadata": {},
   "outputs": [
    {
     "name": "stdout",
     "output_type": "stream",
     "text": [
      "len(fsl_total) 669\n"
     ]
    }
   ],
   "source": [
    "volume_of = 'fsl_brainvol'\n",
    "hyp_name = 'PIET-1_fsl'\n",
    "\n",
    "PIET_1_fsl = ['fiq>0','normDev', 'fsl']\n",
    "fsl_gm = PIET_1_fsl + ['gmfsl'] #\n",
    "fsl_wm = PIET_1_fsl + ['wmfsl'] #\n",
    "fsl_csf = PIET_1_fsl + ['csffsl'] #\n",
    "\n",
    "fsl_gm_df = apply_cond(hie, condic, fsl_gm, dropnaset=dropnaset, columns={'volume':'fsl_gm'})\n",
    "fsl_wm_df = apply_cond(hie, condic, fsl_wm, dropnaset=dropnaset, columns={'volume':'fsl_wm'})\n",
    "fsl_csf_df = apply_cond(hie, condic, fsl_csf, dropnaset=dropnaset, columns={'volume':'fsl_csf'})\n",
    "\n",
    "fsl_total = pd.merge(left=fsl_gm_df, right=fsl_wm_df[['ID','fsl_wm']], left_on='ID', right_on='ID')\n",
    "fsl_total = pd.merge(left=fsl_total, right=fsl_csf_df[['ID','fsl_csf']], left_on='ID', right_on='ID')\n",
    "fsl_total['fsl_brainvol'] = fsl_total['fsl_csf'] + fsl_total['fsl_wm'] + fsl_total['fsl_gm']\n",
    "print('len(fsl_total)',len(fsl_total))\n"
   ]
  },
  {
   "cell_type": "code",
   "execution_count": 21,
   "metadata": {},
   "outputs": [],
   "source": [
    "resdic = run_hyp(fsl_total, hyp_name, PIET_1_fs, ['FIQ', volume_of, 'study'], resdic=resdic, debug=False)"
   ]
  },
  {
   "cell_type": "code",
   "execution_count": 22,
   "metadata": {},
   "outputs": [
    {
     "data": {
      "text/plain": [
       "{'PIET-1': {'P>|t|': ' 0.000',\n",
       "  't': '    5.154',\n",
       "  'rsquared_adj': '0.114',\n",
       "  'nobs': '664',\n",
       "  'conditions': ['brainseg', 'fiq>0', 'normDev', 'fs']},\n",
       " 'PIET-1_fsl': {'P>|t|': ' 0.002',\n",
       "  't': '    3.038',\n",
       "  'rsquared_adj': '0.0876',\n",
       "  'nobs': '669',\n",
       "  'conditions': ['brainseg', 'fiq>0', 'normDev', 'fs']}}"
      ]
     },
     "execution_count": 22,
     "metadata": {},
     "output_type": "execute_result"
    }
   ],
   "source": [
    "resdic"
   ]
  },
  {
   "cell_type": "markdown",
   "metadata": {},
   "source": [
    "##### and with ANTS ?\n"
   ]
  },
  {
   "cell_type": "code",
   "execution_count": 23,
   "metadata": {},
   "outputs": [
    {
     "name": "stdout",
     "output_type": "stream",
     "text": [
      "len(PIET_1_ants_df) 555\n"
     ]
    },
    {
     "data": {
      "text/plain": [
       "{'PIET-1': {'P>|t|': ' 0.000',\n",
       "  't': '    5.154',\n",
       "  'rsquared_adj': '0.114',\n",
       "  'nobs': '664',\n",
       "  'conditions': ['brainseg', 'fiq>0', 'normDev', 'fs']},\n",
       " 'PIET-1_fsl': {'P>|t|': ' 0.002',\n",
       "  't': '    3.038',\n",
       "  'rsquared_adj': '0.0876',\n",
       "  'nobs': '669',\n",
       "  'conditions': ['brainseg', 'fiq>0', 'normDev', 'fs']},\n",
       " 'PIET-1_ants': {'P>|t|': ' 0.000',\n",
       "  't': '    3.726',\n",
       "  'rsquared_adj': '0.105',\n",
       "  'nobs': '555',\n",
       "  'conditions': ['bvol', 'fiq>0', 'normDev', 'ants']}}"
      ]
     },
     "execution_count": 23,
     "metadata": {},
     "output_type": "execute_result"
    }
   ],
   "source": [
    "volume_of = 'ants_brainvol'\n",
    "hyp_name = 'PIET-1_ants'\n",
    "PIET_1_ants = ['bvol', 'fiq>0', 'normDev', 'ants']\n",
    "PIET_1_ants_df = apply_cond(hie, condic, PIET_1_ants, dropnaset=dropnaset, columns={'volume':'ants_brainvol'})\n",
    "print('len(PIET_1_ants_df)',len(PIET_1_ants_df))\n",
    "\n",
    "resdic = run_hyp(PIET_1_ants_df, hyp_name, PIET_1_ants, ['FIQ', volume_of, 'study'], resdic=resdic, debug=False)\n",
    "resdic"
   ]
  },
  {
   "cell_type": "markdown",
   "metadata": {},
   "source": [
    "### MAC-1: Left striatum volume (caudate + putamen) will positively correlate with IQ in the total (male + female) child (age < 20) group.\n"
   ]
  },
  {
   "cell_type": "markdown",
   "metadata": {},
   "source": [
    "#### Create df and conditions for left striatum, all age all gender"
   ]
  },
  {
   "cell_type": "code",
   "execution_count": 52,
   "metadata": {},
   "outputs": [
    {
     "name": "stdout",
     "output_type": "stream",
     "text": [
      "1888 681\n",
      "1888 681\n"
     ]
    },
    {
     "data": {
      "text/html": [
       "<div>\n",
       "<style scoped>\n",
       "    .dataframe tbody tr th:only-of-type {\n",
       "        vertical-align: middle;\n",
       "    }\n",
       "\n",
       "    .dataframe tbody tr th {\n",
       "        vertical-align: top;\n",
       "    }\n",
       "\n",
       "    .dataframe thead th {\n",
       "        text-align: right;\n",
       "    }\n",
       "</style>\n",
       "<table border=\"1\" class=\"dataframe\">\n",
       "  <thead>\n",
       "    <tr style=\"text-align: right;\">\n",
       "      <th></th>\n",
       "      <th>study</th>\n",
       "      <th>ID</th>\n",
       "      <th>tool</th>\n",
       "      <th>softwareLabel</th>\n",
       "      <th>structure</th>\n",
       "      <th>laterality</th>\n",
       "      <th>caudate</th>\n",
       "      <th>study_y</th>\n",
       "      <th>Age</th>\n",
       "      <th>dx</th>\n",
       "      <th>Gender</th>\n",
       "      <th>FIQ</th>\n",
       "    </tr>\n",
       "  </thead>\n",
       "  <tbody>\n",
       "    <tr>\n",
       "      <th>888</th>\n",
       "      <td>ADHD200 - NYU</td>\n",
       "      <td>21007</td>\n",
       "      <td>https://surfer.nmr.mgh.harvard.edu/</td>\n",
       "      <td>Left-Caudate Volume_mm3 (mm^3)</td>\n",
       "      <td>http://purl.obolibrary.org/obo/UBERON_0001873</td>\n",
       "      <td>Left</td>\n",
       "      <td>4751.1000</td>\n",
       "      <td>ADHD200 - NYU</td>\n",
       "      <td>10.52</td>\n",
       "      <td>Typically Developing Children</td>\n",
       "      <td>Male</td>\n",
       "      <td>111.0</td>\n",
       "    </tr>\n",
       "    <tr>\n",
       "      <th>953</th>\n",
       "      <td>ADHD200 - NYU</td>\n",
       "      <td>21007</td>\n",
       "      <td>http://stnava.github.io/ANTs/</td>\n",
       "      <td>Left-Caudate Volume (mm^3)</td>\n",
       "      <td>http://purl.obolibrary.org/obo/UBERON_0001873</td>\n",
       "      <td>Left</td>\n",
       "      <td>4302.5560</td>\n",
       "      <td>ADHD200 - NYU</td>\n",
       "      <td>10.52</td>\n",
       "      <td>Typically Developing Children</td>\n",
       "      <td>Male</td>\n",
       "      <td>111.0</td>\n",
       "    </tr>\n",
       "    <tr>\n",
       "      <th>1022</th>\n",
       "      <td>ADHD200 - NYU</td>\n",
       "      <td>21007</td>\n",
       "      <td>http://purl.org/nidash/fsl#</td>\n",
       "      <td>Left-Caudate (mm^3)</td>\n",
       "      <td>http://purl.obolibrary.org/obo/UBERON_0001873</td>\n",
       "      <td>Left</td>\n",
       "      <td>4813.2770</td>\n",
       "      <td>ADHD200 - NYU</td>\n",
       "      <td>10.52</td>\n",
       "      <td>Typically Developing Children</td>\n",
       "      <td>Male</td>\n",
       "      <td>111.0</td>\n",
       "    </tr>\n",
       "    <tr>\n",
       "      <th>1249</th>\n",
       "      <td>ADHD200 - NYU</td>\n",
       "      <td>21034</td>\n",
       "      <td>https://surfer.nmr.mgh.harvard.edu/</td>\n",
       "      <td>Left-Caudate Volume_mm3 (mm^3)</td>\n",
       "      <td>http://purl.obolibrary.org/obo/UBERON_0001873</td>\n",
       "      <td>Left</td>\n",
       "      <td>4819.3000</td>\n",
       "      <td>ADHD200 - NYU</td>\n",
       "      <td>13.18</td>\n",
       "      <td>Typically Developing Children</td>\n",
       "      <td>Male</td>\n",
       "      <td>101.0</td>\n",
       "    </tr>\n",
       "    <tr>\n",
       "      <th>1311</th>\n",
       "      <td>ADHD200 - NYU</td>\n",
       "      <td>21034</td>\n",
       "      <td>http://stnava.github.io/ANTs/</td>\n",
       "      <td>Left-Caudate Volume (mm^3)</td>\n",
       "      <td>http://purl.obolibrary.org/obo/UBERON_0001873</td>\n",
       "      <td>Left</td>\n",
       "      <td>4410.2860</td>\n",
       "      <td>ADHD200 - NYU</td>\n",
       "      <td>13.18</td>\n",
       "      <td>Typically Developing Children</td>\n",
       "      <td>Male</td>\n",
       "      <td>101.0</td>\n",
       "    </tr>\n",
       "    <tr>\n",
       "      <th>1385</th>\n",
       "      <td>ADHD200 - NYU</td>\n",
       "      <td>21034</td>\n",
       "      <td>http://purl.org/nidash/fsl#</td>\n",
       "      <td>Left-Caudate (mm^3)</td>\n",
       "      <td>http://purl.obolibrary.org/obo/UBERON_0001873</td>\n",
       "      <td>Left</td>\n",
       "      <td>4910.3667</td>\n",
       "      <td>ADHD200 - NYU</td>\n",
       "      <td>13.18</td>\n",
       "      <td>Typically Developing Children</td>\n",
       "      <td>Male</td>\n",
       "      <td>101.0</td>\n",
       "    </tr>\n",
       "    <tr>\n",
       "      <th>1771</th>\n",
       "      <td>ADHD200 - NYU</td>\n",
       "      <td>21024</td>\n",
       "      <td>https://surfer.nmr.mgh.harvard.edu/</td>\n",
       "      <td>Left-Caudate Volume_mm3 (mm^3)</td>\n",
       "      <td>http://purl.obolibrary.org/obo/UBERON_0001873</td>\n",
       "      <td>Left</td>\n",
       "      <td>3423.2000</td>\n",
       "      <td>ADHD200 - NYU</td>\n",
       "      <td>8.50</td>\n",
       "      <td>Typically Developing Children</td>\n",
       "      <td>Female</td>\n",
       "      <td>136.0</td>\n",
       "    </tr>\n",
       "  </tbody>\n",
       "</table>\n",
       "</div>"
      ],
      "text/plain": [
       "              study     ID                                 tool  \\\n",
       "888   ADHD200 - NYU  21007  https://surfer.nmr.mgh.harvard.edu/   \n",
       "953   ADHD200 - NYU  21007        http://stnava.github.io/ANTs/   \n",
       "1022  ADHD200 - NYU  21007          http://purl.org/nidash/fsl#   \n",
       "1249  ADHD200 - NYU  21034  https://surfer.nmr.mgh.harvard.edu/   \n",
       "1311  ADHD200 - NYU  21034        http://stnava.github.io/ANTs/   \n",
       "1385  ADHD200 - NYU  21034          http://purl.org/nidash/fsl#   \n",
       "1771  ADHD200 - NYU  21024  https://surfer.nmr.mgh.harvard.edu/   \n",
       "\n",
       "                       softwareLabel  \\\n",
       "888   Left-Caudate Volume_mm3 (mm^3)   \n",
       "953       Left-Caudate Volume (mm^3)   \n",
       "1022             Left-Caudate (mm^3)   \n",
       "1249  Left-Caudate Volume_mm3 (mm^3)   \n",
       "1311      Left-Caudate Volume (mm^3)   \n",
       "1385             Left-Caudate (mm^3)   \n",
       "1771  Left-Caudate Volume_mm3 (mm^3)   \n",
       "\n",
       "                                          structure laterality    caudate  \\\n",
       "888   http://purl.obolibrary.org/obo/UBERON_0001873       Left  4751.1000   \n",
       "953   http://purl.obolibrary.org/obo/UBERON_0001873       Left  4302.5560   \n",
       "1022  http://purl.obolibrary.org/obo/UBERON_0001873       Left  4813.2770   \n",
       "1249  http://purl.obolibrary.org/obo/UBERON_0001873       Left  4819.3000   \n",
       "1311  http://purl.obolibrary.org/obo/UBERON_0001873       Left  4410.2860   \n",
       "1385  http://purl.obolibrary.org/obo/UBERON_0001873       Left  4910.3667   \n",
       "1771  http://purl.obolibrary.org/obo/UBERON_0001873       Left  3423.2000   \n",
       "\n",
       "            study_y    Age                             dx  Gender    FIQ  \n",
       "888   ADHD200 - NYU  10.52  Typically Developing Children    Male  111.0  \n",
       "953   ADHD200 - NYU  10.52  Typically Developing Children    Male  111.0  \n",
       "1022  ADHD200 - NYU  10.52  Typically Developing Children    Male  111.0  \n",
       "1249  ADHD200 - NYU  13.18  Typically Developing Children    Male  101.0  \n",
       "1311  ADHD200 - NYU  13.18  Typically Developing Children    Male  101.0  \n",
       "1385  ADHD200 - NYU  13.18  Typically Developing Children    Male  101.0  \n",
       "1771  ADHD200 - NYU   8.50  Typically Developing Children  Female  136.0  "
      ]
     },
     "execution_count": 52,
     "metadata": {},
     "output_type": "execute_result"
    }
   ],
   "source": [
    "cond_mac = ['fiq>0', 'normDev', 'left'] # , 'fs' ,'age<20', \n",
    "\n",
    "mac1_caud = cond_mac + ['caudate'] #\n",
    "mac1_put = cond_mac + ['putamen'] #\n",
    "# mac1_tiv = cond_mac + ['fiq>0','normDev','fs','TIV'] #\n",
    "\n",
    "left_caud = apply_cond(hie, condic, mac1_caud, dropnaset=dropnaset, columns={'volume':'caudate'})\n",
    "print(len(left_caud), len(set(left_caud['ID'])) )\n",
    "\n",
    "left_put = apply_cond(hie, condic, mac1_put, dropnaset=dropnaset, columns={'volume':'putamen'})\n",
    "print(len(left_put), len(set(left_put['ID'])))\n",
    "\n",
    "left_caud.head(7)"
   ]
  },
  {
   "cell_type": "code",
   "execution_count": 65,
   "metadata": {},
   "outputs": [
    {
     "name": "stdout",
     "output_type": "stream",
     "text": [
      "1888\n"
     ]
    },
    {
     "data": {
      "text/html": [
       "<div>\n",
       "<style scoped>\n",
       "    .dataframe tbody tr th:only-of-type {\n",
       "        vertical-align: middle;\n",
       "    }\n",
       "\n",
       "    .dataframe tbody tr th {\n",
       "        vertical-align: top;\n",
       "    }\n",
       "\n",
       "    .dataframe thead th {\n",
       "        text-align: right;\n",
       "    }\n",
       "</style>\n",
       "<table border=\"1\" class=\"dataframe\">\n",
       "  <thead>\n",
       "    <tr style=\"text-align: right;\">\n",
       "      <th></th>\n",
       "      <th>study</th>\n",
       "      <th>ID</th>\n",
       "      <th>tool</th>\n",
       "      <th>softwareLabel</th>\n",
       "      <th>structure</th>\n",
       "      <th>laterality</th>\n",
       "      <th>caudate</th>\n",
       "      <th>study_y</th>\n",
       "      <th>Age</th>\n",
       "      <th>dx</th>\n",
       "      <th>Gender</th>\n",
       "      <th>FIQ</th>\n",
       "      <th>putamen</th>\n",
       "      <th>striatum</th>\n",
       "    </tr>\n",
       "  </thead>\n",
       "  <tbody>\n",
       "    <tr>\n",
       "      <th>0</th>\n",
       "      <td>ADHD200 - NYU</td>\n",
       "      <td>21007</td>\n",
       "      <td>https://surfer.nmr.mgh.harvard.edu/</td>\n",
       "      <td>Left-Caudate Volume_mm3 (mm^3)</td>\n",
       "      <td>http://purl.obolibrary.org/obo/UBERON_0001873</td>\n",
       "      <td>Left</td>\n",
       "      <td>4751.100</td>\n",
       "      <td>ADHD200 - NYU</td>\n",
       "      <td>10.52</td>\n",
       "      <td>Typically Developing Children</td>\n",
       "      <td>Male</td>\n",
       "      <td>111.0</td>\n",
       "      <td>6600.800</td>\n",
       "      <td>11351.900</td>\n",
       "    </tr>\n",
       "    <tr>\n",
       "      <th>1</th>\n",
       "      <td>ADHD200 - NYU</td>\n",
       "      <td>21007</td>\n",
       "      <td>http://stnava.github.io/ANTs/</td>\n",
       "      <td>Left-Caudate Volume (mm^3)</td>\n",
       "      <td>http://purl.obolibrary.org/obo/UBERON_0001873</td>\n",
       "      <td>Left</td>\n",
       "      <td>4302.556</td>\n",
       "      <td>ADHD200 - NYU</td>\n",
       "      <td>10.52</td>\n",
       "      <td>Typically Developing Children</td>\n",
       "      <td>Male</td>\n",
       "      <td>111.0</td>\n",
       "      <td>5701.718</td>\n",
       "      <td>10004.274</td>\n",
       "    </tr>\n",
       "    <tr>\n",
       "      <th>2</th>\n",
       "      <td>ADHD200 - NYU</td>\n",
       "      <td>21007</td>\n",
       "      <td>http://purl.org/nidash/fsl#</td>\n",
       "      <td>Left-Caudate (mm^3)</td>\n",
       "      <td>http://purl.obolibrary.org/obo/UBERON_0001873</td>\n",
       "      <td>Left</td>\n",
       "      <td>4813.277</td>\n",
       "      <td>ADHD200 - NYU</td>\n",
       "      <td>10.52</td>\n",
       "      <td>Typically Developing Children</td>\n",
       "      <td>Male</td>\n",
       "      <td>111.0</td>\n",
       "      <td>6723.159</td>\n",
       "      <td>11536.436</td>\n",
       "    </tr>\n",
       "  </tbody>\n",
       "</table>\n",
       "</div>"
      ],
      "text/plain": [
       "           study     ID                                 tool  \\\n",
       "0  ADHD200 - NYU  21007  https://surfer.nmr.mgh.harvard.edu/   \n",
       "1  ADHD200 - NYU  21007        http://stnava.github.io/ANTs/   \n",
       "2  ADHD200 - NYU  21007          http://purl.org/nidash/fsl#   \n",
       "\n",
       "                    softwareLabel  \\\n",
       "0  Left-Caudate Volume_mm3 (mm^3)   \n",
       "1      Left-Caudate Volume (mm^3)   \n",
       "2             Left-Caudate (mm^3)   \n",
       "\n",
       "                                       structure laterality   caudate  \\\n",
       "0  http://purl.obolibrary.org/obo/UBERON_0001873       Left  4751.100   \n",
       "1  http://purl.obolibrary.org/obo/UBERON_0001873       Left  4302.556   \n",
       "2  http://purl.obolibrary.org/obo/UBERON_0001873       Left  4813.277   \n",
       "\n",
       "         study_y    Age                             dx Gender    FIQ  \\\n",
       "0  ADHD200 - NYU  10.52  Typically Developing Children   Male  111.0   \n",
       "1  ADHD200 - NYU  10.52  Typically Developing Children   Male  111.0   \n",
       "2  ADHD200 - NYU  10.52  Typically Developing Children   Male  111.0   \n",
       "\n",
       "    putamen   striatum  \n",
       "0  6600.800  11351.900  \n",
       "1  5701.718  10004.274  \n",
       "2  6723.159  11536.436  "
      ]
     },
     "execution_count": 65,
     "metadata": {},
     "output_type": "execute_result"
    }
   ],
   "source": [
    "left_stria = pd.merge(left=left_caud, right=left_put[['ID','putamen','tool']], on=['ID','tool'])\n",
    "left_stria['striatum'] = left_stria['caudate'] + left_stria['putamen']\n",
    "print(len(left_stria))\n",
    "\n",
    "left_stria.head(3)"
   ]
  },
  {
   "cell_type": "code",
   "execution_count": 58,
   "metadata": {},
   "outputs": [],
   "source": [
    "left_stria_condic = define_conditions(left_stria, tooldic=tooldic, normalDev=normalDev, adhd=adhd, h2ube=h2ube)\n",
    "\n",
    "#print((set(left_stria['dx'])))"
   ]
  },
  {
   "cell_type": "code",
   "execution_count": 59,
   "metadata": {},
   "outputs": [
    {
     "data": {
      "text/plain": [
       "629.3333333333334"
      ]
     },
     "execution_count": 59,
     "metadata": {},
     "output_type": "execute_result"
    }
   ],
   "source": [
    "1888/3"
   ]
  },
  {
   "cell_type": "markdown",
   "metadata": {},
   "source": [
    "### MAC-1: Left striatum volume (caudate + putamen) will positively correlate with IQ in the total (male + female) child (age < 20) group.\n"
   ]
  },
  {
   "cell_type": "markdown",
   "metadata": {},
   "source": [
    "#### FS"
   ]
  },
  {
   "cell_type": "code",
   "execution_count": 63,
   "metadata": {},
   "outputs": [
    {
     "name": "stdout",
     "output_type": "stream",
     "text": [
      "['study', 'ID', 'tool', 'softwareLabel', 'structure', 'laterality', 'caudate', 'study_y', 'Age', 'dx', 'Gender', 'FIQ', 'putamen', 'striatum']\n"
     ]
    }
   ],
   "source": [
    "print(list(left_stria))"
   ]
  },
  {
   "cell_type": "code",
   "execution_count": 61,
   "metadata": {},
   "outputs": [
    {
     "name": "stdout",
     "output_type": "stream",
     "text": [
      "532\n",
      "{'PIET-1': {'P>|t|': ' 0.000', 't': '    5.154', 'rsquared_adj': '0.114', 'nobs': '664', 'conditions': ['brainseg', 'fiq>0', 'normDev', 'fs']}, 'PIET-1_fsl': {'P>|t|': ' 0.002', 't': '    3.038', 'rsquared_adj': '0.0876', 'nobs': '669', 'conditions': ['brainseg', 'fiq>0', 'normDev', 'fs']}, 'PIET-1_ants': {'P>|t|': ' 0.000', 't': '    3.726', 'rsquared_adj': '0.105', 'nobs': '555', 'conditions': ['bvol', 'fiq>0', 'normDev', 'ants']}, 'MAC-1-fs': {'P>|t|': ' 0.000', 't': '    4.524', 'rsquared_adj': '0.109', 'nobs': '532', 'conditions': ['fiq>0', 'normDev', 'left', 'age<20', 'fs']}, 'MAC-1-fsl': {'P>|t|': ' 0.000', 't': '    7.652', 'rsquared_adj': '0.133', 'nobs': '1537', 'conditions': ['fiq>0', 'normDev', 'left', 'age<20', 'fsl']}, 'MAC-1-ants': {'P>|t|': ' 0.000', 't': '    6.761', 'rsquared_adj': '0.132', 'nobs': '1433', 'conditions': ['fiq>0', 'normDev', 'left', 'age<20', 'ants']}}\n"
     ]
    }
   ],
   "source": [
    "volume_of = 'striatum_fs'\n",
    "hyp_name = 'MAC-1-fs'\n",
    "mac1_child_fs = ['age<20','fs']\n",
    "mac1_child_df = apply_cond(left_stria, left_stria_condic, mac1_child_fs, columns={'striatum':'striatum_fs'})\n",
    "print(len(mac1_child_df))\n",
    "# print(list(mac1_child_df))\n",
    "resdic = run_hyp(mac1_child_df, hyp_name, cond_mac+mac1_child_fs, \n",
    "                     ['FIQ', volume_of, 'study'], resdic=resdic, debug=False)\n",
    "\n",
    "print(resdic)\n"
   ]
  },
  {
   "cell_type": "markdown",
   "metadata": {},
   "source": [
    "#### FSL"
   ]
  },
  {
   "cell_type": "code",
   "execution_count": 62,
   "metadata": {},
   "outputs": [
    {
     "name": "stdout",
     "output_type": "stream",
     "text": [
      "536\n",
      "{'PIET-1': {'P>|t|': ' 0.000', 't': '    5.154', 'rsquared_adj': '0.114', 'nobs': '664', 'conditions': ['brainseg', 'fiq>0', 'normDev', 'fs']}, 'PIET-1_fsl': {'P>|t|': ' 0.002', 't': '    3.038', 'rsquared_adj': '0.0876', 'nobs': '669', 'conditions': ['brainseg', 'fiq>0', 'normDev', 'fs']}, 'PIET-1_ants': {'P>|t|': ' 0.000', 't': '    3.726', 'rsquared_adj': '0.105', 'nobs': '555', 'conditions': ['bvol', 'fiq>0', 'normDev', 'ants']}, 'MAC-1-fs': {'P>|t|': ' 0.000', 't': '    4.524', 'rsquared_adj': '0.109', 'nobs': '532', 'conditions': ['fiq>0', 'normDev', 'left', 'age<20', 'fs']}, 'MAC-1-fsl': {'P>|t|': ' 0.000', 't': '    4.178', 'rsquared_adj': '0.101', 'nobs': '536', 'conditions': ['fiq>0', 'normDev', 'left', 'age<20', 'fsl']}, 'MAC-1-ants': {'P>|t|': ' 0.000', 't': '    6.761', 'rsquared_adj': '0.132', 'nobs': '1433', 'conditions': ['fiq>0', 'normDev', 'left', 'age<20', 'ants']}}\n"
     ]
    }
   ],
   "source": [
    "volume_of = 'striatum_fsl'\n",
    "hyp_name = 'MAC-1-fsl'\n",
    "mac1_child_fsl = ['age<20','fsl']\n",
    "mac1_child_df = apply_cond(left_stria, left_stria_condic, mac1_child_fsl, \n",
    "                                                          columns={'striatum':'striatum_fsl'})\n",
    "print(len(mac1_child_df))\n",
    "\n",
    "resdic = run_hyp(mac1_child_df, hyp_name, cond_mac+mac1_child_fsl, \n",
    "                     ['FIQ', volume_of, 'study'], resdic=resdic, debug=False)\n",
    "\n",
    "print(resdic)\n"
   ]
  },
  {
   "cell_type": "code",
   "execution_count": 38,
   "metadata": {},
   "outputs": [
    {
     "name": "stdout",
     "output_type": "stream",
     "text": [
      "1433\n",
      "486\n"
     ]
    },
    {
     "data": {
      "text/html": [
       "<div>\n",
       "<style scoped>\n",
       "    .dataframe tbody tr th:only-of-type {\n",
       "        vertical-align: middle;\n",
       "    }\n",
       "\n",
       "    .dataframe tbody tr th {\n",
       "        vertical-align: top;\n",
       "    }\n",
       "\n",
       "    .dataframe thead th {\n",
       "        text-align: right;\n",
       "    }\n",
       "</style>\n",
       "<table border=\"1\" class=\"dataframe\">\n",
       "  <thead>\n",
       "    <tr style=\"text-align: right;\">\n",
       "      <th></th>\n",
       "      <th>study</th>\n",
       "      <th>ID</th>\n",
       "      <th>tool</th>\n",
       "      <th>softwareLabel</th>\n",
       "      <th>structure</th>\n",
       "      <th>laterality</th>\n",
       "      <th>caudate</th>\n",
       "      <th>study_y</th>\n",
       "      <th>Age</th>\n",
       "      <th>dx</th>\n",
       "      <th>Gender</th>\n",
       "      <th>FIQ</th>\n",
       "      <th>putamen</th>\n",
       "      <th>striatum_ants</th>\n",
       "    </tr>\n",
       "  </thead>\n",
       "  <tbody>\n",
       "    <tr>\n",
       "      <th>3</th>\n",
       "      <td>ADHD200 - NYU</td>\n",
       "      <td>21007</td>\n",
       "      <td>http://stnava.github.io/ANTs/</td>\n",
       "      <td>Left-Caudate Volume (mm^3)</td>\n",
       "      <td>http://purl.obolibrary.org/obo/UBERON_0001873</td>\n",
       "      <td>Left</td>\n",
       "      <td>4302.556</td>\n",
       "      <td>ADHD200 - NYU</td>\n",
       "      <td>10.52</td>\n",
       "      <td>Typically Developing Children</td>\n",
       "      <td>Male</td>\n",
       "      <td>111.0</td>\n",
       "      <td>6600.8000</td>\n",
       "      <td>10903.3560</td>\n",
       "    </tr>\n",
       "    <tr>\n",
       "      <th>4</th>\n",
       "      <td>ADHD200 - NYU</td>\n",
       "      <td>21007</td>\n",
       "      <td>http://stnava.github.io/ANTs/</td>\n",
       "      <td>Left-Caudate Volume (mm^3)</td>\n",
       "      <td>http://purl.obolibrary.org/obo/UBERON_0001873</td>\n",
       "      <td>Left</td>\n",
       "      <td>4302.556</td>\n",
       "      <td>ADHD200 - NYU</td>\n",
       "      <td>10.52</td>\n",
       "      <td>Typically Developing Children</td>\n",
       "      <td>Male</td>\n",
       "      <td>111.0</td>\n",
       "      <td>5701.7180</td>\n",
       "      <td>10004.2740</td>\n",
       "    </tr>\n",
       "    <tr>\n",
       "      <th>5</th>\n",
       "      <td>ADHD200 - NYU</td>\n",
       "      <td>21007</td>\n",
       "      <td>http://stnava.github.io/ANTs/</td>\n",
       "      <td>Left-Caudate Volume (mm^3)</td>\n",
       "      <td>http://purl.obolibrary.org/obo/UBERON_0001873</td>\n",
       "      <td>Left</td>\n",
       "      <td>4302.556</td>\n",
       "      <td>ADHD200 - NYU</td>\n",
       "      <td>10.52</td>\n",
       "      <td>Typically Developing Children</td>\n",
       "      <td>Male</td>\n",
       "      <td>111.0</td>\n",
       "      <td>6723.1590</td>\n",
       "      <td>11025.7150</td>\n",
       "    </tr>\n",
       "    <tr>\n",
       "      <th>12</th>\n",
       "      <td>ADHD200 - NYU</td>\n",
       "      <td>21034</td>\n",
       "      <td>http://stnava.github.io/ANTs/</td>\n",
       "      <td>Left-Caudate Volume (mm^3)</td>\n",
       "      <td>http://purl.obolibrary.org/obo/UBERON_0001873</td>\n",
       "      <td>Left</td>\n",
       "      <td>4410.286</td>\n",
       "      <td>ADHD200 - NYU</td>\n",
       "      <td>13.18</td>\n",
       "      <td>Typically Developing Children</td>\n",
       "      <td>Male</td>\n",
       "      <td>101.0</td>\n",
       "      <td>6179.0000</td>\n",
       "      <td>10589.2860</td>\n",
       "    </tr>\n",
       "    <tr>\n",
       "      <th>13</th>\n",
       "      <td>ADHD200 - NYU</td>\n",
       "      <td>21034</td>\n",
       "      <td>http://stnava.github.io/ANTs/</td>\n",
       "      <td>Left-Caudate Volume (mm^3)</td>\n",
       "      <td>http://purl.obolibrary.org/obo/UBERON_0001873</td>\n",
       "      <td>Left</td>\n",
       "      <td>4410.286</td>\n",
       "      <td>ADHD200 - NYU</td>\n",
       "      <td>13.18</td>\n",
       "      <td>Typically Developing Children</td>\n",
       "      <td>Male</td>\n",
       "      <td>101.0</td>\n",
       "      <td>5335.9673</td>\n",
       "      <td>9746.2533</td>\n",
       "    </tr>\n",
       "  </tbody>\n",
       "</table>\n",
       "</div>"
      ],
      "text/plain": [
       "            study     ID                           tool  \\\n",
       "3   ADHD200 - NYU  21007  http://stnava.github.io/ANTs/   \n",
       "4   ADHD200 - NYU  21007  http://stnava.github.io/ANTs/   \n",
       "5   ADHD200 - NYU  21007  http://stnava.github.io/ANTs/   \n",
       "12  ADHD200 - NYU  21034  http://stnava.github.io/ANTs/   \n",
       "13  ADHD200 - NYU  21034  http://stnava.github.io/ANTs/   \n",
       "\n",
       "                 softwareLabel                                      structure  \\\n",
       "3   Left-Caudate Volume (mm^3)  http://purl.obolibrary.org/obo/UBERON_0001873   \n",
       "4   Left-Caudate Volume (mm^3)  http://purl.obolibrary.org/obo/UBERON_0001873   \n",
       "5   Left-Caudate Volume (mm^3)  http://purl.obolibrary.org/obo/UBERON_0001873   \n",
       "12  Left-Caudate Volume (mm^3)  http://purl.obolibrary.org/obo/UBERON_0001873   \n",
       "13  Left-Caudate Volume (mm^3)  http://purl.obolibrary.org/obo/UBERON_0001873   \n",
       "\n",
       "   laterality   caudate        study_y    Age                             dx  \\\n",
       "3        Left  4302.556  ADHD200 - NYU  10.52  Typically Developing Children   \n",
       "4        Left  4302.556  ADHD200 - NYU  10.52  Typically Developing Children   \n",
       "5        Left  4302.556  ADHD200 - NYU  10.52  Typically Developing Children   \n",
       "12       Left  4410.286  ADHD200 - NYU  13.18  Typically Developing Children   \n",
       "13       Left  4410.286  ADHD200 - NYU  13.18  Typically Developing Children   \n",
       "\n",
       "   Gender    FIQ    putamen  striatum_ants  \n",
       "3    Male  111.0  6600.8000     10903.3560  \n",
       "4    Male  111.0  5701.7180     10004.2740  \n",
       "5    Male  111.0  6723.1590     11025.7150  \n",
       "12   Male  101.0  6179.0000     10589.2860  \n",
       "13   Male  101.0  5335.9673      9746.2533  "
      ]
     },
     "execution_count": 38,
     "metadata": {},
     "output_type": "execute_result"
    }
   ],
   "source": [
    "volume_of = 'striatum_ants'\n",
    "hyp_name = 'MAC-1-ants'\n",
    "mac1_child_ants = ['age<20','ants'] #,'abide']\n",
    "mac1_child_df = apply_cond(left_stria, left_stria_condic, mac1_child_ants, \n",
    "                                                          columns={'striatum':'striatum_ants'})\n",
    "print(len(mac1_child_df))\n",
    "# list(mac1_child_df)\n",
    "print(len(set(mac1_child_df['ID'])))\n",
    "mac1_child_df.head(5)"
   ]
  },
  {
   "cell_type": "code",
   "execution_count": 33,
   "metadata": {},
   "outputs": [
    {
     "name": "stdout",
     "output_type": "stream",
     "text": [
      "1433\n",
      "{'PIET-1': {'P>|t|': ' 0.000', 't': '    5.154', 'rsquared_adj': '0.114', 'nobs': '664', 'conditions': ['brainseg', 'fiq>0', 'normDev', 'fs']}, 'PIET-1_fsl': {'P>|t|': ' 0.002', 't': '    3.038', 'rsquared_adj': '0.0876', 'nobs': '669', 'conditions': ['brainseg', 'fiq>0', 'normDev', 'fs']}, 'PIET-1_ants': {'P>|t|': ' 0.000', 't': '    3.726', 'rsquared_adj': '0.105', 'nobs': '555', 'conditions': ['bvol', 'fiq>0', 'normDev', 'ants']}, 'MAC-1-fs': {'P>|t|': ' 0.000', 't': '    7.336', 'rsquared_adj': '0.132', 'nobs': '1528', 'conditions': ['fiq>0', 'normDev', 'left', 'age<20', 'fs']}, 'MAC-1-fsl': {'P>|t|': ' 0.000', 't': '    7.652', 'rsquared_adj': '0.133', 'nobs': '1537', 'conditions': ['fiq>0', 'normDev', 'left', 'age<20', 'fsl']}, 'MAC-1-ants': {'P>|t|': ' 0.000', 't': '    6.761', 'rsquared_adj': '0.132', 'nobs': '1433', 'conditions': ['fiq>0', 'normDev', 'left', 'age<20', 'ants']}}\n"
     ]
    }
   ],
   "source": [
    "resdic = run_hyp(mac1_child_df, hyp_name, cond_mac+mac1_child_ants, \n",
    "                     ['FIQ', volume_of, 'study'], resdic=resdic, debug=False)\n",
    "\n",
    "print(resdic)"
   ]
  },
  {
   "cell_type": "markdown",
   "metadata": {},
   "source": [
    "### MAC-2: Left striatum volume (caudate + putamen) will positively correlate with IQ in the male children group.\n"
   ]
  },
  {
   "cell_type": "code",
   "execution_count": null,
   "metadata": {},
   "outputs": [],
   "source": [
    "mac2_cond = ['age<20','male']\n",
    "mac2 = apply_cond(left_stria, left_stria_condic, mac2_cond)\n",
    "print(len(mac2))\n",
    "\n",
    "iq = 'FIQ'\n",
    "# md = smf.ols(iq + \" ~ Q('volume') + Gender + Age + study \", data=tmp) #  \n",
    "# md = smf.ols(iq + \" ~ Q('striatum') + study + TIV \", data=stria) #  \n",
    "md = smf.ols(iq + \" ~ Q('striatum') + study \", data=mac2) #  \n",
    "mdf = md.fit()\n",
    "print(mdf.summary())\n",
    "\n",
    "\n",
    "varname = \"Q('striatum')\"\n",
    "hyp_name = 'MAC-2'\n",
    "resdic.update(md2dic(varname, hyp_name, cond_mac+mac2_cond, mdf=mdf))"
   ]
  },
  {
   "cell_type": "markdown",
   "metadata": {},
   "source": [
    "### MAC-3: Left striatum volume (caudate + putamen) will not correlate with IQ in the female children group.\n"
   ]
  },
  {
   "cell_type": "code",
   "execution_count": null,
   "metadata": {},
   "outputs": [],
   "source": [
    "mac3_cond = ['age<20','female']\n",
    "mac3 = apply_cond(left_stria, left_stria_condic, mac3_cond)\n",
    "print(len(mac3))\n",
    "\n",
    "iq = 'FIQ'\n",
    "# md = smf.ols(iq + \" ~ Q('volume') + Gender + Age + study \", data=tmp) #  \n",
    "# md = smf.ols(iq + \" ~ Q('striatum') + study + TIV \", data=stria) #  \n",
    "md = smf.ols(iq + \" ~ Q('striatum') + study \", data=mac3) #  \n",
    "mdf = md.fit()\n",
    "print(mdf.summary())\n",
    "\n",
    "\n",
    "varname, hyp_name = \"Q('striatum')\",'MAC-3'\n",
    "resdic.update(md2dic(varname, hyp_name, cond_mac+mac3_cond, mdf=mdf))"
   ]
  },
  {
   "cell_type": "code",
   "execution_count": null,
   "metadata": {},
   "outputs": [],
   "source": [
    "resdic"
   ]
  },
  {
   "cell_type": "markdown",
   "metadata": {},
   "source": [
    "### compute cc and tbv  for GANJ, no age or gender condition "
   ]
  },
  {
   "cell_type": "code",
   "execution_count": null,
   "metadata": {},
   "outputs": [],
   "source": [
    "condic = define_conditions(hie, tooldic=tooldic, normalDev=normalDev, adhd=adhd, h2ube=h2ube)\n",
    "condic.keys()"
   ]
  },
  {
   "cell_type": "code",
   "execution_count": null,
   "metadata": {},
   "outputs": [],
   "source": [
    "softw = 'fs'\n",
    "hypGanj = ['fiq>0','normDev', softw] # ,'age<20'\n",
    "hyp_ccant = hypGanj + ['ccant'] #\n",
    "hyp_cccen = hypGanj + ['cccen'] #\n",
    "hyp_ccpos = hypGanj + ['ccpos'] #\n",
    "\n",
    "ccant = apply_cond(hie, condic, hyp_ccant, dropnaset=dropnaset, columns={'volume':'ccant'})\n",
    "cccen = apply_cond(hie, condic, hyp_cccen, dropnaset=dropnaset, columns={'volume':'cccen'})\n",
    "ccpos = apply_cond(hie, condic, hyp_ccpos, dropnaset=dropnaset, columns={'volume':'ccpos'})\n",
    "\n",
    "cc = pd.merge(left=ccant, right=cccen[['ID','cccen']], left_on='ID', right_on='ID')\n",
    "cc = pd.merge(left=cc, right=ccpos[['ID','ccpos']], left_on='ID', right_on='ID')\n",
    "\n",
    "cc['cc'] = cc['ccant']+cc['cccen']+cc['ccpos']\n",
    "len(cc), len(ccant), len(cccen), len(ccpos)"
   ]
  },
  {
   "cell_type": "code",
   "execution_count": null,
   "metadata": {},
   "outputs": [],
   "source": [
    "hyp_gm = hypGanj + ['gm'] #\n",
    "gm = apply_cond(hie, condic, hyp_gm, dropnaset=dropnaset, columns={'volume':'gm'})\n",
    "#print(gm[['ID','gm','laterality']].head(2),len(gm))\n",
    "\n",
    "hyp_wm = hypGanj + ['wm','latNan'] #\n",
    "wm = apply_cond(hie, condic, hyp_wm, dropnaset=dropnaset, columns={'volume':'wm'})\n",
    "#print(wm[['ID','wm','laterality']].head(2),len(wm))\n",
    "\n",
    "hyp_csf = hypGanj + ['csf'] #\n",
    "csf = apply_cond(hie, condic, hyp_csf, dropnaset=dropnaset, columns={'volume':'csf'})\n",
    "#print(csf[['ID','csf','laterality']].head(2),len(csf))\n",
    "tbv = pd.merge(left=gm, right=wm[['ID','wm']], left_on='ID', right_on='ID')\n",
    "tbv = pd.merge(left=tbv, right=csf[['ID','csf']], left_on='ID', right_on='ID')\n",
    "tbv['tbv'] = tbv['wm'] + tbv['gm'] +  tbv['csf']\n",
    "print(len(gm), len(wm), len(csf), len(tbv))"
   ]
  },
  {
   "cell_type": "code",
   "execution_count": null,
   "metadata": {},
   "outputs": [],
   "source": [
    "cc_tbv = pd.merge(left=tbv, right=cc[['ID','cc']], left_on='ID', right_on='ID')\n",
    "condic_cc_tbv = define_conditions(cc_tbv, tooldic=tooldic, normalDev=normalDev, adhd=adhd, h2ube=h2ube)\n"
   ]
  },
  {
   "cell_type": "code",
   "execution_count": null,
   "metadata": {},
   "outputs": [],
   "source": []
  },
  {
   "cell_type": "markdown",
   "metadata": {},
   "source": [
    "### GANJ-1: Total Corpus Callosum midsagittal area, after correcting for total brain volume, will negatively correlate with IQ.\n"
   ]
  },
  {
   "cell_type": "code",
   "execution_count": null,
   "metadata": {},
   "outputs": [],
   "source": [
    "ganj1_cond = ['age<20'] #'fiq>0','normDev','fs','age<=20','ccant'] #\n",
    "ganj1 = apply_cond(cc_tbv, condic_cc_tbv, ganj1_cond)\n",
    "print(list(ganj1),len(ganj1))\n",
    "\n",
    "iq = 'FIQ'\n",
    "# md = smf.ols(iq + \" ~ Q('volume') + Gender + Age + study \", data=tmp) #  \n",
    "#md = smf.ols(iq + \" ~ Q('striatum') + study + TIV \", data=stria) #  \n",
    "md = smf.ols(iq + \" ~ Q('cc') + study + tbv \", data=ganj1) #  \n",
    "mdf = md.fit()\n",
    "print(mdf.summary())\n",
    "\n",
    "varname, hyp_name = \"Q('cc')\",'GANJ-1'\n",
    "resdic.update(md2dic(varname, hyp_name, hypGanj+ganj1_cond, mdf=mdf))"
   ]
  },
  {
   "cell_type": "code",
   "execution_count": null,
   "metadata": {},
   "outputs": [],
   "source": []
  },
  {
   "cell_type": "markdown",
   "metadata": {},
   "source": [
    "### GANJ-2: Total Corpus Callosum midsagittal area, after correcting for total brain volume, will negatively correlate with IQ in the young (age < 12) group."
   ]
  },
  {
   "cell_type": "code",
   "execution_count": null,
   "metadata": {},
   "outputs": [],
   "source": [
    "ganj2_cond = ['age<12'] #'fiq>0','normDev','fs','age<=20','ccant'] #\n",
    "ganj2 = apply_cond(cc_tbv, condic_cc_tbv, ganj2_cond)\n",
    "print(list(ganj2),len(ganj2));\n",
    "\n",
    "iq = 'FIQ'\n",
    "# md = smf.ols(iq + \" ~ Q('volume') + Gender + Age + study \", data=tmp) #  \n",
    "#md = smf.ols(iq + \" ~ Q('striatum') + study + TIV \", data=stria) #  \n",
    "md = smf.ols(iq + \" ~ Q('cc') + study + tbv \", data=ganj2) #  \n",
    "mdf = md.fit()\n",
    "print(mdf.summary())\n",
    "\n",
    "\n",
    "varname, hyp_name = \"Q('cc')\",'GANJ-2'\n",
    "resdic.update(md2dic(varname, hyp_name, hypGanj+ganj2_cond, mdf=mdf))"
   ]
  },
  {
   "cell_type": "markdown",
   "metadata": {},
   "source": [
    "### GANJ-3: Total Corpus Callosum midsagittal area, after correcting for total brain volume, will not significantly correlate with IQ in the adolescent (age > 12) group.\n"
   ]
  },
  {
   "cell_type": "code",
   "execution_count": null,
   "metadata": {},
   "outputs": [],
   "source": []
  },
  {
   "cell_type": "code",
   "execution_count": null,
   "metadata": {},
   "outputs": [],
   "source": [
    "ganj3_cond = ['age>=12'] #\n",
    "ganj3 = apply_cond(cc_tbv, condic_cc_tbv, ganj3_cond)\n",
    "print(len(ganj3))\n",
    "\n",
    "iq = 'FIQ'\n",
    "# md = smf.ols(iq + \" ~ Q('volume') + Gender + Age + study \", data=tmp) #  \n",
    "#md = smf.ols(iq + \" ~ Q('striatum') + study + TIV \", data=stria) #  \n",
    "md = smf.ols(iq + \" ~ Q('cc') + study + tbv \", data=ganj3) #  \n",
    "mdf = md.fit()\n",
    "print(mdf.summary())\n",
    "\n",
    "\n",
    "varname, hyp_name = \"Q('cc')\",'GANJ-3'\n",
    "resdic.update(md2dic(varname, hyp_name, hypGanj+ganj3_cond, mdf=mdf))"
   ]
  },
  {
   "cell_type": "markdown",
   "metadata": {},
   "source": [
    "### GANJ-4:. Total Corpus Callosum midsagittal area, after correcting for total brain volume, will negatively correlate with IQ in the male (age < 12) group.\n"
   ]
  },
  {
   "cell_type": "code",
   "execution_count": null,
   "metadata": {},
   "outputs": [],
   "source": [
    "ganj4_cond = ['age<12','male'] #+ hypGanj #'fiq>0','normDev','fs','age<=20','ccant'] #\n",
    "ganj4 = apply_cond(cc_tbv,  condic_cc_tbv, ganj4_cond)\n",
    "print(list(ganj4),len(ganj4),'\\n')\n",
    "\n",
    "iq = 'FIQ'\n",
    "# md = smf.ols(iq + \" ~ Q('volume') + Gender + Age + study \", data=tmp) #  \n",
    "#md = smf.ols(iq + \" ~ Q('striatum') + study + TIV \", data=stria) #  \n",
    "md = smf.ols(iq + \" ~ Q('cc') + study + tbv \", data=ganj4) #  \n",
    "mdf = md.fit()\n",
    "print(mdf.summary())\n",
    "\n",
    "\n",
    "varname, hyp_name = \"Q('cc')\",'GANJ-4'\n",
    "resdic.update(md2dic(varname, hyp_name, hypGanj+ganj4_cond, mdf=mdf))"
   ]
  },
  {
   "cell_type": "code",
   "execution_count": null,
   "metadata": {},
   "outputs": [],
   "source": []
  },
  {
   "cell_type": "markdown",
   "metadata": {},
   "source": [
    "### GANJ-5: Total Corpus Callosum midsagittal area, after correcting for total brain volume, will not significantly correlate with IQ in the female (age < 12) group.\n"
   ]
  },
  {
   "cell_type": "code",
   "execution_count": null,
   "metadata": {},
   "outputs": [],
   "source": [
    "ganj5_cond = ['age<12','female'] #,'fiq>0','normDev','fs','age<=20'\n",
    "ganj5 = apply_cond(cc_tbv,  condic_cc_tbv, ganj5_cond)\n",
    "print(list(ganj5),len(ganj5),'\\n')\n",
    "\n",
    "iq = 'FIQ'\n",
    "# md = smf.ols(iq + \" ~ Q('volume') + Gender + Age + study \", data=tmp) #  \n",
    "#md = smf.ols(iq + \" ~ Q('striatum') + study + TIV \", data=stria) #  \n",
    "md = smf.ols(iq + \" ~ Q('cc') + study + tbv \", data=ganj5) #  \n",
    "mdf = md.fit()\n",
    "print(mdf.summary())\n",
    "\n",
    "\n",
    "varname, hyp_name = \"Q('cc')\",'GANJ-5'\n",
    "resdic.update(md2dic(varname, hyp_name, hypGanj+ganj5_cond, mdf=mdf))"
   ]
  },
  {
   "cell_type": "code",
   "execution_count": null,
   "metadata": {},
   "outputs": [],
   "source": [
    "print(resdic)"
   ]
  },
  {
   "cell_type": "markdown",
   "metadata": {},
   "source": [
    "### Scrap"
   ]
  },
  {
   "cell_type": "code",
   "execution_count": null,
   "metadata": {},
   "outputs": [],
   "source": [
    "\"\"\"\n",
    "hyp2 = ['fiq>0','normDev','fs','age<20']\n",
    "hyp2_caud = hyp2 + ['caudate'] # ,'abide']\n",
    "hyp2_put = hyp2 + ['putamen'] # ,'abide']\n",
    "hyp2_tiv = hyp2 + ['TIV'] # ,'abide']\n",
    "tmp_caud = apply_cond(hie, condic, hyp2_caud, dropnaset=dropnaset)\n",
    "caud = split_merge_df(tmp_caud, indx='ID', spliton='laterality', levels=['Left','Right'], \n",
    "                       keep_col='volume', op='+',colrename='caudate')\n",
    "tmp_put = apply_cond(hie, condic, hyp2_put, dropnaset=dropnaset)\n",
    "put = split_merge_df(tmp_put, indx='ID', spliton='laterality', levels=['Left','Right'], \n",
    "                       keep_col='volume', op='+',colrename='putamen')\n",
    "tmp_tiv = apply_cond(hie, condic, hyp2_tiv, dropnaset=dropnaset)\n",
    "print(len(caud), len(put), len(tmp_tiv))\n",
    "\n",
    "stria = pd.merge(left=caud, right=put[['ID','putamen']], left_on='ID', right_on='ID')\n",
    "stria['striatum'] = stria['caudate']+stria['putamen']\n",
    "stria = pd.merge(left=stria, right=tmp_tiv[['ID','volume']], left_on='ID', right_on='ID')\n",
    "stria.rename(columns={'volume':'TIV'},inplace=True)\n",
    "print(list(stria),len(stria))\n",
    "\"\"\";\n",
    "\n",
    "\"\"\"\n",
    "cond_mac = ['fiq>0','normDev', softw,] # ,'age<20']\n",
    "mac_caud = cond_mac + ['caudate'] #\n",
    "mac_put = cond_mac + ['putamen'] #\n",
    "mac_tiv = cond_mac + ['fiq>0','normDev',softw,'TIV'] #\n",
    "\n",
    "left_caud = apply_cond(hie, condic, mac_caud, dropnaset=dropnaset, columns={'volume':'caudate'})\n",
    "left_put = apply_cond(hie, condic, mac_put, dropnaset=dropnaset, columns={'volume':'putamen'})\n",
    "\n",
    "left_stria = pd.merge(left=left_caud, right=left_put[['ID','putamen']], left_on='ID', right_on='ID')\n",
    "left_stria['striatum'] = left_stria['caudate'] + left_stria['putamen']\n",
    "left_stria_condic = define_conditions(left_stria, tooldic=tooldic, normalDev=normalDev, adhd=adhd, h2ube=h2ube)\n",
    "print(len(left_stria))\n",
    "\n",
    "\"\"\";\n",
    "\n",
    "\n",
    "\"\"\" \n",
    "iq = 'FIQ'\n",
    "\n",
    "# md = smf.ols(iq + \" ~ Q('volume') + Gender + Age + study \", data=tmp) #  \n",
    "# md = smf.ols(iq + \" ~ Q('striatum') + study + TIV \", data=stria) #  \n",
    "md = smf.ols(iq + \" ~ Q('striatum') + study \", data=mac1) #  \n",
    "mdf = md.fit()\n",
    "print(mdf.summary())\n",
    "\n",
    "varname = \"Q('striatum')\"\n",
    "hyp_name = 'MAC-1'\n",
    "resdic.update(md2dic(varname, hyp_name, cond_mac+mac1_cond, mdf=mdf))\n",
    "\"\"\";"
   ]
  },
  {
   "cell_type": "code",
   "execution_count": null,
   "metadata": {},
   "outputs": [],
   "source": []
  }
 ],
 "metadata": {
  "kernelspec": {
   "display_name": "Python 3",
   "language": "python",
   "name": "python3"
  },
  "language_info": {
   "codemirror_mode": {
    "name": "ipython",
    "version": 3
   },
   "file_extension": ".py",
   "mimetype": "text/x-python",
   "name": "python",
   "nbconvert_exporter": "python",
   "pygments_lexer": "ipython3",
   "version": "3.6.8"
  },
  "toc": {
   "nav_menu": {},
   "number_sections": true,
   "sideBar": true,
   "skip_h1_title": false,
   "toc_cell": false,
   "toc_position": {},
   "toc_section_display": "block",
   "toc_window_display": false
  }
 },
 "nbformat": 4,
 "nbformat_minor": 2
}
