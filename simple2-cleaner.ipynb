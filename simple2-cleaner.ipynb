{
 "cells": [
  {
   "cell_type": "code",
   "execution_count": 1,
   "metadata": {},
   "outputs": [],
   "source": [
    "import pandas as pd\n",
    "import numpy as np\n",
    "import statsmodels as stt\n",
    "import scipy.stats as sst\n",
    "import os.path as osp\n",
    "from statsmodels import api as sm\n",
    "import statsmodels.formula.api as smf\n",
    "import matplotlib.pyplot as plt\n",
    "import json\n",
    "from time import gmtime, strftime\n",
    "%matplotlib inline"
   ]
  },
  {
   "cell_type": "code",
   "execution_count": 2,
   "metadata": {},
   "outputs": [
    {
     "name": "stdout",
     "output_type": "stream",
     "text": [
      "/home/jb/code/repronim/simple2/simple2_analysis\n",
      "./data/2020-03-26_simple2_query_output.csv\n"
     ]
    }
   ],
   "source": [
    "print(osp.realpath(osp.curdir))\n",
    "\n",
    "csv_filename = '2019-12-21-simple2_query_output2.csv'\n",
    "csv_filename = '2020-02-11-simple2_query_output.csv'\n",
    "csv_filename = '2020-03-26_simple2_query_output.csv'\n",
    "relative_dir = './data'\n",
    "\n",
    "# relative_path_filename = './data/2019-12-03-simple2_query_output.csv' \n",
    "#relative_path_filename = './data/2019-12-21-simple2_query_output2.csv'\n",
    "relative_path_filename = osp.join(relative_dir, csv_filename)\n",
    "assert osp.exists(relative_path_filename)\n",
    "print(relative_path_filename)"
   ]
  },
  {
   "cell_type": "code",
   "execution_count": 3,
   "metadata": {},
   "outputs": [
    {
     "name": "stdout",
     "output_type": "stream",
     "text": [
      "['study', 'ID', 'Age', 'dx', 'Gender', 'FIQ', 'PIQ', 'VIQ', 'tool', 'softwareLabel', 'federatedLabel', 'laterality', 'volume']\n",
      "['study', 'ID', 'Age', 'dx', 'Gender', 'FIQ', 'PIQ', 'VIQ', 'tool', 'softwareLabel', 'structure', 'laterality', 'volume']\n"
     ]
    },
    {
     "name": "stderr",
     "output_type": "stream",
     "text": [
      "/home/jb/virtualenvs/simple2/lib/python3.6/site-packages/IPython/core/interactiveshell.py:3049: DtypeWarning: Columns (3) have mixed types. Specify dtype option on import or set low_memory=False.\n",
      "  interactivity=interactivity, compiler=compiler, result=result)\n"
     ]
    }
   ],
   "source": [
    "\n",
    "hie = pd.read_csv(relative_path_filename, na_values='nd') #, low_memory=False)\n",
    "original_col_names = list(hie)\n",
    "# column names are unique\n",
    "assert len(original_col_names) == len(set(original_col_names))\n",
    "print(list(hie))\n",
    "col_rename = {'federatedLabel':'structure'}\n",
    "hie.rename(columns=col_rename, inplace=True)\n",
    "print(list(hie))"
   ]
  },
  {
   "cell_type": "code",
   "execution_count": 4,
   "metadata": {},
   "outputs": [],
   "source": [
    "# Read the mapping file, that contains Freesurfer data elements with link to uberon isAbout\n",
    "\n",
    "# mapping_file = '../segstats_jsonld/segstats_jsonld/mapping_data/freesurfermap.json'\n",
    "mapping_file = '../segstats_jsonld/segstats_jsonld/mapping_data/freesurfer-cdes.json'\n",
    "assert osp.exists(mapping_file)\n",
    "with open(mapping_file, \"r\") as read_file:\n",
    "    roi_map = json.load(read_file)"
   ]
  },
  {
   "cell_type": "code",
   "execution_count": 5,
   "metadata": {},
   "outputs": [],
   "source": [
    "# this takes the mapping and spits out a dict with key is uberon value is roi definition\n",
    "# eg: 'http://purl.obolibrary.org/obo/UBERON_0001874': 'Putamen'\n",
    "# will be use to go across software\n",
    "\n",
    "ube2h = {}\n",
    "label2ube = {}\n",
    "countok=0\n",
    "has_no_isAbout = []\n",
    "has_no_label = []\n",
    "\n",
    "for (k,v) in roi_map.items():\n",
    "    \n",
    "    # the mapping file starts with \"count\" at the level of data elements - need to discard 'count'\n",
    "    if k == 'count': pass\n",
    "    \n",
    "    # v is a dict that contains the CDE - check that we have a isAbout and label    \n",
    "    elif 'isAbout' in v:\n",
    "        countok += 1\n",
    "        if 'label' in v:\n",
    "            if v['label'] != '' and v['label'] not in ('None','none'):\n",
    "                #ube['<' + v['isAbout'] + '>'] = v['label']\n",
    "                #ebu[v['label']] = '<' + v['isAbout'] + '>'\n",
    "                label2ube[v['label']] = v['isAbout']\n",
    "                if v['isAbout'] not in ube2h.keys():\n",
    "                    no_right_or_left = v['label']\n",
    "                    no_right_or_left = no_right_or_left.replace('Right-','')\n",
    "                    no_right_or_left = no_right_or_left.replace('Right ','')\n",
    "                    no_right_or_left = no_right_or_left.replace('Left-','')\n",
    "                    no_right_or_left = no_right_or_left.replace('Left ','')\n",
    "                    no_right_or_left = no_right_or_left.replace(' NVoxels','')\n",
    "                    no_right_or_left = no_right_or_left.replace(' (mm^3)','')\n",
    "                    ube2h[v['isAbout']] = no_right_or_left\n",
    "            else:\n",
    "                has_no_label.append(k)\n",
    "\n",
    "assert has_no_isAbout == []\n",
    "assert countok == len(label2ube)"
   ]
  },
  {
   "cell_type": "code",
   "execution_count": 6,
   "metadata": {},
   "outputs": [],
   "source": [
    "label2ube;\n",
    "ube2h\n",
    "h2ube = {v: k for k, v in ube2h.items()}"
   ]
  },
  {
   "cell_type": "code",
   "execution_count": 7,
   "metadata": {},
   "outputs": [],
   "source": [
    "#print(ube2h)"
   ]
  },
  {
   "cell_type": "code",
   "execution_count": 8,
   "metadata": {},
   "outputs": [],
   "source": [
    "def split_merge_df(df, indx='ID', spliton='laterality', levels=['Left','Right'], \n",
    "                       keep_col='volume', op='+', colrename=None):\n",
    "    \"\"\"\n",
    "    1. split the df according to 2 (n?) levels of \"spliton\"\n",
    "    2. merge the 2 (n?) dataframes using indx as index\n",
    "    3. keep only \"keep_col\" for the right temporary dataframe\n",
    "    4. perform operation 'op' on the columns \"keep_col\" and name it \n",
    "       'keep_col'+'_'+ levels[0] + op + levels[1]    \n",
    "    \n",
    "    Was developed for adding volumes in right and left structures\n",
    "    \"\"\"\n",
    "    \n",
    "    dflev1 = df[df[spliton]==levels[0]]\n",
    "    dflev2 = df[df[spliton]==levels[1]] \n",
    "\n",
    "    # check that the new dfs have no duplicates in the indx\n",
    "\n",
    "    assert set(dflev1[indx]) == set(dflev2[indx])\n",
    "    assert len(set(dflev1[indx])) == len(dflev1[indx])\n",
    "    \n",
    "    # assert len(set(dflev2[indx])) == len(dflev2[indx])\n",
    "    # suffixes=('_l','_r')\n",
    "    merged_inner = pd.merge(left=dflev1, right=dflev2[[indx,keep_col]], \n",
    "                            left_on=indx, right_on=indx, suffixes=levels, how='inner')\n",
    "#    merged_inner.rename(columns={cols+'_x': cols+'_'+lev1, cols+'_y': cols+'_'+lev2}, inplace=True)\n",
    "\n",
    "    # sum keep_col values in a new column\n",
    "    add_col_name = keep_col + levels[0] + op + levels[1]\n",
    "    if op == '+':\n",
    "        merged_inner[add_col_name] = \\\n",
    "                        merged_inner[keep_col+levels[0]] + merged_inner[keep_col+levels[1]]  \n",
    "    if colrename is not None:\n",
    "        merged_inner.rename(columns={add_col_name:colrename}, inplace=True)\n",
    "    return merged_inner\n",
    "\n",
    "\"\"\"\n",
    "    if droplist != []:\n",
    "        for colname in droplist:\n",
    "            colname_y = colname + '_y'\n",
    "            colname_x = colname + '_x'\n",
    "            merged_inner.drop(colname_y, axis=1, inplace=True)\n",
    "            merged_inner.rename(columns={colname_x: colname}, inplace=True)\n",
    "\"\"\";"
   ]
  },
  {
   "cell_type": "code",
   "execution_count": 9,
   "metadata": {},
   "outputs": [],
   "source": [
    "# A few dictionary for conveniency\n",
    "\n",
    "tooldic = {'surfer':'https://surfer.nmr.mgh.harvard.edu/', \n",
    "       'fsl':'http://purl.org/nidash/fsl#',\n",
    "       'ants':'http://stnava.github.io/ANTs/'}\n",
    "normalDev = (2, '2', 'Typically Developing Children')\n",
    "patient = (1, '1', 'ADHD-Combined', 'ADHD-Hyperactive/Impulsive', 'ADHD-Inattentive')"
   ]
  },
  {
   "cell_type": "code",
   "execution_count": 10,
   "metadata": {},
   "outputs": [],
   "source": [
    "def define_conditions(df, tooldic={}, normalDev=(), patient=(), h2ube={}):\n",
    "    \"\"\"\n",
    "    create dic of conditions associated with dataframe df    \n",
    "    \"\"\"\n",
    "    \n",
    "    diccond={}\n",
    "    diccond['left'] = ((df['laterality'] == 'L')|(df['laterality'] == 'Left'))\n",
    "    diccond['right'] = ((df['laterality'] == 'R')|(df['laterality'] == 'Right'))\n",
    "    diccond['latNan'] = (df['laterality'] != 'Right') & (df['laterality'] != 'Left')\n",
    "\n",
    "    #========== age \n",
    "    diccond['age<=20'] = (df['Age'] <= 20)\n",
    "    diccond['age<20'] = (df['Age'] < 20)\n",
    "    diccond['age<12'] = (df['Age'] < 12)\n",
    "    diccond['age>=12'] = (df['Age'] >= 12)\n",
    "    \n",
    "    #========== tool conditions\n",
    "    diccond['fs'] = (df['tool'] == tooldic['surfer'])\n",
    "    diccond['ants'] = (df['tool'] == tooldic['ants'])\n",
    "    diccond['fsl'] = (df['tool'] == tooldic['fsl'])\n",
    "    \n",
    "    #========== IQ conditions\n",
    "    diccond['fiq>0'] = (df['FIQ'] > 0 )\n",
    "    \n",
    "    #========== disease conditions\n",
    "    pop_normDev = False\n",
    "    for pop in normalDev:\n",
    "        # print(np.sum(pop_cond))\n",
    "        pop_normDev = pop_normDev | (df['dx'] == pop)\n",
    "    diccond['normDev'] =  pop_normDev\n",
    "    \n",
    "    pop_patient = False\n",
    "    for pop in patient:\n",
    "        # print(np.sum(pop_cond))\n",
    "        pop_patient = pop_patient | (df['dx'] == pop)\n",
    "    diccond['patient'] =  pop_patient\n",
    "\n",
    "    #=========== ROIs\n",
    "    roi_ub = ''\n",
    "    diccond['bvol'] = (df['softwareLabel'] == 'BVOL (mm^3)')\n",
    "    diccond['brainseg'] = (df['softwareLabel'] == 'Brain Segmentation Volume (mm^3)') \n",
    "    diccond['brainsegwov'] = (df['softwareLabel'] == 'Brain Segmentation Volume Without Ventricles (mm^3)') \n",
    "    diccond['caudate'] = (df['structure'] == h2ube['Caudate'])\n",
    "    diccond['putamen'] = (df['structure'] == h2ube['Putamen'])\n",
    "    diccond['TIV'] = (df['structure'] == h2ube['Estimated Total Intracranial Volume'])\n",
    "#\n",
    "    diccond['wm'] =  (df['structure'] == h2ube['hemisphere cerebral white matter volume'])\n",
    "    diccond['gm'] =  (df['structure'] == h2ube['Total gray matter volume'])\n",
    "    diccond['csf'] =  (df['structure'] == h2ube['CSF'])\n",
    "#\n",
    "    diccond['wmfsl'] =  (df['softwareLabel'] == 'white (mm^3)')\n",
    "    diccond['gmfsl'] =  (df['softwareLabel'] == 'gray (mm^3)')\n",
    "    diccond['csffsl'] =  (df['softwareLabel'] == 'csf (mm^3)')\n",
    "#\n",
    "    diccond['ccant'] =  (df['structure'] == h2ube['CC_Anterior'])\n",
    "    diccond['cccen'] =  (df['structure'] == h2ube['CC_Central'])\n",
    "    diccond['ccpos'] =  (df['structure'] == h2ube['CC_Posterior'])\n",
    "\n",
    "    #=========== site\n",
    "    diccond['abide'] = (df['study'].str.contains(\"ABIDE\"))\n",
    "    diccond['adhd200'] = (df['study'].str.contains(\"ADHD\"))\n",
    "    \n",
    "    #=========== Gender\n",
    "    diccond['male'] = (df['Gender']=='Male')\n",
    "    diccond['female'] = (df['Gender']=='Female')\n",
    "\n",
    "    return diccond"
   ]
  },
  {
   "cell_type": "code",
   "execution_count": 11,
   "metadata": {},
   "outputs": [
    {
     "data": {
      "text/plain": [
       "dict_keys(['left', 'right', 'latNan', 'age<=20', 'age<20', 'age<12', 'age>=12', 'fs', 'ants', 'fsl', 'fiq>0', 'normDev', 'patient', 'bvol', 'brainseg', 'brainsegwov', 'caudate', 'putamen', 'TIV', 'wm', 'gm', 'csf', 'wmfsl', 'gmfsl', 'csffsl', 'ccant', 'cccen', 'ccpos', 'abide', 'adhd200', 'male', 'female'])"
      ]
     },
     "execution_count": 11,
     "metadata": {},
     "output_type": "execute_result"
    }
   ],
   "source": [
    "condic = define_conditions(hie, tooldic=tooldic, normalDev=normalDev, patient=patient, h2ube=h2ube)\n",
    "condic.keys()"
   ]
  },
  {
   "cell_type": "code",
   "execution_count": 12,
   "metadata": {},
   "outputs": [],
   "source": [
    "def apply_cond(df, cndc, conditions, dropnaset=[],columns={}):\n",
    "    \"\"\"\n",
    "    \n",
    "    input:\n",
    "    -------\n",
    "    \n",
    "    df: dataframe\n",
    "    conditions: list of strings, each str should be a key of the cndc dict\n",
    "    cndc: dict\n",
    "        a dict (eg returned by define_condition) that contains the set of true false for that condition\n",
    "    dropnaset: list\n",
    "        the list of column names in which Nan should be dropped\n",
    "        \n",
    "    returns\n",
    "    -------\n",
    "    dataframe, containing only rows that satisfy the list of conditions 'conditions'\n",
    "    \n",
    "    \"\"\"\n",
    "    # initialize array of True \n",
    "    cond = np.full((len(df),), True, dtype=bool)\n",
    "    \n",
    "    for c in conditions:\n",
    "        assert len(cond) == len(cndc[c])\n",
    "        cond = cond & cndc[c]\n",
    "        # print(np.sum(cond))\n",
    "        \n",
    "    # condition = [cond & cndc[c] for c in conditions][0]\n",
    "    # print(len(condition),np.sum(condition))\n",
    "    \n",
    "    # make a copy\n",
    "    tmp = df.loc[cond].dropna(subset=dropnaset)\n",
    "    if columns:\n",
    "        tmp.rename(columns=columns, inplace=True)\n",
    "        \n",
    "    if len(tmp) == 0:\n",
    "        print('Warning, len(df)==0' + ' '.join(conditions))\n",
    "        \n",
    "    return tmp    "
   ]
  },
  {
   "cell_type": "code",
   "execution_count": 13,
   "metadata": {},
   "outputs": [],
   "source": [
    "softw = 'surfer'"
   ]
  },
  {
   "cell_type": "code",
   "execution_count": 14,
   "metadata": {},
   "outputs": [
    {
     "name": "stdout",
     "output_type": "stream",
     "text": [
      "manual:  510\n"
     ]
    }
   ],
   "source": [
    "# hyp1 = ['bvol',softw,'left','age<=20','fiq>0','normDev']\n",
    "# hyp1 = ['fiq>0','abide','caudate', 'putamen']\n",
    "hyp1 = ['female', 'caudate', 'fs', 'fiq>0'] # ,'abide']\n",
    "condic = define_conditions(hie, tooldic=tooldic, normalDev=normalDev, patient=patient, h2ube=h2ube)\n",
    "tmp = apply_cond(hie, condic, hyp1)\n",
    "# print('apply:', len(tmp.dropna(subset=['FIQ', 'volume', 'Gender'])))\n",
    "\n",
    "manual = hie.loc[(hie['Gender']=='Female') & \n",
    "#                 (hie['study'].str.contains(\"ABIDE\")) &\n",
    "                 (hie['structure'] == h2ube['Caudate']) &\n",
    "                 (hie['tool'] == tooldic[softw]) & \n",
    "                 (hie['FIQ'] > 0) ] \n",
    "manual = manual.dropna(subset=['FIQ', 'volume', 'Gender']) #,inplace=True)\n",
    "print('manual: ',len(manual))\n",
    "assert len(tmp.dropna(subset=['FIQ', 'volume', 'Gender'])) == len(manual)"
   ]
  },
  {
   "cell_type": "code",
   "execution_count": 15,
   "metadata": {},
   "outputs": [
    {
     "data": {
      "text/plain": [
       "334"
      ]
     },
     "execution_count": 15,
     "metadata": {},
     "output_type": "execute_result"
    }
   ],
   "source": [
    "#cond = ['abide'] #,'fiq>0'] # ,'abide']\n",
    "cond = ['adhd200'] #,'fiq>0'] # ,'abide']\n",
    "dropnaset = [] #'FIQ']\n",
    "tmp_df = apply_cond(hie, condic, cond, dropnaset=dropnaset, columns={'volume':'brainvol'})\n",
    "len(set(tmp_df['ID']))"
   ]
  },
  {
   "cell_type": "code",
   "execution_count": 16,
   "metadata": {},
   "outputs": [],
   "source": [
    "structures = set(hie.structure)\n"
   ]
  },
  {
   "cell_type": "markdown",
   "metadata": {},
   "source": [
    "Hypotheses\n",
    "\n",
    "PIET-1: Total Brain Volume will positively correlate with IQ (in both sexes across the complete age range).\n",
    "\n",
    "MAC-1: Left striatum volume (caudate + putamen) will positively correlate with IQ in the total (male + female) child (age < 20) group.\n",
    "\n",
    "MAC-2: Left striatum volume (caudate + putamen) will positively correlate with IQ in the male children group.\n",
    "\n",
    "MAC-3: Left striatum volume (caudate + putamen) will not correlate with IQ in the female children group.\n",
    "\n",
    "GANJ-1: Total Corpus Callosum midsagittal area, after correcting for total brain volume, will negatively correlate with IQ.\n",
    "\n",
    "GANJ-2: Total Corpus Callosum midsagittal area, after correcting for total brain volume, will negatively correlate with IQ in the young (age < 12) group.\n",
    "\n",
    "GANJ-3: Total Corpus Callosum midsagittal area, after correcting for total brain volume, will not significantly correlate with IQ in the adolescent (age > 12) group.\n",
    "\n",
    "GANJ-4:. Total Corpus Callosum midsagittal area, after correcting for total brain volume, will negatively correlate with IQ in the male (age < 12) group.\n",
    "\n",
    "GANJ-5: Total Corpus Callosum midsagittal area, after correcting for total brain volume, will not significantly correlate with IQ in the female (age < 12) group.\n",
    "\n",
    "\n",
    "Kennedy.Dave: Yes, please add then ants (and FSL for the first 4 hypotheses) when you get the chance..."
   ]
  },
  {
   "cell_type": "code",
   "execution_count": null,
   "metadata": {},
   "outputs": [],
   "source": []
  },
  {
   "cell_type": "code",
   "execution_count": 17,
   "metadata": {},
   "outputs": [],
   "source": [
    "\n",
    "def md2dic(varname, hyp_name, cond, mdf=None, debug=False):\n",
    "    \"\"\"\n",
    "    Conveniency function for extracting the values from the output table\n",
    "    of statsmodel.formula (import as smf) fit \n",
    "    \n",
    "    \n",
    "    input\n",
    "    -------\n",
    "    varname: string \n",
    "        the name of the variable for which we want p, t, nobs, etc\n",
    "    hyp_name: string\n",
    "        name of hyp\n",
    "    cond: list\n",
    "        list of string representing the conditions \n",
    "    \n",
    "    returns\n",
    "    -------\n",
    "    dict \n",
    "        key is hyp_name, values is a dict with values for t, p, nobs, ... \n",
    "    \n",
    "    \"\"\"\n",
    "    table2 = mdf.summary().tables[1].data\n",
    "    cols = table2[0]\n",
    "    #print(cols)\n",
    "    #print(table2)\n",
    "    if debug: \n",
    "        print('varname', varname)\n",
    "        print('hyp_name', hyp_name)\n",
    "        print('table2[0] :',cols)\n",
    "\n",
    "    ther = [r for r in table2 if r[0] == varname]\n",
    "    if debug:\n",
    "        print(table2)\n",
    "        print('the row: ', ther)\n",
    "    ther = ther[0]\n",
    "    \n",
    "    resdic = {}\n",
    "    resdic[hyp_name] = {'P>|t|':ther[cols.index('P>|t|')], \n",
    "             't':ther[cols.index('t')], \n",
    "             'rsquared_adj':\"{:4.3}\".format(mdf.rsquared_adj),\n",
    "             'nobs': \"{:3d}\".format(int(mdf.nobs)),\n",
    "             'conditions': cond\n",
    "            }\n",
    "\n",
    "    return(resdic)"
   ]
  },
  {
   "cell_type": "code",
   "execution_count": 18,
   "metadata": {},
   "outputs": [],
   "source": [
    "def run_hyp(datadf, hyp_name, hyp, ynxs, resdic={}, debug=False):\n",
    "    \"\"\"\n",
    "    construct the formula and runs a specific hypothesis on dataframe datadf\n",
    "    the ynxs contain the variables names. If resdic exist, an additional \n",
    "    entry is added \n",
    "\n",
    "    df: pandas dataframe\n",
    "    volume_of: str\n",
    "        name of the region studied\n",
    "    hyp_name: str\n",
    "        describe the hypothesis\n",
    "    hyp: list\n",
    "        list of string describing the hyp\n",
    "    ynxs: list of str (Ys and Xs)\n",
    "        [0] : explained var Y\n",
    "        [1] : region X1 (for which we want the stats)\n",
    "        [2] : X2, ... additional covariables of the form : ' X2 + X3 ... '\n",
    "        \n",
    "    returns\n",
    "    --------\n",
    "    updated result dictionary \n",
    "    \"\"\"\n",
    "    \n",
    "    assert len(ynxs) == 3 # \n",
    "    md = smf.ols(ynxs[0] + \" ~ \" + ynxs[1] + \" + \" + ynxs[2], data=datadf)\n",
    "    mdf = md.fit()\n",
    "    resdic.update(md2dic(ynxs[1], hyp_name, hyp, mdf=mdf, debug=debug))\n",
    "    return resdic\n",
    "    \n",
    "\"\"\"    \n",
    "iq = 'FIQ'\n",
    "tmp = PIET_1_fs_df\n",
    "# md = smf.ols(iq + \" ~ Q('volume') + Gender + Age + study \", data=tmp) #  \n",
    "md = smf.ols(iq + \" ~ \" + volume_of + \" + study \", data=tmp) #  \n",
    "mdf = md.fit()\n",
    "print(mdf.summary())\n",
    "resdic.update(md2dic(volume_of, hyp_name, hyp1, mdf=mdf))\n",
    "\"\"\";"
   ]
  },
  {
   "cell_type": "markdown",
   "metadata": {},
   "source": [
    "### PIET-1: Total Brain Volume will positively correlate with IQ (in both sexes across the complete age range).\n"
   ]
  },
  {
   "cell_type": "code",
   "execution_count": 19,
   "metadata": {},
   "outputs": [
    {
     "name": "stdout",
     "output_type": "stream",
     "text": [
      "dict_keys(['left', 'right', 'latNan', 'age<=20', 'age<20', 'age<12', 'age>=12', 'fs', 'ants', 'fsl', 'fiq>0', 'normDev', 'patient', 'bvol', 'brainseg', 'brainsegwov', 'caudate', 'putamen', 'TIV', 'wm', 'gm', 'csf', 'wmfsl', 'gmfsl', 'csffsl', 'ccant', 'cccen', 'ccpos', 'abide', 'adhd200', 'male', 'female'])\n"
     ]
    }
   ],
   "source": [
    "condic = define_conditions(hie, tooldic=tooldic, normalDev=normalDev, patient=patient, h2ube=h2ube)\n",
    "print(condic.keys())\n",
    "dropnaset = ['FIQ', 'volume', 'Gender']\n"
   ]
  },
  {
   "cell_type": "code",
   "execution_count": 20,
   "metadata": {},
   "outputs": [
    {
     "name": "stdout",
     "output_type": "stream",
     "text": [
      "len(PIET_1_fs_df) 654\n"
     ]
    }
   ],
   "source": [
    "volume_of = 'brainseg'\n",
    "hyp_name = 'PIET-1_fs'\n",
    "\n",
    "PIET_1_fs = ['brainseg', 'fiq>0','normDev', 'fs'] # 'bvol','ants','abide']\n",
    "PIET_1_fs_df = apply_cond(hie, condic, PIET_1_fs, dropnaset=dropnaset, columns={'volume':volume_of})\n",
    "print('len(PIET_1_fs_df)',len(PIET_1_fs_df))\n",
    "\n",
    "resdic = run_hyp(PIET_1_fs_df, hyp_name, PIET_1_fs, ['FIQ', volume_of, 'study'], resdic={}, debug=False)"
   ]
  },
  {
   "cell_type": "code",
   "execution_count": 21,
   "metadata": {},
   "outputs": [
    {
     "data": {
      "text/plain": [
       "{'PIET-1_fs': {'P>|t|': ' 0.000',\n",
       "  't': '    4.866',\n",
       "  'rsquared_adj': '0.0986',\n",
       "  'nobs': '654',\n",
       "  'conditions': ['brainseg', 'fiq>0', 'normDev', 'fs']}}"
      ]
     },
     "execution_count": 21,
     "metadata": {},
     "output_type": "execute_result"
    }
   ],
   "source": [
    "resdic"
   ]
  },
  {
   "cell_type": "code",
   "execution_count": 22,
   "metadata": {},
   "outputs": [
    {
     "name": "stdout",
     "output_type": "stream",
     "text": [
      "len(fsl_total) 649\n"
     ]
    }
   ],
   "source": [
    "volume_of = 'fsl_brainvol'\n",
    "hyp_name = 'PIET-1_fsl'\n",
    "\n",
    "PIET_1_fsl = ['fiq>0','normDev', 'fsl']\n",
    "fsl_gm = PIET_1_fsl + ['gmfsl'] #\n",
    "fsl_wm = PIET_1_fsl + ['wmfsl'] #\n",
    "fsl_csf = PIET_1_fsl + ['csffsl'] #\n",
    "\n",
    "fsl_gm_df = apply_cond(hie, condic, fsl_gm, dropnaset=dropnaset, columns={'volume':'fsl_gm'})\n",
    "fsl_wm_df = apply_cond(hie, condic, fsl_wm, dropnaset=dropnaset, columns={'volume':'fsl_wm'})\n",
    "fsl_csf_df = apply_cond(hie, condic, fsl_csf, dropnaset=dropnaset, columns={'volume':'fsl_csf'})\n",
    "\n",
    "fsl_total = pd.merge(left=fsl_gm_df, right=fsl_wm_df[['ID','fsl_wm']], left_on='ID', right_on='ID')\n",
    "fsl_total = pd.merge(left=fsl_total, right=fsl_csf_df[['ID','fsl_csf']], left_on='ID', right_on='ID')\n",
    "fsl_total['fsl_brainvol'] = fsl_total['fsl_csf'] + fsl_total['fsl_wm'] + fsl_total['fsl_gm']\n",
    "print('len(fsl_total)',len(fsl_total))\n"
   ]
  },
  {
   "cell_type": "code",
   "execution_count": 23,
   "metadata": {},
   "outputs": [],
   "source": [
    "resdic = run_hyp(fsl_total, hyp_name, PIET_1_fsl, ['FIQ', volume_of, 'study'], resdic=resdic, debug=False)"
   ]
  },
  {
   "cell_type": "code",
   "execution_count": 24,
   "metadata": {},
   "outputs": [
    {
     "data": {
      "text/plain": [
       "{'PIET-1_fs': {'P>|t|': ' 0.000',\n",
       "  't': '    4.866',\n",
       "  'rsquared_adj': '0.0986',\n",
       "  'nobs': '654',\n",
       "  'conditions': ['brainseg', 'fiq>0', 'normDev', 'fs']},\n",
       " 'PIET-1_fsl': {'P>|t|': ' 0.004',\n",
       "  't': '    2.885',\n",
       "  'rsquared_adj': '0.0781',\n",
       "  'nobs': '649',\n",
       "  'conditions': ['fiq>0', 'normDev', 'fsl']}}"
      ]
     },
     "execution_count": 24,
     "metadata": {},
     "output_type": "execute_result"
    }
   ],
   "source": [
    "resdic"
   ]
  },
  {
   "cell_type": "markdown",
   "metadata": {},
   "source": [
    "##### and with ANTS ?\n"
   ]
  },
  {
   "cell_type": "code",
   "execution_count": 25,
   "metadata": {},
   "outputs": [
    {
     "name": "stdout",
     "output_type": "stream",
     "text": [
      "len(PIET_1_ants_df) 542\n"
     ]
    },
    {
     "data": {
      "text/plain": [
       "{'PIET-1_fs': {'P>|t|': ' 0.000',\n",
       "  't': '    4.866',\n",
       "  'rsquared_adj': '0.0986',\n",
       "  'nobs': '654',\n",
       "  'conditions': ['brainseg', 'fiq>0', 'normDev', 'fs']},\n",
       " 'PIET-1_fsl': {'P>|t|': ' 0.004',\n",
       "  't': '    2.885',\n",
       "  'rsquared_adj': '0.0781',\n",
       "  'nobs': '649',\n",
       "  'conditions': ['fiq>0', 'normDev', 'fsl']},\n",
       " 'PIET-1_ants': {'P>|t|': ' 0.000',\n",
       "  't': '    3.869',\n",
       "  'rsquared_adj': '0.0964',\n",
       "  'nobs': '542',\n",
       "  'conditions': ['bvol', 'fiq>0', 'normDev', 'ants']}}"
      ]
     },
     "execution_count": 25,
     "metadata": {},
     "output_type": "execute_result"
    }
   ],
   "source": [
    "volume_of = 'ants_brainvol'\n",
    "hyp_name = 'PIET-1_ants'\n",
    "PIET_1_ants = ['bvol', 'fiq>0', 'normDev', 'ants']\n",
    "PIET_1_ants_df = apply_cond(hie, condic, PIET_1_ants, dropnaset=dropnaset, columns={'volume':'ants_brainvol'})\n",
    "print('len(PIET_1_ants_df)',len(PIET_1_ants_df))\n",
    "\n",
    "resdic = run_hyp(PIET_1_ants_df, hyp_name, PIET_1_ants, ['FIQ', volume_of, 'study'], resdic=resdic, debug=False)\n",
    "resdic"
   ]
  },
  {
   "cell_type": "markdown",
   "metadata": {},
   "source": [
    "### MAC-1: Left striatum volume (caudate + putamen) will positively correlate with IQ in the total (male + female) child (age < 20) group.\n"
   ]
  },
  {
   "cell_type": "markdown",
   "metadata": {},
   "source": [
    "#### Create df and conditions for left striatum, **all age all gender**"
   ]
  },
  {
   "cell_type": "code",
   "execution_count": 26,
   "metadata": {},
   "outputs": [
    {
     "name": "stdout",
     "output_type": "stream",
     "text": [
      "1845 654\n",
      "1845 663\n"
     ]
    }
   ],
   "source": [
    "cond_mac = ['fiq>0', 'normDev', 'left'] # , 'fs' ,'age<20', \n",
    "\n",
    "mac1_caud = cond_mac + ['caudate'] #\n",
    "mac1_put = cond_mac + ['putamen'] #\n",
    "# mac1_tiv = cond_mac + ['fiq>0','normDev','fs','TIV'] #\n",
    "\n",
    "left_caud = apply_cond(hie, condic, mac1_caud, dropnaset=dropnaset, columns={'volume':'caudate'})\n",
    "print(len(left_caud), len(left_caud[(left_caud['tool']==tooldic['surfer'])] )) \n",
    "\n",
    "left_put = apply_cond(hie, condic, mac1_put, dropnaset=dropnaset, columns={'volume':'putamen'})\n",
    "print(len(left_put), len(set(left_put['ID'])))\n",
    "\n",
    "#left_caud.head(7)"
   ]
  },
  {
   "cell_type": "code",
   "execution_count": 27,
   "metadata": {},
   "outputs": [
    {
     "name": "stdout",
     "output_type": "stream",
     "text": [
      "1845\n"
     ]
    },
    {
     "data": {
      "text/html": [
       "<div>\n",
       "<style scoped>\n",
       "    .dataframe tbody tr th:only-of-type {\n",
       "        vertical-align: middle;\n",
       "    }\n",
       "\n",
       "    .dataframe tbody tr th {\n",
       "        vertical-align: top;\n",
       "    }\n",
       "\n",
       "    .dataframe thead th {\n",
       "        text-align: right;\n",
       "    }\n",
       "</style>\n",
       "<table border=\"1\" class=\"dataframe\">\n",
       "  <thead>\n",
       "    <tr style=\"text-align: right;\">\n",
       "      <th></th>\n",
       "      <th>study</th>\n",
       "      <th>ID</th>\n",
       "      <th>Age</th>\n",
       "      <th>dx</th>\n",
       "      <th>Gender</th>\n",
       "      <th>FIQ</th>\n",
       "      <th>PIQ</th>\n",
       "      <th>VIQ</th>\n",
       "      <th>tool</th>\n",
       "      <th>softwareLabel</th>\n",
       "      <th>structure</th>\n",
       "      <th>laterality</th>\n",
       "      <th>caudate</th>\n",
       "      <th>putamen</th>\n",
       "      <th>striatum</th>\n",
       "    </tr>\n",
       "  </thead>\n",
       "  <tbody>\n",
       "    <tr>\n",
       "      <th>0</th>\n",
       "      <td>ABIDE CMU_a Site</td>\n",
       "      <td>50665</td>\n",
       "      <td>33.0</td>\n",
       "      <td>2</td>\n",
       "      <td>Male</td>\n",
       "      <td>109.0</td>\n",
       "      <td>104.0</td>\n",
       "      <td>111.0</td>\n",
       "      <td>http://purl.org/nidash/fsl#</td>\n",
       "      <td>Left-Caudate (mm^3)</td>\n",
       "      <td>http://purl.obolibrary.org/obo/UBERON_0001873</td>\n",
       "      <td>Left</td>\n",
       "      <td>3313.0</td>\n",
       "      <td>4737.0</td>\n",
       "      <td>8050.0</td>\n",
       "    </tr>\n",
       "    <tr>\n",
       "      <th>1</th>\n",
       "      <td>ABIDE CMU_a Site</td>\n",
       "      <td>50666</td>\n",
       "      <td>31.0</td>\n",
       "      <td>2</td>\n",
       "      <td>Male</td>\n",
       "      <td>107.0</td>\n",
       "      <td>109.0</td>\n",
       "      <td>101.0</td>\n",
       "      <td>http://purl.org/nidash/fsl#</td>\n",
       "      <td>Left-Caudate (mm^3)</td>\n",
       "      <td>http://purl.obolibrary.org/obo/UBERON_0001873</td>\n",
       "      <td>Left</td>\n",
       "      <td>4261.0</td>\n",
       "      <td>6687.0</td>\n",
       "      <td>10948.0</td>\n",
       "    </tr>\n",
       "    <tr>\n",
       "      <th>2</th>\n",
       "      <td>ABIDE CMU_a Site</td>\n",
       "      <td>50666</td>\n",
       "      <td>31.0</td>\n",
       "      <td>2</td>\n",
       "      <td>Male</td>\n",
       "      <td>107.0</td>\n",
       "      <td>109.0</td>\n",
       "      <td>101.0</td>\n",
       "      <td>https://surfer.nmr.mgh.harvard.edu/</td>\n",
       "      <td>Left-Caudate Volume_mm3 (mm^3)</td>\n",
       "      <td>http://purl.obolibrary.org/obo/UBERON_0001873</td>\n",
       "      <td>Left</td>\n",
       "      <td>3872.8</td>\n",
       "      <td>6018.3</td>\n",
       "      <td>9891.1</td>\n",
       "    </tr>\n",
       "  </tbody>\n",
       "</table>\n",
       "</div>"
      ],
      "text/plain": [
       "              study     ID   Age dx Gender    FIQ    PIQ    VIQ  \\\n",
       "0  ABIDE CMU_a Site  50665  33.0  2   Male  109.0  104.0  111.0   \n",
       "1  ABIDE CMU_a Site  50666  31.0  2   Male  107.0  109.0  101.0   \n",
       "2  ABIDE CMU_a Site  50666  31.0  2   Male  107.0  109.0  101.0   \n",
       "\n",
       "                                  tool                   softwareLabel  \\\n",
       "0          http://purl.org/nidash/fsl#             Left-Caudate (mm^3)   \n",
       "1          http://purl.org/nidash/fsl#             Left-Caudate (mm^3)   \n",
       "2  https://surfer.nmr.mgh.harvard.edu/  Left-Caudate Volume_mm3 (mm^3)   \n",
       "\n",
       "                                       structure laterality  caudate  putamen  \\\n",
       "0  http://purl.obolibrary.org/obo/UBERON_0001873       Left   3313.0   4737.0   \n",
       "1  http://purl.obolibrary.org/obo/UBERON_0001873       Left   4261.0   6687.0   \n",
       "2  http://purl.obolibrary.org/obo/UBERON_0001873       Left   3872.8   6018.3   \n",
       "\n",
       "   striatum  \n",
       "0    8050.0  \n",
       "1   10948.0  \n",
       "2    9891.1  "
      ]
     },
     "execution_count": 27,
     "metadata": {},
     "output_type": "execute_result"
    }
   ],
   "source": [
    "left_stria = pd.merge(left=left_caud, right=left_put[['ID','putamen','tool']], on=['ID','tool'])\n",
    "left_stria['striatum'] = left_stria['caudate'] + left_stria['putamen']\n",
    "print(len(left_stria))\n",
    "\n",
    "left_stria.head(3)"
   ]
  },
  {
   "cell_type": "code",
   "execution_count": 28,
   "metadata": {},
   "outputs": [],
   "source": [
    "left_stria_condic = define_conditions(left_stria, tooldic=tooldic, \n",
    "                                      normalDev=normalDev, patient=patient, h2ube=h2ube)\n",
    "\n",
    "#print((set(left_stria['dx'])))"
   ]
  },
  {
   "cell_type": "markdown",
   "metadata": {},
   "source": [
    "### MAC-1: Left striatum volume (caudate + putamen) will positively correlate with IQ in the total (male + female) child (age < 20) group.\n"
   ]
  },
  {
   "cell_type": "markdown",
   "metadata": {},
   "source": [
    "#### FS"
   ]
  },
  {
   "cell_type": "code",
   "execution_count": 29,
   "metadata": {},
   "outputs": [
    {
     "name": "stdout",
     "output_type": "stream",
     "text": [
      "['study', 'ID', 'Age', 'dx', 'Gender', 'FIQ', 'PIQ', 'VIQ', 'tool', 'softwareLabel', 'structure', 'laterality', 'caudate', 'putamen', 'striatum']\n"
     ]
    }
   ],
   "source": [
    "print(list(left_stria))"
   ]
  },
  {
   "cell_type": "code",
   "execution_count": 30,
   "metadata": {},
   "outputs": [
    {
     "name": "stdout",
     "output_type": "stream",
     "text": [
      "535\n",
      "{'PIET-1_fs': {'P>|t|': ' 0.000', 't': '    4.866', 'rsquared_adj': '0.0986', 'nobs': '654', 'conditions': ['brainseg', 'fiq>0', 'normDev', 'fs']}, 'PIET-1_fsl': {'P>|t|': ' 0.004', 't': '    2.885', 'rsquared_adj': '0.0781', 'nobs': '649', 'conditions': ['fiq>0', 'normDev', 'fsl']}, 'PIET-1_ants': {'P>|t|': ' 0.000', 't': '    3.869', 'rsquared_adj': '0.0964', 'nobs': '542', 'conditions': ['bvol', 'fiq>0', 'normDev', 'ants']}, 'MAC-1-fs': {'P>|t|': ' 0.000', 't': '    4.827', 'rsquared_adj': '0.115', 'nobs': '535', 'conditions': ['fiq>0', 'normDev', 'left', 'age<20', 'fs']}}\n"
     ]
    }
   ],
   "source": [
    "volume_of = 'striatum_fs'\n",
    "hyp_name = 'MAC-1-fs'\n",
    "mac1_child_fs = ['age<20','fs']\n",
    "mac1_child_df = apply_cond(left_stria, left_stria_condic, mac1_child_fs, columns={'striatum':'striatum_fs'})\n",
    "print(len(mac1_child_df))\n",
    "# print(list(mac1_child_df))\n",
    "resdic = run_hyp(mac1_child_df, hyp_name, cond_mac+mac1_child_fs, \n",
    "                     ['FIQ', volume_of, 'study'], resdic=resdic, debug=False)\n",
    "\n",
    "print(resdic)\n"
   ]
  },
  {
   "cell_type": "markdown",
   "metadata": {},
   "source": [
    "#### FSL"
   ]
  },
  {
   "cell_type": "code",
   "execution_count": 31,
   "metadata": {},
   "outputs": [
    {
     "name": "stdout",
     "output_type": "stream",
     "text": [
      "531\n"
     ]
    }
   ],
   "source": [
    "volume_of = 'striatum_fsl'\n",
    "hyp_name = 'MAC-1-fsl'\n",
    "mac1_child_fsl = ['age<20','fsl']\n",
    "mac1_child_df = apply_cond(left_stria, left_stria_condic, mac1_child_fsl, \n",
    "                                                          columns={'striatum':'striatum_fsl'})\n",
    "print(len(mac1_child_df))\n",
    "\n",
    "resdic = run_hyp(mac1_child_df, hyp_name, cond_mac+mac1_child_fsl, \n",
    "                     ['FIQ', volume_of, 'study'], resdic=resdic, debug=False)\n",
    "\n",
    "# print(resdic)"
   ]
  },
  {
   "cell_type": "code",
   "execution_count": 32,
   "metadata": {},
   "outputs": [
    {
     "name": "stdout",
     "output_type": "stream",
     "text": [
      "488\n"
     ]
    }
   ],
   "source": [
    "volume_of = 'striatum_ants'\n",
    "hyp_name = 'MAC-1-ants'\n",
    "mac1_child_ants = ['age<20','ants'] #,'abide']\n",
    "mac1_child_df = apply_cond(left_stria, left_stria_condic, mac1_child_ants, \n",
    "                                                          columns={'striatum':'striatum_ants'})\n",
    "print(len(mac1_child_df)) # list(mac1_child_df)\n",
    "assert(len(mac1_child_df) == len(set(mac1_child_df['ID'])))\n",
    "# mac1_child_df.head(5)"
   ]
  },
  {
   "cell_type": "code",
   "execution_count": 33,
   "metadata": {},
   "outputs": [],
   "source": [
    "resdic = run_hyp(mac1_child_df, hyp_name, cond_mac+mac1_child_ants, \n",
    "                     ['FIQ', volume_of, 'study'], resdic=resdic, debug=False)\n",
    "\n",
    "# print(resdic)"
   ]
  },
  {
   "cell_type": "markdown",
   "metadata": {},
   "source": [
    "### MAC-2: Left striatum volume (caudate + putamen) will positively correlate with IQ in the male children group.\n"
   ]
  },
  {
   "cell_type": "code",
   "execution_count": 34,
   "metadata": {},
   "outputs": [
    {
     "name": "stdout",
     "output_type": "stream",
     "text": [
      "405\n",
      "{'PIET-1_fs': {'P>|t|': ' 0.000', 't': '    4.866', 'rsquared_adj': '0.0986', 'nobs': '654', 'conditions': ['brainseg', 'fiq>0', 'normDev', 'fs']}, 'PIET-1_fsl': {'P>|t|': ' 0.004', 't': '    2.885', 'rsquared_adj': '0.0781', 'nobs': '649', 'conditions': ['fiq>0', 'normDev', 'fsl']}, 'PIET-1_ants': {'P>|t|': ' 0.000', 't': '    3.869', 'rsquared_adj': '0.0964', 'nobs': '542', 'conditions': ['bvol', 'fiq>0', 'normDev', 'ants']}, 'MAC-1-fs': {'P>|t|': ' 0.000', 't': '    4.827', 'rsquared_adj': '0.115', 'nobs': '535', 'conditions': ['fiq>0', 'normDev', 'left', 'age<20', 'fs']}, 'MAC-1-fsl': {'P>|t|': ' 0.000', 't': '    4.365', 'rsquared_adj': '0.108', 'nobs': '531', 'conditions': ['fiq>0', 'normDev', 'left', 'age<20', 'fsl']}, 'MAC-1-ants': {'P>|t|': ' 0.000', 't': '    4.617', 'rsquared_adj': '0.117', 'nobs': '488', 'conditions': ['fiq>0', 'normDev', 'left', 'age<20', 'ants']}, 'MAC-2-fs': {'P>|t|': ' 0.000', 't': '    4.536', 'rsquared_adj': '0.133', 'nobs': '405', 'conditions': ['fiq>0', 'normDev', 'left', 'age<20', 'male', 'fs']}}\n"
     ]
    }
   ],
   "source": [
    "sftw = 'fs'\n",
    "volume_of = 'striatum'\n",
    "hyp_name = 'MAC-2-' + sftw\n",
    "mac2_cond = ['age<20','male', sftw]\n",
    "mac2_df = apply_cond(left_stria, left_stria_condic, mac2_cond)\n",
    "print(len(mac2_df))\n",
    "\n",
    "resdic = run_hyp(mac2_df, hyp_name, cond_mac+mac2_cond, \n",
    "                     ['FIQ', volume_of, 'study'], resdic=resdic, debug=False)\n",
    "\n",
    "print(resdic)"
   ]
  },
  {
   "cell_type": "markdown",
   "metadata": {},
   "source": [
    "#### MAC-2 ANTS"
   ]
  },
  {
   "cell_type": "code",
   "execution_count": null,
   "metadata": {},
   "outputs": [],
   "source": []
  },
  {
   "cell_type": "markdown",
   "metadata": {},
   "source": [
    "#### MAC-2 FSL"
   ]
  },
  {
   "cell_type": "code",
   "execution_count": 35,
   "metadata": {},
   "outputs": [
    {
     "name": "stdout",
     "output_type": "stream",
     "text": [
      "402\n",
      "{'PIET-1_fs': {'P>|t|': ' 0.000', 't': '    4.866', 'rsquared_adj': '0.0986', 'nobs': '654', 'conditions': ['brainseg', 'fiq>0', 'normDev', 'fs']}, 'PIET-1_fsl': {'P>|t|': ' 0.004', 't': '    2.885', 'rsquared_adj': '0.0781', 'nobs': '649', 'conditions': ['fiq>0', 'normDev', 'fsl']}, 'PIET-1_ants': {'P>|t|': ' 0.000', 't': '    3.869', 'rsquared_adj': '0.0964', 'nobs': '542', 'conditions': ['bvol', 'fiq>0', 'normDev', 'ants']}, 'MAC-1-fs': {'P>|t|': ' 0.000', 't': '    4.827', 'rsquared_adj': '0.115', 'nobs': '535', 'conditions': ['fiq>0', 'normDev', 'left', 'age<20', 'fs']}, 'MAC-1-fsl': {'P>|t|': ' 0.000', 't': '    4.365', 'rsquared_adj': '0.108', 'nobs': '531', 'conditions': ['fiq>0', 'normDev', 'left', 'age<20', 'fsl']}, 'MAC-1-ants': {'P>|t|': ' 0.000', 't': '    4.617', 'rsquared_adj': '0.117', 'nobs': '488', 'conditions': ['fiq>0', 'normDev', 'left', 'age<20', 'ants']}, 'MAC-2-fs': {'P>|t|': ' 0.000', 't': '    4.536', 'rsquared_adj': '0.133', 'nobs': '405', 'conditions': ['fiq>0', 'normDev', 'left', 'age<20', 'male', 'fs']}, 'MAC-2-fsl': {'P>|t|': ' 0.000', 't': '    4.303', 'rsquared_adj': '0.127', 'nobs': '402', 'conditions': ['fiq>0', 'normDev', 'left', 'age<20', 'male', 'fsl']}}\n"
     ]
    }
   ],
   "source": [
    "sftw = 'fsl'\n",
    "volume_of = 'striatum'\n",
    "hyp_name = 'MAC-2-' + sftw\n",
    "mac2_cond = ['age<20','male', sftw]\n",
    "mac2_df = apply_cond(left_stria, left_stria_condic, mac2_cond)\n",
    "print(len(mac2_df))\n",
    "\n",
    "resdic = run_hyp(mac2_df, hyp_name, cond_mac+mac2_cond, \n",
    "                     ['FIQ', volume_of, 'study'], resdic=resdic, debug=False)\n",
    "\n",
    "print(resdic)"
   ]
  },
  {
   "cell_type": "code",
   "execution_count": 36,
   "metadata": {},
   "outputs": [
    {
     "name": "stdout",
     "output_type": "stream",
     "text": [
      "365\n",
      "{'PIET-1_fs': {'P>|t|': ' 0.000', 't': '    4.866', 'rsquared_adj': '0.0986', 'nobs': '654', 'conditions': ['brainseg', 'fiq>0', 'normDev', 'fs']}, 'PIET-1_fsl': {'P>|t|': ' 0.004', 't': '    2.885', 'rsquared_adj': '0.0781', 'nobs': '649', 'conditions': ['fiq>0', 'normDev', 'fsl']}, 'PIET-1_ants': {'P>|t|': ' 0.000', 't': '    3.869', 'rsquared_adj': '0.0964', 'nobs': '542', 'conditions': ['bvol', 'fiq>0', 'normDev', 'ants']}, 'MAC-1-fs': {'P>|t|': ' 0.000', 't': '    4.827', 'rsquared_adj': '0.115', 'nobs': '535', 'conditions': ['fiq>0', 'normDev', 'left', 'age<20', 'fs']}, 'MAC-1-fsl': {'P>|t|': ' 0.000', 't': '    4.365', 'rsquared_adj': '0.108', 'nobs': '531', 'conditions': ['fiq>0', 'normDev', 'left', 'age<20', 'fsl']}, 'MAC-1-ants': {'P>|t|': ' 0.000', 't': '    4.617', 'rsquared_adj': '0.117', 'nobs': '488', 'conditions': ['fiq>0', 'normDev', 'left', 'age<20', 'ants']}, 'MAC-2-fs': {'P>|t|': ' 0.000', 't': '    4.536', 'rsquared_adj': '0.133', 'nobs': '405', 'conditions': ['fiq>0', 'normDev', 'left', 'age<20', 'male', 'fs']}, 'MAC-2-fsl': {'P>|t|': ' 0.000', 't': '    4.303', 'rsquared_adj': '0.127', 'nobs': '402', 'conditions': ['fiq>0', 'normDev', 'left', 'age<20', 'male', 'fsl']}, 'MAC-2-ants': {'P>|t|': ' 0.000', 't': '    4.062', 'rsquared_adj': '0.136', 'nobs': '365', 'conditions': ['fiq>0', 'normDev', 'left', 'age<20', 'male', 'ants']}}\n"
     ]
    }
   ],
   "source": [
    "sftw = 'ants'\n",
    "volume_of = 'striatum'\n",
    "hyp_name = 'MAC-2-' + sftw\n",
    "mac2_cond = ['age<20','male', sftw]\n",
    "\n",
    "mac2_df = apply_cond(left_stria, left_stria_condic, mac2_cond)\n",
    "print(len(mac2_df))\n",
    "\n",
    "resdic = run_hyp(mac2_df, hyp_name, cond_mac+mac2_cond, \n",
    "                     ['FIQ', volume_of, 'study'], resdic=resdic, debug=False)\n",
    "\n",
    "print(resdic)"
   ]
  },
  {
   "cell_type": "markdown",
   "metadata": {},
   "source": [
    "### MAC-3: Left striatum volume (caudate + putamen) will not correlate with IQ in the female children group.\n"
   ]
  },
  {
   "cell_type": "markdown",
   "metadata": {},
   "source": [
    "#### MAC-3 FS"
   ]
  },
  {
   "cell_type": "code",
   "execution_count": 37,
   "metadata": {},
   "outputs": [
    {
     "name": "stdout",
     "output_type": "stream",
     "text": [
      "130\n",
      "{'PIET-1_fs': {'P>|t|': ' 0.000', 't': '    4.866', 'rsquared_adj': '0.0986', 'nobs': '654', 'conditions': ['brainseg', 'fiq>0', 'normDev', 'fs']}, 'PIET-1_fsl': {'P>|t|': ' 0.004', 't': '    2.885', 'rsquared_adj': '0.0781', 'nobs': '649', 'conditions': ['fiq>0', 'normDev', 'fsl']}, 'PIET-1_ants': {'P>|t|': ' 0.000', 't': '    3.869', 'rsquared_adj': '0.0964', 'nobs': '542', 'conditions': ['bvol', 'fiq>0', 'normDev', 'ants']}, 'MAC-1-fs': {'P>|t|': ' 0.000', 't': '    4.827', 'rsquared_adj': '0.115', 'nobs': '535', 'conditions': ['fiq>0', 'normDev', 'left', 'age<20', 'fs']}, 'MAC-1-fsl': {'P>|t|': ' 0.000', 't': '    4.365', 'rsquared_adj': '0.108', 'nobs': '531', 'conditions': ['fiq>0', 'normDev', 'left', 'age<20', 'fsl']}, 'MAC-1-ants': {'P>|t|': ' 0.000', 't': '    4.617', 'rsquared_adj': '0.117', 'nobs': '488', 'conditions': ['fiq>0', 'normDev', 'left', 'age<20', 'ants']}, 'MAC-2-fs': {'P>|t|': ' 0.000', 't': '    4.536', 'rsquared_adj': '0.133', 'nobs': '405', 'conditions': ['fiq>0', 'normDev', 'left', 'age<20', 'male', 'fs']}, 'MAC-2-fsl': {'P>|t|': ' 0.000', 't': '    4.303', 'rsquared_adj': '0.127', 'nobs': '402', 'conditions': ['fiq>0', 'normDev', 'left', 'age<20', 'male', 'fsl']}, 'MAC-2-ants': {'P>|t|': ' 0.000', 't': '    4.062', 'rsquared_adj': '0.136', 'nobs': '365', 'conditions': ['fiq>0', 'normDev', 'left', 'age<20', 'male', 'ants']}, 'MAC-3-fs': {'P>|t|': ' 0.017', 't': '    2.428', 'rsquared_adj': '0.105', 'nobs': '130', 'conditions': ['fiq>0', 'normDev', 'left', 'age<20', 'female', 'fs']}}\n"
     ]
    }
   ],
   "source": [
    "sftw = 'fs'\n",
    "volume_of = 'striatum'\n",
    "hyp_name = 'MAC-3-' + sftw\n",
    "hyp_cond = ['age<20','female', sftw]\n",
    "hyp_df = apply_cond(left_stria, left_stria_condic, hyp_cond)\n",
    "print(len(hyp_df))\n",
    "\n",
    "resdic = run_hyp(hyp_df, hyp_name, cond_mac+hyp_cond, \n",
    "                     ['FIQ', volume_of, 'study'], resdic=resdic, debug=False)\n",
    "\n",
    "print(resdic)"
   ]
  },
  {
   "cell_type": "markdown",
   "metadata": {},
   "source": [
    "#### MAC-3 FSL"
   ]
  },
  {
   "cell_type": "code",
   "execution_count": 38,
   "metadata": {},
   "outputs": [
    {
     "name": "stdout",
     "output_type": "stream",
     "text": [
      "129\n",
      "{'PIET-1_fs': {'P>|t|': ' 0.000', 't': '    4.866', 'rsquared_adj': '0.0986', 'nobs': '654', 'conditions': ['brainseg', 'fiq>0', 'normDev', 'fs']}, 'PIET-1_fsl': {'P>|t|': ' 0.004', 't': '    2.885', 'rsquared_adj': '0.0781', 'nobs': '649', 'conditions': ['fiq>0', 'normDev', 'fsl']}, 'PIET-1_ants': {'P>|t|': ' 0.000', 't': '    3.869', 'rsquared_adj': '0.0964', 'nobs': '542', 'conditions': ['bvol', 'fiq>0', 'normDev', 'ants']}, 'MAC-1-fs': {'P>|t|': ' 0.000', 't': '    4.827', 'rsquared_adj': '0.115', 'nobs': '535', 'conditions': ['fiq>0', 'normDev', 'left', 'age<20', 'fs']}, 'MAC-1-fsl': {'P>|t|': ' 0.000', 't': '    4.365', 'rsquared_adj': '0.108', 'nobs': '531', 'conditions': ['fiq>0', 'normDev', 'left', 'age<20', 'fsl']}, 'MAC-1-ants': {'P>|t|': ' 0.000', 't': '    4.617', 'rsquared_adj': '0.117', 'nobs': '488', 'conditions': ['fiq>0', 'normDev', 'left', 'age<20', 'ants']}, 'MAC-2-fs': {'P>|t|': ' 0.000', 't': '    4.536', 'rsquared_adj': '0.133', 'nobs': '405', 'conditions': ['fiq>0', 'normDev', 'left', 'age<20', 'male', 'fs']}, 'MAC-2-fsl': {'P>|t|': ' 0.000', 't': '    4.303', 'rsquared_adj': '0.127', 'nobs': '402', 'conditions': ['fiq>0', 'normDev', 'left', 'age<20', 'male', 'fsl']}, 'MAC-2-ants': {'P>|t|': ' 0.000', 't': '    4.062', 'rsquared_adj': '0.136', 'nobs': '365', 'conditions': ['fiq>0', 'normDev', 'left', 'age<20', 'male', 'ants']}, 'MAC-3-fs': {'P>|t|': ' 0.017', 't': '    2.428', 'rsquared_adj': '0.105', 'nobs': '130', 'conditions': ['fiq>0', 'normDev', 'left', 'age<20', 'female', 'fs']}, 'MAC-3-fsl': {'P>|t|': ' 0.278', 't': '    1.091', 'rsquared_adj': '0.0742', 'nobs': '129', 'conditions': ['fiq>0', 'normDev', 'left', 'age<20', 'female', 'fsl']}}\n"
     ]
    }
   ],
   "source": [
    "sftw = 'fsl'\n",
    "volume_of = 'striatum'\n",
    "hyp_name = 'MAC-3-' + sftw\n",
    "hyp_cond = ['age<20','female', sftw]\n",
    "hyp_df = apply_cond(left_stria, left_stria_condic, hyp_cond)\n",
    "print(len(hyp_df))\n",
    "\n",
    "resdic = run_hyp(hyp_df, hyp_name, cond_mac+hyp_cond, \n",
    "                     ['FIQ', volume_of, 'study'], resdic=resdic, debug=False)\n",
    "\n",
    "print(resdic)"
   ]
  },
  {
   "cell_type": "markdown",
   "metadata": {},
   "source": [
    "#### MAC-3 ANTS"
   ]
  },
  {
   "cell_type": "code",
   "execution_count": 39,
   "metadata": {},
   "outputs": [
    {
     "name": "stdout",
     "output_type": "stream",
     "text": [
      "123\n",
      "{'PIET-1_fs': {'P>|t|': ' 0.000', 't': '    4.866', 'rsquared_adj': '0.0986', 'nobs': '654', 'conditions': ['brainseg', 'fiq>0', 'normDev', 'fs']}, 'PIET-1_fsl': {'P>|t|': ' 0.004', 't': '    2.885', 'rsquared_adj': '0.0781', 'nobs': '649', 'conditions': ['fiq>0', 'normDev', 'fsl']}, 'PIET-1_ants': {'P>|t|': ' 0.000', 't': '    3.869', 'rsquared_adj': '0.0964', 'nobs': '542', 'conditions': ['bvol', 'fiq>0', 'normDev', 'ants']}, 'MAC-1-fs': {'P>|t|': ' 0.000', 't': '    4.827', 'rsquared_adj': '0.115', 'nobs': '535', 'conditions': ['fiq>0', 'normDev', 'left', 'age<20', 'fs']}, 'MAC-1-fsl': {'P>|t|': ' 0.000', 't': '    4.365', 'rsquared_adj': '0.108', 'nobs': '531', 'conditions': ['fiq>0', 'normDev', 'left', 'age<20', 'fsl']}, 'MAC-1-ants': {'P>|t|': ' 0.000', 't': '    4.617', 'rsquared_adj': '0.117', 'nobs': '488', 'conditions': ['fiq>0', 'normDev', 'left', 'age<20', 'ants']}, 'MAC-2-fs': {'P>|t|': ' 0.000', 't': '    4.536', 'rsquared_adj': '0.133', 'nobs': '405', 'conditions': ['fiq>0', 'normDev', 'left', 'age<20', 'male', 'fs']}, 'MAC-2-fsl': {'P>|t|': ' 0.000', 't': '    4.303', 'rsquared_adj': '0.127', 'nobs': '402', 'conditions': ['fiq>0', 'normDev', 'left', 'age<20', 'male', 'fsl']}, 'MAC-2-ants': {'P>|t|': ' 0.000', 't': '    4.062', 'rsquared_adj': '0.136', 'nobs': '365', 'conditions': ['fiq>0', 'normDev', 'left', 'age<20', 'male', 'ants']}, 'MAC-3-fs': {'P>|t|': ' 0.017', 't': '    2.428', 'rsquared_adj': '0.105', 'nobs': '130', 'conditions': ['fiq>0', 'normDev', 'left', 'age<20', 'female', 'fs']}, 'MAC-3-fsl': {'P>|t|': ' 0.278', 't': '    1.091', 'rsquared_adj': '0.0742', 'nobs': '129', 'conditions': ['fiq>0', 'normDev', 'left', 'age<20', 'female', 'fsl']}, 'MAC-3-ants': {'P>|t|': ' 0.020', 't': '    2.368', 'rsquared_adj': '0.0927', 'nobs': '123', 'conditions': ['fiq>0', 'normDev', 'left', 'age<20', 'female', 'ants']}}\n"
     ]
    }
   ],
   "source": [
    "sftw = 'ants'\n",
    "volume_of = 'striatum'\n",
    "hyp_name = 'MAC-3-' + sftw # + 'abide'\n",
    "hyp_cond = ['age<20','female', sftw] #, 'abide']\n",
    "hyp_df = apply_cond(left_stria, left_stria_condic, hyp_cond)\n",
    "print(len(hyp_df))\n",
    "\n",
    "resdic = run_hyp(hyp_df, hyp_name, cond_mac+hyp_cond, \n",
    "                     ['FIQ', volume_of, 'study'], resdic=resdic, debug=False)\n",
    "\n",
    "print(resdic)"
   ]
  },
  {
   "cell_type": "code",
   "execution_count": null,
   "metadata": {},
   "outputs": [],
   "source": []
  },
  {
   "cell_type": "markdown",
   "metadata": {},
   "source": [
    "### compute cc and tbv  for GANJ, no age or gender condition "
   ]
  },
  {
   "cell_type": "code",
   "execution_count": 40,
   "metadata": {},
   "outputs": [
    {
     "name": "stdout",
     "output_type": "stream",
     "text": [
      "['study', 'ID', 'Age', 'dx', 'Gender', 'FIQ', 'PIQ', 'VIQ', 'tool', 'softwareLabel', 'structure', 'laterality', 'volume']\n"
     ]
    }
   ],
   "source": [
    "condic = define_conditions(hie, tooldic=tooldic, normalDev=normalDev, patient=patient, h2ube=h2ube)\n",
    "condic.keys()\n",
    "print(list(hie))"
   ]
  },
  {
   "cell_type": "code",
   "execution_count": 41,
   "metadata": {},
   "outputs": [
    {
     "data": {
      "text/plain": [
       "(654, 654, 654, 654)"
      ]
     },
     "execution_count": 41,
     "metadata": {},
     "output_type": "execute_result"
    }
   ],
   "source": [
    "sftw = 'fs'\n",
    "hyp_Ganj = ['fiq>0','normDev', sftw] #, 'adhd200']# , 'adhd' ,'abide','age<20'\n",
    "hyp_ccant = hyp_Ganj + ['ccant'] #\n",
    "hyp_cccen = hyp_Ganj + ['cccen'] #\n",
    "hyp_ccpos = hyp_Ganj + ['ccpos'] #\n",
    "\n",
    "ccant = apply_cond(hie, condic, hyp_ccant, dropnaset=dropnaset, columns={'volume':'ccant'})\n",
    "cccen = apply_cond(hie, condic, hyp_cccen, dropnaset=dropnaset, columns={'volume':'cccen'})\n",
    "ccpos = apply_cond(hie, condic, hyp_ccpos, dropnaset=dropnaset, columns={'volume':'ccpos'})\n",
    "\n",
    "# Note: Only freesurfer measures CC_* therefore no need to merge on tools as well\n",
    "cc_df = pd.merge(left=ccant, right=cccen[['ID','cccen']], on=['ID']) #,'tools']) # left_on='ID', right_on='ID')\n",
    "cc_df = pd.merge(left=cc_df, right=ccpos[['ID','ccpos']], on=['ID']) #,'tools']) # left_on='ID', right_on='ID')\n",
    "\n",
    "cc_df['cc'] = cc_df['ccant']+cc_df['cccen']+cc_df['ccpos']\n",
    "len(cc_df), len(ccant), len(cccen), len(ccpos)"
   ]
  },
  {
   "cell_type": "code",
   "execution_count": 42,
   "metadata": {},
   "outputs": [
    {
     "name": "stdout",
     "output_type": "stream",
     "text": [
      "{'ABIDE CMU_b Site', 'ADHD200 - Peking_2', 'ABIDE Pitt Site', 'ABIDE MaxMun_a Site', 'ABIDE CMU_a Site', 'ABIDE MaxMun_c Site', 'ABIDE Stanford Site', 'ABIDE Caltech Site', 'ABIDE SDSU Site', 'ABIDE UM_1 Site', 'ABIDE UCLA_2 Site', 'ABIDE Olin Site', 'ABIDE OHSU Site', 'ABIDE KKI Site', 'ABIDE Trinity Site', 'ABIDE Leuven_1 Site', 'ABIDE MaxMun_d Site', 'ADHD200 - Peking_3', 'ABIDE Yale Site', 'ABIDE NYU Site', 'ABIDE UCLA_1 Site', 'ABIDE UM_2 Site', 'ADHD200 - NYU', 'ADHD200 - Peking_1', 'ADHD200 - KKI'}\n"
     ]
    }
   ],
   "source": [
    "print(set(cc_df['study']))"
   ]
  },
  {
   "cell_type": "code",
   "execution_count": 43,
   "metadata": {},
   "outputs": [
    {
     "data": {
      "text/plain": [
       "493"
      ]
     },
     "execution_count": 43,
     "metadata": {},
     "output_type": "execute_result"
    }
   ],
   "source": [
    "tmp_df = cc_df[cc_df['study'].str.contains(\"ADHD\")]\n",
    "664 - len(tmp_df)\n",
    "#tmp_df.head(3)"
   ]
  },
  {
   "cell_type": "code",
   "execution_count": 44,
   "metadata": {},
   "outputs": [
    {
     "name": "stdout",
     "output_type": "stream",
     "text": [
      "654 654 654 654\n"
     ]
    }
   ],
   "source": [
    "hyp_ganj = 'GANJ-'\n",
    "\n",
    "hyp_gm = hyp_Ganj + ['gm'] # + ['adhd200']#\n",
    "gm = apply_cond(hie, condic, hyp_gm, dropnaset=dropnaset, columns={'volume':'gm'})\n",
    "#print(gm[['ID','gm','laterality']].head(2),len(gm))\n",
    "\n",
    "hyp_wm = hyp_Ganj + ['wm','latNan'] #\n",
    "wm = apply_cond(hie, condic, hyp_wm, dropnaset=dropnaset, columns={'volume':'wm'})\n",
    "#print(wm[['ID','wm','laterality']].head(2),len(wm))\n",
    "\n",
    "hyp_csf = hyp_Ganj + ['csf'] #\n",
    "csf = apply_cond(hie, condic, hyp_csf, dropnaset=dropnaset, columns={'volume':'csf'})\n",
    "#print(csf[['ID','csf','laterality']].head(2),len(csf))\n",
    "\n",
    "tbv = pd.merge(left=gm, right=wm[['ID','wm']], left_on='ID', right_on='ID')\n",
    "tbv = pd.merge(left=tbv, right=csf[['ID','csf']], left_on='ID', right_on='ID')\n",
    "tbv['tbv'] = tbv['wm'] + tbv['gm'] +  tbv['csf']\n",
    "\n",
    "print(len(gm), len(wm), len(csf), len(tbv))"
   ]
  },
  {
   "cell_type": "code",
   "execution_count": 45,
   "metadata": {},
   "outputs": [],
   "source": [
    "cc_tbv = pd.merge(left=tbv, right=cc_df[['ID','cc']], left_on='ID', right_on='ID')\n",
    "condic_cc_tbv = define_conditions(cc_tbv, tooldic=tooldic, normalDev=normalDev, patient=patient, h2ube=h2ube)\n"
   ]
  },
  {
   "cell_type": "code",
   "execution_count": null,
   "metadata": {},
   "outputs": [],
   "source": []
  },
  {
   "cell_type": "markdown",
   "metadata": {},
   "source": [
    "### GANJ-1: Total Corpus Callosum midsagittal area, after correcting for total brain volume, will negatively correlate with IQ.\n"
   ]
  },
  {
   "cell_type": "code",
   "execution_count": 46,
   "metadata": {},
   "outputs": [
    {
     "name": "stdout",
     "output_type": "stream",
     "text": [
      "535\n"
     ]
    }
   ],
   "source": [
    "volume_of = 'cc'\n",
    "hyp_name = hyp_ganj + '1' # + 'abide'\n",
    "hyp_cond = ['age<20'] #'fiq>0','normDev','fs','age<=20','ccant'] #\n",
    "hyp_df = apply_cond(cc_tbv, condic_cc_tbv, hyp_cond)\n",
    "print(len(hyp_df))\n",
    "\n",
    "resdic = run_hyp(hyp_df, hyp_name, cond_mac+hyp_cond, \n",
    "                     ['FIQ', volume_of, 'study + tbv'], resdic=resdic, debug=False)\n",
    "#print(resdic)"
   ]
  },
  {
   "cell_type": "code",
   "execution_count": null,
   "metadata": {},
   "outputs": [],
   "source": []
  },
  {
   "cell_type": "markdown",
   "metadata": {},
   "source": [
    "### GANJ-2: Total Corpus Callosum midsagittal area, after correcting for total brain volume, will negatively correlate with IQ in the young (age < 12) group."
   ]
  },
  {
   "cell_type": "code",
   "execution_count": 47,
   "metadata": {},
   "outputs": [
    {
     "name": "stdout",
     "output_type": "stream",
     "text": [
      "270\n"
     ]
    }
   ],
   "source": [
    "volume_of = 'cc'\n",
    "hyp_name = hyp_ganj + '2' # + 'abide'\n",
    "hyp_cond = ['age<12'] #'fiq>0','normDev','fs','age<=20','ccant'] #\n",
    "hyp_df = apply_cond(cc_tbv, condic_cc_tbv, hyp_cond)\n",
    "print(len(hyp_df))\n",
    "\n",
    "resdic = run_hyp(hyp_df, hyp_name, cond_mac+hyp_cond, \n",
    "                     ['FIQ', volume_of, 'study + tbv'], resdic=resdic, debug=False)\n",
    "#print(resdic)"
   ]
  },
  {
   "cell_type": "markdown",
   "metadata": {},
   "source": [
    "### GANJ-3: Total Corpus Callosum midsagittal area, after correcting for total brain volume, will not significantly correlate with IQ in the adolescent (age > 12) group.\n"
   ]
  },
  {
   "cell_type": "code",
   "execution_count": 48,
   "metadata": {},
   "outputs": [
    {
     "name": "stdout",
     "output_type": "stream",
     "text": [
      "384\n"
     ]
    }
   ],
   "source": [
    "volume_of = 'cc'\n",
    "hyp_name = hyp_ganj + '3' # + 'abide'\n",
    "hyp_cond = ['age>=12'] #'fiq>0','normDev','fs','age<=20','ccant'] #\n",
    "hyp_df = apply_cond(cc_tbv, condic_cc_tbv, hyp_cond)\n",
    "print(len(hyp_df))\n",
    "\n",
    "resdic = run_hyp(hyp_df, hyp_name, cond_mac+hyp_cond, \n",
    "                     ['FIQ', volume_of, 'study + tbv'], resdic=resdic, debug=False)\n",
    "#print(resdic)"
   ]
  },
  {
   "cell_type": "markdown",
   "metadata": {},
   "source": [
    "### GANJ-4:. Total Corpus Callosum midsagittal area, after correcting for total brain volume, will negatively correlate with IQ in the male (age < 12) group.\n"
   ]
  },
  {
   "cell_type": "code",
   "execution_count": 49,
   "metadata": {},
   "outputs": [
    {
     "name": "stdout",
     "output_type": "stream",
     "text": [
      "191\n"
     ]
    }
   ],
   "source": [
    "volume_of = 'cc'\n",
    "hyp_name = hyp_ganj + '4' # + 'abide'\n",
    "hyp_cond = ['age<12','male'] #'fiq>0','normDev','fs','age<=20','ccant'] #\n",
    "hyp_df = apply_cond(cc_tbv, condic_cc_tbv, hyp_cond)\n",
    "print(len(hyp_df))\n",
    "\n",
    "resdic = run_hyp(hyp_df, hyp_name, cond_mac+hyp_cond, \n",
    "                     ['FIQ', volume_of, 'study + tbv'], resdic=resdic, debug=False)\n",
    "# print(resdic)\n"
   ]
  },
  {
   "cell_type": "code",
   "execution_count": null,
   "metadata": {},
   "outputs": [],
   "source": []
  },
  {
   "cell_type": "markdown",
   "metadata": {},
   "source": [
    "### GANJ-5: Total Corpus Callosum midsagittal area, after correcting for total brain volume, will not significantly correlate with IQ in the female (age < 12) group.\n"
   ]
  },
  {
   "cell_type": "code",
   "execution_count": 50,
   "metadata": {},
   "outputs": [
    {
     "name": "stdout",
     "output_type": "stream",
     "text": [
      "79\n"
     ]
    }
   ],
   "source": [
    "volume_of = 'cc'\n",
    "hyp_name = hyp_ganj + '5' \n",
    "hyp_cond = ['age<12','female'] # ,'abide', 'fiq>0','normDev','fs','age<=20','ccant'] #\n",
    "hyp_df = apply_cond(cc_tbv, condic_cc_tbv, hyp_cond)\n",
    "print(len(hyp_df))\n",
    "\n",
    "resdic = run_hyp(hyp_df, hyp_name, cond_mac+hyp_cond, \n",
    "                     ['FIQ', volume_of, 'study + tbv'], resdic=resdic, debug=False)\n",
    "# print(resdic)\n"
   ]
  },
  {
   "cell_type": "code",
   "execution_count": 51,
   "metadata": {},
   "outputs": [
    {
     "name": "stdout",
     "output_type": "stream",
     "text": [
      "{'PIET-1_fs': {'P>|t|': ' 0.000', 't': '    4.866', 'rsquared_adj': '0.0986', 'nobs': '654', 'conditions': ['brainseg', 'fiq>0', 'normDev', 'fs']}, 'PIET-1_fsl': {'P>|t|': ' 0.004', 't': '    2.885', 'rsquared_adj': '0.0781', 'nobs': '649', 'conditions': ['fiq>0', 'normDev', 'fsl']}, 'PIET-1_ants': {'P>|t|': ' 0.000', 't': '    3.869', 'rsquared_adj': '0.0964', 'nobs': '542', 'conditions': ['bvol', 'fiq>0', 'normDev', 'ants']}, 'MAC-1-fs': {'P>|t|': ' 0.000', 't': '    4.827', 'rsquared_adj': '0.115', 'nobs': '535', 'conditions': ['fiq>0', 'normDev', 'left', 'age<20', 'fs']}, 'MAC-1-fsl': {'P>|t|': ' 0.000', 't': '    4.365', 'rsquared_adj': '0.108', 'nobs': '531', 'conditions': ['fiq>0', 'normDev', 'left', 'age<20', 'fsl']}, 'MAC-1-ants': {'P>|t|': ' 0.000', 't': '    4.617', 'rsquared_adj': '0.117', 'nobs': '488', 'conditions': ['fiq>0', 'normDev', 'left', 'age<20', 'ants']}, 'MAC-2-fs': {'P>|t|': ' 0.000', 't': '    4.536', 'rsquared_adj': '0.133', 'nobs': '405', 'conditions': ['fiq>0', 'normDev', 'left', 'age<20', 'male', 'fs']}, 'MAC-2-fsl': {'P>|t|': ' 0.000', 't': '    4.303', 'rsquared_adj': '0.127', 'nobs': '402', 'conditions': ['fiq>0', 'normDev', 'left', 'age<20', 'male', 'fsl']}, 'MAC-2-ants': {'P>|t|': ' 0.000', 't': '    4.062', 'rsquared_adj': '0.136', 'nobs': '365', 'conditions': ['fiq>0', 'normDev', 'left', 'age<20', 'male', 'ants']}, 'MAC-3-fs': {'P>|t|': ' 0.017', 't': '    2.428', 'rsquared_adj': '0.105', 'nobs': '130', 'conditions': ['fiq>0', 'normDev', 'left', 'age<20', 'female', 'fs']}, 'MAC-3-fsl': {'P>|t|': ' 0.278', 't': '    1.091', 'rsquared_adj': '0.0742', 'nobs': '129', 'conditions': ['fiq>0', 'normDev', 'left', 'age<20', 'female', 'fsl']}, 'MAC-3-ants': {'P>|t|': ' 0.020', 't': '    2.368', 'rsquared_adj': '0.0927', 'nobs': '123', 'conditions': ['fiq>0', 'normDev', 'left', 'age<20', 'female', 'ants']}, 'GANJ-1': {'P>|t|': ' 0.560', 't': '    0.584', 'rsquared_adj': '0.108', 'nobs': '535', 'conditions': ['fiq>0', 'normDev', 'left', 'age<20']}, 'GANJ-2': {'P>|t|': ' 0.550', 't': '    0.599', 'rsquared_adj': '0.0928', 'nobs': '270', 'conditions': ['fiq>0', 'normDev', 'left', 'age<12']}, 'GANJ-3': {'P>|t|': ' 0.742', 't': '    0.330', 'rsquared_adj': '0.092', 'nobs': '384', 'conditions': ['fiq>0', 'normDev', 'left', 'age>=12']}, 'GANJ-4': {'P>|t|': ' 0.415', 't': '    0.818', 'rsquared_adj': '0.117', 'nobs': '191', 'conditions': ['fiq>0', 'normDev', 'left', 'age<12', 'male']}, 'GANJ-5': {'P>|t|': ' 0.962', 't': '    0.048', 'rsquared_adj': '-0.0349', 'nobs': ' 79', 'conditions': ['fiq>0', 'normDev', 'left', 'age<12', 'female']}}\n"
     ]
    }
   ],
   "source": [
    "print(resdic)"
   ]
  },
  {
   "cell_type": "code",
   "execution_count": 52,
   "metadata": {},
   "outputs": [],
   "source": [
    "datares = []\n",
    "lhyp = list(resdic.keys())\n",
    "hyp = ['hyp'] + lhyp\n",
    "\n",
    "col_names = list(resdic[lhyp[0]].keys())\n",
    "for idx, col in enumerate(col_names):\n",
    "    datares.append( [col] + [resdic[h][col] for h in lhyp]  )\n",
    "\n",
    "datares = [hyp] + datares\n",
    "\n"
   ]
  },
  {
   "cell_type": "code",
   "execution_count": 53,
   "metadata": {},
   "outputs": [
    {
     "data": {
      "text/plain": [
       "[['hyp',\n",
       "  'PIET-1_fs',\n",
       "  'PIET-1_fsl',\n",
       "  'PIET-1_ants',\n",
       "  'MAC-1-fs',\n",
       "  'MAC-1-fsl',\n",
       "  'MAC-1-ants',\n",
       "  'MAC-2-fs',\n",
       "  'MAC-2-fsl',\n",
       "  'MAC-2-ants',\n",
       "  'MAC-3-fs',\n",
       "  'MAC-3-fsl',\n",
       "  'MAC-3-ants',\n",
       "  'GANJ-1',\n",
       "  'GANJ-2',\n",
       "  'GANJ-3',\n",
       "  'GANJ-4',\n",
       "  'GANJ-5'],\n",
       " ['P>|t|',\n",
       "  ' 0.000',\n",
       "  ' 0.004',\n",
       "  ' 0.000',\n",
       "  ' 0.000',\n",
       "  ' 0.000',\n",
       "  ' 0.000',\n",
       "  ' 0.000',\n",
       "  ' 0.000',\n",
       "  ' 0.000',\n",
       "  ' 0.017',\n",
       "  ' 0.278',\n",
       "  ' 0.020',\n",
       "  ' 0.560',\n",
       "  ' 0.550',\n",
       "  ' 0.742',\n",
       "  ' 0.415',\n",
       "  ' 0.962'],\n",
       " ['t',\n",
       "  '    4.866',\n",
       "  '    2.885',\n",
       "  '    3.869',\n",
       "  '    4.827',\n",
       "  '    4.365',\n",
       "  '    4.617',\n",
       "  '    4.536',\n",
       "  '    4.303',\n",
       "  '    4.062',\n",
       "  '    2.428',\n",
       "  '    1.091',\n",
       "  '    2.368',\n",
       "  '    0.584',\n",
       "  '    0.599',\n",
       "  '    0.330',\n",
       "  '    0.818',\n",
       "  '    0.048'],\n",
       " ['rsquared_adj',\n",
       "  '0.0986',\n",
       "  '0.0781',\n",
       "  '0.0964',\n",
       "  '0.115',\n",
       "  '0.108',\n",
       "  '0.117',\n",
       "  '0.133',\n",
       "  '0.127',\n",
       "  '0.136',\n",
       "  '0.105',\n",
       "  '0.0742',\n",
       "  '0.0927',\n",
       "  '0.108',\n",
       "  '0.0928',\n",
       "  '0.092',\n",
       "  '0.117',\n",
       "  '-0.0349'],\n",
       " ['nobs',\n",
       "  '654',\n",
       "  '649',\n",
       "  '542',\n",
       "  '535',\n",
       "  '531',\n",
       "  '488',\n",
       "  '405',\n",
       "  '402',\n",
       "  '365',\n",
       "  '130',\n",
       "  '129',\n",
       "  '123',\n",
       "  '535',\n",
       "  '270',\n",
       "  '384',\n",
       "  '191',\n",
       "  ' 79'],\n",
       " ['conditions',\n",
       "  ['brainseg', 'fiq>0', 'normDev', 'fs'],\n",
       "  ['fiq>0', 'normDev', 'fsl'],\n",
       "  ['bvol', 'fiq>0', 'normDev', 'ants'],\n",
       "  ['fiq>0', 'normDev', 'left', 'age<20', 'fs'],\n",
       "  ['fiq>0', 'normDev', 'left', 'age<20', 'fsl'],\n",
       "  ['fiq>0', 'normDev', 'left', 'age<20', 'ants'],\n",
       "  ['fiq>0', 'normDev', 'left', 'age<20', 'male', 'fs'],\n",
       "  ['fiq>0', 'normDev', 'left', 'age<20', 'male', 'fsl'],\n",
       "  ['fiq>0', 'normDev', 'left', 'age<20', 'male', 'ants'],\n",
       "  ['fiq>0', 'normDev', 'left', 'age<20', 'female', 'fs'],\n",
       "  ['fiq>0', 'normDev', 'left', 'age<20', 'female', 'fsl'],\n",
       "  ['fiq>0', 'normDev', 'left', 'age<20', 'female', 'ants'],\n",
       "  ['fiq>0', 'normDev', 'left', 'age<20'],\n",
       "  ['fiq>0', 'normDev', 'left', 'age<12'],\n",
       "  ['fiq>0', 'normDev', 'left', 'age>=12'],\n",
       "  ['fiq>0', 'normDev', 'left', 'age<12', 'male'],\n",
       "  ['fiq>0', 'normDev', 'left', 'age<12', 'female']]]"
      ]
     },
     "execution_count": 53,
     "metadata": {},
     "output_type": "execute_result"
    }
   ],
   "source": [
    "datares"
   ]
  },
  {
   "cell_type": "code",
   "execution_count": 54,
   "metadata": {},
   "outputs": [
    {
     "data": {
      "text/html": [
       "<div>\n",
       "<style scoped>\n",
       "    .dataframe tbody tr th:only-of-type {\n",
       "        vertical-align: middle;\n",
       "    }\n",
       "\n",
       "    .dataframe tbody tr th {\n",
       "        vertical-align: top;\n",
       "    }\n",
       "\n",
       "    .dataframe thead th {\n",
       "        text-align: right;\n",
       "    }\n",
       "</style>\n",
       "<table border=\"1\" class=\"dataframe\">\n",
       "  <thead>\n",
       "    <tr style=\"text-align: right;\">\n",
       "      <th></th>\n",
       "      <th>0</th>\n",
       "      <th>1</th>\n",
       "      <th>2</th>\n",
       "      <th>3</th>\n",
       "      <th>4</th>\n",
       "      <th>5</th>\n",
       "    </tr>\n",
       "  </thead>\n",
       "  <tbody>\n",
       "    <tr>\n",
       "      <th>0</th>\n",
       "      <td>hyp</td>\n",
       "      <td>P&gt;|t|</td>\n",
       "      <td>t</td>\n",
       "      <td>rsquared_adj</td>\n",
       "      <td>nobs</td>\n",
       "      <td>conditions</td>\n",
       "    </tr>\n",
       "    <tr>\n",
       "      <th>1</th>\n",
       "      <td>PIET-1_fs</td>\n",
       "      <td>0.000</td>\n",
       "      <td>4.866</td>\n",
       "      <td>0.0986</td>\n",
       "      <td>654</td>\n",
       "      <td>[brainseg, fiq&gt;0, normDev, fs]</td>\n",
       "    </tr>\n",
       "    <tr>\n",
       "      <th>2</th>\n",
       "      <td>PIET-1_fsl</td>\n",
       "      <td>0.004</td>\n",
       "      <td>2.885</td>\n",
       "      <td>0.0781</td>\n",
       "      <td>649</td>\n",
       "      <td>[fiq&gt;0, normDev, fsl]</td>\n",
       "    </tr>\n",
       "    <tr>\n",
       "      <th>3</th>\n",
       "      <td>PIET-1_ants</td>\n",
       "      <td>0.000</td>\n",
       "      <td>3.869</td>\n",
       "      <td>0.0964</td>\n",
       "      <td>542</td>\n",
       "      <td>[bvol, fiq&gt;0, normDev, ants]</td>\n",
       "    </tr>\n",
       "    <tr>\n",
       "      <th>4</th>\n",
       "      <td>MAC-1-fs</td>\n",
       "      <td>0.000</td>\n",
       "      <td>4.827</td>\n",
       "      <td>0.115</td>\n",
       "      <td>535</td>\n",
       "      <td>[fiq&gt;0, normDev, left, age&lt;20, fs]</td>\n",
       "    </tr>\n",
       "    <tr>\n",
       "      <th>5</th>\n",
       "      <td>MAC-1-fsl</td>\n",
       "      <td>0.000</td>\n",
       "      <td>4.365</td>\n",
       "      <td>0.108</td>\n",
       "      <td>531</td>\n",
       "      <td>[fiq&gt;0, normDev, left, age&lt;20, fsl]</td>\n",
       "    </tr>\n",
       "    <tr>\n",
       "      <th>6</th>\n",
       "      <td>MAC-1-ants</td>\n",
       "      <td>0.000</td>\n",
       "      <td>4.617</td>\n",
       "      <td>0.117</td>\n",
       "      <td>488</td>\n",
       "      <td>[fiq&gt;0, normDev, left, age&lt;20, ants]</td>\n",
       "    </tr>\n",
       "    <tr>\n",
       "      <th>7</th>\n",
       "      <td>MAC-2-fs</td>\n",
       "      <td>0.000</td>\n",
       "      <td>4.536</td>\n",
       "      <td>0.133</td>\n",
       "      <td>405</td>\n",
       "      <td>[fiq&gt;0, normDev, left, age&lt;20, male, fs]</td>\n",
       "    </tr>\n",
       "    <tr>\n",
       "      <th>8</th>\n",
       "      <td>MAC-2-fsl</td>\n",
       "      <td>0.000</td>\n",
       "      <td>4.303</td>\n",
       "      <td>0.127</td>\n",
       "      <td>402</td>\n",
       "      <td>[fiq&gt;0, normDev, left, age&lt;20, male, fsl]</td>\n",
       "    </tr>\n",
       "    <tr>\n",
       "      <th>9</th>\n",
       "      <td>MAC-2-ants</td>\n",
       "      <td>0.000</td>\n",
       "      <td>4.062</td>\n",
       "      <td>0.136</td>\n",
       "      <td>365</td>\n",
       "      <td>[fiq&gt;0, normDev, left, age&lt;20, male, ants]</td>\n",
       "    </tr>\n",
       "    <tr>\n",
       "      <th>10</th>\n",
       "      <td>MAC-3-fs</td>\n",
       "      <td>0.017</td>\n",
       "      <td>2.428</td>\n",
       "      <td>0.105</td>\n",
       "      <td>130</td>\n",
       "      <td>[fiq&gt;0, normDev, left, age&lt;20, female, fs]</td>\n",
       "    </tr>\n",
       "    <tr>\n",
       "      <th>11</th>\n",
       "      <td>MAC-3-fsl</td>\n",
       "      <td>0.278</td>\n",
       "      <td>1.091</td>\n",
       "      <td>0.0742</td>\n",
       "      <td>129</td>\n",
       "      <td>[fiq&gt;0, normDev, left, age&lt;20, female, fsl]</td>\n",
       "    </tr>\n",
       "    <tr>\n",
       "      <th>12</th>\n",
       "      <td>MAC-3-ants</td>\n",
       "      <td>0.020</td>\n",
       "      <td>2.368</td>\n",
       "      <td>0.0927</td>\n",
       "      <td>123</td>\n",
       "      <td>[fiq&gt;0, normDev, left, age&lt;20, female, ants]</td>\n",
       "    </tr>\n",
       "    <tr>\n",
       "      <th>13</th>\n",
       "      <td>GANJ-1</td>\n",
       "      <td>0.560</td>\n",
       "      <td>0.584</td>\n",
       "      <td>0.108</td>\n",
       "      <td>535</td>\n",
       "      <td>[fiq&gt;0, normDev, left, age&lt;20]</td>\n",
       "    </tr>\n",
       "    <tr>\n",
       "      <th>14</th>\n",
       "      <td>GANJ-2</td>\n",
       "      <td>0.550</td>\n",
       "      <td>0.599</td>\n",
       "      <td>0.0928</td>\n",
       "      <td>270</td>\n",
       "      <td>[fiq&gt;0, normDev, left, age&lt;12]</td>\n",
       "    </tr>\n",
       "    <tr>\n",
       "      <th>15</th>\n",
       "      <td>GANJ-3</td>\n",
       "      <td>0.742</td>\n",
       "      <td>0.330</td>\n",
       "      <td>0.092</td>\n",
       "      <td>384</td>\n",
       "      <td>[fiq&gt;0, normDev, left, age&gt;=12]</td>\n",
       "    </tr>\n",
       "    <tr>\n",
       "      <th>16</th>\n",
       "      <td>GANJ-4</td>\n",
       "      <td>0.415</td>\n",
       "      <td>0.818</td>\n",
       "      <td>0.117</td>\n",
       "      <td>191</td>\n",
       "      <td>[fiq&gt;0, normDev, left, age&lt;12, male]</td>\n",
       "    </tr>\n",
       "    <tr>\n",
       "      <th>17</th>\n",
       "      <td>GANJ-5</td>\n",
       "      <td>0.962</td>\n",
       "      <td>0.048</td>\n",
       "      <td>-0.0349</td>\n",
       "      <td>79</td>\n",
       "      <td>[fiq&gt;0, normDev, left, age&lt;12, female]</td>\n",
       "    </tr>\n",
       "  </tbody>\n",
       "</table>\n",
       "</div>"
      ],
      "text/plain": [
       "              0       1          2             3     4  \\\n",
       "0           hyp   P>|t|          t  rsquared_adj  nobs   \n",
       "1     PIET-1_fs   0.000      4.866        0.0986   654   \n",
       "2    PIET-1_fsl   0.004      2.885        0.0781   649   \n",
       "3   PIET-1_ants   0.000      3.869        0.0964   542   \n",
       "4      MAC-1-fs   0.000      4.827         0.115   535   \n",
       "5     MAC-1-fsl   0.000      4.365         0.108   531   \n",
       "6    MAC-1-ants   0.000      4.617         0.117   488   \n",
       "7      MAC-2-fs   0.000      4.536         0.133   405   \n",
       "8     MAC-2-fsl   0.000      4.303         0.127   402   \n",
       "9    MAC-2-ants   0.000      4.062         0.136   365   \n",
       "10     MAC-3-fs   0.017      2.428         0.105   130   \n",
       "11    MAC-3-fsl   0.278      1.091        0.0742   129   \n",
       "12   MAC-3-ants   0.020      2.368        0.0927   123   \n",
       "13       GANJ-1   0.560      0.584         0.108   535   \n",
       "14       GANJ-2   0.550      0.599        0.0928   270   \n",
       "15       GANJ-3   0.742      0.330         0.092   384   \n",
       "16       GANJ-4   0.415      0.818         0.117   191   \n",
       "17       GANJ-5   0.962      0.048       -0.0349    79   \n",
       "\n",
       "                                               5  \n",
       "0                                     conditions  \n",
       "1                 [brainseg, fiq>0, normDev, fs]  \n",
       "2                          [fiq>0, normDev, fsl]  \n",
       "3                   [bvol, fiq>0, normDev, ants]  \n",
       "4             [fiq>0, normDev, left, age<20, fs]  \n",
       "5            [fiq>0, normDev, left, age<20, fsl]  \n",
       "6           [fiq>0, normDev, left, age<20, ants]  \n",
       "7       [fiq>0, normDev, left, age<20, male, fs]  \n",
       "8      [fiq>0, normDev, left, age<20, male, fsl]  \n",
       "9     [fiq>0, normDev, left, age<20, male, ants]  \n",
       "10    [fiq>0, normDev, left, age<20, female, fs]  \n",
       "11   [fiq>0, normDev, left, age<20, female, fsl]  \n",
       "12  [fiq>0, normDev, left, age<20, female, ants]  \n",
       "13                [fiq>0, normDev, left, age<20]  \n",
       "14                [fiq>0, normDev, left, age<12]  \n",
       "15               [fiq>0, normDev, left, age>=12]  \n",
       "16          [fiq>0, normDev, left, age<12, male]  \n",
       "17        [fiq>0, normDev, left, age<12, female]  "
      ]
     },
     "execution_count": 54,
     "metadata": {},
     "output_type": "execute_result"
    }
   ],
   "source": [
    "resdf = pd.DataFrame.from_records(datares).transpose()\n",
    "resdf.head(20)"
   ]
  },
  {
   "cell_type": "markdown",
   "metadata": {},
   "source": [
    "### Scrap"
   ]
  },
  {
   "cell_type": "code",
   "execution_count": 55,
   "metadata": {},
   "outputs": [],
   "source": [
    "timestr = strftime(\"%Y-%m-%d-%H-%M-%S\", gmtime())\n",
    "output_filename = csv_filename[:-4]+'-'+timestr+'.csv'\n",
    "resdf.to_csv(path_or_buf = output_filename, index=False)"
   ]
  },
  {
   "cell_type": "code",
   "execution_count": 56,
   "metadata": {},
   "outputs": [
    {
     "data": {
      "text/plain": [
       "'/home/jb/code/repronim/simple2/simple2_analysis'"
      ]
     },
     "execution_count": 56,
     "metadata": {},
     "output_type": "execute_result"
    }
   ],
   "source": [
    "pwd"
   ]
  },
  {
   "cell_type": "code",
   "execution_count": 57,
   "metadata": {},
   "outputs": [],
   "source": [
    "\"\"\"\n",
    "hyp2 = ['fiq>0','normDev','fs','age<20']\n",
    "hyp2_caud = hyp2 + ['caudate'] # ,'abide']\n",
    "hyp2_put = hyp2 + ['putamen'] # ,'abide']\n",
    "hyp2_tiv = hyp2 + ['TIV'] # ,'abide']\n",
    "tmp_caud = apply_cond(hie, condic, hyp2_caud, dropnaset=dropnaset)\n",
    "caud = split_merge_df(tmp_caud, indx='ID', spliton='laterality', levels=['Left','Right'], \n",
    "                       keep_col='volume', op='+',colrename='caudate')\n",
    "tmp_put = apply_cond(hie, condic, hyp2_put, dropnaset=dropnaset)\n",
    "put = split_merge_df(tmp_put, indx='ID', spliton='laterality', levels=['Left','Right'], \n",
    "                       keep_col='volume', op='+',colrename='putamen')\n",
    "tmp_tiv = apply_cond(hie, condic, hyp2_tiv, dropnaset=dropnaset)\n",
    "print(len(caud), len(put), len(tmp_tiv))\n",
    "\n",
    "stria = pd.merge(left=caud, right=put[['ID','putamen']], left_on='ID', right_on='ID')\n",
    "stria['striatum'] = stria['caudate']+stria['putamen']\n",
    "stria = pd.merge(left=stria, right=tmp_tiv[['ID','volume']], left_on='ID', right_on='ID')\n",
    "stria.rename(columns={'volume':'TIV'},inplace=True)\n",
    "print(list(stria),len(stria))\n",
    "\"\"\";\n",
    "\n",
    "\"\"\"\n",
    "cond_mac = ['fiq>0','normDev', softw,] # ,'age<20']\n",
    "mac_caud = cond_mac + ['caudate'] #\n",
    "mac_put = cond_mac + ['putamen'] #\n",
    "mac_tiv = cond_mac + ['fiq>0','normDev',softw,'TIV'] #\n",
    "\n",
    "left_caud = apply_cond(hie, condic, mac_caud, dropnaset=dropnaset, columns={'volume':'caudate'})\n",
    "left_put = apply_cond(hie, condic, mac_put, dropnaset=dropnaset, columns={'volume':'putamen'})\n",
    "\n",
    "left_stria = pd.merge(left=left_caud, right=left_put[['ID','putamen']], left_on='ID', right_on='ID')\n",
    "left_stria['striatum'] = left_stria['caudate'] + left_stria['putamen']\n",
    "left_stria_condic = define_conditions(left_stria, tooldic=tooldic, normalDev=normalDev, adhd=adhd, h2ube=h2ube)\n",
    "print(len(left_stria))\n",
    "\n",
    "\"\"\";\n",
    "\n",
    "\n",
    "\"\"\" \n",
    "iq = 'FIQ'\n",
    "\n",
    "# md = smf.ols(iq + \" ~ Q('volume') + Gender + Age + study \", data=tmp) #  \n",
    "# md = smf.ols(iq + \" ~ Q('striatum') + study + TIV \", data=stria) #  \n",
    "md = smf.ols(iq + \" ~ Q('striatum') + study \", data=mac1) #  \n",
    "mdf = md.fit()\n",
    "print(mdf.summary())\n",
    "\n",
    "varname = \"Q('striatum')\"\n",
    "hyp_name = 'MAC-1'\n",
    "resdic.update(md2dic(varname, hyp_name, cond_mac+mac1_cond, mdf=mdf))\n",
    "\"\"\";\n",
    "\n",
    "\n",
    "\"\"\"\n",
    "#ganj1 = apply_cond(cc_tbv, condic_cc_tbv, ganj1_cond)\n",
    "#print(list(ganj1),len(ganj1))\n",
    "\n",
    "#iq = 'FIQ'\n",
    "# md = smf.ols(iq + \" ~ Q('volume') + Gender + Age + study \", data=tmp) #  \n",
    "#md = smf.ols(iq + \" ~ Q('striatum') + study + TIV \", data=stria) #  \n",
    "#md = smf.ols(iq + \" ~ Q('cc') + study + tbv \", data=ganj1) #  \n",
    "#mdf = md.fit()\n",
    "#print(mdf.summary())\n",
    "\n",
    "#varname, hyp_name = \"Q('cc')\",'GANJ-1'\n",
    "#resdic.update(md2dic(varname, hyp_name, hypGanj+ganj1_cond, mdf=mdf))\n",
    "\"\"\";\n",
    "\n",
    "\"\"\"\n",
    "ganj2_cond = ['age<12'] #'fiq>0','normDev','fs','age<=20','ccant'] #\n",
    "ganj2 = apply_cond(cc_tbv, condic_cc_tbv, ganj2_cond)\n",
    "print(list(ganj2),len(ganj2));\n",
    "\n",
    "iq = 'FIQ'\n",
    "# md = smf.ols(iq + \" ~ Q('volume') + Gender + Age + study \", data=tmp) #  \n",
    "#md = smf.ols(iq + \" ~ Q('striatum') + study + TIV \", data=stria) #  \n",
    "md = smf.ols(iq + \" ~ Q('cc') + study + tbv \", data=ganj2) #  \n",
    "mdf = md.fit()\n",
    "print(mdf.summary())\n",
    "\n",
    "varname, hyp_name = \"Q('cc')\",'GANJ-2'\n",
    "resdic.update(md2dic(varname, hyp_name, hypGanj+ganj2_cond, mdf=mdf))\n",
    "\"\"\";\n",
    "\n",
    "\"\"\"ganj3_cond = ['age>=12'] #\n",
    "ganj3 = apply_cond(cc_tbv, condic_cc_tbv, ganj3_cond)\n",
    "print(len(ganj3))\n",
    "\n",
    "iq = 'FIQ'\n",
    "# md = smf.ols(iq + \" ~ Q('volume') + Gender + Age + study \", data=tmp) #  \n",
    "#md = smf.ols(iq + \" ~ Q('striatum') + study + TIV \", data=stria) #  \n",
    "md = smf.ols(iq + \" ~ Q('cc') + study + tbv \", data=ganj3) #  \n",
    "mdf = md.fit()\n",
    "print(mdf.summary())\n",
    "\n",
    "\n",
    "varname, hyp_name = \"Q('cc')\",'GANJ-3'\n",
    "resdic.update(md2dic(varname, hyp_name, hypGanj+ganj3_cond, mdf=mdf))\"\"\";"
   ]
  },
  {
   "cell_type": "code",
   "execution_count": 58,
   "metadata": {},
   "outputs": [
    {
     "name": "stdout",
     "output_type": "stream",
     "text": [
      "['study', 'ID', 'Age', 'dx', 'Gender', 'FIQ', 'PIQ', 'VIQ', 'tool', 'softwareLabel', 'structure', 'laterality', 'volume']\n"
     ]
    }
   ],
   "source": [
    "\n",
    "# original_col_names = list(hie)\n",
    "# column names are unique\n",
    "# assert len(original_col_names) == len(set(original_col_names))\n",
    "print(list(hie))\n",
    "#col_rename = {'federatedLabel':'structure'}\n",
    "#hie.rename(columns=col_rename, inplace=True)\n"
   ]
  },
  {
   "cell_type": "code",
   "execution_count": 59,
   "metadata": {},
   "outputs": [
    {
     "name": "stdout",
     "output_type": "stream",
     "text": [
      "1323\n",
      "334 989 1323\n"
     ]
    }
   ],
   "source": [
    "# check numbers directly, bypassing convenient functions\n",
    "\n",
    "csv_filename = '2020-02-11-simple2_query_output.csv'\n",
    "relative_dir = './data'\n",
    "relative_path_filename = osp.join(relative_dir, csv_filename)\n",
    "assert osp.exists(relative_path_filename)\n",
    "\n",
    "hie = pd.read_csv(relative_path_filename, na_values='nd') #, low_memory=False)set(hie['study'])\n",
    "\n",
    "htmp = hie[(hie['study'].str.contains(\"ADHD\"))]\n",
    "_adhd = len(set(htmp['ID']))\n",
    "htmp = hie[(hie['study'].str.contains(\"ABIDE\"))]\n",
    "_abide = len(set(htmp['ID']))\n",
    "\n",
    "print(len(set(hie['ID'])))\n",
    "print(_adhd, _abide, _adhd + _abide)"
   ]
  },
  {
   "cell_type": "code",
   "execution_count": null,
   "metadata": {},
   "outputs": [],
   "source": [
    "\n"
   ]
  },
  {
   "cell_type": "code",
   "execution_count": 60,
   "metadata": {},
   "outputs": [],
   "source": [
    "\"\"\"\n",
    "condic = define_conditions(hie, tooldic=tooldic, normalDev=normalDev, patient=patient, h2ube=h2ube)\n",
    "condic.keys()\n",
    "print(list(hie))\n",
    "# hyp_cond = ['age<20','female', 'adhd200' ]\n",
    "hyp_cond = ['adhd200' ]\n",
    "hyp_df = apply_cond(hie, condic, hyp_cond)\n",
    "print(len(hyp_df))\n",
    "len(set(hyp_df['ID']))\n",
    "\"\"\";"
   ]
  },
  {
   "cell_type": "code",
   "execution_count": null,
   "metadata": {},
   "outputs": [],
   "source": []
  }
 ],
 "metadata": {
  "kernelspec": {
   "display_name": "Python 3",
   "language": "python",
   "name": "python3"
  },
  "language_info": {
   "codemirror_mode": {
    "name": "ipython",
    "version": 3
   },
   "file_extension": ".py",
   "mimetype": "text/x-python",
   "name": "python",
   "nbconvert_exporter": "python",
   "pygments_lexer": "ipython3",
   "version": "3.6.8"
  },
  "toc": {
   "nav_menu": {},
   "number_sections": true,
   "sideBar": true,
   "skip_h1_title": false,
   "toc_cell": false,
   "toc_position": {},
   "toc_section_display": "block",
   "toc_window_display": false
  }
 },
 "nbformat": 4,
 "nbformat_minor": 2
}
