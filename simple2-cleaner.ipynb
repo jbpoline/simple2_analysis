{
 "cells": [
  {
   "cell_type": "code",
   "execution_count": 1,
   "metadata": {},
   "outputs": [],
   "source": [
    "from operator import itemgetter\n",
    "import pandas as pd\n",
    "import numpy as np\n",
    "# from numpy.polynomial.polynomial import polyfit\n",
    "import statsmodels as stt\n",
    "import scipy.stats as sst\n",
    "import scipy.linalg as lin\n",
    "import os.path as osp\n",
    "from statsmodels import api as sm\n",
    "import statsmodels.formula.api as smf\n",
    "import matplotlib.pyplot as plt\n",
    "import json\n",
    "from time import gmtime, strftime\n",
    "# %matplotlib inline"
   ]
  },
  {
   "cell_type": "code",
   "execution_count": 2,
   "metadata": {},
   "outputs": [
    {
     "name": "stdout",
     "output_type": "stream",
     "text": [
      "/home/jb/code/repronim/simple2/simple2_analysis\n",
      "./data/2020-03-26_simple2_query_output.csv\n"
     ]
    }
   ],
   "source": [
    "print(osp.realpath(osp.curdir))\n",
    "\n",
    "csv_filename = '2019-12-21-simple2_query_output2.csv'\n",
    "csv_filename = '2020-02-11-simple2_query_output.csv'\n",
    "csv_filename = '2020-03-26_simple2_query_output.csv'\n",
    "relative_dir = './data'\n",
    "figure_dir = './figures'\n",
    "\n",
    "# relative_path_filename = './data/2019-12-03-simple2_query_output.csv' \n",
    "#relative_path_filename = './data/2019-12-21-simple2_query_output2.csv'\n",
    "relative_path_filename = osp.join(relative_dir, csv_filename)\n",
    "assert osp.exists(relative_path_filename)\n",
    "print(relative_path_filename)"
   ]
  },
  {
   "cell_type": "code",
   "execution_count": 3,
   "metadata": {},
   "outputs": [
    {
     "name": "stdout",
     "output_type": "stream",
     "text": [
      "['study', 'ID', 'Age', 'dx', 'Gender', 'FIQ', 'PIQ', 'VIQ', 'tool', 'softwareLabel', 'federatedLabel', 'laterality', 'volume']\n",
      "['study', 'ID', 'Age', 'dx', 'Gender', 'FIQ', 'PIQ', 'VIQ', 'tool', 'softwareLabel', 'structure', 'laterality', 'volume']\n"
     ]
    },
    {
     "name": "stderr",
     "output_type": "stream",
     "text": [
      "/home/jb/virtualenvs/simple2/lib/python3.6/site-packages/IPython/core/interactiveshell.py:3049: DtypeWarning: Columns (3) have mixed types. Specify dtype option on import or set low_memory=False.\n",
      "  interactivity=interactivity, compiler=compiler, result=result)\n"
     ]
    }
   ],
   "source": [
    "\n",
    "hie = pd.read_csv(relative_path_filename, na_values='nd') #, low_memory=False)\n",
    "original_col_names = list(hie)\n",
    "# column names are unique\n",
    "assert len(original_col_names) == len(set(original_col_names))\n",
    "print(list(hie))\n",
    "col_rename = {'federatedLabel':'structure'}\n",
    "hie.rename(columns=col_rename, inplace=True)\n",
    "print(list(hie))"
   ]
  },
  {
   "cell_type": "code",
   "execution_count": 4,
   "metadata": {},
   "outputs": [
    {
     "data": {
      "text/plain": [
       "['CC_Central Volume_mm3 (mm^3)',\n",
       " 'CC_Mid_Anterior Volume_mm3 (mm^3)',\n",
       " 'CC_Posterior Volume_mm3 (mm^3)',\n",
       " 'CC_Mid_Posterior Volume_mm3 (mm^3)',\n",
       " 'CC_Anterior Volume_mm3 (mm^3)']"
      ]
     },
     "execution_count": 4,
     "metadata": {},
     "output_type": "execute_result"
    }
   ],
   "source": [
    "set(hie['structure'])\n",
    "[roi for roi in set(hie['softwareLabel']) if ('CC_' in roi and 'Volume_mm3' in roi)]"
   ]
  },
  {
   "cell_type": "code",
   "execution_count": 5,
   "metadata": {},
   "outputs": [],
   "source": [
    "# Read the mapping file, that contains Freesurfer data elements with link to uberon isAbout\n",
    "\n",
    "# mapping_file = '../segstats_jsonld/segstats_jsonld/mapping_data/freesurfermap.json'\n",
    "mapping_file = '../segstats_jsonld/segstats_jsonld/mapping_data/freesurfer-cdes.json'\n",
    "assert osp.exists(mapping_file)\n",
    "with open(mapping_file, \"r\") as read_file:\n",
    "    roi_map = json.load(read_file)"
   ]
  },
  {
   "cell_type": "code",
   "execution_count": 6,
   "metadata": {},
   "outputs": [],
   "source": [
    "# this takes the mapping and spits out a dict with key is uberon \n",
    "# and value is roi definition\n",
    "# eg: {'http://purl.obolibrary.org/obo/UBERON_0001874': 'Putamen'}\n",
    "# will be use to get roi (eg Putamen) across software\n",
    "\n",
    "ube2h = {}\n",
    "label2ube = {}\n",
    "countok=0\n",
    "has_no_isAbout = []\n",
    "has_no_label = []\n",
    "\n",
    "for (k,v) in roi_map.items():\n",
    "    \n",
    "    # the mapping file starts with \"count\" at the level of data elements - need to discard 'count'\n",
    "    if k == 'count': pass\n",
    "    \n",
    "    # v is a dict that contains the CDE - check that we have a isAbout and label    \n",
    "    elif 'isAbout' in v:\n",
    "        countok += 1\n",
    "        if 'label' in v:\n",
    "            if v['label'] != '' and v['label'] not in ('None','none'):\n",
    "                #ube['<' + v['isAbout'] + '>'] = v['label']\n",
    "                #ebu[v['label']] = '<' + v['isAbout'] + '>'\n",
    "                label2ube[v['label']] = v['isAbout']\n",
    "                if v['isAbout'] not in ube2h.keys():\n",
    "                    no_right_or_left = v['label']\n",
    "                    no_right_or_left = no_right_or_left.replace('Right-','')\n",
    "                    no_right_or_left = no_right_or_left.replace('Right ','')\n",
    "                    no_right_or_left = no_right_or_left.replace('Left-','')\n",
    "                    no_right_or_left = no_right_or_left.replace('Left ','')\n",
    "                    no_right_or_left = no_right_or_left.replace(' NVoxels','')\n",
    "                    no_right_or_left = no_right_or_left.replace(' (mm^3)','')\n",
    "                    ube2h[v['isAbout']] = no_right_or_left\n",
    "            else:\n",
    "                has_no_label.append(k)\n",
    "\n",
    "assert has_no_isAbout == []\n",
    "assert countok == len(label2ube)"
   ]
  },
  {
   "cell_type": "code",
   "execution_count": 7,
   "metadata": {},
   "outputs": [],
   "source": [
    "label2ube;\n",
    "ube2h\n",
    "h2ube = {v: k for k, v in ube2h.items()}"
   ]
  },
  {
   "cell_type": "code",
   "execution_count": 8,
   "metadata": {},
   "outputs": [
    {
     "name": "stdout",
     "output_type": "stream",
     "text": [
      "{'http://purl.obolibrary.org/obo/UBERON_0000956': 'Number of Vertices', 'http://purl.obolibrary.org/obo/UBERON_0000955': 'Brain Segmentation Volume', 'http://purl.obolibrary.org/obo/UBERON_0001869': 'Supratentorial volume', 'http://purl.obolibrary.org/obo/UBERON_0013411': 'Estimated Total Intracranial Volume', 'http://purl.obolibrary.org/obo/UBERON_0002437': 'hemisphere cerebral white matter volume', 'http://purl.obolibrary.org/obo/UBERON_0005401': 'Total gray matter volume', 'http://purl.obolibrary.org/obo/UBERON_0002285': 'Lateral-Ventricle', 'http://purl.obolibrary.org/obo/UBERON_0006091': 'Inf-Lat-Vent', 'http://purl.obolibrary.org/obo/UBERON_0002317': 'Cerebellum-White-Matter', 'http://purl.obolibrary.org/obo/UBERON_0002129': 'Cerebellum-Cortex', 'http://purl.obolibrary.org/obo/UBERON_0001897': 'Thalamus-Proper', 'http://purl.obolibrary.org/obo/UBERON_0001873': 'Caudate', 'http://purl.obolibrary.org/obo/UBERON_0001874': 'Putamen', 'http://purl.obolibrary.org/obo/UBERON_0006514': 'Pallidum', 'http://purl.obolibrary.org/obo/UBERON_0002286': '3rd-Ventricle', 'http://purl.obolibrary.org/obo/UBERON_0002422': '4th-Ventricle', 'http://purl.obolibrary.org/obo/UBERON_0002298': 'Brain-Stem', 'http://purl.obolibrary.org/obo/UBERON_0001954': 'Hippocampus', 'http://purl.obolibrary.org/obo/UBERON_0001876': 'Amygdala', 'http://purl.obolibrary.org/obo/UBERON_0001359': 'CSF', 'http://purl.obolibrary.org/obo/UBERON_0001882': 'Accumbens-area', 'http://purl.obolibrary.org/obo/UBERON_0001981': 'vessel', 'http://purl.obolibrary.org/obo/UBERON_0001886': 'choroid-plexus', 'http://purl.obolibrary.org/obo/UBERON_0009857': '5th-Ventricle', 'http://purl.obolibrary.org/obo/UBERON_0000959': 'Optic-Chiasm', 'http://purl.obolibrary.org/obo/UBERON_0015708': 'CC_Posterior', 'http://purl.obolibrary.org/obo/UBERON_0002336': 'CC_Central', 'http://purl.obolibrary.org/obo/UBERON_0015599': 'CC_Anterior'}\n"
     ]
    }
   ],
   "source": [
    "print(ube2h)"
   ]
  },
  {
   "cell_type": "code",
   "execution_count": null,
   "metadata": {},
   "outputs": [],
   "source": []
  },
  {
   "cell_type": "code",
   "execution_count": 9,
   "metadata": {},
   "outputs": [],
   "source": [
    "def split_op_merge(df, index='ID', col='softwareLabel', \n",
    "                 values='volume', op='+', newcol='newCol', keepcols=[], verbose=False):\n",
    "    \"\"\"\n",
    "    index: will be the index of the returned df\n",
    "    columns: return df will be \"wide\" based on the values of columns\n",
    "    values: content of the wide df\n",
    "    add_col: name of the column where values of columns are added\n",
    "    keepcols: list of column names to keep\n",
    "    \n",
    "    \"\"\"\n",
    "    # index='ID', columns='softwareLabel', values='volume'\n",
    "\n",
    "    assert set(keepcols).issubset(list(df)) # \n",
    "    \n",
    "    if verbose: print('len(df): ', len(df))    \n",
    "    \n",
    "    tmp_cols = list(set(df[col])) # find values in columns : on what we split\n",
    "    if verbose: print('tmp_cols: ', tmp_cols)\n",
    "        \n",
    "    df.drop_duplicates([index, col, values], inplace=True)\n",
    "    if verbose: print('len(df.dropduplicates): ', len(df))\n",
    "    \n",
    "    newdf = df.pivot(index=index, columns=col, values=values).dropna()\n",
    "    newdf.reset_index() # put the index, 'ID' here, back in a column\n",
    "    if verbose: print('len(newdf: ', len(newdf))\n",
    "\n",
    "    if op == '+':\n",
    "        newdf[newcol] = newdf.loc[:,tmp_cols].sum(axis=1)\n",
    "        newdf.drop(tmp_cols, axis=1, inplace=True)\n",
    "    else:\n",
    "        print(\"not implemented: \", op)\n",
    "        raise\n",
    "        \n",
    "    assert not ('ID' in keepcols)\n",
    "    \n",
    "    # now, create a df with keepcols:\n",
    "    keepdf = df[[index] + keepcols].drop_duplicates()\n",
    "    # print(len(keepdf),len(newdf))\n",
    "    newdf = pd.merge(left=newdf, right=keepdf,\n",
    "                     left_on=index, right_on=index, how='inner').dropna()\n",
    "    if verbose: print('after merge and dropna len(newdf): ', len(newdf))\n",
    "    # print(len(newdf),len(newdf.dropna()))\n",
    "    del keepdf\n",
    "    \n",
    "    return newdf\n",
    "\n",
    "# new_tmp = split_op_merge(tmp, 'ID', 'softwareLabel', 'volume', 'CC_vol', \n",
    "#                        ['study', 'Age', 'Gender']) # , 'Age', 'dx', 'Gender', 'FIQ'])"
   ]
  },
  {
   "cell_type": "code",
   "execution_count": 10,
   "metadata": {},
   "outputs": [],
   "source": [
    "# A few dictionary for conveniency\n",
    "\n",
    "tooldic = {'surfer':'https://surfer.nmr.mgh.harvard.edu/', \n",
    "       'fsl':'http://purl.org/nidash/fsl#',\n",
    "       'ants':'http://stnava.github.io/ANTs/'}\n",
    "normalDev = (2, '2', 'Typically Developing Children')\n",
    "patient = (1, '1', 'ADHD-Combined', 'ADHD-Hyperactive/Impulsive', 'ADHD-Inattentive')"
   ]
  },
  {
   "cell_type": "code",
   "execution_count": 11,
   "metadata": {},
   "outputs": [],
   "source": [
    "def define_conditions(df, tooldic={}, normalDev=(), patient=(), h2ube={}):\n",
    "    \"\"\"\n",
    "    create dic of conditions associated with dataframe df \n",
    "    this will select some **rows** of the dataframe based on the \n",
    "    values of the columns (eg: all normal participants)\n",
    "    \"\"\"\n",
    "    \n",
    "    diccond={}\n",
    "    diccond['left'] = ((df['laterality'] == 'L')|(df['laterality'] == 'Left'))\n",
    "    diccond['right'] = ((df['laterality'] == 'R')|(df['laterality'] == 'Right'))\n",
    "    diccond['latNan'] = (df['laterality'] != 'Right') & (df['laterality'] != 'Left') \\\n",
    "                        & (df['laterality'] != 'R') & (df['laterality'] != 'L')\n",
    "#    diccond['latNan'] = (not diccond['left']) & (not diccond['right'])\n",
    "\n",
    "    #========== age \n",
    "    diccond['age<=20'] = (df['Age'] <= 20)\n",
    "    diccond['age<20'] = (df['Age'] < 20)\n",
    "    diccond['age<12'] = (df['Age'] < 12)\n",
    "    diccond['age>=12'] = (df['Age'] >= 12)\n",
    "    \n",
    "    #========== tool conditions\n",
    "    diccond['fs'] = (df['tool'] == tooldic['surfer'])\n",
    "    diccond['ants'] = (df['tool'] == tooldic['ants'])\n",
    "    diccond['fsl'] = (df['tool'] == tooldic['fsl'])\n",
    "    \n",
    "    #========== IQ conditions\n",
    "    diccond['fiq>0'] = (df['FIQ'] > 0 )\n",
    "    \n",
    "    #========== disease conditions\n",
    "    pop_normDev = False\n",
    "    for pop in normalDev:\n",
    "        # print(np.sum(pop_cond))\n",
    "        pop_normDev = pop_normDev | (df['dx'] == pop)\n",
    "    diccond['normDev'] =  pop_normDev\n",
    "    \n",
    "    pop_patient = False\n",
    "    for pop in patient:\n",
    "        # print(np.sum(pop_cond))\n",
    "        pop_patient = pop_patient | (df['dx'] == pop)\n",
    "    diccond['patient'] =  pop_patient\n",
    "\n",
    "    #=========== ROIs\n",
    "    roi_ub = ''\n",
    "    diccond['bvol'] = (df['softwareLabel'] == 'BVOL (mm^3)')\n",
    "    diccond['brainseg'] = (df['softwareLabel'] == 'Brain Segmentation Volume (mm^3)') \n",
    "    diccond['brainsegwov'] = (df['softwareLabel'] == 'Brain Segmentation Volume Without Ventricles (mm^3)') \n",
    "    diccond['caudate'] = (df['structure'] == h2ube['Caudate'])\n",
    "    diccond['putamen'] = (df['structure'] == h2ube['Putamen'])\n",
    "    diccond['TIV'] = (df['structure'] == h2ube['Estimated Total Intracranial Volume'])\n",
    "#\n",
    "    diccond['wm'] =  (df['structure'] == h2ube['hemisphere cerebral white matter volume'])\n",
    "    diccond['gm'] =  (df['structure'] == h2ube['Total gray matter volume'])\n",
    "    diccond['csf'] =  (df['structure'] == h2ube['CSF'])\n",
    "#\n",
    "    diccond['wmfsl'] =  (df['softwareLabel'] == 'white (mm^3)')\n",
    "    diccond['gmfsl'] =  (df['softwareLabel'] == 'gray (mm^3)')\n",
    "    diccond['csffsl'] =  (df['softwareLabel'] == 'csf (mm^3)')\n",
    "#\n",
    "    diccond['ccant'] =  (df['structure'] == h2ube['CC_Anterior'])\n",
    "    diccond['cccen'] =  (df['structure'] == h2ube['CC_Central'])\n",
    "    diccond['ccpos'] =  (df['structure'] == h2ube['CC_Posterior'])\n",
    "\n",
    "    #=========== CC all subcomponents\n",
    "    CC_rois = [roi for roi in set(df['softwareLabel']) \n",
    "                           if ('CC_' in roi and 'Volume_mm3' in roi)]\n",
    "    ccfs = False\n",
    "    for _roi in CC_rois:\n",
    "        ccfs = ccfs | (df['softwareLabel'] == _roi)\n",
    "    diccond['ccfs'] =  ccfs\n",
    "    \n",
    "    #=========== site\n",
    "    diccond['abide'] = (df['study'].str.contains(\"ABIDE\"))\n",
    "    diccond['adhd200'] = (df['study'].str.contains(\"ADHD\"))\n",
    "    \n",
    "    #=========== Gender\n",
    "    diccond['male'] = (df['Gender']=='Male')\n",
    "    diccond['female'] = (df['Gender']=='Female')\n",
    "\n",
    "    return diccond"
   ]
  },
  {
   "cell_type": "code",
   "execution_count": 12,
   "metadata": {},
   "outputs": [
    {
     "data": {
      "text/plain": [
       "dict_keys(['left', 'right', 'latNan', 'age<=20', 'age<20', 'age<12', 'age>=12', 'fs', 'ants', 'fsl', 'fiq>0', 'normDev', 'patient', 'bvol', 'brainseg', 'brainsegwov', 'caudate', 'putamen', 'TIV', 'wm', 'gm', 'csf', 'wmfsl', 'gmfsl', 'csffsl', 'ccant', 'cccen', 'ccpos', 'ccfs', 'abide', 'adhd200', 'male', 'female'])"
      ]
     },
     "execution_count": 12,
     "metadata": {},
     "output_type": "execute_result"
    }
   ],
   "source": [
    "condic = define_conditions(hie, tooldic=tooldic, normalDev=normalDev, patient=patient, h2ube=h2ube)\n",
    "condic.keys()"
   ]
  },
  {
   "cell_type": "code",
   "execution_count": 13,
   "metadata": {},
   "outputs": [],
   "source": [
    "def apply_cond(df, cndc, conditions, dropnaset=[],columns={}):\n",
    "    \"\"\"\n",
    "    \n",
    "    input:\n",
    "    -------\n",
    "    \n",
    "    df: dataframe\n",
    "    conditions: list of strings, each str should be a key of the cndc dict\n",
    "    cndc: dict\n",
    "        a dict (eg returned by define_condition) that contains the set of true false for that condition\n",
    "    dropnaset: list\n",
    "        the list of column names in which NaN should be dropped\n",
    "    columns: dict\n",
    "        the dict given to df.rename to rename columms eg: {'oldname':'newname'}\n",
    "        \n",
    "    returns\n",
    "    -------\n",
    "    dataframe, containing only rows that satisfy the list of conditions 'conditions'\n",
    "    \n",
    "    \"\"\"\n",
    "    # initialize array of True \n",
    "    cond = np.full((len(df),), True, dtype=bool)\n",
    "    \n",
    "    for c in conditions:\n",
    "        assert len(cond) == len(cndc[c])\n",
    "        cond = cond & cndc[c]\n",
    "        # print(np.sum(cond))\n",
    "        \n",
    "    # condition = [cond & cndc[c] for c in conditions][0]\n",
    "    # print(len(condition),np.sum(condition))\n",
    "    \n",
    "    # make a copy, drop na if there are some\n",
    "    tmp = df.loc[cond].dropna(subset=dropnaset)\n",
    "    if columns:\n",
    "        tmp.rename(columns=columns, inplace=True)\n",
    "        \n",
    "    if len(tmp) == 0:\n",
    "        print('Warning, len(df)==0' + ' '.join(conditions))\n",
    "        \n",
    "    return tmp    "
   ]
  },
  {
   "cell_type": "code",
   "execution_count": 14,
   "metadata": {},
   "outputs": [
    {
     "data": {
      "text/plain": [
       "{'CC_Anterior Volume_mm3 (mm^3)',\n",
       " 'CC_Central Volume_mm3 (mm^3)',\n",
       " 'CC_Mid_Anterior Volume_mm3 (mm^3)',\n",
       " 'CC_Mid_Posterior Volume_mm3 (mm^3)',\n",
       " 'CC_Posterior Volume_mm3 (mm^3)'}"
      ]
     },
     "execution_count": 14,
     "metadata": {},
     "output_type": "execute_result"
    }
   ],
   "source": [
    "cond = ['ccfs']\n",
    "condic = define_conditions(hie, tooldic=tooldic, \n",
    "                           normalDev=normalDev, patient=patient, h2ube=h2ube)\n",
    "tmp = apply_cond(hie, condic, cond)\n",
    "set(tmp['softwareLabel'])"
   ]
  },
  {
   "cell_type": "code",
   "execution_count": 15,
   "metadata": {},
   "outputs": [
    {
     "name": "stdout",
     "output_type": "stream",
     "text": [
      "len(df):  6905\n",
      "tmp_cols:  ['CC_Central Volume_mm3 (mm^3)', 'CC_Posterior Volume_mm3 (mm^3)', 'CC_Mid_Anterior Volume_mm3 (mm^3)', 'CC_Mid_Posterior Volume_mm3 (mm^3)', 'CC_Anterior Volume_mm3 (mm^3)']\n",
      "len(df.dropduplicates):  6495\n",
      "len(newdf:  1299\n",
      "after merge and dropna len(newdf):  1299\n"
     ]
    }
   ],
   "source": [
    "new_tmp = split_op_merge(tmp, index='ID', col='softwareLabel', values='volume', newcol='CC_vol', \n",
    "                        keepcols=['study', 'Age', 'Gender'], verbose=True) # , 'Age', 'dx', 'Gender', 'FIQ'])"
   ]
  },
  {
   "cell_type": "code",
   "execution_count": 16,
   "metadata": {},
   "outputs": [],
   "source": [
    "softw = 'surfer'"
   ]
  },
  {
   "cell_type": "code",
   "execution_count": 17,
   "metadata": {},
   "outputs": [
    {
     "name": "stdout",
     "output_type": "stream",
     "text": [
      "manual:  510\n"
     ]
    }
   ],
   "source": [
    "# hyp1 = ['bvol',softw,'left','age<=20','fiq>0','normDev']\n",
    "# hyp1 = ['fiq>0','abide','caudate', 'putamen']\n",
    "hyp1 = ['female', 'caudate', 'fs', 'fiq>0'] # ,'abide']\n",
    "condic = define_conditions(hie, tooldic=tooldic, normalDev=normalDev, patient=patient, h2ube=h2ube)\n",
    "tmp = apply_cond(hie, condic, hyp1)\n",
    "# print('apply:', len(tmp.dropna(subset=['FIQ', 'volume', 'Gender'])))\n",
    "\n",
    "manual = hie.loc[(hie['Gender']=='Female') & \n",
    "#                 (hie['study'].str.contains(\"ABIDE\")) &\n",
    "                 (hie['structure'] == h2ube['Caudate']) &\n",
    "                 (hie['tool'] == tooldic[softw]) & \n",
    "                 (hie['FIQ'] > 0) ] \n",
    "manual = manual.dropna(subset=['FIQ', 'volume', 'Gender']) #,inplace=True)\n",
    "print('manual: ',len(manual))\n",
    "assert len(tmp.dropna(subset=['FIQ', 'volume', 'Gender'])) == len(manual)"
   ]
  },
  {
   "cell_type": "code",
   "execution_count": 18,
   "metadata": {},
   "outputs": [
    {
     "data": {
      "text/plain": [
       "334"
      ]
     },
     "execution_count": 18,
     "metadata": {},
     "output_type": "execute_result"
    }
   ],
   "source": [
    "#cond = ['abide'] #,'fiq>0'] # ,'abide']\n",
    "cond = ['adhd200'] #,'fiq>0'] # ,'abide']\n",
    "dropnaset = [] #'FIQ']\n",
    "tmp_df = apply_cond(hie, condic, cond, dropnaset=dropnaset, columns={'volume':'brainvol'})\n",
    "len(set(tmp_df['ID']))"
   ]
  },
  {
   "cell_type": "code",
   "execution_count": 19,
   "metadata": {},
   "outputs": [],
   "source": [
    "structures = set(hie.structure)\n"
   ]
  },
  {
   "cell_type": "markdown",
   "metadata": {},
   "source": [
    "Hypotheses\n",
    "\n",
    "PIET-1: Total Brain Volume will positively correlate with IQ (in both sexes across the complete age range).\n",
    "\n",
    "MAC-1: Left striatum volume (caudate + putamen) will positively correlate with IQ in the total (male + female) child (age < 20) group.\n",
    "\n",
    "MAC-2: Left striatum volume (caudate + putamen) will positively correlate with IQ in the male children group.\n",
    "\n",
    "MAC-3: Left striatum volume (caudate + putamen) will not correlate with IQ in the female children group.\n",
    "\n",
    "GANJ-1: Total Corpus Callosum midsagittal area, after correcting for total brain volume, will negatively correlate with IQ.\n",
    "\n",
    "GANJ-2: Total Corpus Callosum midsagittal area, after correcting for total brain volume, will negatively correlate with IQ in the young (age < 12) group.\n",
    "\n",
    "GANJ-3: Total Corpus Callosum midsagittal area, after correcting for total brain volume, will not significantly correlate with IQ in the adolescent (age > 12) group.\n",
    "\n",
    "GANJ-4:. Total Corpus Callosum midsagittal area, after correcting for total brain volume, will negatively correlate with IQ in the male (age < 12) group.\n",
    "\n",
    "GANJ-5: Total Corpus Callosum midsagittal area, after correcting for total brain volume, will not significantly correlate with IQ in the female (age < 12) group.\n",
    "\n",
    "\n",
    "Kennedy.Dave: Yes, please add then ants (and FSL for the first 4 hypotheses) when you get the chance...\n",
    "\n",
    "#### Can you also do the following extra analyses:  \n",
    "\n",
    "GANJ-0a \n",
    "Corpus Callosum Area vs. Total Brain Volume covary for site\n",
    "\n",
    "GANJ-0b\n",
    "Corpus Callosum Area vs. Age, covary for site\n",
    "\n",
    "MAC hypotheses and use total brain volume as a covariate\n",
    "\n",
    "Correct hypotheses : \n",
    "[hypotheses](https://docs.google.com/spreadsheets/d/1IYbDCvisOjblUkuBs8GN6--gjVSe_qBeR0eGIlTShYU/edit#gid=1945227897)\n",
    "\n",
    "summary variables for all models: mean, sd, min, max?"
   ]
  },
  {
   "cell_type": "code",
   "execution_count": null,
   "metadata": {},
   "outputs": [],
   "source": []
  },
  {
   "cell_type": "code",
   "execution_count": 20,
   "metadata": {},
   "outputs": [],
   "source": [
    "\n",
    "def md2dic(varnames, hyp_name, cond, mdf=None, debug=False):\n",
    "    \"\"\"\n",
    "    Conveniency function for extracting the values from the output table\n",
    "    of statsmodel.formula (import as smf) fit \n",
    "    \n",
    "    \n",
    "    input\n",
    "    -------\n",
    "    varnames: list of string (variables in the model)\n",
    "        varnames[1] is the name of the variable for which we want p, t, nobs, etc\n",
    "    hyp_name: string\n",
    "        name of hyp\n",
    "    cond: list\n",
    "        list of string representing the conditions \n",
    "    \n",
    "    returns\n",
    "    -------\n",
    "    dict \n",
    "        key is hyp_name, values is a dict with values for t, p, nobs, ... \n",
    "    \n",
    "    \"\"\"\n",
    "    \n",
    "    varname = varnames[1] \n",
    "    table2 = mdf.summary().tables[1].data\n",
    "    cols = table2[0]\n",
    "    #print(cols)\n",
    "    #print(table2)\n",
    "    if debug: \n",
    "        print('varname', varname)\n",
    "        print('hyp_name', hyp_name)\n",
    "        print('table2[0] :',cols)\n",
    "\n",
    "    ther = [r for r in table2 if r[0] == varname]\n",
    "    if debug:\n",
    "        print(table2)\n",
    "        print('the row: ', ther)\n",
    "    ther = ther[0]\n",
    "    \n",
    "    resdic = {}\n",
    "    resdic[hyp_name] = {'P>|t|':ther[cols.index('P>|t|')], \n",
    "             't':ther[cols.index('t')], \n",
    "             'rsquared_adj':\"{:4.3}\".format(mdf.rsquared_adj),\n",
    "             'nobs': \"{:3d}\".format(int(mdf.nobs)),\n",
    "             'conditions': cond,\n",
    "             'variables': varnames\n",
    "            }\n",
    "\n",
    "    return(resdic)"
   ]
  },
  {
   "cell_type": "code",
   "execution_count": null,
   "metadata": {},
   "outputs": [],
   "source": []
  },
  {
   "cell_type": "code",
   "execution_count": 21,
   "metadata": {},
   "outputs": [],
   "source": [
    "def run_hyp(datadf, hyp_name, hyp, ynxs, resdic={}, correctfor=None, print_dir=None, debug=False):\n",
    "    \"\"\"\n",
    "    construct the formula and runs a specific hypothesis on dataframe datadf\n",
    "    the ynxs contain the variables names. If resdic exist, an additional \n",
    "    entry is added \n",
    "\n",
    "    df: pandas dataframe\n",
    "    hyp_name: str\n",
    "        describe the hypothesis\n",
    "    hyp: list\n",
    "        list of string describing the hyp\n",
    "    ynxs: list of str (Ys and Xs)\n",
    "        [0] : explained var Y\n",
    "        [1] : region X1 (for which we want the stats)\n",
    "        [2] : X2, ... additional covariables of the form : ' X2 + X3 ... '\n",
    "    resdic: dict\n",
    "        current dictionary of results to which these resutls are added\n",
    "    correctfor: list of strings\n",
    "        will correct ynxs[1] for the columns which names contain one of the string\n",
    "        \n",
    "    returns\n",
    "    --------\n",
    "    updated result dictionary \n",
    "    \"\"\"\n",
    "    \n",
    "    assert len(ynxs) == 3 # \n",
    "    md = smf.ols(ynxs[0] + \" ~ \" + ynxs[1] + \" + \" + ynxs[2], data=datadf)\n",
    "    mdf = md.fit()\n",
    "    resdicupdate = md2dic(ynxs, hyp_name, hyp, mdf=mdf, debug=debug)\n",
    "\n",
    "    # mean of variable to be corrected\n",
    "    x_0 = datadf[ynxs[1]]\n",
    "    mean_x_0 = x_0.mean()\n",
    "    \n",
    "    if correctfor is None:\n",
    "        x_0_corr = x_0\n",
    "        C = np.empty((0,0))\n",
    "        # resdicupdate[hyp_name]['exogcorrectionnames'] = []\n",
    "    else:\n",
    "        indx = []\n",
    "        # also remove the mean (col named 'Intercept')\n",
    "        for correct in correctfor + ['Intercept']:\n",
    "            indx += [md.exog_names.index(col) for col in md.exog_names if correct in col]\n",
    "        indx = list(set(indx)) # avoid possible duplicates\n",
    "\n",
    "        C = md.exog[:,indx] # C for counfound, indx is a list, does fancy \n",
    "                            # indexing and pick these cols\n",
    "        # project on C\n",
    "        x_0_proj = C @ lin.pinv(C) @ x_0\n",
    "        # remove projection \n",
    "        x_0_corr = x_0 - x_0_proj\n",
    "        # put the mean back\n",
    "        x_0_corr += mean_x_0\n",
    "\n",
    "    resdicupdate[hyp_name]['ccoef_orig'] = np.corrcoef(md.endog, x_0)[0,1]\n",
    "    resdicupdate[hyp_name]['ccoef_corr'] = np.corrcoef(md.endog, x_0_corr)[0,1]  \n",
    "    resdicupdate[hyp_name]['correct_shape'] = C.shape\n",
    "    resdicupdate[hyp_name]['correct_names'] = correctfor\n",
    "\n",
    "    #-------------------------- Plot ----------------------# \n",
    "    fig, ax = plt.subplots(figsize=(4,3), clear=True)\n",
    "\n",
    "    in_kilo_str, in_kilo_fct = '', 1\n",
    "    if x_0_corr.min() > 1000:\n",
    "        in_kilo_str , in_kilo_fct = ' x 10^3', 1000.\n",
    "    x_0_corr /= in_kilo_fct\n",
    "        \n",
    "    c1, c0 = np.polyfit(x_0_corr, md.endog, 1)\n",
    "    ax.plot(x_0_corr, md.endog, '.'); # add the mean of endog ? \n",
    "    ax.plot(x_0_corr, c0 + c1 * x_0_corr, 'c-');\n",
    "    ax.set(xlabel=ynxs[1]+in_kilo_str, ylabel=ynxs[0], title=hyp_name)\n",
    "    \n",
    "    timestr = strftime(\"%Y-%m-%d-%H-%M-%S\", gmtime())\n",
    "    fig_fname = hyp_name + timestr + '.png'\n",
    "    \n",
    "    resdicupdate[hyp_name]['figure'] = (fig, ax)\n",
    "    resdicupdate[hyp_name]['fig_fname'] = fig_fname\n",
    "\n",
    "    if print_dir :\n",
    "        fig_path = osp.join(figure_dir, fig_fname)\n",
    "        fig.savefig(fig_path, bbox_inches='tight')\n",
    "\n",
    "    # update resdic with resdicupdate dictionary\n",
    "    resdic.update(resdicupdate)\n",
    "    return resdic\n",
    "    \n",
    "\"\"\"    \n",
    "iq = 'FIQ'\n",
    "tmp = PIET_1_fs_df\n",
    "# md = smf.ols(iq + \" ~ Q('volume') + Gender + Age + study \", data=tmp) #  \n",
    "md = smf.ols(iq + \" ~ \" + volume_of + \" + study \", data=tmp) #  \n",
    "mdf = md.fit()\n",
    "print(mdf.summary())\n",
    "resdic.update(md2dic(volume_of, hyp_name, hyp1, mdf=mdf))\n",
    "\"\"\";"
   ]
  },
  {
   "cell_type": "code",
   "execution_count": 22,
   "metadata": {},
   "outputs": [],
   "source": [
    "#polyfit?"
   ]
  },
  {
   "cell_type": "markdown",
   "metadata": {},
   "source": [
    "### PIET-1: Total Brain Volume will positively correlate with IQ (in both sexes across the complete age range).\n"
   ]
  },
  {
   "cell_type": "code",
   "execution_count": 23,
   "metadata": {},
   "outputs": [
    {
     "name": "stdout",
     "output_type": "stream",
     "text": [
      "dict_keys(['left', 'right', 'latNan', 'age<=20', 'age<20', 'age<12', 'age>=12', 'fs', 'ants', 'fsl', 'fiq>0', 'normDev', 'patient', 'bvol', 'brainseg', 'brainsegwov', 'caudate', 'putamen', 'TIV', 'wm', 'gm', 'csf', 'wmfsl', 'gmfsl', 'csffsl', 'ccant', 'cccen', 'ccpos', 'ccfs', 'abide', 'adhd200', 'male', 'female'])\n"
     ]
    }
   ],
   "source": [
    "condic = define_conditions(hie, tooldic=tooldic, normalDev=normalDev, patient=patient, h2ube=h2ube)\n",
    "print(condic.keys())\n",
    "dropnaset = ['FIQ', 'volume', 'Gender', 'study']\n"
   ]
  },
  {
   "cell_type": "code",
   "execution_count": null,
   "metadata": {},
   "outputs": [],
   "source": []
  },
  {
   "cell_type": "code",
   "execution_count": 24,
   "metadata": {
    "scrolled": false
   },
   "outputs": [
    {
     "name": "stdout",
     "output_type": "stream",
     "text": [
      "len(PIET_1_fs_df) 654\n"
     ]
    },
    {
     "data": {
      "image/png": "[encoded data removed]",
      "text/plain": [
       "<Figure size 288x216 with 1 Axes>"
      ]
     },
     "metadata": {
      "needs_background": "light"
     },
     "output_type": "display_data"
    }
   ],
   "source": [
    "volume_of = 'brainseg'\n",
    "hyp_name = 'PIET-1_fs'\n",
    "dropnaset = ['FIQ', 'volume', 'Gender','study']\n",
    "\n",
    "PIET_1_fs = ['brainseg', 'fiq>0','normDev', 'fs'] # 'bvol','ants','abide']\n",
    "PIET_1_fs_df = apply_cond(hie, condic, PIET_1_fs, dropnaset=dropnaset, \n",
    "                          columns={'volume':volume_of})\n",
    "print('len(PIET_1_fs_df)',len(PIET_1_fs_df))\n",
    "\n",
    "resdic = run_hyp(PIET_1_fs_df, hyp_name, PIET_1_fs, ['FIQ', volume_of, 'study'], \n",
    "                 resdic={}, correctfor = ['study'], print_dir=figure_dir, debug=False)\n",
    "\n",
    "#print(np.corrcoef(PIET_1_fs_df['FIQ'],PIET_1_fs_df['brainseg'])[0,1])\n",
    "#print(resdic[hyp_name])\n",
    "# plt.plot(PIET_1_fs_df['FIQ'])"
   ]
  },
  {
   "cell_type": "code",
   "execution_count": null,
   "metadata": {},
   "outputs": [],
   "source": []
  },
  {
   "cell_type": "code",
   "execution_count": 25,
   "metadata": {},
   "outputs": [
    {
     "name": "stdout",
     "output_type": "stream",
     "text": [
      "len(fsl_total) 649\n"
     ]
    }
   ],
   "source": [
    "volume_of = 'fsl_brainvol'\n",
    "hyp_name = 'PIET-1_fsl'\n",
    "\n",
    "PIET_1_fsl = ['fiq>0','normDev', 'fsl']\n",
    "fsl_gm = PIET_1_fsl + ['gmfsl'] #\n",
    "fsl_wm = PIET_1_fsl + ['wmfsl'] #\n",
    "fsl_csf = PIET_1_fsl + ['csffsl'] #\n",
    "\n",
    "fsl_gm_df = apply_cond(hie, condic, fsl_gm, dropnaset=dropnaset, columns={'volume':'fsl_gm'})\n",
    "fsl_wm_df = apply_cond(hie, condic, fsl_wm, dropnaset=dropnaset, columns={'volume':'fsl_wm'})\n",
    "fsl_csf_df = apply_cond(hie, condic, fsl_csf, dropnaset=dropnaset, columns={'volume':'fsl_csf'})\n",
    "\n",
    "fsl_total = pd.merge(left=fsl_gm_df, right=fsl_wm_df[['ID','fsl_wm']], left_on='ID', right_on='ID')\n",
    "fsl_total = pd.merge(left=fsl_total, right=fsl_csf_df[['ID','fsl_csf']], left_on='ID', right_on='ID')\n",
    "fsl_total['fsl_brainvol'] = fsl_total['fsl_csf'] + fsl_total['fsl_wm'] + fsl_total['fsl_gm']\n",
    "print('len(fsl_total)',len(fsl_total))\n"
   ]
  },
  {
   "cell_type": "code",
   "execution_count": 26,
   "metadata": {},
   "outputs": [
    {
     "name": "stdout",
     "output_type": "stream",
     "text": [
      "{'P>|t|': ' 0.004', 't': '    2.885', 'rsquared_adj': '0.0781', 'nobs': '649', 'conditions': ['fiq>0', 'normDev', 'fsl'], 'variables': ['FIQ', 'fsl_brainvol', 'study'], 'ccoef_orig': 0.11196484989530606, 'ccoef_corr': 0.10880904248554282, 'correct_shape': (649, 25), 'correct_names': ['study'], 'figure': (<Figure size 288x216 with 1 Axes>, <matplotlib.axes._subplots.AxesSubplot object at 0x7f6526089e10>), 'fig_fname': 'PIET-1_fsl2020-04-15-04-47-29.png'}\n"
     ]
    },
    {
     "data": {
      "image/png": "[encoded data removed]",
      "text/plain": [
       "<Figure size 288x216 with 1 Axes>"
      ]
     },
     "metadata": {
      "needs_background": "light"
     },
     "output_type": "display_data"
    }
   ],
   "source": [
    "resdic = run_hyp(fsl_total, hyp_name, PIET_1_fsl, ['FIQ', volume_of, 'study'], resdic=resdic, \n",
    "                 correctfor = ['study'], print_dir=figure_dir, debug=False)\n",
    "print(resdic[hyp_name])"
   ]
  },
  {
   "cell_type": "code",
   "execution_count": null,
   "metadata": {},
   "outputs": [],
   "source": []
  },
  {
   "cell_type": "markdown",
   "metadata": {},
   "source": [
    "##### and with ANTS ?\n"
   ]
  },
  {
   "cell_type": "code",
   "execution_count": 27,
   "metadata": {},
   "outputs": [
    {
     "name": "stdout",
     "output_type": "stream",
     "text": [
      "len(PIET_1_ants_df) 542\n",
      "{'P>|t|': ' 0.000', 't': '    3.869', 'rsquared_adj': '0.0964', 'nobs': '542', 'conditions': ['bvol', 'fiq>0', 'normDev', 'ants'], 'variables': ['FIQ', 'ants_brainvol', 'study'], 'ccoef_orig': 0.17101918710267835, 'ccoef_corr': 0.1580978211293806, 'correct_shape': (542, 22), 'correct_names': ['study'], 'figure': (<Figure size 288x216 with 1 Axes>, <matplotlib.axes._subplots.AxesSubplot object at 0x7f652607f908>), 'fig_fname': 'PIET-1_ants2020-04-15-04-47-29.png'}\n"
     ]
    },
    {
     "data": {
      "image/png": "[encoded data removed]",
      "text/plain": [
       "<Figure size 288x216 with 1 Axes>"
      ]
     },
     "metadata": {
      "needs_background": "light"
     },
     "output_type": "display_data"
    }
   ],
   "source": [
    "volume_of = 'ants_brainvol'\n",
    "hyp_name = 'PIET-1_ants'\n",
    "PIET_1_ants = ['bvol', 'fiq>0', 'normDev', 'ants']\n",
    "PIET_1_ants_df = apply_cond(hie, condic, PIET_1_ants, dropnaset=dropnaset, columns={'volume':'ants_brainvol'})\n",
    "print('len(PIET_1_ants_df)',len(PIET_1_ants_df))\n",
    "\n",
    "resdic = run_hyp(PIET_1_ants_df, hyp_name, PIET_1_ants, ['FIQ', volume_of, 'study'], \n",
    "                 correctfor = ['study'], print_dir=figure_dir, resdic=resdic, debug=False)\n",
    "print(resdic[hyp_name])"
   ]
  },
  {
   "cell_type": "markdown",
   "metadata": {},
   "source": [
    "### MAC-1: Left striatum volume (caudate + putamen) will positively correlate with IQ in the total (male + female) child (age < 20) group.\n"
   ]
  },
  {
   "cell_type": "markdown",
   "metadata": {},
   "source": [
    "#### Create df and conditions for left striatum, **all age all gender**"
   ]
  },
  {
   "cell_type": "code",
   "execution_count": 28,
   "metadata": {},
   "outputs": [
    {
     "name": "stdout",
     "output_type": "stream",
     "text": [
      "1845 654\n",
      "1845 663\n"
     ]
    }
   ],
   "source": [
    "cond_mac = ['fiq>0', 'normDev', 'left'] # , 'fs' ,'age<20', \n",
    "\n",
    "mac1_caud = cond_mac + ['caudate'] #\n",
    "mac1_put = cond_mac + ['putamen'] #\n",
    "# mac1_tiv = cond_mac + ['fiq>0','normDev','fs','TIV'] #\n",
    "\n",
    "left_caud = apply_cond(hie, condic, mac1_caud, dropnaset=dropnaset, columns={'volume':'caudate'})\n",
    "print(len(left_caud), len(left_caud[(left_caud['tool']==tooldic['surfer'])] )) \n",
    "\n",
    "left_put = apply_cond(hie, condic, mac1_put, dropnaset=dropnaset, columns={'volume':'putamen'})\n",
    "print(len(left_put), len(set(left_put['ID'])))\n",
    "\n",
    "#left_caud.head(7)"
   ]
  },
  {
   "cell_type": "code",
   "execution_count": 29,
   "metadata": {},
   "outputs": [
    {
     "name": "stdout",
     "output_type": "stream",
     "text": [
      "1845\n",
      "1831\n"
     ]
    },
    {
     "data": {
      "image/png": "[encoded data removed]",
      "text/plain": [
       "<Figure size 432x288 with 1 Axes>"
      ]
     },
     "metadata": {
      "needs_background": "light"
     },
     "output_type": "display_data"
    }
   ],
   "source": [
    "left_stria = pd.merge(left=left_caud, right=left_put[['ID','putamen','tool']], on=['ID','tool'])\n",
    "left_stria['striatum'] = left_stria['caudate'] + left_stria['putamen']\n",
    "print(len(left_stria))\n",
    "\n",
    "left_stria.head(3)\n",
    "\n",
    "left_stria = left_stria[(left_stria['striatum'] > 6000) & (left_stria['striatum'] < 13000)]\n",
    "print(len(left_stria))\n",
    "_ = plt.hist(left_stria['striatum'],50)\n"
   ]
  },
  {
   "cell_type": "code",
   "execution_count": 30,
   "metadata": {},
   "outputs": [],
   "source": [
    "left_stria_condic = define_conditions(left_stria, tooldic=tooldic, \n",
    "                                      normalDev=normalDev, patient=patient, h2ube=h2ube)\n",
    "\n",
    "#print((set(left_stria['dx'])))"
   ]
  },
  {
   "cell_type": "markdown",
   "metadata": {},
   "source": [
    "### MAC-1: Left striatum volume (caudate + putamen) will positively correlate with IQ in the total (male + female) child (age < 20) group.\n"
   ]
  },
  {
   "cell_type": "markdown",
   "metadata": {},
   "source": [
    "#### FS"
   ]
  },
  {
   "cell_type": "code",
   "execution_count": 31,
   "metadata": {},
   "outputs": [
    {
     "name": "stdout",
     "output_type": "stream",
     "text": [
      "['study', 'ID', 'Age', 'dx', 'Gender', 'FIQ', 'PIQ', 'VIQ', 'tool', 'softwareLabel', 'structure', 'laterality', 'caudate', 'putamen', 'striatum']\n"
     ]
    }
   ],
   "source": [
    "print(list(left_stria))"
   ]
  },
  {
   "cell_type": "code",
   "execution_count": 32,
   "metadata": {},
   "outputs": [
    {
     "name": "stdout",
     "output_type": "stream",
     "text": [
      "535\n",
      "{'P>|t|': ' 0.000', 't': '    4.827', 'rsquared_adj': '0.115', 'nobs': '535', 'conditions': ['fiq>0', 'normDev', 'left', 'age<20', 'fs'], 'variables': ['FIQ', 'striatum_fs', 'study'], 'ccoef_orig': 0.22048695728438614, 'ccoef_corr': 0.19651736867363895, 'correct_shape': (535, 20), 'correct_names': ['study'], 'figure': (<Figure size 288x216 with 1 Axes>, <matplotlib.axes._subplots.AxesSubplot object at 0x7f652582d208>), 'fig_fname': 'MAC-1-fs2020-04-15-04-47-30.png'}\n"
     ]
    },
    {
     "data": {
      "image/png": "[encoded data removed]",
      "text/plain": [
       "<Figure size 288x216 with 1 Axes>"
      ]
     },
     "metadata": {
      "needs_background": "light"
     },
     "output_type": "display_data"
    }
   ],
   "source": [
    "volume_of = 'striatum_fs'\n",
    "hyp_name = 'MAC-1-fs'\n",
    "mac1_child_fs = ['age<20','fs']\n",
    "mac1_child_df = apply_cond(left_stria, left_stria_condic, mac1_child_fs, columns={'striatum':'striatum_fs'})\n",
    "print(len(mac1_child_df))\n",
    "# print(list(mac1_child_df))\n",
    "resdic = run_hyp(mac1_child_df, hyp_name, cond_mac+mac1_child_fs, ['FIQ', volume_of, 'study'], \n",
    "                 correctfor = ['study'], print_dir=figure_dir, resdic=resdic, debug=False)\n",
    "\n",
    "print(resdic[hyp_name])"
   ]
  },
  {
   "cell_type": "markdown",
   "metadata": {},
   "source": [
    "#### FSL"
   ]
  },
  {
   "cell_type": "code",
   "execution_count": 33,
   "metadata": {},
   "outputs": [
    {
     "name": "stdout",
     "output_type": "stream",
     "text": [
      "517\n",
      "{'P>|t|': ' 0.000', 't': '    5.031', 'rsquared_adj': '0.13', 'nobs': '517', 'conditions': ['fiq>0', 'normDev', 'left', 'age<20', 'fsl'], 'variables': ['FIQ', 'striatum_fsl', 'study'], 'ccoef_orig': 0.2176417723091896, 'ccoef_corr': 0.2065270595695553, 'correct_shape': (517, 21), 'correct_names': ['study'], 'figure': (<Figure size 288x216 with 1 Axes>, <matplotlib.axes._subplots.AxesSubplot object at 0x7f65257998d0>), 'fig_fname': 'MAC-1-fsl2020-04-15-04-47-31.png'}\n"
     ]
    },
    {
     "data": {
      "image/png": "[encoded data removed]",
      "text/plain": [
       "<Figure size 288x216 with 1 Axes>"
      ]
     },
     "metadata": {
      "needs_background": "light"
     },
     "output_type": "display_data"
    }
   ],
   "source": [
    "volume_of = 'striatum_fsl'\n",
    "hyp_name = 'MAC-1-fsl'\n",
    "mac1_child_fsl = ['age<20','fsl']\n",
    "mac1_child_df = apply_cond(left_stria, left_stria_condic, mac1_child_fsl, \n",
    "                                                          columns={'striatum':'striatum_fsl'})\n",
    "print(len(mac1_child_df))\n",
    "\n",
    "resdic = run_hyp(mac1_child_df, hyp_name, cond_mac+mac1_child_fsl, ['FIQ', volume_of, 'study'], \n",
    "                 correctfor = ['study'], print_dir=figure_dir, resdic=resdic, debug=False)\n",
    "\n",
    "print(resdic[hyp_name])"
   ]
  },
  {
   "cell_type": "code",
   "execution_count": 34,
   "metadata": {},
   "outputs": [
    {
     "name": "stdout",
     "output_type": "stream",
     "text": [
      "488\n"
     ]
    }
   ],
   "source": [
    "volume_of = 'striatum_ants'\n",
    "hyp_name = 'MAC-1-ants'\n",
    "mac1_child_ants = ['age<20','ants'] #,'abide']\n",
    "mac1_child_df = apply_cond(left_stria, left_stria_condic, mac1_child_ants, \n",
    "                                                          columns={'striatum':'striatum_ants'})\n",
    "print(len(mac1_child_df)) # list(mac1_child_df)\n",
    "assert(len(mac1_child_df) == len(set(mac1_child_df['ID'])))\n",
    "# mac1_child_df.head(5)"
   ]
  },
  {
   "cell_type": "code",
   "execution_count": 35,
   "metadata": {},
   "outputs": [
    {
     "data": {
      "image/png": "[encoded data removed]",
      "text/plain": [
       "<Figure size 288x216 with 1 Axes>"
      ]
     },
     "metadata": {
      "needs_background": "light"
     },
     "output_type": "display_data"
    }
   ],
   "source": [
    "resdic = run_hyp(mac1_child_df, hyp_name, cond_mac+mac1_child_ants, \n",
    "                     ['FIQ', volume_of, 'study'], correctfor = ['study'], print_dir=figure_dir, \n",
    "                     resdic=resdic, debug=False)\n",
    "\n",
    "# print(resdic)"
   ]
  },
  {
   "cell_type": "markdown",
   "metadata": {},
   "source": [
    "### MAC-2: Left striatum volume (caudate + putamen) will positively correlate with IQ in the male children group.\n"
   ]
  },
  {
   "cell_type": "code",
   "execution_count": 36,
   "metadata": {},
   "outputs": [
    {
     "name": "stdout",
     "output_type": "stream",
     "text": [
      "405\n",
      "{'P>|t|': ' 0.000', 't': '    4.536', 'rsquared_adj': '0.133', 'nobs': '405', 'conditions': ['fiq>0', 'normDev', 'left', 'age<20', 'male', 'fs'], 'variables': ['FIQ', 'striatum', 'study'], 'ccoef_orig': 0.2291351356088509, 'ccoef_corr': 0.2101360129917002, 'correct_shape': (405, 20), 'correct_names': ['study'], 'figure': (<Figure size 288x216 with 1 Axes>, <matplotlib.axes._subplots.AxesSubplot object at 0x7f65256c4a90>), 'fig_fname': 'MAC-2-fs2020-04-15-04-47-31.png'}\n"
     ]
    },
    {
     "data": {
      "image/png": "[encoded data removed]",
      "text/plain": [
       "<Figure size 288x216 with 1 Axes>"
      ]
     },
     "metadata": {
      "needs_background": "light"
     },
     "output_type": "display_data"
    }
   ],
   "source": [
    "sftw = 'fs'\n",
    "volume_of = 'striatum'\n",
    "hyp_name = 'MAC-2-' + sftw\n",
    "mac2_cond = ['age<20','male', sftw]\n",
    "mac2_df = apply_cond(left_stria, left_stria_condic, mac2_cond)\n",
    "print(len(mac2_df))\n",
    "\n",
    "resdic = run_hyp(mac2_df, hyp_name, cond_mac+mac2_cond, \n",
    "                     ['FIQ', volume_of, 'study'], resdic=resdic, \n",
    "                     correctfor = ['study'], print_dir=figure_dir, debug=False)\n",
    "\n",
    "print(resdic[hyp_name])"
   ]
  },
  {
   "cell_type": "markdown",
   "metadata": {},
   "source": [
    "#### MAC-2 ANTS"
   ]
  },
  {
   "cell_type": "code",
   "execution_count": null,
   "metadata": {},
   "outputs": [],
   "source": []
  },
  {
   "cell_type": "markdown",
   "metadata": {},
   "source": [
    "#### MAC-2 FSL"
   ]
  },
  {
   "cell_type": "code",
   "execution_count": 37,
   "metadata": {},
   "outputs": [
    {
     "name": "stdout",
     "output_type": "stream",
     "text": [
      "391\n",
      "{'P>|t|': ' 0.000', 't': '    4.614', 'rsquared_adj': '0.144', 'nobs': '391', 'conditions': ['fiq>0', 'normDev', 'left', 'age<20', 'male', 'fsl'], 'variables': ['FIQ', 'striatum', 'study'], 'ccoef_orig': 0.2138868022924166, 'ccoef_corr': 0.21613716765690666, 'correct_shape': (391, 21), 'correct_names': ['study'], 'figure': (<Figure size 288x216 with 1 Axes>, <matplotlib.axes._subplots.AxesSubplot object at 0x7f65256ae198>), 'fig_fname': 'MAC-2-fsl2020-04-15-04-47-32.png'}\n"
     ]
    },
    {
     "data": {
      "image/png": "[encoded data removed]",
      "text/plain": [
       "<Figure size 288x216 with 1 Axes>"
      ]
     },
     "metadata": {
      "needs_background": "light"
     },
     "output_type": "display_data"
    }
   ],
   "source": [
    "sftw = 'fsl'\n",
    "volume_of = 'striatum'\n",
    "hyp_name = 'MAC-2-' + sftw\n",
    "mac2_cond = ['age<20','male', sftw]\n",
    "mac2_df = apply_cond(left_stria, left_stria_condic, mac2_cond)\n",
    "print(len(mac2_df))\n",
    "\n",
    "resdic = run_hyp(mac2_df, hyp_name, cond_mac+mac2_cond, \n",
    "                     ['FIQ', volume_of, 'study'], resdic=resdic, \n",
    "                     correctfor = ['study'], print_dir=figure_dir, debug=False)\n",
    "\n",
    "print(resdic[hyp_name])"
   ]
  },
  {
   "cell_type": "code",
   "execution_count": 38,
   "metadata": {},
   "outputs": [
    {
     "name": "stdout",
     "output_type": "stream",
     "text": [
      "365\n",
      "{'P>|t|': ' 0.000', 't': '    4.062', 'rsquared_adj': '0.136', 'nobs': '365', 'conditions': ['fiq>0', 'normDev', 'left', 'age<20', 'male', 'ants'], 'variables': ['FIQ', 'striatum', 'study'], 'ccoef_orig': 0.24472899043649016, 'ccoef_corr': 0.19786310979567473, 'correct_shape': (365, 19), 'correct_names': ['study'], 'figure': (<Figure size 288x216 with 1 Axes>, <matplotlib.axes._subplots.AxesSubplot object at 0x7f65256d4e48>), 'fig_fname': 'MAC-2-ants2020-04-15-04-47-32.png'}\n"
     ]
    },
    {
     "data": {
      "image/png": "[encoded data removed]",
      "text/plain": [
       "<Figure size 288x216 with 1 Axes>"
      ]
     },
     "metadata": {
      "needs_background": "light"
     },
     "output_type": "display_data"
    }
   ],
   "source": [
    "sftw = 'ants'\n",
    "volume_of = 'striatum'\n",
    "hyp_name = 'MAC-2-' + sftw\n",
    "mac2_cond = ['age<20','male', sftw]\n",
    "\n",
    "mac2_df = apply_cond(left_stria, left_stria_condic, mac2_cond)\n",
    "print(len(mac2_df))\n",
    "\n",
    "resdic = run_hyp(mac2_df, hyp_name, cond_mac+mac2_cond, \n",
    "                     ['FIQ', volume_of, 'study'], resdic=resdic, \n",
    "                     correctfor = ['study'], print_dir=figure_dir, debug=False)\n",
    "\n",
    "print(resdic[hyp_name])"
   ]
  },
  {
   "cell_type": "markdown",
   "metadata": {},
   "source": [
    "### MAC-3: Left striatum volume (caudate + putamen) will not correlate with IQ in the female children group.\n"
   ]
  },
  {
   "cell_type": "markdown",
   "metadata": {},
   "source": [
    "#### MAC-3 FS"
   ]
  },
  {
   "cell_type": "code",
   "execution_count": 39,
   "metadata": {},
   "outputs": [
    {
     "name": "stdout",
     "output_type": "stream",
     "text": [
      "130\n",
      "{'P>|t|': ' 0.017', 't': '    2.428', 'rsquared_adj': '0.105', 'nobs': '130', 'conditions': ['fiq>0', 'normDev', 'left', 'age<20', 'female', 'fs'], 'variables': ['FIQ', 'striatum', 'study'], 'ccoef_orig': 0.22104031833831084, 'ccoef_corr': 0.20229083851366958, 'correct_shape': (130, 15), 'correct_names': ['study'], 'figure': (<Figure size 288x216 with 1 Axes>, <matplotlib.axes._subplots.AxesSubplot object at 0x7f65255cbcf8>), 'fig_fname': 'MAC-3-fs2020-04-15-04-47-32.png'}\n"
     ]
    },
    {
     "data": {
      "image/png": "[encoded data removed]",
      "text/plain": [
       "<Figure size 288x216 with 1 Axes>"
      ]
     },
     "metadata": {
      "needs_background": "light"
     },
     "output_type": "display_data"
    }
   ],
   "source": [
    "sftw = 'fs'\n",
    "volume_of = 'striatum'\n",
    "hyp_name = 'MAC-3-' + sftw\n",
    "hyp_cond = ['age<20','female', sftw]\n",
    "hyp_df = apply_cond(left_stria, left_stria_condic, hyp_cond)\n",
    "print(len(hyp_df))\n",
    "\n",
    "resdic = run_hyp(hyp_df, hyp_name, cond_mac+hyp_cond, \n",
    "                     ['FIQ', volume_of, 'study'], resdic=resdic, \n",
    "                     correctfor = ['study'], print_dir=figure_dir, debug=False)\n",
    "\n",
    "print(resdic[hyp_name])"
   ]
  },
  {
   "cell_type": "markdown",
   "metadata": {},
   "source": [
    "#### MAC-3 FSL"
   ]
  },
  {
   "cell_type": "code",
   "execution_count": 40,
   "metadata": {},
   "outputs": [
    {
     "name": "stdout",
     "output_type": "stream",
     "text": [
      "126\n",
      "{'P>|t|': ' 0.010', 't': '    2.626', 'rsquared_adj': '0.144', 'nobs': '126', 'conditions': ['fiq>0', 'normDev', 'left', 'age<20', 'female', 'fsl'], 'variables': ['FIQ', 'striatum', 'study'], 'ccoef_orig': 0.24789886533675384, 'ccoef_corr': 0.21728553567770245, 'correct_shape': (126, 15), 'correct_names': ['study'], 'figure': (<Figure size 288x216 with 1 Axes>, <matplotlib.axes._subplots.AxesSubplot object at 0x7f65255a27b8>), 'fig_fname': 'MAC-3-fsl2020-04-15-04-47-33.png'}\n"
     ]
    },
    {
     "data": {
      "image/png": "[encoded data removed]",
      "text/plain": [
       "<Figure size 288x216 with 1 Axes>"
      ]
     },
     "metadata": {
      "needs_background": "light"
     },
     "output_type": "display_data"
    }
   ],
   "source": [
    "sftw = 'fsl'\n",
    "volume_of = 'striatum'\n",
    "hyp_name = 'MAC-3-' + sftw\n",
    "hyp_cond = ['age<20','female', sftw]\n",
    "hyp_df = apply_cond(left_stria, left_stria_condic, hyp_cond)\n",
    "print(len(hyp_df))\n",
    "\n",
    "resdic = run_hyp(hyp_df, hyp_name, cond_mac+hyp_cond, \n",
    "                     ['FIQ', volume_of, 'study'], resdic=resdic, \n",
    "                     correctfor = ['study'], print_dir=figure_dir, debug=False)\n",
    "\n",
    "print(resdic[hyp_name])"
   ]
  },
  {
   "cell_type": "markdown",
   "metadata": {},
   "source": [
    "#### MAC-3 ANTS"
   ]
  },
  {
   "cell_type": "code",
   "execution_count": 41,
   "metadata": {},
   "outputs": [
    {
     "name": "stdout",
     "output_type": "stream",
     "text": [
      "123\n",
      "{'P>|t|': ' 0.020', 't': '    2.368', 'rsquared_adj': '0.0927', 'nobs': '123', 'conditions': ['fiq>0', 'normDev', 'left', 'age<20', 'female', 'ants'], 'variables': ['FIQ', 'striatum', 'study'], 'ccoef_orig': 0.20295296128345905, 'ccoef_corr': 0.20421804634667362, 'correct_shape': (123, 14), 'correct_names': ['study'], 'figure': (<Figure size 288x216 with 1 Axes>, <matplotlib.axes._subplots.AxesSubplot object at 0x7f652550a588>), 'fig_fname': 'MAC-3-ants2020-04-15-04-47-33.png'}\n"
     ]
    },
    {
     "data": {
      "image/png": "[encoded data removed]",
      "text/plain": [
       "<Figure size 288x216 with 1 Axes>"
      ]
     },
     "metadata": {
      "needs_background": "light"
     },
     "output_type": "display_data"
    }
   ],
   "source": [
    "sftw = 'ants'\n",
    "volume_of = 'striatum'\n",
    "hyp_name = 'MAC-3-' + sftw # + 'abide'\n",
    "hyp_cond = ['age<20','female', sftw] #, 'abide']\n",
    "hyp_df = apply_cond(left_stria, left_stria_condic, hyp_cond)\n",
    "print(len(hyp_df))\n",
    "\n",
    "resdic = run_hyp(hyp_df, hyp_name, cond_mac+hyp_cond, \n",
    "                     ['FIQ', volume_of, 'study'], resdic=resdic, \n",
    "                     correctfor = ['study'], print_dir=figure_dir, debug=False)\n",
    "\n",
    "print(resdic[hyp_name])"
   ]
  },
  {
   "cell_type": "code",
   "execution_count": null,
   "metadata": {},
   "outputs": [],
   "source": []
  },
  {
   "cell_type": "markdown",
   "metadata": {},
   "source": [
    "### compute cc and tbv  for GANJ, no age or gender condition "
   ]
  },
  {
   "cell_type": "code",
   "execution_count": 42,
   "metadata": {},
   "outputs": [
    {
     "name": "stdout",
     "output_type": "stream",
     "text": [
      "['study', 'ID', 'Age', 'dx', 'Gender', 'FIQ', 'PIQ', 'VIQ', 'tool', 'softwareLabel', 'structure', 'laterality', 'volume']\n"
     ]
    }
   ],
   "source": [
    "condic = define_conditions(hie, tooldic=tooldic, normalDev=normalDev, patient=patient, h2ube=h2ube)\n",
    "condic.keys()\n",
    "print(list(hie))"
   ]
  },
  {
   "cell_type": "code",
   "execution_count": 43,
   "metadata": {},
   "outputs": [],
   "source": [
    "\"\"\"\n",
    "sftw = 'fs'\n",
    "hyp_Ganj = ['fiq>0','normDev', sftw] #, 'adhd200']# , 'adhd' ,'abide','age<20'\n",
    "\n",
    "hyp_ccant = hyp_Ganj + ['ccant'] #\n",
    "hyp_cccen = hyp_Ganj + ['cccen'] #\n",
    "hyp_ccpos = hyp_Ganj + ['ccpos'] #\n",
    "\n",
    "ccant = apply_cond(hie, condic, hyp_ccant, dropnaset=dropnaset, columns={'volume':'ccant'})\n",
    "cccen = apply_cond(hie, condic, hyp_cccen, dropnaset=dropnaset, columns={'volume':'cccen'})\n",
    "ccpos = apply_cond(hie, condic, hyp_ccpos, dropnaset=dropnaset, columns={'volume':'ccpos'})\n",
    "\n",
    "# Note: Only freesurfer measures CC_* therefore no need to merge on tools as well\n",
    "cc_df = pd.merge(left=ccant, right=cccen[['ID','cccen']], on=['ID']) #,'tools']) # left_on='ID', right_on='ID')\n",
    "cc_df = pd.merge(left=cc_df, right=ccpos[['ID','ccpos']], on=['ID']) #,'tools']) # left_on='ID', right_on='ID')\n",
    "\n",
    "cc_df['cc'] = cc_df['ccant']+cc_df['cccen']+cc_df['ccpos']\n",
    "len(cc_df), len(ccant), len(cccen), len(ccpos)\n",
    "# (654, 654, 654, 654)\n",
    "\"\"\";"
   ]
  },
  {
   "cell_type": "code",
   "execution_count": 44,
   "metadata": {},
   "outputs": [
    {
     "name": "stdout",
     "output_type": "stream",
     "text": [
      "len(df):  3270\n",
      "tmp_cols:  ['CC_Central Volume_mm3 (mm^3)', 'CC_Posterior Volume_mm3 (mm^3)', 'CC_Mid_Anterior Volume_mm3 (mm^3)', 'CC_Mid_Posterior Volume_mm3 (mm^3)', 'CC_Anterior Volume_mm3 (mm^3)']\n",
      "len(df.dropduplicates):  3270\n",
      "len(newdf:  654\n",
      "after merge and dropna len(newdf):  654\n"
     ]
    }
   ],
   "source": [
    "sftw = 'fs'\n",
    "hyp_Ganj = ['fiq>0','normDev', sftw] #, 'adhd200']# , 'adhd' ,'abide','age<20'\n",
    "cond_ccfs = hyp_Ganj+['ccfs']\n",
    "cond_ccfs_df = apply_cond(hie, condic, cond_ccfs)\n",
    "\n",
    "# print(set(ccfs['softwareLabel']))\n",
    "# \n",
    "cc_df = split_op_merge(cond_ccfs_df, index='ID', col='softwareLabel', values='volume', newcol='cc', \n",
    "                        keepcols=['study', 'Age', 'Gender'], verbose=True) # , 'Age', 'dx', 'Gender', 'FIQ'])"
   ]
  },
  {
   "cell_type": "code",
   "execution_count": 45,
   "metadata": {},
   "outputs": [
    {
     "name": "stdout",
     "output_type": "stream",
     "text": [
      "664 - len(tmp_df):  493\n"
     ]
    }
   ],
   "source": [
    "tmp_df = cc_df[cc_df['study'].str.contains(\"ADHD\")]\n",
    "print('664 - len(tmp_df): ', 664 - len(tmp_df))\n",
    "#tmp_df.head(3)\n",
    "del tmp_df"
   ]
  },
  {
   "cell_type": "code",
   "execution_count": 46,
   "metadata": {},
   "outputs": [
    {
     "name": "stdout",
     "output_type": "stream",
     "text": [
      "        ID        gm laterality\n",
      "114  50665  664628.7        NaN\n",
      "145  50666  834042.3        NaN 654\n",
      "        ID        wm laterality\n",
      "109  50665  440221.8        NaN\n",
      "140  50666  651926.1        NaN 654\n",
      "        ID     csf laterality\n",
      "6    50666  1366.8        NaN\n",
      "281  50665   735.7        NaN 654\n",
      "654 654 654 654\n"
     ]
    }
   ],
   "source": [
    "hyp_ganj = 'GANJ-'\n",
    "\n",
    "hyp_gm = hyp_Ganj + ['gm','latNan'] # + ['adhd200']#\n",
    "gm = apply_cond(hie, condic, hyp_gm, dropnaset=dropnaset, columns={'volume':'gm'})\n",
    "print(gm[['ID','gm','laterality']].head(2),len(gm))\n",
    "\n",
    "hyp_wm = hyp_Ganj + ['wm','latNan'] #\n",
    "wm = apply_cond(hie, condic, hyp_wm, dropnaset=dropnaset, columns={'volume':'wm'})\n",
    "print(wm[['ID','wm','laterality']].head(2),len(wm))\n",
    "\n",
    "hyp_csf = hyp_Ganj + ['csf','latNan'] #\n",
    "csf = apply_cond(hie, condic, hyp_csf, dropnaset=dropnaset, columns={'volume':'csf'})\n",
    "print(csf[['ID','csf','laterality']].head(2),len(csf))\n",
    "\n",
    "tbv = pd.merge(left=gm, right=wm[['ID','wm']], left_on='ID', right_on='ID')\n",
    "tbv = pd.merge(left=tbv, right=csf[['ID','csf']], left_on='ID', right_on='ID')\n",
    "tbv['tbv'] = tbv['wm'] + tbv['gm'] +  tbv['csf']\n",
    "tbv.drop(['wm','gm','csf'], axis=1, inplace=True)\n",
    "\n",
    "print(len(gm), len(wm), len(csf), len(tbv))"
   ]
  },
  {
   "cell_type": "code",
   "execution_count": 47,
   "metadata": {},
   "outputs": [],
   "source": [
    "cc_tbv = pd.merge(left=tbv, right=cc_df[['ID','cc']], left_on='ID', right_on='ID')\n",
    "condic_cc_tbv = define_conditions(cc_tbv, tooldic=tooldic, normalDev=normalDev, patient=patient, h2ube=h2ube)"
   ]
  },
  {
   "cell_type": "code",
   "execution_count": 48,
   "metadata": {},
   "outputs": [
    {
     "data": {
      "text/plain": [
       "['study',\n",
       " 'ID',\n",
       " 'Age',\n",
       " 'dx',\n",
       " 'Gender',\n",
       " 'FIQ',\n",
       " 'PIQ',\n",
       " 'VIQ',\n",
       " 'tool',\n",
       " 'softwareLabel',\n",
       " 'structure',\n",
       " 'laterality',\n",
       " 'tbv',\n",
       " 'cc']"
      ]
     },
     "execution_count": 48,
     "metadata": {},
     "output_type": "execute_result"
    }
   ],
   "source": [
    "list(cc_tbv)"
   ]
  },
  {
   "cell_type": "markdown",
   "metadata": {},
   "source": [
    "### GANJ-0a Corpus Callosum Area vs. Total Brain Volume covary for site\n",
    "### GANJ-0b Corpus Callosum Area vs. Age, covary for site"
   ]
  },
  {
   "cell_type": "code",
   "execution_count": 49,
   "metadata": {
    "scrolled": false
   },
   "outputs": [
    {
     "name": "stdout",
     "output_type": "stream",
     "text": [
      "{'P>|t|': ' 0.000', 't': '   12.983', 'rsquared_adj': '0.419', 'nobs': '654', 'conditions': ['fiq>0', 'normDev', 'fs'], 'variables': ['cc', 'tbv', 'study'], 'ccoef_orig': 0.47920121143093486, 'ccoef_corr': 0.38735504769604484, 'correct_shape': (654, 25), 'correct_names': ['study'], 'figure': (<Figure size 288x216 with 1 Axes>, <matplotlib.axes._subplots.AxesSubplot object at 0x7f6525447978>), 'fig_fname': 'GANJ-0a_cc_tbv2020-04-15-04-47-34.png'}\n",
      "{'P>|t|': ' 0.000', 't': '   12.983', 'rsquared_adj': '0.304', 'nobs': '654', 'conditions': ['fiq>0', 'normDev', 'fs'], 'variables': ['tbv', 'cc', 'study'], 'ccoef_orig': 0.47920121143093486, 'ccoef_corr': 0.4237039565890662, 'correct_shape': (654, 25), 'correct_names': ['study'], 'figure': (<Figure size 288x216 with 1 Axes>, <matplotlib.axes._subplots.AxesSubplot object at 0x7f65254b1cf8>), 'fig_fname': 'GANJ-0a_tbv_cc2020-04-15-04-47-34.png'}\n",
      "{'P>|t|': ' 0.213', 't': '    1.247', 'rsquared_adj': '0.265', 'nobs': '654', 'conditions': ['fiq>0', 'normDev', 'fs'], 'variables': ['cc', 'Age', 'study'], 'ccoef_orig': 0.314611918219963, 'ccoef_corr': 0.041850317111618573, 'correct_shape': (654, 25), 'correct_names': ['study'], 'figure': (<Figure size 288x216 with 1 Axes>, <matplotlib.axes._subplots.AxesSubplot object at 0x7f6525341668>), 'fig_fname': 'GANJ-0b_cc_age2020-04-15-04-47-35.png'}\n",
      "{'P>|t|': ' 0.213', 't': '    1.247', 'rsquared_adj': '0.603', 'nobs': '654', 'conditions': ['fiq>0', 'normDev', 'fs'], 'variables': ['Age', 'cc', 'study'], 'ccoef_orig': 0.314611918219963, 'ccoef_corr': 0.03073626415998728, 'correct_shape': (654, 25), 'correct_names': ['study'], 'figure': (<Figure size 288x216 with 1 Axes>, <matplotlib.axes._subplots.AxesSubplot object at 0x7f652539d198>), 'fig_fname': 'GANJ-0b_age_cc2020-04-15-04-47-35.png'}\n",
      "{'P>|t|': ' 0.669', 't': '   -0.428', 'rsquared_adj': '0.602', 'nobs': '654', 'conditions': ['fiq>0', 'normDev', 'fs'], 'variables': ['Age', 'tbv', 'study'], 'ccoef_orig': 0.10394167579262785, 'ccoef_corr': -0.010557707009734591, 'correct_shape': (654, 25), 'correct_names': ['study'], 'figure': (<Figure size 288x216 with 1 Axes>, <matplotlib.axes._subplots.AxesSubplot object at 0x7f65252a91d0>), 'fig_fname': 'GANJ-0c_age_tbv2020-04-15-04-47-35.png'}\n",
      "{'P>|t|': ' 0.669', 't': '   -0.428', 'rsquared_adj': '0.118', 'nobs': '654', 'conditions': ['fiq>0', 'normDev', 'fs'], 'variables': ['tbv', 'Age', 'study'], 'ccoef_orig': 0.10394167579262785, 'ccoef_corr': -0.015724273114242505, 'correct_shape': (654, 25), 'correct_names': ['study'], 'figure': (<Figure size 288x216 with 1 Axes>, <matplotlib.axes._subplots.AxesSubplot object at 0x7f6525437080>), 'fig_fname': 'GANJ-0c_tbv_age2020-04-15-04-47-35.png'}\n"
     ]
    },
    {
     "data": {
      "image/png": "[encoded data removed]",
      "text/plain": [
       "<Figure size 288x216 with 1 Axes>"
      ]
     },
     "metadata": {
      "needs_background": "light"
     },
     "output_type": "display_data"
    },
    {
     "data": {
      "image/png": "[encoded data removed]",
      "text/plain": [
       "<Figure size 288x216 with 1 Axes>"
      ]
     },
     "metadata": {
      "needs_background": "light"
     },
     "output_type": "display_data"
    },
    {
     "data": {
      "image/png": "[encoded data removed]",
      "text/plain": [
       "<Figure size 288x216 with 1 Axes>"
      ]
     },
     "metadata": {
      "needs_background": "light"
     },
     "output_type": "display_data"
    },
    {
     "data": {
      "image/png": "[encoded data removed]",
      "text/plain": [
       "<Figure size 288x216 with 1 Axes>"
      ]
     },
     "metadata": {
      "needs_background": "light"
     },
     "output_type": "display_data"
    },
    {
     "data": {
      "image/png": "[encoded data removed]",
      "text/plain": [
       "<Figure size 288x216 with 1 Axes>"
      ]
     },
     "metadata": {
      "needs_background": "light"
     },
     "output_type": "display_data"
    },
    {
     "data": {
      "image/png": "[encoded data removed]",
      "text/plain": [
       "<Figure size 288x216 with 1 Axes>"
      ]
     },
     "metadata": {
      "needs_background": "light"
     },
     "output_type": "display_data"
    }
   ],
   "source": [
    "volume_of = 'cc'\n",
    "hyp_df =  cc_tbv\n",
    "\n",
    "hyp_name = hyp_ganj + '0a_cc_tbv'\n",
    "#print(len(hyp_df))\n",
    "resdic = run_hyp(hyp_df, hyp_name, hyp_Ganj, \n",
    "                     [ volume_of, 'tbv', 'study'], resdic=resdic, \n",
    "                     correctfor = ['study'], print_dir=figure_dir, debug=False)\n",
    "print(resdic[hyp_name])\n",
    "\n",
    "hyp_name = hyp_ganj + '0a_tbv_cc'\n",
    "resdic = run_hyp(hyp_df, hyp_name, hyp_Ganj, \n",
    "                     ['tbv',  volume_of, 'study'], resdic=resdic, \n",
    "                     correctfor = ['study'], print_dir=figure_dir, debug=False)\n",
    "print(resdic[hyp_name])\n",
    "\n",
    "hyp_name = hyp_ganj + '0b_cc_age'\n",
    "resdic = run_hyp(hyp_df, hyp_name, hyp_Ganj, \n",
    "                     [volume_of, 'Age', 'study'], resdic=resdic, \n",
    "                     correctfor = ['study'], print_dir=figure_dir, debug=False)\n",
    "print(resdic[hyp_name])\n",
    "\n",
    "hyp_name = hyp_ganj + '0b_age_cc'\n",
    "resdic = run_hyp(hyp_df, hyp_name, hyp_Ganj, \n",
    "                     ['Age', volume_of, 'study'], resdic=resdic, \n",
    "                     correctfor = ['study'], print_dir=figure_dir, debug=False)\n",
    "print(resdic[hyp_name])\n",
    "\n",
    "hyp_name = hyp_ganj + '0c_age_tbv'\n",
    "resdic = run_hyp(hyp_df, hyp_name, hyp_Ganj, \n",
    "                     ['Age', 'tbv', 'study'], resdic=resdic, \n",
    "                     correctfor = ['study'], print_dir=figure_dir, debug=False)\n",
    "print(resdic[hyp_name])\n",
    "\n",
    "hyp_name = hyp_ganj + '0c_tbv_age'\n",
    "resdic = run_hyp(hyp_df, hyp_name, hyp_Ganj, \n",
    "                     ['tbv', 'Age', 'study'], resdic=resdic, \n",
    "                     correctfor = ['study'], print_dir=figure_dir, debug=False)\n",
    "print(resdic[hyp_name])"
   ]
  },
  {
   "cell_type": "code",
   "execution_count": null,
   "metadata": {},
   "outputs": [],
   "source": []
  },
  {
   "cell_type": "markdown",
   "metadata": {},
   "source": [
    "### GANJ-1: Total Corpus Callosum midsagittal area, after correcting for total brain volume, will negatively correlate with IQ.\n"
   ]
  },
  {
   "cell_type": "code",
   "execution_count": 50,
   "metadata": {},
   "outputs": [
    {
     "name": "stdout",
     "output_type": "stream",
     "text": [
      "535\n",
      "{'P>|t|': ' 0.822', 't': '    0.225', 'rsquared_adj': '0.108', 'nobs': '535', 'conditions': ['fiq>0', 'normDev', 'fs', 'age<20'], 'variables': ['FIQ', 'cc', 'study + tbv'], 'ccoef_orig': 0.040293679451181445, 'ccoef_corr': 0.09290138503723235, 'correct_shape': (535, 20), 'correct_names': ['study'], 'figure': (<Figure size 288x216 with 1 Axes>, <matplotlib.axes._subplots.AxesSubplot object at 0x7f652531f3c8>), 'fig_fname': 'GANJ-12020-04-15-04-47-36.png'}\n"
     ]
    },
    {
     "data": {
      "image/png": "[encoded data removed]",
      "text/plain": [
       "<Figure size 288x216 with 1 Axes>"
      ]
     },
     "metadata": {
      "needs_background": "light"
     },
     "output_type": "display_data"
    }
   ],
   "source": [
    "volume_of = 'cc'\n",
    "hyp_name = hyp_ganj + '1' # + 'abide'\n",
    "hyp_cond = ['age<20'] #'fiq>0','normDev','fs','age<=20','ccant'] #\n",
    "hyp_df = apply_cond(cc_tbv, condic_cc_tbv, hyp_cond)\n",
    "print(len(hyp_df))\n",
    "\n",
    "resdic = run_hyp(hyp_df, hyp_name, hyp_Ganj+hyp_cond, \n",
    "                     ['FIQ', volume_of, 'study + tbv'], resdic=resdic, \n",
    "                     correctfor = ['study'], print_dir=figure_dir, debug=False)\n",
    "print(resdic[hyp_name])"
   ]
  },
  {
   "cell_type": "code",
   "execution_count": null,
   "metadata": {},
   "outputs": [],
   "source": []
  },
  {
   "cell_type": "markdown",
   "metadata": {},
   "source": [
    "### GANJ-2: Total Corpus Callosum midsagittal area, after correcting for total brain volume, will negatively correlate with IQ in the young (age < 12) group."
   ]
  },
  {
   "cell_type": "code",
   "execution_count": 51,
   "metadata": {},
   "outputs": [
    {
     "name": "stdout",
     "output_type": "stream",
     "text": [
      "270\n",
      "{'P>|t|': ' 0.585', 't': '    0.547', 'rsquared_adj': '0.0926', 'nobs': '270', 'conditions': ['fiq>0', 'normDev', 'fs', 'age<12'], 'variables': ['FIQ', 'cc', 'study + tbv'], 'ccoef_orig': 0.038639062365120644, 'ccoef_corr': 0.08533704976406371, 'correct_shape': (270, 17), 'correct_names': ['study'], 'figure': (<Figure size 288x216 with 1 Axes>, <matplotlib.axes._subplots.AxesSubplot object at 0x7f65251dab00>), 'fig_fname': 'GANJ-22020-04-15-04-47-37.png'}\n"
     ]
    },
    {
     "data": {
      "image/png": "[encoded data removed]",
      "text/plain": [
       "<Figure size 288x216 with 1 Axes>"
      ]
     },
     "metadata": {
      "needs_background": "light"
     },
     "output_type": "display_data"
    }
   ],
   "source": [
    "volume_of = 'cc'\n",
    "hyp_name = hyp_ganj + '2' # + 'abide'\n",
    "hyp_cond = ['age<12'] #'fiq>0','normDev','fs','age<=20','ccant'] #\n",
    "hyp_df = apply_cond(cc_tbv, condic_cc_tbv, hyp_cond)\n",
    "print(len(hyp_df))\n",
    "\n",
    "resdic = run_hyp(hyp_df, hyp_name, hyp_Ganj+hyp_cond, \n",
    "                     ['FIQ', volume_of, 'study + tbv'], resdic=resdic, \n",
    "                     correctfor = ['study'], print_dir=figure_dir, debug=False)\n",
    "print(resdic[hyp_name])"
   ]
  },
  {
   "cell_type": "markdown",
   "metadata": {},
   "source": [
    "### GANJ-3: Total Corpus Callosum midsagittal area, after correcting for total brain volume, will not significantly correlate with IQ in the adolescent (age > 12) group.\n"
   ]
  },
  {
   "cell_type": "code",
   "execution_count": 52,
   "metadata": {},
   "outputs": [
    {
     "name": "stdout",
     "output_type": "stream",
     "text": [
      "384\n",
      "{'P>|t|': ' 0.886', 't': '   -0.143', 'rsquared_adj': '0.0917', 'nobs': '384', 'conditions': ['fiq>0', 'normDev', 'fs', 'age>=12'], 'variables': ['FIQ', 'cc', 'study + tbv'], 'ccoef_orig': 0.1627096393412281, 'ccoef_corr': 0.09477868560848252, 'correct_shape': (384, 24), 'correct_names': ['study'], 'figure': (<Figure size 288x216 with 1 Axes>, <matplotlib.axes._subplots.AxesSubplot object at 0x7f652514d5f8>), 'fig_fname': 'GANJ-32020-04-15-04-47-37.png'}\n"
     ]
    },
    {
     "data": {
      "image/png": "[encoded data removed]",
      "text/plain": [
       "<Figure size 288x216 with 1 Axes>"
      ]
     },
     "metadata": {
      "needs_background": "light"
     },
     "output_type": "display_data"
    }
   ],
   "source": [
    "volume_of = 'cc'\n",
    "hyp_name = hyp_ganj + '3' # + 'abide'\n",
    "hyp_cond = ['age>=12'] #'fiq>0','normDev','fs','age<=20','ccant'] #\n",
    "hyp_df = apply_cond(cc_tbv, condic_cc_tbv, hyp_cond)\n",
    "print(len(hyp_df))\n",
    "\n",
    "resdic = run_hyp(hyp_df, hyp_name, hyp_Ganj+hyp_cond, \n",
    "                     ['FIQ', volume_of, 'study + tbv'], resdic=resdic, \n",
    "                     correctfor = ['study'], print_dir=figure_dir, debug=False)\n",
    "print(resdic[hyp_name])"
   ]
  },
  {
   "cell_type": "markdown",
   "metadata": {},
   "source": [
    "### GANJ-4:. Total Corpus Callosum midsagittal area, after correcting for total brain volume, will negatively correlate with IQ in the male (age < 12) group.\n"
   ]
  },
  {
   "cell_type": "code",
   "execution_count": 53,
   "metadata": {},
   "outputs": [
    {
     "name": "stdout",
     "output_type": "stream",
     "text": [
      "191\n",
      "{'P>|t|': ' 0.224', 't': '    1.221', 'rsquared_adj': '0.122', 'nobs': '191', 'conditions': ['fiq>0', 'normDev', 'fs', 'age<12', 'male'], 'variables': ['FIQ', 'cc', 'study + tbv'], 'ccoef_orig': 0.0565207668719081, 'ccoef_corr': 0.13997589274393787, 'correct_shape': (191, 16), 'correct_names': ['study'], 'figure': (<Figure size 288x216 with 1 Axes>, <matplotlib.axes._subplots.AxesSubplot object at 0x7f65251acf98>), 'fig_fname': 'GANJ-42020-04-15-04-47-37.png'}\n"
     ]
    },
    {
     "data": {
      "image/png": "[encoded data removed]",
      "text/plain": [
       "<Figure size 288x216 with 1 Axes>"
      ]
     },
     "metadata": {
      "needs_background": "light"
     },
     "output_type": "display_data"
    }
   ],
   "source": [
    "volume_of = 'cc'\n",
    "hyp_name = hyp_ganj + '4' # + 'abide'\n",
    "hyp_cond = ['age<12','male'] #'fiq>0','normDev','fs','age<=20','ccant'] #\n",
    "hyp_df = apply_cond(cc_tbv, condic_cc_tbv, hyp_cond)\n",
    "print(len(hyp_df))\n",
    "\n",
    "resdic = run_hyp(hyp_df, hyp_name, hyp_Ganj+hyp_cond, \n",
    "                     ['FIQ', volume_of, 'study + tbv'], resdic=resdic, \n",
    "                     correctfor = ['study'], print_dir=figure_dir, debug=False)\n",
    "print(resdic[hyp_name])"
   ]
  },
  {
   "cell_type": "code",
   "execution_count": null,
   "metadata": {},
   "outputs": [],
   "source": []
  },
  {
   "cell_type": "markdown",
   "metadata": {},
   "source": [
    "### GANJ-5: Total Corpus Callosum midsagittal area, after correcting for total brain volume, will not significantly correlate with IQ in the female (age < 12) group.\n"
   ]
  },
  {
   "cell_type": "code",
   "execution_count": 54,
   "metadata": {},
   "outputs": [
    {
     "name": "stdout",
     "output_type": "stream",
     "text": [
      "79\n",
      "{'P>|t|': ' 0.698', 't': '   -0.390', 'rsquared_adj': '-0.0325', 'nobs': ' 79', 'conditions': ['fiq>0', 'normDev', 'fs', 'age<12', 'female'], 'variables': ['FIQ', 'cc', 'study + tbv'], 'ccoef_orig': -0.012727593491354851, 'ccoef_corr': -0.012412172934946585, 'correct_shape': (79, 11), 'correct_names': ['study'], 'figure': (<Figure size 288x216 with 1 Axes>, <matplotlib.axes._subplots.AxesSubplot object at 0x7f65250eada0>), 'fig_fname': 'GANJ-52020-04-15-04-47-38.png'}\n"
     ]
    },
    {
     "data": {
      "image/png": "[encoded data removed]",
      "text/plain": [
       "<Figure size 288x216 with 1 Axes>"
      ]
     },
     "metadata": {
      "needs_background": "light"
     },
     "output_type": "display_data"
    }
   ],
   "source": [
    "volume_of = 'cc'\n",
    "hyp_name = hyp_ganj + '5' \n",
    "hyp_cond = ['age<12','female'] # ,'abide', 'fiq>0','normDev','fs','age<=20','ccant'] #\n",
    "hyp_df = apply_cond(cc_tbv, condic_cc_tbv, hyp_cond)\n",
    "print(len(hyp_df))\n",
    "\n",
    "resdic = run_hyp(hyp_df, hyp_name, hyp_Ganj+hyp_cond, \n",
    "                     ['FIQ', volume_of, 'study + tbv'], resdic=resdic, \n",
    "                     correctfor = ['study'], print_dir=figure_dir, debug=False)\n",
    "print(resdic[hyp_name])"
   ]
  },
  {
   "cell_type": "code",
   "execution_count": 55,
   "metadata": {},
   "outputs": [
    {
     "name": "stdout",
     "output_type": "stream",
     "text": [
      "['hyp', 'PIET-1_fs', 'PIET-1_fsl', 'PIET-1_ants', 'MAC-1-fs', 'MAC-1-fsl', 'MAC-1-ants', 'MAC-2-fs', 'MAC-2-fsl', 'MAC-2-ants', 'MAC-3-fs', 'MAC-3-fsl', 'MAC-3-ants', 'GANJ-0a_cc_tbv', 'GANJ-0a_tbv_cc', 'GANJ-0b_cc_age', 'GANJ-0b_age_cc', 'GANJ-0c_age_tbv', 'GANJ-0c_tbv_age', 'GANJ-1', 'GANJ-2', 'GANJ-3', 'GANJ-4', 'GANJ-5']\n",
      "['P>|t|', 't', 'rsquared_adj', 'nobs', 'conditions', 'variables', 'ccoef_orig', 'ccoef_corr', 'correct_shape', 'correct_names', 'figure', 'fig_fname']\n",
      "{'P>|t|': ' 0.010', 't': '    2.626', 'rsquared_adj': '0.144', 'nobs': '126', 'conditions': ['fiq>0', 'normDev', 'left', 'age<20', 'female', 'fsl'], 'variables': ['FIQ', 'striatum', 'study'], 'ccoef_orig': 0.24789886533675384, 'ccoef_corr': 0.21728553567770245, 'correct_shape': (126, 15), 'correct_names': ['study'], 'figure': (<Figure size 288x216 with 1 Axes>, <matplotlib.axes._subplots.AxesSubplot object at 0x7f65255a27b8>), 'fig_fname': 'MAC-3-fsl2020-04-15-04-47-33.png'}\n"
     ]
    }
   ],
   "source": [
    "# print(resdic)\n",
    "lhyp = list(resdic.keys())\n",
    "hyp = ['hyp'] + lhyp\n",
    "\n",
    "print(hyp)\n",
    "col_names = list(resdic[lhyp[0]].keys())\n",
    "print(col_names)\n",
    "\n",
    "print(resdic['MAC-3-fsl'])"
   ]
  },
  {
   "cell_type": "code",
   "execution_count": 56,
   "metadata": {},
   "outputs": [
    {
     "data": {
      "text/html": [
       "<div>\n",
       "<style scoped>\n",
       "    .dataframe tbody tr th:only-of-type {\n",
       "        vertical-align: middle;\n",
       "    }\n",
       "\n",
       "    .dataframe tbody tr th {\n",
       "        vertical-align: top;\n",
       "    }\n",
       "\n",
       "    .dataframe thead th {\n",
       "        text-align: right;\n",
       "    }\n",
       "</style>\n",
       "<table border=\"1\" class=\"dataframe\">\n",
       "  <thead>\n",
       "    <tr style=\"text-align: right;\">\n",
       "      <th></th>\n",
       "      <th>0</th>\n",
       "      <th>1</th>\n",
       "      <th>2</th>\n",
       "      <th>3</th>\n",
       "      <th>4</th>\n",
       "      <th>5</th>\n",
       "      <th>6</th>\n",
       "      <th>7</th>\n",
       "      <th>8</th>\n",
       "      <th>9</th>\n",
       "      <th>10</th>\n",
       "      <th>11</th>\n",
       "    </tr>\n",
       "  </thead>\n",
       "  <tbody>\n",
       "    <tr>\n",
       "      <th>0</th>\n",
       "      <td>hyp</td>\n",
       "      <td>P&gt;|t|</td>\n",
       "      <td>t</td>\n",
       "      <td>rsquared_adj</td>\n",
       "      <td>nobs</td>\n",
       "      <td>conditions</td>\n",
       "      <td>variables</td>\n",
       "      <td>ccoef_orig</td>\n",
       "      <td>ccoef_corr</td>\n",
       "      <td>correct_shape</td>\n",
       "      <td>correct_names</td>\n",
       "      <td>fig_fname</td>\n",
       "    </tr>\n",
       "    <tr>\n",
       "      <th>1</th>\n",
       "      <td>PIET-1_fs</td>\n",
       "      <td>0.000</td>\n",
       "      <td>4.866</td>\n",
       "      <td>0.0986</td>\n",
       "      <td>654</td>\n",
       "      <td>[brainseg, fiq&gt;0, normDev, fs]</td>\n",
       "      <td>[FIQ, brainseg, study]</td>\n",
       "      <td>0.189408</td>\n",
       "      <td>0.180793</td>\n",
       "      <td>(654, 25)</td>\n",
       "      <td>[study]</td>\n",
       "      <td>PIET-1_fs2020-04-15-04-47-29.png</td>\n",
       "    </tr>\n",
       "    <tr>\n",
       "      <th>2</th>\n",
       "      <td>PIET-1_fsl</td>\n",
       "      <td>0.004</td>\n",
       "      <td>2.885</td>\n",
       "      <td>0.0781</td>\n",
       "      <td>649</td>\n",
       "      <td>[fiq&gt;0, normDev, fsl]</td>\n",
       "      <td>[FIQ, fsl_brainvol, study]</td>\n",
       "      <td>0.111965</td>\n",
       "      <td>0.108809</td>\n",
       "      <td>(649, 25)</td>\n",
       "      <td>[study]</td>\n",
       "      <td>PIET-1_fsl2020-04-15-04-47-29.png</td>\n",
       "    </tr>\n",
       "    <tr>\n",
       "      <th>3</th>\n",
       "      <td>PIET-1_ants</td>\n",
       "      <td>0.000</td>\n",
       "      <td>3.869</td>\n",
       "      <td>0.0964</td>\n",
       "      <td>542</td>\n",
       "      <td>[bvol, fiq&gt;0, normDev, ants]</td>\n",
       "      <td>[FIQ, ants_brainvol, study]</td>\n",
       "      <td>0.171019</td>\n",
       "      <td>0.158098</td>\n",
       "      <td>(542, 22)</td>\n",
       "      <td>[study]</td>\n",
       "      <td>PIET-1_ants2020-04-15-04-47-29.png</td>\n",
       "    </tr>\n",
       "    <tr>\n",
       "      <th>4</th>\n",
       "      <td>MAC-1-fs</td>\n",
       "      <td>0.000</td>\n",
       "      <td>4.827</td>\n",
       "      <td>0.115</td>\n",
       "      <td>535</td>\n",
       "      <td>[fiq&gt;0, normDev, left, age&lt;20, fs]</td>\n",
       "      <td>[FIQ, striatum_fs, study]</td>\n",
       "      <td>0.220487</td>\n",
       "      <td>0.196517</td>\n",
       "      <td>(535, 20)</td>\n",
       "      <td>[study]</td>\n",
       "      <td>MAC-1-fs2020-04-15-04-47-30.png</td>\n",
       "    </tr>\n",
       "    <tr>\n",
       "      <th>5</th>\n",
       "      <td>MAC-1-fsl</td>\n",
       "      <td>0.000</td>\n",
       "      <td>5.031</td>\n",
       "      <td>0.13</td>\n",
       "      <td>517</td>\n",
       "      <td>[fiq&gt;0, normDev, left, age&lt;20, fsl]</td>\n",
       "      <td>[FIQ, striatum_fsl, study]</td>\n",
       "      <td>0.217642</td>\n",
       "      <td>0.206527</td>\n",
       "      <td>(517, 21)</td>\n",
       "      <td>[study]</td>\n",
       "      <td>MAC-1-fsl2020-04-15-04-47-31.png</td>\n",
       "    </tr>\n",
       "    <tr>\n",
       "      <th>6</th>\n",
       "      <td>MAC-1-ants</td>\n",
       "      <td>0.000</td>\n",
       "      <td>4.617</td>\n",
       "      <td>0.117</td>\n",
       "      <td>488</td>\n",
       "      <td>[fiq&gt;0, normDev, left, age&lt;20, ants]</td>\n",
       "      <td>[FIQ, striatum_ants, study]</td>\n",
       "      <td>0.233701</td>\n",
       "      <td>0.196544</td>\n",
       "      <td>(488, 19)</td>\n",
       "      <td>[study]</td>\n",
       "      <td>MAC-1-ants2020-04-15-04-47-31.png</td>\n",
       "    </tr>\n",
       "    <tr>\n",
       "      <th>7</th>\n",
       "      <td>MAC-2-fs</td>\n",
       "      <td>0.000</td>\n",
       "      <td>4.536</td>\n",
       "      <td>0.133</td>\n",
       "      <td>405</td>\n",
       "      <td>[fiq&gt;0, normDev, left, age&lt;20, male, fs]</td>\n",
       "      <td>[FIQ, striatum, study]</td>\n",
       "      <td>0.229135</td>\n",
       "      <td>0.210136</td>\n",
       "      <td>(405, 20)</td>\n",
       "      <td>[study]</td>\n",
       "      <td>MAC-2-fs2020-04-15-04-47-31.png</td>\n",
       "    </tr>\n",
       "    <tr>\n",
       "      <th>8</th>\n",
       "      <td>MAC-2-fsl</td>\n",
       "      <td>0.000</td>\n",
       "      <td>4.614</td>\n",
       "      <td>0.144</td>\n",
       "      <td>391</td>\n",
       "      <td>[fiq&gt;0, normDev, left, age&lt;20, male, fsl]</td>\n",
       "      <td>[FIQ, striatum, study]</td>\n",
       "      <td>0.213887</td>\n",
       "      <td>0.216137</td>\n",
       "      <td>(391, 21)</td>\n",
       "      <td>[study]</td>\n",
       "      <td>MAC-2-fsl2020-04-15-04-47-32.png</td>\n",
       "    </tr>\n",
       "    <tr>\n",
       "      <th>9</th>\n",
       "      <td>MAC-2-ants</td>\n",
       "      <td>0.000</td>\n",
       "      <td>4.062</td>\n",
       "      <td>0.136</td>\n",
       "      <td>365</td>\n",
       "      <td>[fiq&gt;0, normDev, left, age&lt;20, male, ants]</td>\n",
       "      <td>[FIQ, striatum, study]</td>\n",
       "      <td>0.244729</td>\n",
       "      <td>0.197863</td>\n",
       "      <td>(365, 19)</td>\n",
       "      <td>[study]</td>\n",
       "      <td>MAC-2-ants2020-04-15-04-47-32.png</td>\n",
       "    </tr>\n",
       "    <tr>\n",
       "      <th>10</th>\n",
       "      <td>MAC-3-fs</td>\n",
       "      <td>0.017</td>\n",
       "      <td>2.428</td>\n",
       "      <td>0.105</td>\n",
       "      <td>130</td>\n",
       "      <td>[fiq&gt;0, normDev, left, age&lt;20, female, fs]</td>\n",
       "      <td>[FIQ, striatum, study]</td>\n",
       "      <td>0.22104</td>\n",
       "      <td>0.202291</td>\n",
       "      <td>(130, 15)</td>\n",
       "      <td>[study]</td>\n",
       "      <td>MAC-3-fs2020-04-15-04-47-32.png</td>\n",
       "    </tr>\n",
       "    <tr>\n",
       "      <th>11</th>\n",
       "      <td>MAC-3-fsl</td>\n",
       "      <td>0.010</td>\n",
       "      <td>2.626</td>\n",
       "      <td>0.144</td>\n",
       "      <td>126</td>\n",
       "      <td>[fiq&gt;0, normDev, left, age&lt;20, female, fsl]</td>\n",
       "      <td>[FIQ, striatum, study]</td>\n",
       "      <td>0.247899</td>\n",
       "      <td>0.217286</td>\n",
       "      <td>(126, 15)</td>\n",
       "      <td>[study]</td>\n",
       "      <td>MAC-3-fsl2020-04-15-04-47-33.png</td>\n",
       "    </tr>\n",
       "    <tr>\n",
       "      <th>12</th>\n",
       "      <td>MAC-3-ants</td>\n",
       "      <td>0.020</td>\n",
       "      <td>2.368</td>\n",
       "      <td>0.0927</td>\n",
       "      <td>123</td>\n",
       "      <td>[fiq&gt;0, normDev, left, age&lt;20, female, ants]</td>\n",
       "      <td>[FIQ, striatum, study]</td>\n",
       "      <td>0.202953</td>\n",
       "      <td>0.204218</td>\n",
       "      <td>(123, 14)</td>\n",
       "      <td>[study]</td>\n",
       "      <td>MAC-3-ants2020-04-15-04-47-33.png</td>\n",
       "    </tr>\n",
       "    <tr>\n",
       "      <th>13</th>\n",
       "      <td>GANJ-0a_cc_tbv</td>\n",
       "      <td>0.000</td>\n",
       "      <td>12.983</td>\n",
       "      <td>0.419</td>\n",
       "      <td>654</td>\n",
       "      <td>[fiq&gt;0, normDev, fs]</td>\n",
       "      <td>[cc, tbv, study]</td>\n",
       "      <td>0.479201</td>\n",
       "      <td>0.387355</td>\n",
       "      <td>(654, 25)</td>\n",
       "      <td>[study]</td>\n",
       "      <td>GANJ-0a_cc_tbv2020-04-15-04-47-34.png</td>\n",
       "    </tr>\n",
       "    <tr>\n",
       "      <th>14</th>\n",
       "      <td>GANJ-0a_tbv_cc</td>\n",
       "      <td>0.000</td>\n",
       "      <td>12.983</td>\n",
       "      <td>0.304</td>\n",
       "      <td>654</td>\n",
       "      <td>[fiq&gt;0, normDev, fs]</td>\n",
       "      <td>[tbv, cc, study]</td>\n",
       "      <td>0.479201</td>\n",
       "      <td>0.423704</td>\n",
       "      <td>(654, 25)</td>\n",
       "      <td>[study]</td>\n",
       "      <td>GANJ-0a_tbv_cc2020-04-15-04-47-34.png</td>\n",
       "    </tr>\n",
       "    <tr>\n",
       "      <th>15</th>\n",
       "      <td>GANJ-0b_cc_age</td>\n",
       "      <td>0.213</td>\n",
       "      <td>1.247</td>\n",
       "      <td>0.265</td>\n",
       "      <td>654</td>\n",
       "      <td>[fiq&gt;0, normDev, fs]</td>\n",
       "      <td>[cc, Age, study]</td>\n",
       "      <td>0.314612</td>\n",
       "      <td>0.0418503</td>\n",
       "      <td>(654, 25)</td>\n",
       "      <td>[study]</td>\n",
       "      <td>GANJ-0b_cc_age2020-04-15-04-47-35.png</td>\n",
       "    </tr>\n",
       "    <tr>\n",
       "      <th>16</th>\n",
       "      <td>GANJ-0b_age_cc</td>\n",
       "      <td>0.213</td>\n",
       "      <td>1.247</td>\n",
       "      <td>0.603</td>\n",
       "      <td>654</td>\n",
       "      <td>[fiq&gt;0, normDev, fs]</td>\n",
       "      <td>[Age, cc, study]</td>\n",
       "      <td>0.314612</td>\n",
       "      <td>0.0307363</td>\n",
       "      <td>(654, 25)</td>\n",
       "      <td>[study]</td>\n",
       "      <td>GANJ-0b_age_cc2020-04-15-04-47-35.png</td>\n",
       "    </tr>\n",
       "    <tr>\n",
       "      <th>17</th>\n",
       "      <td>GANJ-0c_age_tbv</td>\n",
       "      <td>0.669</td>\n",
       "      <td>-0.428</td>\n",
       "      <td>0.602</td>\n",
       "      <td>654</td>\n",
       "      <td>[fiq&gt;0, normDev, fs]</td>\n",
       "      <td>[Age, tbv, study]</td>\n",
       "      <td>0.103942</td>\n",
       "      <td>-0.0105577</td>\n",
       "      <td>(654, 25)</td>\n",
       "      <td>[study]</td>\n",
       "      <td>GANJ-0c_age_tbv2020-04-15-04-47-35.png</td>\n",
       "    </tr>\n",
       "    <tr>\n",
       "      <th>18</th>\n",
       "      <td>GANJ-0c_tbv_age</td>\n",
       "      <td>0.669</td>\n",
       "      <td>-0.428</td>\n",
       "      <td>0.118</td>\n",
       "      <td>654</td>\n",
       "      <td>[fiq&gt;0, normDev, fs]</td>\n",
       "      <td>[tbv, Age, study]</td>\n",
       "      <td>0.103942</td>\n",
       "      <td>-0.0157243</td>\n",
       "      <td>(654, 25)</td>\n",
       "      <td>[study]</td>\n",
       "      <td>GANJ-0c_tbv_age2020-04-15-04-47-35.png</td>\n",
       "    </tr>\n",
       "    <tr>\n",
       "      <th>19</th>\n",
       "      <td>GANJ-1</td>\n",
       "      <td>0.822</td>\n",
       "      <td>0.225</td>\n",
       "      <td>0.108</td>\n",
       "      <td>535</td>\n",
       "      <td>[fiq&gt;0, normDev, fs, age&lt;20]</td>\n",
       "      <td>[FIQ, cc, study + tbv]</td>\n",
       "      <td>0.0402937</td>\n",
       "      <td>0.0929014</td>\n",
       "      <td>(535, 20)</td>\n",
       "      <td>[study]</td>\n",
       "      <td>GANJ-12020-04-15-04-47-36.png</td>\n",
       "    </tr>\n",
       "    <tr>\n",
       "      <th>20</th>\n",
       "      <td>GANJ-2</td>\n",
       "      <td>0.585</td>\n",
       "      <td>0.547</td>\n",
       "      <td>0.0926</td>\n",
       "      <td>270</td>\n",
       "      <td>[fiq&gt;0, normDev, fs, age&lt;12]</td>\n",
       "      <td>[FIQ, cc, study + tbv]</td>\n",
       "      <td>0.0386391</td>\n",
       "      <td>0.085337</td>\n",
       "      <td>(270, 17)</td>\n",
       "      <td>[study]</td>\n",
       "      <td>GANJ-22020-04-15-04-47-37.png</td>\n",
       "    </tr>\n",
       "    <tr>\n",
       "      <th>21</th>\n",
       "      <td>GANJ-3</td>\n",
       "      <td>0.886</td>\n",
       "      <td>-0.143</td>\n",
       "      <td>0.0917</td>\n",
       "      <td>384</td>\n",
       "      <td>[fiq&gt;0, normDev, fs, age&gt;=12]</td>\n",
       "      <td>[FIQ, cc, study + tbv]</td>\n",
       "      <td>0.16271</td>\n",
       "      <td>0.0947787</td>\n",
       "      <td>(384, 24)</td>\n",
       "      <td>[study]</td>\n",
       "      <td>GANJ-32020-04-15-04-47-37.png</td>\n",
       "    </tr>\n",
       "    <tr>\n",
       "      <th>22</th>\n",
       "      <td>GANJ-4</td>\n",
       "      <td>0.224</td>\n",
       "      <td>1.221</td>\n",
       "      <td>0.122</td>\n",
       "      <td>191</td>\n",
       "      <td>[fiq&gt;0, normDev, fs, age&lt;12, male]</td>\n",
       "      <td>[FIQ, cc, study + tbv]</td>\n",
       "      <td>0.0565208</td>\n",
       "      <td>0.139976</td>\n",
       "      <td>(191, 16)</td>\n",
       "      <td>[study]</td>\n",
       "      <td>GANJ-42020-04-15-04-47-37.png</td>\n",
       "    </tr>\n",
       "    <tr>\n",
       "      <th>23</th>\n",
       "      <td>GANJ-5</td>\n",
       "      <td>0.698</td>\n",
       "      <td>-0.390</td>\n",
       "      <td>-0.0325</td>\n",
       "      <td>79</td>\n",
       "      <td>[fiq&gt;0, normDev, fs, age&lt;12, female]</td>\n",
       "      <td>[FIQ, cc, study + tbv]</td>\n",
       "      <td>-0.0127276</td>\n",
       "      <td>-0.0124122</td>\n",
       "      <td>(79, 11)</td>\n",
       "      <td>[study]</td>\n",
       "      <td>GANJ-52020-04-15-04-47-38.png</td>\n",
       "    </tr>\n",
       "  </tbody>\n",
       "</table>\n",
       "</div>"
      ],
      "text/plain": [
       "                 0       1          2             3     4   \\\n",
       "0               hyp   P>|t|          t  rsquared_adj  nobs   \n",
       "1         PIET-1_fs   0.000      4.866        0.0986   654   \n",
       "2        PIET-1_fsl   0.004      2.885        0.0781   649   \n",
       "3       PIET-1_ants   0.000      3.869        0.0964   542   \n",
       "4          MAC-1-fs   0.000      4.827         0.115   535   \n",
       "5         MAC-1-fsl   0.000      5.031          0.13   517   \n",
       "6        MAC-1-ants   0.000      4.617         0.117   488   \n",
       "7          MAC-2-fs   0.000      4.536         0.133   405   \n",
       "8         MAC-2-fsl   0.000      4.614         0.144   391   \n",
       "9        MAC-2-ants   0.000      4.062         0.136   365   \n",
       "10         MAC-3-fs   0.017      2.428         0.105   130   \n",
       "11        MAC-3-fsl   0.010      2.626         0.144   126   \n",
       "12       MAC-3-ants   0.020      2.368        0.0927   123   \n",
       "13   GANJ-0a_cc_tbv   0.000     12.983         0.419   654   \n",
       "14   GANJ-0a_tbv_cc   0.000     12.983         0.304   654   \n",
       "15   GANJ-0b_cc_age   0.213      1.247         0.265   654   \n",
       "16   GANJ-0b_age_cc   0.213      1.247         0.603   654   \n",
       "17  GANJ-0c_age_tbv   0.669     -0.428         0.602   654   \n",
       "18  GANJ-0c_tbv_age   0.669     -0.428         0.118   654   \n",
       "19           GANJ-1   0.822      0.225         0.108   535   \n",
       "20           GANJ-2   0.585      0.547        0.0926   270   \n",
       "21           GANJ-3   0.886     -0.143        0.0917   384   \n",
       "22           GANJ-4   0.224      1.221         0.122   191   \n",
       "23           GANJ-5   0.698     -0.390       -0.0325    79   \n",
       "\n",
       "                                              5                            6   \\\n",
       "0                                     conditions                    variables   \n",
       "1                 [brainseg, fiq>0, normDev, fs]       [FIQ, brainseg, study]   \n",
       "2                          [fiq>0, normDev, fsl]   [FIQ, fsl_brainvol, study]   \n",
       "3                   [bvol, fiq>0, normDev, ants]  [FIQ, ants_brainvol, study]   \n",
       "4             [fiq>0, normDev, left, age<20, fs]    [FIQ, striatum_fs, study]   \n",
       "5            [fiq>0, normDev, left, age<20, fsl]   [FIQ, striatum_fsl, study]   \n",
       "6           [fiq>0, normDev, left, age<20, ants]  [FIQ, striatum_ants, study]   \n",
       "7       [fiq>0, normDev, left, age<20, male, fs]       [FIQ, striatum, study]   \n",
       "8      [fiq>0, normDev, left, age<20, male, fsl]       [FIQ, striatum, study]   \n",
       "9     [fiq>0, normDev, left, age<20, male, ants]       [FIQ, striatum, study]   \n",
       "10    [fiq>0, normDev, left, age<20, female, fs]       [FIQ, striatum, study]   \n",
       "11   [fiq>0, normDev, left, age<20, female, fsl]       [FIQ, striatum, study]   \n",
       "12  [fiq>0, normDev, left, age<20, female, ants]       [FIQ, striatum, study]   \n",
       "13                          [fiq>0, normDev, fs]             [cc, tbv, study]   \n",
       "14                          [fiq>0, normDev, fs]             [tbv, cc, study]   \n",
       "15                          [fiq>0, normDev, fs]             [cc, Age, study]   \n",
       "16                          [fiq>0, normDev, fs]             [Age, cc, study]   \n",
       "17                          [fiq>0, normDev, fs]            [Age, tbv, study]   \n",
       "18                          [fiq>0, normDev, fs]            [tbv, Age, study]   \n",
       "19                  [fiq>0, normDev, fs, age<20]       [FIQ, cc, study + tbv]   \n",
       "20                  [fiq>0, normDev, fs, age<12]       [FIQ, cc, study + tbv]   \n",
       "21                 [fiq>0, normDev, fs, age>=12]       [FIQ, cc, study + tbv]   \n",
       "22            [fiq>0, normDev, fs, age<12, male]       [FIQ, cc, study + tbv]   \n",
       "23          [fiq>0, normDev, fs, age<12, female]       [FIQ, cc, study + tbv]   \n",
       "\n",
       "            7           8              9              10  \\\n",
       "0   ccoef_orig  ccoef_corr  correct_shape  correct_names   \n",
       "1     0.189408    0.180793      (654, 25)        [study]   \n",
       "2     0.111965    0.108809      (649, 25)        [study]   \n",
       "3     0.171019    0.158098      (542, 22)        [study]   \n",
       "4     0.220487    0.196517      (535, 20)        [study]   \n",
       "5     0.217642    0.206527      (517, 21)        [study]   \n",
       "6     0.233701    0.196544      (488, 19)        [study]   \n",
       "7     0.229135    0.210136      (405, 20)        [study]   \n",
       "8     0.213887    0.216137      (391, 21)        [study]   \n",
       "9     0.244729    0.197863      (365, 19)        [study]   \n",
       "10     0.22104    0.202291      (130, 15)        [study]   \n",
       "11    0.247899    0.217286      (126, 15)        [study]   \n",
       "12    0.202953    0.204218      (123, 14)        [study]   \n",
       "13    0.479201    0.387355      (654, 25)        [study]   \n",
       "14    0.479201    0.423704      (654, 25)        [study]   \n",
       "15    0.314612   0.0418503      (654, 25)        [study]   \n",
       "16    0.314612   0.0307363      (654, 25)        [study]   \n",
       "17    0.103942  -0.0105577      (654, 25)        [study]   \n",
       "18    0.103942  -0.0157243      (654, 25)        [study]   \n",
       "19   0.0402937   0.0929014      (535, 20)        [study]   \n",
       "20   0.0386391    0.085337      (270, 17)        [study]   \n",
       "21     0.16271   0.0947787      (384, 24)        [study]   \n",
       "22   0.0565208    0.139976      (191, 16)        [study]   \n",
       "23  -0.0127276  -0.0124122       (79, 11)        [study]   \n",
       "\n",
       "                                        11  \n",
       "0                                fig_fname  \n",
       "1         PIET-1_fs2020-04-15-04-47-29.png  \n",
       "2        PIET-1_fsl2020-04-15-04-47-29.png  \n",
       "3       PIET-1_ants2020-04-15-04-47-29.png  \n",
       "4          MAC-1-fs2020-04-15-04-47-30.png  \n",
       "5         MAC-1-fsl2020-04-15-04-47-31.png  \n",
       "6        MAC-1-ants2020-04-15-04-47-31.png  \n",
       "7          MAC-2-fs2020-04-15-04-47-31.png  \n",
       "8         MAC-2-fsl2020-04-15-04-47-32.png  \n",
       "9        MAC-2-ants2020-04-15-04-47-32.png  \n",
       "10         MAC-3-fs2020-04-15-04-47-32.png  \n",
       "11        MAC-3-fsl2020-04-15-04-47-33.png  \n",
       "12       MAC-3-ants2020-04-15-04-47-33.png  \n",
       "13   GANJ-0a_cc_tbv2020-04-15-04-47-34.png  \n",
       "14   GANJ-0a_tbv_cc2020-04-15-04-47-34.png  \n",
       "15   GANJ-0b_cc_age2020-04-15-04-47-35.png  \n",
       "16   GANJ-0b_age_cc2020-04-15-04-47-35.png  \n",
       "17  GANJ-0c_age_tbv2020-04-15-04-47-35.png  \n",
       "18  GANJ-0c_tbv_age2020-04-15-04-47-35.png  \n",
       "19           GANJ-12020-04-15-04-47-36.png  \n",
       "20           GANJ-22020-04-15-04-47-37.png  \n",
       "21           GANJ-32020-04-15-04-47-37.png  \n",
       "22           GANJ-42020-04-15-04-47-37.png  \n",
       "23           GANJ-52020-04-15-04-47-38.png  "
      ]
     },
     "execution_count": 56,
     "metadata": {},
     "output_type": "execute_result"
    }
   ],
   "source": [
    "datares = []\n",
    "lhyp = list(resdic.keys())\n",
    "hyp = ['hyp'] + lhyp\n",
    "\n",
    "col_names = list(resdic[lhyp[0]].keys())\n",
    "for idx, col in enumerate(col_names):\n",
    "    if not col == 'figure':\n",
    "        datares.append( [col] + [resdic[h][col] for h in lhyp]  )\n",
    "\n",
    "datares = [hyp] + datares\n",
    "resdf = pd.DataFrame.from_records(datares).transpose()\n",
    "resdf.head(50)"
   ]
  },
  {
   "cell_type": "code",
   "execution_count": 57,
   "metadata": {},
   "outputs": [],
   "source": [
    "timestr = strftime(\"%Y-%m-%d-%H-%M-%S\", gmtime())\n",
    "output_filename = csv_filename[:-4]+'-'+timestr+'.csv'\n",
    "resdf.to_csv(path_or_buf = output_filename, index=False)"
   ]
  },
  {
   "cell_type": "code",
   "execution_count": 58,
   "metadata": {},
   "outputs": [
    {
     "data": {
      "text/plain": [
       "'/home/jb/code/repronim/simple2/simple2_analysis'"
      ]
     },
     "execution_count": 58,
     "metadata": {},
     "output_type": "execute_result"
    }
   ],
   "source": [
    "pwd"
   ]
  },
  {
   "cell_type": "markdown",
   "metadata": {},
   "source": [
    "### Scrap"
   ]
  },
  {
   "cell_type": "code",
   "execution_count": 59,
   "metadata": {},
   "outputs": [],
   "source": [
    "\"\"\"\n",
    "hyp2 = ['fiq>0','normDev','fs','age<20']\n",
    "hyp2_caud = hyp2 + ['caudate'] # ,'abide']\n",
    "hyp2_put = hyp2 + ['putamen'] # ,'abide']\n",
    "hyp2_tiv = hyp2 + ['TIV'] # ,'abide']\n",
    "tmp_caud = apply_cond(hie, condic, hyp2_caud, dropnaset=dropnaset)\n",
    "caud = split_merge_df(tmp_caud, indx='ID', spliton='laterality', levels=['Left','Right'], \n",
    "                       keep_col='volume', op='+',colrename='caudate')\n",
    "tmp_put = apply_cond(hie, condic, hyp2_put, dropnaset=dropnaset)\n",
    "put = split_merge_df(tmp_put, indx='ID', spliton='laterality', levels=['Left','Right'], \n",
    "                       keep_col='volume', op='+',colrename='putamen')\n",
    "tmp_tiv = apply_cond(hie, condic, hyp2_tiv, dropnaset=dropnaset)\n",
    "print(len(caud), len(put), len(tmp_tiv))\n",
    "\n",
    "stria = pd.merge(left=caud, right=put[['ID','putamen']], left_on='ID', right_on='ID')\n",
    "stria['striatum'] = stria['caudate']+stria['putamen']\n",
    "stria = pd.merge(left=stria, right=tmp_tiv[['ID','volume']], left_on='ID', right_on='ID')\n",
    "stria.rename(columns={'volume':'TIV'},inplace=True)\n",
    "print(list(stria),len(stria))\n",
    "\"\"\";\n",
    "\n",
    "\"\"\"\n",
    "cond_mac = ['fiq>0','normDev', softw,] # ,'age<20']\n",
    "mac_caud = cond_mac + ['caudate'] #\n",
    "mac_put = cond_mac + ['putamen'] #\n",
    "mac_tiv = cond_mac + ['fiq>0','normDev',softw,'TIV'] #\n",
    "\n",
    "left_caud = apply_cond(hie, condic, mac_caud, dropnaset=dropnaset, columns={'volume':'caudate'})\n",
    "left_put = apply_cond(hie, condic, mac_put, dropnaset=dropnaset, columns={'volume':'putamen'})\n",
    "\n",
    "left_stria = pd.merge(left=left_caud, right=left_put[['ID','putamen']], left_on='ID', right_on='ID')\n",
    "left_stria['striatum'] = left_stria['caudate'] + left_stria['putamen']\n",
    "left_stria_condic = define_conditions(left_stria, tooldic=tooldic, normalDev=normalDev, adhd=adhd, h2ube=h2ube)\n",
    "print(len(left_stria))\n",
    "\n",
    "\"\"\";\n",
    "\n",
    "\n",
    "\"\"\" \n",
    "iq = 'FIQ'\n",
    "\n",
    "# md = smf.ols(iq + \" ~ Q('volume') + Gender + Age + study \", data=tmp) #  \n",
    "# md = smf.ols(iq + \" ~ Q('striatum') + study + TIV \", data=stria) #  \n",
    "md = smf.ols(iq + \" ~ Q('striatum') + study \", data=mac1) #  \n",
    "mdf = md.fit()\n",
    "print(mdf.summary())\n",
    "\n",
    "varname = \"Q('striatum')\"\n",
    "hyp_name = 'MAC-1'\n",
    "resdic.update(md2dic(varname, hyp_name, cond_mac+mac1_cond, mdf=mdf))\n",
    "\"\"\";\n",
    "\n",
    "\n",
    "\"\"\"\n",
    "#ganj1 = apply_cond(cc_tbv, condic_cc_tbv, ganj1_cond)\n",
    "#print(list(ganj1),len(ganj1))\n",
    "\n",
    "#iq = 'FIQ'\n",
    "# md = smf.ols(iq + \" ~ Q('volume') + Gender + Age + study \", data=tmp) #  \n",
    "#md = smf.ols(iq + \" ~ Q('striatum') + study + TIV \", data=stria) #  \n",
    "#md = smf.ols(iq + \" ~ Q('cc') + study + tbv \", data=ganj1) #  \n",
    "#mdf = md.fit()\n",
    "#print(mdf.summary())\n",
    "\n",
    "#varname, hyp_name = \"Q('cc')\",'GANJ-1'\n",
    "#resdic.update(md2dic(varname, hyp_name, hypGanj+ganj1_cond, mdf=mdf))\n",
    "\"\"\";\n",
    "\n",
    "\"\"\"\n",
    "ganj2_cond = ['age<12'] #'fiq>0','normDev','fs','age<=20','ccant'] #\n",
    "ganj2 = apply_cond(cc_tbv, condic_cc_tbv, ganj2_cond)\n",
    "print(list(ganj2),len(ganj2));\n",
    "\n",
    "iq = 'FIQ'\n",
    "# md = smf.ols(iq + \" ~ Q('volume') + Gender + Age + study \", data=tmp) #  \n",
    "#md = smf.ols(iq + \" ~ Q('striatum') + study + TIV \", data=stria) #  \n",
    "md = smf.ols(iq + \" ~ Q('cc') + study + tbv \", data=ganj2) #  \n",
    "mdf = md.fit()\n",
    "print(mdf.summary())\n",
    "\n",
    "varname, hyp_name = \"Q('cc')\",'GANJ-2'\n",
    "resdic.update(md2dic(varname, hyp_name, hypGanj+ganj2_cond, mdf=mdf))\n",
    "\"\"\";\n",
    "\n",
    "\"\"\"ganj3_cond = ['age>=12'] #\n",
    "ganj3 = apply_cond(cc_tbv, condic_cc_tbv, ganj3_cond)\n",
    "print(len(ganj3))\n",
    "\n",
    "iq = 'FIQ'\n",
    "# md = smf.ols(iq + \" ~ Q('volume') + Gender + Age + study \", data=tmp) #  \n",
    "#md = smf.ols(iq + \" ~ Q('striatum') + study + TIV \", data=stria) #  \n",
    "md = smf.ols(iq + \" ~ Q('cc') + study + tbv \", data=ganj3) #  \n",
    "mdf = md.fit()\n",
    "print(mdf.summary())\n",
    "\n",
    "\n",
    "varname, hyp_name = \"Q('cc')\",'GANJ-3'\n",
    "resdic.update(md2dic(varname, hyp_name, hypGanj+ganj3_cond, mdf=mdf))\"\"\";"
   ]
  },
  {
   "cell_type": "code",
   "execution_count": 60,
   "metadata": {},
   "outputs": [],
   "source": [
    "\n",
    "# original_col_names = list(hie)\n",
    "# column names are unique\n",
    "# assert len(original_col_names) == len(set(original_col_names))\n",
    "# print(list(hie))\n",
    "#col_rename = {'federatedLabel':'structure'}\n",
    "#hie.rename(columns=col_rename, inplace=True)\n"
   ]
  },
  {
   "cell_type": "code",
   "execution_count": 61,
   "metadata": {},
   "outputs": [],
   "source": [
    "# check numbers directly, bypassing convenient functions\n",
    "\n",
    "\"\"\"csv_filename = '2020-02-11-simple2_query_output.csv'\n",
    "relative_dir = './data'\n",
    "relative_path_filename = osp.join(relative_dir, csv_filename)\n",
    "assert osp.exists(relative_path_filename)\n",
    "\n",
    "hie = pd.read_csv(relative_path_filename, na_values='nd') #, low_memory=False)set(hie['study'])\n",
    "\n",
    "htmp = hie[(hie['study'].str.contains(\"ADHD\"))]\n",
    "_adhd = len(set(htmp['ID']))\n",
    "htmp = hie[(hie['study'].str.contains(\"ABIDE\"))]\n",
    "_abide = len(set(htmp['ID']))\n",
    "\n",
    "print(len(set(hie['ID'])))\n",
    "print(_adhd, _abide, _adhd + _abide)\n",
    "\"\"\";"
   ]
  },
  {
   "cell_type": "code",
   "execution_count": null,
   "metadata": {},
   "outputs": [],
   "source": [
    "\n"
   ]
  },
  {
   "cell_type": "code",
   "execution_count": 62,
   "metadata": {},
   "outputs": [],
   "source": [
    "\"\"\"\n",
    "condic = define_conditions(hie, tooldic=tooldic, normalDev=normalDev, patient=patient, h2ube=h2ube)\n",
    "condic.keys()\n",
    "print(list(hie))\n",
    "# hyp_cond = ['age<20','female', 'adhd200' ]\n",
    "hyp_cond = ['adhd200' ]\n",
    "hyp_df = apply_cond(hie, condic, hyp_cond)\n",
    "print(len(hyp_df))\n",
    "len(set(hyp_df['ID']))\n",
    "\"\"\";"
   ]
  },
  {
   "cell_type": "code",
   "execution_count": 63,
   "metadata": {},
   "outputs": [
    {
     "ename": "IndentationError",
     "evalue": "unexpected indent (<ipython-input-63-7f7b181c75ab>, line 5)",
     "output_type": "error",
     "traceback": [
      "\u001b[0;36m  File \u001b[0;32m\"<ipython-input-63-7f7b181c75ab>\"\u001b[0;36m, line \u001b[0;32m5\u001b[0m\n\u001b[0;31m    1. split the df according to 2 (n?) levels of \"spliton\"\u001b[0m\n\u001b[0m    ^\u001b[0m\n\u001b[0;31mIndentationError\u001b[0m\u001b[0;31m:\u001b[0m unexpected indent\n"
     ]
    }
   ],
   "source": [
    "\"\"\"\n",
    "def split_merge_df(df, indx='ID', spliton='laterality', levels=['Left','Right'], \n",
    "                       keep_col='volume', op='+', colrename=None):\n",
    "    \"\"\"\n",
    "    1. split the df according to 2 (n?) levels of \"spliton\"\n",
    "    2. merge the 2 (n?) dataframes using indx as index\n",
    "    3. keep only \"keep_col\" for the right temporary dataframe\n",
    "    4. perform operation 'op' on the columns \"keep_col\" and name it \n",
    "       'keep_col'+'_'+ levels[0] + op + levels[1]    \n",
    "    \n",
    "    Was developed for adding volumes in right and left structures\n",
    "    \"\"\"\n",
    "    \n",
    "    dflev1 = df[df[spliton]==levels[0]]\n",
    "    dflev2 = df[df[spliton]==levels[1]] \n",
    "\n",
    "    # check that the new dfs have no duplicates in the indx\n",
    "\n",
    "    assert set(dflev1[indx]) == set(dflev2[indx])\n",
    "    assert len(set(dflev1[indx])) == len(dflev1[indx])\n",
    "    \n",
    "    # assert len(set(dflev2[indx])) == len(dflev2[indx])\n",
    "    # suffixes=('_l','_r')\n",
    "    merged_inner = pd.merge(left=dflev1, right=dflev2[[indx,keep_col]], \n",
    "                            left_on=indx, right_on=indx, suffixes=levels, how='inner')\n",
    "#    merged_inner.rename(columns={cols+'_x': cols+'_'+lev1, cols+'_y': cols+'_'+lev2}, inplace=True)\n",
    "\n",
    "    # sum keep_col values in a new column\n",
    "    add_col_name = keep_col + levels[0] + op + levels[1]\n",
    "    if op == '+':\n",
    "        merged_inner[add_col_name] = \\\n",
    "                        merged_inner[keep_col+levels[0]] + merged_inner[keep_col+levels[1]]  \n",
    "    if colrename is not None:\n",
    "        merged_inner.rename(columns={add_col_name:colrename}, inplace=True)\n",
    "    return merged_inner\n",
    "\"\"\"\n",
    "\n",
    "\"\"\"\n",
    "    if droplist != []:\n",
    "        for colname in droplist:\n",
    "            colname_y = colname + '_y'\n",
    "            colname_x = colname + '_x'\n",
    "            merged_inner.drop(colname_y, axis=1, inplace=True)\n",
    "            merged_inner.rename(columns={colname_x: colname}, inplace=True)\n",
    "\"\"\";"
   ]
  },
  {
   "cell_type": "code",
   "execution_count": null,
   "metadata": {},
   "outputs": [],
   "source": [
    "\"\"\"\n",
    "def pivot_and_add(df, index, columns, values, add_col, keep_cols):\n",
    "    \"\"\"\n",
    "    index: will be the index of the returned df\n",
    "    columns: return df will be \"wide\" based on the values of columns\n",
    "    values: content of the wide df\n",
    "    add_col: name of the column where values of columns are added\n",
    "    keep_cols: list of column names to keep\n",
    "    \n",
    "    \"\"\"\n",
    "    # index='ID', columns='softwareLabel', values='volume'\n",
    "    \n",
    "    add_cols = list(set(df[columns])) # find values in columns\n",
    "    df.drop_duplicates([index, columns, values], inplace=True)\n",
    "    newdf = df.pivot(index=index, columns=columns, values=values).dropna()\n",
    "    newdf.reset_index() # put the index, 'ID' here, back in a column\n",
    "    newdf[add_col] = newdf.loc[:,add_cols].sum(axis=1)\n",
    "    newdf.drop(add_cols, axis=1, inplace=True)\n",
    "    \n",
    "    assert not ('ID' in keep_cols)\n",
    "    \n",
    "    # now, create a df with keep_cols:\n",
    "    keepdf = df[['ID'] + keep_cols].drop_duplicates()\n",
    "    # print(len(keepdf),len(newdf))\n",
    "    newdf = pd.merge(left=newdf, right=keepdf, left_on='ID', right_on='ID').dropna()\n",
    "    # print(len(newdf),len(newdf.dropna()))\n",
    "    del keepdf\n",
    "    \n",
    "    return newdf\n",
    "\"\"\";"
   ]
  },
  {
   "cell_type": "code",
   "execution_count": null,
   "metadata": {},
   "outputs": [],
   "source": []
  },
  {
   "cell_type": "code",
   "execution_count": null,
   "metadata": {},
   "outputs": [],
   "source": [
    "import numpy as np\n",
    "from numpy.polynomial.polynomial import polyfit as thispoly\n",
    "from numpy import polyfit as thatpoly\n",
    "print(np.__version__)\n",
    "\n",
    "x = np.linspace(-2, 2, 30)\n",
    "n = np.random.randn(30)*.1\n",
    "f, ax = plt.subplots(figsize=(3,2))\n",
    "a1, a0 = thatpoly(x, 2*x + 1 + n , 1)\n",
    "\n",
    "ax.plot(x, 2*x +1, 'b-')\n",
    "ax.plot(x, a0 + a1 * x + n, 'r.');"
   ]
  },
  {
   "cell_type": "code",
   "execution_count": null,
   "metadata": {},
   "outputs": [],
   "source": [
    "type(fig).__name__"
   ]
  },
  {
   "cell_type": "code",
   "execution_count": null,
   "metadata": {},
   "outputs": [],
   "source": [
    "type(fig)"
   ]
  },
  {
   "cell_type": "code",
   "execution_count": null,
   "metadata": {},
   "outputs": [],
   "source": []
  },
  {
   "cell_type": "code",
   "execution_count": null,
   "metadata": {},
   "outputs": [],
   "source": [
    "\"\"\"volume_of = 'brainseg'\n",
    "hyp_name = 'PIET-1_fs'\n",
    "\n",
    "print(list(hie))\n",
    "\n",
    "PIET_1_fs = ['brainseg', 'fiq>0','normDev', 'fs'] # 'bvol','ants','abide']\n",
    "PIET_1_fs_df = apply_cond(hie, condic, PIET_1_fs, dropnaset=dropnaset, \n",
    "                          columns={'volume':volume_of})\n",
    "\n",
    "print('len(PIET_1_fs_df)',len(PIET_1_fs_df))\n",
    "print(list(PIET_1_fs_df))\n",
    "\n",
    "modeldata = smf.ols('FIQ ~ brainseg + study', data=PIET_1_fs_df)\n",
    "modeldatafit = modeldata.fit()\n",
    "\n",
    "print(modeldatafit)\n",
    "# resdic = run_hyp(PIET_1_fs_df, hyp_name, PIET_1_fs, ['FIQ', volume_of, 'study'], \n",
    "#                 resdic={}, debug=False)\n",
    "\"\"\";\n",
    "#plt.plot(PIET_1_fs_df['FIQ'],PIET_1_fs_df['brainseg'],'.')\n",
    "\"\"\"\n",
    "print(modeldata.endog_names, modeldata.exog_names)\n",
    "\n",
    "# get columns in correctfor\n",
    "print(modeldata.exog.shape)\n",
    "correctfor = ['study']\n",
    "indx = []\n",
    "for correct in correctfor:\n",
    "    indx += [modeldata.exog_names.index(col) for col in modeldata.exog_names if correct in col]\n",
    "\n",
    "print(list(set(indx)))\n",
    "print(modeldata.exog[:,indx].shape)\n",
    "\n",
    "assert np.alltrue(modeldata.exog[:,0]==1)\n",
    "assert np.alltrue(modeldata.endog[:] == PIET_1_fs_df['FIQ'])\n",
    "\n",
    "#modeldatafit.predict()\n",
    "print(modeldata.exog[500:560,indx])\n",
    "print(indx)\n",
    "\"\"\";"
   ]
  }
 ],
 "metadata": {
  "kernelspec": {
   "display_name": "Python 3",
   "language": "python",
   "name": "python3"
  },
  "language_info": {
   "codemirror_mode": {
    "name": "ipython",
    "version": 3
   },
   "file_extension": ".py",
   "mimetype": "text/x-python",
   "name": "python",
   "nbconvert_exporter": "python",
   "pygments_lexer": "ipython3",
   "version": "3.6.8"
  },
  "toc": {
   "nav_menu": {},
   "number_sections": true,
   "sideBar": true,
   "skip_h1_title": false,
   "toc_cell": false,
   "toc_position": {},
   "toc_section_display": "block",
   "toc_window_display": false
  }
 },
 "nbformat": 4,
 "nbformat_minor": 2
}
