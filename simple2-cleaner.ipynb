{
 "cells": [
  {
   "cell_type": "code",
   "execution_count": 1,
   "metadata": {},
   "outputs": [],
   "source": [
    "import pandas as pd\n",
    "import numpy as np\n",
    "import statsmodels as stt\n",
    "import scipy.stats as sst\n",
    "import os.path as osp\n",
    "from statsmodels import api as sm\n",
    "import statsmodels.formula.api as smf\n",
    "import matplotlib.pyplot as plt\n",
    "import json\n",
    "%matplotlib inline"
   ]
  },
  {
   "cell_type": "code",
   "execution_count": 2,
   "metadata": {},
   "outputs": [
    {
     "name": "stdout",
     "output_type": "stream",
     "text": [
      "/home/jb/code/repronim/simple2/simple2_analysis\n"
     ]
    }
   ],
   "source": [
    "print(osp.realpath(osp.curdir))\n",
    "relative_path_filename = './data/2019-12-03-simple2_query_output.csv'\n",
    "assert osp.exists(relative_path_filename)"
   ]
  },
  {
   "cell_type": "code",
   "execution_count": 3,
   "metadata": {},
   "outputs": [
    {
     "name": "stdout",
     "output_type": "stream",
     "text": [
      "['study', 'ID', 'Age', 'dx', 'Gender', 'FIQ', 'PIQ', 'VIQ', 'tool', 'softwareLabel', 'federatedLabel', 'laterality', 'volume']\n",
      "['study', 'ID', 'Age', 'dx', 'Gender', 'FIQ', 'PIQ', 'VIQ', 'tool', 'softwareLabel', 'structure', 'laterality', 'volume']\n"
     ]
    },
    {
     "name": "stderr",
     "output_type": "stream",
     "text": [
      "/home/jb/virtualenvs/simple2/lib/python3.6/site-packages/IPython/core/interactiveshell.py:3049: DtypeWarning: Columns (3) have mixed types. Specify dtype option on import or set low_memory=False.\n",
      "  interactivity=interactivity, compiler=compiler, result=result)\n"
     ]
    }
   ],
   "source": [
    "hie = pd.read_csv(relative_path_filename, na_values='nd') #, low_memory=False)\n",
    "original_col_names = list(hie)\n",
    "# column names are unique\n",
    "assert len(original_col_names) == len(set(original_col_names))\n",
    "print(list(hie))\n",
    "col_rename = {'federatedLabel':'structure'}\n",
    "hie.rename(columns=col_rename, inplace=True)\n",
    "print(list(hie))"
   ]
  },
  {
   "cell_type": "code",
   "execution_count": 4,
   "metadata": {},
   "outputs": [],
   "source": [
    "# mapping_file = '../segstats_jsonld/segstats_jsonld/mapping_data/freesurfermap.json'\n",
    "mapping_file = '../segstats_jsonld/segstats_jsonld/mapping_data/freesurfer-cdes.json'\n",
    "assert osp.exists(mapping_file)\n",
    "with open(mapping_file, \"r\") as read_file:\n",
    "    roi_map = json.load(read_file)"
   ]
  },
  {
   "cell_type": "code",
   "execution_count": 5,
   "metadata": {},
   "outputs": [],
   "source": [
    "ube2h = {}\n",
    "label2ube = {}\n",
    "countok=0\n",
    "has_no_isAbout = []\n",
    "has_no_label = []\n",
    "\n",
    "for (k,v) in roi_map.items():\n",
    "    \n",
    "    # discard 'count'\n",
    "    if k == 'count': pass\n",
    "    \n",
    "    # v is a dict that contains the CDE - check that we have a isAbout and label    \n",
    "    elif 'isAbout' in v:\n",
    "        countok += 1\n",
    "        if 'label' in v:\n",
    "            if v['label'] != '' and v['label'] not in ('None','none'):\n",
    "                #ube['<' + v['isAbout'] + '>'] = v['label']\n",
    "                #ebu[v['label']] = '<' + v['isAbout'] + '>'\n",
    "                label2ube[v['label']] = v['isAbout']\n",
    "                if v['isAbout'] not in ube2h.keys():\n",
    "                    no_right_or_left = v['label']\n",
    "                    no_right_or_left = no_right_or_left.replace('Right-','')\n",
    "                    no_right_or_left = no_right_or_left.replace('Right ','')\n",
    "                    no_right_or_left = no_right_or_left.replace('Left-','')\n",
    "                    no_right_or_left = no_right_or_left.replace('Left ','')\n",
    "                    no_right_or_left = no_right_or_left.replace(' NVoxels','')\n",
    "                    no_right_or_left = no_right_or_left.replace(' (mm^3)','')\n",
    "                    ube2h[v['isAbout']] = no_right_or_left\n",
    "            else:\n",
    "                has_no_label.append(k)\n",
    "\n",
    "assert has_no_isAbout == []\n",
    "assert countok == len(label2ube)"
   ]
  },
  {
   "cell_type": "code",
   "execution_count": 6,
   "metadata": {},
   "outputs": [],
   "source": [
    "label2ube;\n",
    "ube2h\n",
    "h2ube = {v: k for k, v in ube2h.items()}"
   ]
  },
  {
   "cell_type": "code",
   "execution_count": null,
   "metadata": {},
   "outputs": [],
   "source": []
  },
  {
   "cell_type": "code",
   "execution_count": 7,
   "metadata": {},
   "outputs": [],
   "source": [
    "def split_merge_df(df, indx='ID', spliton='laterality', levels=['Left','Right'], \n",
    "                       keep_col='volume', op='+', colrename=None):\n",
    "    \"\"\"\n",
    "    1. split the df according to 2 (n?) levels of \"spliton\"\n",
    "    2. merge the 2 (n?) df using indx as index\n",
    "    3. keep only \"keep_col\" for the right temporary df\n",
    "    4. perform op on the columns \"keep_col\" and name it 'keep_col'+'_'+ levels[0] + op + levels[1]    \n",
    "    \n",
    "    example: for adding volumes in right and left structures\n",
    "    \"\"\"\n",
    "    \n",
    "    dflev1 = df[df[spliton]==levels[0]]\n",
    "    dflev2 = df[df[spliton]==levels[1]] \n",
    "\n",
    "    # check that the new dfs have no duplicates in the indx\n",
    "\n",
    "    assert set(dflev1[indx]) == set(dflev2[indx])\n",
    "    assert len(set(dflev1[indx])) == len(dflev1[indx])\n",
    "    \n",
    "    # assert len(set(dflev2[indx])) == len(dflev2[indx])\n",
    "    # suffixes=('_l','_r')\n",
    "    merged_inner = pd.merge(left=dflev1, right=dflev2[[indx,keep_col]], \n",
    "                            left_on=indx, right_on=indx, suffixes=levels, how='inner')\n",
    "#    merged_inner.rename(columns={cols+'_x': cols+'_'+lev1, cols+'_y': cols+'_'+lev2}, inplace=True)\n",
    "\n",
    "    # sum keep_col values in a new column\n",
    "    add_col_name = keep_col + levels[0] + op + levels[1]\n",
    "    if op == '+':\n",
    "        merged_inner[add_col_name] = \\\n",
    "                        merged_inner[keep_col+levels[0]] + merged_inner[keep_col+levels[1]]  \n",
    "    if colrename is not None:\n",
    "        merged_inner.rename(columns={add_col_name:colrename}, inplace=True)\n",
    "    return merged_inner\n",
    "\n",
    "\"\"\"\n",
    "    if droplist != []:\n",
    "        for colname in droplist:\n",
    "            colname_y = colname + '_y'\n",
    "            colname_x = colname + '_x'\n",
    "            merged_inner.drop(colname_y, axis=1, inplace=True)\n",
    "            merged_inner.rename(columns={colname_x: colname}, inplace=True)\n",
    "\"\"\";"
   ]
  },
  {
   "cell_type": "code",
   "execution_count": 8,
   "metadata": {},
   "outputs": [],
   "source": [
    "tooldic = {'surfer':'https://surfer.nmr.mgh.harvard.edu/', \n",
    "       'fsl':'http://purl.org/nidash/fsl#',\n",
    "       'ants':'http://stnava.github.io/ANTs/'}\n",
    "normalDev = (2, '2', 'Typically Developing Children')\n",
    "adhd = (1, '1', 'ADHD-Combined', 'ADHD-Hyperactive/Impulsive', 'ADHD-Inattentive')\n",
    "\n",
    "\n",
    "def define_conditions(df, tooldic={}, normalDev=(), adhd=(), h2ube={}):\n",
    "    \"\"\"\n",
    "    create dic of conditions\n",
    "    \n",
    "    \"\"\"\n",
    "    diccond={}\n",
    "    diccond['left'] = ((df['laterality'] == 'L')|(hie['laterality'] == 'Left'))\n",
    "    diccond['right'] = ((df['laterality'] == 'R')|(hie['laterality'] == 'Right'))\n",
    "    diccond['latNan'] = (df['laterality'] != 'Right') & (df['laterality'] != 'Left')\n",
    "\n",
    "    #========== age \n",
    "    diccond['age<=20'] = (df['Age'] <= 20)\n",
    "    diccond['age<20'] = (df['Age'] < 20)\n",
    "    diccond['age<12'] = (df['Age'] < 12)\n",
    "    diccond['age>=12'] = (df['Age'] >= 12)\n",
    "    \n",
    "    #========== tool conditions\n",
    "    diccond['fs'] = (df['tool'] == tooldic['surfer'])\n",
    "    diccond['ants'] = (df['tool'] == tooldic['ants'])\n",
    "    diccond['fsl'] = (df['tool'] == tooldic['fsl'])\n",
    "    \n",
    "    #========== IQ conditions\n",
    "    diccond['fiq>0'] = (df['FIQ'] > 0 )\n",
    "    \n",
    "    #========== disease conditions\n",
    "    pop_normDev = False\n",
    "    for pop in normalDev:\n",
    "        # print(np.sum(pop_cond))\n",
    "        pop_normDev = pop_normDev | (df['dx'] == pop)\n",
    "    diccond['normDev'] =  pop_normDev\n",
    "    \n",
    "    pop_adhd = False\n",
    "    for pop in adhd:\n",
    "        # print(np.sum(pop_cond))\n",
    "        pop_adhd = pop_adhd | (df['dx'] == pop)\n",
    "    diccond['adhd'] =  pop_adhd\n",
    "\n",
    "    #=========== ROIs\n",
    "    roi_ub = ''\n",
    "    diccond['bvol'] = (df['softwareLabel'] == 'BVOL (mm^3)')\n",
    "    diccond['brainseg'] = (df['softwareLabel'] == 'Brain Segmentation Volume (mm^3)') \n",
    "    diccond['caudate'] = (df['structure'] == h2ube['Caudate'])\n",
    "    diccond['putamen'] = (df['structure'] == h2ube['Putamen'])\n",
    "    diccond['TIV'] = (df['structure'] == h2ube['Estimated Total Intracranial Volume'])\n",
    "    diccond['wm'] =  (df['structure'] == h2ube['hemisphere cerebral white matter volume'])\n",
    "    diccond['gm'] =  (df['structure'] == h2ube['Total gray matter volume'])\n",
    "    diccond['csf'] =  (df['structure'] == h2ube['CSF'])\n",
    "    diccond['ccant'] =  (df['structure'] == h2ube['CC_Anterior'])\n",
    "    diccond['cccen'] =  (df['structure'] == h2ube['CC_Central'])\n",
    "    diccond['ccpos'] =  (df['structure'] == h2ube['CC_Posterior'])\n",
    "\n",
    "    #=========== site\n",
    "    diccond['abide'] = (df['study'].str.contains(\"ABIDE\"))\n",
    "    diccond['adhd200'] = (df['study'] == 'ADHD200')\n",
    "    \n",
    "    #=========== Gender\n",
    "    diccond['male'] = (df['Gender']=='Male')\n",
    "    diccond['female'] = (df['Gender']=='Female')\n",
    "\n",
    "    return diccond\n"
   ]
  },
  {
   "cell_type": "code",
   "execution_count": 9,
   "metadata": {},
   "outputs": [
    {
     "data": {
      "text/plain": [
       "dict_keys(['left', 'right', 'latNan', 'age<=20', 'age<20', 'age<12', 'age>=12', 'fs', 'ants', 'fsl', 'fiq>0', 'normDev', 'adhd', 'bvol', 'brainseg', 'caudate', 'putamen', 'TIV', 'wm', 'gm', 'csf', 'ccant', 'cccen', 'ccpos', 'abide', 'adhd200', 'male', 'female'])"
      ]
     },
     "execution_count": 9,
     "metadata": {},
     "output_type": "execute_result"
    }
   ],
   "source": [
    "condic = define_conditions(hie, tooldic=tooldic, normalDev=normalDev, adhd=adhd, h2ube=h2ube)\n",
    "condic.keys()"
   ]
  },
  {
   "cell_type": "code",
   "execution_count": 10,
   "metadata": {},
   "outputs": [],
   "source": [
    "def apply_cond(df, cndc, conditions, dropnaset=[],columns={}):\n",
    "    \"\"\"\n",
    "    List of conditions\n",
    "    \"\"\"\n",
    "    cond = np.full((len(df),), True, dtype=bool)\n",
    "    \n",
    "    for c in conditions:\n",
    "        cond = cond & cndc[c]\n",
    "        # print(np.sum(cond))\n",
    "        \n",
    "    # condition = [cond & cndc[c] for c in conditions][0]\n",
    "    # print(len(condition),np.sum(condition))\n",
    "    \n",
    "    # make a copy\n",
    "    tmp = df.loc[cond].dropna(subset=dropnaset)\n",
    "    if columns:\n",
    "        tmp.rename(columns=columns, inplace=True)\n",
    "        \n",
    "    return tmp\n",
    "    "
   ]
  },
  {
   "cell_type": "code",
   "execution_count": 11,
   "metadata": {},
   "outputs": [
    {
     "name": "stdout",
     "output_type": "stream",
     "text": [
      "manual:  408\n"
     ]
    }
   ],
   "source": [
    "# hyp1 = ['bvol','ants','left','age<=20','fiq>0','normDev']\n",
    "# hyp1 = ['fiq>0','abide','caudate', 'putamen']\n",
    "hyp1 = ['female', 'caudate','fs','fiq>0'] # ,'abide']\n",
    "condic = define_conditions(hie, tooldic=tooldic, normalDev=normalDev, adhd=adhd, h2ube=h2ube)\n",
    "tmp = apply_cond(hie, condic, hyp1)\n",
    "# print('apply:', len(tmp.dropna(subset=['FIQ', 'volume', 'Gender'])))\n",
    "\n",
    "manual = hie.loc[(hie['Gender']=='Female') & \n",
    "#                 (hie['study'].str.contains(\"ABIDE\")) &\n",
    "                 (hie['structure'] == h2ube['Caudate']) &\n",
    "                 (hie['tool'] == tooldic['surfer']) & \n",
    "                 (hie['FIQ'] > 0) ] \n",
    "manual = manual.dropna(subset=['FIQ', 'volume', 'Gender']) #,inplace=True)\n",
    "print('manual: ',len(manual))\n",
    "assert len(tmp.dropna(subset=['FIQ', 'volume', 'Gender'])) == len(manual)\n"
   ]
  },
  {
   "cell_type": "code",
   "execution_count": 12,
   "metadata": {},
   "outputs": [],
   "source": [
    "structures = set(hie.structure)\n"
   ]
  },
  {
   "cell_type": "markdown",
   "metadata": {},
   "source": [
    "Hypotheses\n",
    "\n",
    "PIET-1: Total Brain Volume will positively correlate with IQ (in both sexes across the complete age range).\n",
    "\n",
    "MAC-1: Left striatum volume (caudate + putamen) will positively correlate with IQ in the total (male + female) child (age < 20) group.\n",
    "\n",
    "MAC-2: Left striatum volume (caudate + putamen) will positively correlate with IQ in the male children group.\n",
    "\n",
    "MAC-3: Left striatum volume (caudate + putamen) will not correlate with IQ in the female children group.\n",
    "\n",
    "GANJ-1: Total Corpus Callosum midsagittal area, after correcting for total brain volume, will negatively correlate with IQ.\n",
    "\n",
    "GANJ-2: Total Corpus Callosum midsagittal area, after correcting for total brain volume, will negatively correlate with IQ in the young (age < 12) group.\n",
    "\n",
    "GANJ-3: Total Corpus Callosum midsagittal area, after correcting for total brain volume, will not significantly correlate with IQ in the adolescent (age > 12) group.\n",
    "\n",
    "GANJ-4:. Total Corpus Callosum midsagittal area, after correcting for total brain volume, will negatively correlate with IQ in the male (age < 12) group.\n",
    "\n",
    "GANJ-5: Total Corpus Callosum midsagittal area, after correcting for total brain volume, will not significantly correlate with IQ in the female (age < 12) group.\n"
   ]
  },
  {
   "cell_type": "code",
   "execution_count": 13,
   "metadata": {},
   "outputs": [],
   "source": [
    "resdic = {}\n",
    "\n",
    "\n",
    "def md2dic(varname, hyp_name, mdf=None):\n",
    "    table2 = mdf.summary().tables[1].data\n",
    "    cols = table2[0]\n",
    "    ther = [r for r in table2 if r[0] == varname][0]\n",
    "    resdic = {}\n",
    "    resdic[hyp_name] = {'P>|t|':ther[cols.index('P>|t|')], \n",
    "             't':ther[cols.index('t')], \n",
    "             'rsquared_adj':\"{:4.3}\".format(md.fit().rsquared_adj),\n",
    "             'nobs': \"{:3d}\".format(int(md.nobs))\n",
    "            }\n",
    "\n",
    "    return(resdic)"
   ]
  },
  {
   "cell_type": "markdown",
   "metadata": {},
   "source": [
    "### PIET-1: Total Brain Volume will positively correlate with IQ (in both sexes across the complete age range).\n"
   ]
  },
  {
   "cell_type": "code",
   "execution_count": 14,
   "metadata": {},
   "outputs": [
    {
     "name": "stdout",
     "output_type": "stream",
     "text": [
      "dict_keys(['left', 'right', 'latNan', 'age<=20', 'age<20', 'age<12', 'age>=12', 'fs', 'ants', 'fsl', 'fiq>0', 'normDev', 'adhd', 'bvol', 'brainseg', 'caudate', 'putamen', 'TIV', 'wm', 'gm', 'csf', 'ccant', 'cccen', 'ccpos', 'abide', 'adhd200', 'male', 'female'])\n"
     ]
    }
   ],
   "source": [
    "condic = define_conditions(hie, tooldic=tooldic, normalDev=normalDev, adhd=adhd, h2ube=h2ube)\n",
    "print(condic.keys())\n",
    "dropnaset = ['FIQ', 'volume', 'Gender']\n"
   ]
  },
  {
   "cell_type": "code",
   "execution_count": 15,
   "metadata": {},
   "outputs": [
    {
     "name": "stdout",
     "output_type": "stream",
     "text": [
      "461\n"
     ]
    }
   ],
   "source": [
    "hyp1 = ['bvol', 'fiq>0','normDev'] # ,'ants','abide']\n",
    "tmp = apply_cond(hie, condic, hyp1, dropnaset=dropnaset)\n",
    "print(len(tmp))"
   ]
  },
  {
   "cell_type": "code",
   "execution_count": 16,
   "metadata": {},
   "outputs": [
    {
     "name": "stdout",
     "output_type": "stream",
     "text": [
      " Structure =  bvol\n",
      "                            OLS Regression Results                            \n",
      "==============================================================================\n",
      "Dep. Variable:                    FIQ   R-squared:                       0.147\n",
      "Model:                            OLS   Adj. R-squared:                  0.104\n",
      "Method:                 Least Squares   F-statistic:                     3.434\n",
      "Date:                Thu, 05 Dec 2019   Prob (F-statistic):           4.18e-07\n",
      "Time:                        19:32:12   Log-Likelihood:                -1800.5\n",
      "No. Observations:                 461   AIC:                             3647.\n",
      "Df Residuals:                     438   BIC:                             3742.\n",
      "Df Model:                          22                                         \n",
      "Covariance Type:            nonrobust                                         \n",
      "=================================================================================================\n",
      "                                    coef    std err          t      P>|t|      [0.025      0.975]\n",
      "-------------------------------------------------------------------------------------------------\n",
      "Intercept                        86.2151     11.037      7.811      0.000      64.522     107.908\n",
      "study[T.ABIDE CMU_b Site]        15.6089     15.109      1.033      0.302     -14.087      45.305\n",
      "study[T.ABIDE KKI Site]          14.7060     15.106      0.974      0.331     -14.984      44.396\n",
      "study[T.ABIDE Leuven_1 Site]      0.2214     15.107      0.015      0.988     -29.471      29.914\n",
      "study[T.ABIDE MaxMun_c Site]      8.5004     15.242      0.558      0.577     -21.457      38.457\n",
      "study[T.ABIDE NYU Site]           3.2458      8.808      0.368      0.713     -14.066      20.557\n",
      "study[T.ABIDE OHSU Site]          5.7211      9.286      0.616      0.538     -12.529      23.971\n",
      "study[T.ABIDE Olin Site]          5.0217      9.251      0.543      0.588     -13.161      23.204\n",
      "study[T.ABIDE Pitt Site]         -1.2876      9.076     -0.142      0.887     -19.125      16.550\n",
      "study[T.ABIDE SDSU Site]         -1.7926      9.148     -0.196      0.845     -19.773      16.187\n",
      "study[T.ABIDE Stanford Site]      6.4696      9.190      0.704      0.482     -11.592      24.531\n",
      "study[T.ABIDE Trinity Site]      -2.0922      9.120     -0.229      0.819     -20.016      15.831\n",
      "study[T.ABIDE UCLA_1 Site]       -4.1032      8.992     -0.456      0.648     -21.775      13.569\n",
      "study[T.ABIDE UCLA_2 Site]        1.6163      9.368      0.173      0.863     -16.796      20.029\n",
      "study[T.ABIDE UM_1 Site]         -2.8822      8.888     -0.324      0.746     -20.350      14.586\n",
      "study[T.ABIDE UM_2 Site]          0.2753      9.136      0.030      0.976     -17.680      18.230\n",
      "study[T.ABIDE Yale Site]         -4.1197      9.028     -0.456      0.648     -21.864      13.625\n",
      "study[T.ADHD200 - NYU]            3.5743      9.424      0.379      0.705     -14.948      22.096\n",
      "study[T.ADHD200 - Peking_1]       7.2431      9.052      0.800      0.424     -10.548      25.034\n",
      "study[T.ADHD200 - Peking_2]      11.3232      9.003      1.258      0.209      -6.371      29.017\n",
      "study[T.ADHD200 - Peking_3]      -0.1304      9.489     -0.014      0.989     -18.781      18.520\n",
      "study[T.ADHD200 - Pittsburgh]    -0.0670     10.319     -0.006      0.995     -20.349      20.215\n",
      "Q('volume')                    1.628e-05   4.73e-06      3.442      0.001    6.99e-06    2.56e-05\n",
      "==============================================================================\n",
      "Omnibus:                        5.317   Durbin-Watson:                   1.998\n",
      "Prob(Omnibus):                  0.070   Jarque-Bera (JB):                5.424\n",
      "Skew:                          -0.190   Prob(JB):                       0.0664\n",
      "Kurtosis:                       3.372   Cond. No.                     1.06e+08\n",
      "==============================================================================\n",
      "\n",
      "Warnings:\n",
      "[1] Standard Errors assume that the covariance matrix of the errors is correctly specified.\n",
      "[2] The condition number is large, 1.06e+08. This might indicate that there are\n",
      "strong multicollinearity or other numerical problems.\n"
     ]
    }
   ],
   "source": [
    "print(\" Structure = \", 'bvol')\n",
    "#assert ube2h[tmp.iloc[0]['structure']] == roi\n",
    "\n",
    "iq = 'FIQ'\n",
    "\n",
    "# md = smf.ols(iq + \" ~ Q('volume') + Gender + Age + study \", data=tmp) #  \n",
    "md = smf.ols(iq + \" ~ Q('volume') + study \", data=tmp) #  \n",
    "mdf = md.fit()\n",
    "print(mdf.summary())\n",
    "\n",
    "varname = \"Q('volume')\"\n",
    "hyp_name = 'PIET-1'\n",
    "resdic.update(md2dic(varname,hyp_name,mdf=mdf))"
   ]
  },
  {
   "cell_type": "code",
   "execution_count": null,
   "metadata": {},
   "outputs": [],
   "source": []
  },
  {
   "cell_type": "markdown",
   "metadata": {},
   "source": [
    "#### Create df and conditions for left striatum, all age all gender"
   ]
  },
  {
   "cell_type": "code",
   "execution_count": 17,
   "metadata": {},
   "outputs": [
    {
     "name": "stdout",
     "output_type": "stream",
     "text": [
      "543\n"
     ]
    }
   ],
   "source": [
    "cond_mac = ['fiq>0','normDev','fs','left'] # ,'age<20']\n",
    "mac_caud = cond_mac + ['caudate'] #\n",
    "mac_put = cond_mac + ['putamen'] #\n",
    "mac_tiv = cond_mac + ['fiq>0','normDev','fs','TIV'] #\n",
    "\n",
    "left_caud = apply_cond(hie, condic, mac_caud, dropnaset=dropnaset, columns={'volume':'caudate'})\n",
    "left_put = apply_cond(hie, condic, mac_put, dropnaset=dropnaset, columns={'volume':'putamen'})\n",
    "\n",
    "left_stria = pd.merge(left=left_caud, right=left_put[['ID','putamen']], left_on='ID', right_on='ID')\n",
    "left_stria['striatum'] = left_stria['caudate'] + left_stria['putamen']\n",
    "left_stria_condic = define_conditions(left_stria, tooldic=tooldic, normalDev=normalDev, adhd=adhd, h2ube=h2ube)\n",
    "print(len(left_stria))\n",
    "\n"
   ]
  },
  {
   "cell_type": "markdown",
   "metadata": {},
   "source": [
    "### MAC-1: Left striatum volume (caudate + putamen) will positively correlate with IQ in the total (male + female) child (age < 20) group.\n"
   ]
  },
  {
   "cell_type": "code",
   "execution_count": 18,
   "metadata": {},
   "outputs": [
    {
     "name": "stdout",
     "output_type": "stream",
     "text": [
      "428\n",
      "                            OLS Regression Results                            \n",
      "==============================================================================\n",
      "Dep. Variable:                    FIQ   R-squared:                       0.125\n",
      "Model:                            OLS   Adj. R-squared:                  0.082\n",
      "Method:                 Least Squares   F-statistic:                     2.912\n",
      "Date:                Thu, 05 Dec 2019   Prob (F-statistic):           3.32e-05\n",
      "Time:                        19:32:13   Log-Likelihood:                -1665.7\n",
      "No. Observations:                 428   AIC:                             3373.\n",
      "Df Residuals:                     407   BIC:                             3459.\n",
      "Df Model:                          20                                         \n",
      "Covariance Type:            nonrobust                                         \n",
      "=================================================================================================\n",
      "                                    coef    std err          t      P>|t|      [0.025      0.975]\n",
      "-------------------------------------------------------------------------------------------------\n",
      "Intercept                        95.9542      9.251     10.372      0.000      77.769     114.140\n",
      "study[T.ABIDE KKI Site]          -3.2469      7.343     -0.442      0.659     -17.682      11.189\n",
      "study[T.ABIDE MaxMun_d Site]     -5.0533      8.600     -0.588      0.557     -21.959      11.853\n",
      "study[T.ABIDE NYU Site]          -3.5519      7.158     -0.496      0.620     -17.624      10.520\n",
      "study[T.ABIDE OHSU Site]          0.2577      7.691      0.034      0.973     -14.861      15.376\n",
      "study[T.ABIDE Olin Site]         -8.9793      8.015     -1.120      0.263     -24.736       6.778\n",
      "study[T.ABIDE Pitt Site]         -8.0535      7.661     -1.051      0.294     -23.113       7.006\n",
      "study[T.ABIDE SDSU Site]         -7.7489      7.531     -1.029      0.304     -22.553       7.056\n",
      "study[T.ABIDE Stanford Site]     -1.0303      7.556     -0.136      0.892     -15.883      13.823\n",
      "study[T.ABIDE Trinity Site]      -5.5234      8.906     -0.620      0.535     -23.031      11.985\n",
      "study[T.ABIDE UCLA_1 Site]      -11.1700      7.345     -1.521      0.129     -25.608       3.268\n",
      "study[T.ABIDE UCLA_2 Site]       -4.9598      7.793     -0.636      0.525     -20.279      10.360\n",
      "study[T.ABIDE UM_1 Site]         -7.9863      7.222     -1.106      0.269     -22.183       6.210\n",
      "study[T.ABIDE UM_2 Site]         -5.4238      7.559     -0.718      0.473     -20.283       9.436\n",
      "study[T.ABIDE Yale Site]         -9.4074      7.393     -1.272      0.204     -23.941       5.126\n",
      "study[T.ADHD200 - NYU]           -2.5209      7.858     -0.321      0.749     -17.968      12.926\n",
      "study[T.ADHD200 - Peking_1]       1.5856      7.401      0.214      0.830     -12.963      16.134\n",
      "study[T.ADHD200 - Peking_2]       4.7838      7.742      0.618      0.537     -10.435      20.003\n",
      "study[T.ADHD200 - Peking_3]      -4.2236      7.520     -0.562      0.575     -19.006      10.559\n",
      "study[T.ADHD200 - Pittsburgh]    -7.4532      8.896     -0.838      0.403     -24.942      10.035\n",
      "Q('striatum')                     0.0021      0.001      3.217      0.001       0.001       0.003\n",
      "==============================================================================\n",
      "Omnibus:                        3.433   Durbin-Watson:                   1.918\n",
      "Prob(Omnibus):                  0.180   Jarque-Bera (JB):                3.183\n",
      "Skew:                          -0.194   Prob(JB):                        0.204\n",
      "Kurtosis:                       3.166   Cond. No.                     5.10e+05\n",
      "==============================================================================\n",
      "\n",
      "Warnings:\n",
      "[1] Standard Errors assume that the covariance matrix of the errors is correctly specified.\n",
      "[2] The condition number is large, 5.1e+05. This might indicate that there are\n",
      "strong multicollinearity or other numerical problems.\n"
     ]
    }
   ],
   "source": [
    "mac1_cond = ['age<20']\n",
    "mac1 = apply_cond(left_stria, left_stria_condic, mac1_cond)\n",
    "print(len(mac1))\n",
    "\n",
    "\n",
    "iq = 'FIQ'\n",
    "\n",
    "# md = smf.ols(iq + \" ~ Q('volume') + Gender + Age + study \", data=tmp) #  \n",
    "# md = smf.ols(iq + \" ~ Q('striatum') + study + TIV \", data=stria) #  \n",
    "md = smf.ols(iq + \" ~ Q('striatum') + study \", data=mac1) #  \n",
    "mdf = md.fit()\n",
    "print(mdf.summary())\n",
    "\n",
    "\n",
    "varname = \"Q('striatum')\"\n",
    "hyp_name = 'MAC-1'\n",
    "resdic.update(md2dic(varname,hyp_name,mdf=mdf))"
   ]
  },
  {
   "cell_type": "markdown",
   "metadata": {},
   "source": [
    "### MAC-2: Left striatum volume (caudate + putamen) will positively correlate with IQ in the male children group.\n"
   ]
  },
  {
   "cell_type": "code",
   "execution_count": 19,
   "metadata": {},
   "outputs": [
    {
     "name": "stdout",
     "output_type": "stream",
     "text": [
      "336\n",
      "                            OLS Regression Results                            \n",
      "==============================================================================\n",
      "Dep. Variable:                    FIQ   R-squared:                       0.146\n",
      "Model:                            OLS   Adj. R-squared:                  0.092\n",
      "Method:                 Least Squares   F-statistic:                     2.693\n",
      "Date:                Thu, 05 Dec 2019   Prob (F-statistic):           0.000153\n",
      "Time:                        19:32:13   Log-Likelihood:                -1292.9\n",
      "No. Observations:                 336   AIC:                             2628.\n",
      "Df Residuals:                     315   BIC:                             2708.\n",
      "Df Model:                          20                                         \n",
      "Covariance Type:            nonrobust                                         \n",
      "=================================================================================================\n",
      "                                    coef    std err          t      P>|t|      [0.025      0.975]\n",
      "-------------------------------------------------------------------------------------------------\n",
      "Intercept                        92.2401      9.673      9.536      0.000      73.209     111.271\n",
      "study[T.ABIDE KKI Site]          -5.0359      7.201     -0.699      0.485     -19.204       9.132\n",
      "study[T.ABIDE MaxMun_d Site]     -5.1594      8.288     -0.622      0.534     -21.467      11.148\n",
      "study[T.ABIDE NYU Site]          -4.8386      6.954     -0.696      0.487     -18.520       8.843\n",
      "study[T.ABIDE OHSU Site]          0.2355      7.411      0.032      0.975     -14.347      14.818\n",
      "study[T.ABIDE Olin Site]         -8.7322      7.834     -1.115      0.266     -24.146       6.681\n",
      "study[T.ABIDE Pitt Site]         -9.5612      7.472     -1.280      0.202     -24.262       5.140\n",
      "study[T.ABIDE SDSU Site]         -5.2791      7.456     -0.708      0.479     -19.950       9.392\n",
      "study[T.ABIDE Stanford Site]     -1.9485      7.411     -0.263      0.793     -16.531      12.634\n",
      "study[T.ABIDE Trinity Site]      -5.9431      8.593     -0.692      0.490     -22.851      10.965\n",
      "study[T.ABIDE UCLA_1 Site]      -11.5919      7.124     -1.627      0.105     -25.609       2.425\n",
      "study[T.ABIDE UCLA_2 Site]       -3.7025      7.647     -0.484      0.629     -18.748      11.343\n",
      "study[T.ABIDE UM_1 Site]         -7.2253      7.042     -1.026      0.306     -21.080       6.630\n",
      "study[T.ABIDE UM_2 Site]         -5.3709      7.313     -0.734      0.463     -19.759       9.017\n",
      "study[T.ABIDE Yale Site]        -11.9523      7.259     -1.647      0.101     -26.235       2.330\n",
      "study[T.ADHD200 - NYU]           -5.3494      7.953     -0.673      0.502     -20.998      10.299\n",
      "study[T.ADHD200 - Peking_1]       3.6933      7.510      0.492      0.623     -11.082      18.469\n",
      "study[T.ADHD200 - Peking_2]       3.1100      7.516      0.414      0.679     -11.678      17.898\n",
      "study[T.ADHD200 - Peking_3]      -4.5129      7.253     -0.622      0.534     -18.783       9.757\n",
      "study[T.ADHD200 - Pittsburgh]    -2.8151      8.987     -0.313      0.754     -20.498      14.868\n",
      "Q('striatum')                     0.0025      0.001      3.341      0.001       0.001       0.004\n",
      "==============================================================================\n",
      "Omnibus:                        5.579   Durbin-Watson:                   1.946\n",
      "Prob(Omnibus):                  0.061   Jarque-Bera (JB):                5.466\n",
      "Skew:                          -0.251   Prob(JB):                       0.0650\n",
      "Kurtosis:                       3.371   Cond. No.                     4.60e+05\n",
      "==============================================================================\n",
      "\n",
      "Warnings:\n",
      "[1] Standard Errors assume that the covariance matrix of the errors is correctly specified.\n",
      "[2] The condition number is large, 4.6e+05. This might indicate that there are\n",
      "strong multicollinearity or other numerical problems.\n"
     ]
    }
   ],
   "source": [
    "mac2_cond = ['age<20','male']\n",
    "mac2 = apply_cond(left_stria, left_stria_condic, mac2_cond)\n",
    "print(len(mac2))\n",
    "\n",
    "iq = 'FIQ'\n",
    "# md = smf.ols(iq + \" ~ Q('volume') + Gender + Age + study \", data=tmp) #  \n",
    "# md = smf.ols(iq + \" ~ Q('striatum') + study + TIV \", data=stria) #  \n",
    "md = smf.ols(iq + \" ~ Q('striatum') + study \", data=mac2) #  \n",
    "mdf = md.fit()\n",
    "print(mdf.summary())\n",
    "\n",
    "\n",
    "varname = \"Q('striatum')\"\n",
    "hyp_name = 'MAC-2'\n",
    "resdic.update(md2dic(varname,hyp_name,mdf=mdf))"
   ]
  },
  {
   "cell_type": "markdown",
   "metadata": {},
   "source": [
    "### MAC-3: Left striatum volume (caudate + putamen) will not correlate with IQ in the female children group.\n"
   ]
  },
  {
   "cell_type": "code",
   "execution_count": 20,
   "metadata": {},
   "outputs": [
    {
     "name": "stdout",
     "output_type": "stream",
     "text": [
      "92\n",
      "                            OLS Regression Results                            \n",
      "==============================================================================\n",
      "Dep. Variable:                    FIQ   R-squared:                       0.232\n",
      "Model:                            OLS   Adj. R-squared:                  0.080\n",
      "Method:                 Least Squares   F-statistic:                     1.528\n",
      "Date:                Thu, 05 Dec 2019   Prob (F-statistic):              0.117\n",
      "Time:                        19:32:13   Log-Likelihood:                -361.48\n",
      "No. Observations:                  92   AIC:                             755.0\n",
      "Df Residuals:                      76   BIC:                             795.3\n",
      "Df Model:                          15                                         \n",
      "Covariance Type:            nonrobust                                         \n",
      "=================================================================================================\n",
      "                                    coef    std err          t      P>|t|      [0.025      0.975]\n",
      "-------------------------------------------------------------------------------------------------\n",
      "Intercept                        95.3018     17.430      5.468      0.000      60.586     130.017\n",
      "study[T.ABIDE NYU Site]          -0.9726      5.595     -0.174      0.862     -12.117      10.172\n",
      "study[T.ABIDE Olin Site]        -14.5981     14.334     -1.018      0.312     -43.146      13.950\n",
      "study[T.ABIDE Pitt Site]         -0.0544     10.589     -0.005      0.996     -21.144      21.036\n",
      "study[T.ABIDE SDSU Site]        -14.4122      7.184     -2.006      0.048     -28.721      -0.103\n",
      "study[T.ABIDE Stanford Site]      1.9531      8.324      0.235      0.815     -14.625      18.531\n",
      "study[T.ABIDE UCLA_1 Site]       -9.8874      8.165     -1.211      0.230     -26.149       6.375\n",
      "study[T.ABIDE UCLA_2 Site]      -13.7939     10.699     -1.289      0.201     -35.103       7.515\n",
      "study[T.ABIDE UM_1 Site]        -10.2400      5.857     -1.748      0.084     -21.904       1.424\n",
      "study[T.ABIDE UM_2 Site]         -9.8087     14.425     -0.680      0.499     -38.538      18.921\n",
      "study[T.ABIDE Yale Site]         -3.2684      6.789     -0.481      0.632     -16.790      10.254\n",
      "study[T.ADHD200 - NYU]            1.8479      8.139      0.227      0.821     -14.362      18.057\n",
      "study[T.ADHD200 - Peking_1]      -1.1441      5.790     -0.198      0.844     -12.676      10.388\n",
      "study[T.ADHD200 - Peking_2]      23.1917     14.319      1.620      0.109      -5.327      51.711\n",
      "study[T.ADHD200 - Pittsburgh]   -28.3785     14.290     -1.986      0.051     -56.839       0.082\n",
      "Q('striatum')                     0.0022      0.002      1.243      0.218      -0.001       0.006\n",
      "==============================================================================\n",
      "Omnibus:                        3.833   Durbin-Watson:                   2.255\n",
      "Prob(Omnibus):                  0.147   Jarque-Bera (JB):                3.113\n",
      "Skew:                          -0.386   Prob(JB):                        0.211\n",
      "Kurtosis:                       3.464   Cond. No.                     1.37e+05\n",
      "==============================================================================\n",
      "\n",
      "Warnings:\n",
      "[1] Standard Errors assume that the covariance matrix of the errors is correctly specified.\n",
      "[2] The condition number is large, 1.37e+05. This might indicate that there are\n",
      "strong multicollinearity or other numerical problems.\n"
     ]
    }
   ],
   "source": [
    "mac3_cond = ['age<20','female']\n",
    "mac3 = apply_cond(left_stria, left_stria_condic, mac3_cond)\n",
    "print(len(mac3))\n",
    "\n",
    "iq = 'FIQ'\n",
    "# md = smf.ols(iq + \" ~ Q('volume') + Gender + Age + study \", data=tmp) #  \n",
    "# md = smf.ols(iq + \" ~ Q('striatum') + study + TIV \", data=stria) #  \n",
    "md = smf.ols(iq + \" ~ Q('striatum') + study \", data=mac3) #  \n",
    "mdf = md.fit()\n",
    "print(mdf.summary())\n",
    "\n",
    "\n",
    "varname, hyp_name = \"Q('striatum')\",'MAC-3'\n",
    "resdic.update(md2dic(varname,hyp_name,mdf=mdf))"
   ]
  },
  {
   "cell_type": "markdown",
   "metadata": {},
   "source": [
    "### compute cc and tbv  for GANJ, no age or gender condition "
   ]
  },
  {
   "cell_type": "code",
   "execution_count": 21,
   "metadata": {},
   "outputs": [
    {
     "data": {
      "text/plain": [
       "dict_keys(['left', 'right', 'latNan', 'age<=20', 'age<20', 'age<12', 'age>=12', 'fs', 'ants', 'fsl', 'fiq>0', 'normDev', 'adhd', 'bvol', 'brainseg', 'caudate', 'putamen', 'TIV', 'wm', 'gm', 'csf', 'ccant', 'cccen', 'ccpos', 'abide', 'adhd200', 'male', 'female'])"
      ]
     },
     "execution_count": 21,
     "metadata": {},
     "output_type": "execute_result"
    }
   ],
   "source": [
    "condic = define_conditions(hie, tooldic=tooldic, normalDev=normalDev, adhd=adhd, h2ube=h2ube)\n",
    "condic.keys()"
   ]
  },
  {
   "cell_type": "code",
   "execution_count": 22,
   "metadata": {},
   "outputs": [
    {
     "data": {
      "text/plain": [
       "(543, 543, 543, 543)"
      ]
     },
     "execution_count": 22,
     "metadata": {},
     "output_type": "execute_result"
    }
   ],
   "source": [
    "hypGanj = ['fiq>0','normDev','fs'] # ,'age<20'\n",
    "hyp_ccant = hypGanj + ['ccant'] #\n",
    "hyp_cccen = hypGanj + ['cccen'] #\n",
    "hyp_ccpos = hypGanj + ['ccpos'] #\n",
    "\n",
    "ccant = apply_cond(hie, condic, hyp_ccant, dropnaset=dropnaset, columns={'volume':'ccant'})\n",
    "cccen = apply_cond(hie, condic, hyp_cccen, dropnaset=dropnaset, columns={'volume':'cccen'})\n",
    "ccpos = apply_cond(hie, condic, hyp_ccpos, dropnaset=dropnaset, columns={'volume':'ccpos'})\n",
    "\n",
    "cc = pd.merge(left=ccant, right=cccen[['ID','cccen']], left_on='ID', right_on='ID')\n",
    "cc = pd.merge(left=cc, right=ccpos[['ID','ccpos']], left_on='ID', right_on='ID')\n",
    "\n",
    "cc['cc'] = cc['ccant']+cc['cccen']+cc['ccpos']\n",
    "len(cc), len(ccant), len(cccen), len(ccpos)"
   ]
  },
  {
   "cell_type": "code",
   "execution_count": 23,
   "metadata": {},
   "outputs": [
    {
     "name": "stdout",
     "output_type": "stream",
     "text": [
      "543 543 543 543\n"
     ]
    }
   ],
   "source": [
    "hyp_gm = hypGanj + ['gm'] #\n",
    "gm = apply_cond(hie, condic, hyp_gm, dropnaset=dropnaset, columns={'volume':'gm'})\n",
    "#print(gm[['ID','gm','laterality']].head(2),len(gm))\n",
    "\n",
    "hyp_wm = hypGanj + ['wm','latNan'] #\n",
    "wm = apply_cond(hie, condic, hyp_wm, dropnaset=dropnaset, columns={'volume':'wm'})\n",
    "#print(wm[['ID','wm','laterality']].head(2),len(wm))\n",
    "\n",
    "hyp_csf = hypGanj + ['csf'] #\n",
    "csf = apply_cond(hie, condic, hyp_csf, dropnaset=dropnaset, columns={'volume':'csf'})\n",
    "#print(csf[['ID','csf','laterality']].head(2),len(csf))\n",
    "tbv = pd.merge(left=gm, right=wm[['ID','wm']], left_on='ID', right_on='ID')\n",
    "tbv = pd.merge(left=tbv, right=csf[['ID','csf']], left_on='ID', right_on='ID')\n",
    "tbv['tbv'] = tbv['wm'] + tbv['gm'] +  tbv['csf']\n",
    "print(len(gm), len(wm), len(csf), len(tbv))"
   ]
  },
  {
   "cell_type": "code",
   "execution_count": 24,
   "metadata": {},
   "outputs": [],
   "source": [
    "cc_tbv = pd.merge(left=tbv, right=cc[['ID','cc']], left_on='ID', right_on='ID')\n",
    "condic_cc_tbv = define_conditions(cc_tbv, tooldic=tooldic, normalDev=normalDev, adhd=adhd, h2ube=h2ube)\n"
   ]
  },
  {
   "cell_type": "code",
   "execution_count": null,
   "metadata": {},
   "outputs": [],
   "source": []
  },
  {
   "cell_type": "markdown",
   "metadata": {},
   "source": [
    "### GANJ-1: Total Corpus Callosum midsagittal area, after correcting for total brain volume, will negatively correlate with IQ.\n"
   ]
  },
  {
   "cell_type": "code",
   "execution_count": 25,
   "metadata": {},
   "outputs": [
    {
     "name": "stdout",
     "output_type": "stream",
     "text": [
      "['study', 'ID', 'Age', 'dx', 'Gender', 'FIQ', 'PIQ', 'VIQ', 'tool', 'softwareLabel', 'structure', 'laterality', 'gm', 'wm', 'csf', 'tbv', 'cc'] 428\n",
      "                            OLS Regression Results                            \n",
      "==============================================================================\n",
      "Dep. Variable:                    FIQ   R-squared:                       0.136\n",
      "Model:                            OLS   Adj. R-squared:                  0.092\n",
      "Method:                 Least Squares   F-statistic:                     3.055\n",
      "Date:                Thu, 05 Dec 2019   Prob (F-statistic):           9.24e-06\n",
      "Time:                        19:32:13   Log-Likelihood:                -1663.0\n",
      "No. Observations:                 428   AIC:                             3370.\n",
      "Df Residuals:                     406   BIC:                             3459.\n",
      "Df Model:                          21                                         \n",
      "Covariance Type:            nonrobust                                         \n",
      "=================================================================================================\n",
      "                                    coef    std err          t      P>|t|      [0.025      0.975]\n",
      "-------------------------------------------------------------------------------------------------\n",
      "Intercept                        88.6523     10.251      8.648      0.000      68.500     108.804\n",
      "study[T.ABIDE KKI Site]          -1.2665      7.348     -0.172      0.863     -15.711      13.178\n",
      "study[T.ABIDE MaxMun_d Site]     -4.2969      8.554     -0.502      0.616     -21.113      12.519\n",
      "study[T.ABIDE NYU Site]          -1.2842      7.131     -0.180      0.857     -15.302      12.734\n",
      "study[T.ABIDE OHSU Site]          1.4742      7.673      0.192      0.848     -13.610      16.558\n",
      "study[T.ABIDE Olin Site]         -5.1345      8.000     -0.642      0.521     -20.860      10.591\n",
      "study[T.ABIDE Pitt Site]         -6.2880      7.614     -0.826      0.409     -21.255       8.679\n",
      "study[T.ABIDE SDSU Site]         -5.3237      7.517     -0.708      0.479     -20.100       9.452\n",
      "study[T.ABIDE Stanford Site]      3.7843      7.643      0.495      0.621     -11.241      18.810\n",
      "study[T.ABIDE Trinity Site]      -2.7003      8.843     -0.305      0.760     -20.084      14.683\n",
      "study[T.ABIDE UCLA_1 Site]       -8.5316      7.347     -1.161      0.246     -22.974       5.911\n",
      "study[T.ABIDE UCLA_2 Site]       -1.9753      7.772     -0.254      0.800     -17.255      13.304\n",
      "study[T.ABIDE UM_1 Site]         -6.3065      7.207     -0.875      0.382     -20.474       7.861\n",
      "study[T.ABIDE UM_2 Site]         -2.0692      7.541     -0.274      0.784     -16.894      12.756\n",
      "study[T.ABIDE Yale Site]         -7.6919      7.397     -1.040      0.299     -22.233       6.850\n",
      "study[T.ADHD200 - NYU]            0.0158      7.816      0.002      0.998     -15.349      15.380\n",
      "study[T.ADHD200 - Peking_1]       3.4943      7.407      0.472      0.637     -11.067      18.055\n",
      "study[T.ADHD200 - Peking_2]       6.5841      7.716      0.853      0.394      -8.585      21.753\n",
      "study[T.ADHD200 - Peking_3]      -1.6943      7.472     -0.227      0.821     -16.382      12.994\n",
      "study[T.ADHD200 - Pittsburgh]    -3.8451      8.865     -0.434      0.665     -21.273      13.582\n",
      "Q('cc')                          -0.0024      0.002     -1.134      0.257      -0.007       0.002\n",
      "tbv                            2.591e-05   6.71e-06      3.861      0.000    1.27e-05    3.91e-05\n",
      "==============================================================================\n",
      "Omnibus:                        4.493   Durbin-Watson:                   1.993\n",
      "Prob(Omnibus):                  0.106   Jarque-Bera (JB):                4.314\n",
      "Skew:                          -0.201   Prob(JB):                        0.116\n",
      "Kurtosis:                       3.283   Cond. No.                     6.42e+07\n",
      "==============================================================================\n",
      "\n",
      "Warnings:\n",
      "[1] Standard Errors assume that the covariance matrix of the errors is correctly specified.\n",
      "[2] The condition number is large, 6.42e+07. This might indicate that there are\n",
      "strong multicollinearity or other numerical problems.\n"
     ]
    }
   ],
   "source": [
    "ganj1_cond = ['age<20'] #'fiq>0','normDev','fs','age<=20','ccant'] #\n",
    "ganj1 = apply_cond(cc_tbv, condic_cc_tbv, ganj1_cond)\n",
    "print(list(ganj1),len(ganj1))\n",
    "\n",
    "iq = 'FIQ'\n",
    "# md = smf.ols(iq + \" ~ Q('volume') + Gender + Age + study \", data=tmp) #  \n",
    "#md = smf.ols(iq + \" ~ Q('striatum') + study + TIV \", data=stria) #  \n",
    "md = smf.ols(iq + \" ~ Q('cc') + study + tbv \", data=ganj1) #  \n",
    "mdf = md.fit()\n",
    "print(mdf.summary())\n",
    "\n",
    "varname, hyp_name = \"Q('cc')\",'GANJ-1'\n",
    "resdic.update(md2dic(varname,hyp_name,mdf=mdf))"
   ]
  },
  {
   "cell_type": "code",
   "execution_count": null,
   "metadata": {},
   "outputs": [],
   "source": []
  },
  {
   "cell_type": "markdown",
   "metadata": {},
   "source": [
    "### GANJ-2: Total Corpus Callosum midsagittal area, after correcting for total brain volume, will negatively correlate with IQ in the young (age < 12) group."
   ]
  },
  {
   "cell_type": "code",
   "execution_count": 26,
   "metadata": {},
   "outputs": [
    {
     "name": "stdout",
     "output_type": "stream",
     "text": [
      "['study', 'ID', 'Age', 'dx', 'Gender', 'FIQ', 'PIQ', 'VIQ', 'tool', 'softwareLabel', 'structure', 'laterality', 'gm', 'wm', 'csf', 'tbv', 'cc'] 188\n",
      "                            OLS Regression Results                            \n",
      "==============================================================================\n",
      "Dep. Variable:                    FIQ   R-squared:                       0.169\n",
      "Model:                            OLS   Adj. R-squared:                  0.085\n",
      "Method:                 Least Squares   F-statistic:                     2.027\n",
      "Date:                Thu, 05 Dec 2019   Prob (F-statistic):             0.0122\n",
      "Time:                        19:32:13   Log-Likelihood:                -728.56\n",
      "No. Observations:                 188   AIC:                             1493.\n",
      "Df Residuals:                     170   BIC:                             1551.\n",
      "Df Model:                          17                                         \n",
      "Covariance Type:            nonrobust                                         \n",
      "================================================================================================\n",
      "                                   coef    std err          t      P>|t|      [0.025      0.975]\n",
      "------------------------------------------------------------------------------------------------\n",
      "Intercept                       99.1916     11.818      8.393      0.000      75.863     122.520\n",
      "study[T.ABIDE MaxMun_d Site]    -1.5812      6.567     -0.241      0.810     -14.545      11.383\n",
      "study[T.ABIDE NYU Site]          0.9302      3.234      0.288      0.774      -5.455       7.315\n",
      "study[T.ABIDE OHSU Site]         2.3345      3.934      0.593      0.554      -5.431      10.100\n",
      "study[T.ABIDE Olin Site]        19.5681     12.824      1.526      0.129      -5.746      44.882\n",
      "study[T.ABIDE Pitt Site]       -10.4650      9.137     -1.145      0.254     -28.502       7.572\n",
      "study[T.ABIDE SDSU Site]         0.3376     12.534      0.027      0.979     -24.405      25.080\n",
      "study[T.ABIDE Stanford Site]     2.9946      4.399      0.681      0.497      -5.690      11.679\n",
      "study[T.ABIDE UCLA_1 Site]      -3.4001      4.510     -0.754      0.452     -12.303       5.503\n",
      "study[T.ABIDE UCLA_2 Site]       0.8961      6.032      0.149      0.882     -11.010      12.802\n",
      "study[T.ABIDE UM_1 Site]        -6.6302      3.775     -1.756      0.081     -14.082       0.822\n",
      "study[T.ABIDE Yale Site]        -5.5958      4.390     -1.275      0.204     -14.261       3.069\n",
      "study[T.ADHD200 - NYU]           7.1656      5.220      1.373      0.172      -3.138      17.470\n",
      "study[T.ADHD200 - Peking_1]      4.8520      3.381      1.435      0.153      -1.823      11.527\n",
      "study[T.ADHD200 - Peking_2]      9.5457      4.666      2.046      0.042       0.334      18.757\n",
      "study[T.ADHD200 - Peking_3]    -12.4998      9.143     -1.367      0.173     -30.548       5.549\n",
      "Q('cc')                         -0.0055      0.004     -1.425      0.156      -0.013       0.002\n",
      "tbv                           2.234e-05   1.09e-05      2.042      0.043    7.46e-07    4.39e-05\n",
      "==============================================================================\n",
      "Omnibus:                        4.753   Durbin-Watson:                   2.012\n",
      "Prob(Omnibus):                  0.093   Jarque-Bera (JB):                4.707\n",
      "Skew:                          -0.258   Prob(JB):                       0.0950\n",
      "Kurtosis:                       3.578   Cond. No.                     1.82e+07\n",
      "==============================================================================\n",
      "\n",
      "Warnings:\n",
      "[1] Standard Errors assume that the covariance matrix of the errors is correctly specified.\n",
      "[2] The condition number is large, 1.82e+07. This might indicate that there are\n",
      "strong multicollinearity or other numerical problems.\n"
     ]
    }
   ],
   "source": [
    "ganj2_cond = ['age<12'] #'fiq>0','normDev','fs','age<=20','ccant'] #\n",
    "ganj2 = apply_cond(cc_tbv, condic_cc_tbv, ganj2_cond)\n",
    "print(list(ganj2),len(ganj2));\n",
    "\n",
    "iq = 'FIQ'\n",
    "# md = smf.ols(iq + \" ~ Q('volume') + Gender + Age + study \", data=tmp) #  \n",
    "#md = smf.ols(iq + \" ~ Q('striatum') + study + TIV \", data=stria) #  \n",
    "md = smf.ols(iq + \" ~ Q('cc') + study + tbv \", data=ganj2) #  \n",
    "mdf = md.fit()\n",
    "print(mdf.summary())\n",
    "\n",
    "\n",
    "varname, hyp_name = \"Q('cc')\",'GANJ-2'\n",
    "resdic.update(md2dic(varname,hyp_name,mdf=mdf))"
   ]
  },
  {
   "cell_type": "markdown",
   "metadata": {},
   "source": [
    "### GANJ-3: Total Corpus Callosum midsagittal area, after correcting for total brain volume, will not significantly correlate with IQ in the adolescent (age > 12) group.\n"
   ]
  },
  {
   "cell_type": "code",
   "execution_count": null,
   "metadata": {},
   "outputs": [],
   "source": []
  },
  {
   "cell_type": "code",
   "execution_count": 27,
   "metadata": {},
   "outputs": [
    {
     "name": "stdout",
     "output_type": "stream",
     "text": [
      "355\n",
      "                            OLS Regression Results                            \n",
      "==============================================================================\n",
      "Dep. Variable:                    FIQ   R-squared:                       0.153\n",
      "Model:                            OLS   Adj. R-squared:                  0.088\n",
      "Method:                 Least Squares   F-statistic:                     2.372\n",
      "Date:                Thu, 05 Dec 2019   Prob (F-statistic):           0.000323\n",
      "Time:                        19:32:14   Log-Likelihood:                -1354.8\n",
      "No. Observations:                 355   AIC:                             2762.\n",
      "Df Residuals:                     329   BIC:                             2862.\n",
      "Df Model:                          25                                         \n",
      "Covariance Type:            nonrobust                                         \n",
      "=================================================================================================\n",
      "                                    coef    std err          t      P>|t|      [0.025      0.975]\n",
      "-------------------------------------------------------------------------------------------------\n",
      "Intercept                        81.3171      8.181      9.940      0.000      65.224      97.410\n",
      "study[T.ABIDE CMU_b Site]         9.2022      6.581      1.398      0.163      -3.744      22.149\n",
      "study[T.ABIDE Caltech Site]       3.7851      4.829      0.784      0.434      -5.715      13.285\n",
      "study[T.ABIDE KKI Site]          -6.5310      7.765     -0.841      0.401     -21.807       8.745\n",
      "study[T.ABIDE Leuven_1 Site]      4.3899      5.062      0.867      0.386      -5.569      14.348\n",
      "study[T.ABIDE MaxMun_a Site]     -0.1167      5.234     -0.022      0.982     -10.413      10.180\n",
      "study[T.ABIDE MaxMun_c Site]      3.6601      5.066      0.723      0.470      -6.305      13.626\n",
      "study[T.ABIDE MaxMun_d Site]     -4.8479      9.060     -0.535      0.593     -22.670      12.975\n",
      "study[T.ABIDE NYU Site]           2.9567      4.265      0.693      0.489      -5.433      11.346\n",
      "study[T.ABIDE Olin Site]          4.1290      5.021      0.822      0.412      -5.749      14.007\n",
      "study[T.ABIDE Pitt Site]          0.0571      4.674      0.012      0.990      -9.138       9.253\n",
      "study[T.ABIDE SDSU Site]         -1.6066      4.833     -0.332      0.740     -11.114       7.900\n",
      "study[T.ABIDE Stanford Site]     11.2046      7.088      1.581      0.115      -2.739      25.148\n",
      "study[T.ABIDE Trinity Site]       0.7324      6.178      0.119      0.906     -11.422      12.886\n",
      "study[T.ABIDE UCLA_1 Site]       -6.4891      4.754     -1.365      0.173     -15.842       2.864\n",
      "study[T.ABIDE UCLA_2 Site]        1.0303      5.754      0.179      0.858     -10.290      12.350\n",
      "study[T.ABIDE UM_1 Site]         -1.8634      4.519     -0.412      0.680     -10.754       7.027\n",
      "study[T.ABIDE UM_2 Site]          1.6319      4.761      0.343      0.732      -7.734      10.998\n",
      "study[T.ABIDE Yale Site]         -5.3072      4.926     -1.077      0.282     -14.998       4.384\n",
      "study[T.ADHD200 - NYU]           -5.9885      6.533     -0.917      0.360     -18.840       6.863\n",
      "study[T.ADHD200 - Peking_1]      -0.1778      7.758     -0.023      0.982     -15.439      15.083\n",
      "study[T.ADHD200 - Peking_2]       5.7873      6.513      0.889      0.375      -7.026      18.600\n",
      "study[T.ADHD200 - Peking_3]       3.3353      4.815      0.693      0.489      -6.137      12.808\n",
      "study[T.ADHD200 - Pittsburgh]     0.2726      6.533      0.042      0.967     -12.580      13.125\n",
      "Q('cc')                       -6.925e-05      0.002     -0.035      0.972      -0.004       0.004\n",
      "tbv                            2.417e-05   6.39e-06      3.781      0.000    1.16e-05    3.67e-05\n",
      "==============================================================================\n",
      "Omnibus:                        0.758   Durbin-Watson:                   2.027\n",
      "Prob(Omnibus):                  0.685   Jarque-Bera (JB):                0.545\n",
      "Skew:                          -0.069   Prob(JB):                        0.761\n",
      "Kurtosis:                       3.133   Cond. No.                     4.03e+07\n",
      "==============================================================================\n",
      "\n",
      "Warnings:\n",
      "[1] Standard Errors assume that the covariance matrix of the errors is correctly specified.\n",
      "[2] The condition number is large, 4.03e+07. This might indicate that there are\n",
      "strong multicollinearity or other numerical problems.\n"
     ]
    }
   ],
   "source": [
    "ganj3_cond = ['age>=12'] #\n",
    "ganj3 = apply_cond(cc_tbv, condic_cc_tbv, ganj3_cond)\n",
    "print(len(ganj3))\n",
    "\n",
    "iq = 'FIQ'\n",
    "# md = smf.ols(iq + \" ~ Q('volume') + Gender + Age + study \", data=tmp) #  \n",
    "#md = smf.ols(iq + \" ~ Q('striatum') + study + TIV \", data=stria) #  \n",
    "md = smf.ols(iq + \" ~ Q('cc') + study + tbv \", data=ganj3) #  \n",
    "mdf = md.fit()\n",
    "print(mdf.summary())\n",
    "\n",
    "\n",
    "varname, hyp_name = \"Q('cc')\",'GANJ-3'\n",
    "resdic.update(md2dic(varname,hyp_name,mdf=mdf))"
   ]
  },
  {
   "cell_type": "markdown",
   "metadata": {},
   "source": [
    "### GANJ-4:. Total Corpus Callosum midsagittal area, after correcting for total brain volume, will negatively correlate with IQ in the male (age < 12) group.\n"
   ]
  },
  {
   "cell_type": "code",
   "execution_count": 28,
   "metadata": {},
   "outputs": [
    {
     "name": "stdout",
     "output_type": "stream",
     "text": [
      "['study', 'ID', 'Age', 'dx', 'Gender', 'FIQ', 'PIQ', 'VIQ', 'tool', 'softwareLabel', 'structure', 'laterality', 'gm', 'wm', 'csf', 'tbv', 'cc'] 145 \n",
      "\n",
      "                            OLS Regression Results                            \n",
      "==============================================================================\n",
      "Dep. Variable:                    FIQ   R-squared:                       0.197\n",
      "Model:                            OLS   Adj. R-squared:                  0.097\n",
      "Method:                 Least Squares   F-statistic:                     1.967\n",
      "Date:                Thu, 05 Dec 2019   Prob (F-statistic):             0.0200\n",
      "Time:                        19:32:14   Log-Likelihood:                -554.52\n",
      "No. Observations:                 145   AIC:                             1143.\n",
      "Df Residuals:                     128   BIC:                             1194.\n",
      "Df Model:                          16                                         \n",
      "Covariance Type:            nonrobust                                         \n",
      "================================================================================================\n",
      "                                   coef    std err          t      P>|t|      [0.025      0.975]\n",
      "------------------------------------------------------------------------------------------------\n",
      "Intercept                       89.4968     13.320      6.719      0.000      63.142     115.852\n",
      "study[T.ABIDE MaxMun_d Site]    -0.9987      6.469     -0.154      0.878     -13.798      11.800\n",
      "study[T.ABIDE NYU Site]          1.4697      3.657      0.402      0.688      -5.766       8.706\n",
      "study[T.ABIDE OHSU Site]         3.1102      4.048      0.768      0.444      -4.899      11.120\n",
      "study[T.ABIDE Olin Site]        19.1831     12.520      1.532      0.128      -5.590      43.957\n",
      "study[T.ABIDE Pitt Site]       -10.2770      8.952     -1.148      0.253     -27.989       7.435\n",
      "study[T.ABIDE Stanford Site]     3.1727      4.988      0.636      0.526      -6.696      13.041\n",
      "study[T.ABIDE UCLA_1 Site]      -3.2302      4.760     -0.679      0.499     -12.648       6.187\n",
      "study[T.ABIDE UCLA_2 Site]       1.1411      5.980      0.191      0.849     -10.691      12.973\n",
      "study[T.ABIDE UM_1 Site]        -6.5460      4.158     -1.574      0.118     -14.773       1.681\n",
      "study[T.ABIDE Yale Site]        -5.0784      4.771     -1.064      0.289     -14.518       4.362\n",
      "study[T.ADHD200 - NYU]           2.8047      6.045      0.464      0.643      -9.156      14.766\n",
      "study[T.ADHD200 - Peking_1]      6.3104      4.163      1.516      0.132      -1.927      14.548\n",
      "study[T.ADHD200 - Peking_2]      8.5664      4.901      1.748      0.083      -1.131      18.264\n",
      "study[T.ADHD200 - Peking_3]    -12.7977      8.943     -1.431      0.155     -30.492       4.897\n",
      "Q('cc')                         -0.0031      0.004     -0.730      0.467      -0.012       0.005\n",
      "tbv                           2.525e-05    1.2e-05      2.107      0.037    1.54e-06     4.9e-05\n",
      "==============================================================================\n",
      "Omnibus:                        5.895   Durbin-Watson:                   2.053\n",
      "Prob(Omnibus):                  0.052   Jarque-Bera (JB):                7.779\n",
      "Skew:                          -0.199   Prob(JB):                       0.0205\n",
      "Kurtosis:                       4.062   Cond. No.                     1.73e+07\n",
      "==============================================================================\n",
      "\n",
      "Warnings:\n",
      "[1] Standard Errors assume that the covariance matrix of the errors is correctly specified.\n",
      "[2] The condition number is large, 1.73e+07. This might indicate that there are\n",
      "strong multicollinearity or other numerical problems.\n"
     ]
    }
   ],
   "source": [
    "ganj4_cond = ['age<12','male'] #+ hypGanj #'fiq>0','normDev','fs','age<=20','ccant'] #\n",
    "ganj4 = apply_cond(cc_tbv,  condic_cc_tbv, ganj4_cond)\n",
    "print(list(ganj4),len(ganj4),'\\n')\n",
    "\n",
    "iq = 'FIQ'\n",
    "# md = smf.ols(iq + \" ~ Q('volume') + Gender + Age + study \", data=tmp) #  \n",
    "#md = smf.ols(iq + \" ~ Q('striatum') + study + TIV \", data=stria) #  \n",
    "md = smf.ols(iq + \" ~ Q('cc') + study + tbv \", data=ganj4) #  \n",
    "mdf = md.fit()\n",
    "print(mdf.summary())\n",
    "\n",
    "\n",
    "varname, hyp_name = \"Q('cc')\",'GANJ-4'\n",
    "resdic.update(md2dic(varname,hyp_name,mdf=mdf))"
   ]
  },
  {
   "cell_type": "code",
   "execution_count": null,
   "metadata": {},
   "outputs": [],
   "source": []
  },
  {
   "cell_type": "markdown",
   "metadata": {},
   "source": [
    "### GANJ-5: Total Corpus Callosum midsagittal area, after correcting for total brain volume, will not significantly correlate with IQ in the female (age < 12) group.\n"
   ]
  },
  {
   "cell_type": "code",
   "execution_count": 29,
   "metadata": {},
   "outputs": [
    {
     "name": "stdout",
     "output_type": "stream",
     "text": [
      "['study', 'ID', 'Age', 'dx', 'Gender', 'FIQ', 'PIQ', 'VIQ', 'tool', 'softwareLabel', 'structure', 'laterality', 'gm', 'wm', 'csf', 'tbv', 'cc'] 43 \n",
      "\n",
      "                            OLS Regression Results                            \n",
      "==============================================================================\n",
      "Dep. Variable:                    FIQ   R-squared:                       0.187\n",
      "Model:                            OLS   Adj. R-squared:                 -0.102\n",
      "Method:                 Least Squares   F-statistic:                    0.6473\n",
      "Date:                Thu, 05 Dec 2019   Prob (F-statistic):              0.775\n",
      "Time:                        19:32:14   Log-Likelihood:                -169.68\n",
      "No. Observations:                  43   AIC:                             363.4\n",
      "Df Residuals:                      31   BIC:                             384.5\n",
      "Df Model:                          11                                         \n",
      "Covariance Type:            nonrobust                                         \n",
      "================================================================================================\n",
      "                                   coef    std err          t      P>|t|      [0.025      0.975]\n",
      "------------------------------------------------------------------------------------------------\n",
      "Intercept                      110.3019     40.461      2.726      0.010      27.782     192.822\n",
      "study[T.ABIDE NYU Site]         -1.2310      7.766     -0.159      0.875     -17.071      14.609\n",
      "study[T.ABIDE SDSU Site]        -1.7695     15.955     -0.111      0.912     -34.310      30.771\n",
      "study[T.ABIDE Stanford Site]     3.4630     10.906      0.318      0.753     -18.781      25.707\n",
      "study[T.ABIDE UCLA_1 Site]       0.6717     15.656      0.043      0.966     -31.259      32.602\n",
      "study[T.ABIDE UM_1 Site]        -7.5661     10.230     -0.740      0.465     -28.430      13.297\n",
      "study[T.ABIDE Yale Site]        -4.8867     12.275     -0.398      0.693     -29.922      20.149\n",
      "study[T.ADHD200 - NYU]          16.0509     11.673      1.375      0.179      -7.757      39.859\n",
      "study[T.ADHD200 - Peking_1]      1.9655      7.119      0.276      0.784     -12.555      16.486\n",
      "study[T.ADHD200 - Peking_2]     23.3791     15.732      1.486      0.147      -8.707      55.466\n",
      "Q('cc')                         -0.0071      0.011     -0.650      0.520      -0.029       0.015\n",
      "tbv                           1.783e-05   3.87e-05      0.461      0.648   -6.11e-05    9.67e-05\n",
      "==============================================================================\n",
      "Omnibus:                        4.220   Durbin-Watson:                   2.240\n",
      "Prob(Omnibus):                  0.121   Jarque-Bera (JB):                2.983\n",
      "Skew:                          -0.563   Prob(JB):                        0.225\n",
      "Kurtosis:                       3.631   Cond. No.                     2.05e+07\n",
      "==============================================================================\n",
      "\n",
      "Warnings:\n",
      "[1] Standard Errors assume that the covariance matrix of the errors is correctly specified.\n",
      "[2] The condition number is large, 2.05e+07. This might indicate that there are\n",
      "strong multicollinearity or other numerical problems.\n"
     ]
    }
   ],
   "source": [
    "ganj5_cond = ['age<12','female'] #,'fiq>0','normDev','fs','age<=20'\n",
    "ganj5 = apply_cond(cc_tbv,  condic_cc_tbv, ganj5_cond)\n",
    "print(list(ganj5),len(ganj5),'\\n')\n",
    "\n",
    "iq = 'FIQ'\n",
    "# md = smf.ols(iq + \" ~ Q('volume') + Gender + Age + study \", data=tmp) #  \n",
    "#md = smf.ols(iq + \" ~ Q('striatum') + study + TIV \", data=stria) #  \n",
    "md = smf.ols(iq + \" ~ Q('cc') + study + tbv \", data=ganj5) #  \n",
    "mdf = md.fit()\n",
    "print(mdf.summary())\n",
    "\n",
    "\n",
    "varname, hyp_name = \"Q('cc')\",'GANJ-5'\n",
    "resdic.update(md2dic(varname,hyp_name,mdf=mdf))"
   ]
  },
  {
   "cell_type": "code",
   "execution_count": 30,
   "metadata": {},
   "outputs": [
    {
     "name": "stdout",
     "output_type": "stream",
     "text": [
      "{'PIET-1': {'P>|t|': ' 0.001', 't': '    3.442', 'rsquared_adj': '0.104', 'nobs': '461'}, 'MAC-1': {'P>|t|': ' 0.001', 't': '    3.217', 'rsquared_adj': '0.0822', 'nobs': '428'}, 'MAC-2': {'P>|t|': ' 0.001', 't': '    3.341', 'rsquared_adj': '0.0918', 'nobs': '336'}, 'MAC-3': {'P>|t|': ' 0.218', 't': '    1.243', 'rsquared_adj': '0.08', 'nobs': ' 92'}, 'GANJ-1': {'P>|t|': ' 0.257', 't': '   -1.134', 'rsquared_adj': '0.0918', 'nobs': '428'}, 'GANJ-2': {'P>|t|': ' 0.156', 't': '   -1.425', 'rsquared_adj': '0.0854', 'nobs': '188'}, 'GANJ-3': {'P>|t|': ' 0.972', 't': '   -0.035', 'rsquared_adj': '0.0883', 'nobs': '355'}, 'GANJ-4': {'P>|t|': ' 0.467', 't': '   -0.730', 'rsquared_adj': '0.097', 'nobs': '145'}, 'GANJ-5': {'P>|t|': ' 0.520', 't': '   -0.650', 'rsquared_adj': '-0.102', 'nobs': ' 43'}}\n"
     ]
    }
   ],
   "source": [
    "print(resdic)"
   ]
  },
  {
   "cell_type": "markdown",
   "metadata": {},
   "source": [
    "### Scrap"
   ]
  },
  {
   "cell_type": "code",
   "execution_count": 31,
   "metadata": {},
   "outputs": [],
   "source": [
    "\"\"\"\n",
    "hyp2 = ['fiq>0','normDev','fs','age<20']\n",
    "hyp2_caud = hyp2 + ['caudate'] # ,'abide']\n",
    "hyp2_put = hyp2 + ['putamen'] # ,'abide']\n",
    "hyp2_tiv = hyp2 + ['TIV'] # ,'abide']\n",
    "tmp_caud = apply_cond(hie, condic, hyp2_caud, dropnaset=dropnaset)\n",
    "caud = split_merge_df(tmp_caud, indx='ID', spliton='laterality', levels=['Left','Right'], \n",
    "                       keep_col='volume', op='+',colrename='caudate')\n",
    "tmp_put = apply_cond(hie, condic, hyp2_put, dropnaset=dropnaset)\n",
    "put = split_merge_df(tmp_put, indx='ID', spliton='laterality', levels=['Left','Right'], \n",
    "                       keep_col='volume', op='+',colrename='putamen')\n",
    "tmp_tiv = apply_cond(hie, condic, hyp2_tiv, dropnaset=dropnaset)\n",
    "print(len(caud), len(put), len(tmp_tiv))\n",
    "\n",
    "stria = pd.merge(left=caud, right=put[['ID','putamen']], left_on='ID', right_on='ID')\n",
    "stria['striatum'] = stria['caudate']+stria['putamen']\n",
    "stria = pd.merge(left=stria, right=tmp_tiv[['ID','volume']], left_on='ID', right_on='ID')\n",
    "stria.rename(columns={'volume':'TIV'},inplace=True)\n",
    "print(list(stria),len(stria))\n",
    "\"\"\";"
   ]
  },
  {
   "cell_type": "code",
   "execution_count": null,
   "metadata": {},
   "outputs": [],
   "source": []
  }
 ],
 "metadata": {
  "kernelspec": {
   "display_name": "Python 3",
   "language": "python",
   "name": "python3"
  },
  "language_info": {
   "codemirror_mode": {
    "name": "ipython",
    "version": 3
   },
   "file_extension": ".py",
   "mimetype": "text/x-python",
   "name": "python",
   "nbconvert_exporter": "python",
   "pygments_lexer": "ipython3",
   "version": "3.6.8"
  },
  "toc": {
   "nav_menu": {},
   "number_sections": true,
   "sideBar": true,
   "skip_h1_title": false,
   "toc_cell": false,
   "toc_position": {},
   "toc_section_display": "block",
   "toc_window_display": false
  }
 },
 "nbformat": 4,
 "nbformat_minor": 2
}
