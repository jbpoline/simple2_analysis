{
 "cells": [
  {
   "cell_type": "code",
   "execution_count": 1,
   "metadata": {},
   "outputs": [],
   "source": [
    "import pandas as pd\n",
    "import numpy as np\n",
    "import statsmodels as stt\n",
    "import scipy.stats as sst\n",
    "import os.path as osp\n",
    "from statsmodels import api as sm\n",
    "import statsmodels.formula.api as smf\n",
    "import matplotlib.pyplot as plt\n",
    "import json\n",
    "%matplotlib inline"
   ]
  },
  {
   "cell_type": "code",
   "execution_count": 2,
   "metadata": {},
   "outputs": [
    {
     "name": "stdout",
     "output_type": "stream",
     "text": [
      "/home/jb/code/repronim/simple2/simple2_analysis\n"
     ]
    }
   ],
   "source": [
    "print(osp.realpath(osp.curdir))\n",
    "relative_path_filename = './data/data.csv'\n",
    "assert osp.exists(relative_path_filename)"
   ]
  },
  {
   "cell_type": "code",
   "execution_count": 3,
   "metadata": {},
   "outputs": [
    {
     "name": "stdout",
     "output_type": "stream",
     "text": [
      "['study', 'ID', 'Age', 'dx', 'Gender', 'FIQ', 'PIQ', 'VIQ', 'tool', 'softwareLabel', 'federatedLabel', 'laterality', 'volume']\n",
      "['study', 'ID', 'Age', 'dx', 'Gender', 'FIQ', 'PIQ', 'VIQ', 'tool', 'softwareLabel', 'structure', 'laterality', 'volume']\n"
     ]
    },
    {
     "name": "stderr",
     "output_type": "stream",
     "text": [
      "/home/jb/virtualenvs/simple2/lib/python3.6/site-packages/IPython/core/interactiveshell.py:3049: DtypeWarning: Columns (3) have mixed types. Specify dtype option on import or set low_memory=False.\n",
      "  interactivity=interactivity, compiler=compiler, result=result)\n"
     ]
    }
   ],
   "source": [
    "hie = pd.read_csv(relative_path_filename, na_values='nd') #, low_memory=False)\n",
    "original_col_names = list(hie)\n",
    "# column names are unique\n",
    "assert len(original_col_names) == len(set(original_col_names))\n",
    "print(list(hie))\n",
    "col_rename = {'federatedLabel':'structure'}\n",
    "hie.rename(columns=col_rename, inplace=True)\n",
    "print(list(hie))"
   ]
  },
  {
   "cell_type": "code",
   "execution_count": 4,
   "metadata": {},
   "outputs": [],
   "source": [
    "# mapping_file = '../segstats_jsonld/segstats_jsonld/mapping_data/freesurfermap.json'\n",
    "mapping_file = '../segstats_jsonld/segstats_jsonld/mapping_data/freesurfer-cdes.json'\n",
    "assert osp.exists(mapping_file)\n",
    "with open(mapping_file, \"r\") as read_file:\n",
    "    roi_map = json.load(read_file)"
   ]
  },
  {
   "cell_type": "code",
   "execution_count": 5,
   "metadata": {},
   "outputs": [],
   "source": [
    "ube2h = {}\n",
    "label2ube = {}\n",
    "countok=0\n",
    "has_no_isAbout = []\n",
    "has_no_label = []\n",
    "\n",
    "for (k,v) in roi_map.items():\n",
    "    \n",
    "    # discard 'count'\n",
    "    if k == 'count': pass\n",
    "    \n",
    "    # v is a dict that contains the CDE - check that we have a isAbout and label    \n",
    "    elif 'isAbout' in v:\n",
    "        countok += 1\n",
    "        if 'label' in v:\n",
    "            if v['label'] != '' and v['label'] not in ('None','none'):\n",
    "                #ube['<' + v['isAbout'] + '>'] = v['label']\n",
    "                #ebu[v['label']] = '<' + v['isAbout'] + '>'\n",
    "                label2ube[v['label']] = v['isAbout']\n",
    "                if v['isAbout'] not in ube2h.keys():\n",
    "                    no_right_or_left = v['label']\n",
    "                    no_right_or_left = no_right_or_left.replace('Right-','')\n",
    "                    no_right_or_left = no_right_or_left.replace('Right ','')\n",
    "                    no_right_or_left = no_right_or_left.replace('Left-','')\n",
    "                    no_right_or_left = no_right_or_left.replace('Left ','')\n",
    "                    no_right_or_left = no_right_or_left.replace(' NVoxels','')\n",
    "                    no_right_or_left = no_right_or_left.replace(' (mm^3)','')\n",
    "                    ube2h[v['isAbout']] = no_right_or_left\n",
    "            else:\n",
    "                has_no_label.append(k)\n",
    "\n",
    "assert has_no_isAbout == []\n",
    "assert countok == len(label2ube)"
   ]
  },
  {
   "cell_type": "code",
   "execution_count": 6,
   "metadata": {},
   "outputs": [],
   "source": [
    "label2ube;\n",
    "ube2h\n",
    "h2ube = {v: k for k, v in ube2h.items()}"
   ]
  },
  {
   "cell_type": "code",
   "execution_count": null,
   "metadata": {},
   "outputs": [],
   "source": []
  },
  {
   "cell_type": "code",
   "execution_count": 7,
   "metadata": {},
   "outputs": [],
   "source": [
    "def split_merge_df(df, indx='ID', spliton='laterality', levels=['Left','Right'], \n",
    "                       keep_col='volume', op='+', colrename=None):\n",
    "    \"\"\"\n",
    "    1. split the df according to 2 (n?) levels of \"spliton\"\n",
    "    2. merge the 2 (n?) df using indx as index\n",
    "    3. keep only \"keep_col\" for the right temporary df\n",
    "    4. perform op on the columns \"keep_col\" and name it 'keep_col'+'_'+ levels[0] + op + levels[1]    \n",
    "    \n",
    "    example: for adding volumes in right and left structures\n",
    "    \"\"\"\n",
    "    \n",
    "    dflev1 = df[df[spliton]==levels[0]]\n",
    "    dflev2 = df[df[spliton]==levels[1]] \n",
    "\n",
    "    # check that the new dfs have no duplicates in the indx\n",
    "\n",
    "    assert set(dflev1[indx]) == set(dflev2[indx])\n",
    "    assert len(set(dflev1[indx])) == len(dflev1[indx])\n",
    "    \n",
    "    # assert len(set(dflev2[indx])) == len(dflev2[indx])\n",
    "    # suffixes=('_l','_r')\n",
    "    merged_inner = pd.merge(left=dflev1, right=dflev2[[indx,keep_col]], \n",
    "                            left_on=indx, right_on=indx, suffixes=levels, how='inner')\n",
    "#    merged_inner.rename(columns={cols+'_x': cols+'_'+lev1, cols+'_y': cols+'_'+lev2}, inplace=True)\n",
    "\n",
    "    # sum keep_col values in a new column\n",
    "    add_col_name = keep_col + levels[0] + op + levels[1]\n",
    "    if op == '+':\n",
    "        merged_inner[add_col_name] = \\\n",
    "                        merged_inner[keep_col+levels[0]] + merged_inner[keep_col+levels[1]]  \n",
    "    if colrename is not None:\n",
    "        merged_inner.rename(columns={add_col_name:colrename}, inplace=True)\n",
    "    return merged_inner\n",
    "\n",
    "\"\"\"\n",
    "    if droplist != []:\n",
    "        for colname in droplist:\n",
    "            colname_y = colname + '_y'\n",
    "            colname_x = colname + '_x'\n",
    "            merged_inner.drop(colname_y, axis=1, inplace=True)\n",
    "            merged_inner.rename(columns={colname_x: colname}, inplace=True)\n",
    "\"\"\";"
   ]
  },
  {
   "cell_type": "code",
   "execution_count": 8,
   "metadata": {},
   "outputs": [],
   "source": [
    "tooldic = {'surfer':'https://surfer.nmr.mgh.harvard.edu/', \n",
    "       'fsl':'http://purl.org/nidash/fsl#',\n",
    "       'ants':'http://stnava.github.io/ANTs/'}\n",
    "normalDev = (2, '2', 'Typically Developing Children')\n",
    "adhd = (1, '1', 'ADHD-Combined', 'ADHD-Hyperactive/Impulsive', 'ADHD-Inattentive')\n",
    "\n",
    "\n",
    "def define_conditions(df, tooldic={}, normalDev=(), adhd=(), h2ube={}):\n",
    "    \"\"\"\n",
    "    create dic of conditions\n",
    "    \n",
    "    \"\"\"\n",
    "    diccond={}\n",
    "    diccond['left'] = ((df['laterality'] == 'L')|(hie['laterality'] == 'Left'))\n",
    "    diccond['right'] = ((df['laterality'] == 'R')|(hie['laterality'] == 'Right'))\n",
    "    diccond['latNan'] = (df['laterality'] != 'Right') & (df['laterality'] != 'Left')\n",
    "\n",
    "    #========== age \n",
    "    diccond['age<20'] = (df['Age'] <= 20)\n",
    "    diccond['age<12'] = (df['Age'] <= 12)\n",
    "    diccond['age>12'] = (df['Age'] <= 12)\n",
    "    \n",
    "    #========== tool conditions\n",
    "    diccond['fs'] = (df['tool'] == tooldic['surfer'])\n",
    "    diccond['ants'] = (df['tool'] == tooldic['ants'])\n",
    "    diccond['fsl'] = (df['tool'] == tooldic['fsl'])\n",
    "    \n",
    "    #========== IQ conditions\n",
    "    diccond['fiq>0'] = (df['FIQ'] > 0 )\n",
    "    \n",
    "    #========== disease conditions\n",
    "    pop_normDev = False\n",
    "    for pop in normalDev:\n",
    "        # print(np.sum(pop_cond))\n",
    "        pop_normDev = pop_normDev | (df['dx'] == pop)\n",
    "    diccond['normDev'] =  pop_normDev\n",
    "    \n",
    "    pop_adhd = False\n",
    "    for pop in adhd:\n",
    "        # print(np.sum(pop_cond))\n",
    "        pop_adhd = pop_adhd | (df['dx'] == pop)\n",
    "    diccond['adhd'] =  pop_adhd\n",
    "\n",
    "    #=========== ROIs\n",
    "    roi_ub = ''\n",
    "    diccond['bvol'] = (df['softwareLabel'] == 'BVOL (mm^3)')\n",
    "    diccond['brainseg'] = (df['softwareLabel'] == 'Brain Segmentation Volume (mm^3)') \n",
    "    diccond['caudate'] = (df['structure'] == h2ube['Caudate'])\n",
    "    diccond['putamen'] = (df['structure'] == h2ube['Putamen'])\n",
    "    diccond['TIV'] = (df['structure'] == h2ube['Estimated Total Intracranial Volume'])\n",
    "    diccond['wm'] =  (df['structure'] == h2ube['hemisphere cerebral white matter volume'])\n",
    "    diccond['gm'] =  (df['structure'] == h2ube['Total gray matter volume'])\n",
    "    diccond['csf'] =  (df['structure'] == h2ube['CSF'])\n",
    "    diccond['ccant'] =  (df['structure'] == h2ube['CC_Anterior'])\n",
    "    diccond['cccen'] =  (df['structure'] == h2ube['CC_Central'])\n",
    "    diccond['ccpos'] =  (df['structure'] == h2ube['CC_Posterior'])\n",
    "\n",
    "    #=========== site\n",
    "    diccond['abide'] = (df['study'].str.contains(\"ABIDE\"))\n",
    "    diccond['adhd200'] = (df['study'] == 'ADHD200')\n",
    "    \n",
    "    #=========== Gender\n",
    "    diccond['male'] = (df['Gender']=='Male')\n",
    "    diccond['female'] = (df['Gender']=='Female')\n",
    "\n",
    "    return diccond\n"
   ]
  },
  {
   "cell_type": "code",
   "execution_count": 9,
   "metadata": {},
   "outputs": [
    {
     "data": {
      "text/plain": [
       "dict_keys(['left', 'right', 'latNan', 'age<20', 'age<12', 'age>12', 'fs', 'ants', 'fsl', 'fiq>0', 'normDev', 'adhd', 'bvol', 'brainseg', 'caudate', 'putamen', 'TIV', 'wm', 'gm', 'csf', 'ccant', 'cccen', 'ccpos', 'abide', 'adhd200', 'male', 'female'])"
      ]
     },
     "execution_count": 9,
     "metadata": {},
     "output_type": "execute_result"
    }
   ],
   "source": [
    "condic = define_conditions(hie, tooldic=tooldic, normalDev=normalDev, adhd=adhd, h2ube=h2ube)\n",
    "condic.keys()"
   ]
  },
  {
   "cell_type": "code",
   "execution_count": 10,
   "metadata": {},
   "outputs": [],
   "source": [
    "def apply_cond(df, cndc, conditions, dropnaset=[],columns={}):\n",
    "    \"\"\"\n",
    "    List of conditions\n",
    "    \"\"\"\n",
    "    cond = np.full((len(df),), True, dtype=bool)\n",
    "    \n",
    "    for c in conditions:\n",
    "        cond = cond & cndc[c]\n",
    "        # print(np.sum(cond))\n",
    "        \n",
    "    # condition = [cond & cndc[c] for c in conditions][0]\n",
    "    # print(len(condition),np.sum(condition))\n",
    "    \n",
    "    # make a copy\n",
    "    tmp = df.loc[cond].dropna(subset=dropnaset)\n",
    "    if columns:\n",
    "        tmp.rename(columns=columns, inplace=True)\n",
    "        \n",
    "    return tmp\n",
    "    "
   ]
  },
  {
   "cell_type": "code",
   "execution_count": 11,
   "metadata": {},
   "outputs": [
    {
     "name": "stdout",
     "output_type": "stream",
     "text": [
      "manual:  408\n"
     ]
    }
   ],
   "source": [
    "# hyp1 = ['bvol','ants','left','age<20','fiq>0','normDev']\n",
    "# hyp1 = ['fiq>0','abide','caudate', 'putamen']\n",
    "hyp1 = ['female', 'caudate','fs','fiq>0'] # ,'abide']\n",
    "condic = define_conditions(hie, tooldic=tooldic, normalDev=normalDev, adhd=adhd, h2ube=h2ube)\n",
    "tmp = apply_cond(hie, condic, hyp1)\n",
    "# print('apply:', len(tmp.dropna(subset=['FIQ', 'volume', 'Gender'])))\n",
    "\n",
    "manual = hie.loc[(hie['Gender']=='Female') & \n",
    "#                 (hie['study'].str.contains(\"ABIDE\")) &\n",
    "                 (hie['structure'] == h2ube['Caudate']) &\n",
    "                 (hie['tool'] == tooldic['surfer']) & \n",
    "                 (hie['FIQ'] > 0) ] \n",
    "manual = manual.dropna(subset=['FIQ', 'volume', 'Gender']) #,inplace=True)\n",
    "print('manual: ',len(manual))\n",
    "assert len(tmp.dropna(subset=['FIQ', 'volume', 'Gender'])) == len(manual)\n"
   ]
  },
  {
   "cell_type": "code",
   "execution_count": 12,
   "metadata": {},
   "outputs": [],
   "source": [
    "structures = set(hie.structure)\n"
   ]
  },
  {
   "cell_type": "markdown",
   "metadata": {},
   "source": [
    "Hypotheses\n",
    "\n",
    "PIET-1: Total Brain Volume will positively correlate with IQ (in both sexes across the complete age range).\n",
    "\n",
    "MAC-1: Left striatum volume (caudate + putamen) will positively correlate with IQ in the total (male + female) child (age < 20) group.\n",
    "\n",
    "MAC-2: Left striatum volume (caudate + putamen) will positively correlate with IQ in the male children group.\n",
    "\n",
    "MAC-3: Left striatum volume (caudate + putamen) will not correlate with IQ in the female children group.\n",
    "\n",
    "GANJ-1: Total Corpus Callosum midsagittal area, after correcting for total brain volume, will negatively correlate with IQ.\n",
    "\n",
    "GANJ-2: Total Corpus Callosum midsagittal area, after correcting for total brain volume, will negatively correlate with IQ in the young (age < 12) group.\n",
    "\n",
    "GANJ-3: Total Corpus Callosum midsagittal area, after correcting for total brain volume, will not significantly correlate with IQ in the adolescent (age > 12) group.\n",
    "\n",
    "GANJ-4:. Total Corpus Callosum midsagittal area, after correcting for total brain volume, will negatively correlate with IQ in the male (age < 12) group.\n",
    "\n",
    "GANJ-5: Total Corpus Callosum midsagittal area, after correcting for total brain volume, will not significantly correlate with IQ in the female (age < 12) group.\n"
   ]
  },
  {
   "cell_type": "markdown",
   "metadata": {},
   "source": [
    "### PIET-1: Total Brain Volume will positively correlate with IQ (in both sexes across the complete age range).\n"
   ]
  },
  {
   "cell_type": "code",
   "execution_count": 13,
   "metadata": {},
   "outputs": [
    {
     "name": "stdout",
     "output_type": "stream",
     "text": [
      "dict_keys(['left', 'right', 'latNan', 'age<20', 'age<12', 'age>12', 'fs', 'ants', 'fsl', 'fiq>0', 'normDev', 'adhd', 'bvol', 'brainseg', 'caudate', 'putamen', 'TIV', 'wm', 'gm', 'csf', 'ccant', 'cccen', 'ccpos', 'abide', 'adhd200', 'male', 'female'])\n"
     ]
    }
   ],
   "source": [
    "condic = define_conditions(hie, tooldic=tooldic, normalDev=normalDev, adhd=adhd, h2ube=h2ube)\n",
    "print(condic.keys())\n",
    "dropnaset = ['FIQ', 'volume', 'Gender']\n"
   ]
  },
  {
   "cell_type": "code",
   "execution_count": 14,
   "metadata": {},
   "outputs": [
    {
     "name": "stdout",
     "output_type": "stream",
     "text": [
      "461\n"
     ]
    }
   ],
   "source": [
    "hyp1 = ['bvol', 'fiq>0','normDev','ants'] # ,'abide']\n",
    "tmp = apply_cond(hie, condic, hyp1, dropnaset=dropnaset)\n",
    "print(len(tmp))"
   ]
  },
  {
   "cell_type": "code",
   "execution_count": 15,
   "metadata": {},
   "outputs": [
    {
     "name": "stdout",
     "output_type": "stream",
     "text": [
      " Structure =  bvol\n",
      "                            OLS Regression Results                            \n",
      "==============================================================================\n",
      "Dep. Variable:                    FIQ   R-squared:                       0.147\n",
      "Model:                            OLS   Adj. R-squared:                  0.104\n",
      "Method:                 Least Squares   F-statistic:                     3.434\n",
      "Date:                Wed, 04 Dec 2019   Prob (F-statistic):           4.18e-07\n",
      "Time:                        21:32:52   Log-Likelihood:                -1800.5\n",
      "No. Observations:                 461   AIC:                             3647.\n",
      "Df Residuals:                     438   BIC:                             3742.\n",
      "Df Model:                          22                                         \n",
      "Covariance Type:            nonrobust                                         \n",
      "=================================================================================================\n",
      "                                    coef    std err          t      P>|t|      [0.025      0.975]\n",
      "-------------------------------------------------------------------------------------------------\n",
      "Intercept                        86.2151     11.037      7.811      0.000      64.522     107.908\n",
      "study[T.ABIDE CMU_b Site]        15.6089     15.109      1.033      0.302     -14.087      45.305\n",
      "study[T.ABIDE KKI Site]          14.7060     15.106      0.974      0.331     -14.984      44.396\n",
      "study[T.ABIDE Leuven_1 Site]      0.2214     15.107      0.015      0.988     -29.471      29.914\n",
      "study[T.ABIDE MaxMun_c Site]      8.5004     15.242      0.558      0.577     -21.457      38.457\n",
      "study[T.ABIDE NYU Site]           3.2458      8.808      0.368      0.713     -14.066      20.557\n",
      "study[T.ABIDE OHSU Site]          5.7211      9.286      0.616      0.538     -12.529      23.971\n",
      "study[T.ABIDE Olin Site]          5.0217      9.251      0.543      0.588     -13.161      23.204\n",
      "study[T.ABIDE Pitt Site]         -1.2876      9.076     -0.142      0.887     -19.125      16.550\n",
      "study[T.ABIDE SDSU Site]         -1.7926      9.148     -0.196      0.845     -19.773      16.187\n",
      "study[T.ABIDE Stanford Site]      6.4696      9.190      0.704      0.482     -11.592      24.531\n",
      "study[T.ABIDE Trinity Site]      -2.0922      9.120     -0.229      0.819     -20.016      15.831\n",
      "study[T.ABIDE UCLA_1 Site]       -4.1032      8.992     -0.456      0.648     -21.775      13.569\n",
      "study[T.ABIDE UCLA_2 Site]        1.6163      9.368      0.173      0.863     -16.796      20.029\n",
      "study[T.ABIDE UM_1 Site]         -2.8822      8.888     -0.324      0.746     -20.350      14.586\n",
      "study[T.ABIDE UM_2 Site]          0.2753      9.136      0.030      0.976     -17.680      18.230\n",
      "study[T.ABIDE Yale Site]         -4.1197      9.028     -0.456      0.648     -21.864      13.625\n",
      "study[T.ADHD200 - NYU]            3.5743      9.424      0.379      0.705     -14.948      22.096\n",
      "study[T.ADHD200 - Peking_1]       7.2431      9.052      0.800      0.424     -10.548      25.034\n",
      "study[T.ADHD200 - Peking_2]      11.3232      9.003      1.258      0.209      -6.371      29.017\n",
      "study[T.ADHD200 - Peking_3]      -0.1304      9.489     -0.014      0.989     -18.781      18.520\n",
      "study[T.ADHD200 - Pittsburgh]    -0.0670     10.319     -0.006      0.995     -20.349      20.215\n",
      "Q('volume')                    1.628e-05   4.73e-06      3.442      0.001    6.99e-06    2.56e-05\n",
      "==============================================================================\n",
      "Omnibus:                        5.317   Durbin-Watson:                   1.998\n",
      "Prob(Omnibus):                  0.070   Jarque-Bera (JB):                5.424\n",
      "Skew:                          -0.190   Prob(JB):                       0.0664\n",
      "Kurtosis:                       3.372   Cond. No.                     1.06e+08\n",
      "==============================================================================\n",
      "\n",
      "Warnings:\n",
      "[1] Standard Errors assume that the covariance matrix of the errors is correctly specified.\n",
      "[2] The condition number is large, 1.06e+08. This might indicate that there are\n",
      "strong multicollinearity or other numerical problems.\n"
     ]
    }
   ],
   "source": [
    "print(\" Structure = \", 'bvol')\n",
    "#assert ube2h[tmp.iloc[0]['structure']] == roi\n",
    "\n",
    "iq = 'FIQ'\n",
    "\n",
    "# md = smf.ols(iq + \" ~ Q('volume') + Gender + Age + study \", data=tmp) #  \n",
    "md = smf.ols(iq + \" ~ Q('volume') + study \", data=tmp) #  \n",
    "mdf = md.fit()\n",
    "print(mdf.summary())"
   ]
  },
  {
   "cell_type": "markdown",
   "metadata": {},
   "source": [
    "### MAC-1: Left striatum volume (caudate + putamen) will positively correlate with IQ in the total (male + female) child (age < 20) group.\n"
   ]
  },
  {
   "cell_type": "code",
   "execution_count": 16,
   "metadata": {},
   "outputs": [
    {
     "name": "stdout",
     "output_type": "stream",
     "text": [
      "432 432 432\n",
      "['study', 'ID', 'Age', 'dx', 'Gender', 'FIQ', 'PIQ', 'VIQ', 'tool', 'softwareLabel', 'structure', 'laterality', 'volumeLeft', 'volumeRight', 'caudate', 'putamen', 'striatum', 'TIV'] 432\n"
     ]
    }
   ],
   "source": [
    "hyp2_caud = ['fiq>0','normDev','fs','age<20','caudate'] # ,'abide']\n",
    "hyp2_put = ['fiq>0','normDev','fs','age<20','putamen'] # ,'abide']\n",
    "hyp2_tiv = ['fiq>0','normDev','fs','age<20','TIV'] # ,'abide']\n",
    "tmp_caud = apply_cond(hie, condic, hyp2_caud, dropnaset=dropnaset)\n",
    "caud = split_merge_df(tmp_caud, indx='ID', spliton='laterality', levels=['Left','Right'], \n",
    "                       keep_col='volume', op='+',colrename='caudate')\n",
    "tmp_put = apply_cond(hie, condic, hyp2_put, dropnaset=dropnaset)\n",
    "put = split_merge_df(tmp_put, indx='ID', spliton='laterality', levels=['Left','Right'], \n",
    "                       keep_col='volume', op='+',colrename='putamen')\n",
    "tmp_tiv = apply_cond(hie, condic, hyp2_tiv, dropnaset=dropnaset)\n",
    "print(len(caud), len(put), len(tmp_tiv))\n",
    "\n",
    "stria = pd.merge(left=caud, right=put[['ID','putamen']], left_on='ID', right_on='ID')\n",
    "stria['striatum'] = stria['caudate']+stria['putamen']\n",
    "stria = pd.merge(left=stria, right=tmp_tiv[['ID','volume']], left_on='ID', right_on='ID')\n",
    "stria.rename(columns={'volume':'TIV'},inplace=True)\n",
    "print(list(stria),len(stria))"
   ]
  },
  {
   "cell_type": "code",
   "execution_count": 17,
   "metadata": {},
   "outputs": [
    {
     "name": "stdout",
     "output_type": "stream",
     "text": [
      " Structure =  striatum\n",
      "                            OLS Regression Results                            \n",
      "==============================================================================\n",
      "Dep. Variable:                    FIQ   R-squared:                       0.124\n",
      "Model:                            OLS   Adj. R-squared:                  0.079\n",
      "Method:                 Least Squares   F-statistic:                     2.770\n",
      "Date:                Wed, 04 Dec 2019   Prob (F-statistic):           5.71e-05\n",
      "Time:                        21:32:54   Log-Likelihood:                -1681.1\n",
      "No. Observations:                 432   AIC:                             3406.\n",
      "Df Residuals:                     410   BIC:                             3496.\n",
      "Df Model:                          21                                         \n",
      "Covariance Type:            nonrobust                                         \n",
      "=================================================================================================\n",
      "                                    coef    std err          t      P>|t|      [0.025      0.975]\n",
      "-------------------------------------------------------------------------------------------------\n",
      "Intercept                       107.2688     13.306      8.062      0.000      81.112     133.426\n",
      "study[T.ABIDE Caltech Site]     -12.2785     13.626     -0.901      0.368     -39.065      14.508\n",
      "study[T.ABIDE KKI Site]         -14.5142     12.412     -1.169      0.243     -38.913       9.885\n",
      "study[T.ABIDE MaxMun_d Site]    -16.2508     13.178     -1.233      0.218     -42.156       9.655\n",
      "study[T.ABIDE NYU Site]         -14.9046     12.295     -1.212      0.226     -39.074       9.265\n",
      "study[T.ABIDE OHSU Site]        -10.9003     12.593     -0.866      0.387     -35.655      13.855\n",
      "study[T.ABIDE Olin Site]        -18.8119     12.717     -1.479      0.140     -43.811       6.187\n",
      "study[T.ABIDE Pitt Site]        -19.3190     12.603     -1.533      0.126     -44.093       5.455\n",
      "study[T.ABIDE SDSU Site]        -18.8936     12.506     -1.511      0.132     -43.478       5.691\n",
      "study[T.ABIDE Stanford Site]    -11.9507     12.495     -0.956      0.339     -36.514      12.612\n",
      "study[T.ABIDE Trinity Site]     -16.6650     13.412     -1.243      0.215     -43.029       9.699\n",
      "study[T.ABIDE UCLA_1 Site]      -22.4707     12.399     -1.812      0.071     -46.844       1.903\n",
      "study[T.ABIDE UCLA_2 Site]      -16.2810     12.676     -1.284      0.200     -41.199       8.637\n",
      "study[T.ABIDE UM_1 Site]        -19.2463     12.301     -1.565      0.118     -43.427       4.935\n",
      "study[T.ABIDE UM_2 Site]        -16.4432     12.525     -1.313      0.190     -41.064       8.178\n",
      "study[T.ABIDE Yale Site]        -20.8817     12.396     -1.685      0.093     -45.249       3.485\n",
      "study[T.ADHD200 - NYU]          -13.8697     12.724     -1.090      0.276     -38.882      11.143\n",
      "study[T.ADHD200 - Peking_1]      -9.6861     12.425     -0.780      0.436     -34.110      14.738\n",
      "study[T.ADHD200 - Peking_2]      -6.5131     12.646     -0.515      0.607     -31.372      18.346\n",
      "study[T.ADHD200 - Peking_3]     -15.2549     12.515     -1.219      0.224     -39.856       9.346\n",
      "study[T.ADHD200 - Pittsburgh]   -18.5766     13.395     -1.387      0.166     -44.908       7.755\n",
      "Q('striatum')                     0.0010      0.000      3.105      0.002       0.000       0.002\n",
      "==============================================================================\n",
      "Omnibus:                        3.816   Durbin-Watson:                   1.915\n",
      "Prob(Omnibus):                  0.148   Jarque-Bera (JB):                3.565\n",
      "Skew:                          -0.201   Prob(JB):                        0.168\n",
      "Kurtosis:                       3.193   Cond. No.                     1.83e+06\n",
      "==============================================================================\n",
      "\n",
      "Warnings:\n",
      "[1] Standard Errors assume that the covariance matrix of the errors is correctly specified.\n",
      "[2] The condition number is large, 1.83e+06. This might indicate that there are\n",
      "strong multicollinearity or other numerical problems.\n"
     ]
    }
   ],
   "source": [
    "print(\" Structure = \", 'striatum')\n",
    "\n",
    "iq = 'FIQ'\n",
    "\n",
    "# md = smf.ols(iq + \" ~ Q('volume') + Gender + Age + study \", data=tmp) #  \n",
    "# md = smf.ols(iq + \" ~ Q('striatum') + study + TIV \", data=stria) #  \n",
    "md = smf.ols(iq + \" ~ Q('striatum') + study \", data=stria) #  \n",
    "mdf = md.fit()\n",
    "print(mdf.summary())"
   ]
  },
  {
   "cell_type": "markdown",
   "metadata": {},
   "source": [
    "### MAC-2: Left striatum volume (caudate + putamen) will positively correlate with IQ in the male children group.\n"
   ]
  },
  {
   "cell_type": "code",
   "execution_count": 18,
   "metadata": {},
   "outputs": [
    {
     "name": "stdout",
     "output_type": "stream",
     "text": [
      "337 337 337\n",
      "['study', 'ID', 'Age', 'dx', 'Gender', 'FIQ', 'PIQ', 'VIQ', 'tool', 'softwareLabel', 'structure', 'laterality', 'caudate', 'putamen', 'striatum', 'TIV'] 337\n"
     ]
    }
   ],
   "source": [
    "hyp3_caud = ['fiq>0','normDev','fs','age<20','caudate','left','male'] # ,'abide']\n",
    "hyp3_put = ['fiq>0','normDev','fs','age<20','putamen','left','male'] # ,'abide']\n",
    "hyp3_tiv = ['fiq>0','normDev','fs','age<20','TIV','male'] # ,'abide']\n",
    "caud = apply_cond(hie, condic, hyp3_caud, dropnaset=dropnaset)\n",
    "caud.rename(columns={'volume':'caudate'},inplace=True)\n",
    "\n",
    "put = apply_cond(hie, condic, hyp3_put, dropnaset=dropnaset)\n",
    "put.rename(columns={'volume':'putamen'},inplace=True)\n",
    "\n",
    "tiv = apply_cond(hie, condic, hyp3_tiv, dropnaset=dropnaset)\n",
    "print(len(caud), len(put), len(tiv))\n",
    "\n",
    "stria = pd.merge(left=caud, right=put[['ID','putamen']], left_on='ID', right_on='ID')\n",
    "stria['striatum'] = stria['caudate']+stria['putamen']\n",
    "stria = pd.merge(left=stria, right=tmp_tiv[['ID','volume']], left_on='ID', right_on='ID')\n",
    "stria.rename(columns={'volume':'TIV'},inplace=True)\n",
    "print(list(stria),len(stria))"
   ]
  },
  {
   "cell_type": "code",
   "execution_count": 19,
   "metadata": {},
   "outputs": [
    {
     "name": "stdout",
     "output_type": "stream",
     "text": [
      " Structure =  striatum\n",
      "                            OLS Regression Results                            \n",
      "==============================================================================\n",
      "Dep. Variable:                    FIQ   R-squared:                       0.147\n",
      "Model:                            OLS   Adj. R-squared:                  0.093\n",
      "Method:                 Least Squares   F-statistic:                     2.719\n",
      "Date:                Wed, 04 Dec 2019   Prob (F-statistic):           0.000131\n",
      "Time:                        21:32:57   Log-Likelihood:                -1296.3\n",
      "No. Observations:                 337   AIC:                             2635.\n",
      "Df Residuals:                     316   BIC:                             2715.\n",
      "Df Model:                          20                                         \n",
      "Covariance Type:            nonrobust                                         \n",
      "=================================================================================================\n",
      "                                    coef    std err          t      P>|t|      [0.025      0.975]\n",
      "-------------------------------------------------------------------------------------------------\n",
      "Intercept                        92.1633      9.659      9.542      0.000      73.159     111.167\n",
      "study[T.ABIDE KKI Site]          -5.0426      7.192     -0.701      0.484     -19.192       9.107\n",
      "study[T.ABIDE MaxMun_d Site]     -5.1616      8.278     -0.624      0.533     -21.448      11.125\n",
      "study[T.ABIDE NYU Site]          -4.8442      6.945     -0.698      0.486     -18.508       8.819\n",
      "study[T.ABIDE OHSU Site]          0.2350      7.402      0.032      0.975     -14.328      14.798\n",
      "study[T.ABIDE Olin Site]         -9.2916      7.724     -1.203      0.230     -24.489       5.905\n",
      "study[T.ABIDE Pitt Site]         -9.5667      7.462     -1.282      0.201     -24.249       5.115\n",
      "study[T.ABIDE SDSU Site]         -5.2806      7.447     -0.709      0.479     -19.933       9.371\n",
      "study[T.ABIDE Stanford Site]     -1.9481      7.402     -0.263      0.793     -16.512      12.615\n",
      "study[T.ABIDE Trinity Site]      -5.9518      8.582     -0.693      0.489     -22.838      10.934\n",
      "study[T.ABIDE UCLA_1 Site]      -11.5950      7.115     -1.630      0.104     -25.594       2.404\n",
      "study[T.ABIDE UCLA_2 Site]       -3.7077      7.637     -0.485      0.628     -18.733      11.318\n",
      "study[T.ABIDE UM_1 Site]         -7.2253      7.033     -1.027      0.305     -21.062       6.612\n",
      "study[T.ABIDE UM_2 Site]         -5.3739      7.303     -0.736      0.462     -19.743       8.995\n",
      "study[T.ABIDE Yale Site]        -11.9497      7.250     -1.648      0.100     -26.214       2.314\n",
      "study[T.ADHD200 - NYU]           -5.3557      7.943     -0.674      0.501     -20.984      10.273\n",
      "study[T.ADHD200 - Peking_1]       3.6906      7.500      0.492      0.623     -11.066      18.447\n",
      "study[T.ADHD200 - Peking_2]       3.1056      7.507      0.414      0.679     -11.664      17.875\n",
      "study[T.ADHD200 - Peking_3]      -4.5189      7.243     -0.624      0.533     -18.770       9.733\n",
      "study[T.ADHD200 - Pittsburgh]    -2.8242      8.976     -0.315      0.753     -20.484      14.836\n",
      "Q('striatum')                     0.0025      0.001      3.357      0.001       0.001       0.004\n",
      "==============================================================================\n",
      "Omnibus:                        5.439   Durbin-Watson:                   1.957\n",
      "Prob(Omnibus):                  0.066   Jarque-Bera (JB):                5.328\n",
      "Skew:                          -0.245   Prob(JB):                       0.0697\n",
      "Kurtosis:                       3.372   Cond. No.                     4.60e+05\n",
      "==============================================================================\n",
      "\n",
      "Warnings:\n",
      "[1] Standard Errors assume that the covariance matrix of the errors is correctly specified.\n",
      "[2] The condition number is large, 4.6e+05. This might indicate that there are\n",
      "strong multicollinearity or other numerical problems.\n"
     ]
    }
   ],
   "source": [
    "print(\" Structure = \", 'striatum')\n",
    "\n",
    "iq = 'FIQ'\n",
    "\n",
    "# md = smf.ols(iq + \" ~ Q('volume') + Gender + Age + study \", data=tmp) #  \n",
    "#md = smf.ols(iq + \" ~ Q('striatum') + study + TIV \", data=stria) #  \n",
    "md = smf.ols(iq + \" ~ Q('striatum') + study \", data=stria) #  \n",
    "mdf = md.fit()\n",
    "print(mdf.summary())"
   ]
  },
  {
   "cell_type": "markdown",
   "metadata": {},
   "source": [
    "#### hyp3 note : only correlates when TIV is not covaried out"
   ]
  },
  {
   "cell_type": "code",
   "execution_count": null,
   "metadata": {},
   "outputs": [],
   "source": []
  },
  {
   "cell_type": "markdown",
   "metadata": {},
   "source": [
    "### MAC-3: Left striatum volume (caudate + putamen) will not correlate with IQ in the female children group.\n"
   ]
  },
  {
   "cell_type": "code",
   "execution_count": 20,
   "metadata": {},
   "outputs": [
    {
     "name": "stdout",
     "output_type": "stream",
     "text": [
      "95 95 95\n",
      "['study', 'ID', 'Age', 'dx', 'Gender', 'FIQ', 'PIQ', 'VIQ', 'tool', 'softwareLabel', 'structure', 'laterality', 'caudate', 'putamen', 'striatum', 'TIV'] 95\n"
     ]
    }
   ],
   "source": [
    "hyp4_caud = ['fiq>0','normDev','fs','age<20','caudate','left','female'] # ,'abide']\n",
    "hyp4_put = ['fiq>0','normDev','fs','age<20','putamen','left','female'] # ,'abide']\n",
    "hyp4_tiv = ['fiq>0','normDev','fs','age<20','TIV','female'] # ,'abide']\n",
    "caud = apply_cond(hie, condic, hyp4_caud, dropnaset=dropnaset)\n",
    "caud.rename(columns={'volume':'caudate'},inplace=True)\n",
    "\n",
    "put = apply_cond(hie, condic, hyp4_put, dropnaset=dropnaset)\n",
    "put.rename(columns={'volume':'putamen'},inplace=True)\n",
    "\n",
    "tiv = apply_cond(hie, condic, hyp4_tiv, dropnaset=dropnaset)\n",
    "print(len(caud), len(put), len(tiv))\n",
    "\n",
    "stria = pd.merge(left=caud, right=put[['ID','putamen']], left_on='ID', right_on='ID')\n",
    "stria['striatum'] = stria['caudate']+stria['putamen']\n",
    "stria = pd.merge(left=stria, right=tmp_tiv[['ID','volume']], left_on='ID', right_on='ID')\n",
    "stria.rename(columns={'volume':'TIV'},inplace=True)\n",
    "print(list(stria),len(stria))"
   ]
  },
  {
   "cell_type": "code",
   "execution_count": 21,
   "metadata": {},
   "outputs": [
    {
     "name": "stdout",
     "output_type": "stream",
     "text": [
      " Structure =  striatum\n",
      "                            OLS Regression Results                            \n",
      "==============================================================================\n",
      "Dep. Variable:                    FIQ   R-squared:                       0.233\n",
      "Model:                            OLS   Adj. R-squared:                  0.064\n",
      "Method:                 Least Squares   F-statistic:                     1.378\n",
      "Date:                Wed, 04 Dec 2019   Prob (F-statistic):              0.171\n",
      "Time:                        21:33:01   Log-Likelihood:                -372.72\n",
      "No. Observations:                  95   AIC:                             781.4\n",
      "Df Residuals:                      77   BIC:                             827.4\n",
      "Df Model:                          17                                         \n",
      "Covariance Type:            nonrobust                                         \n",
      "=================================================================================================\n",
      "                                    coef    std err          t      P>|t|      [0.025      0.975]\n",
      "-------------------------------------------------------------------------------------------------\n",
      "Intercept                       103.6574     19.954      5.195      0.000      63.924     143.391\n",
      "study[T.ABIDE Caltech Site]     -15.9554     19.339     -0.825      0.412     -54.464      22.553\n",
      "study[T.ABIDE KKI Site]         -10.8077     14.492     -0.746      0.458     -39.664      18.049\n",
      "study[T.ABIDE NYU Site]         -11.6153     13.984     -0.831      0.409     -39.462      16.231\n",
      "study[T.ABIDE Olin Site]        -13.2670     16.765     -0.791      0.431     -46.650      20.117\n",
      "study[T.ABIDE Pitt Site]        -10.9010     16.825     -0.648      0.519     -44.404      22.602\n",
      "study[T.ABIDE SDSU Site]        -25.3398     14.984     -1.691      0.095     -55.177       4.497\n",
      "study[T.ABIDE Stanford Site]     -8.5996     15.203     -0.566      0.573     -38.872      21.672\n",
      "study[T.ABIDE UCLA_1 Site]      -20.5972     15.271     -1.349      0.181     -51.005       9.811\n",
      "study[T.ABIDE UCLA_2 Site]      -24.3755     16.659     -1.463      0.147     -57.547       8.796\n",
      "study[T.ABIDE UM_1 Site]        -20.8191     14.024     -1.485      0.142     -48.744       7.106\n",
      "study[T.ABIDE UM_2 Site]        -20.9196     19.687     -1.063      0.291     -60.121      18.281\n",
      "study[T.ABIDE Yale Site]        -13.8324     14.426     -0.959      0.341     -42.557      14.893\n",
      "study[T.ADHD200 - NYU]           -8.9809     15.373     -0.584      0.561     -39.592      21.630\n",
      "study[T.ADHD200 - Peking_1]     -11.9175     14.202     -0.839      0.404     -40.198      16.363\n",
      "study[T.ADHD200 - Peking_2]      12.5497     19.250      0.652      0.516     -25.783      50.882\n",
      "study[T.ADHD200 - Pittsburgh]   -39.0873     19.281     -2.027      0.046     -77.480      -0.695\n",
      "Q('striatum')                     0.0025      0.002      1.392      0.168      -0.001       0.006\n",
      "==============================================================================\n",
      "Omnibus:                        3.870   Durbin-Watson:                   2.313\n",
      "Prob(Omnibus):                  0.144   Jarque-Bera (JB):                3.165\n",
      "Skew:                          -0.383   Prob(JB):                        0.205\n",
      "Kurtosis:                       3.463   Cond. No.                     3.64e+05\n",
      "==============================================================================\n",
      "\n",
      "Warnings:\n",
      "[1] Standard Errors assume that the covariance matrix of the errors is correctly specified.\n",
      "[2] The condition number is large, 3.64e+05. This might indicate that there are\n",
      "strong multicollinearity or other numerical problems.\n"
     ]
    }
   ],
   "source": [
    "print(\" Structure = \", 'striatum')\n",
    "\n",
    "iq = 'FIQ'\n",
    "#md = smf.ols(iq + \" ~ Q('striatum') + study + TIV \", data=stria) #  \n",
    "md = smf.ols(iq + \" ~ Q('striatum') + study \", data=stria) #  \n",
    "mdf = md.fit()\n",
    "print(mdf.summary())"
   ]
  },
  {
   "cell_type": "markdown",
   "metadata": {},
   "source": [
    "### GANJ-1: Total Corpus Callosum midsagittal area, after correcting for total brain volume, will negatively correlate with IQ.\n"
   ]
  },
  {
   "cell_type": "code",
   "execution_count": 22,
   "metadata": {},
   "outputs": [
    {
     "data": {
      "text/plain": [
       "dict_keys(['left', 'right', 'latNan', 'age<20', 'age<12', 'age>12', 'fs', 'ants', 'fsl', 'fiq>0', 'normDev', 'adhd', 'bvol', 'brainseg', 'caudate', 'putamen', 'TIV', 'wm', 'gm', 'csf', 'ccant', 'cccen', 'ccpos', 'abide', 'adhd200', 'male', 'female'])"
      ]
     },
     "execution_count": 22,
     "metadata": {},
     "output_type": "execute_result"
    }
   ],
   "source": [
    "condic = define_conditions(hie, tooldic=tooldic, normalDev=normalDev, adhd=adhd, h2ube=h2ube)\n",
    "condic.keys()"
   ]
  },
  {
   "cell_type": "code",
   "execution_count": 23,
   "metadata": {},
   "outputs": [],
   "source": [
    "hyp5_ccant = ['fiq>0','normDev','fs','age<20','ccant'] #\n",
    "hyp5_cccen = ['fiq>0','normDev','fs','age<20','cccen'] #\n",
    "hyp5_ccpos = ['fiq>0','normDev','fs','age<20','ccpos'] #\n",
    "\n",
    "ccant = apply_cond(hie, condic, hyp5_ccant, dropnaset=dropnaset)\n",
    "ccant.rename(columns={'volume':'ccant'},inplace=True)\n",
    "cccen = apply_cond(hie, condic, hyp5_cccen, dropnaset=dropnaset)\n",
    "cccen.rename(columns={'volume':'cccen'},inplace=True)\n",
    "ccpos = apply_cond(hie, condic, hyp5_ccpos, dropnaset=dropnaset)\n",
    "ccpos.rename(columns={'volume':'ccpos'},inplace=True)\n",
    "\n",
    "cc = pd.merge(left=ccant, right=cccen[['ID','cccen']], left_on='ID', right_on='ID')\n",
    "cc = pd.merge(left=cc, right=ccpos[['ID','ccpos']], left_on='ID', right_on='ID')\n",
    "\n",
    "cc['cc'] = cc['ccant']+cc['cccen']+cc['ccpos']\n",
    "#print(list(cc),len(cc))\n",
    "#cc[['ccant','cccen','ccpos','cc']].head(1)"
   ]
  },
  {
   "cell_type": "code",
   "execution_count": 24,
   "metadata": {},
   "outputs": [],
   "source": [
    "hyp5_gm = ['fiq>0','normDev','fs','age<20','gm'] #\n",
    "gm = apply_cond(hie, condic, hyp5_gm, dropnaset=dropnaset, columns={'volume':'gm'})\n",
    "#print(gm[['ID','gm','laterality']].head(2),len(gm))\n",
    "hyp5_wm = ['fiq>0','normDev','fs','age<20','wm','latNan'] #\n",
    "wm = apply_cond(hie, condic, hyp5_wm, dropnaset=dropnaset, columns={'volume':'wm'})\n",
    "#print(wm[['ID','wm','laterality']].head(2),len(wm))\n",
    "hyp5_csf = ['fiq>0','normDev','fs','age<20','csf'] #\n",
    "csf = apply_cond(hie, condic, hyp5_csf, dropnaset=dropnaset, columns={'volume':'csf'})\n",
    "#print(csf[['ID','csf','laterality']].head(2),len(csf))\n"
   ]
  },
  {
   "cell_type": "code",
   "execution_count": 25,
   "metadata": {},
   "outputs": [],
   "source": [
    "tbv = pd.merge(left=gm, right=wm[['ID','wm']], left_on='ID', right_on='ID')\n",
    "tbv = pd.merge(left=tbv, right=csf[['ID','csf']], left_on='ID', right_on='ID')\n",
    "tbv['tbv'] = tbv['wm'] + tbv['gm'] +  tbv['csf']"
   ]
  },
  {
   "cell_type": "code",
   "execution_count": 26,
   "metadata": {},
   "outputs": [],
   "source": [
    "#print(len(tbv))\n",
    "#tbv[['ID','wm','gm','csf','tbv','laterality']].head(3)"
   ]
  },
  {
   "cell_type": "code",
   "execution_count": 27,
   "metadata": {},
   "outputs": [
    {
     "data": {
      "text/plain": [
       "432"
      ]
     },
     "execution_count": 27,
     "metadata": {},
     "output_type": "execute_result"
    }
   ],
   "source": [
    "cc_tbv = pd.merge(left=tbv, right=cc[['ID','cc']], left_on='ID', right_on='ID')\n",
    "len(cc_tbv)"
   ]
  },
  {
   "cell_type": "code",
   "execution_count": 28,
   "metadata": {},
   "outputs": [
    {
     "name": "stdout",
     "output_type": "stream",
     "text": [
      "                            OLS Regression Results                            \n",
      "==============================================================================\n",
      "Dep. Variable:                    FIQ   R-squared:                       0.138\n",
      "Model:                            OLS   Adj. R-squared:                  0.091\n",
      "Method:                 Least Squares   F-statistic:                     2.965\n",
      "Date:                Wed, 04 Dec 2019   Prob (F-statistic):           1.14e-05\n",
      "Time:                        21:33:10   Log-Likelihood:                -1677.8\n",
      "No. Observations:                 432   AIC:                             3402.\n",
      "Df Residuals:                     409   BIC:                             3495.\n",
      "Df Model:                          22                                         \n",
      "Covariance Type:            nonrobust                                         \n",
      "=================================================================================================\n",
      "                                    coef    std err          t      P>|t|      [0.025      0.975]\n",
      "-------------------------------------------------------------------------------------------------\n",
      "Intercept                       102.6838     13.617      7.541      0.000      75.916     129.452\n",
      "study[T.ABIDE Caltech Site]     -13.6675     13.550     -1.009      0.314     -40.304      12.969\n",
      "study[T.ABIDE KKI Site]         -15.1691     12.343     -1.229      0.220     -39.434       9.095\n",
      "study[T.ABIDE MaxMun_d Site]    -18.1227     13.115     -1.382      0.168     -43.904       7.659\n",
      "study[T.ABIDE NYU Site]         -15.1173     12.201     -1.239      0.216     -39.101       8.867\n",
      "study[T.ABIDE OHSU Site]        -12.3896     12.532     -0.989      0.323     -37.025      12.246\n",
      "study[T.ABIDE Olin Site]        -17.7833     12.603     -1.411      0.159     -42.558       6.992\n",
      "study[T.ABIDE Pitt Site]        -20.0794     12.518     -1.604      0.109     -44.687       4.528\n",
      "study[T.ABIDE SDSU Site]        -19.1764     12.419     -1.544      0.123     -43.590       5.237\n",
      "study[T.ABIDE Stanford Site]    -10.0486     12.406     -0.810      0.418     -34.437      14.339\n",
      "study[T.ABIDE Trinity Site]     -16.4726     13.298     -1.239      0.216     -42.614       9.668\n",
      "study[T.ABIDE UCLA_1 Site]      -22.4003     12.311     -1.820      0.070     -46.600       1.800\n",
      "study[T.ABIDE UCLA_2 Site]      -15.8117     12.569     -1.258      0.209     -40.519       8.896\n",
      "study[T.ABIDE UM_1 Site]        -20.1332     12.227     -1.647      0.100     -44.168       3.902\n",
      "study[T.ABIDE UM_2 Site]        -15.8777     12.420     -1.278      0.202     -40.292       8.537\n",
      "study[T.ABIDE Yale Site]        -21.5472     12.324     -1.748      0.081     -45.774       2.680\n",
      "study[T.ADHD200 - NYU]          -13.8001     12.617     -1.094      0.275     -38.603      11.003\n",
      "study[T.ADHD200 - Peking_1]     -10.3874     12.357     -0.841      0.401     -34.678      13.903\n",
      "study[T.ADHD200 - Peking_2]      -7.2812     12.565     -0.579      0.563     -31.982      17.420\n",
      "study[T.ADHD200 - Peking_3]     -15.5191     12.416     -1.250      0.212     -39.925       8.887\n",
      "study[T.ADHD200 - Pittsburgh]   -17.7107     13.275     -1.334      0.183     -43.807       8.385\n",
      "Q('cc')                          -0.0026      0.002     -1.253      0.211      -0.007       0.001\n",
      "tbv                            2.621e-05   6.68e-06      3.922      0.000    1.31e-05    3.93e-05\n",
      "==============================================================================\n",
      "Omnibus:                        4.499   Durbin-Watson:                   1.985\n",
      "Prob(Omnibus):                  0.105   Jarque-Bera (JB):                4.322\n",
      "Skew:                          -0.200   Prob(JB):                        0.115\n",
      "Kurtosis:                       3.282   Cond. No.                     1.13e+08\n",
      "==============================================================================\n",
      "\n",
      "Warnings:\n",
      "[1] Standard Errors assume that the covariance matrix of the errors is correctly specified.\n",
      "[2] The condition number is large, 1.13e+08. This might indicate that there are\n",
      "strong multicollinearity or other numerical problems.\n"
     ]
    }
   ],
   "source": [
    "iq = 'FIQ'\n",
    "# md = smf.ols(iq + \" ~ Q('volume') + Gender + Age + study \", data=tmp) #  \n",
    "#md = smf.ols(iq + \" ~ Q('striatum') + study + TIV \", data=stria) #  \n",
    "md = smf.ols(iq + \" ~ Q('cc') + study + tbv \", data=cc_tbv) #  \n",
    "mdf = md.fit()\n",
    "print(mdf.summary())"
   ]
  },
  {
   "cell_type": "code",
   "execution_count": null,
   "metadata": {},
   "outputs": [],
   "source": []
  },
  {
   "cell_type": "markdown",
   "metadata": {},
   "source": [
    "### GANJ-2: Total Corpus Callosum midsagittal area, after correcting for total brain volume, will negatively correlate with IQ in the young (age < 12) group."
   ]
  },
  {
   "cell_type": "code",
   "execution_count": 29,
   "metadata": {},
   "outputs": [],
   "source": [
    "condic_cc_tbv = define_conditions(cc_tbv, tooldic=tooldic, normalDev=normalDev, adhd=adhd, h2ube=h2ube)"
   ]
  },
  {
   "cell_type": "code",
   "execution_count": 30,
   "metadata": {},
   "outputs": [
    {
     "name": "stdout",
     "output_type": "stream",
     "text": [
      "['study', 'ID', 'Age', 'dx', 'Gender', 'FIQ', 'PIQ', 'VIQ', 'tool', 'softwareLabel', 'structure', 'laterality', 'gm', 'wm', 'csf', 'tbv', 'cc'] 188\n"
     ]
    }
   ],
   "source": [
    "ganj2_cond = ['age<12'] #'fiq>0','normDev','fs','age<20','ccant'] #\n",
    "ganj2 = apply_cond(cc_tbv, condic_cc_tbv, ganj2_cond)\n",
    "print(list(ganj2),len(ganj2))"
   ]
  },
  {
   "cell_type": "code",
   "execution_count": 31,
   "metadata": {},
   "outputs": [
    {
     "name": "stdout",
     "output_type": "stream",
     "text": [
      "                            OLS Regression Results                            \n",
      "==============================================================================\n",
      "Dep. Variable:                    FIQ   R-squared:                       0.169\n",
      "Model:                            OLS   Adj. R-squared:                  0.085\n",
      "Method:                 Least Squares   F-statistic:                     2.027\n",
      "Date:                Wed, 04 Dec 2019   Prob (F-statistic):             0.0122\n",
      "Time:                        21:33:15   Log-Likelihood:                -728.56\n",
      "No. Observations:                 188   AIC:                             1493.\n",
      "Df Residuals:                     170   BIC:                             1551.\n",
      "Df Model:                          17                                         \n",
      "Covariance Type:            nonrobust                                         \n",
      "================================================================================================\n",
      "                                   coef    std err          t      P>|t|      [0.025      0.975]\n",
      "------------------------------------------------------------------------------------------------\n",
      "Intercept                       99.1916     11.818      8.393      0.000      75.863     122.520\n",
      "study[T.ABIDE MaxMun_d Site]    -1.5812      6.567     -0.241      0.810     -14.545      11.383\n",
      "study[T.ABIDE NYU Site]          0.9302      3.234      0.288      0.774      -5.455       7.315\n",
      "study[T.ABIDE OHSU Site]         2.3345      3.934      0.593      0.554      -5.431      10.100\n",
      "study[T.ABIDE Olin Site]        19.5681     12.824      1.526      0.129      -5.746      44.882\n",
      "study[T.ABIDE Pitt Site]       -10.4650      9.137     -1.145      0.254     -28.502       7.572\n",
      "study[T.ABIDE SDSU Site]         0.3376     12.534      0.027      0.979     -24.405      25.080\n",
      "study[T.ABIDE Stanford Site]     2.9946      4.399      0.681      0.497      -5.690      11.679\n",
      "study[T.ABIDE UCLA_1 Site]      -3.4001      4.510     -0.754      0.452     -12.303       5.503\n",
      "study[T.ABIDE UCLA_2 Site]       0.8961      6.032      0.149      0.882     -11.010      12.802\n",
      "study[T.ABIDE UM_1 Site]        -6.6302      3.775     -1.756      0.081     -14.082       0.822\n",
      "study[T.ABIDE Yale Site]        -5.5958      4.390     -1.275      0.204     -14.261       3.069\n",
      "study[T.ADHD200 - NYU]           7.1656      5.220      1.373      0.172      -3.138      17.470\n",
      "study[T.ADHD200 - Peking_1]      4.8520      3.381      1.435      0.153      -1.823      11.527\n",
      "study[T.ADHD200 - Peking_2]      9.5457      4.666      2.046      0.042       0.334      18.757\n",
      "study[T.ADHD200 - Peking_3]    -12.4998      9.143     -1.367      0.173     -30.548       5.549\n",
      "Q('cc')                         -0.0055      0.004     -1.425      0.156      -0.013       0.002\n",
      "tbv                           2.234e-05   1.09e-05      2.042      0.043    7.46e-07    4.39e-05\n",
      "==============================================================================\n",
      "Omnibus:                        4.753   Durbin-Watson:                   2.012\n",
      "Prob(Omnibus):                  0.093   Jarque-Bera (JB):                4.707\n",
      "Skew:                          -0.258   Prob(JB):                       0.0950\n",
      "Kurtosis:                       3.578   Cond. No.                     1.82e+07\n",
      "==============================================================================\n",
      "\n",
      "Warnings:\n",
      "[1] Standard Errors assume that the covariance matrix of the errors is correctly specified.\n",
      "[2] The condition number is large, 1.82e+07. This might indicate that there are\n",
      "strong multicollinearity or other numerical problems.\n"
     ]
    }
   ],
   "source": [
    "iq = 'FIQ'\n",
    "# md = smf.ols(iq + \" ~ Q('volume') + Gender + Age + study \", data=tmp) #  \n",
    "#md = smf.ols(iq + \" ~ Q('striatum') + study + TIV \", data=stria) #  \n",
    "md = smf.ols(iq + \" ~ Q('cc') + study + tbv \", data=ganj2) #  \n",
    "mdf = md.fit()\n",
    "print(mdf.summary())"
   ]
  },
  {
   "cell_type": "markdown",
   "metadata": {},
   "source": [
    "### GANJ-3: Total Corpus Callosum midsagittal area, after correcting for total brain volume, will not significantly correlate with IQ in the adolescent (age > 12) group.\n"
   ]
  },
  {
   "cell_type": "code",
   "execution_count": 32,
   "metadata": {},
   "outputs": [],
   "source": []
  },
  {
   "cell_type": "code",
   "execution_count": 34,
   "metadata": {},
   "outputs": [
    {
     "name": "stdout",
     "output_type": "stream",
     "text": [
      "['study', 'ID', 'Age', 'dx', 'Gender', 'FIQ', 'PIQ', 'VIQ', 'tool', 'softwareLabel', 'structure', 'laterality', 'gm', 'wm', 'csf', 'tbv', 'cc'] 188\n"
     ]
    }
   ],
   "source": [
    "condic_cc_tbv = define_conditions(cc_tbv, tooldic=tooldic, normalDev=normalDev, adhd=adhd, h2ube=h2ube)\n",
    "ganj3_cond = ['age>12'] #'fiq>0','normDev','fs','age<20','ccant'] #\n",
    "ganj3 = apply_cond(cc_tbv, condic_cc_tbv, ganj3_cond)\n",
    "print(list(ganj2),len(ganj2))"
   ]
  },
  {
   "cell_type": "code",
   "execution_count": 35,
   "metadata": {},
   "outputs": [
    {
     "name": "stdout",
     "output_type": "stream",
     "text": [
      "                            OLS Regression Results                            \n",
      "==============================================================================\n",
      "Dep. Variable:                    FIQ   R-squared:                       0.169\n",
      "Model:                            OLS   Adj. R-squared:                  0.085\n",
      "Method:                 Least Squares   F-statistic:                     2.027\n",
      "Date:                Wed, 04 Dec 2019   Prob (F-statistic):             0.0122\n",
      "Time:                        21:34:39   Log-Likelihood:                -728.56\n",
      "No. Observations:                 188   AIC:                             1493.\n",
      "Df Residuals:                     170   BIC:                             1551.\n",
      "Df Model:                          17                                         \n",
      "Covariance Type:            nonrobust                                         \n",
      "================================================================================================\n",
      "                                   coef    std err          t      P>|t|      [0.025      0.975]\n",
      "------------------------------------------------------------------------------------------------\n",
      "Intercept                       99.1916     11.818      8.393      0.000      75.863     122.520\n",
      "study[T.ABIDE MaxMun_d Site]    -1.5812      6.567     -0.241      0.810     -14.545      11.383\n",
      "study[T.ABIDE NYU Site]          0.9302      3.234      0.288      0.774      -5.455       7.315\n",
      "study[T.ABIDE OHSU Site]         2.3345      3.934      0.593      0.554      -5.431      10.100\n",
      "study[T.ABIDE Olin Site]        19.5681     12.824      1.526      0.129      -5.746      44.882\n",
      "study[T.ABIDE Pitt Site]       -10.4650      9.137     -1.145      0.254     -28.502       7.572\n",
      "study[T.ABIDE SDSU Site]         0.3376     12.534      0.027      0.979     -24.405      25.080\n",
      "study[T.ABIDE Stanford Site]     2.9946      4.399      0.681      0.497      -5.690      11.679\n",
      "study[T.ABIDE UCLA_1 Site]      -3.4001      4.510     -0.754      0.452     -12.303       5.503\n",
      "study[T.ABIDE UCLA_2 Site]       0.8961      6.032      0.149      0.882     -11.010      12.802\n",
      "study[T.ABIDE UM_1 Site]        -6.6302      3.775     -1.756      0.081     -14.082       0.822\n",
      "study[T.ABIDE Yale Site]        -5.5958      4.390     -1.275      0.204     -14.261       3.069\n",
      "study[T.ADHD200 - NYU]           7.1656      5.220      1.373      0.172      -3.138      17.470\n",
      "study[T.ADHD200 - Peking_1]      4.8520      3.381      1.435      0.153      -1.823      11.527\n",
      "study[T.ADHD200 - Peking_2]      9.5457      4.666      2.046      0.042       0.334      18.757\n",
      "study[T.ADHD200 - Peking_3]    -12.4998      9.143     -1.367      0.173     -30.548       5.549\n",
      "Q('cc')                         -0.0055      0.004     -1.425      0.156      -0.013       0.002\n",
      "tbv                           2.234e-05   1.09e-05      2.042      0.043    7.46e-07    4.39e-05\n",
      "==============================================================================\n",
      "Omnibus:                        4.753   Durbin-Watson:                   2.012\n",
      "Prob(Omnibus):                  0.093   Jarque-Bera (JB):                4.707\n",
      "Skew:                          -0.258   Prob(JB):                       0.0950\n",
      "Kurtosis:                       3.578   Cond. No.                     1.82e+07\n",
      "==============================================================================\n",
      "\n",
      "Warnings:\n",
      "[1] Standard Errors assume that the covariance matrix of the errors is correctly specified.\n",
      "[2] The condition number is large, 1.82e+07. This might indicate that there are\n",
      "strong multicollinearity or other numerical problems.\n"
     ]
    }
   ],
   "source": [
    "iq = 'FIQ'\n",
    "# md = smf.ols(iq + \" ~ Q('volume') + Gender + Age + study \", data=tmp) #  \n",
    "#md = smf.ols(iq + \" ~ Q('striatum') + study + TIV \", data=stria) #  \n",
    "md = smf.ols(iq + \" ~ Q('cc') + study + tbv \", data=ganj2) #  \n",
    "mdf = md.fit()\n",
    "print(mdf.summary())"
   ]
  },
  {
   "cell_type": "code",
   "execution_count": null,
   "metadata": {},
   "outputs": [],
   "source": []
  }
 ],
 "metadata": {
  "kernelspec": {
   "display_name": "Python 3",
   "language": "python",
   "name": "python3"
  },
  "language_info": {
   "codemirror_mode": {
    "name": "ipython",
    "version": 3
   },
   "file_extension": ".py",
   "mimetype": "text/x-python",
   "name": "python",
   "nbconvert_exporter": "python",
   "pygments_lexer": "ipython3",
   "version": "3.6.8"
  },
  "toc": {
   "nav_menu": {},
   "number_sections": true,
   "sideBar": true,
   "skip_h1_title": false,
   "toc_cell": false,
   "toc_position": {},
   "toc_section_display": "block",
   "toc_window_display": false
  }
 },
 "nbformat": 4,
 "nbformat_minor": 2
}
